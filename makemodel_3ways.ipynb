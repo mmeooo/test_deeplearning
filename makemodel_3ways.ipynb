{
  "nbformat": 4,
  "nbformat_minor": 0,
  "metadata": {
    "colab": {
      "name": "makemodel_3ways.ipynb",
      "provenance": [],
      "collapsed_sections": [],
      "authorship_tag": "ABX9TyNFPC2u1IBBKH25ALWDWt+U"
    },
    "kernelspec": {
      "name": "python3",
      "display_name": "Python 3"
    },
    "language_info": {
      "name": "python"
    }
  },
  "cells": [
    {
      "cell_type": "markdown",
      "metadata": {
        "id": "U_ZuKkq0XEjx"
      },
      "source": [
        "## Funcion API"
      ]
    },
    {
      "cell_type": "code",
      "metadata": {
        "id": "hAlv9is8WzFu"
      },
      "source": [
        "import tensorflow as tf"
      ],
      "execution_count": 1,
      "outputs": []
    },
    {
      "cell_type": "code",
      "metadata": {
        "id": "5qtnULg2XLyT"
      },
      "source": [
        "inputs = tf.keras.Input(shape=(2,))"
      ],
      "execution_count": 4,
      "outputs": []
    },
    {
      "cell_type": "code",
      "metadata": {
        "id": "WksBFXr6X9k6"
      },
      "source": [
        "hidden = tf.keras.layers.Dense(2, activation='sigmoid')(inputs)"
      ],
      "execution_count": 5,
      "outputs": []
    },
    {
      "cell_type": "code",
      "metadata": {
        "id": "Rowk5TSPYm-r"
      },
      "source": [
        "outputs = tf.keras.layers.Dense(1, activation='sigmoid')(hidden)"
      ],
      "execution_count": 6,
      "outputs": []
    },
    {
      "cell_type": "code",
      "metadata": {
        "id": "Uk_sLCZ8ZSKh"
      },
      "source": [
        "model = tf.keras.models.Model(inputs=inputs, outputs=outputs)"
      ],
      "execution_count": 7,
      "outputs": []
    },
    {
      "cell_type": "code",
      "metadata": {
        "colab": {
          "base_uri": "https://localhost:8080/",
          "height": 272
        },
        "id": "K5gXYWS2Zbrq",
        "outputId": "9dc6496a-771f-4cc3-a405-3b7e751508e4"
      },
      "source": [
        "tf.keras.utils.plot_model(model)"
      ],
      "execution_count": 8,
      "outputs": [
        {
          "output_type": "execute_result",
          "data": {
            "image/png": "[encoded data removed]",
            "text/plain": [
              "<IPython.core.display.Image object>"
            ]
          },
          "metadata": {},
          "execution_count": 8
        }
      ]
    },
    {
      "cell_type": "code",
      "metadata": {
        "id": "TOIDeQZqZgh6"
      },
      "source": [
        ""
      ],
      "execution_count": null,
      "outputs": []
    }
  ]
}