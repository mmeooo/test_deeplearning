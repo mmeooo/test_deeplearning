{
  "nbformat": 4,
  "nbformat_minor": 0,
  "metadata": {
    "colab": {
      "name": "navershopping_LSTM.ipynb",
      "provenance": [],
      "collapsed_sections": [],
      "authorship_tag": "ABX9TyOW8C3sn8hsm+ZOPaw6MpBk"
    },
    "kernelspec": {
      "name": "python3",
      "display_name": "Python 3"
    },
    "language_info": {
      "name": "python"
    }
  },
  "cells": [
    {
      "cell_type": "code",
      "metadata": {
        "colab": {
          "base_uri": "https://localhost:8080/"
        },
        "id": "8LkGWOqqzMtT",
        "outputId": "b90115ee-cda7-4859-ab4f-e3138fd5e436"
      },
      "source": [
        "!python -m pip install konlpy"
      ],
      "execution_count": 1,
      "outputs": [
        {
          "output_type": "stream",
          "text": [
            "Collecting konlpy\n",
            "  Downloading konlpy-0.5.2-py2.py3-none-any.whl (19.4 MB)\n",
            "\u001b[K     |████████████████████████████████| 19.4 MB 1.3 MB/s \n",
            "\u001b[?25hCollecting beautifulsoup4==4.6.0\n",
            "  Downloading beautifulsoup4-4.6.0-py3-none-any.whl (86 kB)\n",
            "\u001b[K     |████████████████████████████████| 86 kB 3.7 MB/s \n",
            "\u001b[?25hCollecting JPype1>=0.7.0\n",
            "  Downloading JPype1-1.3.0-cp37-cp37m-manylinux_2_5_x86_64.manylinux1_x86_64.whl (448 kB)\n",
            "\u001b[K     |████████████████████████████████| 448 kB 70.8 MB/s \n",
            "\u001b[?25hRequirement already satisfied: numpy>=1.6 in /usr/local/lib/python3.7/dist-packages (from konlpy) (1.19.5)\n",
            "Collecting colorama\n",
            "  Downloading colorama-0.4.4-py2.py3-none-any.whl (16 kB)\n",
            "Requirement already satisfied: tweepy>=3.7.0 in /usr/local/lib/python3.7/dist-packages (from konlpy) (3.10.0)\n",
            "Requirement already satisfied: lxml>=4.1.0 in /usr/local/lib/python3.7/dist-packages (from konlpy) (4.2.6)\n",
            "Requirement already satisfied: typing-extensions in /usr/local/lib/python3.7/dist-packages (from JPype1>=0.7.0->konlpy) (3.7.4.3)\n",
            "Requirement already satisfied: requests[socks]>=2.11.1 in /usr/local/lib/python3.7/dist-packages (from tweepy>=3.7.0->konlpy) (2.23.0)\n",
            "Requirement already satisfied: six>=1.10.0 in /usr/local/lib/python3.7/dist-packages (from tweepy>=3.7.0->konlpy) (1.15.0)\n",
            "Requirement already satisfied: requests-oauthlib>=0.7.0 in /usr/local/lib/python3.7/dist-packages (from tweepy>=3.7.0->konlpy) (1.3.0)\n",
            "Requirement already satisfied: oauthlib>=3.0.0 in /usr/local/lib/python3.7/dist-packages (from requests-oauthlib>=0.7.0->tweepy>=3.7.0->konlpy) (3.1.1)\n",
            "Requirement already satisfied: certifi>=2017.4.17 in /usr/local/lib/python3.7/dist-packages (from requests[socks]>=2.11.1->tweepy>=3.7.0->konlpy) (2021.5.30)\n",
            "Requirement already satisfied: chardet<4,>=3.0.2 in /usr/local/lib/python3.7/dist-packages (from requests[socks]>=2.11.1->tweepy>=3.7.0->konlpy) (3.0.4)\n",
            "Requirement already satisfied: urllib3!=1.25.0,!=1.25.1,<1.26,>=1.21.1 in /usr/local/lib/python3.7/dist-packages (from requests[socks]>=2.11.1->tweepy>=3.7.0->konlpy) (1.24.3)\n",
            "Requirement already satisfied: idna<3,>=2.5 in /usr/local/lib/python3.7/dist-packages (from requests[socks]>=2.11.1->tweepy>=3.7.0->konlpy) (2.10)\n",
            "Requirement already satisfied: PySocks!=1.5.7,>=1.5.6 in /usr/local/lib/python3.7/dist-packages (from requests[socks]>=2.11.1->tweepy>=3.7.0->konlpy) (1.7.1)\n",
            "Installing collected packages: JPype1, colorama, beautifulsoup4, konlpy\n",
            "  Attempting uninstall: beautifulsoup4\n",
            "    Found existing installation: beautifulsoup4 4.6.3\n",
            "    Uninstalling beautifulsoup4-4.6.3:\n",
            "      Successfully uninstalled beautifulsoup4-4.6.3\n",
            "Successfully installed JPype1-1.3.0 beautifulsoup4-4.6.0 colorama-0.4.4 konlpy-0.5.2\n"
          ],
          "name": "stdout"
        }
      ]
    },
    {
      "cell_type": "code",
      "metadata": {
        "colab": {
          "base_uri": "https://localhost:8080/"
        },
        "id": "qGq3flE0zWJe",
        "outputId": "5952e2b1-e8cf-4403-a3f1-743dfca5ec30"
      },
      "source": [
        "!curl -O https://raw.githubusercontent.com/konlpy/konlpy/master/scripts/mecab.sh"
      ],
      "execution_count": 2,
      "outputs": [
        {
          "output_type": "stream",
          "text": [
            "  % Total    % Received % Xferd  Average Speed   Time    Time     Time  Current\n",
            "                                 Dload  Upload   Total   Spent    Left  Speed\n",
            "\r  0     0    0     0    0     0      0      0 --:--:-- --:--:-- --:--:--     0\r100  5064  100  5064    0     0  54451      0 --:--:-- --:--:-- --:--:-- 54451\n"
          ],
          "name": "stdout"
        }
      ]
    },
    {
      "cell_type": "code",
      "metadata": {
        "colab": {
          "base_uri": "https://localhost:8080/"
        },
        "id": "lfT7-ydRzcCr",
        "outputId": "46784302-b4ba-468d-8ce4-9d8874cf9abf"
      },
      "source": [
        "!bash ./mecab.sh"
      ],
      "execution_count": 3,
      "outputs": [
        {
          "output_type": "stream",
          "text": [
            "Installing automake (A dependency for mecab-ko)\n",
            "Get:1 http://security.ubuntu.com/ubuntu bionic-security InRelease [88.7 kB]\n",
            "Get:2 https://cloud.r-project.org/bin/linux/ubuntu bionic-cran40/ InRelease [3,626 B]\n",
            "Ign:3 https://developer.download.nvidia.com/compute/cuda/repos/ubuntu1804/x86_64  InRelease\n",
            "Get:4 http://ppa.launchpad.net/c2d4u.team/c2d4u4.0+/ubuntu bionic InRelease [15.9 kB]\n",
            "Hit:5 http://archive.ubuntu.com/ubuntu bionic InRelease\n",
            "Ign:6 https://developer.download.nvidia.com/compute/machine-learning/repos/ubuntu1804/x86_64  InRelease\n",
            "Get:7 https://developer.download.nvidia.com/compute/cuda/repos/ubuntu1804/x86_64  Release [697 B]\n",
            "Hit:8 https://developer.download.nvidia.com/compute/machine-learning/repos/ubuntu1804/x86_64  Release\n",
            "Get:9 https://developer.download.nvidia.com/compute/cuda/repos/ubuntu1804/x86_64  Release.gpg [836 B]\n",
            "Get:10 http://archive.ubuntu.com/ubuntu bionic-updates InRelease [88.7 kB]\n",
            "Get:11 https://cloud.r-project.org/bin/linux/ubuntu bionic-cran40/ Packages [62.9 kB]\n",
            "Get:12 http://security.ubuntu.com/ubuntu bionic-security/multiverse amd64 Packages [26.7 kB]\n",
            "Hit:13 http://ppa.launchpad.net/cran/libgit2/ubuntu bionic InRelease\n",
            "Get:14 http://security.ubuntu.com/ubuntu bionic-security/universe amd64 Packages [1,420 kB]\n",
            "Get:15 http://archive.ubuntu.com/ubuntu bionic-backports InRelease [74.6 kB]\n",
            "Get:16 http://ppa.launchpad.net/deadsnakes/ppa/ubuntu bionic InRelease [15.9 kB]\n",
            "Get:18 http://security.ubuntu.com/ubuntu bionic-security/main amd64 Packages [2,263 kB]\n",
            "Get:19 http://ppa.launchpad.net/graphics-drivers/ppa/ubuntu bionic InRelease [21.3 kB]\n",
            "Ign:20 https://developer.download.nvidia.com/compute/cuda/repos/ubuntu1804/x86_64  Packages\n",
            "Get:20 https://developer.download.nvidia.com/compute/cuda/repos/ubuntu1804/x86_64  Packages [695 kB]\n",
            "Get:21 http://security.ubuntu.com/ubuntu bionic-security/restricted amd64 Packages [510 kB]\n",
            "Get:22 http://ppa.launchpad.net/c2d4u.team/c2d4u4.0+/ubuntu bionic/main Sources [1,786 kB]\n",
            "Get:23 http://archive.ubuntu.com/ubuntu bionic-updates/main amd64 Packages [2,699 kB]\n",
            "Get:24 http://archive.ubuntu.com/ubuntu bionic-updates/multiverse amd64 Packages [39.4 kB]\n",
            "Get:25 http://archive.ubuntu.com/ubuntu bionic-updates/universe amd64 Packages [2,195 kB]\n",
            "Get:26 http://ppa.launchpad.net/c2d4u.team/c2d4u4.0+/ubuntu bionic/main amd64 Packages [914 kB]\n",
            "Get:27 http://archive.ubuntu.com/ubuntu bionic-updates/restricted amd64 Packages [544 kB]\n",
            "Get:28 http://ppa.launchpad.net/deadsnakes/ppa/ubuntu bionic/main amd64 Packages [40.9 kB]\n",
            "Get:29 http://ppa.launchpad.net/graphics-drivers/ppa/ubuntu bionic/main amd64 Packages [44.1 kB]\n",
            "Fetched 13.6 MB in 3s (4,577 kB/s)\n",
            "Reading package lists... Done\n",
            "Reading package lists... Done\n",
            "Building dependency tree       \n",
            "Reading state information... Done\n",
            "The following additional packages will be installed:\n",
            "  autoconf autotools-dev libsigsegv2 m4\n",
            "Suggested packages:\n",
            "  autoconf-archive gnu-standards autoconf-doc libtool gettext m4-doc\n",
            "The following NEW packages will be installed:\n",
            "  autoconf automake autotools-dev libsigsegv2 m4\n",
            "0 upgraded, 5 newly installed, 0 to remove and 100 not upgraded.\n",
            "Need to get 1,082 kB of archives.\n",
            "After this operation, 3,994 kB of additional disk space will be used.\n",
            "Get:1 http://archive.ubuntu.com/ubuntu bionic/main amd64 libsigsegv2 amd64 2.12-1 [14.7 kB]\n",
            "Get:2 http://archive.ubuntu.com/ubuntu bionic/main amd64 m4 amd64 1.4.18-1 [197 kB]\n",
            "Get:3 http://archive.ubuntu.com/ubuntu bionic/main amd64 autoconf all 2.69-11 [322 kB]\n",
            "Get:4 http://archive.ubuntu.com/ubuntu bionic/main amd64 autotools-dev all 20180224.1 [39.6 kB]\n",
            "Get:5 http://archive.ubuntu.com/ubuntu bionic/main amd64 automake all 1:1.15.1-3ubuntu2 [509 kB]\n",
            "Fetched 1,082 kB in 1s (1,360 kB/s)\n",
            "debconf: unable to initialize frontend: Dialog\n",
            "debconf: (No usable dialog-like program is installed, so the dialog based frontend cannot be used. at /usr/share/perl5/Debconf/FrontEnd/Dialog.pm line 76, <> line 5.)\n",
            "debconf: falling back to frontend: Readline\n",
            "debconf: unable to initialize frontend: Readline\n",
            "debconf: (This frontend requires a controlling tty.)\n",
            "debconf: falling back to frontend: Teletype\n",
            "dpkg-preconfigure: unable to re-open stdin: \n",
            "Selecting previously unselected package libsigsegv2:amd64.\n",
            "(Reading database ... 160837 files and directories currently installed.)\n",
            "Preparing to unpack .../libsigsegv2_2.12-1_amd64.deb ...\n",
            "Unpacking libsigsegv2:amd64 (2.12-1) ...\n",
            "Selecting previously unselected package m4.\n",
            "Preparing to unpack .../archives/m4_1.4.18-1_amd64.deb ...\n",
            "Unpacking m4 (1.4.18-1) ...\n",
            "Selecting previously unselected package autoconf.\n",
            "Preparing to unpack .../autoconf_2.69-11_all.deb ...\n",
            "Unpacking autoconf (2.69-11) ...\n",
            "Selecting previously unselected package autotools-dev.\n",
            "Preparing to unpack .../autotools-dev_20180224.1_all.deb ...\n",
            "Unpacking autotools-dev (20180224.1) ...\n",
            "Selecting previously unselected package automake.\n",
            "Preparing to unpack .../automake_1%3a1.15.1-3ubuntu2_all.deb ...\n",
            "Unpacking automake (1:1.15.1-3ubuntu2) ...\n",
            "Setting up libsigsegv2:amd64 (2.12-1) ...\n",
            "Setting up m4 (1.4.18-1) ...\n",
            "Setting up autotools-dev (20180224.1) ...\n",
            "Setting up autoconf (2.69-11) ...\n",
            "Setting up automake (1:1.15.1-3ubuntu2) ...\n",
            "update-alternatives: using /usr/bin/automake-1.15 to provide /usr/bin/automake (automake) in auto mode\n",
            "Processing triggers for libc-bin (2.27-3ubuntu1.2) ...\n",
            "/sbin/ldconfig.real: /usr/local/lib/python3.7/dist-packages/ideep4py/lib/libmkldnn.so.0 is not a symbolic link\n",
            "\n",
            "Processing triggers for man-db (2.8.3-2ubuntu0.1) ...\n",
            "Install mecab-ko-dic\n",
            "  % Total    % Received % Xferd  Average Speed   Time    Time     Time  Current\n",
            "                                 Dload  Upload   Total   Spent    Left  Speed\n",
            "  0     0    0     0    0     0      0      0 --:--:-- --:--:-- --:--:--     0\n",
            "100 1381k  100 1381k    0     0  6309k      0 --:--:-- --:--:-- --:--:-- 6309k\n",
            "mecab-0.996-ko-0.9.2/\n",
            "mecab-0.996-ko-0.9.2/example/\n",
            "mecab-0.996-ko-0.9.2/example/example.cpp\n",
            "mecab-0.996-ko-0.9.2/example/example_lattice.cpp\n",
            "mecab-0.996-ko-0.9.2/example/example_lattice.c\n",
            "mecab-0.996-ko-0.9.2/example/example.c\n",
            "mecab-0.996-ko-0.9.2/example/thread_test.cpp\n",
            "mecab-0.996-ko-0.9.2/mecab-config.in\n",
            "mecab-0.996-ko-0.9.2/man/\n",
            "mecab-0.996-ko-0.9.2/man/Makefile.am\n",
            "mecab-0.996-ko-0.9.2/man/mecab.1\n",
            "mecab-0.996-ko-0.9.2/man/Makefile.in\n",
            "mecab-0.996-ko-0.9.2/mecab.iss.in\n",
            "mecab-0.996-ko-0.9.2/config.guess\n",
            "mecab-0.996-ko-0.9.2/README\n",
            "mecab-0.996-ko-0.9.2/COPYING\n",
            "mecab-0.996-ko-0.9.2/CHANGES.md\n",
            "mecab-0.996-ko-0.9.2/README.md\n",
            "mecab-0.996-ko-0.9.2/INSTALL\n",
            "mecab-0.996-ko-0.9.2/config.sub\n",
            "mecab-0.996-ko-0.9.2/configure.in\n",
            "mecab-0.996-ko-0.9.2/swig/\n",
            "mecab-0.996-ko-0.9.2/swig/Makefile\n",
            "mecab-0.996-ko-0.9.2/swig/version.h.in\n",
            "mecab-0.996-ko-0.9.2/swig/version.h\n",
            "mecab-0.996-ko-0.9.2/swig/MeCab.i\n",
            "mecab-0.996-ko-0.9.2/aclocal.m4\n",
            "mecab-0.996-ko-0.9.2/LGPL\n",
            "mecab-0.996-ko-0.9.2/Makefile.am\n",
            "mecab-0.996-ko-0.9.2/configure\n",
            "mecab-0.996-ko-0.9.2/tests/\n",
            "mecab-0.996-ko-0.9.2/tests/autolink/\n",
            "mecab-0.996-ko-0.9.2/tests/autolink/unk.def\n",
            "mecab-0.996-ko-0.9.2/tests/autolink/dicrc\n",
            "mecab-0.996-ko-0.9.2/tests/autolink/dic.csv\n",
            "mecab-0.996-ko-0.9.2/tests/autolink/test\n",
            "mecab-0.996-ko-0.9.2/tests/autolink/char.def\n",
            "mecab-0.996-ko-0.9.2/tests/autolink/matrix.def\n",
            "mecab-0.996-ko-0.9.2/tests/autolink/test.gld\n",
            "mecab-0.996-ko-0.9.2/tests/t9/\n",
            "mecab-0.996-ko-0.9.2/tests/t9/unk.def\n",
            "mecab-0.996-ko-0.9.2/tests/t9/ipadic.pl\n",
            "mecab-0.996-ko-0.9.2/tests/t9/dicrc\n",
            "mecab-0.996-ko-0.9.2/tests/t9/dic.csv\n",
            "mecab-0.996-ko-0.9.2/tests/t9/test\n",
            "mecab-0.996-ko-0.9.2/tests/t9/char.def\n",
            "mecab-0.996-ko-0.9.2/tests/t9/matrix.def\n",
            "mecab-0.996-ko-0.9.2/tests/t9/mkdic.pl\n",
            "mecab-0.996-ko-0.9.2/tests/t9/test.gld\n",
            "mecab-0.996-ko-0.9.2/tests/cost-train/\n",
            "mecab-0.996-ko-0.9.2/tests/cost-train/ipa.train\n",
            "mecab-0.996-ko-0.9.2/tests/cost-train/ipa.test\n",
            "mecab-0.996-ko-0.9.2/tests/cost-train/seed/\n",
            "mecab-0.996-ko-0.9.2/tests/cost-train/seed/rewrite.def\n",
            "mecab-0.996-ko-0.9.2/tests/cost-train/seed/feature.def\n",
            "mecab-0.996-ko-0.9.2/tests/cost-train/seed/unk.def\n",
            "mecab-0.996-ko-0.9.2/tests/cost-train/seed/dicrc\n",
            "mecab-0.996-ko-0.9.2/tests/cost-train/seed/dic.csv\n",
            "mecab-0.996-ko-0.9.2/tests/cost-train/seed/char.def\n",
            "mecab-0.996-ko-0.9.2/tests/cost-train/seed/matrix.def\n",
            "mecab-0.996-ko-0.9.2/tests/run-eval.sh\n",
            "mecab-0.996-ko-0.9.2/tests/run-cost-train.sh\n",
            "mecab-0.996-ko-0.9.2/tests/Makefile.am\n",
            "mecab-0.996-ko-0.9.2/tests/katakana/\n",
            "mecab-0.996-ko-0.9.2/tests/katakana/unk.def\n",
            "mecab-0.996-ko-0.9.2/tests/katakana/dicrc\n",
            "mecab-0.996-ko-0.9.2/tests/katakana/dic.csv\n",
            "mecab-0.996-ko-0.9.2/tests/katakana/test\n",
            "mecab-0.996-ko-0.9.2/tests/katakana/char.def\n",
            "mecab-0.996-ko-0.9.2/tests/katakana/matrix.def\n",
            "mecab-0.996-ko-0.9.2/tests/katakana/test.gld\n",
            "mecab-0.996-ko-0.9.2/tests/eval/\n",
            "mecab-0.996-ko-0.9.2/tests/eval/answer\n",
            "mecab-0.996-ko-0.9.2/tests/eval/system\n",
            "mecab-0.996-ko-0.9.2/tests/eval/test.gld\n",
            "mecab-0.996-ko-0.9.2/tests/shiin/\n",
            "mecab-0.996-ko-0.9.2/tests/shiin/unk.def\n",
            "mecab-0.996-ko-0.9.2/tests/shiin/dicrc\n",
            "mecab-0.996-ko-0.9.2/tests/shiin/dic.csv\n",
            "mecab-0.996-ko-0.9.2/tests/shiin/test\n",
            "mecab-0.996-ko-0.9.2/tests/shiin/char.def\n",
            "mecab-0.996-ko-0.9.2/tests/shiin/matrix.def\n",
            "mecab-0.996-ko-0.9.2/tests/shiin/mkdic.pl\n",
            "mecab-0.996-ko-0.9.2/tests/shiin/test.gld\n",
            "mecab-0.996-ko-0.9.2/tests/latin/\n",
            "mecab-0.996-ko-0.9.2/tests/latin/unk.def\n",
            "mecab-0.996-ko-0.9.2/tests/latin/dicrc\n",
            "mecab-0.996-ko-0.9.2/tests/latin/dic.csv\n",
            "mecab-0.996-ko-0.9.2/tests/latin/test\n",
            "mecab-0.996-ko-0.9.2/tests/latin/char.def\n",
            "mecab-0.996-ko-0.9.2/tests/latin/matrix.def\n",
            "mecab-0.996-ko-0.9.2/tests/latin/test.gld\n",
            "mecab-0.996-ko-0.9.2/tests/chartype/\n",
            "mecab-0.996-ko-0.9.2/tests/chartype/unk.def\n",
            "mecab-0.996-ko-0.9.2/tests/chartype/dicrc\n",
            "mecab-0.996-ko-0.9.2/tests/chartype/dic.csv\n",
            "mecab-0.996-ko-0.9.2/tests/chartype/test\n",
            "mecab-0.996-ko-0.9.2/tests/chartype/char.def\n",
            "mecab-0.996-ko-0.9.2/tests/chartype/matrix.def\n",
            "mecab-0.996-ko-0.9.2/tests/chartype/test.gld\n",
            "mecab-0.996-ko-0.9.2/tests/run-dics.sh\n",
            "mecab-0.996-ko-0.9.2/tests/ngram/\n",
            "mecab-0.996-ko-0.9.2/tests/ngram/unk.def\n",
            "mecab-0.996-ko-0.9.2/tests/ngram/dicrc\n",
            "mecab-0.996-ko-0.9.2/tests/ngram/dic.csv\n",
            "mecab-0.996-ko-0.9.2/tests/ngram/test\n",
            "mecab-0.996-ko-0.9.2/tests/ngram/char.def\n",
            "mecab-0.996-ko-0.9.2/tests/ngram/matrix.def\n",
            "mecab-0.996-ko-0.9.2/tests/ngram/test.gld\n",
            "mecab-0.996-ko-0.9.2/tests/Makefile.in\n",
            "mecab-0.996-ko-0.9.2/ltmain.sh\n",
            "mecab-0.996-ko-0.9.2/config.rpath\n",
            "mecab-0.996-ko-0.9.2/config.h.in\n",
            "mecab-0.996-ko-0.9.2/mecabrc.in\n",
            "mecab-0.996-ko-0.9.2/GPL\n",
            "mecab-0.996-ko-0.9.2/Makefile.train\n",
            "mecab-0.996-ko-0.9.2/ChangeLog\n",
            "mecab-0.996-ko-0.9.2/install-sh\n",
            "mecab-0.996-ko-0.9.2/AUTHORS\n",
            "mecab-0.996-ko-0.9.2/doc/\n",
            "mecab-0.996-ko-0.9.2/doc/bindings.html\n",
            "mecab-0.996-ko-0.9.2/doc/posid.html\n",
            "mecab-0.996-ko-0.9.2/doc/unk.html\n",
            "mecab-0.996-ko-0.9.2/doc/learn.html\n",
            "mecab-0.996-ko-0.9.2/doc/format.html\n",
            "mecab-0.996-ko-0.9.2/doc/libmecab.html\n",
            "mecab-0.996-ko-0.9.2/doc/mecab.css\n",
            "mecab-0.996-ko-0.9.2/doc/feature.html\n",
            "mecab-0.996-ko-0.9.2/doc/Makefile.am\n",
            "mecab-0.996-ko-0.9.2/doc/soft.html\n",
            "mecab-0.996-ko-0.9.2/doc/en/\n",
            "mecab-0.996-ko-0.9.2/doc/en/bindings.html\n",
            "mecab-0.996-ko-0.9.2/doc/dic-detail.html\n",
            "mecab-0.996-ko-0.9.2/doc/flow.png\n",
            "mecab-0.996-ko-0.9.2/doc/mecab.html\n",
            "mecab-0.996-ko-0.9.2/doc/index.html\n",
            "mecab-0.996-ko-0.9.2/doc/result.png\n",
            "mecab-0.996-ko-0.9.2/doc/doxygen/\n",
            "mecab-0.996-ko-0.9.2/doc/doxygen/tab_a.png\n",
            "mecab-0.996-ko-0.9.2/doc/doxygen/globals_eval.html\n",
            "mecab-0.996-ko-0.9.2/doc/doxygen/classMeCab_1_1Tagger-members.html\n",
            "mecab-0.996-ko-0.9.2/doc/doxygen/functions_vars.html\n",
            "mecab-0.996-ko-0.9.2/doc/doxygen/doxygen.css\n",
            "mecab-0.996-ko-0.9.2/doc/doxygen/tab_r.gif\n",
            "mecab-0.996-ko-0.9.2/doc/doxygen/classMeCab_1_1Lattice.html\n",
            "mecab-0.996-ko-0.9.2/doc/doxygen/functions.html\n",
            "mecab-0.996-ko-0.9.2/doc/doxygen/classMeCab_1_1Tagger.html\n",
            "mecab-0.996-ko-0.9.2/doc/doxygen/mecab_8h_source.html\n",
            "mecab-0.996-ko-0.9.2/doc/doxygen/tabs.css\n",
            "mecab-0.996-ko-0.9.2/doc/doxygen/nav_f.png\n",
            "mecab-0.996-ko-0.9.2/doc/doxygen/tab_b.png\n",
            "mecab-0.996-ko-0.9.2/doc/doxygen/globals.html\n",
            "mecab-0.996-ko-0.9.2/doc/doxygen/nav_h.png\n",
            "mecab-0.996-ko-0.9.2/doc/doxygen/tab_h.png\n",
            "mecab-0.996-ko-0.9.2/doc/doxygen/classMeCab_1_1Model.html\n",
            "mecab-0.996-ko-0.9.2/doc/doxygen/globals_func.html\n",
            "mecab-0.996-ko-0.9.2/doc/doxygen/closed.png\n",
            "mecab-0.996-ko-0.9.2/doc/doxygen/tab_l.gif\n",
            "mecab-0.996-ko-0.9.2/doc/doxygen/structmecab__path__t-members.html\n",
            "mecab-0.996-ko-0.9.2/doc/doxygen/functions_func.html\n",
            "mecab-0.996-ko-0.9.2/doc/doxygen/globals_type.html\n",
            "mecab-0.996-ko-0.9.2/doc/doxygen/classMeCab_1_1Lattice-members.html\n",
            "mecab-0.996-ko-0.9.2/doc/doxygen/structmecab__node__t.html\n",
            "mecab-0.996-ko-0.9.2/doc/doxygen/namespacemembers_func.html\n",
            "mecab-0.996-ko-0.9.2/doc/doxygen/tab_s.png\n",
            "mecab-0.996-ko-0.9.2/doc/doxygen/structmecab__dictionary__info__t-members.html\n",
            "mecab-0.996-ko-0.9.2/doc/doxygen/namespacemembers_type.html\n",
            "mecab-0.996-ko-0.9.2/doc/doxygen/classMeCab_1_1Model-members.html\n",
            "mecab-0.996-ko-0.9.2/doc/doxygen/structmecab__dictionary__info__t.html\n",
            "mecab-0.996-ko-0.9.2/doc/doxygen/namespaces.html\n",
            "mecab-0.996-ko-0.9.2/doc/doxygen/namespacemembers.html\n",
            "mecab-0.996-ko-0.9.2/doc/doxygen/namespaceMeCab.html\n",
            "mecab-0.996-ko-0.9.2/doc/doxygen/structmecab__path__t.html\n",
            "mecab-0.996-ko-0.9.2/doc/doxygen/files.html\n",
            "mecab-0.996-ko-0.9.2/doc/doxygen/structmecab__node__t-members.html\n",
            "mecab-0.996-ko-0.9.2/doc/doxygen/index.html\n",
            "mecab-0.996-ko-0.9.2/doc/doxygen/annotated.html\n",
            "mecab-0.996-ko-0.9.2/doc/doxygen/globals_defs.html\n",
            "mecab-0.996-ko-0.9.2/doc/doxygen/classes.html\n",
            "mecab-0.996-ko-0.9.2/doc/doxygen/mecab_8h-source.html\n",
            "mecab-0.996-ko-0.9.2/doc/doxygen/doxygen.png\n",
            "mecab-0.996-ko-0.9.2/doc/doxygen/tab_b.gif\n",
            "mecab-0.996-ko-0.9.2/doc/doxygen/bc_s.png\n",
            "mecab-0.996-ko-0.9.2/doc/doxygen/open.png\n",
            "mecab-0.996-ko-0.9.2/doc/doxygen/mecab_8h.html\n",
            "mecab-0.996-ko-0.9.2/doc/dic.html\n",
            "mecab-0.996-ko-0.9.2/doc/partial.html\n",
            "mecab-0.996-ko-0.9.2/doc/feature.png\n",
            "mecab-0.996-ko-0.9.2/doc/Makefile.in\n",
            "mecab-0.996-ko-0.9.2/missing\n",
            "mecab-0.996-ko-0.9.2/BSD\n",
            "mecab-0.996-ko-0.9.2/NEWS\n",
            "mecab-0.996-ko-0.9.2/mkinstalldirs\n",
            "mecab-0.996-ko-0.9.2/src/\n",
            "mecab-0.996-ko-0.9.2/src/dictionary.h\n",
            "mecab-0.996-ko-0.9.2/src/writer.h\n",
            "mecab-0.996-ko-0.9.2/src/utils.h\n",
            "mecab-0.996-ko-0.9.2/src/string_buffer.cpp\n",
            "mecab-0.996-ko-0.9.2/src/tokenizer.cpp\n",
            "mecab-0.996-ko-0.9.2/src/make.bat\n",
            "mecab-0.996-ko-0.9.2/src/mecab.h\n",
            "mecab-0.996-ko-0.9.2/src/freelist.h\n",
            "mecab-0.996-ko-0.9.2/src/string_buffer.h\n",
            "mecab-0.996-ko-0.9.2/src/learner_tagger.h\n",
            "mecab-0.996-ko-0.9.2/src/dictionary_compiler.cpp\n",
            "mecab-0.996-ko-0.9.2/src/eval.cpp\n",
            "mecab-0.996-ko-0.9.2/src/mecab-system-eval.cpp\n",
            "mecab-0.996-ko-0.9.2/src/darts.h\n",
            "mecab-0.996-ko-0.9.2/src/param.h\n",
            "mecab-0.996-ko-0.9.2/src/char_property.h\n",
            "mecab-0.996-ko-0.9.2/src/learner_node.h\n",
            "mecab-0.996-ko-0.9.2/src/mecab-dict-gen.cpp\n",
            "mecab-0.996-ko-0.9.2/src/mecab-dict-index.cpp\n",
            "mecab-0.996-ko-0.9.2/src/winmain.h\n",
            "mecab-0.996-ko-0.9.2/src/thread.h\n",
            "mecab-0.996-ko-0.9.2/src/context_id.cpp\n",
            "mecab-0.996-ko-0.9.2/src/Makefile.am\n",
            "mecab-0.996-ko-0.9.2/src/connector.h\n",
            "mecab-0.996-ko-0.9.2/src/common.h\n",
            "mecab-0.996-ko-0.9.2/src/dictionary_rewriter.cpp\n",
            "mecab-0.996-ko-0.9.2/src/Makefile.msvc.in\n",
            "mecab-0.996-ko-0.9.2/src/dictionary_rewriter.h\n",
            "mecab-0.996-ko-0.9.2/src/feature_index.h\n",
            "mecab-0.996-ko-0.9.2/src/iconv_utils.cpp\n",
            "mecab-0.996-ko-0.9.2/src/char_property.cpp\n",
            "mecab-0.996-ko-0.9.2/src/mecab-test-gen.cpp\n",
            "mecab-0.996-ko-0.9.2/src/tagger.cpp\n",
            "mecab-0.996-ko-0.9.2/src/mecab-cost-train.cpp\n",
            "mecab-0.996-ko-0.9.2/src/learner.cpp\n",
            "mecab-0.996-ko-0.9.2/src/dictionary.cpp\n",
            "mecab-0.996-ko-0.9.2/src/lbfgs.cpp\n",
            "mecab-0.996-ko-0.9.2/src/ucs.h\n",
            "mecab-0.996-ko-0.9.2/src/writer.cpp\n",
            "mecab-0.996-ko-0.9.2/src/learner_tagger.cpp\n",
            "mecab-0.996-ko-0.9.2/src/lbfgs.h\n",
            "mecab-0.996-ko-0.9.2/src/libmecab.cpp\n",
            "mecab-0.996-ko-0.9.2/src/tokenizer.h\n",
            "mecab-0.996-ko-0.9.2/src/mecab.cpp\n",
            "mecab-0.996-ko-0.9.2/src/utils.cpp\n",
            "mecab-0.996-ko-0.9.2/src/dictionary_generator.cpp\n",
            "mecab-0.996-ko-0.9.2/src/param.cpp\n",
            "mecab-0.996-ko-0.9.2/src/context_id.h\n",
            "mecab-0.996-ko-0.9.2/src/mmap.h\n",
            "mecab-0.996-ko-0.9.2/src/viterbi.h\n",
            "mecab-0.996-ko-0.9.2/src/viterbi.cpp\n",
            "mecab-0.996-ko-0.9.2/src/stream_wrapper.h\n",
            "mecab-0.996-ko-0.9.2/src/feature_index.cpp\n",
            "mecab-0.996-ko-0.9.2/src/nbest_generator.h\n",
            "mecab-0.996-ko-0.9.2/src/ucstable.h\n",
            "mecab-0.996-ko-0.9.2/src/nbest_generator.cpp\n",
            "mecab-0.996-ko-0.9.2/src/iconv_utils.h\n",
            "mecab-0.996-ko-0.9.2/src/connector.cpp\n",
            "mecab-0.996-ko-0.9.2/src/Makefile.in\n",
            "mecab-0.996-ko-0.9.2/src/scoped_ptr.h\n",
            "mecab-0.996-ko-0.9.2/Makefile.in\n",
            "checking for a BSD-compatible install... /usr/bin/install -c\n",
            "checking whether build environment is sane... yes\n",
            "checking for a thread-safe mkdir -p... /bin/mkdir -p\n",
            "checking for gawk... no\n",
            "checking for mawk... mawk\n",
            "checking whether make sets $(MAKE)... yes\n",
            "checking for gcc... gcc\n",
            "checking whether the C compiler works... yes\n",
            "checking for C compiler default output file name... a.out\n",
            "checking for suffix of executables... \n",
            "checking whether we are cross compiling... no\n",
            "checking for suffix of object files... o\n",
            "checking whether we are using the GNU C compiler... yes\n",
            "checking whether gcc accepts -g... yes\n",
            "checking for gcc option to accept ISO C89... none needed\n",
            "checking for style of include used by make... GNU\n",
            "checking dependency style of gcc... none\n",
            "checking for g++... g++\n",
            "checking whether we are using the GNU C++ compiler... yes\n",
            "checking whether g++ accepts -g... yes\n",
            "checking dependency style of g++... none\n",
            "checking how to run the C preprocessor... gcc -E\n",
            "checking for grep that handles long lines and -e... /bin/grep\n",
            "checking for egrep... /bin/grep -E\n",
            "checking whether gcc needs -traditional... no\n",
            "checking whether make sets $(MAKE)... (cached) yes\n",
            "checking build system type... x86_64-unknown-linux-gnu\n",
            "checking host system type... x86_64-unknown-linux-gnu\n",
            "checking how to print strings... printf\n",
            "checking for a sed that does not truncate output... /bin/sed\n",
            "checking for fgrep... /bin/grep -F\n",
            "checking for ld used by gcc... /usr/bin/ld\n",
            "checking if the linker (/usr/bin/ld) is GNU ld... yes\n",
            "checking for BSD- or MS-compatible name lister (nm)... /usr/bin/nm -B\n",
            "checking the name lister (/usr/bin/nm -B) interface... BSD nm\n",
            "checking whether ln -s works... yes\n",
            "checking the maximum length of command line arguments... 1572864\n",
            "checking whether the shell understands some XSI constructs... yes\n",
            "checking whether the shell understands \"+=\"... yes\n",
            "checking how to convert x86_64-unknown-linux-gnu file names to x86_64-unknown-linux-gnu format... func_convert_file_noop\n",
            "checking how to convert x86_64-unknown-linux-gnu file names to toolchain format... func_convert_file_noop\n",
            "checking for /usr/bin/ld option to reload object files... -r\n",
            "checking for objdump... objdump\n",
            "checking how to recognize dependent libraries... pass_all\n",
            "checking for dlltool... dlltool\n",
            "checking how to associate runtime and link libraries... printf %s\\n\n",
            "checking for ar... ar\n",
            "checking for archiver @FILE support... @\n",
            "checking for strip... strip\n",
            "checking for ranlib... ranlib\n",
            "checking command to parse /usr/bin/nm -B output from gcc object... ok\n",
            "checking for sysroot... no\n",
            "./configure: line 7378: /usr/bin/file: No such file or directory\n",
            "checking for mt... no\n",
            "checking if : is a manifest tool... no\n",
            "checking for ANSI C header files... yes\n",
            "checking for sys/types.h... yes\n",
            "checking for sys/stat.h... yes\n",
            "checking for stdlib.h... yes\n",
            "checking for string.h... yes\n",
            "checking for memory.h... yes\n",
            "checking for strings.h... yes\n",
            "checking for inttypes.h... yes\n",
            "checking for stdint.h... yes\n",
            "checking for unistd.h... yes\n",
            "checking for dlfcn.h... yes\n",
            "checking for objdir... .libs\n",
            "checking if gcc supports -fno-rtti -fno-exceptions... no\n",
            "checking for gcc option to produce PIC... -fPIC -DPIC\n",
            "checking if gcc PIC flag -fPIC -DPIC works... yes\n",
            "checking if gcc static flag -static works... yes\n",
            "checking if gcc supports -c -o file.o... yes\n",
            "checking if gcc supports -c -o file.o... (cached) yes\n",
            "checking whether the gcc linker (/usr/bin/ld) supports shared libraries... yes\n",
            "checking whether -lc should be explicitly linked in... no\n",
            "checking dynamic linker characteristics... GNU/Linux ld.so\n",
            "checking how to hardcode library paths into programs... immediate\n",
            "checking whether stripping libraries is possible... yes\n",
            "checking if libtool supports shared libraries... yes\n",
            "checking whether to build shared libraries... yes\n",
            "checking whether to build static libraries... yes\n",
            "checking how to run the C++ preprocessor... g++ -E\n",
            "checking for ld used by g++... /usr/bin/ld\n",
            "checking if the linker (/usr/bin/ld) is GNU ld... yes\n",
            "checking whether the g++ linker (/usr/bin/ld) supports shared libraries... yes\n",
            "checking for g++ option to produce PIC... -fPIC -DPIC\n",
            "checking if g++ PIC flag -fPIC -DPIC works... yes\n",
            "checking if g++ static flag -static works... yes\n",
            "checking if g++ supports -c -o file.o... yes\n",
            "checking if g++ supports -c -o file.o... (cached) yes\n",
            "checking whether the g++ linker (/usr/bin/ld) supports shared libraries... yes\n",
            "checking dynamic linker characteristics... (cached) GNU/Linux ld.so\n",
            "checking how to hardcode library paths into programs... immediate\n",
            "checking for library containing strerror... none required\n",
            "checking whether byte ordering is bigendian... no\n",
            "checking for ld used by GCC... /usr/bin/ld\n",
            "checking if the linker (/usr/bin/ld) is GNU ld... yes\n",
            "checking for shared library run path origin... done\n",
            "checking for iconv... yes\n",
            "checking for working iconv... yes\n",
            "checking for iconv declaration... \n",
            "         extern size_t iconv (iconv_t cd, char * *inbuf, size_t *inbytesleft, char * *outbuf, size_t *outbytesleft);\n",
            "checking for ANSI C header files... (cached) yes\n",
            "checking for an ANSI C-conforming const... yes\n",
            "checking whether byte ordering is bigendian... (cached) no\n",
            "checking for string.h... (cached) yes\n",
            "checking for stdlib.h... (cached) yes\n",
            "checking for unistd.h... (cached) yes\n",
            "checking fcntl.h usability... yes\n",
            "checking fcntl.h presence... yes\n",
            "checking for fcntl.h... yes\n",
            "checking for stdint.h... (cached) yes\n",
            "checking for sys/stat.h... (cached) yes\n",
            "checking sys/mman.h usability... yes\n",
            "checking sys/mman.h presence... yes\n",
            "checking for sys/mman.h... yes\n",
            "checking sys/times.h usability... yes\n",
            "checking sys/times.h presence... yes\n",
            "checking for sys/times.h... yes\n",
            "checking for sys/types.h... (cached) yes\n",
            "checking dirent.h usability... yes\n",
            "checking dirent.h presence... yes\n",
            "checking for dirent.h... yes\n",
            "checking ctype.h usability... yes\n",
            "checking ctype.h presence... yes\n",
            "checking for ctype.h... yes\n",
            "checking for sys/types.h... (cached) yes\n",
            "checking io.h usability... no\n",
            "checking io.h presence... no\n",
            "checking for io.h... no\n",
            "checking windows.h usability... no\n",
            "checking windows.h presence... no\n",
            "checking for windows.h... no\n",
            "checking pthread.h usability... yes\n",
            "checking pthread.h presence... yes\n",
            "checking for pthread.h... yes\n",
            "checking for off_t... yes\n",
            "checking for size_t... yes\n",
            "checking size of char... 1\n",
            "checking size of short... 2\n",
            "checking size of int... 4\n",
            "checking size of long... 8\n",
            "checking size of long long... 8\n",
            "checking size of size_t... 8\n",
            "checking for size_t... (cached) yes\n",
            "checking for unsigned long long int... yes\n",
            "checking for stdlib.h... (cached) yes\n",
            "checking for unistd.h... (cached) yes\n",
            "checking for sys/param.h... yes\n",
            "checking for getpagesize... yes\n",
            "checking for working mmap... yes\n",
            "checking for main in -lstdc++... yes\n",
            "checking for pthread_create in -lpthread... yes\n",
            "checking for pthread_join in -lpthread... yes\n",
            "checking for getenv... yes\n",
            "checking for opendir... yes\n",
            "checking whether make is GNU Make... yes\n",
            "checking if g++ supports stl <vector> (required)... yes\n",
            "checking if g++ supports stl <list> (required)... yes\n",
            "checking if g++ supports stl <map> (required)... yes\n",
            "checking if g++ supports stl <set> (required)... yes\n",
            "checking if g++ supports stl <queue> (required)... yes\n",
            "checking if g++ supports stl <functional> (required)... yes\n",
            "checking if g++ supports stl <algorithm> (required)... yes\n",
            "checking if g++ supports stl <string> (required)... yes\n",
            "checking if g++ supports stl <iostream> (required)... yes\n",
            "checking if g++ supports stl <sstream> (required)... yes\n",
            "checking if g++ supports stl <fstream> (required)... yes\n",
            "checking if g++ supports template <class T> (required)... yes\n",
            "checking if g++ supports const_cast<> (required)... yes\n",
            "checking if g++ supports static_cast<> (required)... yes\n",
            "checking if g++ supports reinterpret_cast<> (required)... yes\n",
            "checking if g++ supports namespaces (required) ... yes\n",
            "checking if g++ supports __thread (optional)... yes\n",
            "checking if g++ supports template <class T> (required)... yes\n",
            "checking if g++ supports GCC native atomic operations (optional)... yes\n",
            "checking if g++ supports OSX native atomic operations (optional)... no\n",
            "checking if g++ environment provides all required features... yes\n",
            "configure: creating ./config.status\n",
            "config.status: creating Makefile\n",
            "config.status: creating src/Makefile\n",
            "config.status: creating src/Makefile.msvc\n",
            "config.status: creating man/Makefile\n",
            "config.status: creating doc/Makefile\n",
            "config.status: creating tests/Makefile\n",
            "config.status: creating swig/version.h\n",
            "config.status: creating mecab.iss\n",
            "config.status: creating mecab-config\n",
            "config.status: creating mecabrc\n",
            "config.status: creating config.h\n",
            "config.status: executing depfiles commands\n",
            "config.status: executing libtool commands\n",
            "config.status: executing default commands\n",
            "make  all-recursive\n",
            "make[1]: Entering directory '/tmp/mecab-0.996-ko-0.9.2'\n",
            "Making all in src\n",
            "make[2]: Entering directory '/tmp/mecab-0.996-ko-0.9.2/src'\n",
            "/bin/bash ../libtool --tag=CXX   --mode=compile g++ -DHAVE_CONFIG_H -I. -I.. -DDIC_VERSION=102   -DMECAB_DEFAULT_RC=\"\\\"/usr/local/etc/mecabrc\\\"\"    -O3 -Wall  -c -o viterbi.lo viterbi.cpp\n",
            "libtool: compile:  g++ -DHAVE_CONFIG_H -I. -I.. -DDIC_VERSION=102 -DMECAB_DEFAULT_RC=\\\"/usr/local/etc/mecabrc\\\" -O3 -Wall -c viterbi.cpp  -fPIC -DPIC -o .libs/viterbi.o\n",
            "In file included from \u001b[01m\u001b[Kviterbi.cpp:14:0\u001b[m\u001b[K:\n",
            "\u001b[01m\u001b[Kparam.h:30:13:\u001b[m\u001b[K \u001b[01;35m\u001b[Kwarning: \u001b[m\u001b[K'\u001b[01m\u001b[KTarget {anonymous}::lexical_cast(Source) [with Target = std::__cxx11::basic_string<char>; Source = std::__cxx11::basic_string<char>]\u001b[m\u001b[K' defined but not used [\u001b[01;35m\u001b[K-Wunused-function\u001b[m\u001b[K]\n",
            " std::string \u001b[01;35m\u001b[Klexical_cast<std::string, std::string>\u001b[m\u001b[K(std::string arg) {\n",
            "             \u001b[01;35m\u001b[K^~~~~~~~~~~~~~~~~~~~~~~~~~~~~~~~~~~~~~\u001b[m\u001b[K\n",
            "libtool: compile:  g++ -DHAVE_CONFIG_H -I. -I.. -DDIC_VERSION=102 -DMECAB_DEFAULT_RC=\\\"/usr/local/etc/mecabrc\\\" -O3 -Wall -c viterbi.cpp -o viterbi.o >/dev/null 2>&1\n",
            "/bin/bash ../libtool --tag=CXX   --mode=compile g++ -DHAVE_CONFIG_H -I. -I.. -DDIC_VERSION=102   -DMECAB_DEFAULT_RC=\"\\\"/usr/local/etc/mecabrc\\\"\"    -O3 -Wall  -c -o tagger.lo tagger.cpp\n",
            "libtool: compile:  g++ -DHAVE_CONFIG_H -I. -I.. -DDIC_VERSION=102 -DMECAB_DEFAULT_RC=\\\"/usr/local/etc/mecabrc\\\" -O3 -Wall -c tagger.cpp  -fPIC -DPIC -o .libs/tagger.o\n",
            "libtool: compile:  g++ -DHAVE_CONFIG_H -I. -I.. -DDIC_VERSION=102 -DMECAB_DEFAULT_RC=\\\"/usr/local/etc/mecabrc\\\" -O3 -Wall -c tagger.cpp -o tagger.o >/dev/null 2>&1\n",
            "/bin/bash ../libtool --tag=CXX   --mode=compile g++ -DHAVE_CONFIG_H -I. -I.. -DDIC_VERSION=102   -DMECAB_DEFAULT_RC=\"\\\"/usr/local/etc/mecabrc\\\"\"    -O3 -Wall  -c -o utils.lo utils.cpp\n",
            "libtool: compile:  g++ -DHAVE_CONFIG_H -I. -I.. -DDIC_VERSION=102 -DMECAB_DEFAULT_RC=\\\"/usr/local/etc/mecabrc\\\" -O3 -Wall -c utils.cpp  -fPIC -DPIC -o .libs/utils.o\n",
            "libtool: compile:  g++ -DHAVE_CONFIG_H -I. -I.. -DDIC_VERSION=102 -DMECAB_DEFAULT_RC=\\\"/usr/local/etc/mecabrc\\\" -O3 -Wall -c utils.cpp -o utils.o >/dev/null 2>&1\n",
            "/bin/bash ../libtool --tag=CXX   --mode=compile g++ -DHAVE_CONFIG_H -I. -I.. -DDIC_VERSION=102   -DMECAB_DEFAULT_RC=\"\\\"/usr/local/etc/mecabrc\\\"\"    -O3 -Wall  -c -o eval.lo eval.cpp\n",
            "libtool: compile:  g++ -DHAVE_CONFIG_H -I. -I.. -DDIC_VERSION=102 -DMECAB_DEFAULT_RC=\\\"/usr/local/etc/mecabrc\\\" -O3 -Wall -c eval.cpp  -fPIC -DPIC -o .libs/eval.o\n",
            "libtool: compile:  g++ -DHAVE_CONFIG_H -I. -I.. -DDIC_VERSION=102 -DMECAB_DEFAULT_RC=\\\"/usr/local/etc/mecabrc\\\" -O3 -Wall -c eval.cpp -o eval.o >/dev/null 2>&1\n",
            "/bin/bash ../libtool --tag=CXX   --mode=compile g++ -DHAVE_CONFIG_H -I. -I.. -DDIC_VERSION=102   -DMECAB_DEFAULT_RC=\"\\\"/usr/local/etc/mecabrc\\\"\"    -O3 -Wall  -c -o iconv_utils.lo iconv_utils.cpp\n",
            "libtool: compile:  g++ -DHAVE_CONFIG_H -I. -I.. -DDIC_VERSION=102 -DMECAB_DEFAULT_RC=\\\"/usr/local/etc/mecabrc\\\" -O3 -Wall -c iconv_utils.cpp  -fPIC -DPIC -o .libs/iconv_utils.o\n",
            "libtool: compile:  g++ -DHAVE_CONFIG_H -I. -I.. -DDIC_VERSION=102 -DMECAB_DEFAULT_RC=\\\"/usr/local/etc/mecabrc\\\" -O3 -Wall -c iconv_utils.cpp -o iconv_utils.o >/dev/null 2>&1\n",
            "/bin/bash ../libtool --tag=CXX   --mode=compile g++ -DHAVE_CONFIG_H -I. -I.. -DDIC_VERSION=102   -DMECAB_DEFAULT_RC=\"\\\"/usr/local/etc/mecabrc\\\"\"    -O3 -Wall  -c -o dictionary_rewriter.lo dictionary_rewriter.cpp\n",
            "libtool: compile:  g++ -DHAVE_CONFIG_H -I. -I.. -DDIC_VERSION=102 -DMECAB_DEFAULT_RC=\\\"/usr/local/etc/mecabrc\\\" -O3 -Wall -c dictionary_rewriter.cpp  -fPIC -DPIC -o .libs/dictionary_rewriter.o\n",
            "libtool: compile:  g++ -DHAVE_CONFIG_H -I. -I.. -DDIC_VERSION=102 -DMECAB_DEFAULT_RC=\\\"/usr/local/etc/mecabrc\\\" -O3 -Wall -c dictionary_rewriter.cpp -o dictionary_rewriter.o >/dev/null 2>&1\n",
            "/bin/bash ../libtool --tag=CXX   --mode=compile g++ -DHAVE_CONFIG_H -I. -I.. -DDIC_VERSION=102   -DMECAB_DEFAULT_RC=\"\\\"/usr/local/etc/mecabrc\\\"\"    -O3 -Wall  -c -o dictionary_generator.lo dictionary_generator.cpp\n",
            "libtool: compile:  g++ -DHAVE_CONFIG_H -I. -I.. -DDIC_VERSION=102 -DMECAB_DEFAULT_RC=\\\"/usr/local/etc/mecabrc\\\" -O3 -Wall -c dictionary_generator.cpp  -fPIC -DPIC -o .libs/dictionary_generator.o\n",
            "libtool: compile:  g++ -DHAVE_CONFIG_H -I. -I.. -DDIC_VERSION=102 -DMECAB_DEFAULT_RC=\\\"/usr/local/etc/mecabrc\\\" -O3 -Wall -c dictionary_generator.cpp -o dictionary_generator.o >/dev/null 2>&1\n",
            "/bin/bash ../libtool --tag=CXX   --mode=compile g++ -DHAVE_CONFIG_H -I. -I.. -DDIC_VERSION=102   -DMECAB_DEFAULT_RC=\"\\\"/usr/local/etc/mecabrc\\\"\"    -O3 -Wall  -c -o dictionary_compiler.lo dictionary_compiler.cpp\n",
            "libtool: compile:  g++ -DHAVE_CONFIG_H -I. -I.. -DDIC_VERSION=102 -DMECAB_DEFAULT_RC=\\\"/usr/local/etc/mecabrc\\\" -O3 -Wall -c dictionary_compiler.cpp  -fPIC -DPIC -o .libs/dictionary_compiler.o\n",
            "libtool: compile:  g++ -DHAVE_CONFIG_H -I. -I.. -DDIC_VERSION=102 -DMECAB_DEFAULT_RC=\\\"/usr/local/etc/mecabrc\\\" -O3 -Wall -c dictionary_compiler.cpp -o dictionary_compiler.o >/dev/null 2>&1\n",
            "/bin/bash ../libtool --tag=CXX   --mode=compile g++ -DHAVE_CONFIG_H -I. -I.. -DDIC_VERSION=102   -DMECAB_DEFAULT_RC=\"\\\"/usr/local/etc/mecabrc\\\"\"    -O3 -Wall  -c -o context_id.lo context_id.cpp\n",
            "libtool: compile:  g++ -DHAVE_CONFIG_H -I. -I.. -DDIC_VERSION=102 -DMECAB_DEFAULT_RC=\\\"/usr/local/etc/mecabrc\\\" -O3 -Wall -c context_id.cpp  -fPIC -DPIC -o .libs/context_id.o\n",
            "libtool: compile:  g++ -DHAVE_CONFIG_H -I. -I.. -DDIC_VERSION=102 -DMECAB_DEFAULT_RC=\\\"/usr/local/etc/mecabrc\\\" -O3 -Wall -c context_id.cpp -o context_id.o >/dev/null 2>&1\n",
            "/bin/bash ../libtool --tag=CXX   --mode=compile g++ -DHAVE_CONFIG_H -I. -I.. -DDIC_VERSION=102   -DMECAB_DEFAULT_RC=\"\\\"/usr/local/etc/mecabrc\\\"\"    -O3 -Wall  -c -o connector.lo connector.cpp\n",
            "libtool: compile:  g++ -DHAVE_CONFIG_H -I. -I.. -DDIC_VERSION=102 -DMECAB_DEFAULT_RC=\\\"/usr/local/etc/mecabrc\\\" -O3 -Wall -c connector.cpp  -fPIC -DPIC -o .libs/connector.o\n",
            "libtool: compile:  g++ -DHAVE_CONFIG_H -I. -I.. -DDIC_VERSION=102 -DMECAB_DEFAULT_RC=\\\"/usr/local/etc/mecabrc\\\" -O3 -Wall -c connector.cpp -o connector.o >/dev/null 2>&1\n",
            "/bin/bash ../libtool --tag=CXX   --mode=compile g++ -DHAVE_CONFIG_H -I. -I.. -DDIC_VERSION=102   -DMECAB_DEFAULT_RC=\"\\\"/usr/local/etc/mecabrc\\\"\"    -O3 -Wall  -c -o nbest_generator.lo nbest_generator.cpp\n",
            "libtool: compile:  g++ -DHAVE_CONFIG_H -I. -I.. -DDIC_VERSION=102 -DMECAB_DEFAULT_RC=\\\"/usr/local/etc/mecabrc\\\" -O3 -Wall -c nbest_generator.cpp  -fPIC -DPIC -o .libs/nbest_generator.o\n",
            "libtool: compile:  g++ -DHAVE_CONFIG_H -I. -I.. -DDIC_VERSION=102 -DMECAB_DEFAULT_RC=\\\"/usr/local/etc/mecabrc\\\" -O3 -Wall -c nbest_generator.cpp -o nbest_generator.o >/dev/null 2>&1\n",
            "/bin/bash ../libtool --tag=CXX   --mode=compile g++ -DHAVE_CONFIG_H -I. -I.. -DDIC_VERSION=102   -DMECAB_DEFAULT_RC=\"\\\"/usr/local/etc/mecabrc\\\"\"    -O3 -Wall  -c -o writer.lo writer.cpp\n",
            "libtool: compile:  g++ -DHAVE_CONFIG_H -I. -I.. -DDIC_VERSION=102 -DMECAB_DEFAULT_RC=\\\"/usr/local/etc/mecabrc\\\" -O3 -Wall -c writer.cpp  -fPIC -DPIC -o .libs/writer.o\n",
            "libtool: compile:  g++ -DHAVE_CONFIG_H -I. -I.. -DDIC_VERSION=102 -DMECAB_DEFAULT_RC=\\\"/usr/local/etc/mecabrc\\\" -O3 -Wall -c writer.cpp -o writer.o >/dev/null 2>&1\n",
            "/bin/bash ../libtool --tag=CXX   --mode=compile g++ -DHAVE_CONFIG_H -I. -I.. -DDIC_VERSION=102   -DMECAB_DEFAULT_RC=\"\\\"/usr/local/etc/mecabrc\\\"\"    -O3 -Wall  -c -o string_buffer.lo string_buffer.cpp\n",
            "libtool: compile:  g++ -DHAVE_CONFIG_H -I. -I.. -DDIC_VERSION=102 -DMECAB_DEFAULT_RC=\\\"/usr/local/etc/mecabrc\\\" -O3 -Wall -c string_buffer.cpp  -fPIC -DPIC -o .libs/string_buffer.o\n",
            "libtool: compile:  g++ -DHAVE_CONFIG_H -I. -I.. -DDIC_VERSION=102 -DMECAB_DEFAULT_RC=\\\"/usr/local/etc/mecabrc\\\" -O3 -Wall -c string_buffer.cpp -o string_buffer.o >/dev/null 2>&1\n",
            "/bin/bash ../libtool --tag=CXX   --mode=compile g++ -DHAVE_CONFIG_H -I. -I.. -DDIC_VERSION=102   -DMECAB_DEFAULT_RC=\"\\\"/usr/local/etc/mecabrc\\\"\"    -O3 -Wall  -c -o param.lo param.cpp\n",
            "libtool: compile:  g++ -DHAVE_CONFIG_H -I. -I.. -DDIC_VERSION=102 -DMECAB_DEFAULT_RC=\\\"/usr/local/etc/mecabrc\\\" -O3 -Wall -c param.cpp  -fPIC -DPIC -o .libs/param.o\n",
            "libtool: compile:  g++ -DHAVE_CONFIG_H -I. -I.. -DDIC_VERSION=102 -DMECAB_DEFAULT_RC=\\\"/usr/local/etc/mecabrc\\\" -O3 -Wall -c param.cpp -o param.o >/dev/null 2>&1\n",
            "/bin/bash ../libtool --tag=CXX   --mode=compile g++ -DHAVE_CONFIG_H -I. -I.. -DDIC_VERSION=102   -DMECAB_DEFAULT_RC=\"\\\"/usr/local/etc/mecabrc\\\"\"    -O3 -Wall  -c -o tokenizer.lo tokenizer.cpp\n",
            "libtool: compile:  g++ -DHAVE_CONFIG_H -I. -I.. -DDIC_VERSION=102 -DMECAB_DEFAULT_RC=\\\"/usr/local/etc/mecabrc\\\" -O3 -Wall -c tokenizer.cpp  -fPIC -DPIC -o .libs/tokenizer.o\n",
            "libtool: compile:  g++ -DHAVE_CONFIG_H -I. -I.. -DDIC_VERSION=102 -DMECAB_DEFAULT_RC=\\\"/usr/local/etc/mecabrc\\\" -O3 -Wall -c tokenizer.cpp -o tokenizer.o >/dev/null 2>&1\n",
            "/bin/bash ../libtool --tag=CXX   --mode=compile g++ -DHAVE_CONFIG_H -I. -I.. -DDIC_VERSION=102   -DMECAB_DEFAULT_RC=\"\\\"/usr/local/etc/mecabrc\\\"\"    -O3 -Wall  -c -o char_property.lo char_property.cpp\n",
            "libtool: compile:  g++ -DHAVE_CONFIG_H -I. -I.. -DDIC_VERSION=102 -DMECAB_DEFAULT_RC=\\\"/usr/local/etc/mecabrc\\\" -O3 -Wall -c char_property.cpp  -fPIC -DPIC -o .libs/char_property.o\n",
            "libtool: compile:  g++ -DHAVE_CONFIG_H -I. -I.. -DDIC_VERSION=102 -DMECAB_DEFAULT_RC=\\\"/usr/local/etc/mecabrc\\\" -O3 -Wall -c char_property.cpp -o char_property.o >/dev/null 2>&1\n",
            "/bin/bash ../libtool --tag=CXX   --mode=compile g++ -DHAVE_CONFIG_H -I. -I.. -DDIC_VERSION=102   -DMECAB_DEFAULT_RC=\"\\\"/usr/local/etc/mecabrc\\\"\"    -O3 -Wall  -c -o dictionary.lo dictionary.cpp\n",
            "libtool: compile:  g++ -DHAVE_CONFIG_H -I. -I.. -DDIC_VERSION=102 -DMECAB_DEFAULT_RC=\\\"/usr/local/etc/mecabrc\\\" -O3 -Wall -c dictionary.cpp  -fPIC -DPIC -o .libs/dictionary.o\n",
            "libtool: compile:  g++ -DHAVE_CONFIG_H -I. -I.. -DDIC_VERSION=102 -DMECAB_DEFAULT_RC=\\\"/usr/local/etc/mecabrc\\\" -O3 -Wall -c dictionary.cpp -o dictionary.o >/dev/null 2>&1\n",
            "/bin/bash ../libtool --tag=CXX   --mode=compile g++ -DHAVE_CONFIG_H -I. -I.. -DDIC_VERSION=102   -DMECAB_DEFAULT_RC=\"\\\"/usr/local/etc/mecabrc\\\"\"    -O3 -Wall  -c -o feature_index.lo feature_index.cpp\n",
            "libtool: compile:  g++ -DHAVE_CONFIG_H -I. -I.. -DDIC_VERSION=102 -DMECAB_DEFAULT_RC=\\\"/usr/local/etc/mecabrc\\\" -O3 -Wall -c feature_index.cpp  -fPIC -DPIC -o .libs/feature_index.o\n",
            "libtool: compile:  g++ -DHAVE_CONFIG_H -I. -I.. -DDIC_VERSION=102 -DMECAB_DEFAULT_RC=\\\"/usr/local/etc/mecabrc\\\" -O3 -Wall -c feature_index.cpp -o feature_index.o >/dev/null 2>&1\n",
            "/bin/bash ../libtool --tag=CXX   --mode=compile g++ -DHAVE_CONFIG_H -I. -I.. -DDIC_VERSION=102   -DMECAB_DEFAULT_RC=\"\\\"/usr/local/etc/mecabrc\\\"\"    -O3 -Wall  -c -o lbfgs.lo lbfgs.cpp\n",
            "libtool: compile:  g++ -DHAVE_CONFIG_H -I. -I.. -DDIC_VERSION=102 -DMECAB_DEFAULT_RC=\\\"/usr/local/etc/mecabrc\\\" -O3 -Wall -c lbfgs.cpp  -fPIC -DPIC -o .libs/lbfgs.o\n",
            "libtool: compile:  g++ -DHAVE_CONFIG_H -I. -I.. -DDIC_VERSION=102 -DMECAB_DEFAULT_RC=\\\"/usr/local/etc/mecabrc\\\" -O3 -Wall -c lbfgs.cpp -o lbfgs.o >/dev/null 2>&1\n",
            "/bin/bash ../libtool --tag=CXX   --mode=compile g++ -DHAVE_CONFIG_H -I. -I.. -DDIC_VERSION=102   -DMECAB_DEFAULT_RC=\"\\\"/usr/local/etc/mecabrc\\\"\"    -O3 -Wall  -c -o learner_tagger.lo learner_tagger.cpp\n",
            "libtool: compile:  g++ -DHAVE_CONFIG_H -I. -I.. -DDIC_VERSION=102 -DMECAB_DEFAULT_RC=\\\"/usr/local/etc/mecabrc\\\" -O3 -Wall -c learner_tagger.cpp  -fPIC -DPIC -o .libs/learner_tagger.o\n",
            "\u001b[01m\u001b[Klearner_tagger.cpp:25:7:\u001b[m\u001b[K \u001b[01;35m\u001b[Kwarning: \u001b[m\u001b[K'\u001b[01m\u001b[Kchar* MeCab::{anonymous}::mystrdup(const string&)\u001b[m\u001b[K' defined but not used [\u001b[01;35m\u001b[K-Wunused-function\u001b[m\u001b[K]\n",
            " char *\u001b[01;35m\u001b[Kmystrdup\u001b[m\u001b[K(const std::string &str) {\n",
            "       \u001b[01;35m\u001b[K^~~~~~~~\u001b[m\u001b[K\n",
            "libtool: compile:  g++ -DHAVE_CONFIG_H -I. -I.. -DDIC_VERSION=102 -DMECAB_DEFAULT_RC=\\\"/usr/local/etc/mecabrc\\\" -O3 -Wall -c learner_tagger.cpp -o learner_tagger.o >/dev/null 2>&1\n",
            "/bin/bash ../libtool --tag=CXX   --mode=compile g++ -DHAVE_CONFIG_H -I. -I.. -DDIC_VERSION=102   -DMECAB_DEFAULT_RC=\"\\\"/usr/local/etc/mecabrc\\\"\"    -O3 -Wall  -c -o learner.lo learner.cpp\n",
            "libtool: compile:  g++ -DHAVE_CONFIG_H -I. -I.. -DDIC_VERSION=102 -DMECAB_DEFAULT_RC=\\\"/usr/local/etc/mecabrc\\\" -O3 -Wall -c learner.cpp  -fPIC -DPIC -o .libs/learner.o\n",
            "libtool: compile:  g++ -DHAVE_CONFIG_H -I. -I.. -DDIC_VERSION=102 -DMECAB_DEFAULT_RC=\\\"/usr/local/etc/mecabrc\\\" -O3 -Wall -c learner.cpp -o learner.o >/dev/null 2>&1\n",
            "/bin/bash ../libtool --tag=CXX   --mode=compile g++ -DHAVE_CONFIG_H -I. -I.. -DDIC_VERSION=102   -DMECAB_DEFAULT_RC=\"\\\"/usr/local/etc/mecabrc\\\"\"    -O3 -Wall  -c -o libmecab.lo libmecab.cpp\n",
            "libtool: compile:  g++ -DHAVE_CONFIG_H -I. -I.. -DDIC_VERSION=102 -DMECAB_DEFAULT_RC=\\\"/usr/local/etc/mecabrc\\\" -O3 -Wall -c libmecab.cpp  -fPIC -DPIC -o .libs/libmecab.o\n",
            "libtool: compile:  g++ -DHAVE_CONFIG_H -I. -I.. -DDIC_VERSION=102 -DMECAB_DEFAULT_RC=\\\"/usr/local/etc/mecabrc\\\" -O3 -Wall -c libmecab.cpp -o libmecab.o >/dev/null 2>&1\n",
            "/bin/bash ../libtool --tag=CXX   --mode=link g++  -O3 -Wall  -no-undefined -version-info 2:0:0  -o libmecab.la -rpath /usr/local/lib viterbi.lo tagger.lo utils.lo eval.lo iconv_utils.lo dictionary_rewriter.lo dictionary_generator.lo dictionary_compiler.lo context_id.lo connector.lo nbest_generator.lo writer.lo string_buffer.lo param.lo tokenizer.lo char_property.lo dictionary.lo feature_index.lo lbfgs.lo learner_tagger.lo learner.lo libmecab.lo  -lpthread -lpthread  -lstdc++ \n",
            "libtool: link: g++  -fPIC -DPIC -shared -nostdlib /usr/lib/gcc/x86_64-linux-gnu/7/../../../x86_64-linux-gnu/crti.o /usr/lib/gcc/x86_64-linux-gnu/7/crtbeginS.o  .libs/viterbi.o .libs/tagger.o .libs/utils.o .libs/eval.o .libs/iconv_utils.o .libs/dictionary_rewriter.o .libs/dictionary_generator.o .libs/dictionary_compiler.o .libs/context_id.o .libs/connector.o .libs/nbest_generator.o .libs/writer.o .libs/string_buffer.o .libs/param.o .libs/tokenizer.o .libs/char_property.o .libs/dictionary.o .libs/feature_index.o .libs/lbfgs.o .libs/learner_tagger.o .libs/learner.o .libs/libmecab.o   -lpthread -L/usr/lib/gcc/x86_64-linux-gnu/7 -L/usr/lib/gcc/x86_64-linux-gnu/7/../../../x86_64-linux-gnu -L/usr/lib/gcc/x86_64-linux-gnu/7/../../../../lib -L/lib/x86_64-linux-gnu -L/lib/../lib -L/usr/lib/x86_64-linux-gnu -L/usr/lib/../lib -L/usr/local/cuda/lib64/stubs -L/usr/lib/gcc/x86_64-linux-gnu/7/../../.. -lstdc++ -lm -lc -lgcc_s /usr/lib/gcc/x86_64-linux-gnu/7/crtendS.o /usr/lib/gcc/x86_64-linux-gnu/7/../../../x86_64-linux-gnu/crtn.o  -O3   -Wl,-soname -Wl,libmecab.so.2 -o .libs/libmecab.so.2.0.0\n",
            "libtool: link: (cd \".libs\" && rm -f \"libmecab.so.2\" && ln -s \"libmecab.so.2.0.0\" \"libmecab.so.2\")\n",
            "libtool: link: (cd \".libs\" && rm -f \"libmecab.so\" && ln -s \"libmecab.so.2.0.0\" \"libmecab.so\")\n",
            "libtool: link: ar cru .libs/libmecab.a  viterbi.o tagger.o utils.o eval.o iconv_utils.o dictionary_rewriter.o dictionary_generator.o dictionary_compiler.o context_id.o connector.o nbest_generator.o writer.o string_buffer.o param.o tokenizer.o char_property.o dictionary.o feature_index.o lbfgs.o learner_tagger.o learner.o libmecab.o\n",
            "ar: `u' modifier ignored since `D' is the default (see `U')\n",
            "libtool: link: ranlib .libs/libmecab.a\n",
            "libtool: link: ( cd \".libs\" && rm -f \"libmecab.la\" && ln -s \"../libmecab.la\" \"libmecab.la\" )\n",
            "g++ -DHAVE_CONFIG_H -I. -I.. -DDIC_VERSION=102   -DMECAB_DEFAULT_RC=\"\\\"/usr/local/etc/mecabrc\\\"\"    -O3 -Wall  -c -o mecab.o mecab.cpp\n",
            "/bin/bash ../libtool --tag=CXX   --mode=link g++  -O3 -Wall    -o mecab mecab.o libmecab.la -lpthread -lpthread  -lstdc++ \n",
            "libtool: link: g++ -O3 -Wall -o .libs/mecab mecab.o  ./.libs/libmecab.so -lpthread -lstdc++\n",
            "g++ -DHAVE_CONFIG_H -I. -I.. -DDIC_VERSION=102   -DMECAB_DEFAULT_RC=\"\\\"/usr/local/etc/mecabrc\\\"\"    -O3 -Wall  -c -o mecab-dict-index.o mecab-dict-index.cpp\n",
            "/bin/bash ../libtool --tag=CXX   --mode=link g++  -O3 -Wall    -o mecab-dict-index mecab-dict-index.o libmecab.la -lpthread -lpthread  -lstdc++ \n",
            "libtool: link: g++ -O3 -Wall -o .libs/mecab-dict-index mecab-dict-index.o  ./.libs/libmecab.so -lpthread -lstdc++\n",
            "g++ -DHAVE_CONFIG_H -I. -I.. -DDIC_VERSION=102   -DMECAB_DEFAULT_RC=\"\\\"/usr/local/etc/mecabrc\\\"\"    -O3 -Wall  -c -o mecab-dict-gen.o mecab-dict-gen.cpp\n",
            "/bin/bash ../libtool --tag=CXX   --mode=link g++  -O3 -Wall    -o mecab-dict-gen mecab-dict-gen.o libmecab.la -lpthread -lpthread  -lstdc++ \n",
            "libtool: link: g++ -O3 -Wall -o .libs/mecab-dict-gen mecab-dict-gen.o  ./.libs/libmecab.so -lpthread -lstdc++\n",
            "g++ -DHAVE_CONFIG_H -I. -I.. -DDIC_VERSION=102   -DMECAB_DEFAULT_RC=\"\\\"/usr/local/etc/mecabrc\\\"\"    -O3 -Wall  -c -o mecab-cost-train.o mecab-cost-train.cpp\n",
            "/bin/bash ../libtool --tag=CXX   --mode=link g++  -O3 -Wall    -o mecab-cost-train mecab-cost-train.o libmecab.la -lpthread -lpthread  -lstdc++ \n",
            "libtool: link: g++ -O3 -Wall -o .libs/mecab-cost-train mecab-cost-train.o  ./.libs/libmecab.so -lpthread -lstdc++\n",
            "g++ -DHAVE_CONFIG_H -I. -I.. -DDIC_VERSION=102   -DMECAB_DEFAULT_RC=\"\\\"/usr/local/etc/mecabrc\\\"\"    -O3 -Wall  -c -o mecab-system-eval.o mecab-system-eval.cpp\n",
            "/bin/bash ../libtool --tag=CXX   --mode=link g++  -O3 -Wall    -o mecab-system-eval mecab-system-eval.o libmecab.la -lpthread -lpthread  -lstdc++ \n",
            "libtool: link: g++ -O3 -Wall -o .libs/mecab-system-eval mecab-system-eval.o  ./.libs/libmecab.so -lpthread -lstdc++\n",
            "g++ -DHAVE_CONFIG_H -I. -I.. -DDIC_VERSION=102   -DMECAB_DEFAULT_RC=\"\\\"/usr/local/etc/mecabrc\\\"\"    -O3 -Wall  -c -o mecab-test-gen.o mecab-test-gen.cpp\n",
            "/bin/bash ../libtool --tag=CXX   --mode=link g++  -O3 -Wall    -o mecab-test-gen mecab-test-gen.o libmecab.la -lpthread -lpthread  -lstdc++ \n",
            "libtool: link: g++ -O3 -Wall -o .libs/mecab-test-gen mecab-test-gen.o  ./.libs/libmecab.so -lpthread -lstdc++\n",
            "make[2]: Leaving directory '/tmp/mecab-0.996-ko-0.9.2/src'\n",
            "Making all in man\n",
            "make[2]: Entering directory '/tmp/mecab-0.996-ko-0.9.2/man'\n",
            "make[2]: Nothing to be done for 'all'.\n",
            "make[2]: Leaving directory '/tmp/mecab-0.996-ko-0.9.2/man'\n",
            "Making all in doc\n",
            "make[2]: Entering directory '/tmp/mecab-0.996-ko-0.9.2/doc'\n",
            "make[2]: Nothing to be done for 'all'.\n",
            "make[2]: Leaving directory '/tmp/mecab-0.996-ko-0.9.2/doc'\n",
            "Making all in tests\n",
            "make[2]: Entering directory '/tmp/mecab-0.996-ko-0.9.2/tests'\n",
            "make[2]: Nothing to be done for 'all'.\n",
            "make[2]: Leaving directory '/tmp/mecab-0.996-ko-0.9.2/tests'\n",
            "make[2]: Entering directory '/tmp/mecab-0.996-ko-0.9.2'\n",
            "make[2]: Leaving directory '/tmp/mecab-0.996-ko-0.9.2'\n",
            "make[1]: Leaving directory '/tmp/mecab-0.996-ko-0.9.2'\n",
            "Making check in src\n",
            "make[1]: Entering directory '/tmp/mecab-0.996-ko-0.9.2/src'\n",
            "make[1]: Nothing to be done for 'check'.\n",
            "make[1]: Leaving directory '/tmp/mecab-0.996-ko-0.9.2/src'\n",
            "Making check in man\n",
            "make[1]: Entering directory '/tmp/mecab-0.996-ko-0.9.2/man'\n",
            "make[1]: Nothing to be done for 'check'.\n",
            "make[1]: Leaving directory '/tmp/mecab-0.996-ko-0.9.2/man'\n",
            "Making check in doc\n",
            "make[1]: Entering directory '/tmp/mecab-0.996-ko-0.9.2/doc'\n",
            "make[1]: Nothing to be done for 'check'.\n",
            "make[1]: Leaving directory '/tmp/mecab-0.996-ko-0.9.2/doc'\n",
            "Making check in tests\n",
            "make[1]: Entering directory '/tmp/mecab-0.996-ko-0.9.2/tests'\n",
            "make  check-TESTS\n",
            "make[2]: Entering directory '/tmp/mecab-0.996-ko-0.9.2/tests'\n",
            "./pos-id.def is not found. minimum setting is used\n",
            "reading ./unk.def ... 2\n",
            "emitting double-array: 100% |###########################################| \n",
            "./model.def is not found. skipped.\n",
            "./pos-id.def is not found. minimum setting is used\n",
            "reading ./dic.csv ... 177\n",
            "emitting double-array: 100% |###########################################| \n",
            "reading ./matrix.def ... 178x178\n",
            "emitting matrix      : 100% |###########################################| \n",
            "\n",
            "done!\n",
            "./pos-id.def is not found. minimum setting is used\n",
            "reading ./unk.def ... 2\n",
            "emitting double-array: 100% |###########################################| \n",
            "./model.def is not found. skipped.\n",
            "./pos-id.def is not found. minimum setting is used\n",
            "reading ./dic.csv ... 83\n",
            "emitting double-array: 100% |###########################################| \n",
            "reading ./matrix.def ... 84x84\n",
            "emitting matrix      : 100% |###########################################| \n",
            "\n",
            "done!\n",
            "./pos-id.def is not found. minimum setting is used\n",
            "reading ./unk.def ... 2\n",
            "emitting double-array: 100% |###########################################| \n",
            "./model.def is not found. skipped.\n",
            "./pos-id.def is not found. minimum setting is used\n",
            "reading ./dic.csv ... 450\n",
            "emitting double-array: 100% |###########################################| \n",
            "reading ./matrix.def ... 1x1\n",
            "\n",
            "done!\n",
            "./pos-id.def is not found. minimum setting is used\n",
            "reading ./unk.def ... 2\n",
            "emitting double-array: 100% |###########################################| \n",
            "./model.def is not found. skipped.\n",
            "./pos-id.def is not found. minimum setting is used\n",
            "reading ./dic.csv ... 162\n",
            "emitting double-array: 100% |###########################################| \n",
            "reading ./matrix.def ... 3x3\n",
            "emitting matrix      : 100% |###########################################| \n",
            "\n",
            "done!\n",
            "./pos-id.def is not found. minimum setting is used\n",
            "reading ./unk.def ... 2\n",
            "emitting double-array: 100% |###########################################| \n",
            "./model.def is not found. skipped.\n",
            "./pos-id.def is not found. minimum setting is used\n",
            "reading ./dic.csv ... 4\n",
            "emitting double-array: 100% |###########################################| \n",
            "reading ./matrix.def ... 1x1\n",
            "\n",
            "done!\n",
            "./pos-id.def is not found. minimum setting is used\n",
            "reading ./unk.def ... 11\n",
            "emitting double-array: 100% |###########################################| \n",
            "./model.def is not found. skipped.\n",
            "./pos-id.def is not found. minimum setting is used\n",
            "reading ./dic.csv ... 1\n",
            "reading ./matrix.def ... 1x1\n",
            "\n",
            "done!\n",
            "./pos-id.def is not found. minimum setting is used\n",
            "reading ./unk.def ... 2\n",
            "emitting double-array: 100% |###########################################| \n",
            "./model.def is not found. skipped.\n",
            "./pos-id.def is not found. minimum setting is used\n",
            "reading ./dic.csv ... 1\n",
            "reading ./matrix.def ... 1x1\n",
            "\n",
            "done!\n",
            "PASS: run-dics.sh\n",
            "PASS: run-eval.sh\n",
            "seed/pos-id.def is not found. minimum setting is used\n",
            "reading seed/unk.def ... 40\n",
            "emitting double-array: 100% |###########################################| \n",
            "seed/model.def is not found. skipped.\n",
            "seed/pos-id.def is not found. minimum setting is used\n",
            "reading seed/dic.csv ... 4335\n",
            "emitting double-array: 100% |###########################################| \n",
            "reading seed/matrix.def ... 1x1\n",
            "\n",
            "done!\n",
            "reading corpus ...\n",
            "Number of sentences: 34\n",
            "Number of features:  64108\n",
            "eta:                 0.00005\n",
            "freq:                1\n",
            "eval-size:           6\n",
            "unk-eval-size:       4\n",
            "threads:             1\n",
            "charset:             EUC-JP\n",
            "C(sigma^2):          1.00000\n",
            "\n",
            "iter=0 err=1.00000 F=0.35771 target=2406.28355 diff=1.00000\n",
            "iter=1 err=0.97059 F=0.65652 target=1484.25231 diff=0.38318\n",
            "iter=2 err=0.91176 F=0.79331 target=863.32765 diff=0.41834\n",
            "iter=3 err=0.85294 F=0.89213 target=596.72480 diff=0.30881\n",
            "iter=4 err=0.61765 F=0.95467 target=336.30744 diff=0.43641\n",
            "iter=5 err=0.50000 F=0.96702 target=246.53039 diff=0.26695\n",
            "iter=6 err=0.35294 F=0.95472 target=188.93963 diff=0.23361\n",
            "iter=7 err=0.20588 F=0.99106 target=168.62665 diff=0.10751\n",
            "iter=8 err=0.05882 F=0.99777 target=158.64865 diff=0.05917\n",
            "iter=9 err=0.08824 F=0.99665 target=154.14530 diff=0.02839\n",
            "iter=10 err=0.08824 F=0.99665 target=151.94257 diff=0.01429\n",
            "iter=11 err=0.02941 F=0.99888 target=147.20825 diff=0.03116\n",
            "iter=12 err=0.00000 F=1.00000 target=147.34956 diff=0.00096\n",
            "iter=13 err=0.02941 F=0.99888 target=146.32592 diff=0.00695\n",
            "iter=14 err=0.00000 F=1.00000 target=145.77299 diff=0.00378\n",
            "iter=15 err=0.02941 F=0.99888 target=145.24641 diff=0.00361\n",
            "iter=16 err=0.00000 F=1.00000 target=144.96490 diff=0.00194\n",
            "iter=17 err=0.02941 F=0.99888 target=144.90246 diff=0.00043\n",
            "iter=18 err=0.00000 F=1.00000 target=144.75959 diff=0.00099\n",
            "iter=19 err=0.00000 F=1.00000 target=144.71727 diff=0.00029\n",
            "iter=20 err=0.00000 F=1.00000 target=144.66337 diff=0.00037\n",
            "iter=21 err=0.00000 F=1.00000 target=144.61349 diff=0.00034\n",
            "iter=22 err=0.00000 F=1.00000 target=144.62987 diff=0.00011\n",
            "iter=23 err=0.00000 F=1.00000 target=144.60060 diff=0.00020\n",
            "iter=24 err=0.00000 F=1.00000 target=144.59125 diff=0.00006\n",
            "iter=25 err=0.00000 F=1.00000 target=144.58619 diff=0.00004\n",
            "iter=26 err=0.00000 F=1.00000 target=144.58219 diff=0.00003\n",
            "iter=27 err=0.00000 F=1.00000 target=144.58059 diff=0.00001\n",
            "\n",
            "Done! writing model file ... \n",
            "model-ipadic.c1.0.f1.model is not a binary model. reopen it as text mode...\n",
            "reading seed/unk.def ... 40\n",
            "reading seed/dic.csv ... 4335\n",
            "emitting model-ipadic.c1.0.f1.dic/left-id.def/ model-ipadic.c1.0.f1.dic/right-id.def\n",
            "emitting model-ipadic.c1.0.f1.dic/unk.def ... 40\n",
            "emitting model-ipadic.c1.0.f1.dic/dic.csv ... 4335\n",
            "emitting matrix      : 100% |###########################################| \n",
            "copying seed/char.def to model-ipadic.c1.0.f1.dic/char.def\n",
            "copying seed/rewrite.def to model-ipadic.c1.0.f1.dic/rewrite.def\n",
            "copying seed/dicrc to model-ipadic.c1.0.f1.dic/dicrc\n",
            "copying seed/feature.def to model-ipadic.c1.0.f1.dic/feature.def\n",
            "copying model-ipadic.c1.0.f1.model to model-ipadic.c1.0.f1.dic/model.def\n",
            "\n",
            "done!\n",
            "model-ipadic.c1.0.f1.dic/pos-id.def is not found. minimum setting is used\n",
            "reading model-ipadic.c1.0.f1.dic/unk.def ... 40\n",
            "emitting double-array: 100% |###########################################| \n",
            "model-ipadic.c1.0.f1.dic/pos-id.def is not found. minimum setting is used\n",
            "reading model-ipadic.c1.0.f1.dic/dic.csv ... 4335\n",
            "emitting double-array: 100% |###########################################| \n",
            "reading model-ipadic.c1.0.f1.dic/matrix.def ... 346x346\n",
            "emitting matrix      : 100% |###########################################| \n",
            "\n",
            "done!\n",
            "              precision          recall         F\n",
            "LEVEL 0:    12.8959(57/442) 11.8998(57/479) 12.3779\n",
            "LEVEL 1:    12.2172(54/442) 11.2735(54/479) 11.7264\n",
            "LEVEL 2:    11.7647(52/442) 10.8559(52/479) 11.2921\n",
            "LEVEL 4:    11.7647(52/442) 10.8559(52/479) 11.2921\n",
            "PASS: run-cost-train.sh\n",
            "==================\n",
            "All 3 tests passed\n",
            "==================\n",
            "make[2]: Leaving directory '/tmp/mecab-0.996-ko-0.9.2/tests'\n",
            "make[1]: Leaving directory '/tmp/mecab-0.996-ko-0.9.2/tests'\n",
            "make[1]: Entering directory '/tmp/mecab-0.996-ko-0.9.2'\n",
            "make[1]: Leaving directory '/tmp/mecab-0.996-ko-0.9.2'\n",
            "Making install in src\n",
            "make[1]: Entering directory '/tmp/mecab-0.996-ko-0.9.2/src'\n",
            "make[2]: Entering directory '/tmp/mecab-0.996-ko-0.9.2/src'\n",
            "test -z \"/usr/local/lib\" || /bin/mkdir -p \"/usr/local/lib\"\n",
            " /bin/bash ../libtool   --mode=install /usr/bin/install -c   libmecab.la '/usr/local/lib'\n",
            "libtool: install: /usr/bin/install -c .libs/libmecab.so.2.0.0 /usr/local/lib/libmecab.so.2.0.0\n",
            "libtool: install: (cd /usr/local/lib && { ln -s -f libmecab.so.2.0.0 libmecab.so.2 || { rm -f libmecab.so.2 && ln -s libmecab.so.2.0.0 libmecab.so.2; }; })\n",
            "libtool: install: (cd /usr/local/lib && { ln -s -f libmecab.so.2.0.0 libmecab.so || { rm -f libmecab.so && ln -s libmecab.so.2.0.0 libmecab.so; }; })\n",
            "libtool: install: /usr/bin/install -c .libs/libmecab.lai /usr/local/lib/libmecab.la\n",
            "libtool: install: /usr/bin/install -c .libs/libmecab.a /usr/local/lib/libmecab.a\n",
            "libtool: install: chmod 644 /usr/local/lib/libmecab.a\n",
            "libtool: install: ranlib /usr/local/lib/libmecab.a\n",
            "libtool: finish: PATH=\"/usr/local/sbin:/usr/local/bin:/usr/sbin:/usr/bin:/sbin:/bin:/snap/bin:/sbin\" ldconfig -n /usr/local/lib\n",
            "----------------------------------------------------------------------\n",
            "Libraries have been installed in:\n",
            "   /usr/local/lib\n",
            "\n",
            "If you ever happen to want to link against installed libraries\n",
            "in a given directory, LIBDIR, you must either use libtool, and\n",
            "specify the full pathname of the library, or use the `-LLIBDIR'\n",
            "flag during linking and do at least one of the following:\n",
            "   - add LIBDIR to the `LD_LIBRARY_PATH' environment variable\n",
            "     during execution\n",
            "   - add LIBDIR to the `LD_RUN_PATH' environment variable\n",
            "     during linking\n",
            "   - use the `-Wl,-rpath -Wl,LIBDIR' linker flag\n",
            "   - have your system administrator add LIBDIR to `/etc/ld.so.conf'\n",
            "\n",
            "See any operating system documentation about shared libraries for\n",
            "more information, such as the ld(1) and ld.so(8) manual pages.\n",
            "----------------------------------------------------------------------\n",
            "test -z \"/usr/local/bin\" || /bin/mkdir -p \"/usr/local/bin\"\n",
            "  /bin/bash ../libtool   --mode=install /usr/bin/install -c mecab '/usr/local/bin'\n",
            "libtool: install: /usr/bin/install -c .libs/mecab /usr/local/bin/mecab\n",
            "test -z \"/usr/local/libexec/mecab\" || /bin/mkdir -p \"/usr/local/libexec/mecab\"\n",
            "  /bin/bash ../libtool   --mode=install /usr/bin/install -c mecab-dict-index mecab-dict-gen mecab-cost-train mecab-system-eval mecab-test-gen '/usr/local/libexec/mecab'\n",
            "libtool: install: /usr/bin/install -c .libs/mecab-dict-index /usr/local/libexec/mecab/mecab-dict-index\n",
            "libtool: install: /usr/bin/install -c .libs/mecab-dict-gen /usr/local/libexec/mecab/mecab-dict-gen\n",
            "libtool: install: /usr/bin/install -c .libs/mecab-cost-train /usr/local/libexec/mecab/mecab-cost-train\n",
            "libtool: install: /usr/bin/install -c .libs/mecab-system-eval /usr/local/libexec/mecab/mecab-system-eval\n",
            "libtool: install: /usr/bin/install -c .libs/mecab-test-gen /usr/local/libexec/mecab/mecab-test-gen\n",
            "test -z \"/usr/local/include\" || /bin/mkdir -p \"/usr/local/include\"\n",
            " /usr/bin/install -c -m 644 mecab.h '/usr/local/include'\n",
            "make[2]: Leaving directory '/tmp/mecab-0.996-ko-0.9.2/src'\n",
            "make[1]: Leaving directory '/tmp/mecab-0.996-ko-0.9.2/src'\n",
            "Making install in man\n",
            "make[1]: Entering directory '/tmp/mecab-0.996-ko-0.9.2/man'\n",
            "make[2]: Entering directory '/tmp/mecab-0.996-ko-0.9.2/man'\n",
            "make[2]: Nothing to be done for 'install-exec-am'.\n",
            "test -z \"/usr/local/share/man/man1\" || /bin/mkdir -p \"/usr/local/share/man/man1\"\n",
            " /usr/bin/install -c -m 644 mecab.1 '/usr/local/share/man/man1'\n",
            "make[2]: Leaving directory '/tmp/mecab-0.996-ko-0.9.2/man'\n",
            "make[1]: Leaving directory '/tmp/mecab-0.996-ko-0.9.2/man'\n",
            "Making install in doc\n",
            "make[1]: Entering directory '/tmp/mecab-0.996-ko-0.9.2/doc'\n",
            "make[2]: Entering directory '/tmp/mecab-0.996-ko-0.9.2/doc'\n",
            "make[2]: Nothing to be done for 'install-exec-am'.\n",
            "make[2]: Nothing to be done for 'install-data-am'.\n",
            "make[2]: Leaving directory '/tmp/mecab-0.996-ko-0.9.2/doc'\n",
            "make[1]: Leaving directory '/tmp/mecab-0.996-ko-0.9.2/doc'\n",
            "Making install in tests\n",
            "make[1]: Entering directory '/tmp/mecab-0.996-ko-0.9.2/tests'\n",
            "make[2]: Entering directory '/tmp/mecab-0.996-ko-0.9.2/tests'\n",
            "make[2]: Nothing to be done for 'install-exec-am'.\n",
            "make[2]: Nothing to be done for 'install-data-am'.\n",
            "make[2]: Leaving directory '/tmp/mecab-0.996-ko-0.9.2/tests'\n",
            "make[1]: Leaving directory '/tmp/mecab-0.996-ko-0.9.2/tests'\n",
            "make[1]: Entering directory '/tmp/mecab-0.996-ko-0.9.2'\n",
            "make[2]: Entering directory '/tmp/mecab-0.996-ko-0.9.2'\n",
            "test -z \"/usr/local/bin\" || /bin/mkdir -p \"/usr/local/bin\"\n",
            " /usr/bin/install -c mecab-config '/usr/local/bin'\n",
            "test -z \"/usr/local/etc\" || /bin/mkdir -p \"/usr/local/etc\"\n",
            " /usr/bin/install -c -m 644 mecabrc '/usr/local/etc'\n",
            "make[2]: Leaving directory '/tmp/mecab-0.996-ko-0.9.2'\n",
            "make[1]: Leaving directory '/tmp/mecab-0.996-ko-0.9.2'\n",
            "Install mecab-ko-dic\n",
            "Install mecab-ko-dic\n",
            "  % Total    % Received % Xferd  Average Speed   Time    Time     Time  Current\n",
            "                                 Dload  Upload   Total   Spent    Left  Speed\n",
            "  0     0    0     0    0     0      0      0 --:--:-- --:--:-- --:--:--     0\n",
            "100 47.4M  100 47.4M    0     0  75.3M      0 --:--:-- --:--:-- --:--:-- 94.9M\n",
            "mecab-ko-dic-2.1.1-20180720/\n",
            "mecab-ko-dic-2.1.1-20180720/configure\n",
            "mecab-ko-dic-2.1.1-20180720/COPYING\n",
            "mecab-ko-dic-2.1.1-20180720/autogen.sh\n",
            "mecab-ko-dic-2.1.1-20180720/Place-station.csv\n",
            "mecab-ko-dic-2.1.1-20180720/NNG.csv\n",
            "mecab-ko-dic-2.1.1-20180720/README\n",
            "mecab-ko-dic-2.1.1-20180720/EF.csv\n",
            "mecab-ko-dic-2.1.1-20180720/MAG.csv\n",
            "mecab-ko-dic-2.1.1-20180720/Preanalysis.csv\n",
            "mecab-ko-dic-2.1.1-20180720/NNB.csv\n",
            "mecab-ko-dic-2.1.1-20180720/Person-actor.csv\n",
            "mecab-ko-dic-2.1.1-20180720/VV.csv\n",
            "mecab-ko-dic-2.1.1-20180720/Makefile.in\n",
            "mecab-ko-dic-2.1.1-20180720/matrix.def\n",
            "mecab-ko-dic-2.1.1-20180720/EC.csv\n",
            "mecab-ko-dic-2.1.1-20180720/NNBC.csv\n",
            "mecab-ko-dic-2.1.1-20180720/clean\n",
            "mecab-ko-dic-2.1.1-20180720/ChangeLog\n",
            "mecab-ko-dic-2.1.1-20180720/J.csv\n",
            "mecab-ko-dic-2.1.1-20180720/.keep\n",
            "mecab-ko-dic-2.1.1-20180720/feature.def\n",
            "mecab-ko-dic-2.1.1-20180720/Foreign.csv\n",
            "mecab-ko-dic-2.1.1-20180720/XPN.csv\n",
            "mecab-ko-dic-2.1.1-20180720/EP.csv\n",
            "mecab-ko-dic-2.1.1-20180720/NR.csv\n",
            "mecab-ko-dic-2.1.1-20180720/left-id.def\n",
            "mecab-ko-dic-2.1.1-20180720/Place.csv\n",
            "mecab-ko-dic-2.1.1-20180720/Symbol.csv\n",
            "mecab-ko-dic-2.1.1-20180720/dicrc\n",
            "mecab-ko-dic-2.1.1-20180720/NP.csv\n",
            "mecab-ko-dic-2.1.1-20180720/ETM.csv\n",
            "mecab-ko-dic-2.1.1-20180720/IC.csv\n",
            "mecab-ko-dic-2.1.1-20180720/Place-address.csv\n",
            "mecab-ko-dic-2.1.1-20180720/Group.csv\n",
            "mecab-ko-dic-2.1.1-20180720/model.def\n",
            "mecab-ko-dic-2.1.1-20180720/XSN.csv\n",
            "mecab-ko-dic-2.1.1-20180720/INSTALL\n",
            "mecab-ko-dic-2.1.1-20180720/rewrite.def\n",
            "mecab-ko-dic-2.1.1-20180720/Inflect.csv\n",
            "mecab-ko-dic-2.1.1-20180720/configure.ac\n",
            "mecab-ko-dic-2.1.1-20180720/NNP.csv\n",
            "mecab-ko-dic-2.1.1-20180720/CoinedWord.csv\n",
            "mecab-ko-dic-2.1.1-20180720/XSV.csv\n",
            "mecab-ko-dic-2.1.1-20180720/pos-id.def\n",
            "mecab-ko-dic-2.1.1-20180720/Makefile.am\n",
            "mecab-ko-dic-2.1.1-20180720/unk.def\n",
            "mecab-ko-dic-2.1.1-20180720/missing\n",
            "mecab-ko-dic-2.1.1-20180720/VCP.csv\n",
            "mecab-ko-dic-2.1.1-20180720/install-sh\n",
            "mecab-ko-dic-2.1.1-20180720/Hanja.csv\n",
            "mecab-ko-dic-2.1.1-20180720/MAJ.csv\n",
            "mecab-ko-dic-2.1.1-20180720/XSA.csv\n",
            "mecab-ko-dic-2.1.1-20180720/Wikipedia.csv\n",
            "mecab-ko-dic-2.1.1-20180720/tools/\n",
            "mecab-ko-dic-2.1.1-20180720/tools/add-userdic.sh\n",
            "mecab-ko-dic-2.1.1-20180720/tools/mecab-bestn.sh\n",
            "mecab-ko-dic-2.1.1-20180720/tools/convert_for_using_store.sh\n",
            "mecab-ko-dic-2.1.1-20180720/user-dic/\n",
            "mecab-ko-dic-2.1.1-20180720/user-dic/nnp.csv\n",
            "mecab-ko-dic-2.1.1-20180720/user-dic/place.csv\n",
            "mecab-ko-dic-2.1.1-20180720/user-dic/person.csv\n",
            "mecab-ko-dic-2.1.1-20180720/user-dic/README.md\n",
            "mecab-ko-dic-2.1.1-20180720/NorthKorea.csv\n",
            "mecab-ko-dic-2.1.1-20180720/VX.csv\n",
            "mecab-ko-dic-2.1.1-20180720/right-id.def\n",
            "mecab-ko-dic-2.1.1-20180720/VA.csv\n",
            "mecab-ko-dic-2.1.1-20180720/char.def\n",
            "mecab-ko-dic-2.1.1-20180720/NEWS\n",
            "mecab-ko-dic-2.1.1-20180720/MM.csv\n",
            "mecab-ko-dic-2.1.1-20180720/ETN.csv\n",
            "mecab-ko-dic-2.1.1-20180720/AUTHORS\n",
            "mecab-ko-dic-2.1.1-20180720/Person.csv\n",
            "mecab-ko-dic-2.1.1-20180720/XR.csv\n",
            "mecab-ko-dic-2.1.1-20180720/VCN.csv\n",
            "Looking in current directory for macros.\n",
            "configure.ac:2: warning: AM_INIT_AUTOMAKE: two- and three-arguments forms are deprecated.  For more info, see:\n",
            "configure.ac:2: http://www.gnu.org/software/automake/manual/automake.html#Modernize-AM_005fINIT_005fAUTOMAKE-invocation\n",
            "checking for a BSD-compatible install... /usr/bin/install -c\n",
            "checking whether build environment is sane... yes\n",
            "/tmp/mecab-ko-dic-2.1.1-20180720/missing: Unknown `--is-lightweight' option\n",
            "Try `/tmp/mecab-ko-dic-2.1.1-20180720/missing --help' for more information\n",
            "configure: WARNING: 'missing' script is too old or missing\n",
            "checking for a thread-safe mkdir -p... /bin/mkdir -p\n",
            "checking for gawk... no\n",
            "checking for mawk... mawk\n",
            "checking whether make sets $(MAKE)... yes\n",
            "checking whether make supports nested variables... yes\n",
            "checking for mecab-config... /usr/local/bin/mecab-config\n",
            "checking that generated files are newer than configure... done\n",
            "configure: creating ./config.status\n",
            "config.status: creating Makefile\n",
            "/usr/local/lib\n",
            "/sbin/ldconfig.real: /usr/local/lib/python3.7/dist-packages/ideep4py/lib/libmkldnn.so.0 is not a symbolic link\n",
            "\n",
            "/usr/local/libexec/mecab/mecab-dict-index -d . -o . -f UTF-8 -t UTF-8\n",
            "reading ./unk.def ... 13\n",
            "emitting double-array: 100% |###########################################| \n",
            "reading ./J.csv ... 416\n",
            "reading ./XPN.csv ... 83\n",
            "reading ./Symbol.csv ... 16\n",
            "reading ./CoinedWord.csv ... 148\n",
            "reading ./Hanja.csv ... 125750\n",
            "reading ./NR.csv ... 482\n",
            "reading ./Place-address.csv ... 19301\n",
            "reading ./EC.csv ... 2547\n",
            "reading ./XR.csv ... 3637\n",
            "reading ./Wikipedia.csv ... 36762\n",
            "reading ./Place.csv ... 30303\n",
            "reading ./Foreign.csv ... 11690\n",
            "reading ./XSA.csv ... 19\n",
            "reading ./VCN.csv ... 7\n",
            "reading ./IC.csv ... 1305\n",
            "reading ./ETN.csv ... 14\n",
            "reading ./NNG.csv ... 208524\n",
            "reading ./EF.csv ... 1820\n",
            "reading ./MAG.csv ... 14242\n",
            "reading ./NNBC.csv ... 677\n",
            "reading ./MAJ.csv ... 240\n",
            "reading ./ETM.csv ... 133\n",
            "reading ./XSV.csv ... 23\n",
            "reading ./NP.csv ... 342\n",
            "reading ./EP.csv ... 51\n",
            "reading ./Person-actor.csv ... 99230\n",
            "reading ./VX.csv ... 125\n",
            "reading ./VA.csv ... 2360\n",
            "reading ./VCP.csv ... 9\n",
            "reading ./NNP.csv ... 2371\n",
            "reading ./Preanalysis.csv ... 5\n",
            "reading ./Inflect.csv ... 44820\n",
            "reading ./NNB.csv ... 140\n",
            "reading ./VV.csv ... 7331\n",
            "reading ./MM.csv ... 453\n",
            "reading ./Group.csv ... 3176\n",
            "reading ./Person.csv ... 196459\n",
            "reading ./NorthKorea.csv ... 3\n",
            "reading ./Place-station.csv ... 1145\n",
            "reading ./XSN.csv ... 124\n",
            "emitting double-array: 100% |###########################################| \n",
            "reading ./matrix.def ... 3822x2693\n",
            "emitting matrix      : 100% |###########################################| \n",
            "\n",
            "done!\n",
            "echo To enable dictionary, rewrite /usr/local/etc/mecabrc as \\\"dicdir = /usr/local/lib/mecab/dic/mecab-ko-dic\\\"\n",
            "To enable dictionary, rewrite /usr/local/etc/mecabrc as \"dicdir = /usr/local/lib/mecab/dic/mecab-ko-dic\"\n",
            "make[1]: Entering directory '/tmp/mecab-ko-dic-2.1.1-20180720'\n",
            "make[1]: Nothing to be done for 'install-exec-am'.\n",
            " /bin/mkdir -p '/usr/local/lib/mecab/dic/mecab-ko-dic'\n",
            " /usr/bin/install -c -m 644 model.bin matrix.bin char.bin sys.dic unk.dic left-id.def right-id.def rewrite.def pos-id.def dicrc '/usr/local/lib/mecab/dic/mecab-ko-dic'\n",
            "make[1]: Leaving directory '/tmp/mecab-ko-dic-2.1.1-20180720'\n",
            "Install mecab-python\n",
            "/tmp /tmp/mecab-ko-dic-2.1.1-20180720\n",
            "Cloning into 'mecab-python-0.996'...\n",
            "Unpacking objects: 100% (17/17), done.\n",
            "/tmp/mecab-ko-dic-2.1.1-20180720\n",
            "Processing /tmp/mecab-python-0.996\n",
            "\u001b[33m  DEPRECATION: A future pip version will change local packages to be built in-place without first copying to a temporary directory. We recommend you use --use-feature=in-tree-build to test your packages with this new behavior before it becomes the default.\n",
            "   pip 21.3 will remove support for this functionality. You can find discussion regarding this at https://github.com/pypa/pip/issues/7555.\u001b[0m\n",
            "Building wheels for collected packages: mecab-python\n",
            "  Building wheel for mecab-python (setup.py) ... \u001b[?25l\u001b[?25hdone\n",
            "  Created wheel for mecab-python: filename=mecab_python-0.996_ko_0.9.2-cp37-cp37m-linux_x86_64.whl size=141816 sha256=8d1cac97077449fdefa519dd9618f3bfc893e833078c3e8037c46622346809b2\n",
            "  Stored in directory: /root/.cache/pip/wheels/40/7b/9f/2922869bef86c3354ae7034f7a3647c573ee1997c2dad0290a\n",
            "\u001b[33m  WARNING: Built wheel for mecab-python is invalid: Metadata 1.2 mandates PEP 440 version, but '0.996-ko-0.9.2' is not\u001b[0m\n",
            "Failed to build mecab-python\n",
            "Installing collected packages: mecab-python\n",
            "    Running setup.py install for mecab-python ... \u001b[?25l\u001b[?25hdone\n",
            "\u001b[33m  DEPRECATION: mecab-python was installed using the legacy 'setup.py install' method, because a wheel could not be built for it. A possible replacement is to fix the wheel build issue reported above. You can find discussion regarding this at https://github.com/pypa/pip/issues/8368.\u001b[0m\n",
            "Successfully installed mecab-python-0.996-ko-0.9.2\n",
            "Done.\n"
          ],
          "name": "stdout"
        }
      ]
    },
    {
      "cell_type": "code",
      "metadata": {
        "colab": {
          "base_uri": "https://localhost:8080/"
        },
        "id": "Rk0EolE4z14z",
        "outputId": "3aaadc52-1f45-4bd2-9f9f-1075d22bad9f"
      },
      "source": [
        "!curl -O https://raw.githubusercontent.com/bab2min/corpus/master/sentiment/naver_shopping.txt"
      ],
      "execution_count": 4,
      "outputs": [
        {
          "output_type": "stream",
          "text": [
            "  % Total    % Received % Xferd  Average Speed   Time    Time     Time  Current\n",
            "                                 Dload  Upload   Total   Spent    Left  Speed\n",
            "100 19.6M  100 19.6M    0     0  86.2M      0 --:--:-- --:--:-- --:--:-- 86.2M\n"
          ],
          "name": "stdout"
        }
      ]
    },
    {
      "cell_type": "code",
      "metadata": {
        "colab": {
          "base_uri": "https://localhost:8080/",
          "height": 357
        },
        "id": "92UIyWl60mRl",
        "outputId": "08f1d8cf-c660-4dc8-d703-338de509bdb4"
      },
      "source": [
        "import pandas as pd\n",
        "\n",
        "total_data = pd.read_table('./naver_shopping.txt', names=['ratings', 'reviews'])\n",
        "total_data.head(10)"
      ],
      "execution_count": 5,
      "outputs": [
        {
          "output_type": "execute_result",
          "data": {
            "text/html": [
              "<div>\n",
              "<style scoped>\n",
              "    .dataframe tbody tr th:only-of-type {\n",
              "        vertical-align: middle;\n",
              "    }\n",
              "\n",
              "    .dataframe tbody tr th {\n",
              "        vertical-align: top;\n",
              "    }\n",
              "\n",
              "    .dataframe thead th {\n",
              "        text-align: right;\n",
              "    }\n",
              "</style>\n",
              "<table border=\"1\" class=\"dataframe\">\n",
              "  <thead>\n",
              "    <tr style=\"text-align: right;\">\n",
              "      <th></th>\n",
              "      <th>ratings</th>\n",
              "      <th>reviews</th>\n",
              "    </tr>\n",
              "  </thead>\n",
              "  <tbody>\n",
              "    <tr>\n",
              "      <th>0</th>\n",
              "      <td>5</td>\n",
              "      <td>배공빠르고 굿</td>\n",
              "    </tr>\n",
              "    <tr>\n",
              "      <th>1</th>\n",
              "      <td>2</td>\n",
              "      <td>택배가 엉망이네용 저희집 밑에층에 말도없이 놔두고가고</td>\n",
              "    </tr>\n",
              "    <tr>\n",
              "      <th>2</th>\n",
              "      <td>5</td>\n",
              "      <td>아주좋아요 바지 정말 좋아서2개 더 구매했어요 이가격에 대박입니다. 바느질이 조금 ...</td>\n",
              "    </tr>\n",
              "    <tr>\n",
              "      <th>3</th>\n",
              "      <td>2</td>\n",
              "      <td>선물용으로 빨리 받아서 전달했어야 하는 상품이었는데 머그컵만 와서 당황했습니다. 전...</td>\n",
              "    </tr>\n",
              "    <tr>\n",
              "      <th>4</th>\n",
              "      <td>5</td>\n",
              "      <td>민트색상 예뻐요. 옆 손잡이는 거는 용도로도 사용되네요 ㅎㅎ</td>\n",
              "    </tr>\n",
              "    <tr>\n",
              "      <th>5</th>\n",
              "      <td>2</td>\n",
              "      <td>비추합니다 계란 뒤집을 때 완전 불편해요 ㅠㅠ 코팅도 묻어나고 보기엔 예쁘고 실용적...</td>\n",
              "    </tr>\n",
              "    <tr>\n",
              "      <th>6</th>\n",
              "      <td>1</td>\n",
              "      <td>주문을 11월6에 시켰는데 11월16일에 배송이 왔네요 ㅎㅎㅎ 여기 회사측과는 전화...</td>\n",
              "    </tr>\n",
              "    <tr>\n",
              "      <th>7</th>\n",
              "      <td>2</td>\n",
              "      <td>넉넉한 길이로 주문했는데도 안 맞네요 별로예요</td>\n",
              "    </tr>\n",
              "    <tr>\n",
              "      <th>8</th>\n",
              "      <td>2</td>\n",
              "      <td>보폴이 계속 때처럼 나오다가 지금은 안나네요~</td>\n",
              "    </tr>\n",
              "    <tr>\n",
              "      <th>9</th>\n",
              "      <td>2</td>\n",
              "      <td>110인데 전문속옷브랜드 위생팬티105보다 작은듯해요. 불편해요. 밴딩부분이 다 신...</td>\n",
              "    </tr>\n",
              "  </tbody>\n",
              "</table>\n",
              "</div>"
            ],
            "text/plain": [
              "   ratings                                            reviews\n",
              "0        5                                            배공빠르고 굿\n",
              "1        2                      택배가 엉망이네용 저희집 밑에층에 말도없이 놔두고가고\n",
              "2        5  아주좋아요 바지 정말 좋아서2개 더 구매했어요 이가격에 대박입니다. 바느질이 조금 ...\n",
              "3        2  선물용으로 빨리 받아서 전달했어야 하는 상품이었는데 머그컵만 와서 당황했습니다. 전...\n",
              "4        5                  민트색상 예뻐요. 옆 손잡이는 거는 용도로도 사용되네요 ㅎㅎ\n",
              "5        2  비추합니다 계란 뒤집을 때 완전 불편해요 ㅠㅠ 코팅도 묻어나고 보기엔 예쁘고 실용적...\n",
              "6        1  주문을 11월6에 시켰는데 11월16일에 배송이 왔네요 ㅎㅎㅎ 여기 회사측과는 전화...\n",
              "7        2                          넉넉한 길이로 주문했는데도 안 맞네요 별로예요\n",
              "8        2                          보폴이 계속 때처럼 나오다가 지금은 안나네요~\n",
              "9        2  110인데 전문속옷브랜드 위생팬티105보다 작은듯해요. 불편해요. 밴딩부분이 다 신..."
            ]
          },
          "metadata": {
            "tags": []
          },
          "execution_count": 5
        }
      ]
    },
    {
      "cell_type": "code",
      "metadata": {
        "colab": {
          "base_uri": "https://localhost:8080/"
        },
        "id": "R1UHAJP11IeT",
        "outputId": "e867a8eb-0214-489b-c0e9-5c10aa4e90c7"
      },
      "source": [
        "total_data.info()\n",
        "\n",
        "# RangeIndex = Non-null = 200000 -> 결측치가 없다 "
      ],
      "execution_count": 6,
      "outputs": [
        {
          "output_type": "stream",
          "text": [
            "<class 'pandas.core.frame.DataFrame'>\n",
            "RangeIndex: 200000 entries, 0 to 199999\n",
            "Data columns (total 2 columns):\n",
            " #   Column   Non-Null Count   Dtype \n",
            "---  ------   --------------   ----- \n",
            " 0   ratings  200000 non-null  int64 \n",
            " 1   reviews  200000 non-null  object\n",
            "dtypes: int64(1), object(1)\n",
            "memory usage: 3.1+ MB\n"
          ],
          "name": "stdout"
        }
      ]
    },
    {
      "cell_type": "code",
      "metadata": {
        "colab": {
          "base_uri": "https://localhost:8080/"
        },
        "id": "iq532Uil1t3s",
        "outputId": "9dcdc7de-2330-4afd-b35c-bfb9cec33387"
      },
      "source": [
        "total_data.drop_duplicates(subset=['reviews'], inplace=True)  # inplace -> 변수를 덮어쓰기\n",
        "len(total_data)\n",
        "\n",
        "# 중복값 제거. 전체 값 200000에서 줄었음"
      ],
      "execution_count": 7,
      "outputs": [
        {
          "output_type": "execute_result",
          "data": {
            "text/plain": [
              "199908"
            ]
          },
          "metadata": {
            "tags": []
          },
          "execution_count": 7
        }
      ]
    },
    {
      "cell_type": "code",
      "metadata": {
        "id": "KrvZPSYc2xNf"
      },
      "source": [
        "from sklearn.model_selection import train_test_split"
      ],
      "execution_count": 8,
      "outputs": []
    },
    {
      "cell_type": "code",
      "metadata": {
        "id": "2p8t7O1h35LR"
      },
      "source": [
        "x_data = total_data['reviews']\n",
        "y_data = total_data['ratings']"
      ],
      "execution_count": 9,
      "outputs": []
    },
    {
      "cell_type": "code",
      "metadata": {
        "colab": {
          "base_uri": "https://localhost:8080/"
        },
        "id": "EoyynwqQ3uZ3",
        "outputId": "416458b5-2084-4671-df61-1372bfff3ed5"
      },
      "source": [
        "x_train, x_test, y_train, y_test = train_test_split(x_data, y_data)\n",
        "x_train.shape, y_train.shape, x_test.shape, y_test.shape"
      ],
      "execution_count": 10,
      "outputs": [
        {
          "output_type": "execute_result",
          "data": {
            "text/plain": [
              "((149931,), (149931,), (49977,), (49977,))"
            ]
          },
          "metadata": {
            "tags": []
          },
          "execution_count": 10
        }
      ]
    },
    {
      "cell_type": "code",
      "metadata": {
        "colab": {
          "base_uri": "https://localhost:8080/"
        },
        "id": "VRI7nig-4kRY",
        "outputId": "6d4c1544-506b-432e-8099-6568161bf579"
      },
      "source": [
        "y_data.value_counts()"
      ],
      "execution_count": 11,
      "outputs": [
        {
          "output_type": "execute_result",
          "data": {
            "text/plain": [
              "5    81170\n",
              "2    63948\n",
              "1    36007\n",
              "4    18783\n",
              "Name: ratings, dtype: int64"
            ]
          },
          "metadata": {
            "tags": []
          },
          "execution_count": 11
        }
      ]
    },
    {
      "cell_type": "code",
      "metadata": {
        "colab": {
          "base_uri": "https://localhost:8080/",
          "height": 280
        },
        "id": "KkdPQN585eYj",
        "outputId": "f399d90b-56dc-4960-e86f-f1d1d84d5d9e"
      },
      "source": [
        "y_data.value_counts().plot(kind='bar')"
      ],
      "execution_count": 12,
      "outputs": [
        {
          "output_type": "execute_result",
          "data": {
            "text/plain": [
              "<matplotlib.axes._subplots.AxesSubplot at 0x7fd5c8317950>"
            ]
          },
          "metadata": {
            "tags": []
          },
          "execution_count": 12
        },
        {
          "output_type": "display_data",
          "data": {
            "image/png": "[encoded data removed]",
            "text/plain": [
              "<Figure size 432x288 with 1 Axes>"
            ]
          },
          "metadata": {
            "tags": [],
            "needs_background": "light"
          }
        }
      ]
    },
    {
      "cell_type": "markdown",
      "metadata": {
        "id": "MtZMfyU9PcwW"
      },
      "source": [
        "# NLP"
      ]
    },
    {
      "cell_type": "code",
      "metadata": {
        "colab": {
          "base_uri": "https://localhost:8080/"
        },
        "id": "W2r0OYiDjfIm",
        "outputId": "bea0fc53-d61e-4d32-e9c3-40c4d4fd1ea8"
      },
      "source": [
        "# 한글만 가져오기\n",
        "print(x_train.str.replace('[^가-힣ㄱ-ㅎㅠ]', ''))\n",
        "\n",
        "# 영문만 가져오기 [^a-zA-Z]"
      ],
      "execution_count": 13,
      "outputs": [
        {
          "output_type": "stream",
          "text": [
            "87920     아직사용한지틀밖에안되어서잘모르겠네요상품평들이좋아서기대하고있어요상품과함께편지도적어주시...\n",
            "2851                               케이스호환률라하셨는데호환이안되네요두개나샀는데\n",
            "20                                  가성비괜찮습니다바퀴가고정된다면별다섯개짜린데\n",
            "75350                                        막심하게나오지는않는거같아요\n",
            "98941     상품은만족합니다다만배송이아주맘에안듭니다역대최악의배송이었습니다배송지가아닌다른곳에내려놓...\n",
            "                                ...                        \n",
            "104359            정사이즈보다훨씬크게나왔네요깔창하나깔았는데도너무커서뒷굽깔창하나더사야할듯합니다\n",
            "55605                        배송도빠르고원단도너무좋아요추가구입해야겠어요가격대비아주굿\n",
            "64096     일회용만큼은차단하는데힘든점이있지만가볍게마트나산책갈때쓰기는괜찮아요흘러내려와서끈조절을하...\n",
            "57433                                  강추하지안씁니다넘저렴한거구매하지마세요\n",
            "166924    받아보고더만족스러운제품이예요끝단프릴도이뿌고스티지마감도고급스러워서이뻐요백화점이곳저곳제...\n",
            "Name: reviews, Length: 149931, dtype: object\n"
          ],
          "name": "stdout"
        }
      ]
    },
    {
      "cell_type": "code",
      "metadata": {
        "id": "US8Sj9EXOzhp"
      },
      "source": [
        "from konlpy.tag import  Mecab"
      ],
      "execution_count": 14,
      "outputs": []
    },
    {
      "cell_type": "code",
      "metadata": {
        "colab": {
          "base_uri": "https://localhost:8080/"
        },
        "id": "GT1eeIHDPi0g",
        "outputId": "5c9ea75e-36cc-4ae7-be70-eaedd0866080"
      },
      "source": [
        "mecab = Mecab()\n",
        "print( mecab.morphs('와 이런 것도 상품이라고 차라리 내가 만드는게 나을 것 같다.') )"
      ],
      "execution_count": 15,
      "outputs": [
        {
          "output_type": "stream",
          "text": [
            "['와', '이런', '것', '도', '상품', '이', '라고', '차라리', '내', '가', '만드', '는', '게', '나을', '것', '같', '다', '.']\n"
          ],
          "name": "stdout"
        }
      ]
    },
    {
      "cell_type": "code",
      "metadata": {
        "id": "nmAyDkeQRpw5"
      },
      "source": [
        "x_train_small = x_train[0:5000]"
      ],
      "execution_count": 16,
      "outputs": []
    },
    {
      "cell_type": "code",
      "metadata": {
        "id": "G3njKHZEP49N"
      },
      "source": [
        "sentence= list()\n",
        "stopwords = ['도', '는', '다', '의', '가', '이', '은', '한', '에', '하', '고', '을', '를', '인', '듯', '과', '와', '네', '들', '듯', '지', '임', '게']\n",
        "\n",
        "for tok in x_train_small:\n",
        "  encoded = mecab.morphs(tok)\n",
        "\n",
        "  # 불용어 처리\n",
        "  sentence.append([ item for item in encoded if item not in stopwords ])\n",
        "  # for item in encoded:\n",
        "  #   if item not in stopwords:\n",
        "  #     sentence.append(item)\n"
      ],
      "execution_count": 17,
      "outputs": []
    },
    {
      "cell_type": "markdown",
      "metadata": {
        "id": "5sK9EDglTjrk"
      },
      "source": [
        "# Tokenize"
      ]
    },
    {
      "cell_type": "code",
      "metadata": {
        "id": "CAQGmUf3RBi4"
      },
      "source": [
        "import tensorflow as tf"
      ],
      "execution_count": 18,
      "outputs": []
    },
    {
      "cell_type": "code",
      "metadata": {
        "id": "9f7zmrzBToRN"
      },
      "source": [
        "tokenizer = tf.keras.preprocessing.text.Tokenizer()\n",
        "tokenizer.fit_on_texts(sentence) "
      ],
      "execution_count": 19,
      "outputs": []
    },
    {
      "cell_type": "code",
      "metadata": {
        "id": "z62beL-0T3GM",
        "colab": {
          "base_uri": "https://localhost:8080/"
        },
        "outputId": "eb39a96e-65cf-4f54-88f2-c3c2ba0b64a9"
      },
      "source": [
        "print( tokenizer.word_index ) # 사전 만들기"
      ],
      "execution_count": 20,
      "outputs": [
        {
          "output_type": "stream",
          "text": [
            "{'.': 1, '네요': 2, '좋': 3, '어요': 4, '아요': 5, '는데': 6, '잘': 7, '있': 8, '구매': 9, '안': 10, '습니다': 11, '너무': 12, '했': 13, '배송': 14, '같': 15, '먹': 16, '거': 17, '어': 18, '!': 19, '되': 20, '합니다': 21, '재': 22, '요': 23, '않': 24, '기': 25, '것': 26, '~': 27, '..': 28, '없': 29, '쓰': 30, '았': 31, '해서': 32, '로': 33, '사용': 34, '으로': 35, '었': 36, '아': 37, '그냥': 38, '겠': 39, '나': 40, '지만': 41, '보다': 42, '면': 43, '보': 44, '만': 45, '어서': 46, '아서': 47, '주': 48, '해': 49, '제품': 50, '서': 51, ',': 52, '좀': 53, '가격': 54, '입니다': 55, '주문': 56, '만족': 57, '생각': 58, '해요': 59, '더': 60, '개': 61, '라': 62, '할': 63, '니': 64, '맛': 65, '많이': 66, '사이즈': 67, '받': 68, 'ㅠㅠ': 69, '사': 70, '?': 71, '시': 72, '샀': 73, '빠르': 74, '때': 75, '별로': 76, '왔': 77, '번': 78, '에서': 79, '작': 80, '음': 81, '다른': 82, '두': 83, '포장': 84, '맛있': 85, '맞': 86, '넘': 87, '상품': 88, '입': 89, '세요': 90, '부분': 91, '수': 92, '저렴': 93, '괜찮': 94, '던': 95, '~~': 96, '일': 97, '하나': 98, '^^': 99, '정말': 100, '에요': 101, '감사': 102, 'ㅠ': 103, '인데': 104, '아니': 105, '용': 106, '2': 107, '진짜': 108, '1': 109, '냄새': 110, '못': 111, '딱': 112, '아직': 113, '또': 114, '데': 115, '중': 116, '아주': 117, '정도': 118, '반품': 119, '오': 120, '많': 121, '보내': 122, '저': 123, '으면': 124, '구입': 125, '적': 126, '조금': 127, '알': 128, '불편': 129, '전': 130, '크': 131, '깔끔': 132, '넣': 133, 'ㅎㅎ': 134, '구요': 135, '느낌': 136, '건': 137, '모르': 138, '긴': 139, '비': 140, '달': 141, '완전': 142, '제': 143, '다가': 144, '은데': 145, '신': 146, '줄': 147, '맘': 148, '아이': 149, '디자인': 150, '다고': 151, '여': 152, '써': 153, '려고': 154, '편하': 155, '선물': 156, '3': 157, '물': 158, '구': 159, 'ㅜㅜ': 160, '싶': 161, '기대': 162, '상태': 163, '라고': 164, '까지': 165, '다시': 166, '싸': 167, '교환': 168, '살': 169, '색상': 170, '...': 171, '함': 172, '추천': 173, '오래': 174, '없이': 175, '사진': 176, '예요': 177, '효과': 178, 'ㅋㅋ': 179, '랑': 180, '아쉽': 181, '쓸': 182, '봤': 183, '집': 184, '실망': 185, '이랑': 186, '얇': 187, '엄청': 188, '걸': 189, '아기': 190, '설치': 191, '된': 192, '길': 193, '분': 194, '엔': 195, '진': 196, '후': 197, '계속': 198, '싼': 199, '빠른': 200, '튼튼': 201, '처음': 202, 'ㅎ': 203, '다음': 204, '더니': 205, '째': 206, '대비': 207, '건지': 208, '원': 209, '산': 210, '귀찮': 211, '큰': 212, '바로': 213, '셨': 214, '말': 215, '박스': 216, '마음': 217, '마감': 218, '해야': 219, '였': 220, '는지': 221, '굿': 222, '파': 223, '그': 224, '몇': 225, '감': 226, '물건': 227, '같이': 228, '색': 229, '이쁘': 230, '양': 231, '이상': 232, '향': 233, '왜': 234, '보이': 235, '곳': 236, '잘못': 237, '건데': 238, '님': 239, '꺼': 240, '질': 241, '크기': 242, '시간': 243, '항상': 244, '돈': 245, '잇': 246, '스럽': 247, '처럼': 248, '이거': 249, '놓': 250, '그래도': 251, '불량': 252, '손': 253, '5': 254, '늦': 255, 'ㄷ': 256, '조립': 257, '가성': 258, '나오': 259, 'ㅡㅡ': 260, 'ㅋ': 261, '4': 262, '믿': 263, '남': 264, '새': 265, '여기': 266, '버렸': 267, '나요': 268, '이번': 269, '뭐': 270, '이런': 271, '그리고': 272, '시켰': 273, '근데': 274, '죠': 275, '옷': 276, '필요': 277, '뚜껑': 278, '품질': 279, '라서': 280, '됩니다': 281, 'ㅜ': 282, '와서': 283, '내': 284, '늘': 285, '비싸': 286, '날': 287, '택배': 288, '이나': 289, '문제': 290, '셔서': 291, '매우': 292, '고정': 293, '면서': 294, '만큼': 295, '비추': 296, '붙': 297, '자마자': 298, '아닌': 299, '확인': 300, '하루': 301, '한데': 302, '짧': 303, '별': 304, '재질': 305, '예뻐요': 306, '편': 307, '더라구요': 308, '적당': 309, '예쁘': 310, '어도': 311, '최악': 312, ')': 313, '자': 314, '뜯': 315, '처리': 316, '최고': 317, '쉽': 318, '기분': 319, '심하': 320, '힘들': 321, '으니': 322, '빨리': 323, '앞': 324, '10': 325, '야': 326, '편해요': 327, '될': 328, '일단': 329, '도착': 330, '길이': 331, '이뻐요': 332, '며': 333, '니까': 334, '만들': 335, '씁니다': 336, '잡': 337, 'ㄱ': 338, '지금': 339, '짜': 340, '닦': 341, '했어요': 342, '이렇게': 343, '조아': 344, '참': 345, '후기': 346, '인지': 347, '역시': 348, '그렇': 349, '부터': 350, '!!': 351, '됐': 352, '이건': 353, '빼': 354, '추가': 355, '블랙': 356, '대': 357, '케이스': 358, '담': 359, 'ㄴ': 360, '못하': 361, '드': 362, '세': 363, '마다': 364, '~^^': 365, '배': 366, '연락': 367, '커서': 368, '차': 369, '들어가': 370, '먼지': 371, '원래': 372, '점': 373, '걱정': 374, '세탁': 375, '조절': 376, 'ㅅ': 377, 'ㅈ': 378, '가볍': 379, '빠지': 380, '녹': 381, '친절': 382, '그런': 383, '쪽': 384, '떨어지': 385, '환불': 386, '별루': 387, '때문': 388, '찾': 389, '실': 390, '치': 391, '씩': 392, '한테': 393, '걸로': 394, '묻': 395, '려구요': 396, '소리': 397, '키': 398, '충전': 399, '부드럽': 400, 'ㅋㅋㅋ': 401, '년': 402, '해도': 403, '친구': 404, '구멍': 405, '피부': 406, '어야': 407, '본': 408, '착용': 409, '여러': 410, '리뷰': 411, '봐요': 412, '듭니다': 413, '줬': 414, '팩': 415, '성': 416, '천': 417, '월': 418, '속': 419, '무': 420, '이게': 421, '시원': 422, '불': 423, '구성': 424, '다르': 425, '~~~': 426, '전혀': 427, '썼': 428, '살짝': 429, '머리': 430, '발': 431, '다는': 432, '열': 433, '짱': 434, '빨라서': 435, '장': 436, '샀어요': 437, '온': 438, '의자': 439, '색깔': 440, '그래요': 441, '약간': 442, '덜': 443, '일반': 444, '판매자': 445, '사람': 446, '가지': 447, '정품': 448, '매번': 449, '막': 450, '버리': 451, 'ㅡ': 452, '여름': 453, '그런지': 454, '가능': 455, '네여': 456, '자주': 457, '그래서': 458, '몸': 459, '고요': 460, '어용': 461, '에게': 462, '거의': 463, '짜증': 464, '자체': 465, '모양': 466, '전화': 467, '빨랐': 468, '고기': 469, '자꾸': 470, '촉촉': 471, '신선': 472, '햇': 473, '제대로': 474, '가방': 475, '꼭': 476, '놀': 477, '다리': 478, '금방': 479, '스러워': 480, '그대로': 481, '겟': 482, '연결': 483, '차이': 484, '아도': 485, '애기': 486, '드렸': 487, '그러': 488, '바람': 489, '주일': 490, '판매': 491, '제거': 492, '꼼꼼': 493, '상': 494, '붙이': 495, '넉넉': 496, '이제': 497, '보관': 498, '바르': 499, '모두': 500, '팔': 501, '퀄리티': 502, '빨': 503, '손잡이': 504, '똑같': 505, '....': 506, '지나': 507, '커요': 508, '고민': 509, '마리': 510, '으나': 511, '무슨': 512, ';;': 513, '이용': 514, '스': 515, '끝': 516, '티': 517, '고급': 518, '의사': 519, '뒤': 520, '예': 521, ':': 522, '그랬': 523, '밖': 524, '쿠션': 525, '참고': 526, '유통': 527, '통': 528, '시켜': 529, '바지': 530, '설명서': 531, '러': 532, '6': 533, '다만': 534, '강추': 535, '반': 536, 'ㅁ': 537, '평': 538, '양념': 539, '써요': 540, '애': 541, '신경': 542, '팬티': 543, '(': 544, '높이': 545, '져': 546, '문': 547, '너': 548, '끼': 549, '기사': 550, '유리': 551, '제일': 552, '걸리': 553, '신청': 554, '위': 555, '빨라요': 556, '비해': 557, '/': 558, '등': 559, '바닥': 560, '플라스틱': 561, '납니다': 562, '무게': 563, '기한': 564, '끈': 565, '게요': 566, '8': 567, '얼굴': 568, '간편': 569, '시키': 570, '영': 571, '사세요': 572, '걍': 573, '엄마': 574, '7': 575, '맛없': 576, '눈': 577, '이유': 578, '갈': 579, 'ㅠㅠㅠ': 580, '맛나': 581, '운동': 582, '핏': 583, '옴': 584, '아용': 585, '할께요': 586, '선': 587, '높': 588, '싱싱': 589, '쓰레기': 590, '힘': 591, '혼자': 592, '번창': 593, '후회': 594, '걸렸': 595, '형': 596, '100': 597, '김치': 598, '어렵': 599, '자국': 600, '절대': 601, '정리': 602, '딱딱': 603, '할게요': 604, '허접': 605, '으려고': 606, '깨져서': 607, '신발': 608, '마세요': 609, '져요': 610, '미리': 611, '원단': 612, '써야': 613, '는데요': 614, '전체': 615, '라도': 616, '편리': 617, '무난': 618, '기스': 619, '조': 620, '소재': 621, '따로': 622, 'ㅎㅎㅎ': 623, '부족': 624, '뻔': 625, '타': 626, '습니당': 627, '나왔': 628, '훨씬': 629, '니다': 630, '얼룩': 631, '나쁘': 632, '어느': 633, '낮': 634, '허리': 635, '볼': 636, '소음': 637, '엉망': 638, '으': 639, '봐야': 640, '오늘': 641, '중간': 642, '앗': 643, '라는': 644, '그런데': 645, '내용물': 646, '털': 647, '저희': 648, '대로': 649, '어디': 650, '짜리': 651, '을까': 652, '던데': 653, '기간': 654, '삿': 655, '파손': 656, '사은품': 657, '개월': 658, '첫': 659, '직접': 660, '쓸께요': 661, '봉': 662, '솔직히': 663, '따뜻': 664, '밑': 665, '다니': 666, '소스': 667, '건강': 668, '너무너무': 669, '비싼': 670, '성비': 671, '설명': 672, '예정': 673, '검수': 674, '성능': 675, '양말': 676, '단': 677, '울': 678, '줘야': 679, '저번': 680, '보여요': 681, '왓': 682, '작동': 683, '검': 684, '짐': 685, '밤': 686, '첨': 687, '찍': 688, '마시': 689, '깨끗': 690, '굳': 691, '밥': 692, '벌써': 693, '올려': 694, '고소': 695, '꾸준히': 696, '겨울': 697, '대박': 698, '흰색': 699, '나무': 700, '두께': 701, '그닥': 702, '길래': 703, '적극': 704, '비교': 705, '동안': 706, '이불': 707, '느리': 708, '다면': 709, ';': 710, '어여': 711, '둘': 712, '어떻게': 713, '굉장히': 714, '생기': 715, '핑크': 716, '내요': 717, '검정': 718, '했었': 719, '커피': 720, '채': 721, '한번': 722, '20': 723, '아깝': 724, '젤': 725, '마스크': 726, '가슴': 727, '짱짱': 728, '닿': 729, '아침': 730, '이것': 731, '났': 732, '아무리': 733, '접착력': 734, '부탁': 735, '싫': 736, '유용': 737, '여서': 738, '여자': 739, '빠져서': 740, '대충': 741, '한쪽': 742, '값': 743, '아들': 744, '기본': 745, '식': 746, '귀엽': 747, '투명': 748, '청소': 749, '자극': 750, '쏘': 751, '확실히': 752, '커버': 753, '+': 754, '틀': 755, '함께': 756, '준': 757, '우리': 758, '새로': 759, '하지만': 760, '약해서': 761, '싸구려': 762, '져서': 763, '기능': 764, '신랑': 765, '여행': 766, 'ㅣ': 767, '비슷': 768, '고무': 769, '매일': 770, '꽉': 771, '떨어져': 772, '컵': 773, '약하': 774, '편합니다': 775, '씻': 776, '바': 777, '나사': 778, '인터넷': 779, '광고': 780, '포기': 781, '으시': 782, '이미': 783, '간': 784, '지퍼': 785, '놀랐': 786, '거리': 787, '글': 788, '무엇': 789, '피': 790, '은지': 791, '즈': 792, '까': 793, '깔': 794, '색감': 795, '판': 796, '캡': 797, '아무': 798, '예쁜': 799, '화면': 800, '모기': 801, '비닐': 802, '분리': 803, '품평': 804, '백': 805, '잡히': 806, '보호': 807, '실패': 808, '솜': 809, '올': 810, '봉지': 811, '아이스': 812, '도록': 813, '아쉬워': 814, '썩': 815, '~~^^': 816, '평소': 817, '됨': 818, '고리': 819, '빠름': 820, '익': 821, '보단': 822, '정확': 823, '넓': 824, '느': 825, '허술': 826, '약해요': 827, '려': 828, '부담': 829, '인가': 830, '여기저기': 831, '비지떡': 832, '건가요': 833, '개봉': 834, '봅니다': 835, '커': 836, '당황': 837, '결국': 838, '귀여워': 839, '급': 840, '스티커': 841, '할인': 842, '매': 843, '느림': 844, '남자': 845, '떨어져요': 846, '단단': 847, '기존': 848, '테이프': 849, '정': 850, '코': 851, '다행': 852, '켜': 853, '한지': 854, '온도': 855, '아가': 856, '프로': 857, '드립니다': 858, '나와서': 859, '부위': 860, '을게요': 861, '오히려': 862, '약': 863, '죽': 864, '찝찝': 865, '사이': 866, '봐서': 867, '~!': 868, '폭신': 869, '아예': 870, '그게': 871, '베이지': 872, '화이트': 873, '9': 874, '방': 875, '끼우': 876, '쉬': 877, '치수': 878, '봐도': 879, '패드': 880, '문의': 881, '허벅지': 882, '보풀': 883, '맵': 884, '아파요': 885, '아님': 886, '떡': 887, '요리': 888, '뚫': 889, '기름': 890, '귀': 891, '뽕': 892, '방지': 893, '어깨': 894, '뜨': 895, '괜히': 896, '드려요': 897, '건조': 898, '매트': 899, '아프': 900, '부실': 901, '장난감': 902, '그럭저럭': 903, '빠릅니다': 904, '전하': 905, '흠': 906, '요즘': 907, '초보': 908, '올리': 909, '찢어지': 910, '상자': 911, '보고': 912, '그저': 913, 'kg': 914, '견고': 915, '고구마': 916, '히': 917, '지워': 918, 'ᆢ': 919, '차라리': 920, '느끼': 921, '11': 922, '곰팡이': 923, '쉬워요': 924, '느려요': 925, '손톱': 926, '미': 927, '그런가': 928, '휘': 929, '더라도': 930, '화': 931, '장착': 932, '신고': 933, '머': 934, '지속력': 935, '케': 936, '착용감': 937, '엇': 938, '보냈': 939, '이하': 940, '색도': 941, '간식': 942, '옆': 943, '사료': 944, '방치': 945, '여유': 946, '좁': 947, '불안': 948, '졌': 949, '상판': 950, '상당히': 951, '예전': 952, '공간': 953, '가죽': 954, '불만': 955, '금액': 956, '보통': 957, '칠': 958, '베란다': 959, '조심': 960, '무거운': 961, '부': 962, '려다': 963, '거나': 964, '욤': 965, '회': 966, '일자': 967, '500': 968, '고객': 969, '쫌': 970, '나가': 971, '매장': 972, '새우': 973, '휴': 974, '부모': 975, '군데': 976, '공': 977, '적당히': 978, '종류': 979, '바랍니다': 980, '컬러': 981, '지연': 982, '전이': 983, '~~~~': 984, '합': 985, '껍질': 986, '고장': 987, '시킬': 988, '가족': 989, '그나마': 990, '보낸': 991, '일어나': 992, '모자': 993, '책상': 994, '일회용': 995, '이틀': 996, '!!!': 997, '출산': 998, '%': 999, '갔': 1000, '뒀': 1001, '안쪽': 1002, '요청': 1003, '필름': 1004, '겨우': 1005, '키로': 1006, '업체': 1007, '생일': 1008, 'ㅂ': 1009, '관심': 1010, '어떤': 1011, '실제로': 1012, '혹시나': 1013, '나머지': 1014, '이걸': 1015, '손가락': 1016, '인치': 1017, '작년': 1018, '냄비': 1019, '용기': 1020, '블루': 1021, '덮': 1022, '가격대': 1023, '브': 1024, '지인': 1025, '큽니다': 1026, '응대': 1027, '급하': 1028, '바꿨': 1029, '사실': 1030, '먹이': 1031, '그리': 1032, '엉덩이': 1033, '세트': 1034, '내용': 1035, '줘서': 1036, '얼마': 1037, '니당': 1038, '브라운': 1039, '간단': 1040, '루': 1041, '돌리': 1042, '떨어졌': 1043, '바느질': 1044, '돼': 1045, '벗겨지': 1046, '끼워': 1047, '돼서': 1048, '뒷면': 1049, '떼': 1050, '두꺼운': 1051, '버림': 1052, '박음질': 1053, '마': 1054, '바꾸': 1055, '중국': 1056, '확': 1057, '신축성': 1058, '셔': 1059, '낚시': 1060, '사고': 1061, '지난번': 1062, '쌀': 1063, '더군요': 1064, '수분': 1065, '버릴': 1066, '필터': 1067, '취소': 1068, '부착': 1069, '께': 1070, '젖': 1071, '미끄러지': 1072, '용도': 1073, '선택': 1074, '불친절': 1075, '께서': 1076, '공기': 1077, '30': 1078, '못했': 1079, '니깐': 1080, '회사': 1081, '계란': 1082, '된다고': 1083, '심해서': 1084, '닫': 1085, '가루': 1086, '수고': 1087, '진하': 1088, '완': 1089, '부드러워': 1090, '이걸로': 1091, '셔야': 1092, '그냥저냥': 1093, '방문': 1094, '0': 1095, '마트': 1096, '예뻐서': 1097, '보여서': 1098, '라면': 1099, 'mm': 1100, 'ㅔ': 1101, '남편': 1102, '12': 1103, 'ㅇ': 1104, '즙': 1105, '걸려서': 1106, '거품': 1107, '호환': 1108, '무료': 1109, '가요': 1110, '냉장고': 1111, '난': 1112, '냉동': 1113, '발라': 1114, '입맛': 1115, '위치': 1116, '붙여': 1117, '내리': 1118, '폭': 1119, '답변': 1120, '아까워': 1121, '깜짝': 1122, '들어갔': 1123, '무리': 1124, '시킨': 1125, '화분': 1126, '배달': 1127, '차지': 1128, '무릎': 1129, '몰랐': 1130, '으니까': 1131, '늘어나': 1132, '표시': 1133, '66': 1134, '흡수': 1135, '향도': 1136, '라인': 1137, '인식': 1138, '주변': 1139, '의미': 1140, '질기': 1141, '할려고': 1142, '꽤': 1143, 'm': 1144, '종이': 1145, '상하': 1146, '뻑뻑': 1147, '제작': 1148, '재고': 1149, '수정': 1150, '강하': 1151, '편안': 1152, '란': 1153, '실제': 1154, '양쪽': 1155, '심': 1156, '촉감': 1157, '예민': 1158, '립': 1159, '햄': 1160, '필수': 1161, '원목': 1162, '떨어집니다': 1163, '냥': 1164, '발색': 1165, '누락': 1166, '꽂': 1167, '??': 1168, '두껍': 1169, '풀': 1170, '화장': 1171, '결제': 1172, '휴지': 1173, '활용': 1174, '려면': 1175, '센터': 1176, '모델': 1177, '부들부들': 1178, '챙겨': 1179, '올라가': 1180, '약한': 1181, '박': 1182, '모': 1183, '과정': 1184, '장난': 1185, '방수': 1186, '문자': 1187, '예쁩니다': 1188, '무겁': 1189, '뭔가': 1190, '강아지': 1191, '뿌리': 1192, '수준': 1193, '류': 1194, '밝': 1195, '다양': 1196, '전원': 1197, '모서리': 1198, '맞추': 1199, '레몬': 1200, '터지': 1201, '노': 1202, '링': 1203, '김': 1204, '롭': 1205, '맞춰': 1206, '서비스': 1207, '-': 1208, '디': 1209, '편한': 1210, '센티': 1211, '침대': 1212, '간장': 1213, '소금': 1214, '발송': 1215, '푹신': 1216, '느렸': 1217, '실리콘': 1218, '거울': 1219, '밖에': 1220, '체험': 1221, '자리': 1222, '힘드': 1223, '붙였': 1224, '이벤트': 1225, '달라요': 1226, '순하': 1227, '둘째': 1228, '으면서': 1229, '로션': 1230, '땐': 1231, '하고': 1232, '아야': 1233, '벌레': 1234, '실용': 1235, '기에': 1236, '트': 1237, '쓴': 1238, '안정': 1239, '아까': 1240, '순간': 1241, '핀': 1242, '♡': 1243, '접착제': 1244, '대신': 1245, '다이어트': 1246, '한두': 1247, '본드': 1248, '불량품': 1249, '나옵니다': 1250, '폰': 1251, '접': 1252, '걸이': 1253, '용량': 1254, '누가': 1255, '꺼내': 1256, '깨지': 1257, '답답': 1258, '부품': 1259, 'l': 1260, '잠옷': 1261, '경우': 1262, '저녁': 1263, '밴드': 1264, '끊': 1265, '표기': 1266, '아쉬운': 1267, '나갔': 1268, '휴대': 1269, 'cm': 1270, '기다리': 1271, '아까워서': 1272, '도움': 1273, '깨졌': 1274, '답': 1275, '빠져요': 1276, '거든요': 1277, '오염': 1278, '브라': 1279, '으신': 1280, '품': 1281, '십': 1282, '덕분': 1283, '대한': 1284, '암막': 1285, '어울려요': 1286, '성인': 1287, '칫솔': 1288, '접착': 1289, '개인': 1290, '아닌가': 1291, '옵션': 1292, '고생': 1293, '뿌': 1294, '그거': 1295, '받침': 1296, '이뻐': 1297, '곱창': 1298, '식감': 1299, '빠짐': 1300, '돼요': 1301, '보임': 1302, '더라고요': 1303, '스크래치': 1304, '가끔': 1305, '코드': 1306, '과자': 1307, '마니': 1308, '표면': 1309, '사장': 1310, '아파서': 1311, '제조': 1312, '시켜서': 1313, '지저분': 1314, '답니다': 1315, '각질': 1316, '네이비': 1317, '시트': 1318, '준비': 1319, '알려': 1320, '너무나': 1321, '40': 1322, '두툼': 1323, '리': 1324, '데일리': 1325, '전기': 1326, '흐물흐물': 1327, '고양이': 1328, '우유': 1329, '테스트': 1330, '굽': 1331, '그립': 1332, '아쉬움': 1333, '터져서': 1334, '깨진': 1335, '올라오': 1336, '국물': 1337, '상담': 1338, '골드': 1339, '위해': 1340, '먼저': 1341, '동일': 1342, '생겼': 1343, '버스': 1344, '나름': 1345, '은은': 1346, '연어': 1347, '아쉬웠': 1348, '얼': 1349, '적응': 1350, '어쩔': 1351, '나와요': 1352, '게임': 1353, '코트': 1354, '오징어': 1355, '솔': 1356, '어울리': 1357, '널': 1358, '했으나': 1359, '관리': 1360, '가운데': 1361, '삼': 1362, '그레이': 1363, '을려고': 1364, '꽃': 1365, '시공': 1366, '실밥': 1367, '봉투': 1368, '건가': 1369, '이름': 1370, '세용': 1371, '가장': 1372, '곤': 1373, '자분': 1374, '세척': 1375, 'ㅏㅁ': 1376, '품절': 1377, '햇빛': 1378, '뿐': 1379, '포함': 1380, '버튼': 1381, '곧': 1382, '중고': 1383, '을까요': 1384, '에어': 1385, '어쩌': 1386, '시기': 1387, '바퀴': 1388, '다릅니다': 1389, '덩어리': 1390, '와요': 1391, '헤드': 1392, '분해': 1393, '씹': 1394, '딸아이': 1395, '심플': 1396, '커튼': 1397, '움': 1398, '이쁜데': 1399, '매콤': 1400, '낫': 1401, '오래가': 1402, '주말': 1403, '설탕': 1404, '뿜': 1405, '개선': 1406, '충격': 1407, '뒷': 1408, '강력': 1409, '망가져서': 1410, '야채': 1411, '척': 1412, '모든': 1413, '왼쪽': 1414, '조이': 1415, '할까': 1416, '혹시': 1417, '써서': 1418, '렵니다': 1419, '일부': 1420, '서랍장': 1421, '심해요': 1422, '노트북': 1423, '쥐': 1424, 'ㆍ': 1425, '걸림': 1426, '부직포': 1427, '두피': 1428, '그건': 1429, '밀봉': 1430, '입구': 1431, '브랜드': 1432, '영양제': 1433, '소': 1434, '기다렸': 1435, '지요': 1436, '밀리': 1437, '가로': 1438, '약해': 1439, '개별': 1440, '편해서': 1441, '비려': 1442, '빠집니다': 1443, '느라': 1444, '아닙니다': 1445, '이리': 1446, '18': 1447, '깨': 1448, '위해서': 1449, '언제': 1450, '움직이': 1451, '.....': 1452, '싸이': 1453, '열심히': 1454, '딩': 1455, '졌어요': 1456, '낭비': 1457, '확실': 1458, '가까이': 1459, '물기': 1460, '공구': 1461, '좋아하': 1462, '누르': 1463, '던지': 1464, '크림': 1465, '화장실': 1466, '케이블': 1467, '려니': 1468, '펴': 1469, '종일': 1470, '뽑': 1471, '집들이': 1472, '아닌데': 1473, '샴푸': 1474, '버': 1475, '수평': 1476, '이뻐서': 1477, '보였': 1478, '튜브': 1479, '더럽': 1480, '두꺼워': 1481, '느껴': 1482, '대응': 1483, '갑자기': 1484, '시장': 1485, '묵': 1486, '목': 1487, '작음': 1488, '빨라': 1489, '시계': 1490, '이곳': 1491, '재품': 1492, '쯤': 1493, '또한': 1494, '가득': 1495, 'ㅇㄷ': 1496, '확정': 1497, '손목': 1498, '텐데': 1499, '만점': 1500, '견과': 1501, '화질': 1502, '치약': 1503, '음식': 1504, '당': 1505, '풀려서': 1506, '달라서': 1507, '바라': 1508, '다신': 1509, '렴': 1510, '반지': 1511, '고맙': 1512, '수량': 1513, '던가': 1514, '앉': 1515, '한참': 1516, '진심': 1517, '스판': 1518, '욕실': 1519, '립니': 1520, '떨어져서': 1521, '워낙': 1522, '찌': 1523, '걸려요': 1524, 'a': 1525, '지났': 1526, '딸': 1527, '남기': 1528, '드릴': 1529, '낙지': 1530, '무조건': 1531, '특히': 1532, '말씀': 1533, '보습': 1534, '빠진': 1535, '시작': 1536, '인가요': 1537, '건전지': 1538, '떠서': 1539, '드리': 1540, '장식': 1541, '는대': 1542, '신기': 1543, '달달': 1544, '교체': 1545, '편할': 1546, '찍찍': 1547, '완료': 1548, '마무리': 1549, '빠져': 1550, '얘기': 1551, '스타일': 1552, '다네요': 1553, '\"': 1554, '해용': 1555, '교토': 1556, '업': 1557, '19': 1558, '와우': 1559, '땀': 1560, '한다고': 1561, '13': 1562, '최': 1563, '뭍': 1564, '거슬리': 1565, '터치': 1566, '리필': 1567, '선풍기': 1568, '부담없이': 1569, '못해요': 1570, '젤리': 1571, '깍': 1572, '중요': 1573, '걸려': 1574, '그동안': 1575, '집니다': 1576, '그릇': 1577, '방법': 1578, '발가락': 1579, '상처': 1580, '잠깐': 1581, '완전히': 1582, '무늬': 1583, '다이소': 1584, '왔어요': 1585, '타입': 1586, '쫀쫀': 1587, '토마토': 1588, '뿌려': 1589, '베': 1590, '냉동실': 1591, '생산': 1592, '껄': 1593, '흠집': 1594, '돌': 1595, '모래': 1596, '냉': 1597, '내장': 1598, '주의': 1599, '가벼운': 1600, '보정': 1601, '러쉬': 1602, '올려서': 1603, '90': 1604, '쏙': 1605, '작업': 1606, '해졌': 1607, '나옴': 1608, '먹여': 1609, '사항': 1610, '손질': 1611, '봣는데': 1612, '찰떡': 1613, '회색': 1614, '착하': 1615, '톡': 1616, '상세': 1617, '블': 1618, ';;;': 1619, '랄까': 1620, '으며': 1621, '엄': 1622, '청': 1623, '딱히': 1624, '터져': 1625, 'k': 1626, '싹': 1627, 'xl': 1628, '래요': 1629, '음식물': 1630, '낄': 1631, '튀': 1632, '점점': 1633, '이러': 1634, '어제': 1635, '아버지': 1636, '아이템': 1637, '거려요': 1638, '안내': 1639, '세로': 1640, '빠졌': 1641, '빗': 1642, '빨래': 1643, '해외': 1644, '끌': 1645, '......': 1646, '물티슈': 1647, '닦이': 1648, '편해': 1649, '듯이': 1650, '티나': 1651, '난리': 1652, '못해서': 1653, '에휴': 1654, '각': 1655, '성분': 1656, '바꿔': 1657, '매끄럽': 1658, '겸': 1659, '~!!': 1660, '나중': 1661, '해야지': 1662, '예뻐': 1663, '떨어짐': 1664, '펜': 1665, '오버': 1666, '당연히': 1667, '걸린': 1668, '단점': 1669, '고르': 1670, '워': 1671, '별도': 1672, '당장': 1673, '분위기': 1674, '물품': 1675, '상황': 1676, '콩': 1677, '템': 1678, '잘사': 1679, '장갑': 1680, '구두': 1681, '쭉': 1682, '성의': 1683, '매직': 1684, '두꺼워서': 1685, '저냥': 1686, '내부': 1687, '도장': 1688, '동봉': 1689, '헐': 1690, '자르': 1691, '이해': 1692, '여행가': 1693, '과일': 1694, '플': 1695, '잼': 1696, '32': 1697, '렷': 1698, '한국': 1699, '세정력': 1700, '부턴': 1701, '내려가': 1702, '잘나': 1703, '받침대': 1704, '탓': 1705, '겁나': 1706, '듬': 1707, '이만': 1708, '날씨': 1709, '껀': 1710, '탄탄': 1711, 'ㅠㅜ': 1712, '배터리': 1713, '만지': 1714, '파일': 1715, '가벼워서': 1716, '잎': 1717, '렌즈': 1718, '무지': 1719, '일정': 1720, '찍힌': 1721, '기저귀': 1722, '초등': 1723, '쩌': 1724, '며칠': 1725, '몰라도': 1726, '잤': 1727, '잔': 1728, '난감': 1729, '우선': 1730, '여성': 1731, '검색': 1732, '땜': 1733, '결착': 1734, '재료': 1735, '그렇게': 1736, '단계': 1737, '카메라': 1738, '봐': 1739, '어찌': 1740, '군요': 1741, '속옷': 1742, '먼가': 1743, '듣': 1744, '흰': 1745, '테두리': 1746, '보입니다': 1747, '및': 1748, '트러블': 1749, '동영상': 1750, '탄': 1751, '슬': 1752, '흡수력': 1753, 'g': 1754, '질겨': 1755, '스러운': 1756, '따라': 1757, '찌그러져': 1758, '갑': 1759, '충전기': 1760, '해봐야': 1761, '게장': 1762, '뭘': 1763, '냐': 1764, '옷걸이': 1765, '흘러내리': 1766, '몰라서': 1767, '묽': 1768, '아까움': 1769, '미세': 1770, '무거워서': 1771, '현상': 1772, '비용': 1773, '마냥': 1774, '든': 1775, '꺼지': 1776, '달라붙': 1777, '출장': 1778, 's': 1779, '어떻': 1780, '이유식': 1781, '충분히': 1782, '액정': 1783, '유지': 1784, '센치': 1785, '볼까': 1786, '놔': 1787, '오전': 1788, '버력': 1789, '건성': 1790, '자전거': 1791, '압축': 1792, '엉성': 1793, '거치대': 1794, '겉': 1795, '첨부': 1796, '조회': 1797, '슈': 1798, '일부러': 1799, '할지': 1800, '초': 1801, '비해서': 1802, '달라': 1803, '수납공간': 1804, '스트레스': 1805, '우산': 1806, '끝내': 1807, '변비': 1808, '알아보': 1809, '퍽퍽': 1810, '깜놀': 1811, '사랑': 1812, '찌그러진': 1813, '차콜': 1814, '정보': 1815, '60': 1816, '폴': 1817, '오랜만': 1818, '훨': 1819, '벽': 1820, '실수': 1821, '크레': 1822, '뒤집': 1823, '이쁜': 1824, '모드': 1825, '을께요': 1826, '욕': 1827, '나와': 1828, '안방': 1829, '고속': 1830, '95': 1831, '양파': 1832, '팡': 1833, '사이트': 1834, '쁩니당': 1835, '편지': 1836, '배송지': 1837, '반찬': 1838, '신속': 1839, '닭': 1840, '뭉쳐': 1841, '불가': 1842, '톡톡': 1843, '이럴': 1844, '열리': 1845, '수령': 1846, '외': 1847, '개미': 1848, '못함': 1849, '흘러': 1850, '찢어져서': 1851, '타이트': 1852, '수박': 1853, '느낄': 1854, '인형': 1855, '셀프': 1856, '헐거워': 1857, '식구': 1858, '스킨': 1859, '언니': 1860, '단맛': 1861, '접히': 1862, '넉넉히': 1863, '가위': 1864, '그것': 1865, '빡빡': 1866, '뚜': 1867, '변': 1868, '덜렁': 1869, '튼': 1870, '둡니다': 1871, '줘도': 1872, '줘요': 1873, '씨': 1874, '미끄러워': 1875, '페인트': 1876, '아유': 1877, '압박': 1878, '숨': 1879, '갖': 1880, '닥': 1881, '질렀': 1882, '빡': 1883, '옷장': 1884, '뜯겨': 1885, '아픔': 1886, '갯': 1887, '묶': 1888, '몰라': 1889, '거짓말': 1890, '씀': 1891, '정확히': 1892, '높낮이': 1893, '조리': 1894, '십니다': 1895, '종종': 1896, '명': 1897, '헷갈리': 1898, '간지럽': 1899, '청소기': 1900, '내일': 1901, '차량': 1902, '기초': 1903, '송장': 1904, '최대한': 1905, '얼른': 1906, '패킹': 1907, '장점': 1908, '아닌가요': 1909, '세상': 1910, '질질': 1911, '언제나': 1912, '고려': 1913, '여전히': 1914, '벗': 1915, '어려웠': 1916, '소중': 1917, '허': 1918, '떠': 1919, '우수': 1920, '부드러운': 1921, '올리브': 1922, '득템': 1923, '뚝뚝': 1924, '컸': 1925, '흐': 1926, '창고': 1927, '직원': 1928, '표현': 1929, '적혀': 1930, '책': 1931, '첫날': 1932, '마르': 1933, '조립도': 1934, '타올': 1935, '진주': 1936, '특대': 1937, '상한': 1938, '발생': 1939, '뒤쪽': 1940, '댓글': 1941, '막상': 1942, '부러져': 1943, '다칠': 1944, '위험': 1945, '폼': 1946, '속상해요': 1947, '저렇': 1948, '쁩니다': 1949, '기모': 1950, '연습': 1951, '~~!': 1952, '으네': 1953, '멍': 1954, '뻣뻣': 1955, '풍': 1956, '버려서': 1957, '절': 1958, '주머니': 1959, '300': 1960, '보여': 1961, '에어컨': 1962, 'led': 1963, '습니': 1964, '주소': 1965, '???': 1966, '부서져': 1967, '낭': 1968, '젖병': 1969, '요새': 1970, '15': 1971, '탈': 1972, '박살나': 1973, '먹일': 1974, '자동': 1975, '구겨져': 1976, '향기': 1977, '지속': 1978, 'ml': 1979, '피스': 1980, '아무것': 1981, '오프라인': 1982, '별점': 1983, '정상': 1984, '대형': 1985, '뒷부분': 1986, '비린내': 1987, '귀걸이': 1988, '터진': 1989, '반응': 1990, '제각각': 1991, '어려움': 1992, '당연': 1993, '센서': 1994, '타사': 1995, '먼': 1996, '맨': 1997, '생': 1998, '흔들려': 1999, '!!!!': 2000, '놔도': 2001, '궁금': 2002, '후라이팬': 2003, '껴서': 2004, '유명': 2005, '머리카락': 2006, '입지': 2007, '으론': 2008, '부서져서': 2009, '감안': 2010, '딘': 2011, '되게': 2012, '어머니': 2013, '급해서': 2014, '왔음': 2015, '전부': 2016, '삽니다': 2017, '복용': 2018, '금요일': 2019, '오후': 2020, '쇠': 2021, '셀': 2022, '유기농': 2023, '외출': 2024, '매트리스': 2025, '각인': 2026, '핸들': 2027, '물질': 2028, '나왓': 2029, '자연': 2030, '속도': 2031, '양호': 2032, '학교': 2033, '활동': 2034, '꼬': 2035, '닫혀': 2036, '빠질': 2037, '가늘': 2038, '기다려서': 2039, '소분': 2040, '돌려서': 2041, '우드': 2042, '실청': 2043, '스타킹': 2044, '핸드폰': 2045, '보조': 2046, '진작': 2047, '주기': 2048, '잡혀요': 2049, '비침': 2050, '흔들리': 2051, '물감': 2052, '암튼': 2053, '불쾌': 2054, '쓴맛': 2055, '윗': 2056, '섞여': 2057, '비타민': 2058, '에겐': 2059, '띠': 2060, '에다': 2061, '인기': 2062, '컬': 2063, '디테일': 2064, '네이버': 2065, '번거': 2066, '캠핑': 2067, '대량': 2068, '날렸': 2069, '카': 2070, '뭔가요': 2071, '변화': 2072, '쉬워서': 2073, '겁': 2074, '럽': 2075, '데요': 2076, '스텐': 2077, '망': 2078, '버린': 2079, '거부': 2080, '스틱': 2081, '돌렸': 2082, '겠어요': 2083, '옵니다': 2084, '이동': 2085, '클': 2086, '댁': 2087, '똑': 2088, '손해': 2089, '도저히': 2090, '아빠': 2091, '했으면': 2092, '운': 2093, '테': 2094, '볼께요': 2095, '제외': 2096, '넘기': 2097, 'ㅜㅠ': 2098, '워터': 2099, '력': 2100, '랩': 2101, '해결': 2102, '바른': 2103, '랍니다': 2104, '세여': 2105, '행사': 2106, '툭': 2107, '의심': 2108, '문제없': 2109, '딴': 2110, '해동': 2111, '..?': 2112, '통화': 2113, '105': 2114, '120': 2115, '담겨': 2116, '꽝': 2117, '칼': 2118, '다길래': 2119, '속상하': 2120, '철제': 2121, '투': 2122, '주위': 2123, '총': 2124, '도톰': 2125, '보들보들': 2126, '대체': 2127, '지지대': 2128, '대요': 2129, '심지어': 2130, '영상': 2131, '구분': 2132, '물고기': 2133, '뽀': 2134, '칩': 2135, '방석': 2136, '비린': 2137, '냄': 2138, '이것저것': 2139, '물론': 2140, '원형': 2141, '릴': 2142, '다름': 2143, '결': 2144, '최애': 2145, '그러나': 2146, '규': 2147, '헐렁': 2148, '얼음': 2149, '이래저래': 2150, '><': 2151, '자기': 2152, '의향': 2153, '팅': 2154, '리본': 2155, '스러워서': 2156, '그림': 2157, '띄': 2158, '세제': 2159, '철': 2160, '지난': 2161, '안전': 2162, '마이': 2163, '도전': 2164, '떨': 2165, '몸무게': 2166, '환': 2167, '읍니다': 2168, '조만간': 2169, '황당': 2170, '레깅스': 2171, '싱': 2172, '피곤': 2173, '이전': 2174, '탄력': 2175, '현지': 2176, '동생': 2177, '쇼': 2178, '거실': 2179, '*': 2180, '냐고': 2181, '미끄럼': 2182, '변하': 2183, '컴퓨터': 2184, '젼': 2185, '쿠': 2186, '결과': 2187, '했는데도': 2188, '달콤': 2189, '변경': 2190, '공부': 2191, '설사': 2192, '분사': 2193, '묻어나': 2194, '라이': 2195, '깊': 2196, '음질': 2197, '달랑': 2198, '절단': 2199, '인테리어': 2200, '레드': 2201, '빠': 2202, '^': 2203, '포': 2204, '날짜': 2205, '메': 2206, '샤워': 2207, '인견': 2208, '베개': 2209, '된다면': 2210, '다섯': 2211, '내려놓': 2212, '한입': 2213, '백김치': 2214, '안함': 2215, '에선': 2216, '와이파이': 2217, '해감': 2218, '곱': 2219, '기포': 2220, '얼려': 2221, '푹': 2222, '비쳐서': 2223, '센스': 2224, '스타': 2225, '는다고': 2226, '섞': 2227, '깨져요': 2228, '붕': 2229, '받쳐': 2230, '쩝': 2231, '신선도': 2232, '미지근': 2233, '녀석': 2234, '려나': 2235, '깨져': 2236, '뜨거운': 2237, '넓이': 2238, '무른': 2239, '남길': 2240, '부어도': 2241, '발림': 2242, '달라지': 2243, '순정': 2244, '출시': 2245, '상의': 2246, '아이디어': 2247, '볼트': 2248, '누워': 2249, '벗겨졌': 2250, '29': 2251, '층': 2252, '겠죠': 2253, '붓': 2254, '입음': 2255, '겨': 2256, '할꺼': 2257, '어서요': 2258, '꿈': 2259, '똑바로': 2260, '바뀌': 2261, '헬멧': 2262, '고장나': 2263, 'd': 2264, 'c': 2265, '발견': 2266, '오토바이': 2267, '자세': 2268, '께요': 2269, '병원': 2270, '상단': 2271, '애요': 2272, '등받이': 2273, '이음새': 2274, '두드러기': 2275, '리터': 2276, '쪼여': 2277, '찟': 2278, '재봉': 2279, '일일히': 2280, '읽': 2281, '어떨지': 2282, '갈라지': 2283, '염': 2284, '다며': 2285, '웃': 2286, '열려서': 2287, '닌': 2288, '하얀': 2289, '비싼데': 2290, '맛난': 2291, '은박': 2292, '라지만': 2293, '조차': 2294, '시끄러워서': 2295, '뭉쳐서': 2296, '긁': 2297, '빳빳': 2298, '프리': 2299, '습기': 2300, '챠': 2301, '평범': 2302, '동네': 2303, '홈': 2304, '찌꺼기': 2305, '겄': 2306, '펌핑': 2307, '고장났': 2308, '낱개': 2309, '바늘': 2310, '쉬운': 2311, '뼈': 2312, '금': 2313, '거기': 2314, 'as': 2315, '탑': 2316, '조여서': 2317, '려는데': 2318, '퍼': 2319, '나을': 2320, '각도': 2321, '결정': 2322, '산지': 2323, '통해': 2324, '삐뚤': 2325, '편했': 2326, '수면': 2327, '취향': 2328, '사전': 2329, '끼웠': 2330, '쥴': 2331, '반나절': 2332, '뾰족': 2333, '왤케': 2334, '설마': 2335, '골': 2336, '뽁뽁': 2337, '잖': 2338, '마저': 2339, '사기': 2340, '잡곡': 2341, '덜한': 2342, '줄어드': 2343, '도대체': 2344, '지역': 2345, '달라진': 2346, '숩': 2347, '아여': 2348, '여러모로': 2349, '팬': 2350, '붉': 2351, '쓸게요': 2352, '상상': 2353, '전구': 2354, '기장': 2355, '수선': 2356, '줄어들': 2357, '앞면': 2358, '까진': 2359, '틀린': 2360, '보름': 2361, '자라': 2362, '수동': 2363, '미스': 2364, '였으면': 2365, '얼마나': 2366, '유': 2367, 'ㅓ': 2368, '샘플': 2369, '본품': 2370, '어두워': 2371, '.;;': 2372, '균형': 2373, 'ㄹ': 2374, 'ㅇㄴ': 2375, '분명': 2376, '생겨서': 2377, '비치': 2378, '그런가요': 2379, '그때': 2380, '깎': 2381, '마지막': 2382, '휘어지': 2383, '아래쪽': 2384, '꼽': 2385, '출고': 2386, '선반': 2387, '신다고': 2388, '인생': 2389, '욕조': 2390, '구운': 2391, '발라야': 2392, '쟁여': 2393, '눈물': 2394, '아이폰': 2395, '튀어나온': 2396, '나온': 2397, '슴': 2398, '범벅': 2399, '백화점': 2400, '리퍼': 2401, '샀으면': 2402, '에프': 2403, '어야지': 2404, '한동안': 2405, '번호': 2406, '가렵': 2407, '날림': 2408, '들어갈': 2409, '게여': 2410, '경비실': 2411, '하하': 2412, '덥': 2413, '중형': 2414, '평평': 2415, '앞부분': 2416, '부러져서': 2417, '중앙': 2418, '유격': 2419, '휘어져': 2420, '아이보리': 2421, '거치': 2422, '팁': 2423, '슬리퍼': 2424, '170': 2425, '감자': 2426, '패키지': 2427, '남겼': 2428, '코팅': 2429, '토너': 2430, '오일': 2431, '석유': 2432, '매달': 2433, '연기': 2434, '화사': 2435, '파우': 2436, '번거롭': 2437, '가리': 2438, '뺐': 2439, '에용': 2440, '부피': 2441, '망가졌': 2442, '자를': 2443, '익숙': 2444, '돌출': 2445, '밑부분': 2446, '비닐봉지': 2447, '77': 2448, '끓여': 2449, '욧': 2450, '양면': 2451, '수선비': 2452, '스펀지': 2453, '써도': 2454, '대용량': 2455, '곤약': 2456, '인분': 2457, '토요일': 2458, '로즈': 2459, '백색': 2460, '식품': 2461, '맥스': 2462, '식탁': 2463, '어려운': 2464, '건조기': 2465, '다닐': 2466, '셔야죠': 2467, '무거웠': 2468, '케일': 2469, '헤': 2470, '죄송': 2471, '연하': 2472, '스푼': 2473, '쓰레기통': 2474, '축축': 2475, '자석': 2476, '다녀서': 2477, '👍': 2478, '부드러워서': 2479, '힘듭니다': 2480, '부스러기': 2481, '안경': 2482, '그람': 2483, '전자': 2484, '카페': 2485, '핫': 2486, '찌그러져서': 2487, '캐스팅': 2488, '유심': 2489, '촌': 2490, '가벼워': 2491, '갠': 2492, '물러': 2493, '근처': 2494, '부러졌': 2495, '존': 2496, '을지': 2497, 'ㅜㅜㅜ': 2498, '탔': 2499, '사무실': 2500, '코로나': 2501, '골랐': 2502, '전동': 2503, '따끔': 2504, '재미있': 2505, '찜': 2506, '들뜨': 2507, '파실': 2508, '지져': 2509, '인듯': 2510, '죤': 2511, '약합니다': 2512, '습': 2513, '잘라서': 2514, '삶': 2515, '사탕': 2516, '일체': 2517, '이어폰': 2518, '쪄서': 2519, '라이트': 2520, '거칠': 2521, '사포': 2522, '라요': 2523, '던데요': 2524, '봉제': 2525, '써볼': 2526, '말리': 2527, '피치': 2528, '찍힘': 2529, '대가': 2530, '세안': 2531, '절대로': 2532, '입니다요': 2533, '휴가': 2534, '중복': 2535, '구겨져서': 2536, '사지': 2537, '펌프': 2538, '내구': 2539, '쫄': 2540, '결속': 2541, '주름': 2542, '핑': 2543, '기재': 2544, '새끼': 2545, '호수': 2546, '힘든': 2547, '대용': 2548, '사용법': 2549, '그럴': 2550, '카드': 2551, '튿': 2552, '소비자': 2553, '해서인지': 2554, '피지': 2555, '흡착': 2556, '양념장': 2557, '168': 2558, '프': 2559, '은데요': 2560, '맞춰야': 2561, '접시': 2562, '포인트': 2563, '재단': 2564, '헤어': 2565, '부러질': 2566, '찌그러': 2567, '칸': 2568, '뺄': 2569, '액자': 2570, '합니까': 2571, '한텐': 2572, '아오': 2573, '전용': 2574, '려다가': 2575, '캐': 2576, '쥬얼': 2577, '짝퉁': 2578, '화학': 2579, '염려': 2580, '말려': 2581, '오류': 2582, '작품': 2583, '하단': 2584, '성형': 2585, '굵': 2586, '비갑': 2587, '라더니': 2588, '행': 2589, '완성': 2590, '적합': 2591, '도트': 2592, '남겨': 2593, '몸통': 2594, '예비': 2595, '스티로폼': 2596, '물컹': 2597, '접촉': 2598, '즐겨': 2599, '앞뒤': 2600, '부속품': 2601, '밍밍': 2602, '용지': 2603, '신분': 2604, '깍두기': 2605, '빨간색': 2606, '암': 2607, '나이키': 2608, '아팠': 2609, '예상': 2610, '병': 2611, 'ㅏㄴ': 2612, '17': 2613, '25': 2614, '확대': 2615, '개운': 2616, '커플': 2617, '레일': 2618, '땅콩': 2619, '군데군데': 2620, '측': 2621, '핏물': 2622, '21': 2623, '한다': 2624, '곤란': 2625, '광': 2626, '벗겨': 2627, '나올': 2628, '식전': 2629, '평가': 2630, '냄새나': 2631, '어이없': 2632, '싸인': 2633, '조잡': 2634, '분명히': 2635, '더워서': 2636, '놀랬': 2637, '해질': 2638, '송': 2639, '찢어져': 2640, '브레이크': 2641, '피싱': 2642, '.?': 2643, '아이패드': 2644, '굳이': 2645, '끊겨': 2646, '겁니다': 2647, '빵': 2648, '그만큼': 2649, '사정': 2650, '기엔': 2651, '떨어진': 2652, '요오': 2653, '캬': 2654, '아닐까': 2655, '였어요': 2656, '14': 2657, '사각': 2658, '던져': 2659, '나시': 2660, '볼륨': 2661, '적힌': 2662, '어묵': 2663, '감바': 2664, '빼먹': 2665, '수세미': 2666, '누': 2667, '변형': 2668, '싱거워': 2669, '뜯어보': 2670, '다소': 2671, '이미지': 2672, '추억': 2673, '지갑': 2674, '귀차': 2675, '짠': 2676, '우': 2677, '바빠서': 2678, '냇': 2679, '보드': 2680, '밀': 2681, '생각나': 2682, '미역': 2683, '눅눅': 2684, '빔': 2685, '비벼': 2686, '싹싹': 2687, '지방': 2688, '또는': 2689, '쓸려고': 2690, '팟': 2691, 'ㅏ': 2692, '끊어짐': 2693, '지하철': 2694, '냈': 2695, '노트': 2696, '80': 2697, '결합': 2698, '나스': 2699, '싱겁': 2700, '레': 2701, '버클': 2702, '날카로워서': 2703, '미터': 2704, '70': 2705, '아삭': 2706, '잠금': 2707, '부자': 2708, '비트': 2709, '올께요': 2710, '비쌉니다': 2711, '잔여물': 2712, '당일': 2713, '더워': 2714, '늘려서': 2715, '텐트': 2716, '약속': 2717, '이마트': 2718, '로움': 2719, '꺾이': 2720, '다스': 2721, '악세사리': 2722, '진동': 2723, '젖꼭지': 2724, '는다는': 2725, '알콜': 2726, '도시락': 2727, '망했': 2728, '체크': 2729, '수납': 2730, '갓': 2731, '담백': 2732, '스폰지': 2733, '는다': 2734, '이너': 2735, '기기': 2736, '풀려': 2737, '정성': 2738, '엿': 2739, '원피스': 2740, '기록': 2741, '계획': 2742, '강해요': 2743, '내려': 2744, '터졌': 2745, '하트': 2746, '오토': 2747, '택': 2748, '구매자': 2749, '섞인': 2750, '떨어질': 2751, '날아가': 2752, '섞여서': 2753, '권': 2754, '600': 2755, '멋': 2756, '어둡': 2757, '31': 2758, '동': 2759, '라니': 2760, '발볼': 2761, '새벽': 2762, '봄': 2763, '기술': 2764, '라기': 2765, '된다': 2766, '줌': 2767, '홀더': 2768, '느린': 2769, '식초': 2770, '슬라이드': 2771, '짝': 2772, '가시': 2773, '도색': 2774, '안심': 2775, '태어날': 2776, '쿠폰': 2777, '에여': 2778, '글씨': 2779, '매워': 2780, '마인드': 2781, '랫': 2782, '롱': 2783, '녹물': 2784, '고추': 2785, '선명': 2786, '떡볶이': 2787, '뽁': 2788, '그다지': 2789, '지워져': 2790, '주방': 2791, '무가당': 2792, '올해': 2793, '따갑': 2794, '이중': 2795, '꺼낼': 2796, '꼼꼼히': 2797, '민망': 2798, '냉면': 2799, '대서': 2800, '목도리': 2801, '터': 2802, '훌륭': 2803, '태도': 2804, '지지': 2805, '급한': 2806, '엉망진창': 2807, '소화': 2808, '나용': 2809, '꼭지': 2810, '더러움': 2811, '강한': 2812, '아크릴': 2813, '걸까요': 2814, '아무거': 2815, '눌러': 2816, '메인': 2817, '한포': 2818, '시도': 2819, '파츠': 2820, '완벽': 2821, '바다': 2822, '단지': 2823, '해버려서': 2824, '셋': 2825, '포크': 2826, '심한': 2827, '땀띠': 2828, '샤오미': 2829, '비리': 2830, '당근': 2831, '샀었': 2832, '조화': 2833, '질감': 2834, '마셨': 2835, '마니파': 2836, '공유기': 2837, 'ㅠㅠㅠㅠ': 2838, '화장품': 2839, '할머니': 2840, '짜여': 2841, '망고': 2842, '멀티': 2843, '려구': 2844, '률': 2845, '좀더': 2846, '식당': 2847, '호텔': 2848, '나아요': 2849, '캠': 2850, '냉동식품': 2851, '힘든데': 2852, '가슴살': 2853, '직': 2854, '불로': 2855, '깔끔히': 2856, '탱': 2857, '구나': 2858, '나감': 2859, '자랑': 2860, '블링': 2861, '쓱쓱': 2862, '열기': 2863, '쌓': 2864, '돠': 2865, '기다려야': 2866, '사과': 2867, '금장': 2868, '질긴': 2869, '짜지': 2870, '편함': 2871, '더우': 2872, '해져서': 2873, '심각': 2874, '라나': 2875, '굴러다니': 2876, '심히': 2877, '니까요': 2878, '55': 2879, '라지': 2880, '즌데': 2881, '쳐다': 2882, '키위': 2883, '양심': 2884, '장사': 2885, '진한': 2886, '녹차': 2887, '이사': 2888, '통도': 2889, '가깝': 2890, '마크라메': 2891, '생겨': 2892, '잘랐': 2893, '구려': 2894, '어깨끈': 2895, '인대': 2896, '찼': 2897, '스마트폰': 2898, '들리': 2899, '보온': 2900, '둘레': 2901, '쨍': 2902, '감성': 2903, '85': 2904, '와이어': 2905, '엠보싱': 2906, '힘없': 2907, '화장대': 2908, '떠요': 2909, '복구': 2910, '용접': 2911, '구겨지': 2912, '잠시': 2913, '경험': 2914, '특별': 2915, '15000': 2916, '제때': 2917, '베스트': 2918, '시켜요': 2919, '330': 2920, '땜시': 2921, '호도': 2922, '발등': 2923, '불만족': 2924, '재작': 2925, '가구': 2926, '킨': 2927, '록스': 2928, '튀어나와서': 2929, '자크': 2930, '에러': 2931, '본체': 2932, '닫히': 2933, '해두': 2934, '찜찜': 2935, '~~~~~~~': 2936, '수습': 2937, '일인용': 2938, '연결부': 2939, '않되': 2940, '그럼': 2941, '닳': 2942, '층간': 2943, '파김치': 2944, '됬': 2945, '다행히': 2946, '앞머리': 2947, '기르': 2948, '폴리': 2949, '어린이집': 2950, '하드': 2951, '두어': 2952, '당하': 2953, '댕기': 2954, '지루': 2955, '2015': 2956, '게다가': 2957, '셈': 2958, '프린팅': 2959, '흐려서': 2960, '.;;;': 2961, 'ㅜㅠㅜ': 2962, '상담원': 2963, '인덕션': 2964, '베이스': 2965, '발려': 2966, '지독': 2967, '극소': 2968, '꼴': 2969, '가을': 2970, '속상했': 2971, '가정': 2972, '어색': 2973, '기뻐요': 2974, '끈적': 2975, '내려서': 2976, '과장': 2977, '구석': 2978, '업무': 2979, '남성': 2980, '유치원': 2981, '발리': 2982, '유분': 2983, '조임': 2984, '순면': 2985, '버려야': 2986, '존재': 2987, '집안': 2988, '들어오': 2989, '뺏': 2990, '치킨': 2991, '동원': 2992, '훅': 2993, '라이터': 2994, '딥': 2995, '댓': 2996, '똑같이': 2997, '테이핑': 2998, '헤드폰': 2999, '놈': 3000, '쥬': 3001, '인쇄': 3002, 'ㅇ네요': 3003, '조각': 3004, '신문지': 3005, '주심': 3006, '이케아': 3007, '이마': 3008, '아픕니다': 3009, '캔': 3010, '잣': 3011, '버립니다': 3012, '돌아다니': 3013, '한다는': 3014, '는대요': 3015, '아파': 3016, '질까': 3017, '미흡': 3018, '시안': 3019, '쿄': 3020, '백탁': 3021, '미루': 3022, '블러': 3023, '북': 3024, '압': 3025, '딸기': 3026, '실타래': 3027, '만드셨': 3028, '아까운': 3029, '등등': 3030, '쎄': 3031, '라구요': 3032, '.......': 3033, '실내등': 3034, '트렁크': 3035, '혼': 3036, '습니까': 3037, '롤': 3038, '으세요': 3039, '로로': 3040, '달리': 3041, '싸서': 3042, '엄청난': 3043, '심이': 3044, '아이스크림': 3045, '다이어리': 3046, '나누': 3047, '꼈': 3048, '반사': 3049, '방안': 3050, '훈훈': 3051, '펼쳐': 3052, '현미': 3053, '백미': 3054, '뜨끈': 3055, '끓': 3056, '일반인': 3057, '.,.': 3058, '가진': 3059, '재밌': 3060, '비싼게': 3061, '착한': 3062, '뜹니다': 3063, '근무': 3064, '흘렸': 3065, '무섭': 3066, '착해서': 3067, '뭉퉁': 3068, '000': 3069, '왠만': 3070, '위생': 3071, '수영복': 3072, '더울': 3073, '사업': 3074, '토막': 3075, '돌기': 3076, '.,': 3077, '헹구': 3078, '빗질': 3079, '송진': 3080, '지우': 3081, '발휘': 3082, '광택': 3083, '냅킨': 3084, '기통': 3085, '에센스': 3086, '더러운': 3087, '으려고요': 3088, '̆̈': 3089, '하나하나': 3090, '😊': 3091, '그린': 3092, '고고': 3093, '껍지': 3094, '키보드': 3095, '합리': 3096, '클립': 3097, '쪼': 3098, '다녀요': 3099, '막히': 3100, '듯해요': 3101, '소용': 3102, '할까요': 3103, '흙': 3104, '........': 3105, '수건': 3106, '맑': 3107, '강화': 3108, '세일': 3109, '맛보': 3110, '조절기': 3111, '조심히': 3112, '다녀야': 3113, '떨어질까봐': 3114, '트리트': 3115, '알차': 3116, '왔다갔다': 3117, '겻': 3118, '만져': 3119, '열려요': 3120, '150': 3121, '오지': 3122, '어려서': 3123, '아늑': 3124, '강했': 3125, '노랑': 3126, '약국': 3127, '켯': 3128, '삐그덕': 3129, '공장': 3130, '클렌징': 3131, '방울': 3132, '수리': 3133, '갈치': 3134, '익히': 3135, '매워서': 3136, '여름철': 3137, '아래': 3138, '압박감': 3139, '심합니다': 3140, '올린': 3141, '착불': 3142, '됫다': 3143, '못지않': 3144, '무타': 3145, '합니다만': 3146, '해야죠': 3147, '주차장': 3148, '풍성': 3149, '물맛': 3150, '겉표지': 3151, '츄': 3152, '르': 3153, '먹여서': 3154, '썻는데': 3155, '발톱': 3156, '화물': 3157, '귀한': 3158, '양면테이프': 3159, '세탁기': 3160, '드려야': 3161, '러지': 3162, '작업복': 3163, '하의': 3164, '켰': 3165, '엊': 3166, '고수': 3167, '속눈썹': 3168, '가리개': 3169, '혼합': 3170, '할껄': 3171, '된장': 3172, '인용': 3173, '돌아가': 3174, '추울': 3175, '엠': 3176, '보장': 3177, '날씬': 3178, '모여': 3179, '는지라': 3180, '250': 3181, '쮸': 3182, '형광': 3183, '멀쩡': 3184, '반년': 3185, '벗겨질': 3186, '걸쳐': 3187, '찌르': 3188, '빋': 3189, '생각없이': 3190, '완충제': 3191, '스탠드': 3192, '레고': 3193, '줄기': 3194, '빨갛': 3195, '충혈': 3196, '줄줄': 3197, '붙일': 3198, '시리': 3199, '블럭': 3200, '모자라': 3201, '효': 3202, '유연': 3203, '❛': 3204, '거트': 3205, '새콤달콤': 3206, '구서': 3207, '닝': 3208, '투어': 3209, '쳐': 3210, '귀여운': 3211, '옅': 3212, '숙성': 3213, '해야할까': 3214, '편백': 3215, '산거': 3216, '고선': 3217, '뚝딱': 3218, '아마도': 3219, '걷': 3220, '검은색': 3221, '꿀잠': 3222, '주로': 3223, '는지요': 3224, '안경알': 3225, '쌩': 3226, '안경테': 3227, '보람': 3228, '렌지': 3229, '슬링': 3230, '으려니': 3231, '자세히': 3232, '루어': 3233, '아감': 3234, '즉시': 3235, '먹통': 3236, '입술': 3237, '연한': 3238, '설거지': 3239, '홍조': 3240, '장시간': 3241, '뱃살': 3242, '쓰일': 3243, '비오': 3244, '무르': 3245, '슈퍼': 3246, '하도': 3247, '구리': 3248, '베어링': 3249, '잠겨': 3250, '윽': 3251, '나았': 3252, '느껴집니다': 3253, '도통': 3254, '살걸': 3255, '강해서': 3256, '펜션': 3257, '식용유': 3258, '질문': 3259, '끊어졌': 3260, '한숨': 3261, '더라': 3262, '이래서': 3263, '실물': 3264, '뿌러져': 3265, '가리비': 3266, '뚫려': 3267, '쪄': 3268, '호': 3269, '400': 3270, '파여': 3271, '찢어짐': 3272, '위한': 3273, '800': 3274, '통안': 3275, '모름': 3276, '대사': 3277, '억': 3278, '해소': 3279, '형태': 3280, '잭': 3281, '벗기': 3282, '랍': 3283, '자색': 3284, '귀여움': 3285, 'diy': 3286, '건데요': 3287, '콩국': 3288, '생겼어요': 3289, '부탁드립니다': 3290, '오묘': 3291, '종': 3292, '당기': 3293, '빛나': 3294, '씌워': 3295, '끼워서': 3296, '테이블': 3297, '구부러져': 3298, '지워져요': 3299, '액체': 3300, '슬라이딩': 3301, '풀려요': 3302, '장소': 3303, '덩그러': 3304, '덕지덕지': 3305, '팥': 3306, '한꺼번에': 3307, '감쪽같이': 3308, '랙': 3309, '알약': 3310, '그레': 3311, '덜하': 3312, '어떠': 3313, '그만': 3314, '분무기': 3315, '릭': 3316, '정중앙': 3317, '슬라이스': 3318, '크리스마스': 3319, '흐르': 3320, '내려요': 3321, '감사히': 3322, '패턴': 3323, '간소': 3324, '놔서': 3325, '음다': 3326, '하구': 3327, '공룡': 3328, 'ㅠㅜㅠ': 3329, '로서': 3330, '드럽': 3331, '편의점': 3332, '오른쪽': 3333, '출근': 3334, '전복': 3335, '버터': 3336, '230': 3337, '알맹이': 3338, '키가': 3339, '위쪽': 3340, '힙': 3341, '최저': 3342, '필수품': 3343, '아서요': 3344, '무척': 3345, '는군요': 3346, '우장': 3347, '♡♡': 3348, '상표': 3349, '아닌지': 3350, '사슴': 3351, '줄려고': 3352, '미뤄': 3353, '단장': 3354, '과한': 3355, '찮아': 3356, '불고기': 3357, '찐득': 3358, '크릴': 3359, '예여': 3360, '어울려서': 3361, '낭패': 3362, '초반': 3363, '결혼': 3364, '약품': 3365, '번거로워서': 3366, '마스카라': 3367, '이염': 3368, '수업': 3369, '헤드셋': 3370, '이어': 3371, '씁니다만': 3372, '찢': 3373, '물려서': 3374, '성공': 3375, '엄청나': 3376, '원두': 3377, '들어와서': 3378, '이야': 3379, '마나': 3380, '넹': 3381, '술': 3382, '숫자': 3383, '최대': 3384, '찬물': 3385, '꾸준': 3386, '캐리어': 3387, '쓸모없': 3388, '비율': 3389, '눌': 3390, '뻥': 3391, '이외': 3392, '왠': 3393, 'byc': 3394, '방댕이': 3395, '낍니다': 3396, '빤': 3397, '그래': 3398, '빨대': 3399, '틱': 3400, '더욱': 3401, '만든': 3402, '어려워서': 3403, '다녀왔': 3404, '이쁨': 3405, '빅': 3406, '중자': 3407, '요번': 3408, '이즈': 3409, '기준': 3410, '88': 3411, '불구': 3412, '여러분': 3413, '로고': 3414, '피어싱': 3415, '낼': 3416, '어리': 3417, '질겼': 3418, '토퍼': 3419, '씌우': 3420, '누워서': 3421, '추석': 3422, '불렀': 3423, '빨개지': 3424, '썬': 3425, '저리': 3426, '소량': 3427, '인데요': 3428, '겨울옷': 3429, '날개': 3430, '변이': 3431, '매치': 3432, '일리': 3433, '준다고': 3434, '여요': 3435, '수율': 3436, '서리': 3437, '내년': 3438, '과숙': 3439, '역한': 3440, '망치': 3441, '될까': 3442, '요긴': 3443, '측정': 3444, '알갱이': 3445, '당뇨': 3446, '원했': 3447, '써야죠': 3448, '억지로': 3449, '좌우': 3450, '근대': 3451, '무거워': 3452, '마음대로': 3453, '쌈': 3454, '몸체': 3455, '키즈': 3456, '입혀서': 3457, '부서졌': 3458, '나갈': 3459, '션': 3460, '월드': 3461, '가까운': 3462, '반납': 3463, '베이': 3464, '으셔서': 3465, '쿨': 3466, '들려요': 3467, '이브': 3468, '^-^': 3469, '큼직': 3470, '루프': 3471, '페이크': 3472, '니삭스': 3473, '스몰': 3474, '틀려서': 3475, '인요': 3476, '지푸라기': 3477, '실사': 3478, '겨드랑이': 3479, '가이드': 3480, '중심': 3481, '나이': 3482, '붕어': 3483, '락앤락': 3484, '녹이': 3485, '압출': 3486, '상당': 3487, '걸립니다': 3488, '탄성': 3489, '온라인': 3490, '뛰어난': 3491, '잃어버려서': 3492, '와이퍼': 3493, '절반': 3494, '남긴': 3495, '라구': 3496, '파스타': 3497, '바질': 3498, '제입맛에': 3499, '거뜬': 3500, '인지라': 3501, '치석': 3502, '밀착': 3503, '케이': 3504, '애초': 3505, '줍니다': 3506, '보들': 3507, '해보여요': 3508, '이긴': 3509, '메모리': 3510, '잘라': 3511, '쳐서': 3512, '집어던지': 3513, '숯': 3514, '선크림': 3515, '드만': 3516, '카톡': 3517, '**': 3518, '음료수': 3519, '밀려': 3520, '자용': 3521, '복잡': 3522, '긴가민가': 3523, '두유': 3524, '망사': 3525, '물병': 3526, '본사': 3527, '할려구요': 3528, '바뀐': 3529, '기온': 3530, '발바닥': 3531, '어떨까': 3532, '드립': 3533, '옆구리': 3534, '당겨': 3535, '햅쌀': 3536, '2016': 3537, '..;': 3538, '쪼꼼': 3539, '쓰여': 3540, '냉장': 3541, '능': 3542, '킹': 3543, '전문': 3544, '노른자': 3545, '태어나': 3546, '10000': 3547, '거절': 3548, '떳': 3549, '행잉': 3550, '걸때': 3551, '덧신': 3552, '종이컵': 3553, '우의': 3554, '연두': 3555, '!!!!!!!': 3556, '감동': 3557, '샷': 3558, 'fx': 3559, '마찬가지': 3560, '파랑': 3561, '각각': 3562, '병뚜껑': 3563, '^^;;': 3564, '왕복': 3565, '겨자': 3566, '치가': 3567, '메이커': 3568, '마당': 3569, '관상용': 3570, '역': 3571, '싀': 3572, '저런': 3573, '모를': 3574, '심해졌': 3575, '밑위': 3576, '필기': 3577, '쥬스': 3578, '도래': 3579, '회로': 3580, '늘어져': 3581, '오마이갓': 3582, '반대': 3583, '빠라': 3584, '스케이트': 3585, '임다': 3586, '긁힌': 3587, '중성': 3588, '삼겹살': 3589, '으깨': 3590, '망가지': 3591, '와이프': 3592, '튼실': 3593, '잃': 3594, '올릴': 3595, '느려도': 3596, '사리': 3597, '슬프': 3598, '따라서': 3599, '기어': 3600, '카본': 3601, '균열': 3602, '큼': 3603, '어른': 3604, '다지만': 3605, '상해서': 3606, '볼게요': 3607, '올려도': 3608, '달랑거리': 3609, '~~~!!!': 3610, '아디': 3611, '목걸이': 3612, '코인': 3613, '레이어드': 3614, '50': 3615, '부탁드려요': 3616, '항': 3617, '눈썹': 3618, '벽지': 3619, '아실': 3620, '본인': 3621, '가짜': 3622, '벌': 3623, '짓': 3624, '떨림': 3625, '여유증': 3626, '썻': 3627, '치고': 3628, '관련': 3629, '무우': 3630, '지문': 3631, '오프': 3632, '보라색': 3633, '어휴': 3634, '부서': 3635, '서랍': 3636, '글쎄': 3637, '실내': 3638, '디바': 3639, '굵기': 3640, '말랭이': 3641, '쟈': 3642, '앞쪽': 3643, '밋밋': 3644, '펑': 3645, '퍼지': 3646, '시리얼': 3647, '방금': 3648, '니트': 3649, '알맞': 3650, '운송장': 3651, '뿅': 3652, '기니': 3653, '흔한': 3654, '이렇': 3655, '마사지': 3656, '피로': 3657, '더운': 3658, '어차피': 3659, '메모': 3660, '배꼽': 3661, '만족도': 3662, '깁니다': 3663, '벗겨진': 3664, '200': 3665, '시켜야': 3666, '확장': 3667, '충분': 3668, '흡': 3669, '자니': 3670, '얹': 3671, '조수석': 3672, '16': 3673, '물놀': 3674, '강풍': 3675, '량': 3676, '사양': 3677, '마우스': 3678, '득': 3679, '스프링': 3680, '끼리': 3681, '됏는데': 3682, '부서질': 3683, '켯네요': 3684, '단호박': 3685, '비누': 3686, '올게요': 3687, '변기': 3688, '너덜너덜': 3689, '앱': 3690, '올겨울': 3691, '까먹': 3692, '밀려서': 3693, '공항': 3694, '나눠': 3695, '한영': 3696, '뒤지': 3697, '첫째': 3698, '구겨': 3699, '친환경': 3700, '실버': 3701, '영롱': 3702, '스트라이프': 3703, '머그': 3704, '체': 3705, '커터칼': 3706, '배변': 3707, '빛': 3708, '화요일': 3709, '못할': 3710, '키트': 3711, '드레스': 3712, '탁전': 3713, '논': 3714, '모던': 3715, '비릿': 3716, '놨는데': 3717, '누룽지': 3718, '푸드': 3719, '오리지널': 3720, '리얼': 3721, '하얗': 3722, '네일': 3723, '슴다': 3724, '정교': 3725, '패': 3726, '기둥': 3727, '국내': 3728, '묶음': 3729, '친언니': 3730, '다림질': 3731, '당한': 3732, '실한': 3733, '열감': 3734, '푸': 3735, '주스': 3736, '이빨': 3737, '갑니다': 3738, '셧': 3739, '박수': 3740, '눌러붙': 3741, '면은': 3742, '새콤': 3743, '찢어졌': 3744, 'll': 3745, '캐릭터': 3746, '서핑': 3747, '진정': 3748, '텐': 3749, '으려구요': 3750, '포만감': 3751, '익혀': 3752, '짱깨': 3753, '계시': 3754, '사자': 3755, '실온': 3756, '일까요': 3757, '모공': 3758, '기냥': 3759, '흰머리': 3760, '염색': 3761, '건조대': 3762, '달린': 3763, '고추가': 3764, '청양': 3765, '가누': 3766, '지워졌': 3767, '손재주': 3768, '넥타이': 3769, '토닉': 3770, '펑크': 3771, '한다면': 3772, '돌려도': 3773, '프라이어': 3774, '뱉': 3775, '톤': 3776, '텍': 3777, '조카': 3778, '었었': 3779, '베리': 3780, '했어야': 3781, '알림': 3782, '스카이': 3783, '하늘': 3784, '큰일날': 3785, '노랗': 3786, 'in': 3787, '넥': 3788, '라떼': 3789, '큐': 3790, '뉴': 3791, '제멋대로': 3792, '접혀': 3793, '기구': 3794, '대처': 3795, '스치': 3796, '말라서': 3797, '질김': 3798, '라서요': 3799, '아무튼': 3800, '꿀': 3801, '드실': 3802, '붙히': 3803, '아라': 3804, '대해': 3805, '신겨': 3806, '시이': 3807, '승': 3808, '나타나': 3809, '간지러워': 3810, '어려워요': 3811, '콘센트': 3812, '채집통': 3813, '해당': 3814, '최소한': 3815, '콩국수': 3816, '사량': 3817, '명품': 3818, '고서': 3819, '할께': 3820, '글쎄요': 3821, '갤럭시': 3822, '.^^': 3823, '서로': 3824, '끄': 3825, '깜찍': 3826, '액': 3827, 'ㅜㅡㄴ': 3828, '릿': 3829, '따로따로': 3830, '식습관': 3831, '디톡스': 3832, '펀': 3833, '귀욤': 3834, '느려서': 3835, '으러': 3836, '포장지': 3837, '어린아이': 3838, '걸릴': 3839, '눌려': 3840, '재채기': 3841, '새까맣': 3842, '금새': 3843, '노끈': 3844, '치마': 3845, '자는': 3846, 'ㆍㅅ': 3847, '치곤': 3848, '바삭바삭': 3849, '오이지': 3850, '담그': 3851, '담가': 3852, '송지연': 3853, '프리미엄': 3854, '기판': 3855, '라벨': 3856, '태': 3857, '전거': 3858, '벼': 3859, '깊이': 3860, '허리띠': 3861, '달치': 3862, '빗자루': 3863, '가벼우': 3864, '그려지': 3865, '별생각': 3866, '살아나': 3867, '구조': 3868, '견적': 3869, '시중': 3870, '🔥': 3871, '-)': 3872, '커텐': 3873, '탕': 3874, '난데': 3875, '율': 3876, '쇼파': 3877, '물렸': 3878, '검품': 3879, '어쩐지': 3880, '통관': 3881, '맨날': 3882, '였으나': 3883, '한우': 3884, '렌': 3885, '톰포드': 3886, '목욕': 3887, '특유': 3888, '추후': 3889, '긴데': 3890, '가려': 3891, '천장': 3892, '올렸': 3893, '드름': 3894, '색이': 3895, '노니': 3896, '갈라진': 3897, '크로버': 3898, '뷰': 3899, '싸이트': 3900, '쌉니다': 3901, '아마스': 3902, '마치': 3903, '순서': 3904, '26': 3905, '손쉽': 3906, '기다린': 3907, '근': 3908, '당도': 3909, '항공': 3910, '베트남': 3911, '낡': 3912, '밧': 3913, '숱': 3914, '임산부': 3915, '물렀': 3916, '가닥': 3917, '혀서': 3918, '매각': 3919, '고자': 3920, '당시': 3921, '담구': 3922, '숟가락': 3923, '벗겨져서': 3924, '물들': 3925, '손바닥': 3926, '포토': 3927, '잠자리': 3928, '동작': 3929, '대체로': 3930, '현재': 3931, '꾸': 3932, '만약': 3933, '기평': 3934, '서프라이즈': 3935, '생화': 3936, '껏': 3937, '단기간': 3938, '익혔': 3939, '동물': 3940, '토프': 3941, '마늘': 3942, '윗부분': 3943, '애매': 3944, '24': 3945, '예쁜데': 3946, '요거': 3947, '텐데요': 3948, '예뻤': 3949, '소리나': 3950, '선식': 3951, '미숫가루': 3952, '생강': 3953, 'ㅊ': 3954, '여여': 3955, '발랐': 3956, '먹임': 3957, '복사': 3958, '식겁': 3959, '밑판': 3960, '뻗': 3961, ';;;;': 3962, '준다는': 3963, '얻': 3964, '시어서커': 3965, '골라': 3966, '마크': 3967, '에디션': 3968, '프라하': 3969, '생리통': 3970, '샜': 3971, '입힐': 3972, '놀랍': 3973, '괸': 3974, '슬립': 3975, '달고나': 3976, '손전등': 3977, '매운': 3978, '^_^': 3979, '줄자': 3980, '투리': 3981, 'ㅡㅅ': 3982, '헬스': 3983, '평보': 3984, '반값': 3985, '발판': 3986, '발목': 3987, '티비': 3988, 'gm': 3989, '체리': 3990, '짜장': 3991, '라벤더': 3992, '만드': 3993, '퍼즐': 3994, '암홀': 3995, '소매': 3996, '발길': 3997, '향수': 3998, '한마디': 3999, '빗기': 4000, '줄였': 4001, '슈가': 4002, '수화물': 4003, '소바': 4004, '치이': 4005, '초록': 4006, '모후': 4007, '짜린데': 4008, '역대': 4009, '인수자': 4010, '봐야겠지만': 4011, '농산물': 4012, '원재료': 4013, '도로': 4014, '간간히': 4015, '핑장': 4016, '교화': 4017, 'ㅡㅡ검수도': 4018, '사생활': 4019, '원츄': 4020, '씻겨': 4021, '설익': 4022, '얼려서': 4023, '깨름': 4024, '꺼려집니다': 4025, '꺼졌': 4026, '왠지': 4027, '으쓱': 4028, '벤트': 4029, '대성공': 4030, 'ㅇ롬ㅇ롤ㅇ모몰': 4031, '제모': 4032, '품목': 4033, '날카로운': 4034, '기다림': 4035, '최소': 4036, '모우': 4037, '근막': 4038, '밀키': 4039, '정육점': 4040, '마리네': 4041, '이드': 4042, '살림': 4043, '백서': 4044, 'ㅐ송': 4045, '환장': 4046, '발라진': 4047, '극': 4048, '혐이네': 4049, '말캉말캉': 4050, '뜸': 4051, '이쪽': 4052, '따스': 4053, '통풍': 4054, '간지': 4055, '프라인': 4056, '포스': 4057, '불수': 4058, '연계': 4059, '산행': 4060, '괜춘해요': 4061, '보완': 4062, '전달': 4063, '가바': 4064, '충실': 4065, '늘리': 4066, '특화': 4067, '곰팡': 4068, '그만한': 4069, '조그맣': 4070, '쑤셔박': 4071, '아네요': 4072, '누린내': 4073, '바닷가': 4074, '열려': 4075, '셌': 4076, '기호': 4077, '달기': 4078, '물엿': 4079, '야자수': 4080, '홈페이지': 4081, '사각형': 4082, '!?': 4083, '도배지': 4084, '일본': 4085, '으엉': 4086, '모기향': 4087, '주세요': 4088, '주세': 4089, '쌉쓰름한': 4090, '한편': 4091, '행주': 4092, '퇏습니다어': 4093, '실질': 4094, '팔꿈치': 4095, '쓰여서': 4096, '잠구': 4097, '한데요': 4098, '모여서': 4099, '드디어': 4100, '다영': 4101, '정착': 4102, '입히': 4103, '어떤가': 4104, '틑어진건지': 4105, '안감': 4106, '삐뚤빼뚤': 4107, '천에': 4108, '.;': 4109, '알알': 4110, '지름': 4111, '뻐르게잘왔는데': 4112, '사건': 4113, '므느므': 4114, '을걸': 4115, '끊어질': 4116, '잘라야': 4117, '삼요': 4118, '김상태': 4119, '최상': 4120, '라벤': 4121, '다감': 4122, '나갈라': 4123, '쭈글': 4124, '해져': 4125, '돌아오': 4126, '마실': 4127, '주둥이': 4128, '둥근': 4129, '작아졌': 4130, '이죽': 4131, 'ㅜ실외기가': 4132, 'ㅜ큰편': 4133, '다이얼': 4134, 'ㆍㆍ': 4135, '😉': 4136, '틈틈히': 4137, '튀겨': 4138, '풀어지': 4139, '휠': 4140, '미트': 4141, '쿠나': 4142, '새요': 4143, '소면': 4144, '맥히': 4145, '여태': 4146, '제목': 4147, '묵직': 4148, '사이조': 4149, '커브': 4150, '틀수': 4151, '사레': 4152, '짭잘': 4153, '삭': 4154, '접지': 4155, '떨궜': 4156, '원상': 4157, '껌': 4158, '니즈': 4159, '웜': 4160, '지스': 4161, '따가울': 4162, '나눔': 4163, '잡아당기': 4164, '단돈': 4165, '홍': 4166, '퀼': 4167, '리티': 4168, '방광염': 4169, '지경': 4170, '피시방': 4171, '꿔': 4172, '매서': 4173, '스트리': 4174, '연두부': 4175, '오매불망': 4176, '건데도': 4177, '미스라': 4178, '짤라': 4179, '쵝오': 4180, '!!!!!!!!!!!!!': 4181, '품리': 4182, 'ㅓㅇ러ㅜ너ㅜ망도쇄료료료': 4183, '으셨는지': 4184, '약해져서': 4185, '불룩': 4186, '쪼가리': 4187, '~#': 4188, '숫': 4189, '구먼유': 4190, '즐겁': 4191, '으니깐': 4192, '잊어버리': 4193, '긁혀서': 4194, '이따위': 4195, '온지': 4196, '마땅': 4197, '제겐': 4198, '음선': 4199, '덴': 4200, '랜턴': 4201, '운전대': 4202, 'ㅠ분유를': 4203, '꿧는데': 4204, '샇네요': 4205, '화력': 4206, '신주': 4207, '인서': 4208, '홀': 4209, '체결': 4210, '그제야': 4211, '띄우': 4212, '~!!!!': 4213, 'ㅡ가지': 4214, '오랜': 4215, '날아갔': 4216, '최저가': 4217, '뿌듯': 4218, '흐리멍텅': 4219, '글고': 4220, '일어났': 4221, '차서': 4222, '퇴근': 4223, '유두': 4224, '띵띵': 4225, '벨': 4226, '처': 4227, '탸커어ㅡ라차태탳차ㅡ차캐캐챠차스ㅡㄱ다ㅐ배밴': 4228, '차타': 4229, 'ㅏ라프프타타루추차ㅏㅌ탙나느ㅡ으라태는ㄴㅈㄷㄹㅎ': 4230, '골파': 4231, '개털': 4232, '짜를': 4233, '낑기': 4234, 'ㅠㅠㅠ색상도': 4235, '변색': 4236, '멍멍이': 4237, '스파크': 4238, '강매': 4239, '쉬우면': 4240, '봉후': 4241, '2020': 4242, '라는데': 4243, '씰': 4244, '오픈': 4245, '근거': 4246, '똑딱이': 4247, '채워': 4248, '다요': 4249, '개불': 4250, '하이': 4251, '서포트': 4252, '크레파스': 4253, '젭': 4254, '기절': 4255, '대부분': 4256, '뻐요ㅠ': 4257, 'ㅠㅓㅎ어호ㅓㅠ호하': 4258, '싀졎ㅂㅌㄱ': 4259, '단백질': 4260, '보충': 4261, '신상': 4262, '용임': 4263, '여름것': 4264, '신통방통': 4265, '격리': 4266, '회전력': 4267, '욕심': 4268, '부려': 4269, '즛': 4270, '파랗': 4271, '테이': 4272, '퍼드': 4273, '그래두': 4274, '끊어져버렸': 4275, '흘려': 4276, '저온': 4277, '교구': 4278, '뻐져': 4279, '틀림없': 4280, '쳐박혀': 4281, '처지': 4282, '.....,..': 4283, '!^^': 4284, '능력': 4285, '저항': 4286, '어린이': 4287, '베어먹': 4288, '분실': 4289, '모달': 4290, '데이터': 4291, '어머': 4292, '184': 4293, '꽃게': 4294, 'ㅠㅋㅋ양도': 4295, '부작용': 4296, '바짝바짝': 4297, '엣': 4298, 'ㆍㄱ': 4299, '덜컹': 4300, '방식': 4301, '수백': 4302, '는데도': 4303, 'ㅠㅠ제': 4304, '구르마': 4305, '막무가내': 4306, '삐뚫': 4307, '맞춰야만': 4308, '내내': 4309, '헝겁': 4310, '내놔도': 4311, '놔뒀': 4312, '숯가루': 4313, '로옴': 4314, '선별': 4315, '가습기': 4316, '앵이': 4317, '꾸밀': 4318, '터보': 4319, '맨투맨': 4320, '기지개': 4321, '삭제': 4322, '장거리': 4323, '운전': 4324, '므로': 4325, '쵸': 4326, '아작': 4327, '홍시': 4328, '농군': 4329, '자식': 4330, '는데두': 4331, '짠지': 4332, '헉': 4333, '으스러져': 4334, '성질난': 4335, '가로세로': 4336, '징': 4337, 'ㅡㅡ역시': 4338, '바코드': 4339, '차체': 4340, '지기': 4341, '내림': 4342, '딱한': 4343, '깔려': 4344, '증정': 4345, '황': 4346, '반해서': 4347, '먀': 4348, '든든': 4349, '으신가': 4350, '로얄': 4351, '제주도': 4352, '발송지': 4353, '드릴게요': 4354, '멋지': 4355, '아파하': 4356, '가려워하': 4357, '헝': 4358, '차도': 4359, '허로': 4360, '접촉면': 4361, '생파': 4362, '홈파티': 4363, '꾸며': 4364, '치우쳐져': 4365, '해봐도': 4366, '도마': 4367, '색대': 4368, '올라와': 4369, '요연': 4370, '보라': 4371, 'ㆍㅍ': 4372, 'ㆍㄴ': 4373, 'ㆍㅂㄴㆍㄷㅂㄷㄴㄱㄷㅂㄷㄱㄷㆍㄱㄷ': 4374, '줄때': 4375, '냠냠': 4376, '복숭아': 4377, '산딸기': 4378, '문신': 4379, '드러운': 4380, '모아서': 4381, '이어진': 4382, '갈래': 4383, '실력': 4384, '몇몇': 4385, '컴팩트': 4386, '끼워야': 4387, '병아리': 4388, '디지털': 4389, '캘리퍼스': 4390, '토요': 4391, '알록달록': 4392, '돌려야지': 4393, 'ㅕ어놔태눈': 4394, '튀밥': 4395, '씁쓸': 4396, '새워': 4397, '찌그려': 4398, '가영': 4399, '걍씀': 4400, '간절': 4401, '씻겼': 4402, '흔들거리': 4403, '번거로워': 4404, '듬성듬성': 4405, '분포': 4406, '퉁': 4407, '반디': 4408, '꺼야': 4409, '상관없': 4410, '번호판': 4411, '컨버스': 4412, '됏어요': 4413, '냉온': 4414, '보온병': 4415, '눕히': 4416, '세워서': 4417, '파인애플': 4418, '돕': 4419, 'ㅠㅝ': 4420, '죰뵵': 4421, 'ㅓㄴ': 4422, 'ㅗ뉴': 4423, 'ㅗㄴ': 4424, '슏ㄵㅁㅁ융ㄴㅋㅍㄴㅋㄿㄵㄷㅁㄱㅍㅇㅋㄴㅇㄸㄱㅍ': 4425, '잖아요': 4426, '점보': 4427, '혹': 4428, '시스루': 4429, '아웃백': 4430, '양껏': 4431, '괜찬네요': 4432, '어어어엉': 4433, '로러': 4434, '가져요': 4435, '셔요': 4436, '주인': 4437, '앞발': 4438, '발향': 4439, '멸치': 4440, '^_': 4441, '파워에이드': 4442, '섹션': 4443, '부숴': 4444, '비틀': 4445, '와트': 4446, '간접': 4447, '이제야': 4448, '의해': 4449, '찹쌀': 4450, '흑미': 4451, '기타': 4452, '괘': 4453, '닥터지': 4454, '채울': 4455, '나온다고': 4456, 'ㅠ롱스틱인데ㅠㅠ배송에': 4457, '펄펄': 4458, '조분': 4459, '~~~~~~~^^\"': 4460, '쉐이퍼': 4461, '샵': 4462, '닥터': 4463, 'ㅜ저희애기는잘안맞네요ㅜ': 4464, '아보카도': 4465, '덮밥': 4466, '은근히': 4467, '개당': 4468, '예약': 4469, '돌려받': 4470, 'ㅡㅁ': 4471, '난리나': 4472, '아선': 4473, '설': 4474, '흘러요': 4475, '아야죠': 4476, '내려올': 4477, '마리카': 4478, '락': 4479, '긁히': 4480, '모자랄': 4481, '흠잡': 4482, '특이': 4483, '매연': 4484, '들어와요': 4485, '서서': 4486, '어렸': 4487, '눈떨림': 4488, '덜해졌': 4489, '카시트': 4490, '찾아볼': 4491, '디피': 4492, '욬ㅋ': 4493, '꺼져서': 4494, '초고속': 4495, '향료': 4496, '❤': 4497, '시원시원': 4498, '리무': 4499, '탁월': 4500, '창피': 4501, '오래오래': 4502, '반듯': 4503, '깨이': 4504, '쓰래': 4505, '직진': 4506, '헷갈릴': 4507, '머릿속': 4508, '가려움': 4509, '값어치': 4510, 'ㅜㄴ': 4511, '190': 4512, '브이': 4513, '차바퀴': 4514, '깔린': 4515, '묻혀': 4516, '야광': 4517, '봉돌': 4518, '천정': 4519, 'ㅜㅜ참고민입니다': 4520, '가로길이': 4521, '여야': 4522, '뒤집힐': 4523, '동그랗': 4524, '완충': 4525, '꺼져': 4526, 'ᆢ껌두괜찮아요ᆢᆢ전두번째구입입니다': 4527, '다를까': 4528, '건들건들': 4529, '건들': 4530, '125': 4531, '꽂히': 4532, '미끄러짐': 4533, '들뜸': 4534, '덜컹거리': 4535, '찍혀': 4536, '거슬려': 4537, '거르': 4538, '버려요': 4539, '레이스': 4540, '이루어진': 4541, '벌떡벌떡': 4542, '채워도': 4543, '쉴': 4544, '움직여서': 4545, '~^^;;': 4546, '귤': 4547, '쓰러짐': 4548, '사이사이': 4549, '타이트한': 4550, '배란': 4551, '1200': 4552, '쫘악': 4553, '우뚝': 4554, '세워': 4555, '캡슐': 4556, '그곳': 4557, '흘러내려': 4558, '청정': 4559, '세기': 4560, '강할': 4561, '숙': 4562, '탈탈': 4563, '정화': 4564, '요금': 4565, '나간다고': 4566, '보낼': 4567, '보드라움': 4568, '화이트로': 4569, '누런빛': 4570, '부딪히': 4571, '앰': 4572, '찢어질': 4573, '성품': 4574, '참조': 4575, '꼬맹이': 4576, '쩔': 4577, '만진': 4578, '지네': 4579, '씨감자': 4580, '직전': 4581, '부스러진': 4582, '라네요': 4583, '단추': 4584, '모니터': 4585, '기름지': 4586, '기름짐': 4587, '얼룩지': 4588, '온열': 4589, '찜질': 4590, '유아': 4591, '거뜬히': 4592, '놔두': 4593, '빵꾸': 4594, '따당': 4595, '고추기름': 4596, '리빙': 4597, '가열': 4598, '다고요': 4599, '선인장': 4600, '창문': 4601, '마녀': 4602, '맿': 4603, '문지르': 4604, '노란색': 4605, '잘라져': 4606, '어쨋든': 4607, '킷': 4608, '험': 4609, '오만상': 4610, '화생방': 4611, '배탈': 4612, '타민': 4613, '귀퉁이': 4614, '움직임': 4615, '포한': 4616, '물거품': 4617, '공주': 4618, '세탁소': 4619, '떠나': 4620, '변해요': 4621, '선도': 4622, '화장지': 4623, '램': 4624, '지하': 4625, '시야': 4626, '머리숱': 4627, '감싸': 4628, 'ㅡㅡ듬성듬성': 4629, '콤팩트': 4630, '표지': 4631, '바랬': 4632, '둡': 4633, '긋': 4634, '이갈이': 4635, '하락': 4636, '색다른': 4637, 'ㅇ샀을때는': 4638, '레버': 4639, '내성': 4640, '절삭력': 4641, '흔': 4642, '설계': 4643, '가져다': 4644, '으셨어요': 4645, '~~!!': 4646, '붙여서': 4647, '할거': 4648, '왕란': 4649, '코난': 4650, '~~~~~~': 4651, '우러나': 4652, '멱국': 4653, '숟갈': 4654, '뺀다고': 4655, '뷰러': 4656, '사서': 4657, '꼬맸': 4658, '찐득이': 4659, '사사': 4660, '가랑이': 4661, '그랜저': 4662, 'hg': 4663, '계란찜': 4664, '찌게': 4665, '기편': 4666, '주차': 4667, '발진': 4668, '골프': 4669, '조끼': 4670, '앏아서': 4671, '담양': 4672, '농협': 4673, '차분': 4674, '쓰리': 4675, '로켓': 4676, '미묘': 4677, '그물망': 4678, '장력': 4679, '물망': 4680, '장비': 4681, '송송': 4682, '245': 4683, '39': 4684, '작지': 4685, '데이브레이크': 4686, '..??': 4687, '차여서': 4688, '마십니다': 4689, '미끄러질': 4690, '판단': 4691, '비등': 4692, '나무판': 4693, '흐릿': 4694, '드려도': 4695, '..^^': 4696, '틈': 4697, '현관': 4698, '전실': 4699, '깃털': 4700, '만일': 4701, '깆': 4702, 'ㅆㄱ': 4703, '싲싲': 4704, '시시시': 4705, '힛': 4706, '히히히': 4707, '힞싲시히ㅡㅅㄱㅅㄷㅂㄱㅅㄷㅂㄱㅅㄷ싯ㄷㅎㄱ': 4708, '정리함': 4709, '전선': 4710, '햐얀': 4711, '웃자람': 4712, '수류탄': 4713, '크리스탈': 4714, '밤새': 4715, '통증': 4716, '콧물': 4717, '내려도': 4718, '펜슬': 4719, '뇽': 4720, '젱': 4721, '제홍': 4722, 'ㅏㅎ요': 4723, '차양': 4724, '반복': 4725, '몰캉몰캉': 4726, '용통': 4727, '֊': 4728, 'ㅓ로러라ㅏ치ㅐ닠노료ㅗ런': 4729, '시킬려구': 4730, '마미': 4731, '포코': 4732, '리프': 4733, '닉': 4734, '표백': 4735, '소변보': 4736, '분력': 4737, '콜라': 4738, '텍스': 4739, '중학': 4740, '하하하': 4741, 'ㅓ라하ㅐ티ㅡ저ㅛ노노ㅜ터': 4742, '궁': 4743, '휴대폰': 4744, '대임': 4745, '긁힌다': 4746, '백수': 4747, '하곤': 4748, '고나서': 4749, '바스락': 4750, '누웠': 4751, '섭': 4752, '취량': 4753, '젠장': 4754, '내탓이': 4755, '누굴': 4756, '리오': 4757, '배소': 4758, '약함': 4759, '처박': 4760, '그럴까요': 4761, '직부등': 4762, '부서진': 4763, '학실': 4764, '유쾌': 4765, '겅이': 4766, '젛은데': 4767, '수꽃': 4768, '커팅': 4769, '안경다리': 4770, '업데이트': 4771, '명확히': 4772, '십사': 4773, '간혹': 4774, '즐기': 4775, '소문': 4776, '자자': 4777, '옆쪽': 4778, '써야지': 4779, '부재': 4780, '대략': 4781, '로밍': 4782, '쿨톤': 4783, '다홍색': 4784, '늠': 4785, '옻칠': 4786, '공지': 4787, '아퍼': 4788, '부심': 4789, '드라이클리닝': 4790, '뱃': 4791, 'ㅇ도': 4792, '롤러': 4793, '지워져서': 4794, '따': 4795, '싱거운': 4796, '인데다': 4797, '트랩': 4798, '귖ㅎㅊ니': 4799, '\\U0001f90d\\U0001f90d\\U0001f90d': 4800, 'ㅓㅓㅓ절저요': 4801, '응가': 4802, '데크': 4803, '크랙': 4804, '작성': 4805, '등급': 4806, '....!!': 4807, '도고': 4808, '의료기': 4809, '중학생': 4810, '아저씨': 4811, '…': 4812, '역활': 4813, '일석이조': 4814, 'ㅠ그래도편하고좋아요ㅎㅎ': 4815, '유무': 4816, '땡겨': 4817, '됫는데': 4818, '샤워기': 4819, '꽂이': 4820, '후비': 4821, '내시경': 4822, '귀속': 4823, '보류': 4824, '진행': 4825, '밑단': 4826, '도무지': 4827, '도금': 4828, '까졌': 4829, '사유': 4830, '절정': 4831, '신권': 4832, '지폐': 4833, '웃음': 4834, '줫는데': 4835, '하규': 4836, '속치마': 4837, '더움': 4838, '파마': 4839, '호평': 4840, '헷갈림': 4841, '됌': 4842, '개인차': 4843, '불사': 4844, '쌤': 4845, '날라다니': 4846, '깨끗이': 4847, '단연': 4848, '망가짐': 4849, '벗길': 4850, '생겨요': 4851, '뫽이': 4852, '수미': 4853, '분하': 4854, '맘놓': 4855, '거려': 4856, '우체국': 4857, '카운터': 4858, '쁜ㅅㅏㅇ품': 4859, '연휴': 4860, '질겨서': 4861, '손톱자국': 4862, '뛰': 4863, '여주환': 4864, '으뜸': 4865, '헐겁': 4866, '채워진': 4867, '방학': 4868, '먹였': 4869, '영가': 4870, '수도': 4871, '몆일': 4872, '식후': 4873, '이즈라': 4874, '평용': 4875, '굿바이': 4876, '새꼬막': 4877, '샌': 4878, '촘촘': 4879, '칫솔질': 4880, '오물오물': 4881, '간지러운': 4882, '단독': 4883, '꺼려': 4884, '꼬박꼬박': 4885, '스터': 4886, '~^^;': 4887, '옐로우': 4888, '예쁨': 4889, '도가니': 4890, '..(': 4891, '나무질': 4892, '다듬': 4893, '청국장': 4894, '웁': 4895, '찌개': 4896, '발끝': 4897, '퀸': 4898, '미라쥬': 4899, '나서': 4900, '칭찬': 4901, '쫙': 4902, '괴롭히': 4903, '야하': 4904, '파란': 4905, '출하': 4906, '측면': 4907, '망가질': 4908, '간격': 4909, '나뉘': 4910, '위성': 4911, '푸른색': 4912, '뽀득': 4913, '온데': 4914, '창열': 4915, '이젠': 4916, '시킴': 4917, '지켜봐야': 4918, '미미': 4919, '틀리': 4920, '죠리퐁': 4921, '프라페': 4922, '상상력': 4923, '배드민턴': 4924, '용품': 4925, '퀄이': 4926, '톨': 4927, '예식': 4928, '팀': 4929, '겹치': 4930, '로비': 4931, '출입구': 4932, '시든': 4933, '후쿠에': 4934, '정제': 4935, '원당': 4936, '통단': 4937, '물탄': 4938, '.+': 4939, '무거움': 4940, 'ㅡㅂ짖ㅂㄱㅈ': 4941, '일부분': 4942, '숨겨서': 4943, '해놨': 4944, '팔목': 4945, '지탱': 4946, '숄더': 4947, '총장': 4948, '마개': 4949, '마셔': 4950, '콘': 4951, '괜찬': 4952, '모유': 4953, '수유': 4954, '뿝니댜앙': 4955, '날려': 4956, '늡간식거리': 4957, '드라마틱': 4958, '뒤축': 4959, '갈라': 4960, '저따위': 4961, '저딴': 4962, '셨을까': 4963, '원망': 4964, '올립니다': 4965, '인되': 4966, '텅텅': 4967, '질소': 4968, '채우': 4969, '끌어당기': 4970, 'ㅡㅡㅋ': 4971, '부서지': 4972, '테입': 4973, '상쾌': 4974, '시린': 4975, 'new': 4976, '관용': 4977, '대폭': 4978, '이진': 4979, '시타': 4980, '..........': 4981, '뭄': 4982, '비드': 4983, '오리목': 4984, '젓가락': 4985, '퇴치': 4986, '메뉴': 4987, '나간': 4988, '♡^^': 4989, '분류': 4990, '하얀색': 4991, '폴더': 4992, '헤링본': 4993, '바꿀': 4994, '스러움': 4995, '밥솥': 4996, '주전자': 4997, '단순': 4998, '극찬': 4999, '안타깝': 5000, '소송': 5001, '재실': 5002, '함다': 5003, '대짜': 5004, '다이노': 5005, '탐험대': 5006, '변신': 5007, '로봇': 5008, '공양': 5009, '럴해요': 5010, '~.': 5011, '글씨체': 5012, '둔': 5013, '귀여워서': 5014, '우연히': 5015, '겉돌': 5016, '쌓았': 5017, '데리': 5018, '부속': 5019, '노폐물': 5020, '구이': 5021, '일어난': 5022, '돌려': 5023, '닭다리': 5024, '오븐': 5025, '바사삭': 5026, '주먹': 5027, '염마': 5028, '할런지': 5029, '멜빵': 5030, '볼땐': 5031, '편히': 5032, '유의': 5033, '뎅': 5034, '원활': 5035, '뺍니다': 5036, '은미': 5037, '익일': 5038, '농약': 5039, '봉동': 5040, '오현명': 5041, '차원': 5042, '트리거': 5043, '못사': 5044, '미숙': 5045, '종아리': 5046, '뒀었': 5047, '말라': 5048, '구부리': 5049, '습하': 5050, '수남': 5051, '엉': 5052, '흑흑흑': 5053, '탁상': 5054, '어둠': 5055, '들어야': 5056, '블릿': 5057, 'ㅠ본드가': 5058, '라오': 5059, '난다고': 5060, '밟': 5061, '올라서': 5062, '777': 5063, '픈': 5064, '졸': 5065, '폈': 5066, '일반용': 5067, '놨어야': 5068, '울딸': 5069, '좋아': 5070, '둿다': 5071, '산다': 5072, '그지': 5073, '드라이': 5074, '이겨서': 5075, '빗꽂이': 5076, '태어났': 5077, '정장': 5078, '☺': 5079, '️': 5080, '차례': 5081, '순식간': 5082, '훅훅': 5083, '넘어가': 5084, '연인': 5085, '애영': 5086, '고사': 5087, '얐': 5088, 'ㅠㅡㅠ': 5089, '상대방': 5090, '들린': 5091, '삼성': 5092, '사셨': 5093, '개망신': 5094, '될까요': 5095, '~?': 5096, '프루프': 5097, '클렌': 5098, '라이너': 5099, '브로우': 5100, '아쉬워서': 5101, '미경': 5102, 'ㅠ테이프': 5103, '제하': 5104, '셔도': 5105, '자주자주': 5106, '쓰임': 5107, '영양가': 5108, '의한': 5109, '큐라소': 5110, '겼는데': 5111, '메시': 5112, '화상': 5113, '걸루': 5114, '바이엘': 5115, '생리': 5116, '증후군': 5117, '조년': 5118, '2018': 5119, '스탠': 5120, '너덜거리': 5121, '할깝쇼': 5122, '십쇼': 5123, '편한데': 5124, '실은': 5125, '세련되': 5126, '악기': 5127, '사력': 5128, '~~~~~~~~~~~~~~~~~~~~~~~~~': 5129, '반류': 5130, '시골': 5131, '도합': 5132, '벨벳': 5133, '걸어도': 5134, '한대': 5135, '그라인더': 5136, '전골': 5137, '둥둥': 5138, '떠다니': 5139, '소개': 5140, '땡기': 5141, '잡아당겨도': 5142, '미온수': 5143, '코브라': 5144, '휨': 5145, '볼려구요': 5146, '경로': 5147, '잛아요': 5148, '먹여요': 5149, '운동화': 5150, '안전화': 5151, '콯요': 5152, '초당': 5153, '옥수수': 5154, '오금': 5155, '뒹굴': 5156, '옮겨': 5157, '가려운': 5158, '..~~~~~~': 5159, '최종': 5160, '과실': 5161, '맞교환': 5162, '노래': 5163, '특별히': 5164, 'ㅓㅁ은콩함유도': 5165, '콩두': 5166, '유라': 5167, '끄러': 5168, '응원': 5169, '여어': 5170, '으레': 5171, '번갈': 5172, '땨문': 5173, '간당': 5174, '^)': 5175, '써놨': 5176, '탱글탱글': 5177, '주입': 5178, '만드신': 5179, '편할라고': 5180, '죙일': 5181, '낀': 5182, '내린다고': 5183, '찾아다녔': 5184, '86': 5185, '타도': 5186, '아까워하': 5187, '파크': 5188, '정말로': 5189, '착각': 5190, '저기': 5191, '인건': 5192, '소페': 5193, '기성': 5194, '다니요': 5195, '의도': 5196, 'ㅇ사임': 5197, '소통': 5198, '누울': 5199, '죽이': 5200, 'ㅗ차갷ㅆ습니다': 5201, '셔링': 5202, '잡혀': 5203, '인수': 5204, '야방': 5205, '구야': 5206, '63': 5207, '까봐': 5208, '해놨으니': 5209, '는게': 5210, '새로운': 5211, '180': 5212, '하심': 5213, 'ㅡㅋㅋ': 5214, '..,': 5215, '카키': 5216, '182': 5217, '스러웠': 5218, '완제품': 5219, '덜렁덜렁': 5220, '거립니다': 5221, 'ㅇㄴㄻㄴㅇㄻㄴㅇㄻㄴㅇㄹ': 5222, 'ㅇㄻ': 5223, 'ㅓ리': 5224, 'ㅏㅓ': 5225, 'ㅇ머': 5226, 'ㄻ': 5227, '나어리': 5228, 'ㅏㅁㄴ어란ㅁ어피ㅏㅓㄴㅇ탚ㅋㅌ치ㅏㅍㅁㄻㄴㅇㄹㅊ': 5229, '주둥': 5230, '사락사락': 5231, '파닥파닥': 5232, '욕심나': 5233, '프레임': 5234, '삐걱거리': 5235, '삐걱삐걱': 5236, '뭔지': 5237, '부지런히': 5238, 'ㅐ': 5239, '닌깐': 5240, '양치한': 5241, '입안': 5242, '쵝오에요': 5243, '접이식': 5244, '미관상': 5245, '닦여서': 5246, '끗': 5247, '창': 5248, '알로하': 5249, '타제품': 5250, '조항': 5251, '투야': 5252, '메러': 5253, '약병': 5254, '덩치': 5255, '산만': 5256, '기계': 5257, '감지': 5258, '주문품': 5259, '산도': 5260, '인공': 5261, '거북': 5262, '안녕': 5263, '으나마나': 5264, '스트로베리': 5265, 'cd': 5266, '메일': 5267, 'ㅜㅜ그래도': 5268, '모시': 5269, '대두': 5270, '뉴트': 5271, '거시': 5272, '기허': 5273, '네코': 5274, '배운다면': 5275, '합사': 5276, '뜻': 5277, '맥': 5278, '시국': 5279, '내리쳐야': 5280, 'ㄲㅈ': 5281, '움직일': 5282, '뒤틀려': 5283, '잔득': 5284, '전액': 5285, '나진': 5286, '뻐오ㅡ': 5287, '변동': 5288, 'x': 5289, '끼움': 5290, '패딩': 5291, '부츠': 5292, '대칭': 5293, '손세탁': 5294, '가계': 5295, '나나': 5296, '콜': 5297, 'ㅍㄷㅇㅇㄴ읔ㅈㅇㅎ': 5298, 'ㅍㄹ': 5299, 'ㅇㄹ': 5300, 'ㅍㅎ': 5301, 'ㅇㄹㅋㅌㅈㅋㅎㅇㄹㄷㅋㅎㅍㄹㄹㅁㄷㅅㅎㅇㄹㅁㄹㅅㄷ': 5302, '장어': 5303, '엥': 5304, '쳐도': 5305, '얼룩져': 5306, '우겨': 5307, '맞겨': 5308, '낑낑대': 5309, '옮겼': 5310, '오바': 5311, '음량': 5312, '증폭': 5313, '이내': 5314, '187': 5315, '~~~~~': 5316, '느껴요': 5317, '으앙': 5318, '날라': 5319, '달수': 5320, '오리': 5321, '빠개': 5322, '노출': 5323, '채소': 5324, '시들시들': 5325, '자신감': 5326, '분홍': 5327, '물그릇': 5328, '바꾼': 5329, '2017': 5330, '어르신': 5331, '쓴지': 5332, '마이크': 5333, '한가요': 5334, '기여': 5335, '비숑': 5336, '14900': 5337, '열받': 5338, '어째': 5339, '유투': 5340, '끄트머리': 5341, '줫음': 5342, '4000': 5343, '주광색': 5344, '미지': 5345, '말려서': 5346, '통함': 5347, '가까워': 5348, '구명조끼': 5349, '비발디': 5350, '가까우': 5351, '몬': 5352, '센카': 5353, '입금': 5354, '전말': 5355, '예스': 5356, '느껴져요': 5357, '려는': 5358, '빈틈없이': 5359, '골고루': 5360, '자투리': 5361, '부문': 5362, '모셔': 5363, '됫습니다': 5364, '나아': 5365, '느루': 5366, 'ㅡ나트느트트': 5367, '웃겨요': 5368, '밀림': 5369, '수명': 5370, '누차': 5371, '시려우면': 5372, '발쪽': 5373, '워치': 5374, '등산': 5375, '미용실': 5376, '우두': 5377, '일찍': 5378, '인해': 5379, '쓰였': 5380, '내복': 5381, '빚': 5382, '어두워서': 5383, '몰토': 5384, '스텔라': 5385, '수신기': 5386, '빌려': 5387, '아중': 5388, '좃': 5389, 'ㆍ오ㅡ아주조아': 5390, '정작': 5391, '감당': 5392, '요걸': 5393, '폭식': 5394, '살살': 5395, '모카': 5396, '커피믹스': 5397, '각오': 5398, 'ㅠ심': 5399, '한약': 5400, '어향': 5401, '송사': 5402, '지낼': 5403, '합니더': 5404, '오용': 5405, '분리수거': 5406, '진리': 5407, '낑': 5408, '샥': 5409, '다는데': 5410, '지만은': 5411, '피부과': 5412, '탈색': 5413, '말썽': 5414, '여며': 5415, '소모': 5416, '설선': 5417, '그러저럭': 5418, '씻기': 5419, '가운제': 5420, '덛': 5421, '대놓': 5422, '써진': 5423, '끝물': 5424, '이래': 5425, '아마': 5426, '욬다움에': 5427, '조미': 5428, '쭈꾸미입이': 5429, '까져': 5430, 'ㅠㅠ귀': 5431, '소독': 5432, '갖춰져': 5433, '을려는': 5434, '부러졌으니': 5435, '겁나게': 5436, '뇨': 5437, '금색': 5438, '놨': 5439, '사각거리': 5440, '윗면': 5441, 'w': 5442, '졋어요': 5443, '가랑': 5444, '반통': 5445, '항아리': 5446, '특사': 5447, '중대': 5448, '비빔': 5449, '양치': 5450, '견사': 5451, 'ㅇㄻ앎': 5452, '광색': 5453, '틈새': 5454, '박혀서': 5455, '화나': 5456, '탁': 5457, 'ㅜㅜ자음': 5458, '한글': 5459, '맞춤법': 5460, '가림': 5461, '스위치': 5462, '걍스폰지': 5463, '착면': 5464, '가방끈': 5465, '걍쓰겠음': 5466, '찌끄러진': 5467, '마릿': 5468, '스중': 5469, '옥상': 5470, '그렇지만': 5471, '모라': 5472, '어야죠': 5473, '큐빅': 5474, '진해서': 5475, '레모': 5476, '갈일': 5477, '가림막': 5478, '칼갈이': 5479, '할까봐요': 5480, '가가': 5481, '상동': 5482, '구부려': 5483, '펴지': 5484, '세범': 5485, '미백': 5486, '고장난': 5487, '뱌성은': 5488, '빠른데': 5489, '존나': 5490, '녕': 5491, '땡땡': 5492, '26000': 5493, '커도': 5494, '놀람': 5495, '참외': 5496, '꿀맛': 5497, '갈증': 5498, '음료': 5499, '박아': 5500, '쒸': 5501, '레기': 5502, '미끄러져서': 5503, '등갓': 5504, '럼': 5505, '조립법': 5506, '하네': 5507, '고무줄': 5508, '반바지': 5509, '학년': 5510, '맞춤': 5511, '황성주': 5512, '검은콩': 5513, '돋': 5514, '보리차': 5515, '가빠': 5516, '보르': 5517, '미러': 5518, '비행': 5519, '..!': 5520, '깔대': 5521, '유닉스': 5522, '블로그': 5523, '뽑혀': 5524, '바리': 5525, '깡': 5526, '공개': 5527, '처형': 5528, '찔려서': 5529, '피나': 5530, '따구': 5531, '이엄': 5532, '책받침': 5533, '받치': 5534, 'pp': 5535, '철재': 5536, '자유자': 5537, '니즘': 5538, '올리고당': 5539, '여건': 5540, '제대': 5541, '가져갔': 5542, '군대': 5543, '간편히': 5544, '전쟁': 5545, '베이비': 5546, '할까봐': 5547, '둬야': 5548, '미관': 5549, '도조': 5550, '낙낙': 5551, '여리여리': 5552, '이쁠': 5553, '얼큰': 5554, '조용': 5555, '한잔': 5556, '제봉': 5557, 'usb': 5558, '제한': 5559, '깍이': 5560, '아영': 5561, '신호': 5562, '퉁명': 5563, '이야기': 5564, '나뿌': 5565, '어지간': 5566, '더러': 5567, '쓸께': 5568, '수록': 5569, '봣은데': 5570, '얼린': 5571, 'ㅓ츄ㅡ튴ㅊ': 5572, '색각': 5573, '솟아오르': 5574, '스킨케어': 5575, '러버': 5576, '구질': 5577, '붙혀': 5578, '연': 5579, '미끌': 5580, '했어여': 5581, '누들': 5582, '오염물': 5583, '펼칠': 5584, '결론': 5585, '네버': 5586, '왕': 5587, '오프너': 5588, '속하': 5589, 'ㅠ났어요': 5590, '빈티지': 5591, '쓴다면': 5592, '밀릴': 5593, '믄': 5594, '는다는데': 5595, '대단': 5596, '달렸': 5597, '차잔': 5598, '케어': 5599, '넘어지': 5600, '아치': 5601, '엄지발가락': 5602, '옷감': 5603, '좋이': 5604, '물새': 5605, '오렌지': 5606, '촤르르': 5607, '지관': 5608, '통이': 5609, '포스터': 5610, '할래요': 5611, '화환': 5612, '괜차는듯': 5613, '이딴': 5614, '모나미': 5615, '볼펜': 5616, '153': 5617, 'zeta': 5618, '빨강': 5619, '겹쳐서': 5620, '빈': 5621, '그란디': 5622, '내심': 5623, '35000': 5624, '70000': 5625, '배면': 5626, '어의': 5627, '깽이': 5628, '성묘': 5629, '알로에': 5630, '봐온': 5631, '안지': 5632, '186': 5633, '헌': 5634, '>_': 5635, '동서': 5636, '2000': 5637, '쓸데없': 5638, '더킹': 5639, '97': 5640, '98': 5641, '캐딜락': 5642, '바꿔서': 5643, '쓸데없이': 5644, '조앙': 5645, '특가': 5646, 'ㅏㄱ안뜯어봄': 5647, '44000': 5648, '어우': 5649, '별러': 5650, '이가': 5651, '엎어지': 5652, '장벽': 5653, '주지': 5654, '우려': 5655, '간지러워서': 5656, '가져오': 5657, '사야': 5658, '쓸까요': 5659, '더러워져서': 5660, '아까울': 5661, '솔가': 5662, '철분': 5663, '굣ㅅ': 5664, '팡이': 5665, '믹': 5666, '서기': 5667, '유럽종': 5668, '라니까': 5669, '물바다': 5670, '쵝': 5671, '기획': 5672, '일본어': 5673, '묘': 5674, '실속': 5675, '참다랑어': 5676, '회칼': 5677, '썰': 5678, '스키': 5679, '간식거리': 5680, '뚝': 5681, '헤드라이트': 5682, '복원': 5683, '고영희': 5684, '끊임없이': 5685, '키로로': 5686, '건반': 5687, '쟁': 5688, '하체': 5689, '누런': 5690, '스러': 5691, '욘': 5692, '코베아': 5693, '불판': 5694, '탐': 5695, '잃어버렸': 5696, '일어서': 5697, '만조': 5698, '슉': 5699, '쭈그렁': 5700, '풍선': 5701, '갱년기': 5702, '넘김': 5703, '레트나': 5704, '쉬크': 5705, '졸업': 5706, '입학': 5707, '앙고': 5708, '라라': 5709, '네영': 5710, '씨앗': 5711, '종자': 5712, '기아': 5713, '싑네요': 5714, '박막': 5715, '마비': 5716, '스니': 5717, '비비': 5718, '커지': 5719, 'ㅡ맛이': 5720, '복': 5721, '찹니다': 5722, '손상': 5723, '손등': 5724, '민트': 5725, '필링': 5726, '넘어서': 5727, '호두': 5728, '편수': 5729, '바꿀려고': 5730, '가만히': 5731, '버려도': 5732, '죄다': 5733, '쪽발': 5734, '시킬지': 5735, '란다': 5736, '하지': 5737, '져버렸': 5738, 'ᆢ다': 5739, '신다': 5740, '지키': 5741, '어버이날': 5742, '안산': 5743, '부르르': 5744, '떤다고': 5745, '중국어': 5746, '시러': 5747, '친절히': 5748, '응해': 5749, '블루투스': 5750, '정지': 5751, '조작': 5752, '느니만': 5753, '오작동': 5754, '신푸': 5755, '날카로워': 5756, '흔들흔들': 5757, '까말까': 5758, '글렌': 5759, '캐런': 5760, '시음': 5761, '디스크': 5762, '누를': 5763, '사선': 5764, '늘어지': 5765, '감탄': 5766, '시력': 5767, '고도': 5768, '무거울': 5769, '쇼핑': 5770, '유튜브': 5771, '지겨워서': 5772, 'xs': 5773, '세면대': 5774, 'ㅜㅜㅜ믹싱볼': 5775, '주제': 5776, '거금': 5777, '알레르기': 5778, '담수': 5779, '금이': 5780, '~♡': 5781, '보증서': 5782, '뻣': 5783, '삇해요': 5784, '기다': 5785, '메마름': 5786, '따라가': 5787, '역쉬': 5788, '놓이': 5789, '흑': 5790, '%,': 5791, '온전': 5792, '쓴다': 5793, '푹신푹신': 5794, '두말': 5795, '례': 5796, '뽑히': 5797, '상장': 5798, 'ᆞ드': 5799, '촣아요': 5800, '신생': 5801, '리원': 5802, '버거워': 5803, '65': 5804, '푸짐': 5805, '보내왔': 5806, '구겨진': 5807, '해봄': 5808, '헛웃음': 5809, '👍🏻': 5810, 'ᆞ넘': 5811, 'ᆞ변질됨': 5812, 'ᆞ너무': 5813, 'ᆞ변질되어': 5814, '판치': 5815, '모습': 5816, '진실': 5817, '법': 5818, '속임수': 5819, '스티로폴': 5820, '도구': 5821, '줄어든': 5822, '래나': 5823, '옹이': 5824, '서류': 5825, '세련': 5826, '카레': 5827, '골든': 5828, '커리': 5829, '돋보이': 5830, '문외한': 5831, '빵빵': 5832, '뜯긴': 5833, '코너': 5834, '일회용품': 5835, '반영구': 5836, '그러므로': 5837, '구우면': 5838, '퍼센트': 5839, '키친': 5840, '아트': 5841, '썼었': 5842, '서울': 5843, '활짝': 5844, '대구': 5845, '차질': 5846, '총각': 5847, '눌러야': 5848, '슈즈': 5849, '옵': 5850, '닏다': 5851, '양도': 5852, '장수풍뎅이': 5853, '풍뎅이': 5854, '미안': 5855, '빗겨': 5856, '나머진': 5857, '판매처': 5858, '편사': 5859, '하미': 5860, '당혹': 5861, '드려': 5862, '드시': 5863, '추운': 5864, '젛아요': 5865, '젛으여': 5866, '무도': 5867, '맹': 5868, '바란스': 5869, '으려나': 5870, '구먼': 5871, '헤라': 5872, '기부': 5873, '반성': 5874, '오소리': 5875, '족제비': 5876, '네스프레소': 5877, '붙여져서': 5878, '전환': 5879, '달아보': 5880, '지질': 5881, '폭발': 5882, '뽑혔': 5883, '자칫': 5884, '날릴': 5885, '말아': 5886, '칼로리': 5887, '내열': 5888, '족': 5889, '걸기': 5890, '콕': 5891, '사라지': 5892, '곪': 5893, '가라앉': 5894, '🤔': 5895, '문지름': 5896, '배수통': 5897, '칙칙': 5898, '정성껏': 5899, '애착': 5900, '느껴졌': 5901, '인조': 5902, '수월': 5903, '윘네요': 5904, '산란': 5905, '시스템': 5906, '얌': 5907, 'ㅠㅠㅔ': 5908, '담날': 5909, '피부색': 5910, '구하': 5911, '베드': 5912, '포징': 5913, '사라짐': 5914, '태운': 5915, '시커먼': 5916, '하필': 5917, '곶감': 5918, '뻐용ㄱ고맚ㄷㅂ니당': 5919, '셜': 5920, '봣더네요': 5921, '급사': 5922, '준다니': 5923, '송료': 5924, '아퍼요': 5925, '상관없이': 5926, '슴당': 5927, '코디': 5928, '흐음': 5929, '05': 5930, '두꺼우': 5931, '세우': 5932, '든지': 5933, '핮니다': 5934, '지옥': 5935, '노력': 5936, '그릴': 5937, '롯': 5938, '대도': 5939, '작살': 5940, '쓸려구': 5941, '쓴다는': 5942, '납품': 5943, '환심': 5944, '커녕': 5945, '갈려': 5946, '쌍수': 5947, '피멍': 5948, '수시로': 5949, '무서': 5950, '협': 5951, '탁이': 5952, '롤러스케이트': 5953, '드러': 5954, '돌아갑니다': 5955, '평생': 5956, '무용지물': 5957, '소소': 5958, '플러스': 5959, '초록색': 5960, '진다는': 5961, '스우시': 5962, '매끈': 5963, '환절기': 5964, '스프레이': 5965, '뜨끈뜨끈': 5966, '중독': 5967, '삐': 5968, '표': 5969, '삐져': 5970, '돌아다녀': 5971, '올랐': 5972, '얋아서': 5973, '콧발랏어요': 5974, '하얘': 5975, '여행지': 5976, '랬는': 5977, '깅호일로': 5978, '무서울': 5979, '사다리차': 5980, '옆면': 5981, '셀카': 5982, '그럴까': 5983, 'uv': 5984, '경화': 5985, '조짐': 5986, '후지': 5987, '땡길': 5988, '망가': 5989, '지내': 5990, '와중': 5991, '올라감': 5992, '물아': 5993, '아셨': 5994, '연동': 5995, '쏠리': 5996, '발류': 5997, '햐': 5998, '젛으네용': 5999, '유난히': 6000, '뒤늦': 6001, '등원': 6002, '추워서': 6003, '보냅니다': 6004, '입고': 6005, '긴목': 6006, '쁘고': 6007, '만난': 6008, '찐빵': 6009, '트릴': 6010, '겹쳐야': 6011, '인상': 6012, '김포': 6013, '티켓': 6014, '해서요': 6015, '칙': 6016, '보담': 6017, '분모': 6018, '국자': 6019, '달려서': 6020, '어벙': 6021, '2004': 6022, 'ns': 6023, 'r': 6024, '바나나': 6025, '반짝거리': 6026, '예쁠': 6027, '탄산수': 6028, '덤': 6029, '도중': 6030, '흔들려서': 6031, '듀': 6032, '야지': 6033, '벗어나': 6034, '스트로': 6035, '페트': 6036, '감싼': 6037, '프렌치': 6038, '프레스': 6039, '부을': 6040, '검지': 6041, '와인': 6042, '잘려져': 6043, '시피': 6044, '탁스': 6045, '뚫린': 6046, '됫음': 6047, 'q': 6048, '&': 6049, '안다': 6050, '비면': 6051, '늘려': 6052, '맨살': 6053, '공수': 6054, '들려서': 6055, '지켜줄': 6056, '흥건': 6057, '파워': 6058, '접합부': 6059, '찾아보': 6060, '이라고': 6061, '코딱지': 6062, '릇': 6063, '나원': 6064, '..;;;': 6065, '찍히': 6066, '짤려': 6067, '처박혀': 6068, '센타': 6069, '코르셋': 6070, '은근': 6071, '수축': 6072, '여부': 6073, '진건': 6074, '섬유': 6075, '유연제': 6076, '렁': 6077, '49': 6078, '채워서': 6079, '쏟': 6080, '연필': 6081, '문구': 6082, '쇄': 6083, '반짝이': 6084, '냅': 6085, '날리': 6086, '둔지': 6087, '물러서': 6088, '몹시': 6089, '빠진다고': 6090, '목장': 6091, '어울립니다': 6092, 'ㅑㅎ': 6093, '팍': 6094, '림': 6095, '부자연': 6096, '댑니당': 6097, '안락': 6098, '[': 6099, '하림': 6100, '펫': 6101, ']': 6102, '그레인': 6103, '42': 6104, '눌려져': 6105, '이랬': 6106, '👎': 6107, '바디': 6108, '농수산': 6109, '테라스': 6110, '외출용': 6111, '요기': 6112, 'ㅜ배송받고': 6113, '놨다가': 6114, '함정': 6115, '조각난': 6116, '겉보리': 6117, '자마': 6118, '잪뚜껑떨어짐': 6119, '더라구여': 6120, 'ㅠㅠㅠ엉엉': 6121, '지전': 6122, '오랫동안': 6123, '트리': 6124, '비뚤어져': 6125, '쫄바지': 6126, '힌': 6127, '주관': 6128, '신나': 6129, '쑤': 6130, '적립금': 6131, '주어지': 6132, '선택지': 6133, '굴뚝': 6134, '행거': 6135, '더라구': 6136, '아낄': 6137, '송품': 6138, '충동': 6139, '괜찬은데': 6140, '대나': 6141, '무결': 6142, '문질러서': 6143, '눕': 6144, '느려': 6145, '증상': 6146, '졋다': 6147, '폐기': 6148, '처분': 6149, '졀': 6150, '닦인': 6151, '좁쌀': 6152, '머루': 6153, '포도즙': 6154, '누렇': 6155, '인하': 6156, '을려': 6157, '전채': 6158, '색인': 6159, '샏이었네요': 6160, '할걸': 6161, '목공소': 6162, '큰대': 6163, '라드': 6164, '리향': 6165, '상술': 6166, '나빠서': 6167, '메르': 6168, '일대': 6169, '왕발': 6170, 'ㅡㄱㄷ슨독디ㅡㄱㄷ': 6171, '적용': 6172, '차감': 6173, '엉켜서': 6174, '말캉': 6175, 'u': 6176, '자형': 6177, '룬': 6178, '보드랍': 6179, '건더기': 6180, 'ㅇ린': 6181, 'ㅏㄴ머ㅏ리낭러ㅣㄴ어린멀이ㅓㄴ미ㅏㄹㄴㅇ랑ㄹ': 6182, '약산성': 6183, '과대': 6184, '발소리': 6185, '저급': 6186, '석고': 6187, '기루': 6188, '보너스': 6189, '^^.': 6190, '광피': 6191, '헤봤': 6192, '이태리': 6193, '유로': 6194, '줬었': 6195, '피드백': 6196, '쫀득': 6197, '어울어지': 6198, '허브티': 6199, '포개': 6200, '임신': 6201, '비너스': 6202, '거뭇거뭇': 6203, '영화': 6204, '.!!': 6205, '못허': 6206, '분기': 6207, '됩ㄴㅣ다': 6208, '그치만': 6209, '워낙에': 6210, '독한': 6211, '치료': 6212, '간지럼': 6213, '거려서': 6214, '놀라': 6215, '입문': 6216, '폭풍': 6217, '시급': 6218, '^^~~': 6219, '여태껏': 6220, '키토': 6221, '룸': 6222, '이불장': 6223, '그램': 6224, '에다가': 6225, '더더욱': 6226, '드셔': 6227, '초무침': 6228, '도라지': 6229, '무침': 6230, '탱탱': 6231, '수확': 6232, '곁들여': 6233, '수온': 6234, '어린': 6235, '데울': 6236, '목욕탕': 6237, '시설': 6238, '경계선': 6239, '끓일': 6240, '온통': 6241, '눈깔': 6242, '신가': 6243, '신답니다': 6244, '두루두루': 6245, '양옆': 6246, '세모': 6247, '끈적거림': 6248, '제게는': 6249, '하얘지': 6250, '켯는데': 6251, '담부': 6252, '턴': 6253, '감하': 6254, '증말': 6255, '대는': 6256, '말자': 6257, 'mlb': 6258, '헤어밴드': 6259, 'ㅠㅡ': 6260, '원인': 6261, '대나무': 6262, '칠해져': 6263, '누우': 6264, '로페': 6265, 'ㅐ대': 6266, '둳ㅍ개구걔': 6267, 'ㅜㅍ젇ㅍ다다ㅡ거ㅗㅎㅈㅍ덩': 6268, '다대': 6269, '쟆ㄷ': 6270, 'ㅍ다': 6271, 'ㅐ다아아퐆ㅆㅍ럐래아아아됴래다다ㅜ덛ㅍ개개다더': 6272, '흐느적거림': 6273, '낚이': 6274, '좋아해서': 6275, '매월': 6276, '보일': 6277, '밝은색': 6278, '도포': 6279, '는디': 6280, '아이싱': 6281, '휜': 6282, '긴가': 6283, '짚': 6284, '스테이플러': 6285, '꽂혀': 6286, '떫': 6287, '비호': 6288, '치즈': 6289, '촬': 6290, '줄어든다는': 6291, '비딱': 6292, '래빗': 6293, '팝업': 6294, '테팔': 6295, '고개': 6296, '뒷목': 6297, '바쳐': 6298, '시커매': 6299, '방향': 6300, '거꾸로': 6301, '됏고': 6302, '부호': 6303, 'china': 6304, '비들': 6305, '홈플러스': 6306, '둬': 6307, '어유': 6308, '누루': 6309, '진공': 6310, '올려요': 6311, '자동차': 6312, '뒤집혀서': 6313, '총알': 6314, '탄생석': 6315, '크런치': 6316, '싯': 6317, '회전': 6318, '득수': 6319, '깥이': 6320, '알려준': 6321, '~~^^*': 6322, '너트': 6323, '노이': 6324, '겉보기': 6325, '띁': 6326, '문방구': 6327, '비닐봉투': 6328, '더웠으면': 6329, 'ㅊ아요': 6330, '맨데': 6331, 'ㅊ습니다': 6332, '!!!!!!!!': 6333, 'ㅇㄴㄹ': 6334, '합시다': 6335, '단서': 6336, '반대쪽': 6337, '노즐': 6338, '스테인리스': 6339, '가늠': 6340, '눈금': 6341, '살립니다': 6342, '살펴': 6343, '나사선': 6344, '변했': 6345, '빅스': 6346, '탐나': 6347, '아끼': 6348, '뻔한데': 6349, '부니': 6350, '튀어나와': 6351, '장난치': 6352, '아이스박스': 6353, '탄대': 6354, '매요': 6355, '만만': 6356, '말기': 6357, '불러서': 6358, 'ㅠㅠ그래도': 6359, '240': 6360, '멍들': 6361, '신어': 6362, '잴': 6363, ',,': 6364, '굴러가': 6365, '덜컹거림': 6366, '소변': 6367, '가릴': 6368, '반전': 6369, '아닉': 6370, '뿌옇': 6371, '볼꺼': 6372, '스토어': 6373, 'pick': 6374, '현저': 6375, '아구': 6376, '삐뚤삐뚤': 6377, '뷸편합니다': 6378, '녹색': 6379, '밧데리': 6380, '안네': 6381, '마니라': 6382, 'ㅡ너뉴ㅡ트투뎌어뎌터더': 6383, 'ㅓ자ㅐ어오거로': 6384, 'ㅐ애쟤대오어도옫로러': 6385, '글로브': 6386, '직행': 6387, '발송전': 6388, '외부': 6389, '찢긴': 6390, '넘어갈': 6391, '엉뚱': 6392, '줄무늬': 6393, '색맹': 6394, '우중충': 6395, '난대요': 6396, '구림': 6397, '데여': 6398, '읺앙ㅎ': 6399, '미끄러워서': 6400, '더번': 6401, '겸해서': 6402, '체중': 6403, '감량': 6404, 'ㅡ심해서': 6405, '주력': 6406, '양식': 6407, '즐길': 6408, '행복': 6409, '볼께': 6410, '쪽쪽': 6411, '소독기': 6412, '욯ㅎ': 6413, '구석진': 6414, '벽면': 6415, '쩐': 6416, '대바늘': 6417, '케이프': 6418, '**,': 6419, '없애': 6420, '한몫': 6421, '토': 6422, '탸누ㅜ어터터튜튜쿄텨오놑': 6423, '세이브': 6424, '접힐': 6425, '개의': 6426, 'ok': 6427, '쿼트': 6428, '릅이': 6429, '여기사': 6430, '즉각': 6431, '사요': 6432, '구부': 6433, '못난이': 6434, '였으며': 6435, '직후': 6436, '콩나물': 6437, '무량': 6438, '조명': 6439, '보냄': 6440, '모자람': 6441, '부서짐': 6442, '장사치': 6443, '엏다고': 6444, '기달리': 6445, '만듭니다': 6446, '초장': 6447, '야할': 6448, '마라': 6449, '갈아주': 6450, '호떡': 6451, '을껄': 6452, '비염': 6453, '요구르트': 6454, 'ㅗ하네용': 6455, '오너': 6456, '포켓': 6457, '운전석': 6458, '휴지통': 6459, '송운': 6460, '개욕': 6461, '뚸야겟어요': 6462, '숨쉬기': 6463, 'ᆢㅎ아요': 6464, '피아노': 6465, 'ㅜㅠㅠ': 6466, '~~~~^^': 6467, '민무늬': 6468, '부드러워진': 6469, '쓰린': 6470, '달래': 6471, '해줌': 6472, '어느새': 6473, '내려갑니다': 6474, '외투': 6475, '우쿨렐레': 6476, '연주': 6477, '노우': 6478, '기관지': 6479, '끈적임': 6480, '~~^^!': 6481, '벗겨져': 6482, '올라옴': 6483, '쓰라려': 6484, '슈바': 6485, '오규': 6486, '그르': 6487, '닦여': 6488, '요요': 6489, '햄스터': 6490, ';)': 6491, '바넷': 6492, '빼내': 6493, '껴': 6494, '퀵': 6495, '릴리스': 6496, '오래갈': 6497, '디비': 6498, '시디시': 6499, '지시': 6500, '신맛': 6501, '눈모양': 6502, '중단': 6503, '매립': 6504, '이슈': 6505, '지직거리': 6506, '다닙니다': 6507, '메밀': 6508, '^-^~*': 6509, 'ㅓㄴ하네욤': 6510, '씹혀': 6511, '박혀': 6512, 'ㅡ고정이': 6513, '리펀': 6514, 'ㅕㅕ': 6515, '남겨야': 6516, '글러브': 6517, '쓰다': 6518, '각화증': 6519, '따가움': 6520, '공원': 6521, '땨': 6522, '😄': 6523, '원분': 6524, '습도계': 6525, '어마': 6526, '무시': 6527, '악의': 6528, '제값': 6529, '미싱': 6530, '두터운': 6531, '으려니까': 6532, '도드라져': 6533, '가슴골': 6534, '짐승': 6535, '삼주': 6536, '%~~~~~': 6537, '츕츕': 6538, '샤넬': 6539, '당첨': 6540, '망가진': 6541, '파프리카': 6542, '엣지': 6543, '아토': 6544, '앤': 6545, '배부르': 6546, '두꺼웠': 6547, '선생': 6548, '수강': 6549, '명란': 6550, '파치': 6551, '마실려고': 6552, '부으': 6553, '영어': 6554, '동남아': 6555, '차갑': 6556, '실색': 6557, '작아지': 6558, '👍🏼': 6559, '보존력': 6560, '따끈따끈': 6561, '160': 6562, '얼추': 6563, '제철': 6564, '븉지않아ㅛ': 6565, '아뇨': 6566, '사촌': 6567, '중과': 6568, '더덕': 6569, '욱': 6570, '방기': 6571, '손소': 6572, '독제': 6573, '클린': 6574, '회식': 6575, '나위': 6576, '결로': 6577, '빠져나가': 6578, '배수구': 6579, '머치': 6580, '해져요': 6581, 'ㆍ그럭저럭': 6582, '으실': 6583, '망신': 6584, '웃긴': 6585, '해프닝': 6586, '파티': 6587, '욬ㅋㅋ': 6588, '드라이버': 6589, 'ㅏ처': 6590, '파파': 6591, 'ㅏ하': 6592, 'ㅏㅠ': 6593, 'ㅝ해': 6594, '대재': 6595, 'ㅐ뱔': 6596, '퍄펴ㅗ조저ㅑㅍ두랴패ㅓ저저파더더ㅓ퍄러어팍두ㅏ어파': 6597, 'ㅜ파라ㅏㅇ': 6598, '뎁': 6599, '화재': 6600, '이어질': 6601, '실외기': 6602, '앵글': 6603, '배관': 6604, '가스': 6605, '실랑이': 6606, '느니': 6607, '엘지': 6608, '은가': 6609, '별한': 6610, '감칠맛': 6611, 'gmo': 6612, '개조': 6613, '거번': 6614, '계산': 6615, '어진': 6616, '시즈': 6617, '규칙': 6618, '살도': 6619, '스지': 6620, '해체': 6621, '이곳저곳': 6622, '한층': 6623, '큐티': 6624, '비어': 6625, '바닐라': 6626, '요것': 6627, '호불호': 6628, '곡물': 6629, '군포': 6630, '쌉싸름': 6631, '옹': 6632, '드셔서': 6633, '픽서': 6634, ',,?': 6635, 'ㅠㅠㅠ손등에': 6636, '망칠': 6637, '네유': 6638, '트리스': 6639, '미끄러울': 6640, '독하': 6641, '찡하': 6642, '말려요': 6643, '.........': 6644, '깜박이': 6645, '해결책': 6646, '내주': 6647, '랭': 6648, '요리조리': 6649, '업소': 6650, '소세지': 6651, '상해': 6652, '세통': 6653, '라임색': 6654, '잔뜩': 6655, '할려다가': 6656, '유산균': 6657, '켱석지마세요': 6658, '일으켜도': 6659, '세워져': 6660, '지불': 6661, '동식': 6662, '강력히': 6663, '이수유': 6664, '시에': 6665, '?!': 6666, '지성': 6667, '우루': 6668, '오스': 6669, '틀어졌': 6670, '도와': 6671, '협력': 6672, '상없': 6673, '발열': 6674, '공짜': 6675, '가질': 6676, '통부': 6677, '쏘옥': 6678, '열심': 6679, '힣': 6680, '묶여': 6681, 'ㅡ회색이랑같이': 6682, '물청소': 6683, '귀포': 6684, 'ㅡ나': 6685, '튜닝': 6686, '아리': 6687, '세정': 6688, '네임': 6689, '티슈': 6690, '시커멓': 6691, '왈': 6692, '반짝임': 6693, '촌스럽': 6694, '봉도': 6695, '다쳤': 6696, '덮개': 6697, '거름망': 6698, '패스': 6699, '가니': 6700, '찾아다닐': 6701, '썻습니다': 6702, '이동식': 6703, '조립식': 6704, '어려웠어요': 6705, '맞췄': 6706, '단위': 6707, '겁니까': 6708, '배앓이': 6709, '바지락': 6710, '해산물': 6711, '두족류': 6712, 'ㅍㅍ': 6713, '자른': 6714, '단면': 6715, '다구': 6716, '엉터리': 6717, '유효': 6718, '저서': 6719, '온기': 6720, '_': 6721, '수대': 6722, '애쉬': 6723, '딧ㆍ': 6724, 'ㅊㆍ': 6725, 'ㅌㆍ': 6726, '스스': 6727, '으으': 6728, 'ㆍㅅㆍㅇㆍㅅㆍㄷㄱㄷ그늑ㄷㄱㄷㄴㅈㆍ': 6729, '위아래': 6730, '퇴짜': 6731, '맞기': 6732, '정직': 6733, '기업': 6734, '어죽': 6735, '마른': 6736, '스쿱': 6737, '갈색빛': 6738, '적선': 6739, '던졌': 6740, '부어서': 6741, '줄여도': 6742, '왠걸': 6743, '실디': 6744, '퓨저': 6745, '내발': 6746, '급여': 6747, '영양': 6748, '왕골': 6749, '챙': 6750, '추욱': 6751, '뮬': 6752, '점심': 6753, '전자레인지': 6754, '괜챦': 6755, '차기': 6756, '착력': 6757, '매가리': 6758, '당당': 6759, '고환': 6760, '절차': 6761, '경제': 6762, '시끄러워': 6763, '걍쪄서도먹고': 6764, '혈액': 6765, '순환': 6766, '쪼끔': 6767, 'ahc': 6768, '다를': 6769, '소태': 6770, '갖은': 6771, '지외': 6772, '반증': 6773, '편치': 6774, '프라': 6775, '두상': 6776, '갑갑': 6777, '턱': 6778, '아몬드': 6779, '브리즈': 6780, '자료': 6781, '육수': 6782, '아기과자': 6783, '담기': 6784, '퍼져': 6785, '민감': 6786, '밀착력': 6787, '찾아오': 6788, '코스트코': 6789, '두루마리': 6790, '잠기': 6791, 'ㅠㅠ아': 6792, '거래': 6793, '고마우': 6794, 'pcb': 6795, '축': 6796, '씌운': 6797, '접어넣': 6798, '벴': 6799, '👍🏻👍🏻👍🏻': 6800, '치도': 6801, '읍': 6802, '담긴': 6803, '모기장': 6804, '지터': 6805, '김밥': 6806, '퐁퐁': 6807, '토하': 6808, '쿨링': 6809, '으라': 6810, 'ㅜㅜ가려지는': 6811, '압력': 6812, '풀리': 6813, '날카롭': 6814, 'ab': 6815, '씬': 6816, '자연광': 6817, '빤들거리': 6818, '계심': 6819, '감태': 6820, '추출물': 6821, '뚜꺼운': 6822, '스카프': 6823, '걸어야': 6824, '쓰레': 6825, 'ㆍ손아파요': 6826, '비스듬이': 6827, 'ᆢ빗자루봉도': 6828, '군내': 6829, '심했': 6830, '샤브샤브': 6831, '외형': 6832, '클릭': 6833, 'aaa': 6834, '변환': 6835, '동반': 6836, '철철': 6837, '거린다': 6838, '모를까': 6839, '하판': 6840, '알미늄': 6841, '눌릴': 6842, '충동구매': 6843, 'ㅠㅠㅋ': 6844, '반짝': 6845, '친정집': 6846, 'ㅠㅠ근데': 6847, '인디': 6848, '하기스': 6849, '기엽': 6850, '더블': 6851, '문안': 6852, '게나': 6853, '홍콩': 6854, '담배': 6855, '누구': 6856, '걸쳐서': 6857, '설정': 6858, '좌석': 6859, '뗏다붙잇다': 6860, '사소': 6861, '할려는': 6862, '겨울철': 6863, '폐': 6864, '그랬었': 6865, '소만': 6866, '파사': 6867, '모에': 6868, '맛본': 6869, '반질반질': 6870, '풍구': 6871, '겅도': 6872, '기전': 6873, '먹일게요': 6874, '히트': 6875, '먹거리': 6876, '칼라': 6877, '여분': 6878, '할듯': 6879, '167': 6880, '건만': 6881, '원초': 6882, '민폐': 6883, '해물': 6884, '장찌개': 6885, '바를': 6886, '바라지': 6887, '😁': 6888, '다크': 6889, '인트': 6890, '치아': 6891, '앞니': 6892, '초딩': 6893, '연두색': 6894, '촉박': 6895, '카카오': 6896, '수입': 6897, '무안': 6898, '눈알': 6899, '붙인': 6900, '거미줄': 6901, '메리': 6902, '지도': 6903, '잔지': 6904, '탈출': 6905, '떄': 6906, '장모종': 6907, '엉킨': 6908, '랜즈': 6909, '외관': 6910, '검사': 6911, '걸린다면': 6912, '상다리': 6913, '550': 6914, '특성': 6915, '까슬까슬': 6916, '2900': 6917, '225': 6918, '내지': 6919, '교대': 6920, '라브라': 6921, '렛': 6922, '어려': 6923, '웠는데요건덜부담스런데다완전편해요': 6924, '보드라운': 6925, '예측': 6926, '저버리': 6927, '으리라고': 6928, '건강식품': 6929, '빵점': 6930, '유선': 6931, '밝히': 6932, '주장': 6933, '조치': 6934, '취하': 6935, '아재': 6936, '뿔': 6937, '등심': 6938, '구동': 6939, '자고': 6940, '핸드': 6941, '워시': 6942, '건진': 6943, '얀': 6944, '꼿꼿': 6945, '징그러워': 6946, '닭발': 6947, '폭신폭신': 6948, '뛰어다녀도': 6949, '한디': 6950, '평점': 6951, '당했': 6952, '이삭': 6953, '토스트': 6954, '진장': 6955, '지원': 6956, '사러가': 6957, '려고요': 6958, '캔버스': 6959, '돌돌': 6960, '쑥': 6961, '킹사이즈': 6962, '웟고': 6963, '바삭': 6964, '스포츠': 6965, '몰딩': 6966, '찍혔': 6967, '가나': 6968, '다라': 6969, '사아': 6970, '미끌거리': 6971, '말라붙': 6972, '적어도': 6973, '가져가': 6974, '열무': 6975, '프러포즈': 6976, '꽃다발': 6977, '신부': 6978, '샘': 6979, '으렵니다': 6980, '덧대': 6981, '앵': 6982, '조그마': 6983, '안생': 6984, '지만요': 6985, '테스': 6986, '트기': 6987, '아각': 6988, '텅': 6989, 'ㅛ': 6990, '을려구요': 6991, '라만': 6992, 'ㅘㅂ니다': 6993, '뜻밖': 6994, '산타': 6995, '산다고': 6996, '어쨌든': 6997, '믿기': 6998, '나온다': 6999, '접사': 7000, '총각김치': 7001, '계신': 7002, '맛집': 7003, '으루': 7004, '목줄': 7005, '벌겋': 7006, '긁적긁적': 7007, '폴란드': 7008, '반영': 7009, '신대서': 7010, '‘': 7011, '’': 7012, '고픔': 7013, '으라고': 7014, '착전': 7015, 'nfc': 7016, '모뎀': 7017, '라운드': 7018, '됀': 7019, '착착': 7020, '감김': 7021, '립스틱': 7022, '충전재': 7023, '클래식': 7024, '명칭': 7025, '틀린데': 7026, '유모차': 7027, '짭': 7028, '꿋은': 7029, '작살나': 7030, '늘어난': 7031, '쓴다면서': 7032, '어브': 7033, '귀리': 7034, '역해요': 7035, '어덯': 7036, '모릅니다': 7037, '알싸': 7038, '엎': 7039, '두통': 7040, '우통': 7041, '초순': 7042, '열릴까': 7043, '따져요': 7044, '요옥': 7045, '가위질': 7046, '생활': 7047, '조여': 7048, '교통카드': 7049, '태그': 7050, '뛰어나': 7051, '꽉차': 7052, '수압': 7053, '남겨요': 7054, '구만': 7055, '절약': 7056, '면접': 7057, '쫄리': 7058, '물어볼': 7059, '곤드레': 7060, '나물': 7061, '새치': 7062, '착색': 7063, '쁘': 7064, '덧댄': 7065, '쏠려': 7066, '분비물': 7067, '75': 7068, '망쳤': 7069, '주의깊': 7070, '110': 7071, '어쩔지': 7072, '우울': 7073, '트롤리': 7074, '둘려고': 7075, '참기름': 7076, '교복': 7077, '코스': 7078, '통기성': 7079, '긴장': 7080, '늦추': 7081, '녹여': 7082, '따듯': 7083, '사오': 7084, '순위': 7085, '쌀국수': 7086, '정수리': 7087, '탬': 7088, 'ㅏ이': 7089, '럴줄알앗으면안삿네요': 7090, '짧아진': 7091, '닞고싶어서산건데': 7092, '곸ㅋ그럼미리공지를해야지': 7093, '생로': 7094, '넷': 7095, '저고리': 7096, '새록새록': 7097, '으다': 7098, '네모': 7099, '놀이': 7100, '비즈': 7101, '늘렸': 7102, '셔셔': 7103, '구몬': 7104, '땡': 7105, '뾰쪽한': 7106, '외면': 7107, '우측': 7108, '좌측': 7109, '짝짝이': 7110, '짝짝': 7111, '지워짐': 7112, '가끔가다': 7113, '바보': 7114, '에코': 7115, '드롭': 7116, '캐주얼': 7117, '얘': 7118, '-!': 7119, '엉키': 7120, '간주': 7121, '방충망': 7122, '😀': 7123, '중고품': 7124, '책장': 7125, '옮기': 7126, '꼼짝': 7127, '줘': 7128, '갈색': 7129, '아이섀도': 7130, '골라서': 7131, '재미': 7132, '선처리': 7133, '다림': 7134, '아닌데요': 7135, '국': 7136, '끓였': 7137, '로운': 7138, '가려워서': 7139, '잠결': 7140, '후끈': 7141, '거림': 7142, '아무렇': 7143, '재서': 7144, '표대': 7145, '저대로': 7146, '끼워도': 7147, '21500': 7148, '17500': 7149, '인중': 7150, '흘리': 7151, '팝': 7152, '과육': 7153, '걍입': 7154, '재구': 7155, '진드기': 7156, '칵테일': 7157, '유일': 7158, '버벅': 7159, '거렸': 7160, '번성': 7161, '보태': 7162, '앏은것도그렇고': 7163, '대문자': 7164, 't': 7165, 'j': 7166, '괜찬으면': 7167, '규격': 7168, '스레': 7169, '드세요': 7170, '엠블럼': 7171, '뽀글뽀글': 7172, '공업': 7173, '지나치': 7174, '지방층': 7175, '쁜거많던데ᆢ': 7176, '스테이크': 7177, '뒷맛': 7178, '가자미': 7179, '생긴': 7180, '혀': 7181, '린스': 7182, '푸석': 7183, '1000': 7184, '쓸지': 7185, '젛아용': 7186, '자력': 7187, '틀려요': 7188, '지자': 7189, 'ㅏ나아': 7190, '실험': 7191, '임박': 7192, '유니클로': 7193, '심리': 7194, '스팬': 7195, '별론': 7196, '넘사벽': 7197, '열흘': 7198, '어라': 7199, '쌔': 7200, '고통': 7201, '깨달': 7202, '습식': 7203, '술안주': 7204, '스마트': 7205, '예방': 7206, '겐': 7207, '앞둔': 7208, '신생아': 7209, '지니': 7210, '우러': 7211, '독일': 7212, 'made': 7213, 'thailand': 7214, 'ㅠㅠ화나요': 7215, '해사': 7216, '버무려져': 7217, '터무니없': 7218, '쌥니다': 7219, '고임': 7220, '장판': 7221, '아무래도': 7222, '놔야': 7223, '반질거리': 7224, '예오': 7225, '칼집': 7226, '번들': 7227, '들어감': 7228, '^^*': 7229, '베쯔니': 7230, '금속': 7231, '62': 7232, '메세지': 7233, '뻬리': 7234, '우우': 7235, 'ㆍ느': 7236, '몇일': 7237, '대시보드': 7238, '어려울': 7239, '중지': 7240, '메시지': 7241, '핸디': 7242, '잠': 7243, '멈추': 7244, 'ㅡㅡ뭐죠': 7245, '모근': 7246, '소름': 7247, '끼치': 7248, '욬ㅋㅋ확인': 7249, '욬ㅋㅋㅋ반품': 7250, '드린다고': 7251, '손빨래': 7252, '먹물': 7253, '쭉쭉': 7254, '어떡': 7255, '가게': 7256, '시저스': 7257, '골드바': 7258, '닠ㅋㅋㅋ': 7259, '실화': 7260, '으라구': 7261, '지장': 7262, '판가름': 7263, '격하': 7264, '어링': 7265, '시부모': 7266, '폄': 7267, '수건걸이': 7268, '즐거움': 7269, '안들': 7270, '상부': 7271, '런': 7272, '!!!^^': 7273, '아인데': 7274, '말림': 7275, '자켓': 7276, '길바닥': 7277, '필': 7278, '부력': 7279, '위주': 7280, '본연': 7281, '친정': 7282, 'rc': 7283, '왔으나': 7284, '가장자리': 7285, '나빠져': 7286, '9900': 7287, '뗀': 7288, '.)': 7289, '시원찮': 7290, '올라타': 7291, '운서': 7292, '세수': 7293, '두깨': 7294, '균일': 7295, '마더': 7296, '자나': 7297, '변합니다': 7298, '봅': 7299, '시범': 7300, '함꼐': 7301, '부드러웠': 7302, '고추장': 7303, '배알': 7304, '쏟아질': 7305, '이요': 7306, '틀어져서': 7307, '밀폐': 7308, '갈아탔': 7309, '바꿈': 7310, '섭취': 7311, '몰입': 7312, '씨알': 7313, '상사': 7314, '쉅네요': 7315, 'ㅌㅋㅋ굳입니다': 7316, '~~~!': 7317, '새우전': 7318, '지치': 7319, '정치': 7320, '한달전': 7321, 'ㅡㅜ': 7322, '깜깜': 7323, '무소식': 7324, '후드': 7325, '출발': 7326, '발기': 7327, '못했었': 7328, '큰언니': 7329, '형부': 7330, '자잘': 7331, '터집니다': 7332, '터질': 7333, '냉이': 7334, '아진': 7335, '괜찬아요': 7336, '도오': 7337, 'ㅗㅌ투웡': 7338, '영여': 7339, 'ㅕㅇ': 7340, '왼손': 7341, '스킬': 7342, '엄지': 7343, '~~~!!': 7344, '끈적이': 7345, '애먹': 7346, '아랫': 7347, '핵': 7348, '수차례': 7349, '아함': 7350, '괜창하허': 7351, '바송': 7352, '격': 7353, '던져서': 7354, '생전': 7355, '할래': 7356, '깨물': 7357, '찜통': 7358, '약효': 7359, '편광': 7360, '분유': 7361, '커야': 7362, '패밀리': 7363, '생겼으면': 7364, '파라': 7365, '허어': 7366, 'ㅓ너허하네나팦': 7367, '계십니다': 7368, '젖혀': 7369, '색은': 7370, '지가': 7371, '조리법': 7372, '각개': 7373, '샌다': 7374, '궁금증': 7375, '을래요': 7376, '삐뚤어져': 7377, '정전기': 7378, '스며들': 7379, '톱': 7380, '윌': 7381, '무더위': 7382, '상했': 7383, '두려움': 7384, '^*^': 7385, '노랭이': 7386, '사이드': 7387, '활발': 7388, '영향': 7389, '자수': 7390, '뒤집히': 7391, '새겨져': 7392, '아파트': 7393, '한가': 7394, 'ㅜㅜㅜㅜ': 7395, 'ㅛ어요': 7396, '청결': 7397, '남방': 7398, '이럴까': 7399, '개판': 7400, '놀라울': 7401, '뭉툭': 7402, '자취': 7403, '장기': 7404, '뵙': 7405, '서려': 7406, '눈앞': 7407, '미니': 7408, '싼타페': 7409, '크루즈': 7410, '품명': 7411, '36': 7412, '뒤죽박죽': 7413, '재대로': 7414, '귀찬': 7415, 'qc': 7416, '바퀴벌레': 7417, '홍삼': 7418, '베스': 7419, '어떤지': 7420, '햇님': 7421, '먹방': 7422, '불러요': 7423, '거덩': 7424, '흡입력': 7425, '으려': 7426, '260': 7427, '하중': 7428, '내외': 7429, '괜춘': 7430, '윈도우': 7431, '자바': 7432, '맞아떨어지': 7433, '저엉': 7434, '우러남': 7435, '치고는': 7436, '마일드': 7437, '참치': 7438, '반쪽': 7439, '딸래미': 7440, '주려': 7441, '700': 7442, '베를린': 7443, '드레스덴': 7444, '끊김': 7445, '웨어': 7446, '살아요': 7447, '안성맞춤': 7448, '나와도': 7449, '뒤척': 7450, '거려도': 7451, '막대': 7452, '클러치': 7453, '치프': 7454, '식물': 7455, '절망': 7456, '모아져': 7457, '미사일': 7458, '배추': 7459, '닢': 7460, '불감': 7461, '포근': 7462, '페이지': 7463, '대추': 7464, '옛날': 7465, '쓰라리': 7466, '예랑': 7467, '구찮': 7468, '잡곡밥': 7469, '해피': 7470, '바스만': 7471, '흐물거리': 7472, '천도': 7473, '탸에': 7474, '찔': 7475, '꽁': 7476, '히팅': 7477, '나란히': 7478, '오오': 7479, '원통': 7480, '가해': 7481, '꺼집니다': 7482, '평지': 7483, '래': 7484, '입기': 7485, '짜낸': 7486, '슴니다': 7487, '현장': 7488, '나바': 7489, '멸균': 7490, '페인팅': 7491, '그런가보다': 7492, 'ㅇㆍㄱ요': 7493, '이의자': 7494, '짜글짜글': 7495, '써야할지': 7496, '온몸': 7497, '근육통': 7498, '이완': 7499, '특상': 7500, '내려와서': 7501, '해줄테': 7502, '쾌적': 7503, '젓갈': 7504, '통일': 7505, '됫으면': 7506, '국내산': 7507, '녹여서': 7508, 'ㄲㅐ지만': 7509, 'ㅇㅔ': 7510, '걸린다고': 7511, '서민': 7512, '갑부': 7513, 'tv': 7514, '시청': 7515, '조조': 7516, '필라테스': 7517, '틴': 7518, '줫오요': 7519, '이만저만': 7520, '어설프': 7521, '나쁩니다': 7522, '플래너': 7523, '132': 7524, '늦가을': 7525, '자루': 7526, '원할하': 7527, '수전': 7528, '걸으면': 7529, '용서': 7530, '아픈': 7531, '노리': 7532, '화가': 7533, '둑': 7534, '유축': 7535, '글자': 7536, '이런가요': 7537, '미아': 7538, '팔찌': 7539, '파래': 7540, '크류': 7541, '와라': 7542, '낚': 7543, '낚싯대': 7544, '인위': 7545, '절임': 7546, '젓': 7547, '철물점': 7548, '강': 7549, 'ㅜㅜ감사히': 7550, '27': 7551, '집하': 7552, '읎': 7553, '최우선': 7554, '까칠': 7555, '아지': 7556, 'ᆢㄷ': 7557, '구스': 7558, '워머': 7559, '날라오': 7560, '지킴': 7561, '위에': 7562, '지정': 7563, '환기': 7564, '상큼': 7565, '카라멜': 7566, '모자를까': 7567, '괜한': 7568, '속지': 7569, '병사': 7570, '음용': 7571, '두병': 7572, '뻑': 7573, '욨슴': 7574, '누드': 7575, '골반': 7576, '소요': 7577, '광어': 7578, 'ㅓ무': 7579, '돌배': 7580, '..,,': 7581, '복불복': 7582, '대류': 7583, '고약': 7584, 'ㅡㅡㄴ슨ㄱㅇㄴ근ㅂㅈㅇ': 7585, 'ㆍ시': 7586, 'ㅌㄱ': 7587, 'ㅇㄱ': 7588, 'ㆍ서': 7589, 'ㅇㅈㄱㄴㅇ옥ㄴㄱㅂㄷㅅㅂㆍㅅㄱㅇㆍㅅㄱ읏ㄱ': 7590, '????': 7591, '불사조': 7592, '마켓': 7593, 'ㅜ바로': 7594, '왜곡': 7595, '와장창': 7596, '치우': 7597, '개짱': 7598, '벅': 7599, '텀블러': 7600, '랏': 7601, 'ㄳㄳ': 7602, '연보라': 7603, '가관': 7604, '올라': 7605, '야무지': 7606, '륨': 7607, '이시어': 7608, '어야지요': 7609, '여포': 7610, '걓': 7611, '저오': 7612, '라패': 7613, '퍼대': 7614, '천일염': 7615, '비단': 7616, '머릿결': 7617, '화딱지': 7618, '놀이터': 7619, '괜찮이': 7620, '진로': 7621, '석수': 7622, '그새': 7623, '귀여운데': 7624, '시소': 7625, '톱밥': 7626, '장통': 7627, '무자': 7628, '자게': 7629, '달려': 7630, '념장만이더라구용ㅜㅜ': 7631, '부인': 7632, '메델': 7633, '후방': 7634, '동대문': 7635, '서너': 7636, '스면': 7637, '늘어놔': 7638, '연장': 7639, '후크': 7640, '대여': 7641, '우도': 7642, '하다': 7643, '대해서': 7644, '통통': 7645, '돋운다': 7646, '드십니다': 7647, '바람막이': 7648, '다기': 7649, '들떠': 7650, '헨드': 7651, '떨어뜨리': 7652, '튀김': 7653, '고추짱아': 7654, '합해서': 7655, '할려': 7656, '걱대': 7657, '속충': 7658, '동동': 7659, '동치미': 7660, '드린': 7661, 'tt': 7662, '대학': 7663, '피해': 7664, '녹슬': 7665, '즐거웠': 7666, '보온력': 7667, '애용': 7668, '무심': 7669, '겨우겨우': 7670, '소고기': 7671, '귀거': 7672, '세웠': 7673, '열립니다': 7674, '동그라미': 7675, '비웃음': 7676, '땡처리': 7677, '기회': 7678, '달팽이': 7679, '큰제목': 7680, '당언': 7681, 'ps': 7682, '저령': 7683, '반신반의': 7684, '탄내': 7685, '불붙': 7686, '감자전': 7687, '짭조름': 7688, '까슬하': 7689, '다수': 7690, '구우': 7691, '웅': 7692, 'ㅜㅇㅅ': 7693, '템포': 7694, '부스트': 7695, '눕혀야': 7696, '농구': 7697, '들어간다고': 7698, '프린트': 7699, '꽃장식': 7700, '다녀오': 7701, '카니발': 7702, '착시': 7703, '속상해': 7704, '부러': 7705, '완성도': 7706, '플라스': 7707, '공책': 7708, '명절': 7709, '폭주': 7710, '일시': 7711, '냉동고': 7712, '글라스': 7713, '옮겨서': 7714, '헛돌': 7715, '씹히': 7716, '텨': 7717, '컷': 7718, '하프': 7719, '사면': 7720, '갈아먹': 7721, '!~~': 7722, 'ㆍㄱㅅ': 7723, '덧': 7724, '데기': 7725, '구비': 7726, '맞벌이': 7727, '박히': 7728, '유럽': 7729, 'kpn': 7730, '파리': 7731, '가감': 7732, '나라': 7733, '지비': 7734, '츠': 7735, '엑스': 7736, '철대': 7737, '응': 7738, '고력': 7739, '사악': 7740, '사막': 7741, '곡선': 7742, '실시간': 7743, '닫힘': 7744, '그리거': 7745, '히스토리': 7746, '졌으면': 7747, '까요': 7748, '마무': 7749, '그늘막': 7750, '주택': 7751, '열전달': 7752, '괴': 7753, '비틀즈': 7754, '슬램': 7755, '덩크': 7756, '욕구': 7757, '넘칩니다': 7758, '마련': 7759, '걸쭉': 7760, '풀림': 7761, '꼬막': 7762, '메리트': 7763, '쏟아지': 7764, '미끄러운': 7765, '안받음': 7766, '통기': 7767, '사우나': 7768, '치카': 7769, '건장': 7770, '벌어집니다': 7771, '획기적으로': 7772, '안내대': 7773, 'e': 7774, '미끄럽': 7775, '꾸깃꾸깃': 7776, '재킷': 7777, '밀렸': 7778, '마틸다': 7779, '도복': 7780, '핸드크림': 7781, '빈다': 7782, '♡♡♡': 7783, '묵히': 7784, '흐려': 7785, '지명': 7786, '가독성': 7787, '레벨': 7788, '볼빅': 7789, '로스트': 7790, '바요': 7791, '밥상': 7792, '동시': 7793, '에도': 7794, '뾰루지': 7795, '유리병': 7796, '나사못': 7797, '안마': 7798, '치워': 7799, '갈아치우': 7800, '날까': 7801, '나빠': 7802, '실해': 7803, '쳐다보': 7804, '캣': 7805, '닙이': 7806, '효율': 7807, '걸어서': 7808, '투성이': 7809, '정책': 7810, '높여도': 7811, '계': 7812, '역할': 7813, '스팀': 7814, '피쳐': 7815, '참으로': 7816, '상세히': 7817, '스런': 7818, '루지': 7819, '젔어요': 7820, '다냐': 7821, '도어': 7822, '여오': 7823, '노어': 7824, '아나': 7825, '노도': 7826, 'ㅕ젖': 7827, 'ㅐ나너존요옿저냐조조더노오여오냐너도여오오ㅕ오도엉': 7828, '골드색': 7829, '출력': 7830, '튑니다': 7831, '방향제': 7832, '불스원': 7833, '연무기': 7834, '이라도': 7835, '얼굴색': 7836, '플로': 7837, '밑창': 7838, '스니커즈': 7839, '밴': 7840, '늘어남': 7841, '저곳': 7842, '잔돈': 7843, '분주': 7844, '오디': 7845, '?(': 7846, '을수록': 7847, '짭짤': 7848, '오동나무': 7849, '할려구': 7850, 'one': 7851, '할려면': 7852, 'ㅇ아요': 7853, 'ztpydyldyldyllyd': 7854, '심함': 7855, 'ㅇ기사님': 7856, '복습': 7857, '오랫만': 7858, '왕창': 7859, '염통': 7860, '배선': 7861, '살치': 7862, '오모': 7863, '롦사삿ㅅ': 7864, '펌': 7865, '^^~': 7866, '다이슨': 7867, '컨디': 7868, '스승': 7869, '단열': 7870, '리모': 7871, '델': 7872, '단열재': 7873, 'ㆍ가격대비': 7874, 'ㆍㆍㆍ': 7875, '수술': 7876, '어머님': 7877, '비웠': 7878, '뜨거워요': 7879, '스포티지': 7880, '짜르': 7881, '싶어요': 7882, '져왔': 7883, '울산': 7884, '통운': 7885, '파업': 7886, '아담': 7887, '추타': 7888, '튵미ㅏ윹': 7889, '헐렁헐렁': 7890, '체구': 7891, '육각': 7892, '렌치': 7893, '들어간': 7894, '투싼': 7895, '샤': 7896, '카트': 7897, '팽팽': 7898, '헐거운': 7899, '심심': 7900, '권사': 7901, '갱엿': 7902, '문질러': 7903, '최선': 7904, '원하': 7905, '호일': 7906, '봉전': 7907, '건대': 7908, '촬영': 7909, '소품': 7910, '헌대': 7911, '낌': 7912, '씡': 7913, '흉': 7914, '저건': 7915, '식용': 7916, '알룩': 7917, '58': 7918, '숙면': 7919, '취했': 7920, 'gs': 7921, '대한민국': 7922, 'ㆍ우리꺼만그런가요': 7923, '제주': 7924, '다용도': 7925, '가벼운데': 7926, '삐긋': 7927, '벨트': 7928, '음영': 7929, '그윽': 7930, '눈매': 7931, '앨범': 7932, '레트': 7933, '물씬': 7934, '밑바닥': 7935, '달랐': 7936, '운송': 7937, '빗물': 7938, '원료': 7939, '실망감': 7940, '범퍼': 7941, '종량제': 7942, '싱가포르': 7943, '우비': 7944, '몰드': 7945, '살구색': 7946, '뗄': 7947, '왁': 7948, '씌': 7949, '뭡니까': 7950, '이음': 7951, '붙여야': 7952, '초기': 7953, '반팔': 7954, '조을': 7955, '뾱뾱이': 7956, '걸친': 7957, '돟': 7958, '남기진': 7959, '됏': 7960, '세정제': 7961, '뚫려서': 7962, '안일': 7963, '이왕': 7964, '물때': 7965, '따끔따끔': 7966, '몰': 7967, '카라': 7968, '164': 7969, '일산': 7970, '타운': 7971, '패티': 7972, '윈': 7973, '족족': 7974, '한지라': 7975, '석류': 7976, '그런지는': 7977, '프로젝트': 7978, '페이': 7979, '달라졌': 7980, '텁텁': 7981, '갈라짐': 7982, '전반': 7983, '장단점': 7984, '실감': 7985, '천연': 7986, '뷰티': 7987, '혹해서': 7988, '곱슬': 7989, '희뿌연': 7990, '항속': 7991, '담궈서': 7992, '초이스': 7993, '데우': 7994, '^.^': 7995, 'ㅠㅠㅋ블랙이': 7996, '옥스포드': 7997, '셔츠': 7998, '린': 7999, '넨': 8000, '까끌까끌': 8001, '경': 8002, '잡힐': 8003, '이력': 8004, '24000': 8005, '20000': 8006, '아이스티': 8007, '차마': 8008, '시던': 8009, '핸': 8010, '혼났': 8011, '33': 8012, '재요': 8013, '스크럼': 8014, '가벼워졌': 8015, '다거나': 8016, '슬림': 8017, '내놓': 8018, '지긋지긋': 8019, '들어': 8020, '멋대로': 8021, '동용': 8022, '집기': 8023, '중망': 8024, '회중': 8025, '난다는': 8026, '기름분': 8027, '말랑말랑': 8028, '칼질': 8029, '놨던': 8030, '드는데': 8031, '계절': 8032, '질리': 8033, '치렁치렁': 8034, '전기세': 8035, '나옵니까': 8036, '두꺼비집': 8037, '내려감': 8038, 'ㅇㅁㄴㅇㅁㄴㅇㅁㄴㅇㅁㄴㅇㅁㄴㅇㅁㄴㅇㅁㄴㅇ': 8039, 'ㅇㄴㅁㅇㅁㄴㅇ': 8040, \";'\": 8041, 'ㅓㅁ니ㅏ엄니ㅏ어마ㅣㄴ어ㅑㅏㅣㅁ너이ㅏㅁㄴㅇ': 8042, 'ㅏㅣ': 8043, 'ㅏㅁ너이ㅏㅁ너아ㅣㅁ너이ㅏㅁ너이ㅏㅁ너이ㅏㅁ너임ㄴ': 8044, '부산': 8045, '27000': 8046, '수요일': 8047, '확률': 8048, '가네': 8049, '달르': 8050, '전압': 8051, '하루치': 8052, '깐': 8053, '캐나다': 8054, '거주': 8055, '사진발': 8056, '코알라': 8057, '치우쳤': 8058}\n"
          ],
          "name": "stdout"
        }
      ]
    },
    {
      "cell_type": "code",
      "metadata": {
        "id": "FV_TvPhYU5gt",
        "colab": {
          "base_uri": "https://localhost:8080/"
        },
        "outputId": "8ce9ebbd-4796-4d42-fb5c-d7358f184e4c"
      },
      "source": [
        "print( tokenizer.word_counts ) # 전체 문장에서 단어가 몇번 반복됐는지 "
      ],
      "execution_count": 21,
      "outputs": [
        {
          "output_type": "stream",
          "text": [
            "OrderedDict([('아직', 121), ('사용', 375), ('2', 126), ('틀', 13), ('밖에', 7), ('안', 820), ('되', 475), ('어서', 304), ('잘', 878), ('모르', 98), ('겠', 328), ('네요', 1722), ('^^', 138), ('상', 23), ('품평', 12), ('좋', 1600), ('아서', 304), ('기대', 84), ('있', 835), ('어요', 1169), ('~', 407), ('상품', 167), ('함께', 13), ('편지', 4), ('적', 107), ('어', 523), ('주', 304), ('시', 193), ('ᆢ', 10), ('받', 224), ('기분', 38), ('았', 400), ('ㅎ', 66), ('케이스', 34), ('호환', 8), ('률', 2), ('100', 18), ('%', 9), ('라', 243), ('셨', 63), ('는데', 999), ('두', 178), ('개', 248), ('나', 324), ('샀', 191), ('가성', 52), ('비', 97), ('괜찮', 145), ('습니다', 765), ('바퀴', 6), ('고정', 44), ('된다면', 3), ('별', 42), ('다섯', 3), ('짜린데', 1), ('.', 3964), ('..', 405), ('막', 26), ('심하', 38), ('나오', 52), ('않', 438), ('거', 531), ('같', 596), ('아요', 1003), ('만족', 279), ('합니다', 475), ('다만', 21), ('배송', 695), ('아주', 114), ('맘', 93), ('듭니다', 29), ('역대', 1), ('최악', 40), ('었', 342), ('배송지', 4), ('아닌', 43), ('다른', 181), ('곳', 56), ('내려놓', 3), ('갔', 9), ('인수자', 1), ('확인', 43), ('입니다', 280), ('없', 403), ('일단', 37), ('좀더', 2), ('써', 89), ('봐야겠지만', 1), ('맛', 236), ('너무', 737), ('달', 97), ('버렸', 50), ('한입', 3), ('먹', 548), ('무료', 8), ('체험', 7), ('13', 5), ('개월', 16), ('아기', 71), ('첫', 16), ('김치', 18), ('였', 61), ('!', 476), ('엄마', 19), ('해', 302), ('준', 13), ('반찬', 4), ('아가', 11), ('백김치', 3), ('계속', 68), ('손', 53), ('ㅋㅋ', 75), ('직접', 16), ('으로', 362), ('담', 34), ('백', 12), ('프로', 11), ('우리', 13), ('농산물', 1), ('원재료', 1), ('믿', 51), ('음', 183), ('가요', 8), ('포장', 178), ('상태', 84), ('로', 381), ('추천', 78), ('드립니다', 11), ('안함', 3), ('7', 19), ('전혀', 28), ('됩니다', 46), ('ㅠㅠ', 200), ('도로', 1), ('위', 20), ('에선', 3), ('간간히', 1), ('잡히', 12), ('기', 424), ('차라리', 10), ('식당', 2), ('이나', 45), ('호텔', 2), ('와이파이', 3), ('훨씬', 17), ('나아요', 2), ('하루', 43), ('정도', 114), ('냉장고', 8), ('뒀', 9), ('살', 80), ('아', 339), ('캠', 2), ('핑장', 1), ('도착', 37), ('해서', 386), ('해감', 3), ('구', 86), ('진짜', 125), ('최', 5), ('곱', 3), ('니다', 17), ('잘못', 56), ('왔', 188), ('교화', 1), ('했', 704), ('...', 79), ('안쪽', 9), ('얼룩', 17), ('뭍', 5), (',', 297), ('교환', 83), ('요청', 9), ('새로', 13), ('지만', 319), ('것', 413), ('ㅡㅡ검수도', 1), ('보내', 110), ('는지', 61), ('귀찮', 64), ('그냥', 329), ('씁니다', 36), ('붙이', 23), ('어렵', 18), ('필름', 9), ('기포', 3), ('빠지', 32), ('난', 8), ('자리', 7), ('거슬리', 5), ('자국', 18), ('엄청', 72), ('많이', 228), ('남', 51), ('사생활', 1), ('보호', 12), ('터치', 5), ('감', 59), ('나쁘', 17), ('진', 69), ('힘드', 7), ('장', 27), ('중', 116), ('실패', 12), ('버리', 26), ('번', 188), ('째', 65), ('겨우', 9), ('붙였', 7), ('굳', 15), ('아이', 92), ('원츄', 1), ('이벤트', 7), ('가격', 286), ('샀어요', 27), ('재', 475), ('구매', 823), ('뚜껑', 47), ('맞', 171), ('쓰', 401), ('전', 104), ('시켰', 48), ('던', 145), ('건데', 56), ('사이즈', 226), ('달라요', 7), ('냉동식품', 2), ('인데', 129), ('신속', 4), ('리필', 5), ('굿', 61), ('빨라요', 20), ('쓸께요', 16), ('순하', 7), ('씻겨', 1), ('요', 442), ('ㅎㅎ', 102), ('맛없', 19), ('설익', 1), ('밥', 15), ('처럼', 54), ('넉넉', 23), ('니', 238), ('길이', 37), ('길', 70), (':', 22), (')', 40), ('이제', 23), ('배', 33), ('좀', 292), ('나와서', 11), ('힘든데', 2), ('편하', 88), ('입', 165), ('수', 151), ('둘째', 7), ('려고', 89), ('ㅡㅡ', 52), ('사진', 77), ('완전', 97), ('다릅니다', 6), ('닭', 4), ('어느', 17), ('부위', 11), ('인지', 35), ('알', 106), ('1', 125), ('키로', 9), ('덩어리', 6), ('얼려', 3), ('채', 14), ('와요', 6), ('가슴살', 2), ('라고', 84), ('하지만', 13), ('뭉쳐', 4), ('얼려서', 1), ('온', 27), ('느끼', 10), ('으면서', 7), ('깨름', 1), ('직', 2), ('꺼려집니다', 1), ('ㅡ', 26), ('작', 185), ('선풍기', 5), ('헤드', 6), ('분해', 6), ('면', 316), ('절대', 18), ('보관', 23), ('불가', 4), ('여름', 26), ('불로', 2), ('강추', 21), ('냉동', 8), ('깔끔히', 2), ('을게요', 11), ('부드럽', 30), ('감사', 132), ('파', 61), ('세요', 158), ('로션', 7), ('바르', 23), ('느낌', 99), ('에요', 134), ('제품', 300), ('자', 40), ('업체', 9), ('물건', 59), ('반', 21), ('만', 314), ('연락', 33), ('톡톡', 4), ('씹', 6), ('눈', 19), ('탱', 2), ('구나', 2), ('그랬', 22), ('대비', 65), ('맛있', 177), ('벌써', 15), ('솜', 12), ('푹', 3), ('꺼졌', 1), ('비쳐서', 3), ('집', 73), ('님', 56), ('올', 12), ('때', 189), ('밖', 22), ('못', 122), ('나감', 2), ('딸아이', 6), ('생일', 9), ('선물', 88), ('줬', 29), ('넘', 169), ('이쁘', 58), ('다고', 90), ('센스', 3), ('스타', 3), ('올려', 15), ('자랑', 2), ('ㅋㅋㅋ', 30), ('이럴', 4), ('땐', 7), ('왠지', 1), ('으쓱', 1), ('디자인', 92), ('심플', 6), ('하고', 7), ('블링', 2), ('이뻐요', 37), ('빠른', 67), ('편', 41), ('벤트', 1), ('대성공', 1), ('커튼', 6), ('봉', 16), ('딱', 122), ('쓱쓱', 2), ('발라', 8), ('부담없이', 5), ('ㅁ', 21), ('ㄴ', 34), ('ㅇ롬ㅇ롤ㅇ모몰', 1), ('11', 10), ('별로', 189), ('저', 109), ('열리', 4), ('나요', 50), ('?', 194), ('열기', 2), ('힘들', 38), ('썼', 28), ('한번', 14), ('더', 252), ('제모', 1), ('서', 300), ('용', 128), ('아야', 7), ('품목', 1), ('정리', 18), ('쌓', 2), ('마감', 62), ('돠', 2), ('그런지', 26), ('날카로운', 1), ('부분', 153), ('이번', 50), ('데', 117), ('비해', 20), ('저렴', 151), ('구입', 108), ('기다림', 1), ('이유', 19), ('최소', 1), ('3', 88), ('기다려야', 2), ('수령', 4), ('가능', 26), ('함', 79), ('꺼', 56), ('건지', 65), ('사과', 2), ('곰팡이', 10), ('제', 95), ('입맛', 8), ('솔직히', 16), ('말', 63), ('벌레', 7), ('잡', 36), ('못하', 34), ('오히려', 11), ('모우', 1), ('더라구요', 41), ('냄새', 125), ('ㅜ', 46), ('의자', 27), ('낮', 17), ('금장', 2), ('색깔', 27), ('실용', 7), ('못해요', 5), ('평', 21), ('기에', 7), ('질긴', 2), ('근막', 1), ('/', 20), ('5', 53), ('생각', 265), ('밀키', 1), ('트', 7), ('정육점', 1), ('고기', 25), ('질', 56), ('외', 4), ('마리네', 1), ('이드', 1), ('양념', 21), ('살짝', 28), ('쉬워요', 10), ('살림', 1), ('백서', 1), ('모두', 23), ('면서', 44), ('약해서', 13), ('효과', 76), ('짜지', 2), ('와서', 46), ('ㅂ', 9), ('ㅐ송', 1), ('느려요', 10), ('큰', 64), ('사', 197), ('개미', 4), ('약', 11), ('이거', 54), ('환장', 1), ('죽', 11), ('는다고', 3), ('관심', 9), ('젤리', 5), ('랑', 74), ('섞', 3), ('발라진', 1), ('뜯', 40), ('새', 51), ('ㄱ', 36), ('극', 1), ('혐이네', 1), ('손톱', 10), ('깨져요', 3), ('20', 14), ('년', 30), ('쓴', 7), ('싸구려', 13), ('깍', 5), ('보다', 319), ('붕', 3), ('편함', 2), ('등', 20), ('쿠션', 22), ('해도', 30), ('바닥', 20), ('말캉말캉', 1), ('허리', 17), ('뜸', 1), ('팔', 23), ('걸', 72), ('이쪽', 1), ('딱딱', 18), ('역시', 35), ('어떤', 9), ('위치', 8), ('붙여', 8), ('놓', 54), ('아도', 24), ('머리', 28), ('안정', 7), ('받쳐', 3), ('못함', 4), ('돈', 55), ('아까', 7), ('움', 6), ('불편', 106), ('하나', 139), ('아깝', 14), ('발', 28), ('따스', 1), ('미', 10), ('따뜻', 16), ('원', 65), ('쩝', 3), ('봉지', 12), ('져서', 13), ('커서', 33), ('흘러', 4), ('내리', 8), ('ㅜㅜ', 86), ('통풍', 1), ('지금', 36), ('으니', 38), ('더우', 2), ('네여', 26), ('이쁜데', 6), ('아쉽', 74), ('건', 99), ('신선도', 3), ('젤', 14), ('중요', 5), ('한데', 43), ('오래', 78), ('걸려', 5), ('그런가', 10), ('아이스', 12), ('팩', 29), ('녹', 32), ('미지근', 3), ('해져서', 2), ('정말', 135), ('찝찝', 11), ('빠르', 190), ('써요', 21), ('문제', 45), ('심각', 2), ('자주', 26), ('폭', 8), ('이런', 49), ('간지', 1), ('라나', 2), ('뭐', 50), ('그동안', 5), ('프라인', 1), ('포스', 1), ('도록', 12), ('같이', 59), ('녀석', 3), ('보', 315), ('순간', 7), ('빨리', 38), ('산', 65), ('싶', 86), ('집니다', 5), ('불수', 1), ('연계', 1), ('산행', 1), ('려나', 3), ('친절', 32), ('답변', 8), ('내', 46), ('아까워', 8), ('휘', 10), ('플라스틱', 20), ('깨져', 3), ('향', 57), ('괜춘해요', 1), ('보완', 1), ('성', 29), ('해야', 62), ('뜨거운', 3), ('전달', 1), ('그릇', 5), ('아쉬워', 12), ('재질', 42), ('그래서', 26), ('그런', 32), ('가바', 1), ('여', 90), ('그래도', 54), ('기능', 13), ('충실', 1), ('볼', 17), ('넓이', 3), ('늘리', 1), ('특화', 1), ('그', 61), ('조금', 107), ('늘', 46), ('납니다', 20), ('자꾸', 25), ('예요', 77), ('곰팡', 1), ('핀', 7), ('썩', 12), ('무른', 3), ('많', 111), ('비싸', 46), ('더라도', 10), ('실제로', 9), ('실망', 73), ('늦', 53), ('박스', 63), ('찢어져서', 4), ('화', 10), ('장착', 10), ('방법', 5), ('친구', 30), ('근데', 48), ('마스크', 14), ('크기', 56), ('ㅠ', 131), ('왜', 57), ('굴러다니', 2), ('심히', 2), ('신랑', 13), ('이랑', 73), ('애', 21), ('니까요', 2), ('할게요', 18), ('~~^^', 12), ('♡', 7), ('색상', 80), ('평소', 12), ('55', 2), ('라지', 2), ('사이', 11), ('즌데', 2), ('밑', 16), ('가슴', 14), ('타이트', 4), ('해요', 260), ('적당', 41), ('그만한', 1), ('퀄리티', 23), ('빨', 23), ('봐서', 11), ('또', 120), ('남길', 3), ('깜짝', 8), ('조그맣', 1), ('차', 33), ('수박', 4), ('은데', 94), ('들어갔', 8), ('~!', 11), ('손잡이', 23), ('구멍', 30), ('들어가', 33), ('쑤셔박', 1), ('아네요', 1), ('허접', 18), ('짜', 36), ('물', 88), ('부어도', 3), ('누린내', 1), ('소음', 17), ('혹시나', 9), ('발가락', 5), ('신', 94), ('나머지', 9), ('상처', 5), ('날', 46), ('여행', 13), ('잠깐', 5), ('바닷가', 1), ('갈', 19), ('신고', 10), ('다니', 16), ('무리', 8), ('일', 141), ('엉망', 17), ('열려', 1), ('셌', 1), ('다음', 66), ('신경', 21), ('기호', 1), ('ㄷ', 53), ('쳐다', 2), ('ㅠㅠㅠ', 19), ('달기', 1), ('매콤', 6), ('키위', 2), ('소스', 16), ('느낄', 4), ('물엿', 1), ('쓸', 74), ('야자수', 1), ('시킨', 8), ('똑같', 23), ('완전히', 5), ('화분', 8), ('홈페이지', 1), ('사각형', 1), ('무늬', 5), ('아니', 129), ('배달', 8), ('양심', 2), ('장사', 2), ('!?', 1), ('다이소', 5), ('인형', 4), ('낫', 6), ('셀프', 4), ('도배지', 1), ('접착제', 7), ('줄', 94), ('분', 70), ('참고', 22), ('일본', 1), ('으엉', 1), ('양', 58), ('그래요', 27), ('모기향', 1), ('대신', 7), ('맛나', 19), ('됨', 12), ('주세요', 1), ('주세', 1), ('고소', 15), ('....', 23), ('약간', 27), ('진한', 2), ('녹차', 2), ('쌉쓰름한', 1), ('다이어트', 7), ('으려고', 18), ('주문', 280), ('건강', 16), ('폭신', 11), ('한편', 1), ('구요', 100), ('으', 17), ('찾', 31), ('행주', 1), ('설치', 71), ('그렇', 35), ('이사', 2), ('차지', 8), ('퇏습니다어', 1), ('발림', 3), ('실질', 1), ('팔꿈치', 1), ('무릎', 8), ('쪽', 32), ('쓰여서', 1), ('꾸준히', 15), ('달라지', 3), ('고리', 12), ('잠구', 1), ('헐거워', 4), ('바로', 64), ('떨어지', 32), ('이걸', 9), ('다는', 28), ('머', 10), ('죠', 48), ('한데요', 1), ('몸', 26), ('에서', 187), ('오래가', 6), ('빠름', 12), ('ㅣ', 13), ('순정', 3), ('지속력', 10), ('봐야', 17), ('주말', 6), ('식구', 4), ('모여서', 1), ('왔어요', 5), ('드디어', 1), ('스킨', 4), ('통도', 2), ('예쁘', 41), ('다영', 1), ('언니', 4), ('피부', 30), ('타입', 5), ('비슷', 13), ('출시', 3), ('부터', 35), ('최고', 39), ('촉촉', 25), ('쫀쫀', 5), ('정착', 1), ('할', 243), ('!!', 35), ('반품', 114), ('상의', 3), ('입히', 1), ('아이디어', 3), ('천', 29), ('으면', 109), ('어떤가', 1), ('얇', 73), ('몰랐', 8), ('만큼', 44), ('덜', 27), ('익', 12), ('토마토', 5), ('신선', 25), ('단맛', 4), ('아예', 11), ('그게', 11), ('설탕', 6), ('뿌려', 5), ('어야', 30), ('실', 31), ('베이지', 11), ('보단', 12), ('화이트', 11), ('가깝', 2), ('일반', 27), ('마크라메', 2), ('먼지', 33), ('생겨', 2), ('손가락', 9), ('접히', 4), ('원래', 33), ('틑어진건지', 1), ('볼트', 3), ('넉넉히', 4), ('케', 10), ('무게', 20), ('정확', 12), ('고무', 13), ('매일', 13), ('운동', 19), ('점', 33), ('베', 5), ('누워', 3), ('안감', 1), ('가위', 4), ('잘랐', 2), ('삐뚤빼뚤', 1), ('한두', 7), ('으니까', 8), ('천에', 1), ('본드', 7), ('벗겨졌', 3), ('그리고', 49), ('팬티', 21), ('늘어나', 8), ('오늘', 17), ('9', 11), ('월', 29), ('29', 3), ('유통', 22), ('기한', 20), ('까지', 84), ('냉동실', 5), ('넣', 103), ('구려', 2), ('중간', 17), ('.;', 1), ('방', 11), ('어깨끈', 2), ('불량품', 7), ('시간', 56), ('지나', 23), ('그것', 4), ('인대', 2), ('층', 3), ('끼우', 11), ('빡빡', 4), ('열', 28), ('속', 29), ('꽉', 13), ('찼', 2), ('겠죠', 3), ('인치', 9), ('알알', 1), ('깨져서', 18), ('생산', 5), ('작년', 9), ('겨울', 15), ('고요', 26), ('뚜', 4), ('지름', 1), ('표시', 8), ('된', 71), ('넓', 12), ('냄비', 9), ('나옵니다', 7), ('뻐르게잘왔는데', 1), ('붓', 3), ('핏', 19), ('대박', 15), ('사건', 1), ('껄', 5), ('짱', 28), ('느', 12), ('므느므', 1), ('뿜', 6), ('66', 8), ('입음', 3), ('흰색', 15), ('을걸', 1), ('통', 22), ('용기', 9), ('옴', 19), ('겨', 3), ('개선', 6), ('할꺼', 3), ('어서요', 3), ('폰', 7), ('튼튼', 67), ('흠집', 5), ('끊어질', 1), ('충격', 6), ('흡수', 8), ('접', 7), ('짱짱', 14), ('걱정', 33), ('스마트폰', 2), ('비추', 44), ('뒷', 6), ('꿈', 3), ('치', 31), ('걸이', 7), ('짧', 43), ('끈', 20), ('잘라야', 1), ('신발', 18), ('착용감', 10), ('변', 4), ('삼요', 1), ('김상태', 1), ('최상', 1), ('허술', 12), ('옷', 48), ('크', 104), ('앞', 38), ('덜렁', 4), ('들리', 2), ('튼', 4), ('이상', 58), ('둡니다', 4), ('똑바로', 3), ('돌', 5), ('바뀌', 3), ('닦', 36), ('줘도', 4), ('나무', 15), ('아용', 19), ('라벤', 1), ('다감', 1), ('무', 29), ('향도', 8), ('모래', 5), ('너무너무', 16), ('ㅋ', 52), ('용량', 7), ('엇', 10), ('떨어져', 13), ('나갈라', 1), ('쭈글', 1), ('해져', 1), ('돌아오', 1), ('게요', 20), ('블루', 9), ('누가', 7), ('보온', 2), ('냉', 5), ('마실', 1), ('컵', 13), ('주둥이', 1), ('둥근', 1), ('라인', 8), ('(', 21), ('덮', 9), ('필요', 48), ('닿', 14), ('인식', 8), ('다시', 84), ('보냈', 10), ('줘요', 4), ('세탁', 33), ('햇', 25), ('작아졌', 1), ('항상', 56), ('씨', 4), ('이죽', 1), ('잇', 55), ('어용', 26), ('커요', 23), ('ㅜ실외기가', 1), ('내장', 5), ('ㅜ큰편', 1), ('가격대', 9), ('헬멧', 3), ('마세요', 18), ('둘레', 2), ('조절', 33), ('다이얼', 1), ('고장나', 3), ('주의', 5), ('강력', 6), ('ㆍㆍ', 1), ('가벼운', 5), ('이하', 10), ('비싼', 16), ('색도', 10), ('쨍', 2), ('예뻐요', 42), ('판매자', 27), ('했어요', 36), ('할께요', 19), ('주변', 8), ('사람', 27), ('에게', 26), ('😉', 1), ('보정', 5), ('의미', 8), ('오', 114), ('씩', 31), ('꺼내', 7), ('간식', 10), ('틈틈히', 1), ('튀겨', 1), ('풀어지', 1), ('질기', 8), ('휠', 1), ('브', 9), ('러쉬', 5), ('다가', 95), ('망가져서', 6), ('미트', 1), ('붙', 44), ('미끄러워', 4), ('쿠나', 1), ('감성', 2), ('페인트', 4), ('성비', 16), ('야채', 6), ('쉬', 11), ('옆', 10), ('새요', 1), ('사료', 10), ('아유', 4), ('~~', 143), ('올려서', 5), ('소면', 1), ('압박', 4), ('85', 2), ('d', 3), ('숨', 4), ('맥히', 1), ('90', 5), ('c', 3), ('와이어', 2), ('갖', 4), ('발견', 3), ('여태', 1), ('본', 30), ('두께', 15), ('닥', 4), ('제목', 1), ('엠보싱', 2), ('앗', 17), ('지인', 9), ('한테', 31), ('할려고', 8), ('묵직', 1), ('사이조', 1), ('꽤', 8), ('큽니다', 9), ('드', 34), ('오토바이', 3), ('힘없', 2), ('커브', 1), ('틀수', 1), ('쏙', 5), ('자세', 3), ('응대', 9), ('고민', 23), ('없이', 78), ('질렀', 4), ('착용', 30), ('께요', 3), ('세', 34), ('척', 6), ('병원', 3), ('급하', 9), ('애기', 24), ('사레', 1), ('짭잘', 1), ('모든', 6), ('화장대', 2), ('삭', 1), ('져요', 18), ('10', 38), ('8', 20), ('불량', 54), ('제대로', 25), ('접지', 1), ('왼쪽', 6), ('상단', 3), ('떠요', 2), ('m', 8), ('높이', 21), ('떨궜', 1), ('더니', 66), ('깨지', 7), ('바꿨', 9), ('약해요', 12), ('얼굴', 20), ('조이', 6), ('답답', 7), ('부품', 7), ('작업', 5), ('원상', 1), ('복구', 2), ('용접', 2), ('빡', 4), ('져', 21), ('옷장', 4), ('깔끔', 104), ('해졌', 5), ('나옴', 5), ('방치', 10), ('뜯겨', 4), ('마다', 34), ('종이', 8), ('구겨지', 2), ('l', 7), ('라는', 17), ('할까', 6), ('잠시', 2), ('잠옷', 7), ('경험', 2), ('경우', 7), ('치수', 11), ('거의', 26), ('사실', 9), ('아침', 14), ('먹이', 9), ('저녁', 7), ('껌', 1), ('먹여', 5), ('그리', 9), ('니즈', 1), ('웜', 1), ('지스', 1), ('따가울', 1), ('엉덩이', 9), ('아픔', 4), ('걸로', 31), ('특별', 2), ('나눔', 1), ('갯', 4), ('긴', 98), ('밴드', 7), ('약하', 13), ('잡아당기', 1), ('끊', 7), ('애요', 3), ('묶', 4), ('혹시', 6), ('몰라', 4), ('여유', 10), ('몇', 61), ('가방', 25), ('마리', 23), ('됐', 35), ('꼭', 25), ('환불', 32), ('문', 21), ('사항', 5), ('단돈', 1), ('15000', 2), ('거짓말', 4), ('씀', 4), ('그닥', 15), ('세트', 9), ('이게', 29), ('내용', 9), ('표기', 7), ('정확히', 4), ('상하', 8), ('아쉬운', 7), ('등받이', 3), ('좁', 10), ('제때', 2), ('나갔', 7), ('선', 19), ('이음새', 3), ('려', 12), ('홍', 1), ('퀼', 1), ('리티', 1), ('써서', 6), ('두드러기', 3), ('베스트', 2), ('시켜요', 2), ('리터', 3), ('330', 2), ('미리', 18), ('휴대', 7), ('방광염', 1), ('땜시', 2), ('호도', 2), ('불안', 10), ('지경', 1), ('품질', 47), ('줘서', 9), ('높낮이', 4), ('뻑뻑', 8), ('간편', 20), ('조리', 4), ('손질', 5), ('십니다', 4), ('종종', 4), ('쪼여', 3), ('얼마', 9), ('피시방', 1), ('편합니다', 13), ('발등', 2), ('찟', 3), ('재봉', 3), ('불만족', 2), ('꿔', 1), ('매서', 1), ('렵니다', 6), ('스트리', 1), ('연두부', 1), ('시켜', 22), ('봣는데', 5), ('시키', 20), ('제작', 8), ('일부', 6), ('일일히', 3), ('cm', 7), ('높', 19), ('재작', 2), ('오매불망', 1), ('이것', 14), ('기다리', 7), ('건데도', 1), ('미스라', 1), ('짜증', 26), ('났', 14), ('아까워서', 7), ('짤라', 1), ('쵝오', 1), ('!!!!!!!!!!!!!', 1), ('품리', 1), ('재고', 8), ('찰떡', 5), ('니당', 9), ('너', 21), ('ㅓㅇ러ㅜ너ㅜ망도쇄료료료', 1), ('조립', 53), ('가구', 2), ('서랍장', 6), ('심해요', 6), ('명', 4), ('아무리', 14), ('봐도', 11), ('회색', 5), ('브라운', 9), ('헷갈리', 4), ('접착력', 14), ('착하', 5), ('그런데', 17), ('도움', 7), ('마음', 63), ('간단', 9), ('스럽', 55), ('킨', 2), ('톡', 5), ('상세', 5), ('설명', 16), ('수정', 8), ('부탁', 14), ('드렸', 24), ('읽', 3), ('으셨는지', 1), ('으나', 23), ('길래', 15), ('록스', 2), ('자체', 26), ('약해져서', 1), ('깨졌', 7), ('졌', 10), ('강하', 8), ('어떨지', 3), ('블', 5), ('루', 9), ('후', 69), ('예정', 16), ('노트북', 6), ('상판', 10), ('갈라지', 3), ('불룩', 1), ('튀어나와서', 2), (';;;', 5), ('싱싱', 19), ('염', 3), ('무슨', 23), ('랄까', 5), ('쓰레기', 19), ('쪼가리', 1), ('가지', 27), ('놀', 25), ('쥐', 6), ('~#', 1), ('숫', 1), ('구먼유', 1), ('간지럽', 4), ('다며', 3), ('즐겁', 1), ('웃', 3), ('으며', 5), ('씻', 13), ('적극', 15), ('부담', 12), ('원단', 18), ('으니깐', 1), ('편안', 8), ('자크', 2), ('에러', 2), ('본체', 2), ('닫히', 2), ('열려서', 3), ('인가', 12), ('답', 7), ('내용물', 17), ('4', 52), ('며', 37), ('해두', 2), ('잊어버리', 1), ('찜찜', 2), ('정품', 27), ('닌', 3), ('ㅅ', 33), ('털', 17), ('엄', 5), ('~~~~~~~', 2), ('청', 5), ('빠져요', 7), ('패드', 11), ('청소기', 4), ('돌리', 9), ('하얀', 3), ('시원', 29), ('비싼데', 3), ('딱히', 5), ('여기저기', 12), ('긁혀서', 1), ('검수', 16), ('이따위', 1), ('야', 38), ('맛난', 3), ('보이', 57), ('온지', 1), ('은박', 3), ('떨어졌', 9), ('내일', 4), ('써야', 18), ('수습', 2), ('마땅', 1), ('싸', 84), ('제겐', 1), ('ㆍ', 6), ('바느질', 9), ('음선', 1), ('덴', 1), ('터져', 5), ('일인용', 2), ('라지만', 3), ('상당히', 10), ('싼', 68), ('비지떡', 12), ('란', 8), ('랜턴', 1), ('조차', 3), ('성능', 16), ('k', 5), ('차량', 4), ('돼', 9), ('운전대', 1), ('걸림', 6), ('ㅠ분유를', 1), ('바', 13), ('꿧는데', 1), ('시끄러워서', 3), ('봤', 74), ('샇네요', 1), ('화력', 1), ('다리', 25), ('연결부', 2), ('신주', 1), ('인서', 1), ('나사', 13), ('기초', 4), ('홀', 1), ('체결', 1), ('않되', 2), ('문의', 11), ('그제야', 1), ('송장', 4), ('띄우', 1), ('~!!!!', 1), ('여러', 30), ('ㅡ가지', 1), ('오랜', 1), ('비교', 15), ('싹', 5), ('날아갔', 1), ('실제', 8), ('최대한', 4), ('최저가', 1), ('뿌듯', 1), ('그럼', 2), ('예전', 10), ('부직포', 6), ('양말', 16), ('금방', 25), ('닳', 2), ('벗겨지', 9), ('뭉쳐서', 3), ('거든요', 7), ('이건', 35), ('끼워', 9), ('층간', 2), ('긁', 3), ('힘', 19), ('흐리멍텅', 1), ('글고', 1), ('빳빳', 3), ('돼서', 9), ('허벅지', 11), ('양쪽', 8), ('뒷면', 9), ('보풀', 11), ('일어났', 1), ('프리', 3), ('xl', 5), ('동안', 15), ('습기', 3), ('차서', 1), ('퇴근', 1), ('떼', 9), ('유두', 1), ('띵띵', 1), ('불', 29), ('건가요', 12), ('오염', 7), ('묻', 31), ('벨', 1), ('챠', 3), ('처', 1), ('탸커어ㅡ라차태탳차ㅡ차캐캐챠차스ㅡㄱ다ㅐ배밴', 1), ('차타', 1), ('ㅏ라프프타타루추차ㅏㅌ탙나느ㅡ으라태는ㄴㅈㄷㄹㅎ', 1), ('택배', 46), ('인터넷', 13), ('그러', 24), ('파김치', 2), ('골파', 1), ('맵', 11), ('평범', 3), ('저희', 17), ('동네', 3), ('개털', 1), ('됬', 2), ('다행히', 2), ('앞머리', 2), ('얼른', 4), ('기르', 2), ('짜를', 1), ('래요', 5), ('폴리', 2), ('는데요', 18), ('홈', 3), ('패킹', 4), ('공간', 10), ('음식물', 5), ('찌꺼기', 3), ('낑기', 1), ('겄', 3), ('단', 16), ('편해요', 38), ('어린이집', 2), ('이불', 15), ('ㅠㅠㅠ색상도', 1), ('심', 8), ('아파요', 11), ('펌핑', 3), ('고장났', 3), ('하드', 2), ('장점', 4), ('빼', 35), ('낄', 5), ('광고', 13), ('대로', 17), ('변색', 1), ('촉감', 8), ('려구요', 31), ('울', 16), ('멍멍이', 1), ('두어', 2), ('스파크', 1), ('튀', 5), ('낱개', 3), ('강매', 1), ('당하', 2), ('아닌가요', 4), ('세상', 4), ('이렇게', 36), ('바늘', 3), ('처음', 67), ('포기', 13), ('쉬우면', 1), ('쉬운', 3), ('댕기', 2), ('지루', 2), ('두피', 6), ('으시', 13), ('셔서', 45), ('이미', 13), ('개봉', 12), ('2015', 2), ('봉후', 1), ('2020', 1), ('라는데', 1), ('그건', 6), ('밀봉', 6), ('입구', 6), ('씰', 1), ('오픈', 1), ('게다가', 2), ('질질', 4), ('셈', 2), ('프린팅', 2), ('흐려서', 2), ('리뷰', 30), ('근거', 1), ('뼈', 3), ('.;;;', 2), ('스러워', 25), ('전체', 18), ('언제나', 4), ('빨라서', 28), ('똑딱이', 1), ('자마자', 44), ('채워', 1), ('다요', 1), ('금', 3), ('간', 13), ('예민', 8), ('고려', 4), ('ㅜㅠㅜ', 2), ('라도', 18), ('줘야', 16), ('여전히', 4), ('어디', 17), ('거기', 3), ('상담원', 2), ('as', 3), ('개불', 1), ('인덕션', 2), ('편리', 18), ('브랜드', 6), ('하이', 1), ('서포트', 1), ('브라', 7), ('탑', 3), ('조여서', 3), ('벗', 4), ('지퍼', 13), ('으신', 7), ('베이스', 2), ('립', 8), ('크레파스', 1), ('발려', 2), ('어려웠', 4), ('젭', 1), ('품', 7), ('추가', 35), ('영양제', 6), ('지독', 2), ('려는데', 3), ('기절', 1), ('저번', 16), ('소중', 4), ('짜리', 17), ('극소', 2), ('소', 6), ('대부분', 1), ('점점', 5), ('여기', 51), ('이러', 5), ('뻐요ㅠ', 1), ('허', 4), ('퍼', 3), ('ㅠㅓㅎ어호ㅓㅠ호하', 1), ('처리', 40), ('어제', 5), ('아버지', 5), ('떠', 4), ('꼴', 2), ('싫', 14), ('십', 7), ('기다렸', 6), ('나을', 3), ('우수', 4), ('가죽', 10), ('부드러운', 4), ('햄', 8), ('싀졎ㅂㅌㄱ', 1), ('단백질', 1), ('보충', 1), ('신상', 1), ('아님', 11), ('가을', 2), ('용임', 1), ('두꺼운', 9), ('바지', 22), ('여름것', 1), ('올리브', 4), ('영', 20), ('득템', 4), ('뚝뚝', 4), ('속상했', 2), ('신통방통', 1), ('격리', 1), ('가정', 2), ('필수', 8), ('아이템', 5), ('회전력', 1), ('욕심', 1), ('부려', 1), ('떡', 11), ('각도', 3), ('유용', 14), ('즛', 1), ('여서', 14), ('소리', 31), ('어색', 2), ('컸', 4), ('지요', 6), ('매우', 45), ('기뻐요', 2), ('파랗', 1), (';;', 23), ('테이', 1), ('퍼드', 1), ('밀리', 6), ('그래두', 1), ('흐', 4), ('거려요', 5), ('결정', 3), ('혼자', 19), ('끼', 21), ('산지', 3), ('끊어져버렸', 1), ('불만', 10), ('끈적', 2), ('흘려', 1), ('내려서', 2), ('저온', 1), ('창고', 4), ('덕분', 7), ('원목', 8), ('교구', 1), ('뻐져', 1), ('봅니다', 12), ('직원', 4), ('통해', 3), ('대한', 7), ('안내', 5), ('가로', 6), ('세로', 5), ('암막', 7), ('표현', 4), ('과장', 2), ('틀림없', 1), ('구석', 2), ('쳐박혀', 1), ('처지', 1), ('어울려요', 7), ('버림', 9), ('.....,..', 1), ('빠졌', 5), ('!^^', 1), ('엔', 70), ('봐요', 30), ('업무', 2), ('능력', 1), ('떨어집니다', 8), ('성인', 7), ('남성', 2), ('저항', 1), ('무난', 18), ('놀랐', 13), ('어린이', 1), ('칫솔', 7), ('적혀', 4), ('유치원', 2), ('될', 38), ('발리', 2), ('유분', 2), ('보여요', 16), ('색', 59), ('빗', 5), ('빨래', 5), ('약해', 6), ('베어먹', 1), ('접착', 7), ('삐뚤', 3), ('조임', 2), ('개별', 6), ('분실', 1), ('모달', 1), ('순면', 2), ('편해서', 6), ('데이터', 1), ('이용', 23), ('어머', 1), ('커', 12), ('조아', 36), ('키', 31), ('184', 1), ('책', 4), ('편했', 3), ('설명서', 22), ('당황', 12), ('박음질', 9), ('첫날', 4), ('금액', 10), ('보통', 10), ('수면', 3), ('기스', 18), ('해외', 5), ('라서', 47), ('느리', 15), ('개인', 7), ('왓', 16), ('꽃게', 1), ('ㅠㅋㅋ양도', 1), ('부작용', 1), ('바짝바짝', 1), ('마르', 4), ('버려야', 2), ('엣', 1), ('ㆍㄱ', 1), ('덜컹', 1), ('거리', 13), ('존재', 2), ('요리', 11), ('방식', 1), ('수백', 1), ('글', 13), ('는데도', 1), ('비려', 6), ('결국', 12), ('ㅠㅠ제', 1), ('취향', 3), ('아닌가', 7), ('빠집니다', 6), ('ㅈ', 33), ('블랙', 35), ('을까', 17), ('다면', 15), ('사전', 3), ('옵션', 7), ('기사', 21), ('구르마', 1), ('집안', 2), ('막무가내', 1), ('끌', 5), ('들어오', 2), ('조립도', 4), ('끼웠', 3), ('뺏', 2), ('삐뚫', 1), ('뚫', 11), ('스', 23), ('쥴', 3), ('맞춰야만', 1), ('끝', 23), ('내내', 1), ('......', 5), ('기름', 11), ('칠', 10), ('느라', 6), ('고생', 7), ('물티슈', 5), ('치킨', 2), ('타올', 4), ('헝겁', 1), ('동원', 2), ('닦이', 5), ('반나절', 3), ('베란다', 10), ('내놔도', 1), ('그대로', 25), ('진주', 4), ('뾰족', 3), ('귀', 11), ('놔뒀', 1), ('숯가루', 1), ('로옴', 1), ('특대', 4), ('무엇', 13), ('상한', 4), ('선별', 1), ('참', 36), ('가습기', 1), ('작동', 16), ('훅', 2), ('뿌', 7), ('앵이', 1), ('꾸밀', 1), ('편해', 5), ('발생', 4), ('터보', 1), ('라이터', 2), ('여자', 14), ('티', 23), ('듯이', 5), ('뽕', 11), ('딥', 2), ('맨투맨', 1), ('어도', 41), ('티나', 5), ('던데', 17), ('기지개', 1), ('피', 13), ('난리', 5), ('왤케', 3), ('은지', 13), ('설마', 3), ('댓', 2), ('삭제', 1), ('러', 22), ('빠져서', 14), ('뒤쪽', 4), ('마', 9), ('그거', 7), ('장거리', 1), ('운전', 1), ('받침', 7), ('므로', 1), ('검', 16), ('골', 3), ('쵸', 1), ('아작', 1), ('홍시', 1), ('농군', 1), ('자식', 1), ('아닙니다', 6), ('못해서', 5), ('댓글', 4), ('는데두', 1), ('이리', 6), ('짠지', 1), ('헉', 1), ('이뻐', 7), ('똑같이', 2), ('으스러져', 1), ('6', 22), ('막상', 4), ('18', 6), ('성질난', 1), (';', 15), ('깨', 6), ('짐', 16), ('방지', 11), ('위해서', 6), ('뽁뽁', 3), ('테이핑', 2), ('가로세로', 1), ('바꾸', 9), ('잖', 3), ('징', 1), ('헤드폰', 2), ('중국', 9), ('ㅡㅡ역시', 1), ('별루', 32), ('놈', 2), ('언제', 6), ('겟', 25), ('쥬', 2), ('바코드', 1), ('인쇄', 2), ('움직이', 6), ('차체', 1), ('부러져', 4), ('.....', 6), ('곱창', 7), ('마저', 3), ('식감', 7), ('ㅇ네요', 2), ('조심', 10), ('유리', 21), ('사기', 3), ('지기', 1), ('대충', 14), ('조각', 2), ('다칠', 4), ('위험', 4), ('신문지', 2), ('조', 18), ('주심', 2), ('고급', 23), ('에휴', 5), ('이케아', 2), ('제일', 21), ('이마', 2), ('아픕니다', 2), ('내림', 1), ('딱한', 1), ('깔려', 1), ('폼', 4), ('증정', 1), ('잡곡', 3), ('캔', 2), ('황', 1), ('잣', 2), ('반해서', 1), ('싸이', 6), ('즈', 13), ('덜한', 3), ('확', 9), ('줄어드', 3), ('버립니다', 2), ('무거운', 10), ('소재', 18), ('모양', 26), ('먀', 1), ('든든', 1), ('걸리', 21), ('돌아다니', 2), ('도대체', 3), ('각', 5), ('한다는', 2), ('으신가', 1), ('로얄', 1), ('성분', 5), ('바꿔', 5), ('냥', 8), ('제주도', 1), ('발송지', 1), ('지역', 3), ('따로', 18), ('드릴게요', 1), ('멋지', 1), ('ㅎㅎㅎ', 18), ('신축성', 9), ('쉽', 39), ('열심히', 6), ('는대요', 2), ('달라진', 3), ('아파', 2), ('아파하', 1), ('가려워하', 1), ('헝', 1), ('어여', 15), ('질까', 2), ('대', 35), ('차도', 1), ('속상해요', 4), ('허로', 1), ('숩', 3), ('딩', 6), ('미흡', 2), ('까', 13), ('시안', 2), ('접촉면', 1), ('매끄럽', 5), ('바람', 24), ('빠짐', 7), ('아여', 3), ('쿄', 2), ('백탁', 2), ('생파', 1), ('겸', 5), ('홈파티', 1), ('꾸며', 1), ('니까', 37), ('~!!', 5), ('부', 10), ('졌어요', 6), ('한쪽', 14), ('치우쳐져', 1), ('해봐도', 1), ('저렇', 4), ('둘', 15), ('나중', 5), ('해야지', 5), ('미루', 2), ('여러모로', 3), ('도마', 1), ('예뻐', 5), ('팬', 3), ('색대', 1), ('발색', 8), ('돼요', 7), ('붉', 3), ('올라와', 1), ('요연', 1), ('보라', 1), ('블러', 2), ('셔', 9), ('깔', 13), ('낚시', 9), ('낭비', 6), ('ㆍㅍ', 1), ('ㆍㄴ', 1), ('북', 2), ('ㆍㅂㄴㆍㄷㅂㄷㄴㄱㄷㅂㄷㄱㄷㆍㄱㄷ', 1), ('쓸게요', 3), ('압', 2), ('의사', 23), ('확실', 6), ('떨어짐', 5), ('상상', 3), ('줄때', 1), ('냠냠', 1), ('딸기', 2), ('복숭아', 1), ('산딸기', 1), ('귀여워', 12), ('가볍', 33), ('보임', 7), ('문신', 1), ('번창', 19), ('주일', 24), ('가까이', 6), ('전구', 3), ('누락', 8), ('쁩니다', 4), ('사고', 9), ('더라고요', 7), ('펜', 5), ('기장', 3), ('기모', 4), ('오버', 5), ('어깨', 11), ('수선', 3), ('색감', 13), ('드러운', 1), ('모아서', 1), ('실타래', 2), ('만드셨', 2), ('이어진', 1), ('갈래', 1), ('값', 14), ('실력', 1), ('연습', 4), ('뜨', 11), ('아까운', 2), ('당연히', 5), ('줄어들', 3), ('걸린', 5), ('앞면', 3), ('까진', 3), ('몇몇', 1), ('단점', 5), ('기간', 17), ('스크래치', 7), ('등등', 2), ('틀린', 3), ('컴팩트', 1), ('꽂', 8), ('끼워야', 1), ('보름', 3), ('병아리', 1), ('~~!', 4), ('자라', 3), ('으네', 4), ('괜히', 11), ('삿', 17), ('수동', 3), ('디지털', 1), ('캘리퍼스', 1), ('미스', 3), ('토요', 1), ('물기', 6), ('였으면', 3), ('멍', 4), ('알록달록', 1), ('지난번', 9), ('아들', 14), ('얼마나', 3), ('쎄', 2), ('돌려야지', 1), ('??', 8), ('공구', 6), ('유', 3), ('ㅓ', 3), ('ㅕ어놔태눈', 1), ('쌀', 9), ('튀밥', 1), ('좋아하', 6), ('샘플', 3), ('본품', 3), ('어두워', 3), ('뻣뻣', 4), ('씁쓸', 1), ('라구요', 2), ('어떻게', 15), ('새워', 1), ('찌그려', 1), ('가영', 1), ('.;;', 3), ('려다', 10), ('급', 12), ('걍씀', 1), ('두껍', 8), ('간절', 1), ('풀', 8), ('씻겼', 1), ('.......', 2), ('균형', 3), ('흔들거리', 1), ('번거로워', 1), ('듬성듬성', 1), ('분포', 1), ('퉁', 1), ('풍', 4), ('버려서', 4), ('절', 4), ('반디', 1), ('꺼야', 1), ('상관없', 1), ('화장', 8), ('실내등', 2), ('트렁크', 2), ('번호판', 1), ('컨버스', 1), ('고르', 5), ('됏어요', 1), ('냉온', 1), ('주머니', 4), ('보온병', 1), ('눕히', 1), ('세워서', 1), ('파인애플', 1), ('돕', 1), ('ㅠㅝ', 1), ('죰뵵', 1), ('ㄹ', 3), ('ㅇㄴ', 3), ('혼', 2), ('ㅓㄴ', 1), ('ㅗ뉴', 1), ('ㅗㄴ', 1), ('슏ㄵㅁㅁ융ㄴㅋㅍㄴㅋㄿㄵㄷㅁㄱㅍㅇㅋㄴㅇㄸㄱㅍ', 1), ('결제', 8), ('뒤', 23), ('분명', 3), ('습니까', 2), ('판매', 24), ('잖아요', 1), ('점보', 1), ('롤', 2), ('300', 4), ('휴지', 8), ('생겨서', 3), ('혹', 1), ('으세요', 2), ('비치', 3), ('시스루', 1), ('아웃백', 1), ('양껏', 1), ('괜찬네요', 1), ('어어어엉', 1), ('로러', 1), ('로로', 2), ('달리', 2), ('싸서', 2), ('그런가요', 3), ('엄청난', 2), ('가끔', 7), ('보여', 4), ('가져요', 1), ('그때', 3), ('셔요', 1), ('주인', 1), ('앞발', 1), ('누르', 6), ('던지', 6), ('구성', 29), ('더군요', 9), ('발향', 1), ('멸치', 1), ('심이', 2), ('^_', 1), ('깎', 3), ('마지막', 3), ('아이스크림', 2), ('워', 5), ('파워에이드', 1), ('기본', 14), ('별도', 5), ('후기', 36), ('다이어리', 2), ('섹션', 1), ('나누', 2), ('거나', 10), ('휘어지', 3), ('아래쪽', 3), ('코드', 7), ('부숴', 1), ('당장', 5), ('에어컨', 4), ('비틀', 1), ('꼽', 3), ('출고', 3), ('선반', 3), ('와트', 1), ('led', 4), ('꼈', 2), ('간접', 1), ('반사', 2), ('방안', 2), ('분위기', 5), ('훈훈', 2), ('습니', 4), ('드려요', 11), ('부족', 18), ('이제야', 1), ('펼쳐', 2), ('주소', 4), ('물품', 5), ('의해', 1), ('만들', 37), ('신다고', 3), ('상황', 5), ('현미', 2), ('찹쌀', 1), ('흑미', 1), ('기타', 1), ('콩', 5), ('괘', 1), ('백미', 2), ('때문', 32), ('닥터지', 1), ('인생', 3), ('템', 5), ('다르', 29), ('욕조', 3), ('채울', 1), ('뜨끈', 2), ('나온다고', 1), ('???', 4), ('과자', 7), ('마니', 7), ('부서져', 4), ('ㅠ롱스틱인데ㅠㅠ배송에', 1), ('펄펄', 1), ('끓', 2), ('식', 14), ('조분', 1), ('욤', 10), ('낭', 4), ('~~~~~~~^^\"', 1), ('활용', 8), ('구운', 3), ('쉐이퍼', 1), ('표면', 7), ('일반인', 2), ('.,.', 2), ('샵', 1), ('수분', 9), ('가진', 2), ('크림', 6), ('굉장히', 15), ('건조', 11), ('발라야', 3), ('닥터', 1), ('젖병', 4), ('ㅜ저희애기는잘안맞네요ㅜ', 1), ('아보카도', 1), ('덮밥', 1), ('잘사', 5), ('재밌', 2), ('사장', 7), ('~^^', 34), ('은근히', 1), ('려면', 8), ('개당', 1), ('비싼게', 2), ('회', 10), ('장갑', 5), ('착한', 2), ('쟁여', 3), ('버릴', 9), ('필터', 9), ('뜹니다', 2), ('예약', 1), ('취소', 9), ('돌려받', 1), ('ㅡㅁ', 1), ('근무', 2), ('구두', 5), ('아파서', 7), ('화장실', 6), ('눈물', 3), ('흘렸', 2), ('난리나', 1), ('아선', 1), ('설', 1), ('무섭', 2), ('아이폰', 3), ('연결', 25), ('쭉', 5), ('흘러요', 1), ('케이블', 6), ('후회', 19), ('착해서', 2), ('요새', 4), ('제조', 7), ('일자', 10), ('려니', 6), ('성의', 5), ('뭉퉁', 2), ('튀어나온', 3), ('스티커', 12), ('시켜서', 7), ('나온', 3), ('아야죠', 1), ('판', 13), ('펴', 6), ('내려올', 1), ('마리카', 1), ('락', 1), ('긁히', 1), ('15', 4), ('000', 2), ('매직', 5), ('왠만', 2), ('500', 10), ('모자랄', 1), ('흠잡', 1), ('슴', 3), ('사세요', 20), ('제거', 24), ('위생', 2), ('특이', 1), ('매연', 1), ('들어와요', 1), ('종일', 6), ('서서', 1), ('밤', 16), ('탈', 4), ('부착', 9), ('~~~', 29), ('박살나', 4), ('범벅', 3), ('어렸', 1), ('백화점', 3), ('첨', 16), ('께', 9), ('지저분', 7), ('눈떨림', 1), ('덜해졌', 1), ('카시트', 1), ('리퍼', 3), ('할인', 12), ('찾아볼', 1), ('수영복', 2), ('디피', 1), ('먹일', 4), ('욬ㅋ', 1), ('캡', 13), ('두꺼워서', 5), ('더울', 2), ('사업', 2), ('답니다', 7), ('저냥', 5), ('샀으면', 3), ('뻔', 18), ('뽑', 6), ('자동', 4), ('내부', 5), ('젖', 9), ('꺼져서', 1), ('초고속', 1), ('충전', 31), ('집들이', 6), ('향료', 1), ('귀엽', 14), ('아닌데', 6), ('토막', 2), ('에프', 3), ('❤', 1), ('미끄러지', 9), ('돌기', 2), ('시원시원', 1), ('.,', 2), ('샴푸', 6), ('헹구', 2), ('빗질', 2), ('리무', 1), ('버', 6), ('용도', 9), ('송진', 2), ('도장', 5), ('지우', 2), ('탁월', 1), ('발휘', 2), ('광택', 2), ('어야지', 3), ('창피', 1), ('냅킨', 2), ('한동안', 3), ('오래오래', 1), ('반듯', 1), ('구겨져', 4), ('깨이', 1), ('쓰래', 1), ('기통', 2), ('직진', 1), ('향기', 4), ('지속', 4), ('선택', 9), ('번호', 3), ('헷갈릴', 1), ('머릿속', 1), ('가렵', 3), ('가려움', 1), ('각질', 7), ('생기', 15), ('값어치', 1), ('ㅜㄴ', 1), ('190', 1), ('ml', 4), ('고객', 10), ('센터', 8), ('전화', 26), ('불친절', 9), ('네이비', 7), ('쫌', 10), ('에센스', 2), ('시트', 7), ('브이', 1), ('차바퀴', 1), ('깔린', 1), ('더러운', 2), ('묻혀', 1), ('나가', 10), ('으려고요', 2), ('야광', 1), ('날림', 3), ('봉돌', 1), ('천정', 1), ('피스', 4), ('동봉', 5), ('아무것', 4), ('준비', 7), ('들어갈', 3), ('̆̈', 2), ('께서', 9), ('하나하나', 2), ('알려', 7), ('😊', 2), ('너무나', 7), ('ㅜㅜ참고민입니다', 1), ('가로길이', 1), ('여야', 1), ('뒤집힐', 1), ('동그랗', 1), ('그린', 2), ('완충', 1), ('꺼져', 1), ('ᆢ껌두괜찮아요ᆢᆢ전두번째구입입니다', 1), ('오프라인', 4), ('매장', 10), ('40', 7), ('게여', 3), ('경비실', 3), ('별점', 4), ('다를까', 1), ('정상', 4), ('건들건들', 1), ('건들', 1), ('하하', 3), ('매', 12), ('덥', 3), ('핑크', 15), ('고고', 2), ('125', 1), ('꽂히', 1), ('미끄러짐', 1), ('껍지', 2), ('중형', 3), ('대형', 4), ('두툼', 7), ('키보드', 2), ('평평', 3), ('들뜸', 1), ('덜컹거리', 1), ('찍혀', 1), ('수평', 6), ('거슬려', 1), ('거르', 1), ('버려요', 1), ('합리', 2), ('앞부분', 3), ('이뻐서', 6), ('레이스', 1), ('이루어진', 1), ('벌떡벌떡', 1), ('뒷부분', 4), ('클립', 2), ('채워도', 1), ('헐', 5), ('자르', 5), ('쪼', 2), ('리', 7), ('다녀요', 2), ('모델', 8), ('보였', 6), ('쉴', 1), ('움직여서', 1), ('막히', 2), ('새우', 10), ('비린내', 4), ('~^^;;', 1), ('귀걸이', 4), ('부러져서', 3), ('귤', 1), ('터진', 4), ('이해', 5), ('쓰러짐', 1), ('튜브', 6), ('반응', 4), ('제각각', 4), ('더럽', 6), ('매트', 11), ('사이사이', 1), ('휴', 10), ('느림', 12), ('여행가', 5), ('공기', 9), ('타이트한', 1), ('배란', 1), ('듯해요', 2), ('어려움', 4), ('1200', 1), ('30', 9), ('걸렸', 19), ('부들부들', 8), ('쫘악', 1), ('중앙', 3), ('우뚝', 1), ('세워', 1), ('아무', 13), ('소용', 2), ('할까요', 2), ('흙', 2), ('데일리', 7), ('캡슐', 1), ('챙겨', 8), ('남자', 12), ('그곳', 1), ('당연', 4), ('흘러내려', 1), ('........', 2), ('청정', 1), ('세기', 1), ('강할', 1), ('숙', 1), ('수건', 2), ('탈탈', 1), ('맑', 2), ('센서', 4), ('강화', 2), ('정화', 1), ('전기', 7), ('요금', 1), ('나간다고', 1), ('못했', 9), ('세일', 2), ('맛보', 2), ('과일', 5), ('유격', 3), ('조절기', 2), ('보낼', 1), ('휘어져', 3), ('보드라움', 1), ('화이트로', 1), ('누런빛', 1), ('아이보리', 3), ('거치', 3), ('타사', 4), ('팁', 3), ('두꺼워', 6), ('떨어져요', 12), ('슬리퍼', 3), ('조심히', 2), ('다녀야', 2), ('부딪히', 1), ('떨어질까봐', 2), ('앰', 1), ('플', 5), ('트리트', 2), ('먼', 4), ('찢어질', 1), ('잼', 5), ('성품', 1), ('알차', 2), ('170', 3), ('올라가', 8), ('참조', 1), ('꼬맹이', 1), ('맨', 4), ('왔다갔다', 2), ('아프', 11), ('생', 4), ('겻', 2), ('만져', 2), ('쩔', 1), ('만진', 1), ('지네', 1), ('감자', 3), ('단단', 12), ('씨감자', 1), ('직전', 1), ('부스러진', 1), ('패키지', 3), ('32', 5), ('남겼', 3), ('라네요', 1), ('단추', 1), ('부실', 11), ('열려요', 2), ('150', 2), ('모니터', 1), ('흔들려', 4), ('기름지', 1), ('오지', 2), ('기름짐', 1), ('얼룩지', 1), ('온열', 1), ('찜질', 1), ('니깐', 9), ('어려서', 2), ('유아', 1), ('거뜬히', 1), ('아늑', 2), ('장난감', 11), ('놔두', 1), ('회사', 9), ('렷', 5), ('빵꾸', 1), ('따당', 1), ('고추기름', 1), ('강했', 2), ('느껴', 6), ('한국', 5), ('흐물흐물', 7), ('!!!!', 4), ('리빙', 1), ('고양이', 7), ('투명', 14), ('노랑', 2), ('약국', 2), ('가열', 1), ('우유', 7), ('코팅', 3), ('켯', 2), ('테스트', 7), ('부모', 10), ('다고요', 1), ('선인장', 1), ('토너', 3), ('삐그덕', 2), ('창문', 1), ('놔도', 4), ('마녀', 1), ('공장', 2), ('클렌징', 2), ('오일', 3), ('궁금', 4), ('맿', 1), ('세정력', 5), ('석유', 3), ('문지르', 1), ('대응', 6), ('노란색', 1), ('방울', 2), ('매달', 3), ('잘라져', 1), ('부턴', 5), ('어쨋든', 1), ('수리', 2), ('킷', 1), ('약한', 8), ('험', 1), ('계란', 9), ('갈치', 2), ('굽', 7), ('연기', 3), ('오만상', 1), ('화생방', 1), ('후라이팬', 4), ('익히', 2), ('매워서', 2), ('배탈', 1), ('내려가', 5), ('껴서', 4), ('유명', 4), ('타민', 1), ('귀퉁이', 1), ('군데', 10), ('움직임', 1), ('여름철', 2), ('아래', 2), ('화사', 3), ('포한', 1), ('파우', 3), ('물거품', 1), ('잘나', 5), ('머리카락', 4), ('공주', 1), ('압박감', 2), ('심합니다', 2), ('입지', 4), ('세탁소', 1), ('올린', 2), ('번거롭', 3), ('으론', 4), ('그립', 7), ('떠나', 1), ('갑자기', 6), ('된다고', 9), ('착불', 2), ('됫다', 2), ('시장', 6), ('변해요', 1), ('부서져서', 4), ('선도', 1), ('화장지', 1), ('램', 1), ('박', 8), ('못지않', 2), ('그럭저럭', 11), ('무타', 2), ('공', 10), ('타', 18), ('합니다만', 2), ('감안', 4), ('해야죠', 2), ('지하', 1), ('주차장', 2), ('시야', 1), ('가리', 3), ('빠릅니다', 11), ('머리숱', 1), ('풍성', 2), ('감싸', 1), ('ㅡㅡ듬성듬성', 1), ('꼼꼼', 24), ('물맛', 2), ('콤팩트', 1), ('겉표지', 2), ('표지', 1), ('바랬', 1), ('묵', 6), ('뺐', 3), ('모', 8), ('둡', 1), ('딘', 4), ('긋', 1), ('이갈이', 1), ('하락', 1), ('에용', 3), ('츄', 2), ('르', 2), ('먹여서', 2), ('색다른', 1), ('썻는데', 2), ('ㅇ샀을때는', 1), ('부피', 3), ('레버', 1), ('망가졌', 3), ('내성', 1), ('발톱', 2), ('자를', 3), ('절삭력', 1), ('익숙', 3), ('화물', 2), ('돌출', 3), ('귀한', 2), ('흔', 1), ('되게', 4), ('설계', 1), ('양면테이프', 2), ('아쉬움', 7), ('터져서', 7), ('세탁기', 2), ('청소', 14), ('기존', 12), ('어머니', 4), ('가져다', 1), ('드려야', 2), ('러지', 2), ('심해서', 9), ('자극', 14), ('작업복', 2), ('으셨어요', 1), ('~~!!', 1), ('밑부분', 3), ('비닐봉지', 3), ('과정', 8), ('파손', 17), ('급해서', 4), ('붙여서', 1), ('받침대', 5), ('장난', 8), ('할거', 1), ('전하', 11), ('깨진', 7), ('왕란', 1), ('찍', 16), ('탓', 5), ('올라오', 7), ('목', 6), ('코난', 1), ('~~~~~~', 1), ('77', 3), ('하의', 2), ('켰', 2), ('왔음', 4), ('국물', 7), ('우러나', 1), ('멱국', 1), ('끓여', 3), ('숟갈', 1), ('욧', 3), ('엊', 2), ('양면', 3), ('테이프', 12), ('적당히', 10), ('뺀다고', 1), ('수선비', 3), ('흠', 11), ('뷰러', 1), ('고수', 2), ('속눈썹', 2), ('겁나', 5), ('듬', 5), ('가리개', 2), ('사서', 1), ('꼬맸', 1), ('찐득이', 1), ('사사', 1), ('혼합', 2), ('가랑이', 1), ('그랜저', 1), ('hg', 1), ('스펀지', 3), ('내요', 15), ('할껄', 2), ('계란찜', 1), ('된장', 2), ('찌게', 1), ('인용', 2), ('써도', 3), ('이만', 5), ('전부', 4), ('기편', 1), ('돌아가', 2), ('주차', 1), ('발진', 1), ('골프', 1), ('조끼', 1), ('앏아서', 1), ('요즘', 11), ('날씨', 5), ('추울', 2), ('담양', 1), ('농협', 1), ('삽니다', 4), ('복용', 4), ('대용량', 3), ('방수', 8), ('곤약', 3), ('인분', 3), ('작음', 6), ('상담', 7), ('차분', 1), ('쓰리', 1), ('엠', 2), ('껀', 5), ('보장', 2), ('금요일', 4), ('오후', 4), ('토요일', 3), ('로켓', 1), ('로즈', 3), ('골드', 7), ('백색', 3), ('매번', 27), ('식품', 3), ('종류', 10), ('초보', 11), ('날씬', 2), ('위해', 7), ('탄탄', 5), ('빨랐', 26), ('미묘', 1), ('쇠', 4), ('그물망', 1), ('장력', 1), ('모여', 2), ('ㅠㅜ', 5), ('물망', 1), ('빨라', 6), ('시계', 6), ('배터리', 5), ('셀', 4), ('닫', 9), ('장비', 1), ('문자', 8), ('송송', 1), ('는지라', 2), ('이곳', 6), ('재품', 6), ('예쁜', 13), ('맥스', 3), ('정', 12), ('250', 2), ('245', 1), ('39', 1), ('작지', 1), ('쮸', 2), ('먼저', 7), ('데이브레이크', 1), ('형광', 2), ('..??', 1), ('마시', 16), ('유기농', 4), ('차여서', 1), ('마십니다', 1), ('외출', 4), ('쯤', 6), ('식탁', 3), ('올리', 11), ('미끄러질', 1), ('판단', 1), ('동일', 7), ('또한', 6), ('비등', 1), ('멀쩡', 2), ('반년', 2), ('매트리스', 4), ('어려운', 3), ('가루', 9), ('가득', 6), ('나무판', 1), ('건조기', 3), ('수고', 9), ('각인', 4), ('흐릿', 1), ('벗겨질', 2), ('드려도', 1), ('..^^', 1), ('틈', 1), ('걸쳐', 2), ('현관', 1), ('전실', 1), ('만지', 5), ('깃털', 1), ('찌르', 2), ('만일', 1), ('깆', 1), ('빋', 2), ('ㅇㄷ', 6), ('ㅆㄱ', 1), ('싲싲', 1), ('시시시', 1), ('힛', 1), ('히히히', 1), ('힞싲시히ㅡㅅㄱㅅㄷㅂㄱㅅㄷㅂㄱㅅㄷ싯ㄷㅎㄱ', 1), ('다닐', 3), ('화면', 13), ('생각없이', 2), ('셔야죠', 3), ('완충제', 2), ('스탠드', 2), ('레고', 2), ('정리함', 1), ('파일', 5), ('핸들', 4), ('깨끗', 16), ('무거웠', 3), ('가벼워서', 5), ('전선', 1), ('햐얀', 1), ('물질', 4), ('웃자람', 1), ('케일', 3), ('줄기', 2), ('생겼', 7), ('잎', 5), ('수류탄', 1), ('크리스탈', 1), ('빨갛', 2), ('충혈', 2), ('줄줄', 2), ('밤새', 1), ('통증', 1), ('렌즈', 5), ('붙일', 2), ('시리', 2), ('콧물', 1), ('모기', 13), ('내려도', 1), ('예쁩니다', 8), ('펜슬', 1), ('나왓', 4), ('블럭', 2), ('모자라', 2), ('바랍니다', 10), ('뇽', 1), ('젱', 1), ('효', 2), ('제홍', 1), ('헤', 3), ('ㅏㅎ요', 1), ('확정', 6), ('죄송', 3), ('무지', 5), ('차양', 1), ('진하', 9), ('연하', 3), ('반복', 1), ('스푼', 3), ('몰캉몰캉', 1), ('유연', 2), ('용통', 1), ('❛', 2), ('֊', 1), ('일정', 5), ('무겁', 8), ('찢어지', 11), ('찍힌', 5), ('ㅓ로러라ㅏ치ㅐ닠노료ㅗ런', 1), ('거트', 2), ('새콤달콤', 2), ('시킬려구', 1), ('쓰레기통', 3), ('마미', 1), ('포코', 1), ('기저귀', 5), ('리프', 1), ('닉', 1), ('표백', 1), ('자연', 4), ('소변보', 1), ('축축', 3), ('자석', 3), ('구서', 2), ('검정', 15), ('분력', 1), ('닝', 2), ('콜라', 1), ('손목', 6), ('텐데', 6), ('버스', 7), ('투어', 2), ('다녀서', 3), ('텍스', 1), ('쳐', 2), ('습니당', 18), ('귀여운', 2), ('중학', 1), ('만점', 6), ('초등', 5), ('나름', 7), ('하하하', 1), ('ㅓ라하ㅐ티ㅡ저ㅛ노노ㅜ터', 1), ('옅', 2), ('궁', 1), ('쩌', 5), ('휴대폰', 1), ('대임', 1), ('며칠', 5), ('숙성', 2), ('상자', 11), ('👍', 3), ('해야할까', 2), ('긁힌다', 1), ('편백', 2), ('산거', 2), ('뭔가', 8), ('백수', 1), ('몰라도', 5), ('하곤', 1), ('고선', 2), ('뚝딱', 2), ('속도', 4), ('아마도', 2), ('걷', 2), ('양호', 4), ('고나서', 1), ('검은색', 2), ('바스락', 1), ('부드러워서', 3), ('꿀잠', 2), ('잤', 5), ('컬러', 10), ('은은', 7), ('강아지', 8), ('누웠', 1), ('섭', 1), ('취량', 1), ('젠장', 1), ('내탓이', 1), ('누굴', 1), ('리오', 1), ('학교', 4), ('활동', 4), ('배소', 1), ('약함', 1), ('처박', 1), ('힘듭니다', 3), ('사은품', 17), ('꼬', 4), ('뿌리', 8), ('그럴까요', 1), ('직부등', 1), ('부서진', 1), ('연어', 7), ('걍', 20), ('학실', 1), ('수준', 8), ('부스러기', 3), ('아쉬웠', 7), ('유쾌', 1), ('주로', 2), ('는지요', 2), ('겅이', 1), ('닫혀', 4), ('젛은데', 1), ('견과', 6), ('류', 8), ('비닐', 13), ('수꽃', 1), ('안경알', 2), ('커팅', 1), ('빠질', 4), ('쌩', 2), ('얼', 7), ('안경', 3), ('안경테', 2), ('안경다리', 1), ('가늘', 4), ('업데이트', 1), ('명확히', 1), ('십사', 1), ('기다려서', 4), ('보람', 2), ('그람', 3), ('잔', 5), ('소분', 4), ('전자', 3), ('렌지', 2), ('돌려서', 4), ('간혹', 1), ('카페', 3), ('즐기', 1), ('핫', 3), ('슬링', 2), ('소문', 1), ('자자', 1), ('으려니', 2), ('적응', 7), ('자세히', 2), ('옆쪽', 1), ('찌그러져서', 3), ('캐스팅', 3), ('루어', 2), ('아감', 2), ('써야지', 1), ('즉시', 2), ('유심', 3), ('먹통', 2), ('부재', 1), ('대략', 1), ('난감', 5), ('로밍', 1), ('보고', 11), ('촌', 3), ('쿨톤', 1), ('입술', 2), ('연한', 2), ('다홍색', 1), ('가벼워', 3), ('갠', 3), ('늠', 1), ('옻칠', 1), ('설거지', 2), ('우드', 4), ('우선', 5), ('쏘', 14), ('지연', 10), ('공지', 1), ('코', 12), ('아퍼', 1), ('밝', 8), ('부심', 1), ('드라이클리닝', 1), ('여성', 5), ('뱃', 1), ('ㅇ도', 1), ('홍조', 2), ('검색', 5), ('장시간', 2), ('롤러', 1), ('뱃살', 2), ('지워져서', 1), ('어쩔', 7), ('쓰일', 2), ('비오', 2), ('따', 1), ('싱거운', 1), ('인데다', 1), ('무르', 2), ('물러', 3), ('근처', 3), ('슈퍼', 2), ('다양', 8), ('하도', 2), ('그저', 11), ('트랩', 1), ('전원', 8), ('부러졌', 3), ('귖ㅎㅊ니', 1), ('존', 3), ('예', 23), ('구리', 2), ('\\U0001f90d\\U0001f90d\\U0001f90d', 1), ('ㅓㅓㅓ절저요', 1), ('응가', 1), ('을지', 3), ('화질', 6), ('ㅜㅜㅜ', 3), ('베어링', 2), ('탔', 3), ('데크', 1), ('크랙', 1), ('작성', 1), ('실청', 4), ('등급', 1), ('신청', 21), ('잠겨', 2), ('윽', 2), ('....!!', 1), ('도고', 1), ('스타킹', 4), ('의료기', 1), ('나았', 2), ('중학생', 1), ('아저씨', 1), ('사무실', 3), ('느껴집니다', 2), ('…', 1), ('핸드폰', 4), ('보조', 4), ('역활', 1), ('일석이조', 1), ('코로나', 3), ('땜', 5), ('도통', 2), ('ㅠ그래도편하고좋아요ㅎㅎ', 1), ('전이', 10), ('유무', 1), ('~~~~', 10), ('땡겨', 1), ('됫는데', 1), ('치약', 6), ('골랐', 3), ('나와요', 7), ('샤워기', 1), ('꽂이', 1), ('전동', 3), ('후비', 1), ('내시경', 1), ('귀속', 1), ('진작', 4), ('살걸', 2), ('결착', 5), ('강해서', 2), ('재료', 5), ('펜션', 2), ('식용유', 2), ('음식', 6), ('다행', 12), ('질문', 2), ('보류', 1), ('진행', 1), ('확실히', 14), ('밑단', 1), ('끊어졌', 2), ('도무지', 1), ('도금', 1), ('까졌', 1), ('사유', 1), ('한숨', 2), ('더라', 2), ('이래서', 2), ('실물', 2), ('절정', 1), ('신권', 1), ('지폐', 1), ('웃음', 1), ('주기', 4), ('줫는데', 1), ('합', 10), ('당', 6), ('하규', 1), ('잡혀요', 4), ('속치마', 1), ('비침', 4), ('더움', 1), ('따끔', 3), ('파마', 1), ('게임', 7), ('호평', 1), ('재미있', 3), ('뿌러져', 2), ('흔들리', 4), ('kg', 11), ('헷갈림', 1), ('됌', 1), ('차이', 25), ('개인차', 1), ('그렇게', 5), ('불사', 1), ('코트', 7), ('쌤', 1), ('모서리', 8), ('날라다니', 1), ('껍질', 10), ('깨끗이', 1), ('가리비', 2), ('찜', 3), ('단연', 1), ('단계', 5), ('망가짐', 1), ('카메라', 5), ('뚫려', 2), ('벗길', 1), ('들뜨', 3), ('생겨요', 1), ('뫽이', 1), ('수미', 1), ('파실', 3), ('지져', 3), ('분하', 1), ('물감', 4), ('인듯', 3), ('쪄', 2), ('완', 9), ('죤', 3), ('맘놓', 1), ('거려', 1), ('암튼', 4), ('약합니다', 3), ('봐', 5), ('어찌', 5), ('우체국', 1), ('호', 2), ('400', 2), ('카운터', 1), ('쁜ㅅㅏㅇ품', 1), ('연휴', 1), ('커버', 14), ('파여', 2), ('불쾌', 4), ('군요', 5), ('질겨서', 1), ('견고', 11), ('손톱자국', 1), ('찢어짐', 2), ('습', 3), ('오징어', 7), ('맞추', 8), ('뛰', 1), ('위한', 2), ('여주환', 1), ('으뜸', 1), ('800', 2), ('통안', 2), ('헐겁', 1), ('채워진', 1), ('방학', 1), ('먹였', 1), ('잘라서', 3), ('삶', 3), ('쓴맛', 4), ('영가', 1), ('수도', 1), ('몆일', 1), ('모름', 2), ('식후', 1), ('윗', 4), ('대사', 2), ('이즈라', 1), ('평용', 1), ('섞여', 4), ('굿바이', 1), ('새꼬막', 1), ('비타민', 4), ('억', 2), ('사탕', 3), ('레몬', 8), ('샌', 1), ('솔', 7), ('촘촘', 1), ('부드러워', 9), ('칫솔질', 1), ('오물오물', 1), ('간지러운', 1), ('해소', 2), ('일체', 3), ('형', 19), ('형태', 2), ('단독', 1), ('꺼려', 1), ('꼬박꼬박', 1), ('이어폰', 3), ('잭', 2), ('벗기', 2), ('랍', 2), ('스터', 1), ('쪄서', 3), ('속옷', 5), ('~^^;', 1), ('에겐', 4), ('어울리', 7), ('라이트', 3), ('옐로우', 1), ('자색', 2), ('고구마', 11), ('귀여움', 2), ('예쁨', 1), ('도가니', 1), ('거칠', 3), ('..(', 1), ('나무질', 1), ('사포', 3), ('다듬', 1), ('diy', 2), ('건데요', 2), ('이걸로', 9), ('콩국', 2), ('청국장', 1), ('띠', 4), ('웁', 1), ('찌개', 1), ('했었', 15), ('먼가', 5), ('생겼어요', 2), ('널', 7), ('라요', 3), ('발끝', 1), ('던데요', 3), ('부탁드립니다', 2), ('봉제', 3), ('터지', 8), ('써볼', 3), ('퀸', 1), ('말리', 3), ('에다', 4), ('미라쥬', 1), ('피치', 3), ('인기', 4), ('나서', 1), ('칭찬', 1), ('오묘', 2), ('노', 8), ('듣', 5), ('종', 2), ('쫙', 1), ('당기', 2), ('빛나', 2), ('고장', 10), ('괴롭히', 1), ('흰', 5), ('씌워', 2), ('야하', 1), ('파란', 1), ('끼워서', 2), ('출하', 1), ('테이블', 2), ('측면', 1), ('테두리', 5), ('찍힘', 3), ('했으나', 7), ('관리', 7), ('셔야', 9), ('대가', 3), ('구부러져', 2), ('망가질', 1), ('링', 8), ('가운데', 7), ('컬', 4), ('삼', 7), ('간격', 1), ('나뉘', 1), ('위성', 1), ('그레이', 7), ('푸른색', 1), ('보입니다', 5), ('및', 5), ('세안', 3), ('뽀득', 1), ('트러블', 5), ('온데', 1), ('절대로', 3), ('시킬', 10), ('창열', 1), ('이젠', 1), ('시킴', 1), ('입니다요', 3), ('지켜봐야', 1), ('지워져요', 2), ('액체', 2), ('나왔', 18), ('그냥저냥', 9), ('미미', 1), ('휴가', 3), ('틀리', 1), ('죠리퐁', 1), ('프라페', 1), ('김', 8), ('중복', 3), ('상상력', 1), ('디테일', 4), ('배드민턴', 1), ('용품', 1), ('을려고', 7), ('퀄이', 1), ('슬라이딩', 2), ('풀려요', 2), ('풀려서', 6), ('톨', 1), ('동영상', 5), ('네이버', 4), ('번거', 4), ('롭', 8), ('예식', 1), ('팀', 1), ('겹치', 1), ('장소', 2), ('로비', 1), ('출입구', 1), ('덩그러', 2), ('꽃', 7), ('시든', 1), ('덕지덕지', 2), ('후쿠에', 1), ('시공', 7), ('정제', 1), ('원당', 1), ('통단', 1), ('팥', 2), ('물탄', 1), ('.+', 1), ('탄', 5), ('무거움', 1), ('ㅡㅂ짖ㅂㄱㅈ', 1), ('한꺼번에', 2), ('일부분', 1), ('구겨져서', 3), ('숨겨서', 1), ('감쪽같이', 2), ('해놨', 1), ('팔목', 1), ('지탱', 1), ('실밥', 7), ('숄더', 1), ('랙', 2), ('캠핑', 4), ('가족', 10), ('알약', 2), ('방문', 9), ('달라서', 6), ('그레', 2), ('총장', 1), ('마개', 1), ('사지', 3), ('마셔', 1), ('펌프', 3), ('콘', 1), ('분리', 13), ('괜찬', 1), ('모유', 1), ('수유', 1), ('바라', 6), ('덜하', 2), ('뿝니댜앙', 1), ('날려', 1), ('늡간식거리', 1), ('드라마틱', 1), ('뒤축', 1), ('갈라', 1), ('내구', 3), ('0', 9), ('저따위', 1), ('어떠', 2), ('저딴', 1), ('셨을까', 1), ('원망', 1), ('다신', 6), ('그만', 2), ('올립니다', 1), ('렴', 6), ('히', 11), ('분무기', 2), ('쫄', 3), ('결속', 3), ('인되', 1), ('대량', 4), ('그나마', 10), ('날렸', 4), ('카', 4), ('슬', 5), ('릭', 2), ('흡수력', 5), ('뭔가요', 4), ('텅텅', 1), ('질소', 1), ('채우', 1), ('변화', 4), ('끌어당기', 1), ('주름', 3), ('정중앙', 2), ('ㅡㅡㅋ', 1), ('부서지', 1), ('테입', 1), ('상쾌', 1), ('시린', 1), ('핑', 3), ('new', 1), ('g', 5), ('관용', 1), ('대폭', 1), ('이진', 1), ('시타', 1), ('슬라이스', 2), ('쉬워서', 4), ('..........', 1), ('뭄', 1), ('기재', 3), ('질겨', 5), ('비드', 1), ('오리목', 1), ('젓가락', 1), ('크리스마스', 2), ('퇴치', 1), ('마트', 9), ('흐르', 2), ('새끼', 3), ('반지', 6), ('호수', 3), ('내려요', 2), ('힘든', 3), ('메뉴', 1), ('나간', 1), ('감사히', 2), ('스러운', 5), ('♡^^', 1), ('겁', 4), ('럽', 4), ('분류', 1), ('고맙', 6), ('데요', 4), ('대용', 3), ('하얀색', 1), ('폴더', 1), ('헤링본', 1), ('패턴', 2), ('따라', 5), ('바꿀', 1), ('스러움', 1), ('간소', 2), ('스텐', 4), ('밥솥', 1), ('주전자', 1), ('사용법', 3), ('단순', 1), ('극찬', 1), ('안타깝', 1), ('찌그러져', 5), ('그럴', 3), ('수량', 6), ('맞춰', 8), ('소송', 1), ('놔서', 2), ('보낸', 10), ('망', 4), ('던가', 6), ('음다', 2), ('하구', 2), ('재실', 1), ('함다', 1), ('대짜', 1), ('버린', 4), ('다이노', 1), ('공룡', 2), ('탐험대', 1), ('변신', 1), ('로봇', 1), ('공양', 1), ('럴해요', 1), ('카드', 3), ('ㅠㅜㅠ', 2), ('봉투', 7), ('튿', 3), ('앉', 6), ('갑', 5), ('소비자', 3), ('로서', 2), ('~.', 1), ('예뻐서', 9), ('드럽', 2), ('충전기', 5), ('건가', 7), ('글씨체', 1), ('이름', 7), ('둔', 1), ('귀여워서', 1), ('한참', 6), ('우연히', 1), ('편의점', 2), ('겉돌', 1), ('거부', 4), ('쌓았', 1), ('오른쪽', 2), ('진심', 6), ('데리', 1), ('출근', 2), ('해서인지', 3), ('부속', 1), ('노폐물', 1), ('피지', 3), ('흡착', 3), ('해봐야', 5), ('전복', 2), ('버터', 2), ('구이', 1), ('일어난', 1), ('스틱', 4), ('돌려', 1), ('닭다리', 1), ('오븐', 1), ('230', 2), ('돌렸', 4), ('바사삭', 1), ('겠어요', 4), ('세용', 7), ('옵니다', 4), ('주먹', 1), ('양념장', 3), ('알맹이', 2), ('염마', 1), ('할런지', 1), ('멜빵', 1), ('키가', 2), ('볼땐', 1), ('위쪽', 2), ('힙', 2), ('168', 3), ('편히', 1), ('유의', 1), ('뎅', 1), ('서비스', 8), ('최저', 2), ('프', 3), ('필수품', 2), ('이동', 4), ('원활', 1), ('뺍니다', 1), ('스판', 6), ('은데요', 3), ('클', 4), ('아서요', 2), ('맞춰야', 3), ('무척', 2), ('는군요', 2), ('접시', 3), ('은미', 1), ('익일', 1), ('우장', 2), ('게장', 5), ('농약', 1), ('♡♡', 2), ('봉동', 1), ('댁', 4), ('상표', 2), ('오현명', 1), ('똑', 4), ('차원', 1), ('-', 8), ('손해', 4), ('도저히', 4), ('트리거', 1), ('포인트', 3), ('못사', 1), ('뭘', 5), ('냐', 5), ('미숙', 1), ('아닌지', 2), ('사슴', 2), ('아빠', 4), ('보여서', 9), ('종아리', 1), ('했으면', 4), ('재단', 3), ('옷걸이', 5), ('뒀었', 1), ('헤어', 3), ('가장', 7), ('줄려고', 2), ('미뤄', 2), ('말라', 1), ('구부리', 1), ('부러질', 3), ('욕실', 6), ('습하', 1), ('찌그러', 3), ('수남', 1), ('단장', 2), ('운', 4), ('칸', 3), ('뺄', 3), ('엉', 1), ('흑흑흑', 1), ('탁상', 1), ('액자', 3), ('어둠', 1), ('과한', 2), ('찮아', 2), ('들어야', 1), ('합니까', 3), ('테', 4), ('블릿', 1), ('한텐', 3), ('흘러내리', 5), ('ㅠ본드가', 1), ('곤', 7), ('불고기', 2), ('볼께요', 4), ('아오', 3), ('라오', 1), ('찐득', 2), ('크릴', 2), ('난다고', 1), ('밟', 1), ('올라서', 1), ('제외', 4), ('777', 1), ('픈', 1), ('졸', 1), ('폈', 1), ('일반용', 1), ('전용', 3), ('놨어야', 1), ('몰라서', 5), ('울딸', 1), ('좋아', 1), ('려다가', 3), ('둿다', 1), ('산다', 1), ('예여', 2), ('그지', 1), ('드라이', 1), ('이겨서', 1), ('빗꽂이', 1), ('태어났', 1), ('캐', 3), ('쥬얼', 3), ('정장', 1), ('어울려서', 2), ('☺', 1), ('️', 1), ('낭패', 2), ('차례', 1), ('순식간', 1), ('훅훅', 1), ('넘어가', 1), ('초반', 2), ('연인', 1), ('넘기', 4), ('애영', 1), ('결혼', 2), ('고사', 1), ('얐', 1), ('ㅠㅡㅠ', 1), ('상대방', 1), ('들린', 1), ('삼성', 1), ('짝퉁', 3), ('사셨', 1), ('개망신', 1), ('화학', 3), ('약품', 2), ('될까요', 1), ('~?', 1), ('번거로워서', 2), ('염려', 3), ('ㅜㅠ', 4), ('디', 8), ('마스카라', 2), ('워터', 4), ('프루프', 1), ('클렌', 1), ('라이너', 1), ('력', 4), ('브로우', 1), ('이염', 2), ('자분', 7), ('아쉬워서', 1), ('미경', 1), ('ㅠ테이프', 1), ('제하', 1), ('셔도', 1), ('말려', 3), ('랩', 4), ('자주자주', 1), ('쓰임', 1), ('영양가', 1), ('립니', 6), ('오류', 3), ('의한', 1), ('해결', 4), ('큐라소', 1), ('겼는데', 1), ('바른', 4), ('랍니다', 4), ('메시', 1), ('화상', 1), ('수업', 2), ('헤드셋', 2), ('세여', 4), ('걸루', 1), ('바이엘', 1), ('이어', 2), ('생리', 1), ('증후군', 1), ('행사', 4), ('조년', 1), ('2018', 1), ('스탠', 1), ('너덜거리', 1), ('툭', 4), ('할깝쇼', 1), ('씁니다만', 2), ('십쇼', 1), ('편한데', 1), ('실은', 1), ('세련되', 1), ('작품', 3), ('악기', 1), ('사력', 1), ('~~~~~~~~~~~~~~~~~~~~~~~~~', 1), ('하단', 3), ('성형', 3), ('찢', 2), ('물려서', 2), ('반류', 1), ('굵', 3), ('시골', 1), ('도합', 1), ('성공', 2), ('엄청나', 2), ('벨벳', 1), ('걸어도', 1), ('한대', 1), ('원두', 2), ('들어와서', 2), ('그라인더', 1), ('이야', 2), ('마나', 2), ('넹', 2), ('편한', 8), ('전골', 1), ('비갑', 3), ('라더니', 3), ('켜', 12), ('둥둥', 1), ('떠다니', 1), ('소개', 1), ('술', 2), ('땡기', 1), ('묽', 5), ('숫자', 2), ('잡아당겨도', 1), ('아까움', 5), ('최대', 2), ('찬물', 2), ('미온수', 1), ('미세', 5), ('무거워서', 5), ('코브라', 1), ('휨', 1), ('행', 3), ('세척', 7), ('꾸준', 2), ('볼려구요', 1), ('경로', 1), ('의심', 4), ('캐리어', 2), ('완성', 3), ('잛아요', 1), ('먹여요', 1), ('쓸모없', 2), ('운동화', 1), ('안전화', 1), ('콯요', 1), ('초당', 1), ('옥수수', 1), ('비율', 2), ('오금', 1), ('적합', 3), ('뒹굴', 1), ('옮겨', 1), ('가려운', 1), ('..~~~~~~', 1), ('최종', 1), ('과실', 1), ('맞교환', 1), ('노래', 1), ('특별히', 1), ('ㅓㅁ은콩함유도', 1), ('콩두', 1), ('유라', 1), ('끄러', 1), ('눌', 2), ('문제없', 4), ('응원', 1), ('여어', 1), ('으레', 1), ('뻥', 2), ('번갈', 1), ('현상', 5), ('땨문', 1), ('도트', 3), ('비용', 5), ('간당', 1), ('남겨', 3), ('^)', 1), ('몸통', 3), ('마냥', 5), ('써놨', 1), ('이외', 2), ('예비', 3), ('딴', 4), ('떨어져서', 6), ('왠', 2), ('스티로폼', 3), ('해동', 4), ('..?', 4), ('물컹', 3), ('탱글탱글', 1), ('워낙', 6), ('byc', 2), ('주입', 1), ('접촉', 3), ('즐겨', 3), ('방댕이', 2), ('만드신', 1), ('앞뒤', 3), ('낍니다', 2), ('편할라고', 1), ('죙일', 1), ('낀', 1), ('빤', 2), ('내린다고', 1), ('찾아다녔', 1), ('그래', 2), ('86', 1), ('타도', 1), ('빨대', 2), ('부속품', 3), ('아까워하', 1), ('파크', 1), ('정말로', 1), ('착각', 1), ('틱', 2), ('저기', 1), ('찌', 6), ('인건', 1), ('소페', 1), ('더욱', 2), ('기성', 1), ('다니요', 1), ('의도', 1), ('만든', 2), ('라면', 9), ('ㅇ사임', 1), ('통화', 4), ('걸려요', 6), ('소통', 1), ('어려워서', 2), ('누울', 1), ('죽이', 1), ('밍밍', 3), ('105', 4), ('ㅗ차갷ㅆ습니다', 1), ('셔링', 1), ('잡혀', 1), ('다녀왔', 2), ('인수', 1), ('야방', 1), ('구야', 1), ('63', 1), ('까봐', 1), ('a', 6), ('용지', 3), ('해놨으니', 1), ('신분', 3), ('는게', 1), ('이쁨', 2), ('새로운', 1), ('빅', 2), ('180', 1), ('하심', 1), ('깍두기', 3), ('ㅡㅋㅋ', 1), ('빨간색', 3), ('..,', 1), ('암', 3), ('든', 5), ('중자', 2), ('요번', 2), ('이즈', 2), ('카키', 1), ('182', 1), ('기준', 2), ('120', 4), ('센티', 8), ('스러웠', 1), ('완제품', 1), ('88', 2), ('꺼지', 5), ('불구', 2), ('여러분', 2), ('나이키', 3), ('로고', 2), ('덜렁덜렁', 1), ('거립니다', 1), ('아팠', 3), ('예상', 3), ('피어싱', 2), ('낼', 2), ('병', 3), ('담겨', 4), ('ㅇㄴㄻㄴㅇㄻㄴㅇㄻㄴㅇㄹ', 1), ('ㅇㄻ', 1), ('ㅓ리', 1), ('ㅏㅁ', 7), ('어리', 2), ('ㅏㅓ', 1), ('ㅏㄴ', 3), ('ㅇ머', 1), ('ㄻ', 1), ('나어리', 1), ('ㅏㅁㄴ어란ㅁ어피ㅏㅓㄴㅇ탚ㅋㅌ치ㅏㅍㅁㄻㄴㅇㄹㅊ', 1), ('질겼', 2), ('주둥', 1), ('mm', 9), ('달라붙', 5), ('사락사락', 1), ('토퍼', 2), ('씌우', 2), ('누워서', 2), ('파닥파닥', 1), ('욕심나', 1), ('추석', 2), ('지났', 6), ('17', 3), ('25', 3), ('일어나', 10), ('침대', 8), ('프레임', 1), ('삐걱거리', 1), ('삐걱삐걱', 1), ('뭔지', 1), ('꽝', 4), ('부지런히', 1), ('출장', 5), ('s', 5), ('ㅐ', 1), ('불렀', 2), ('칼', 4), ('빨개지', 2), ('닌깐', 1), ('어떻', 5), ('다길래', 4), ('한지', 12), ('속상하', 4), ('확대', 3), ('이유식', 5), ('양치한', 1), ('입안', 1), ('개운', 3), ('쵝오에요', 1), ('접이식', 1), ('충분히', 5), ('미관상', 1), ('철제', 4), ('품절', 7), ('닦여서', 1), ('끗', 1), ('모자', 10), ('딸', 6), ('커플', 3), ('창', 1), ('햇빛', 7), ('알로하', 1), ('썬', 2), ('타제품', 1), ('조항', 1), ('투야', 1), ('저리', 2), ('메러', 1), ('투', 4), ('약병', 1), ('덩치', 1), ('산만', 1), ('온도', 12), ('기계', 1), ('주위', 4), ('감지', 1), ('총', 4), ('도톰', 4), ('보들보들', 4), ('주문품', 1), ('산도', 1), ('인공', 1), ('거북', 1), ('소량', 2), ('뿐', 7), ('안녕', 1), ('남기', 6), ('인데요', 2), ('으나마나', 1), ('겨울옷', 2), ('레일', 3), ('날개', 2), ('드릴', 6), ('스트로베리', 1), ('변이', 2), ('매치', 2), ('땅콩', 3), ('일리', 2), ('cd', 1), ('메일', 1), ('준다고', 2), ('ㅜㅜ그래도', 1), ('여요', 2), ('책상', 10), ('수율', 2), ('모시', 1), ('대두', 1), ('서리', 2), ('뉴트', 1), ('거시', 1), ('기허', 1), ('군데군데', 3), ('네코', 1), ('내년', 2), ('배운다면', 1), ('과숙', 2), ('합사', 1), ('뜻', 1), ('맥', 1), ('역한', 2), ('ㅔ', 9), ('시국', 1), ('측', 3), ('일회용', 10), ('대체', 4), ('핏물', 3), ('망치', 2), ('내리쳐야', 1), ('될까', 2), ('21', 3), ('한다', 3), ('ㄲㅈ', 1), ('요긴', 2), ('움직일', 1), ('뒤틀려', 1), ('곤란', 3), ('측정', 2), ('잔득', 1), ('알갱이', 2), ('액정', 5), ('간장', 8), ('소금', 8), ('전액', 1), ('광', 3), ('나진', 1), ('당뇨', 2), ('벗겨', 3), ('원했', 2), ('뻐오ㅡ', 1), ('써야죠', 2), ('변동', 1), ('유지', 5), ('억지로', 2), ('x', 1), ('지지대', 4), ('나올', 3), ('끼움', 1), ('센치', 5), ('패딩', 1), ('부츠', 1), ('좌우', 2), ('대칭', 1), ('손세탁', 1), ('볼까', 5), ('가계', 1), ('나나', 1), ('대요', 4), ('콜', 1), ('놔', 5), ('ㅍㄷㅇㅇㄴ읔ㅈㅇㅎ', 1), ('ㅍㄹ', 1), ('ㅇㄹ', 1), ('ㅍㅎ', 1), ('ㅇㄹㅋㅌㅈㅋㅎㅇㄹㄷㅋㅎㅍㄹㄹㅁㄷㅅㅎㅇㄹㅁㄹㅅㄷ', 1), ('오전', 5), ('식전', 3), ('평가', 3), ('장어', 1), ('근대', 2), ('무거워', 2), ('엥', 1), ('냄새나', 3), ('쳐도', 1), ('심지어', 4), ('얼룩져', 1), ('우겨', 1), ('어이없', 3), ('마음대로', 2), ('맞겨', 1), ('낑낑대', 1), ('옮겼', 1), ('오바', 1), ('음량', 1), ('증폭', 1), ('이내', 1), ('남편', 9), ('187', 1), ('~~~~~', 1), ('버력', 5), ('건성', 5), ('느껴요', 1), ('낙지', 6), ('싸인', 3), ('으앙', 1), ('날라', 1), ('자전거', 5), ('달수', 1), ('조잡', 3), ('오리', 1), ('분명히', 3), ('빠개', 1), ('노출', 1), ('더워서', 3), ('쌈', 2), ('채소', 1), ('시들시들', 1), ('자신감', 1), ('분홍', 1), ('물그릇', 1), ('바꾼', 1), ('몸체', 2), ('키즈', 2), ('포함', 7), ('2017', 1), ('어르신', 1), ('쓴지', 1), ('마이크', 1), ('한가요', 1), ('입혀서', 2), ('기여', 1), ('비숑', 1), ('부서졌', 2), ('14900', 1), ('열받', 1), ('어째', 1), ('유투', 1), ('영상', 4), ('끄트머리', 1), ('놀랬', 3), ('줫음', 1), ('4000', 1), ('주광색', 1), ('구분', 4), ('무조건', 6), ('물고기', 4), ('미지', 1), ('해질', 3), ('나갈', 2), ('특히', 6), ('압축', 5), ('말려서', 1), ('통함', 1), ('션', 2), ('월드', 2), ('가까워', 1), ('가까운', 2), ('구명조끼', 1), ('뽀', 4), ('송', 3), ('12', 9), ('반납', 2), ('비발디', 1), ('가까우', 1), ('찢어져', 3), ('브레이크', 3), ('칩', 4), ('베이', 2), ('몬', 1), ('으셔서', 2), ('센카', 1), ('입금', 1), ('전말', 1), ('피싱', 3), ('쿨', 2), ('예스', 1), ('방석', 4), ('느껴져요', 1), ('ㅇ', 9), ('려는', 1), ('.?', 3), ('빈틈없이', 1), ('골고루', 1), ('들려요', 2), ('이브', 2), ('자투리', 1), ('부문', 1), ('엉성', 5), ('^-^', 2), ('모셔', 1), ('됫습니다', 1), ('큼직', 2), ('나아', 1), ('루프', 2), ('느루', 1), ('ㅡ나트느트트', 1), ('페이크', 2), ('니삭스', 2), ('웃겨요', 1), ('밀림', 1), ('수명', 1), ('스몰', 2), ('아이패드', 3), ('거치대', 5), ('틀려서', 2), ('누차', 1), ('말씀', 6), ('굳이', 3), ('인요', 2), ('시려우면', 1), ('발쪽', 1), ('워치', 1), ('등산', 1), ('겉', 5), ('지푸라기', 2), ('첨부', 5), ('미용실', 1), ('끊겨', 3), ('우두', 1), ('보습', 6), ('일찍', 1), ('발송', 8), ('인해', 1), ('조회', 5), ('쓰였', 1), ('실사', 2), ('내복', 1), ('빚', 1), ('어두워서', 1), ('겨드랑이', 2), ('슈', 5), ('몰토', 1), ('가이드', 2), ('스텔라', 1), ('수신기', 1), ('빌려', 1), ('아중', 1), ('좃', 1), ('ㆍ오ㅡ아주조아', 1), ('빠진', 6), ('푹신', 8), ('정작', 1), ('중심', 2), ('겁니다', 3), ('빵', 3), ('나이', 2), ('감당', 1), ('요걸', 1), ('시작', 6), ('폭식', 1), ('살살', 1), ('모카', 1), ('커피믹스', 1), ('일부러', 5), ('각오', 1), ('ㅠ심', 1), ('비린', 4), ('붕어', 2), ('즙', 9), ('한약', 1), ('어향', 1), ('그만큼', 3), ('송사', 1), ('사정', 3), ('느렸', 8), ('커피', 15), ('지낼', 1), ('합니더', 1), ('기엔', 3), ('할지', 5), ('오용', 1), ('락앤락', 2), ('녹이', 2), ('냄', 4), ('분리수거', 1), ('진리', 1), ('인가요', 6), ('떨어진', 3), ('낑', 1), ('샥', 1), ('다는데', 1), ('지만은', 1), ('압출', 2), ('피부과', 1), ('탈색', 1), ('말썽', 1), ('여며', 1), ('이것저것', 4), ('건전지', 6), ('소모', 1), ('상당', 2), ('걸립니다', 2), ('물론', 4), ('탄성', 2), ('온라인', 2), ('설선', 1), ('요오', 3), ('뛰어난', 2), ('그러저럭', 1), ('잃어버려서', 2), ('씻기', 1), ('와이퍼', 2), ('떠서', 6), ('가운제', 1), ('덛', 1), ('대놓', 1), ('드리', 6), ('써진', 1), ('절반', 2), ('끝물', 1), ('이래', 1), ('아마', 1), ('욬다움에', 1), ('남긴', 2), ('캬', 3), ('조미', 1), ('쭈꾸미입이', 1), ('아닐까', 3), ('까져', 1), ('ㅠㅠ귀', 1), ('소독', 1), ('갖춰져', 1), ('을려는', 1), ('부러졌으니', 1), ('겁나게', 1), ('뇨', 1), ('라구', 2), ('파스타', 2), ('바질', 2), ('제입맛에', 2), ('였어요', 3), ('거뜬', 2), ('장식', 6), ('14', 3), ('금색', 1), ('놨', 1), ('사각거리', 1), ('윗면', 1), ('인지라', 2), ('w', 1), ('원형', 4), ('는대', 6), ('사각', 3), ('졋어요', 1), ('가랑', 1), ('반통', 1), ('항아리', 1), ('던져', 3), ('특사', 1), ('중대', 1), ('비빔', 1), ('양치', 1), ('견사', 1), ('치석', 2), ('밀착', 2), ('ㅇㄻ앎', 1), ('케이', 2), ('릴', 4), ('광색', 1), ('지워', 11), ('틈새', 1), ('박혀서', 1), ('애초', 2), ('화나', 1), ('버튼', 7), ('다름', 4), ('나시', 3), ('탁', 1), ('줍니다', 2), ('볼륨', 3), ('보들', 2), ('해보여요', 2), ('ㅜㅜ자음', 1), ('적힌', 3), ('한글', 1), ('맞춤법', 1), ('가림', 1), ('스위치', 1), ('이긴', 2), ('메모리', 2), ('걍스폰지', 1), ('잘라', 2), ('착면', 1), ('가방끈', 1), ('걍쓰겠음', 1), ('찌끄러진', 1), ('어묵', 3), ('마릿', 1), ('결', 4), ('감바', 3), ('스중', 1), ('쳐서', 2), ('빼먹', 3), ('옥상', 1), ('실리콘', 8), ('수세미', 3), ('그렇지만', 1), ('집어던지', 2), ('누', 3), ('모라', 1), ('곧', 7), ('어야죠', 1), ('숯', 2), ('변형', 3), ('큐빅', 1), ('진해서', 1), ('레모', 1), ('갈일', 1), ('가림막', 1), ('걸려서', 9), ('초', 5), ('칼갈이', 1), ('할까봐요', 1), ('가가', 1), ('상동', 1), ('구부려', 1), ('펴지', 1), ('선크림', 2), ('세범', 1), ('미백', 1), ('고장난', 1), ('뱌성은', 1), ('빠른데', 1), ('존나', 1), ('녕', 1), ('땡땡', 1), ('26000', 1), ('드만', 2), ('커도', 1), ('놀람', 1), ('카톡', 2), ('싱거워', 3), ('참외', 1), ('**', 2), ('꿀맛', 1), ('최애', 4), ('음료수', 2), ('갈증', 1), ('음료', 1), ('박아', 1), ('쒸', 1), ('레기', 1), ('미끄러져서', 1), ('뜯어보', 3), ('등갓', 1), ('밀려', 2), ('럼', 1), ('자용', 2), ('조립법', 1), ('다소', 3), ('복잡', 2), ('긴가민가', 2), ('신기', 6), ('하네', 1), ('달달', 6), ('고무줄', 1), ('반바지', 1), ('학년', 1), ('맞춤', 1), ('황성주', 1), ('검은콩', 1), ('두유', 2), ('이미지', 3), ('망사', 2), ('추억', 3), ('돋', 1), ('보리차', 1), ('물병', 2), ('가빠', 1), ('비해서', 5), ('보르', 1), ('미러', 1), ('비행', 1), ('..!', 1), ('깔대', 1), ('유닉스', 1), ('블로그', 1), ('뽑혀', 1), ('바리', 1), ('깡', 1), ('공개', 1), ('처형', 1), ('본사', 2), ('찔려서', 1), ('피나', 1), ('따구', 1), ('이엄', 1), ('책받침', 1), ('받치', 1), ('pp', 1), ('그러나', 4), ('규', 4), ('달라', 5), ('철재', 1), ('자유자', 1), ('수납공간', 5), ('지갑', 3), ('교체', 6), ('귀차', 3), ('니즘', 1), ('할려구요', 2), ('짠', 3), ('올리고당', 1), ('우', 3), ('바빠서', 3), ('헐렁', 4), ('냇', 3), ('여건', 1), ('제대', 1), ('바뀐', 2), ('가져갔', 1), ('기온', 2), ('얼음', 4), ('이래저래', 4), ('보드', 3), ('군대', 1), ('발바닥', 2), ('간편히', 1), ('전쟁', 1), ('밀', 3), ('스트레스', 5), ('><', 4), ('베이비', 1), ('할까봐', 1), ('둬야', 1), ('미관', 1), ('도조', 1), ('낙낙', 1), ('여리여리', 1), ('이쁠', 1), ('어떨까', 2), ('얼큰', 1), ('생각나', 3), ('드립', 2), ('조용', 1), ('한잔', 1), ('제봉', 1), ('옆구리', 2), ('이틀', 10), ('usb', 1), ('제한', 1), ('당겨', 2), ('미역', 3), ('눅눅', 3), ('깍이', 1), ('아영', 1), ('빔', 3), ('신호', 1), ('퉁명', 1), ('이야기', 1), ('자기', 4), ('나뿌', 1), ('햅쌀', 2), ('어지간', 1), ('2016', 2), ('..;', 2), ('편할', 6), ('더러', 1), ('비벼', 3), ('싹싹', 3), ('쪼꼼', 2), ('쓸께', 1), ('수록', 1), ('쓰여', 2), ('봣은데', 1), ('지방', 3), ('얼린', 1), ('냉장', 2), ('능', 2), ('ㅓ츄ㅡ튴ㅊ', 1), ('킹', 2), ('색각', 1), ('솟아오르', 1), ('스킨케어', 1), ('전문', 2), ('러버', 1), ('구질', 1), ('붙혀', 1), ('연', 1), ('미끌', 1), ('했어여', 1), ('누들', 1), ('오염물', 1), ('펼칠', 1), ('우산', 5), ('찍찍', 6), ('결론', 1), ('노른자', 2), ('태어나', 2), ('10000', 2), ('네버', 1), ('거절', 2), ('끝내', 5), ('완료', 6), ('떳', 2), ('왕', 1), ('또는', 3), ('오프너', 1), ('중고', 7), ('속하', 1), ('ㅠ났어요', 1), ('의향', 4), ('빈티지', 1), ('변비', 5), ('행잉', 2), ('거울', 8), ('쓴다면', 1), ('팅', 4), ('밀릴', 1), ('믄', 1), ('을까요', 7), ('는다는데', 1), ('대단', 1), ('리본', 4), ('달렸', 1), ('차잔', 1), ('케어', 1), ('걸때', 2), ('넘어지', 1), ('아치', 1), ('엄지발가락', 1), ('덧신', 2), ('옷감', 1), ('스러워서', 4), ('종이컵', 2), ('그림', 4), ('쓸려고', 3), ('좋이', 1), ('물새', 1), ('우의', 2), ('연두', 2), ('띄', 4), ('오렌지', 1), ('촤르르', 1), ('지관', 1), ('통이', 1), ('포스터', 1), ('할래요', 1), ('화환', 1), ('!!!', 10), ('!!!!!!!', 2), ('감동', 2), ('괜차는듯', 1), ('팟', 3), ('샷', 2), ('에어', 7), ('ㅏ', 3), ('이딴', 1), ('모나미', 1), ('볼펜', 1), ('끊어짐', 3), ('fx', 2), ('153', 1), ('zeta', 1), ('마찬가지', 2), ('빨강', 1), ('파랑', 2), ('각각', 2), ('겹쳐서', 1), ('거품', 9), ('세제', 4), ('지하철', 3), ('빈', 1), ('그란디', 1), ('철', 4), ('지난', 4), ('병뚜껑', 2), ('^^;;', 2), ('내심', 1), ('35000', 1), ('냈', 3), ('알아보', 5), ('왕복', 2), ('70000', 1), ('배면', 1), ('어의', 1), ('겨자', 2), ('치가', 2), ('메이커', 2), ('마당', 2), ('깽이', 1), ('성묘', 1), ('관상용', 2), ('알로에', 1), ('봐온', 1), ('안지', 1), ('노트', 3), ('어쩌', 7), ('186', 1), ('80', 3), ('결합', 3), ('헌', 1), ('역', 2), ('싀', 2), ('나스', 3), ('>_', 1), ('싱겁', 3), ('동서', 1), ('출산', 10), ('2000', 1), ('저런', 2), ('쓸데없', 1), ('더킹', 1), ('97', 1), ('98', 1), ('캐딜락', 1), ('시기', 7), ('바꿔서', 1), ('모를', 2), ('쓸데없이', 1), ('조앙', 1), ('특가', 1), ('ㅏㄱ안뜯어봄', 1), ('44000', 1), ('어우', 1), ('별러', 1), ('레', 3), ('이가', 1), ('퍽퍽', 5), ('엎어지', 1), ('장벽', 1), ('심해졌', 2), ('버클', 3), ('주지', 1), ('마무리', 6), ('날카로워서', 3), ('우려', 1), ('간지러워서', 1), ('미터', 3), ('70', 3), ('가져오', 1), ('밑위', 2), ('사야', 1), ('쓸까요', 1), ('더러워져서', 1), ('아까울', 1), ('필기', 2), ('솔가', 1), ('철분', 1), ('굣ㅅ', 1), ('아삭', 3), ('팡이', 1), ('깜놀', 5), ('믹', 1), ('서기', 1), ('쥬스', 2), ('유럽종', 1), ('라니까', 1), ('도래', 2), ('회로', 2), ('물바다', 1), ('늘어져', 2), ('오마이갓', 2), ('사랑', 5), ('안전', 4), ('쵝', 1), ('기획', 1), ('잠금', 3), ('반대', 2), ('일본어', 1), ('찌그러진', 5), ('묘', 1), ('마이', 4), ('실속', 1), ('참다랑어', 1), ('도전', 4), ('회칼', 1), ('썰', 1), ('빠라', 2), ('빠져', 6), ('스케이트', 2), ('스키', 1), ('임다', 2), ('간식거리', 1), ('뚝', 1), ('떨', 4), ('긁힌', 2), ('헤드라이트', 1), ('복원', 1), ('부자', 3), ('고영희', 1), ('차콜', 5), ('중성', 2), ('끊임없이', 1), ('키로로', 1), ('비트', 3), ('건반', 1), ('정보', 5), ('삼겹살', 2), ('쟁', 1), ('으깨', 2), ('망가지', 2), ('와이프', 2), ('몸무게', 4), ('60', 5), ('하체', 1), ('튼실', 2), ('올께요', 3), ('누런', 1), ('스러', 1), ('욘', 1), ('코베아', 1), ('잃', 2), ('불판', 1), ('탐', 1), ('잃어버렸', 1), ('일어서', 1), ('비쌉니다', 3), ('만조', 1), ('슉', 1), ('쭈그렁', 1), ('풍선', 1), ('올릴', 2), ('느려도', 2), ('갱년기', 1), ('환', 4), ('넘김', 1), ('레트나', 1), ('쉬크', 1), ('사리', 2), ('졸업', 1), ('입학', 1), ('읍니다', 4), ('앙고', 1), ('라라', 1), ('슬프', 2), ('네영', 1), ('조만간', 4), ('씨앗', 1), ('종자', 1), ('따라서', 2), ('기아', 1), ('기어', 2), ('싑네요', 1), ('박막', 1), ('마비', 1), ('스니', 1), ('비비', 1), ('잔여물', 3), ('커지', 1), ('ㅡ맛이', 1), ('복', 1), ('당일', 3), ('찹니다', 1), ('더워', 3), ('카본', 2), ('황당', 4), ('손상', 1), ('손등', 1), ('민트', 1), ('필링', 1), ('넘어서', 1), ('호두', 1), ('편수', 1), ('바꿀려고', 1), ('균열', 2), ('가만히', 1), ('버려도', 1), ('죄다', 1), ('큼', 2), ('어른', 2), ('얘기', 6), ('쪽발', 1), ('다지만', 2), ('상해서', 2), ('시킬지', 1), ('란다', 1), ('하지', 1), ('져버렸', 1), ('늘려서', 3), ('ᆢ다', 1), ('폴', 5), ('텐트', 3), ('신다', 1), ('약속', 3), ('지키', 1), ('어버이날', 1), ('안산', 1), ('부르르', 1), ('떤다고', 1), ('중국어', 1), ('시러', 1), ('친절히', 1), ('응해', 1), ('블루투스', 1), ('정지', 1), ('조작', 1), ('느니만', 1), ('오작동', 1), ('이마트', 3), ('신푸', 1), ('로움', 3), ('날카로워', 1), ('흔들흔들', 1), ('볼게요', 2), ('올려도', 2), ('까말까', 1), ('글렌', 1), ('캐런', 1), ('시음', 1), ('디스크', 1), ('달랑거리', 2), ('누를', 1), ('사선', 1), ('꺾이', 3), ('늘어지', 1), ('감탄', 1), ('시력', 1), ('고도', 1), ('무거울', 1), ('오랜만', 5), ('쇼핑', 1), ('~~~!!!', 2), ('유튜브', 1), ('지겨워서', 1), ('아디', 2), ('다스', 3), ('레깅스', 4), ('xs', 1), ('세면대', 1), ('ㅜㅜㅜ믹싱볼', 1), ('주제', 1), ('거금', 1), ('목걸이', 2), ('코인', 2), ('레이어드', 2), ('알레르기', 1), ('악세사리', 3), ('담수', 1), ('금이', 1), ('~♡', 1), ('보증서', 1), ('뻣', 1), ('삇해요', 1), ('스타일', 6), ('기다', 1), ('훨', 5), ('메마름', 1), ('따라가', 1), ('역쉬', 1), ('놓이', 1), ('흑', 1), ('%,', 1), ('온전', 1), ('50', 2), ('부탁드려요', 2), ('진동', 3), ('쓴다', 1), ('푹신푹신', 1), ('항', 2), ('두말', 1), ('례', 1), ('눈썹', 2), ('뽑히', 1), ('상장', 1), ('벽지', 2), ('ᆞ드', 1), ('촣아요', 1), ('신생', 1), ('아실', 2), ('리원', 1), ('젖꼭지', 3), ('버거워', 1), ('65', 1), ('푸짐', 1), ('보내왔', 1), ('본인', 2), ('구겨진', 1), ('해봄', 1), ('헛웃음', 1), ('👍🏻', 1), ('ᆞ넘', 1), ('ᆞ변질됨', 1), ('ᆞ너무', 1), ('ᆞ변질되어', 1), ('가짜', 2), ('판치', 1), ('모습', 1), ('진실', 1), ('법', 1), ('속임수', 1), ('벌', 2), ('짓', 2), ('는다는', 3), ('스티로폴', 1), ('도구', 1), ('줄어든', 1), ('래나', 1), ('알콜', 3), ('옹이', 1), ('서류', 1), ('떨림', 2), ('세련', 1), ('벽', 5), ('카레', 1), ('골든', 1), ('커리', 1), ('도시락', 3), ('여유증', 2), ('돋보이', 1), ('문외한', 1), ('빵빵', 1), ('뜯긴', 1), ('썻', 2), ('코너', 1), ('일회용품', 1), ('반영구', 1), ('그러므로', 1), ('구우면', 1), ('망했', 3), ('퍼센트', 1), ('치고', 2), ('키친', 1), ('아트', 1), ('썼었', 1), ('서울', 1), ('활짝', 1), ('대구', 1), ('차질', 1), ('관련', 2), ('체크', 3), ('총각', 1), ('무우', 2), ('지문', 2), ('눌러야', 1), ('오프', 2), ('슈즈', 1), ('보라색', 2), ('옵', 1), ('닏다', 1), ('어휴', 2), ('부서', 2), ('양도', 1), ('장수풍뎅이', 1), ('풍뎅이', 1), ('미안', 1), ('서랍', 2), ('수납', 3), ('글쎄', 2), ('빗겨', 1), ('실내', 2), ('나머진', 1), ('판매처', 1), ('편사', 1), ('하미', 1), ('싱', 4), ('디바', 2), ('굵기', 2), ('다네요', 6), ('말랭이', 2), ('당혹', 1), ('드려', 1), ('드시', 1), ('추운', 1), ('젛아요', 1), ('젛으여', 1), ('무도', 1), ('맹', 1), ('바란스', 1), ('으려나', 1), ('쟈', 2), ('구먼', 1), ('헤라', 1), ('기부', 1), ('반성', 1), ('오소리', 1), ('족제비', 1), ('네스프레소', 1), ('피곤', 4), ('앞쪽', 2), ('붙여져서', 1), ('전환', 1), ('밋밋', 2), ('달아보', 1), ('갓', 3), ('펑', 2), ('지질', 1), ('퍼지', 2), ('폭발', 1), ('뽑혔', 1), ('자칫', 1), ('날릴', 1), ('시리얼', 2), ('말아', 1), ('칼로리', 1), ('담백', 3), ('내열', 1), ('족', 1), ('방금', 2), ('실수', 5), ('니트', 2), ('걸기', 1), ('알맞', 2), ('운송장', 2), ('콕', 1), ('뿅', 2), ('사라지', 1), ('곪', 1), ('가라앉', 1), ('🤔', 1), ('스폰지', 3), ('문지름', 1), ('배수통', 1), ('칙칙', 1), ('정성껏', 1), ('애착', 1), ('느껴졌', 1), ('인조', 1), ('기니', 2), ('는다', 3), ('수월', 1), ('윘네요', 1), ('흔한', 2), ('이렇', 2), ('산란', 1), ('이전', 4), ('탄력', 4), ('이너', 3), ('기기', 3), ('시스템', 1), ('얌', 1), ('현지', 4), ('ㅠㅠㅔ', 1), ('마사지', 2), ('피로', 2), ('풀려', 3), ('담날', 1), ('피부색', 1), ('구하', 1), ('더운', 2), ('베드', 1), ('어차피', 2), ('포징', 1), ('사라짐', 1), ('태운', 1), ('시커먼', 1), ('하필', 1), ('곶감', 1), ('정성', 3), ('메모', 2), ('뻐용ㄱ고맚ㄷㅂ니당', 1), ('셜', 1), ('엿', 3), ('동생', 4), ('봣더네요', 1), ('급사', 1), ('준다니', 1), ('송료', 1), ('배꼽', 2), ('쇼', 4), ('아퍼요', 1), ('만족도', 2), ('깁니다', 2), ('상관없이', 1), ('슴당', 1), ('원피스', 3), ('코디', 1), ('크레', 5), ('벗겨진', 2), ('흐음', 1), ('05', 1), ('기록', 3), ('두꺼우', 1), ('계획', 3), ('세우', 1), ('거실', 4), ('*', 4), ('200', 2), ('뒤집', 5), ('시켜야', 2), ('확장', 2), ('든지', 1), ('충분', 2), ('핮니다', 1), ('지옥', 1), ('노력', 1), ('그릴', 1), ('롯', 1), ('대도', 1), ('흡', 2), ('작살', 1), ('자니', 2), ('쓸려구', 1), ('쓴다는', 1), ('얹', 2), ('이쁜', 5), ('강해요', 3), ('내려', 3), ('납품', 1), ('냐고', 4), ('터졌', 3), ('환심', 1), ('\"', 6), ('하트', 3), ('커녕', 1), ('미끄럼', 4), ('조수석', 2), ('갈려', 1), ('쌍수', 1), ('피멍', 1), ('수시로', 1), ('무서', 1), ('협', 1), ('탁이', 1), ('롤러스케이트', 1), ('드러', 1), ('돌아갑니다', 1), ('평생', 1), ('16', 2), ('무용지물', 1), ('물놀', 2), ('소소', 1), ('플러스', 1), ('오토', 3), ('강풍', 2), ('모드', 5), ('변하', 4), ('초록색', 1), ('량', 2), ('진다는', 1), ('택', 3), ('스우시', 1), ('매끈', 1), ('구매자', 3), ('환절기', 1), ('컴퓨터', 4), ('사양', 2), ('마우스', 2), ('+', 14), ('스프레이', 1), ('뜨끈뜨끈', 1), ('중독', 1), ('삐', 1), ('득', 2), ('스프링', 2), ('표', 1), ('삐져', 1), ('끼리', 2), ('돌아다녀', 1), ('젼', 4), ('올랐', 1), ('해용', 6), ('얋아서', 1), ('콧발랏어요', 1), ('하얘', 1), ('됏는데', 2), ('여행지', 1), ('섞인', 3), ('랬는', 1), ('쿠', 4), ('깅호일로', 1), ('부서질', 2), ('무서울', 1), ('사다리차', 1), ('결과', 4), ('옆면', 1), ('셀카', 1), ('그럴까', 1), ('uv', 1), ('경화', 1), ('했는데도', 4), ('떨어질', 3), ('조짐', 1), ('후지', 1), ('켯네요', 2), ('단호박', 2), ('땡길', 1), ('망가', 1), ('지내', 1), ('비누', 2), ('올게요', 2), ('와중', 1), ('변기', 2), ('올라감', 1), ('물아', 1), ('아셨', 1), ('너덜너덜', 2), ('앱', 2), ('연동', 1), ('쏠리', 1), ('날아가', 3), ('발류', 1), ('섞여서', 3), ('햐', 1), ('달콤', 4), ('젛으네용', 1), ('유난히', 1), ('뒤늦', 1), ('등원', 1), ('추워서', 1), ('보냅니다', 1), ('입고', 1), ('긴목', 1), ('올겨울', 2), ('을께요', 5), ('쁘고', 1), ('만난', 1), ('찐빵', 1), ('까먹', 2), ('트릴', 1), ('밀려서', 2), ('겹쳐야', 1), ('교토', 6), ('권', 3), ('600', 3), ('인상', 1), ('김포', 1), ('공항', 2), ('티켓', 1), ('나눠', 2), ('해서요', 1), ('한영', 2), ('칙', 1), ('업', 6), ('뒤지', 2), ('첫째', 2), ('구겨', 2), ('보담', 1), ('분모', 1), ('국자', 1), ('달려서', 1), ('어벙', 1), ('2004', 1), ('ns', 1), ('r', 1), ('친환경', 2), ('바나나', 1), ('실버', 2), ('반짝거리', 1), ('변경', 4), ('예쁠', 1), ('탄산수', 1), ('영롱', 2), ('덤', 1), ('멋', 3), ('스트라이프', 2), ('어둡', 3), ('도중', 1), ('흔들려서', 1), ('듀', 1), ('야지', 1), ('31', 3), ('벗어나', 1), ('스트로', 1), ('페트', 1), ('감싼', 1), ('프렌치', 1), ('프레스', 1), ('머그', 2), ('체', 2), ('부을', 1), ('검지', 1), ('와인', 1), ('동', 3), ('커터칼', 2), ('잘려져', 1), ('시피', 1), ('배변', 2), ('탁스', 1), ('뚫린', 1), ('빛', 2), ('됫음', 1), ('화요일', 2), ('라니', 3), ('q', 1), ('&', 1), ('안다', 1), ('비면', 1), ('발볼', 3), ('늘려', 1), ('새벽', 3), ('봄', 3), ('맨살', 1), ('공수', 1), ('들려서', 1), ('지켜줄', 1), ('못할', 2), ('흥건', 1), ('파워', 1), ('키트', 2), ('욕', 5), ('접합부', 1), ('찾아보', 1), ('이라고', 1), ('코딱지', 1), ('릇', 1), ('나원', 1), ('..;;;', 1), ('찍히', 1), ('짤려', 1), ('기술', 3), ('라기', 3), ('된다', 3), ('처박혀', 1), ('센타', 1), ('줌', 3), ('코르셋', 1), ('드레스', 2), ('은근', 1), ('수축', 1), ('여부', 1), ('탁전', 2), ('진건', 1), ('섬유', 1), ('유연제', 1), ('논', 2), ('렁', 1), ('49', 1), ('채워서', 1), ('쏟', 1), ('19', 6), ('연필', 1), ('문구', 1), ('쇄', 1), ('반짝이', 1), ('냅', 1), ('날리', 1), ('모던', 2), ('비릿', 2), ('둔지', 1), ('물러서', 1), ('몹시', 1), ('빠진다고', 1), ('공부', 4), ('목장', 1), ('홀더', 3), ('어울립니다', 1), ('ㅑㅎ', 1), ('놨는데', 2), ('팍', 1), ('누룽지', 2), ('림', 1), ('부자연', 1), ('댑니당', 1), ('안락', 1), ('느린', 3), ('[', 1), ('하림', 1), ('펫', 1), ('푸드', 2), (']', 1), ('오리지널', 2), ('리얼', 2), ('그레인', 1), ('42', 1), ('눌려져', 1), ('이랬', 1), ('👎', 1), ('바디', 1), ('농수산', 1), ('테라스', 1), ('외출용', 1), ('요기', 1), ('ㅜ배송받고', 1), ('놨다가', 1), ('하얗', 2), ('함정', 1), ('네일', 2), ('조각난', 1), ('겉보리', 1), ('자마', 1), ('잪뚜껑떨어짐', 1), ('더라구여', 1), ('ㅠㅠㅠ엉엉', 1), ('지전', 1), ('슴다', 2), ('오랫동안', 1), ('트리', 1), ('비뚤어져', 1), ('쫄바지', 1), ('정교', 2), ('힌', 1), ('주관', 1), ('신나', 1), ('패', 2), ('쑤', 1), ('식초', 3), ('적립금', 1), ('주어지', 1), ('선택지', 1), ('기둥', 2), ('굴뚝', 1), ('행거', 1), ('국내', 2), ('더라구', 1), ('슬라이드', 3), ('아낄', 1), ('묶음', 2), ('송품', 1), ('충동', 1), ('괜찬은데', 1), ('짝', 3), ('설사', 4), ('대나', 1), ('무결', 1), ('가시', 3), ('문질러서', 1), ('눕', 1), ('느려', 1), ('증상', 1), ('졋다', 1), ('폐기', 1), ('처분', 1), ('도색', 3), ('졀', 1), ('닦인', 1), ('좁쌀', 1), ('친언니', 2), ('머루', 1), ('포도즙', 1), ('와우', 6), ('누렇', 1), ('다림질', 2), ('인하', 1), ('을려', 1), ('전채', 1), ('색인', 1), ('샏이었네요', 1), ('할걸', 1), ('목공소', 1), ('큰대', 1), ('라드', 1), ('리향', 1), ('안심', 3), ('상술', 1), ('당한', 2), ('나빠서', 1), ('메르', 1), ('실한', 2), ('태어날', 3), ('분사', 4), ('일대', 1), ('왕발', 1), ('ㅡㄱㄷ슨독디ㅡㄱㄷ', 1), ('쿠폰', 3), ('적용', 1), ('차감', 1), ('열감', 2), ('엉켜서', 1), ('말캉', 1), ('u', 1), ('자형', 1), ('푸', 2), ('룬', 1), ('주스', 2), ('에여', 3), ('보드랍', 1), ('건더기', 1), ('ㅇ린', 1), ('ㅏㄴ머ㅏ리낭러ㅣㄴ어린멀이ㅓㄴ미ㅏㄹㄴㅇ랑ㄹ', 1), ('약산성', 1), ('과대', 1), ('발소리', 1), ('저급', 1), ('이빨', 2), ('갑니다', 2), ('글씨', 3), ('석고', 1), ('기루', 1), ('묻어나', 4), ('셧', 2), ('보너스', 1), ('박수', 2), ('^^.', 1), ('광피', 1), ('라이', 4), ('헤봤', 1), ('눌러붙', 2), ('이태리', 1), ('유로', 1), ('줬었', 1), ('피드백', 1), ('쫀득', 1), ('면은', 2), ('어울어지', 1), ('새콤', 2), ('찢어졌', 2), ('허브티', 1), ('포개', 1), ('깊', 4), ('ll', 2), ('임신', 1), ('비너스', 1), ('거뭇거뭇', 1), ('영화', 1), ('캐릭터', 2), ('.!!', 1), ('못허', 1), ('분기', 1), ('서핑', 2), ('진정', 2), ('됩ㄴㅣ다', 1), ('그치만', 1), ('워낙에', 1), ('독한', 1), ('치료', 1), ('간지럼', 1), ('거려서', 1), ('텐', 2), ('놀라', 1), ('입문', 1), ('폭풍', 1), ('시급', 1), ('^^~~', 1), ('여태껏', 1), ('키토', 1), ('룸', 1), ('이불장', 1), ('그램', 1), ('에다가', 1), ('더더욱', 1), ('으려구요', 2), ('드셔', 1), ('초무침', 1), ('도라지', 1), ('무침', 1), ('탱탱', 1), ('수확', 1), ('포만감', 2), ('곁들여', 1), ('매워', 3), ('익혀', 2), ('수온', 1), ('어린', 1), ('데울', 1), ('목욕탕', 1), ('시설', 1), ('경계선', 1), ('끓일', 1), ('온통', 1), ('눈깔', 1), ('신가', 1), ('짱깨', 2), ('마인드', 3), ('신답니다', 1), ('두루두루', 1), ('양옆', 1), ('세모', 1), ('계시', 2), ('끈적거림', 1), ('제게는', 1), ('하얘지', 1), ('켯는데', 1), ('랫', 3), ('담부', 1), ('턴', 1), ('감하', 1), ('증말', 1), ('롱', 3), ('대는', 1), ('사자', 2), ('말자', 1), ('mlb', 1), ('헤어밴드', 1), ('ㅠㅡ', 1), ('실온', 2), ('원인', 1), ('일까요', 2), ('대나무', 1), ('칠해져', 1), ('누우', 1), ('모공', 2), ('로페', 1), ('ㅐ대', 1), ('둳ㅍ개구걔', 1), ('ㅜㅍ젇ㅍ다다ㅡ거ㅗㅎㅈㅍ덩', 1), ('다대', 1), ('쟆ㄷ', 1), ('ㅍ다', 1), ('ㅐ다아아퐆ㅆㅍ럐래아아아됴래다다ㅜ덛ㅍ개개다더', 1), ('흐느적거림', 1), ('낚이', 1), ('녹물', 3), ('기냥', 2), ('좋아해서', 1), ('매월', 1), ('흰머리', 2), ('보일', 1), ('염색', 2), ('밝은색', 1), ('도포', 1), ('는디', 1), ('땀', 6), ('건조대', 2), ('아이싱', 1), ('휜', 1), ('긴가', 1), ('달린', 2), ('짚', 1), ('스테이플러', 1), ('꽂혀', 1), ('떫', 1), ('비호', 1), ('음질', 4), ('고추가', 2), ('청양', 2), ('고추', 3), ('치즈', 1), ('촬', 1), ('줄어든다는', 1), ('비딱', 1), ('래빗', 1), ('팝업', 1), ('선명', 3), ('테팔', 1), ('고개', 1), ('가누', 2), ('뒷목', 1), ('바쳐', 1), ('시커매', 1), ('방향', 1), ('거꾸로', 1), ('됏고', 1), ('부호', 1), ('china', 1), ('떡볶이', 3), ('비들', 1), ('홈플러스', 1), ('둬', 1), ('나와', 5), ('어유', 1), ('누루', 1), ('달랑', 4), ('뽁', 3), ('진공', 1), ('지워졌', 2), ('올려요', 1), ('자동차', 1), ('뒤집혀서', 1), ('손재주', 2), ('총알', 1), ('탄생석', 1), ('크런치', 1), ('싯', 1), ('회전', 1), ('득수', 1), ('깥이', 1), ('알려준', 1), ('~~^^*', 1), ('너트', 1), ('노이', 1), ('겉보기', 1), ('넥타이', 2), ('띁', 1), ('절단', 4), ('문방구', 1), ('비닐봉투', 1), ('더웠으면', 1), ('토닉', 2), ('ㅊ아요', 1), ('맨데', 1), ('ㅊ습니다', 1), ('펑크', 2), ('!!!!!!!!', 1), ('ㅇㄴㄹ', 1), ('합시다', 1), ('단서', 1), ('반대쪽', 1), ('노즐', 1), ('스테인리스', 1), ('그다지', 3), ('가늠', 1), ('눈금', 1), ('한다면', 2), ('돌려도', 2), ('프라이어', 2), ('살립니다', 1), ('뱉', 2), ('살펴', 1), ('나사선', 1), ('변했', 1), ('빅스', 1), ('톤', 2), ('탐나', 1), ('아끼', 1), ('지워져', 3), ('텍', 2), ('뻔한데', 1), ('부니', 1), ('튀어나와', 1), ('주방', 3), ('조카', 2), ('장난치', 1), ('무가당', 3), ('아이스박스', 1), ('탄대', 1), ('매요', 1), ('만만', 1), ('올해', 3), ('말기', 1), ('불러서', 1), ('었었', 2), ('ㅠㅠ그래도', 1), ('240', 1), ('멍들', 1), ('신어', 1), ('잴', 1), ('베리', 2), ('따갑', 3), (',,', 1), ('굴러가', 1), ('덜컹거림', 1), ('소변', 1), ('가릴', 1), ('반전', 1), ('아닉', 1), ('뿌옇', 1), ('이중', 3), ('볼꺼', 1), ('스토어', 1), ('pick', 1), ('현저', 1), ('꺼낼', 3), ('아구', 1), ('삐뚤삐뚤', 1), ('뷸편합니다', 1), ('녹색', 1), ('밧데리', 1), ('안네', 1), ('마니라', 1), ('ㅡ너뉴ㅡ트투뎌어뎌터더', 1), ('ㅓ자ㅐ어오거로', 1), ('ㅐ애쟤대오어도옫로러', 1), ('글로브', 1), ('직행', 1), ('발송전', 1), ('외부', 1), ('찢긴', 1), ('넘어갈', 1), ('꼼꼼히', 3), ('했어야', 2), ('엉뚱', 1), ('줄무늬', 1), ('민망', 3), ('알림', 2), ('스카이', 2), ('색맹', 1), ('우중충', 1), ('하늘', 2), ('난대요', 1), ('큰일날', 2), ('냉면', 3), ('구림', 1), ('데여', 1), ('읺앙ㅎ', 1), ('미끄러워서', 1), ('더번', 1), ('겸해서', 1), ('체중', 1), ('감량', 1), ('ㅡ심해서', 1), ('노랗', 2), ('주력', 1), ('양식', 1), ('즐길', 1), ('행복', 1), ('볼께', 1), ('쪽쪽', 1), ('소독기', 1), ('대서', 3), ('욯ㅎ', 1), ('in', 2), ('구석진', 1), ('벽면', 1), ('쩐', 1), ('넥', 2), ('목도리', 3), ('대바늘', 1), ('케이프', 1), ('**,', 1), ('라떼', 2), ('없애', 1), ('한몫', 1), ('터', 3), ('토', 1), ('큐', 2), ('뉴', 2), ('탸누ㅜ어터터튜튜쿄텨오놑', 1), ('세이브', 1), ('제멋대로', 2), ('접혀', 2), ('접힐', 1), ('개의', 1), ('ok', 1), ('쿼트', 1), ('릅이', 1), ('기구', 2), ('여기사', 1), ('즉각', 1), ('대처', 2), ('스치', 2), ('훌륭', 3), ('사요', 1), ('구부', 1), ('못난이', 1), ('였으며', 1), ('직후', 1), ('말라서', 2), ('콩나물', 1), ('질김', 2), ('라서요', 2), ('무량', 1), ('조명', 1), ('보냄', 1), ('모자람', 1), ('부서짐', 1), ('장사치', 1), ('엏다고', 1), ('기달리', 1), ('만듭니다', 1), ('초장', 1), ('야할', 1), ('아무튼', 2), ('꿀', 2), ('마라', 1), ('갈아주', 1), ('드실', 2), ('호떡', 1), ('을껄', 1), ('비염', 1), ('요구르트', 1), ('ㅗ하네용', 1), ('오너', 1), ('포켓', 1), ('운전석', 1), ('휴지통', 1), ('송운', 1), ('태도', 3), ('개욕', 1), ('안방', 5), ('뚸야겟어요', 1), ('숨쉬기', 1), ('붙히', 2), ('ᆢㅎ아요', 1), ('피아노', 1), ('아라', 2), ('ㅜㅠㅠ', 1), ('~~~~^^', 1), ('민무늬', 1), ('부드러워진', 1), ('쓰린', 1), ('달래', 1), ('해줌', 1), ('어느새', 1), ('내려갑니다', 1), ('외투', 1), ('우쿨렐레', 1), ('대해', 2), ('연주', 1), ('노우', 1), ('기관지', 1), ('끈적임', 1), ('~~^^!', 1), ('인테리어', 4), ('벗겨져', 1), ('올라옴', 1), ('쓰라려', 1), ('슈바', 1), ('오규', 1), ('그르', 1), ('닦여', 1), ('요요', 1), ('고속', 5), ('햄스터', 1), ('신겨', 2), (';)', 1), ('바넷', 1), ('빼내', 1), ('껴', 1), ('퀵', 1), ('릴리스', 1), ('오래갈', 1), ('지지', 3), ('디비', 1), ('시디시', 1), ('시이', 2), ('지시', 1), ('승', 2), ('신맛', 1), ('나타나', 2), ('간지러워', 2), ('눈모양', 1), ('어려워요', 2), ('중단', 1), ('콘센트', 2), ('매립', 1), ('채집통', 2), ('해당', 2), ('이슈', 1), ('최소한', 2), ('지직거리', 1), ('다닙니다', 1), ('메밀', 1), ('콩국수', 2), ('^-^~*', 1), ('ㅓㄴ하네욤', 1), ('씹혀', 1), ('박혀', 1), ('사량', 2), ('ㅡ고정이', 1), ('리펀', 1), ('급한', 3), ('ㅕㅕ', 1), ('명품', 2), ('남겨야', 1), ('글러브', 1), ('쓰다', 1), ('각화증', 1), ('따가움', 1), ('레드', 4), ('공원', 1), ('땨', 1), ('😄', 1), ('원분', 1), ('습도계', 1), ('어마', 1), ('무시', 1), ('고서', 2), ('악의', 1), ('할께', 2), ('제값', 1), ('미싱', 1), ('엉망진창', 3), ('두터운', 1), ('으려니까', 1), ('도드라져', 1), ('가슴골', 1), ('짐승', 1), ('빠', 4), ('삼주', 1), ('%~~~~~', 1), ('츕츕', 1), ('샤넬', 1), ('당첨', 1), ('망가진', 1), ('파프리카', 1), ('글쎄요', 2), ('갤럭시', 2), ('엣지', 1), ('.^^', 2), ('서로', 2), ('아토', 1), ('앤', 1), ('배부르', 1), ('두꺼웠', 1), ('선생', 1), ('수강', 1), ('명란', 1), ('파치', 1), ('마실려고', 1), ('부으', 1), ('영어', 1), ('동남아', 1), ('차갑', 1), ('실색', 1), ('작아지', 1), ('👍🏼', 1), ('보존력', 1), ('끄', 2), ('따끈따끈', 1), ('소화', 3), ('160', 1), ('얼추', 1), ('제철', 1), ('븉지않아ㅛ', 1), ('아뇨', 1), ('사촌', 1), ('중과', 1), ('깜찍', 2), ('더덕', 1), ('욱', 1), ('방기', 1), ('손소', 1), ('독제', 1), ('클린', 1), ('액', 2), ('회식', 1), ('나위', 1), ('결로', 1), ('빠져나가', 1), ('배수구', 1), ('머치', 1), ('해져요', 1), ('ㆍ그럭저럭', 1), ('으실', 1), ('망신', 1), ('웃긴', 1), ('해프닝', 1), ('파티', 1), ('욬ㅋㅋ', 1), ('드라이버', 1), ('나용', 3), ('ㅏ처', 1), ('파파', 1), ('ㅏ하', 1), ('ㅏㅠ', 1), ('ㅝ해', 1), ('대재', 1), ('ㅐ뱔', 1), ('퍄펴ㅗ조저ㅑㅍ두랴패ㅓ저저파더더ㅓ퍄러어팍두ㅏ어파', 1), ('ㅜ파라ㅏㅇ', 1), ('뎁', 1), ('화재', 1), ('이어질', 1), ('실외기', 1), ('앵글', 1), ('배관', 1), ('가스', 1), ('실랑이', 1), ('느니', 1), ('엘지', 1), ('꼭지', 3), ('ㅜㅡㄴ', 2), ('은가', 1), ('별한', 1), ('릿', 2), ('감칠맛', 1), ('gmo', 1), ('개조', 1), ('거번', 1), ('계산', 1), ('따로따로', 2), ('어진', 1), ('시즈', 1), ('식습관', 2), ('규칙', 1), ('살도', 1), ('디톡스', 2), ('펀', 2), ('^', 4), ('스지', 1), ('해체', 1), ('이곳저곳', 1), ('한층', 1), ('큐티', 1), ('귀욤', 2), ('비어', 1), ('바닐라', 1), ('요것', 1), ('호불호', 1), ('곡물', 1), ('느려서', 2), ('군포', 1), ('으러', 2), ('쌉싸름', 1), ('포장지', 2), ('옹', 1), ('드셔서', 1), ('픽서', 1), (',,?', 1), ('ㅠㅠㅠ손등에', 1), ('망칠', 1), ('네유', 1), ('트리스', 1), ('어린아이', 2), ('미끄러울', 1), ('독하', 1), ('찡하', 1), ('걸릴', 2), ('말려요', 1), ('.........', 1), ('눌려', 2), ('깜박이', 1), ('해결책', 1), ('내주', 1), ('랭', 1), ('요리조리', 1), ('업소', 1), ('소세지', 1), ('상해', 1), ('세통', 1), ('재채기', 2), ('라임색', 1), ('잔뜩', 1), ('새까맣', 2), ('더러움', 3), ('할려다가', 1), ('유산균', 1), ('켱석지마세요', 1), ('일으켜도', 1), ('세워져', 1), ('지불', 1), ('동식', 1), ('강력히', 1), ('이수유', 1), ('시에', 1), ('?!', 1), ('지성', 1), ('우루', 1), ('오스', 1), ('강한', 3), ('틀어졌', 1), ('도와', 1), ('협력', 1), ('상없', 1), ('발열', 1), ('공짜', 1), ('가질', 1), ('통부', 1), ('쏘옥', 1), ('금새', 2), ('열심', 1), ('힣', 1), ('노끈', 2), ('묶여', 1), ('ㅡ회색이랑같이', 1), ('물청소', 1), ('귀포', 1), ('ㅡ나', 1), ('튜닝', 1), ('아리', 1), ('세정', 1), ('네임', 1), ('치마', 2), ('티슈', 1), ('시커멓', 1), ('왈', 1), ('반짝임', 1), ('촌스럽', 1), ('봉도', 1), ('다쳤', 1), ('덮개', 1), ('거름망', 1), ('패스', 1), ('가니', 1), ('찾아다닐', 1), ('썻습니다', 1), ('이동식', 1), ('조립식', 1), ('어려웠어요', 1), ('맞췄', 1), ('95', 5), ('단위', 1), ('자는', 2), ('겁니까', 1), ('배앓이', 1), ('바지락', 1), ('해산물', 1), ('두족류', 1), ('ㅍㅍ', 1), ('아크릴', 3), ('자른', 1), ('단면', 1), ('다구', 1), ('엉터리', 1), ('유효', 1), ('저서', 1), ('온기', 1), ('_', 1), ('수대', 1), ('애쉬', 1), ('딧ㆍ', 1), ('ㆍㅅ', 2), ('ㅊㆍ', 1), ('ㅌㆍ', 1), ('스스', 1), ('으으', 1), ('ㆍㅅㆍㅇㆍㅅㆍㄷㄱㄷ그늑ㄷㄱㄷㄴㅈㆍ', 1), ('위아래', 1), ('퇴짜', 1), ('맞기', 1), ('정직', 1), ('기업', 1), ('어죽', 1), ('마른', 1), ('스쿱', 1), ('갈색빛', 1), ('적선', 1), ('던졌', 1), ('부어서', 1), ('줄여도', 1), ('왠걸', 1), ('실디', 1), ('퓨저', 1), ('내발', 1), ('급여', 1), ('영양', 1), ('왕골', 1), ('챙', 1), ('추욱', 1), ('뮬', 1), ('치곤', 2), ('점심', 1), ('전자레인지', 1), ('바삭바삭', 2), ('괜챦', 1), ('차기', 1), ('착력', 1), ('매가리', 1), ('당당', 1), ('걸까요', 3), ('고환', 1), ('절차', 1), ('경제', 1), ('시끄러워', 1), ('걍쪄서도먹고', 1), ('혈액', 1), ('순환', 1), ('쪼끔', 1), ('ahc', 1), ('다를', 1), ('오이지', 2), ('담그', 2), ('소태', 1), ('담가', 2), ('갖은', 1), ('지외', 1), ('반증', 1), ('편치', 1), ('프라', 1), ('두상', 1), ('갑갑', 1), ('턱', 1), ('아몬드', 1), ('브리즈', 1), ('자료', 1), ('육수', 1), ('아기과자', 1), ('담기', 1), ('퍼져', 1), ('민감', 1), ('아무거', 3), ('밀착력', 1), ('송지연', 2), ('찾아오', 1), ('코스트코', 1), ('프리미엄', 2), ('두루마리', 1), ('잠기', 1), ('ㅠㅠ아', 1), ('거래', 1), ('고마우', 1), ('pcb', 1), ('기판', 2), ('축', 1), ('씌운', 1), ('라벨', 2), ('눌러', 3), ('태', 2), ('접어넣', 1), ('전거', 2), ('벴', 1), ('벼', 2), ('포', 4), ('👍🏻👍🏻👍🏻', 1), ('치도', 1), ('읍', 1), ('담긴', 1), ('모기장', 1), ('지터', 1), ('깊이', 2), ('김밥', 1), ('퐁퐁', 1), ('토하', 1), ('쿨링', 1), ('으라', 1), ('ㅜㅜ가려지는', 1), ('허리띠', 2), ('압력', 1), ('풀리', 1), ('날카롭', 1), ('ab', 1), ('씬', 1), ('자연광', 1), ('빤들거리', 1), ('계심', 1), ('달치', 2), ('감태', 1), ('추출물', 1), ('뚜꺼운', 1), ('스카프', 1), ('걸어야', 1), ('쓰레', 1), ('빗자루', 2), ('ㆍ손아파요', 1), ('비스듬이', 1), ('ᆢ빗자루봉도', 1), ('군내', 1), ('심했', 1), ('가벼우', 2), ('그려지', 2), ('샤브샤브', 1), ('외형', 1), ('클릭', 1), ('aaa', 1), ('변환', 1), ('별생각', 2), ('살아나', 2), ('동반', 1), ('철철', 1), ('거린다', 1), ('모를까', 1), ('하판', 1), ('알미늄', 1), ('구조', 2), ('눌릴', 1), ('메인', 3), ('충동구매', 1), ('ㅠㅠㅋ', 1), ('반짝', 1), ('친정집', 1), ('ㅠㅠ근데', 1), ('인디', 1), ('하기스', 1), ('기엽', 1), ('더블', 1), ('문안', 1), ('게나', 1), ('홍콩', 1), ('담배', 1), ('견적', 2), ('누구', 1), ('걸쳐서', 1), ('설정', 1), ('시중', 2), ('좌석', 1), ('뗏다붙잇다', 1), ('사소', 1), ('할려는', 1), ('겨울철', 1), ('폐', 1), ('그랬었', 1), ('소만', 1), ('파사', 1), ('모에', 1), ('맛본', 1), ('반질반질', 1), ('🔥', 2), ('풍구', 1), ('겅도', 1), ('기전', 1), ('먹일게요', 1), ('히트', 1), ('먹거리', 1), ('칼라', 1), ('-)', 2), ('여분', 1), ('할듯', 1), ('167', 1), ('건만', 1), ('원초', 1), ('민폐', 1), ('커텐', 2), ('해물', 1), ('장찌개', 1), ('탕', 2), ('바를', 1), ('난데', 2), ('바라지', 1), ('율', 2), ('한포', 3), ('쇼파', 2), ('물렸', 2), ('😁', 1), ('다크', 1), ('인트', 1), ('치아', 1), ('앞니', 1), ('초딩', 1), ('연두색', 1), ('날짜', 4), ('촉박', 1), ('검품', 2), ('카카오', 1), ('수입', 1), ('어쩐지', 2), ('무안', 1), ('양파', 5), ('눈알', 1), ('붙인', 1), ('거미줄', 1), ('메리', 1), ('지도', 1), ('잔지', 1), ('탈출', 1), ('떄', 1), ('장모종', 1), ('엉킨', 1), ('랜즈', 1), ('외관', 1), ('검사', 1), ('걸린다면', 1), ('통관', 2), ('맨날', 2), ('시도', 3), ('상다리', 1), ('한다고', 6), ('파츠', 3), ('550', 1), ('특성', 1), ('까슬까슬', 1), ('메', 4), ('2900', 1), ('225', 1), ('내지', 1), ('교대', 1), ('완벽', 3), ('라브라', 1), ('렛', 1), ('어려', 1), ('웠는데요건덜부담스런데다완전편해요', 1), ('보드라운', 1), ('예측', 1), ('저버리', 1), ('으리라고', 1), ('건강식품', 1), ('빵점', 1), ('유선', 1), ('밝히', 1), ('였으나', 2), ('주장', 1), ('조치', 1), ('취하', 1), ('아재', 1), ('한우', 2), ('뿔', 1), ('등심', 1), ('구동', 1), ('자고', 1), ('핸드', 1), ('워시', 1), ('건진', 1), ('렌', 2), ('얀', 1), ('꼿꼿', 1), ('징그러워', 1), ('닭발', 1), ('폭신폭신', 1), ('팡', 5), ('뛰어다녀도', 1), ('한디', 1), ('평점', 1), ('당했', 1), ('이삭', 1), ('토스트', 1), ('진장', 1), ('지원', 1), ('톰포드', 2), ('사러가', 1), ('목욕', 2), ('려고요', 1), ('캔버스', 1), ('특유', 2), ('추후', 2), ('돌돌', 1), ('쑥', 1), ('킹사이즈', 1), ('웟고', 1), ('바삭', 1), ('긴데', 2), ('스포츠', 1), ('몰딩', 1), ('찍혔', 1), ('가나', 1), ('다라', 1), ('바다', 3), ('사아', 1), ('미끌거리', 1), ('말라붙', 1), ('적어도', 1), ('가져가', 1), ('가려', 2), ('열무', 1), ('프러포즈', 1), ('꽃다발', 1), ('신부', 1), ('샘', 1), ('으렵니다', 1), ('덧대', 1), ('샤워', 4), ('앵', 1), ('천장', 2), ('올렸', 2), ('조그마', 1), ('드름', 2), ('안생', 1), ('지만요', 1), ('테스', 1), ('트기', 1), ('색이', 2), ('아각', 1), ('텅', 1), ('ㅛ', 1), ('을려구요', 1), ('라만', 1), ('노니', 2), ('ㅘㅂ니다', 1), ('뜻밖', 1), ('산타', 1), ('산다고', 1), ('어쨌든', 1), ('믿기', 1), ('나온다', 1), ('접사', 1), ('총각김치', 1), ('계신', 1), ('갈라진', 2), ('맛집', 1), ('으루', 1), ('크로버', 2), ('목줄', 1), ('벌겋', 1), ('긁적긁적', 1), ('폴란드', 1), ('반영', 1), ('신대서', 1), ('‘', 1), ('’', 1), ('고픔', 1), ('으라고', 1), ('착전', 1), ('nfc', 1), ('모뎀', 1), ('라운드', 1), ('뷰', 2), ('됀', 1), ('착착', 1), ('감김', 1), ('립스틱', 1), ('충전재', 1), ('싸이트', 2), ('쌉니다', 2), ('클래식', 1), ('명칭', 1), ('틀린데', 1), ('유모차', 1), ('아마스', 2), ('짭', 1), ('마치', 2), ('꿋은', 1), ('작살나', 1), ('늘어난', 1), ('쓴다면서', 1), ('어브', 1), ('귀리', 1), ('역해요', 1), ('어덯', 1), ('모릅니다', 1), ('알싸', 1), ('엎', 1), ('두통', 1), ('순서', 2), ('26', 2), ('우통', 1), ('초순', 1), ('열릴까', 1), ('손쉽', 2), ('따져요', 1), ('요옥', 1), ('단지', 3), ('가위질', 1), ('생활', 1), ('조여', 1), ('교통카드', 1), ('태그', 1), ('기다린', 2), ('근', 2), ('당도', 2), ('뛰어나', 1), ('꽉차', 1), ('수압', 1), ('해버려서', 3), ('남겨요', 1), ('구만', 1), ('절약', 1), ('셋', 3), ('면접', 1), ('쫄리', 1), ('포크', 3), ('사이트', 5), ('물어볼', 1), ('곤드레', 1), ('나물', 1), ('새치', 1), ('착색', 1), ('쁘', 1), ('덧댄', 1), ('쏠려', 1), ('분비물', 1), ('75', 1), ('망쳤', 1), ('주의깊', 1), ('110', 1), ('어쩔지', 1), ('우울', 1), ('심한', 3), ('트롤리', 1), ('둘려고', 1), ('참기름', 1), ('교복', 1), ('코스', 1), ('통기성', 1), ('긴장', 1), ('늦추', 1), ('땀띠', 3), ('항공', 2), ('녹여', 1), ('따듯', 1), ('베트남', 2), ('사오', 1), ('순위', 1), ('쌀국수', 1), ('정수리', 1), ('탬', 1), ('ㅏ이', 1), ('럴줄알앗으면안삿네요', 1), ('짧아진', 1), ('닞고싶어서산건데', 1), ('곸ㅋ그럼미리공지를해야지', 1), ('생로', 1), ('넷', 1), ('저고리', 1), ('새록새록', 1), ('으다', 1), ('네모', 1), ('낡', 2), ('놀이', 1), ('밧', 2), ('비즈', 1), ('늘렸', 1), ('셔셔', 1), ('구몬', 1), ('땡', 1), ('뾰쪽한', 1), ('외면', 1), ('우측', 1), ('좌측', 1), ('짝짝이', 1), ('숱', 2), ('짝짝', 1), ('지워짐', 1), ('가끔가다', 1), ('바보', 1), ('에코', 1), ('드롭', 1), ('캐주얼', 1), ('얘', 1), ('-!', 1), ('엉키', 1), ('간주', 1), ('방충망', 1), ('😀', 1), ('중고품', 1), ('책장', 1), ('옮기', 1), ('꼼짝', 1), ('줘', 1), ('갈색', 1), ('아이섀도', 1), ('골라서', 1), ('재미', 1), ('선처리', 1), ('다림', 1), ('샤오미', 3), ('아닌데요', 1), ('국', 1), ('끓였', 1), ('로운', 1), ('가려워서', 1), ('잠결', 1), ('후끈', 1), ('거림', 1), ('아무렇', 1), ('재서', 1), ('표대', 1), ('저대로', 1), ('끼워도', 1), ('21500', 1), ('17500', 1), ('인중', 1), ('흘리', 1), ('임산부', 2), ('팝', 1), ('과육', 1), ('물렀', 2), ('가닥', 2), ('걍입', 1), ('비리', 3), ('혀서', 2), ('매각', 2), ('재구', 1), ('진드기', 1), ('고자', 2), ('칵테일', 1), ('유일', 1), ('당시', 2), ('버벅', 1), ('거렸', 1), ('번성', 1), ('당근', 3), ('보태', 1), ('앏은것도그렇고', 1), ('대문자', 1), ('t', 1), ('j', 1), ('담구', 2), ('괜찬으면', 1), ('규격', 1), ('스레', 1), ('숟가락', 2), ('드세요', 1), ('엠블럼', 1), ('뽀글뽀글', 1), ('벗겨져서', 2), ('공업', 1), ('물들', 2), ('지나치', 1), ('지방층', 1), ('쁜거많던데ᆢ', 1), ('스테이크', 1), ('뒷맛', 1), ('가자미', 1), ('손바닥', 2), ('생긴', 1), ('혀', 1), ('린스', 1), ('푸석', 1), ('1000', 1), ('쓸지', 1), ('젛아용', 1), ('자력', 1), ('틀려요', 1), ('포토', 2), ('지자', 1), ('ㅏ나아', 1), ('실험', 1), ('임박', 1), ('유니클로', 1), ('심리', 1), ('스팬', 1), ('별론', 1), ('넘사벽', 1), ('열흘', 1), ('어라', 1), ('쌔', 1), ('고통', 1), ('잠자리', 2), ('깨달', 1), ('습식', 1), ('술안주', 1), ('동작', 2), ('스마트', 1), ('예방', 1), ('겐', 1), ('앞둔', 1), ('신생아', 1), ('지니', 1), ('우러', 1), ('독일', 1), ('made', 1), ('thailand', 1), ('ㅠㅠ화나요', 1), ('해사', 1), ('버무려져', 1), ('터무니없', 1), ('쌥니다', 1), ('고임', 1), ('장판', 1), ('아무래도', 1), ('놔야', 1), ('대체로', 2), ('반질거리', 1), ('예오', 1), ('칼집', 1), ('번들', 1), ('들어감', 1), ('^^*', 1), ('베쯔니', 1), ('샀었', 3), ('금속', 1), ('62', 1), ('메세지', 1), ('현재', 2), ('뻬리', 1), ('꾸', 2), ('우우', 1), ('만약', 2), ('ㆍ느', 1), ('몇일', 1), ('대시보드', 1), ('어려울', 1), ('중지', 1), ('메시지', 1), ('핸디', 1), ('잠', 1), ('멈추', 1), ('ㅡㅡ뭐죠', 1), ('기평', 2), ('모근', 1), ('소름', 1), ('끼치', 1), ('욬ㅋㅋ확인', 1), ('욬ㅋㅋㅋ반품', 1), ('서프라이즈', 2), ('드린다고', 1), ('조화', 3), ('생화', 2), ('손빨래', 1), ('먹물', 1), ('쭉쭉', 1), ('껏', 2), ('어떡', 1), ('가게', 1), ('시저스', 1), ('골드바', 1), ('닠ㅋㅋㅋ', 1), ('실화', 1), ('으라구', 1), ('지장', 1), ('단기간', 2), ('판가름', 1), ('익혔', 2), ('격하', 1), ('어링', 1), ('시부모', 1), ('폄', 1), ('수건걸이', 1), ('동물', 2), ('즐거움', 1), ('질감', 3), ('안들', 1), ('상부', 1), ('런', 1), ('!!!^^', 1), ('아인데', 1), ('마셨', 3), ('마니파', 3), ('말림', 1), ('토프', 2), ('자켓', 1), ('길바닥', 1), ('필', 1), ('부력', 1), ('위주', 1), ('본연', 1), ('마늘', 2), ('친정', 1), ('rc', 1), ('왔으나', 1), ('가장자리', 1), ('윗부분', 2), ('나빠져', 1), ('9900', 1), ('뗀', 1), ('.)', 1), ('시원찮', 1), ('올라타', 1), ('쁩니당', 5), ('운서', 1), ('세수', 1), ('두깨', 1), ('균일', 1), ('마더', 1), ('자나', 1), ('변합니다', 1), ('봅', 1), ('애매', 2), ('시범', 1), ('함꼐', 1), ('부드러웠', 1), ('24', 2), ('고추장', 1), ('배알', 1), ('예쁜데', 2), ('쏟아질', 1), ('이요', 1), ('틀어져서', 1), ('밀폐', 1), ('갈아탔', 1), ('요거', 2), ('바꿈', 1), ('섭취', 1), ('텐데요', 2), ('예뻤', 2), ('몰입', 1), ('소리나', 2), ('씨알', 1), ('상사', 1), ('쉅네요', 1), ('ㅌㅋㅋ굳입니다', 1), ('~~~!', 1), ('새우전', 1), ('지치', 1), ('정치', 1), ('한달전', 1), ('선식', 2), ('미숫가루', 2), ('ㅡㅜ', 1), ('깜깜', 1), ('무소식', 1), ('후드', 1), ('출발', 1), ('발기', 1), ('못했었', 1), ('큰언니', 1), ('형부', 1), ('생강', 2), ('자잘', 1), ('터집니다', 1), ('터질', 1), ('냉이', 1), ('아진', 1), ('괜찬아요', 1), ('도오', 1), ('ㅗㅌ투웡', 1), ('ㅊ', 2), ('여여', 2), ('영여', 1), ('ㅕㅇ', 1), ('왼손', 1), ('발랐', 2), ('스킬', 1), ('엄지', 1), ('~~~!!', 1), ('끈적이', 1), ('애먹', 1), ('아랫', 1), ('핵', 1), ('수차례', 1), ('먹임', 2), ('아함', 1), ('괜창하허', 1), ('바송', 1), ('격', 1), ('복사', 2), ('던져서', 1), ('생전', 1), ('할래', 1), ('깨물', 1), ('찜통', 1), ('식겁', 2), ('약효', 1), ('편광', 1), ('분유', 1), ('커야', 1), ('패밀리', 1), ('생겼으면', 1), ('파라', 1), ('허어', 1), ('ㅓ너허하네나팦', 1), ('계십니다', 1), ('밑판', 2), ('젖혀', 1), ('색은', 1), ('지가', 1), ('뻗', 2), ('조리법', 1), ('각개', 1), ('샌다', 1), ('궁금증', 1), ('을래요', 1), ('삐뚤어져', 1), (';;;;', 2), ('정전기', 1), ('스며들', 1), ('공유기', 3), ('톱', 1), ('윌', 1), ('준다는', 2), ('무더위', 1), ('상했', 1), ('두려움', 1), ('^*^', 1), ('얻', 2), ('노랭이', 1), ('사이드', 1), ('활발', 1), ('영향', 1), ('자수', 1), ('뒤집히', 1), ('새겨져', 1), ('아파트', 1), ('한가', 1), ('ㅜㅜㅜㅜ', 1), ('ㅛ어요', 1), ('ㅠㅠㅠㅠ', 3), ('청결', 1), ('시어서커', 2), ('남방', 1), ('이럴까', 1), ('개판', 1), ('놀라울', 1), ('뭉툭', 1), ('자취', 1), ('장기', 1), ('뵙', 1), ('서려', 1), ('눈앞', 1), ('미니', 1), ('싼타페', 1), ('크루즈', 1), ('품명', 1), ('36', 1), ('뒤죽박죽', 1), ('재대로', 1), ('귀찬', 1), ('qc', 1), ('바퀴벌레', 1), ('홍삼', 1), ('베스', 1), ('어떤지', 1), ('햇님', 1), ('먹방', 1), ('골라', 2), ('불러요', 1), ('거덩', 1), ('흡입력', 1), ('으려', 1), ('260', 1), ('하중', 1), ('내외', 1), ('괜춘', 1), ('윈도우', 1), ('마크', 2), ('에디션', 2), ('자바', 1), ('맞아떨어지', 1), ('저엉', 1), ('우러남', 1), ('치고는', 1), ('마일드', 1), ('참치', 1), ('반쪽', 1), ('딸래미', 1), ('주려', 1), ('700', 1), ('베를린', 1), ('드레스덴', 1), ('프라하', 2), ('끊김', 1), ('웨어', 1), ('살아요', 1), ('생리통', 2), ('안성맞춤', 1), ('샜', 2), ('나와도', 1), ('뒤척', 1), ('거려도', 1), ('입힐', 2), ('막대', 1), ('놀랍', 2), ('클러치', 1), ('치프', 1), ('식물', 1), ('절망', 1), ('모아져', 1), ('미사일', 1), ('배추', 1), ('닢', 1), ('불감', 1), ('포근', 1), ('페이지', 1), ('대추', 1), ('옛날', 1), ('쓰라리', 1), ('예랑', 1), ('구찮', 1), ('잡곡밥', 1), ('해피', 1), ('바스만', 1), ('흐물거리', 1), ('천도', 1), ('탸에', 1), ('찔', 1), ('괸', 2), ('슬립', 2), ('꽁', 1), ('히팅', 1), ('나란히', 1), ('화장품', 3), ('오오', 1), ('달고나', 2), ('원통', 1), ('손전등', 2), ('가해', 1), ('꺼집니다', 1), ('평지', 1), ('래', 1), ('입기', 1), ('짜낸', 1), ('슴니다', 1), ('현장', 1), ('나바', 1), ('멸균', 1), ('페인팅', 1), ('그런가보다', 1), ('ㅇㆍㄱ요', 1), ('이의자', 1), ('짜글짜글', 1), ('써야할지', 1), ('온몸', 1), ('근육통', 1), ('이완', 1), ('특상', 1), ('내려와서', 1), ('매운', 2), ('해줄테', 1), ('쾌적', 1), ('젓갈', 1), ('통일', 1), ('됫으면', 1), ('국내산', 1), ('녹여서', 1), ('ㄲㅐ지만', 1), ('ㅇㅔ', 1), ('걸린다고', 1), ('서민', 1), ('갑부', 1), ('tv', 1), ('시청', 1), ('조조', 1), ('필라테스', 1), ('틴', 1), ('줫오요', 1), ('^_^', 2), ('줄자', 2), ('이만저만', 1), ('어설프', 1), ('나쁩니다', 1), ('플래너', 1), ('132', 1), ('늦가을', 1), ('자루', 1), ('원할하', 1), ('수전', 1), ('걸으면', 1), ('용서', 1), ('아픈', 1), ('노리', 1), ('화가', 1), ('둑', 1), ('투리', 2), ('유축', 1), ('글자', 1), ('이런가요', 1), ('미아', 1), ('팔찌', 1), ('파래', 1), ('크류', 1), ('와라', 1), ('낚', 1), ('낚싯대', 1), ('인위', 1), ('절임', 1), ('젓', 1), ('철물점', 1), ('강', 1), ('ㅜㅜ감사히', 1), ('27', 1), ('집하', 1), ('읎', 1), ('최우선', 1), ('까칠', 1), ('아지', 1), ('ᆢㄷ', 1), ('구스', 1), ('워머', 1), ('날라오', 1), ('지킴', 1), ('위에', 1), ('지정', 1), ('환기', 1), ('상큼', 1), ('카라멜', 1), ('모자를까', 1), ('괜한', 1), ('속지', 1), ('병사', 1), ('음용', 1), ('두병', 1), ('뻑', 1), ('욨슴', 1), ('누드', 1), ('골반', 1), ('소요', 1), ('광어', 1), ('ㅓ무', 1), ('돌배', 1), ('..,,', 1), ('할머니', 3), ('복불복', 1), ('대류', 1), ('고약', 1), ('ㅡㅡㄴ슨ㄱㅇㄴ근ㅂㅈㅇ', 1), ('ㆍ시', 1), ('ㅡㅅ', 2), ('ㅌㄱ', 1), ('ㅇㄱ', 1), ('ㆍ서', 1), ('ㅇㅈㄱㄴㅇ옥ㄴㄱㅂㄷㅅㅂㆍㅅㄱㅇㆍㅅㄱ읏ㄱ', 1), ('????', 1), ('불사조', 1), ('마켓', 1), ('ㅜ바로', 1), ('왜곡', 1), ('와장창', 1), ('치우', 1), ('개짱', 1), ('벅', 1), ('텀블러', 1), ('랏', 1), ('ㄳㄳ', 1), ('연보라', 1), ('가관', 1), ('올라', 1), ('야무지', 1), ('륨', 1), ('이시어', 1), ('어야지요', 1), ('여포', 1), ('걓', 1), ('저오', 1), ('라패', 1), ('퍼대', 1), ('천일염', 1), ('비단', 1), ('머릿결', 1), ('헬스', 2), ('화딱지', 1), ('놀이터', 1), ('괜찮이', 1), ('진로', 1), ('석수', 1), ('그새', 1), ('귀여운데', 1), ('시소', 1), ('톱밥', 1), ('장통', 1), ('무자', 1), ('평보', 2), ('자게', 1), ('달려', 1), ('념장만이더라구용ㅜㅜ', 1), ('인견', 4), ('부인', 1), ('메델', 1), ('후방', 1), ('반값', 2), ('동대문', 1), ('서너', 1), ('스면', 1), ('발판', 2), ('늘어놔', 1), ('연장', 1), ('후크', 1), ('대여', 1), ('우도', 1), ('하다', 1), ('대해서', 1), ('베개', 4), ('발목', 2), ('통통', 1), ('돋운다', 1), ('드십니다', 1), ('바람막이', 1), ('티비', 2), ('다기', 1), ('들떠', 1), ('헨드', 1), ('떨어뜨리', 1), ('튀김', 1), ('고추짱아', 1), ('gm', 2), ('합해서', 1), ('할려', 1), ('짜여', 3), ('걱대', 1), ('속충', 1), ('체리', 2), ('동동', 1), ('동치미', 1), ('드린', 1), ('tt', 1), ('대학', 1), ('피해', 1), ('녹슬', 1), ('즐거웠', 1), ('보온력', 1), ('애용', 1), ('무심', 1), ('짜장', 2), ('겨우겨우', 1), ('소고기', 1), ('라벤더', 2), ('귀거', 1), ('세웠', 1), ('열립니다', 1), ('동그라미', 1), ('비웃음', 1), ('땡처리', 1), ('기회', 1), ('달팽이', 1), ('큰제목', 1), ('당언', 1), ('ps', 1), ('저령', 1), ('반신반의', 1), ('탄내', 1), ('불붙', 1), ('감자전', 1), ('짭조름', 1), ('까슬하', 1), ('다수', 1), ('구우', 1), ('웅', 1), ('ㅜㅇㅅ', 1), ('템포', 1), ('부스트', 1), ('눕혀야', 1), ('농구', 1), ('들어간다고', 1), ('프린트', 1), ('꽃장식', 1), ('다녀오', 1), ('카니발', 1), ('착시', 1), ('속상해', 1), ('부러', 1), ('완성도', 1), ('플라스', 1), ('공책', 1), ('명절', 1), ('폭주', 1), ('일시', 1), ('냉동고', 1), ('글라스', 1), ('옮겨서', 1), ('헛돌', 1), ('망고', 3), ('씹히', 1), ('텨', 1), ('컷', 1), ('하프', 1), ('사면', 1), ('갈아먹', 1), ('!~~', 1), ('ㆍㄱㅅ', 1), ('덧', 1), ('데기', 1), ('구비', 1), ('맞벌이', 1), ('박히', 1), ('유럽', 1), ('kpn', 1), ('파리', 1), ('가감', 1), ('나라', 1), ('지비', 1), ('츠', 1), ('엑스', 1), ('만드', 2), ('철대', 1), ('응', 1), ('고력', 1), ('사악', 1), ('사막', 1), ('곡선', 1), ('실시간', 1), ('닫힘', 1), ('그리거', 1), ('히스토리', 1), ('졌으면', 1), ('까요', 1), ('마무', 1), ('그늘막', 1), ('주택', 1), ('열전달', 1), ('괴', 1), ('비틀즈', 1), ('퍼즐', 2), ('슬램', 1), ('덩크', 1), ('욕구', 1), ('넘칩니다', 1), ('마련', 1), ('걸쭉', 1), ('멀티', 3), ('풀림', 1), ('꼬막', 1), ('메리트', 1), ('쏟아지', 1), ('미끄러운', 1), ('안받음', 1), ('통기', 1), ('사우나', 1), ('치카', 1), ('건장', 1), ('벌어집니다', 1), ('획기적으로', 1), ('안내대', 1), ('암홀', 2), ('e', 1), ('미끄럽', 1), ('꾸깃꾸깃', 1), ('재킷', 1), ('소매', 2), ('밀렸', 1), ('마틸다', 1), ('도복', 1), ('핸드크림', 1), ('빈다', 1), ('♡♡♡', 1), ('묵히', 1), ('흐려', 1), ('지명', 1), ('가독성', 1), ('레벨', 1), ('볼빅', 1), ('로스트', 1), ('바요', 1), ('밥상', 1), ('동시', 1), ('에도', 1), ('뾰루지', 1), ('유리병', 1), ('나사못', 1), ('안마', 1), ('치워', 1), ('갈아치우', 1), ('날까', 1), ('나빠', 1), ('실해', 1), ('쳐다보', 1), ('캣', 1), ('닙이', 1), ('발길', 2), ('효율', 1), ('걸어서', 1), ('향수', 2), ('투성이', 1), ('정책', 1), ('높여도', 1), ('계', 1), ('역할', 1), ('스팀', 1), ('피쳐', 1), ('참으로', 1), ('상세히', 1), ('스런', 1), ('루지', 1), ('젔어요', 1), ('다냐', 1), ('도어', 1), ('여오', 1), ('노어', 1), ('아나', 1), ('노도', 1), ('ㅕ젖', 1), ('ㅐ나너존요옿저냐조조더노오여오냐너도여오오ㅕ오도엉', 1), ('골드색', 1), ('출력', 1), ('튑니다', 1), ('한마디', 2), ('방향제', 1), ('불스원', 1), ('연무기', 1), ('이라도', 1), ('얼굴색', 1), ('플로', 1), ('밑창', 1), ('스니커즈', 1), ('밴', 1), ('늘어남', 1), ('저곳', 1), ('잔돈', 1), ('분주', 1), ('오디', 1), ('?(', 1), ('을수록', 1), ('짭짤', 1), ('오동나무', 1), ('할려구', 1), ('one', 1), ('할려면', 1), ('ㅇ아요', 1), ('ztpydyldyldyllyd', 1), ('심함', 1), ('ㅇ기사님', 1), ('복습', 1), ('오랫만', 1), ('왕창', 1), ('염통', 1), ('배선', 1), ('살치', 1), ('오모', 1), ('롦사삿ㅅ', 1), ('펌', 1), ('^^~', 1), ('빗기', 2), ('다이슨', 1), ('컨디', 1), ('스승', 1), ('단열', 1), ('리모', 1), ('델', 1), ('단열재', 1), ('줄였', 2), ('ㆍ가격대비', 1), ('ㆍㆍㆍ', 1), ('수술', 1), ('어머님', 1), ('비웠', 1), ('뜨거워요', 1), ('스포티지', 1), ('짜르', 1), ('싶어요', 1), ('져왔', 1), ('울산', 1), ('통운', 1), ('파업', 1), ('아담', 1), ('추타', 1), ('튵미ㅏ윹', 1), ('헐렁헐렁', 1), ('체구', 1), ('려구', 3), ('육각', 1), ('렌치', 1), ('들어간', 1), ('투싼', 1), ('샤', 1), ('카트', 1), ('팽팽', 1), ('헐거운', 1), ('심심', 1), ('권사', 1), ('갱엿', 1), ('문질러', 1), ('최선', 1), ('원하', 1), ('호일', 1), ('봉전', 1), ('건대', 1), ('촬영', 1), ('소품', 1), ('헌대', 1), ('낌', 1), ('씡', 1), ('흉', 1), ('슈가', 2), ('저건', 1), ('식용', 1), ('알룩', 1), ('58', 1), ('숙면', 1), ('취했', 1), ('gs', 1), ('대한민국', 1), ('ㆍ우리꺼만그런가요', 1), ('제주', 1), ('수화물', 2), ('다용도', 1), ('가벼운데', 1), ('삐긋', 1), ('벨트', 1), ('소바', 2), ('음영', 1), ('그윽', 1), ('눈매', 1), ('앨범', 1), ('치이', 2), ('레트', 1), ('물씬', 1), ('밑바닥', 1), ('달랐', 1), ('운송', 1), ('빗물', 1), ('원료', 1), ('실망감', 1), ('범퍼', 1), ('종량제', 1), ('싱가포르', 1), ('우비', 1), ('몰드', 1), ('살구색', 1), ('뗄', 1), ('왁', 1), ('씌', 1), ('뭡니까', 1), ('이음', 1), ('붙여야', 1), ('초기', 1), ('반팔', 1), ('조을', 1), ('뾱뾱이', 1), ('걸친', 1), ('돟', 1), ('남기진', 1), ('됏', 1), ('세정제', 1), ('뚫려서', 1), ('안일', 1), ('이왕', 1), ('물때', 1), ('따끔따끔', 1), ('몰', 1), ('카라', 1), ('164', 1), ('일산', 1), ('타운', 1), ('패티', 1), ('윈', 1), ('족족', 1), ('초록', 2), ('한지라', 1), ('석류', 1), ('그런지는', 1), ('프로젝트', 1), ('페이', 1), ('달라졌', 1), ('텁텁', 1), ('갈라짐', 1), ('전반', 1), ('장단점', 1), ('실감', 1), ('천연', 1), ('뷰티', 1), ('혹해서', 1), ('곱슬', 1), ('희뿌연', 1), ('항속', 1), ('담궈서', 1), ('초이스', 1), ('데우', 1), ('^.^', 1), ('ㅠㅠㅋ블랙이', 1), ('옥스포드', 1), ('셔츠', 1), ('린', 1), ('넨', 1), ('까끌까끌', 1), ('경', 1), ('잡힐', 1), ('이력', 1), ('24000', 1), ('20000', 1), ('아이스티', 1), ('차마', 1), ('시던', 1), ('핸', 1), ('혼났', 1), ('33', 1), ('재요', 1), ('모후', 2), ('스크럼', 1), ('가벼워졌', 1), ('다거나', 1), ('슬림', 1), ('내놓', 1), ('지긋지긋', 1), ('들어', 1), ('멋대로', 1), ('동용', 1), ('집기', 1), ('중망', 1), ('회중', 1), ('난다는', 1), ('기름분', 1), ('말랑말랑', 1), ('칼질', 1), ('놨던', 1), ('드는데', 1), ('계절', 1), ('질리', 1), ('치렁치렁', 1), ('전기세', 1), ('나옵니까', 1), ('두꺼비집', 1), ('내려감', 1), ('ㅇㅁㄴㅇㅁㄴㅇㅁㄴㅇㅁㄴㅇㅁㄴㅇㅁㄴㅇㅁㄴㅇ', 1), ('ㅇㄴㅁㅇㅁㄴㅇ', 1), (\";'\", 1), ('ㅓㅁ니ㅏ엄니ㅏ어마ㅣㄴ어ㅑㅏㅣㅁ너이ㅏㅁㄴㅇ', 1), ('ㅏㅣ', 1), ('ㅏㅁ너이ㅏㅁ너아ㅣㅁ너이ㅏㅁ너이ㅏㅁ너이ㅏㅁ너임ㄴ', 1), ('부산', 1), ('27000', 1), ('수요일', 1), ('확률', 1), ('가네', 1), ('달르', 1), ('전압', 1), ('하루치', 1), ('깐', 1), ('캐나다', 1), ('거주', 1), ('사진발', 1), ('코알라', 1), ('치우쳤', 1)])\n"
          ],
          "name": "stdout"
        }
      ]
    },
    {
      "cell_type": "code",
      "metadata": {
        "id": "ODFu4jzoVCds"
      },
      "source": [
        "total_cnt = len(tokenizer.word_index)  \n",
        "rare_cnt = 0 #  2 미만으로 사용된 단어\n",
        "total_freq, rare_freq = 0, 0\n",
        "\n",
        "for key, value in tokenizer.word_counts.items():  # word_counts가 딕셔너리로 되있어서 뽑을 수 있음\n",
        "  total_freq = total_freq + value\n",
        "  if value <= 2:\n",
        "      rare_cnt =  rare_cnt + 1\n",
        "      rare_freq = rare_freq + value  \n"
      ],
      "execution_count": 22,
      "outputs": []
    },
    {
      "cell_type": "code",
      "metadata": {
        "colab": {
          "base_uri": "https://localhost:8080/"
        },
        "id": "KOiYLWnVVpoT",
        "outputId": "41b5cef8-0e7d-4979-dc98-349ff807ec27"
      },
      "source": [
        "total_cnt, rare_cnt, (rare_cnt/total_cnt)*100, (rare_freq/total_freq)*100\n",
        "\n",
        "# 전체 단어 수, 희귀 단어 수, 희귀 단어의 비중, 희귀 단어가 전체 단어 중에서 등장하는 빈도 비중"
      ],
      "execution_count": 23,
      "outputs": [
        {
          "output_type": "execute_result",
          "data": {
            "text/plain": [
              "(8058, 5214, 64.70588235294117, 7.547013503437992)"
            ]
          },
          "metadata": {
            "tags": []
          },
          "execution_count": 23
        }
      ]
    },
    {
      "cell_type": "code",
      "metadata": {
        "id": "uRUT3L4TYHul"
      },
      "source": [
        "vocab_size = total_cnt - rare_cnt  # 사전 단어 수"
      ],
      "execution_count": 24,
      "outputs": []
    },
    {
      "cell_type": "code",
      "metadata": {
        "id": "ksnPe2UbY00P"
      },
      "source": [
        "tokenizer = tf.keras.preprocessing.text.Tokenizer(vocab_size, oov_token='OOV')\n",
        "tokenizer.fit_on_texts(sentence)"
      ],
      "execution_count": 25,
      "outputs": []
    },
    {
      "cell_type": "code",
      "metadata": {
        "colab": {
          "base_uri": "https://localhost:8080/"
        },
        "id": "yQVKDo3VeC3j",
        "outputId": "140addf0-9c02-41ec-abb0-92cd340e695d"
      },
      "source": [
        "x_train_small = tokenizer.texts_to_sequences(sentence)\n",
        "print(x_train_small[0:3])"
      ],
      "execution_count": 26,
      "outputs": [
        {
          "output_type": "stream",
          "text": [
            "[[114, 35, 108, 756, 1221, 11, 21, 47, 8, 139, 40, 3, 100, 495, 805, 4, 48, 163, 9, 5, 28, 89, 757, 1837, 127, 19, 49, 73, 920, 89, 69, 320, 4, 32, 5, 204], [359, 1109, 1, 598, 1000, 63, 215, 7, 1109, 11, 21, 3, 84, 62, 41, 74, 7], [259, 141, 95, 12, 1389, 294, 2211, 305, 2212, 62, 1, 2, 29]]\n"
          ],
          "name": "stdout"
        }
      ]
    },
    {
      "cell_type": "code",
      "metadata": {
        "colab": {
          "base_uri": "https://localhost:8080/"
        },
        "id": "I_C5CL7GeXPY",
        "outputId": "8d7b5d85-f974-49d5-f38b-a7e8e697d26d"
      },
      "source": [
        "len(x_train_small[0]), len(x_train_small[15]), len(x_train_small[40])"
      ],
      "execution_count": 27,
      "outputs": [
        {
          "output_type": "execute_result",
          "data": {
            "text/plain": [
              "(36, 9, 21)"
            ]
          },
          "metadata": {
            "tags": []
          },
          "execution_count": 27
        }
      ]
    },
    {
      "cell_type": "code",
      "metadata": {
        "id": "cirFPOSSet5C"
      },
      "source": [
        "hist_len = [ len(words) for words in x_train_small ]"
      ],
      "execution_count": 28,
      "outputs": []
    },
    {
      "cell_type": "code",
      "metadata": {
        "colab": {
          "base_uri": "https://localhost:8080/",
          "height": 476
        },
        "id": "rTkWPARMfNf6",
        "outputId": "1baea28d-91c4-4a83-d6c7-2caab81779d7"
      },
      "source": [
        "import matplotlib.pyplot as plt\n",
        "\n",
        "plt.hist(hist_len, bins=50)"
      ],
      "execution_count": 29,
      "outputs": [
        {
          "output_type": "execute_result",
          "data": {
            "text/plain": [
              "(array([ 75., 172., 298., 660., 354., 262., 254., 423., 161., 167., 153.,\n",
              "        255.,  89.,  95.,  92., 166.,  90.,  86.,  79., 136.,  61.,  57.,\n",
              "         64.,  99.,  48.,  43.,  90.,  36.,  40.,  39.,  71.,  26.,  31.,\n",
              "         25.,  35.,  18.,  14.,  16.,  32.,  15.,  13.,  15.,  20.,   7.,\n",
              "          6.,   4.,   3.,   2.,   2.,   1.]),\n",
              " array([ 2.  ,  3.26,  4.52,  5.78,  7.04,  8.3 ,  9.56, 10.82, 12.08,\n",
              "        13.34, 14.6 , 15.86, 17.12, 18.38, 19.64, 20.9 , 22.16, 23.42,\n",
              "        24.68, 25.94, 27.2 , 28.46, 29.72, 30.98, 32.24, 33.5 , 34.76,\n",
              "        36.02, 37.28, 38.54, 39.8 , 41.06, 42.32, 43.58, 44.84, 46.1 ,\n",
              "        47.36, 48.62, 49.88, 51.14, 52.4 , 53.66, 54.92, 56.18, 57.44,\n",
              "        58.7 , 59.96, 61.22, 62.48, 63.74, 65.  ]),\n",
              " <a list of 50 Patch objects>)"
            ]
          },
          "metadata": {
            "tags": []
          },
          "execution_count": 29
        },
        {
          "output_type": "display_data",
          "data": {
            "image/png": "[encoded data removed]",
            "text/plain": [
              "<Figure size 432x288 with 1 Axes>"
            ]
          },
          "metadata": {
            "tags": [],
            "needs_background": "light"
          }
        }
      ]
    },
    {
      "cell_type": "code",
      "metadata": {
        "colab": {
          "base_uri": "https://localhost:8080/"
        },
        "id": "zukhV9wYfVNP",
        "outputId": "0e7af087-278e-475a-a58b-303dc9d2059e"
      },
      "source": [
        "sum(hist_len) / len(x_train_small)"
      ],
      "execution_count": 30,
      "outputs": [
        {
          "output_type": "execute_result",
          "data": {
            "text/plain": [
              "16.8994"
            ]
          },
          "metadata": {
            "tags": []
          },
          "execution_count": 30
        }
      ]
    },
    {
      "cell_type": "code",
      "metadata": {
        "id": "j-xKJyIfgqfD"
      },
      "source": [
        "x_train_small = tf.keras.preprocessing.sequence.pad_sequences(x_train_small, maxlen=50)"
      ],
      "execution_count": 31,
      "outputs": []
    },
    {
      "cell_type": "code",
      "metadata": {
        "id": "CowBiDXwizcd"
      },
      "source": [
        "y_train_small = y_train[0:5000]"
      ],
      "execution_count": 32,
      "outputs": []
    },
    {
      "cell_type": "code",
      "metadata": {
        "colab": {
          "base_uri": "https://localhost:8080/"
        },
        "id": "HQ75f8XGjIWS",
        "outputId": "71847776-6ddf-4ade-a8d3-85efea335848"
      },
      "source": [
        "import numpy as np\n",
        "\n",
        "y_train_small = np.array(y_train_small)-1 # 0부터 시작하게 바꿈\n",
        "np.unique(y_train_small)  # 0~4 -> Dense=5"
      ],
      "execution_count": 33,
      "outputs": [
        {
          "output_type": "execute_result",
          "data": {
            "text/plain": [
              "array([0, 1, 3, 4])"
            ]
          },
          "metadata": {
            "tags": []
          },
          "execution_count": 33
        }
      ]
    },
    {
      "cell_type": "markdown",
      "metadata": {
        "id": "Ru5puGedhRwr"
      },
      "source": [
        "# Make model"
      ]
    },
    {
      "cell_type": "code",
      "metadata": {
        "id": "xj7Uetn2g3wE"
      },
      "source": [
        "model = tf.keras.Sequential()\n",
        "\n",
        "# Input Layer \n",
        "model.add(tf.keras.layers.Embedding(input_dim= vocab_size, output_dim=30, input_length=50))\n",
        "\n",
        "# Hidden Layer\n",
        "model.add(tf.keras.layers.Bidirectional(tf.keras.layers.LSTM(128) ))  # Bidirectional으로 랩핑을 하면 성능이 올라감\n",
        "\n",
        "# Output Layer\n",
        "model.add(tf.keras.layers.Dense(5, activation='softmax'))\n",
        "\n",
        "# Gadget\n",
        "model.compile(optimizer='adam', loss='sparse_categorical_crossentropy', metrics=['accuracy'])\n"
      ],
      "execution_count": 34,
      "outputs": []
    },
    {
      "cell_type": "code",
      "metadata": {
        "colab": {
          "base_uri": "https://localhost:8080/"
        },
        "id": "XV7aox12kPLG",
        "outputId": "7fa15cce-343c-48c5-ddcf-c2df993d8c1e"
      },
      "source": [
        "model.fit(x_train_small, y_train_small, epochs=2, batch_size=256, validation_split=0.3, shuffle=True)"
      ],
      "execution_count": 35,
      "outputs": [
        {
          "output_type": "stream",
          "text": [
            "Epoch 1/2\n",
            "14/14 [==============================] - 11s 525ms/step - loss: 1.4615 - accuracy: 0.3660 - val_loss: 1.3063 - val_accuracy: 0.3980\n",
            "Epoch 2/2\n",
            "14/14 [==============================] - 6s 456ms/step - loss: 1.2708 - accuracy: 0.4011 - val_loss: 1.2777 - val_accuracy: 0.3207\n"
          ],
          "name": "stdout"
        },
        {
          "output_type": "execute_result",
          "data": {
            "text/plain": [
              "<tensorflow.python.keras.callbacks.History at 0x7fd57b0dec10>"
            ]
          },
          "metadata": {
            "tags": []
          },
          "execution_count": 35
        }
      ]
    },
    {
      "cell_type": "code",
      "metadata": {
        "id": "OfINYbSmlduH",
        "colab": {
          "base_uri": "https://localhost:8080/"
        },
        "outputId": "538776bd-2b60-4160-c3bc-77297e2eeed7"
      },
      "source": [
        "model.evaluate(x_train_small, y_train_small)"
      ],
      "execution_count": 36,
      "outputs": [
        {
          "output_type": "stream",
          "text": [
            "157/157 [==============================] - 3s 20ms/step - loss: 1.2722 - accuracy: 0.3202\n"
          ],
          "name": "stdout"
        },
        {
          "output_type": "execute_result",
          "data": {
            "text/plain": [
              "[1.2722259759902954, 0.32019999623298645]"
            ]
          },
          "metadata": {
            "tags": []
          },
          "execution_count": 36
        }
      ]
    },
    {
      "cell_type": "markdown",
      "metadata": {
        "id": "xt9xbNvfuwmu"
      },
      "source": [
        "model.evaluate(x_train_small, y_train_small) 성능 비교\n",
        "1. Bidirectional(LSTM(128)) - loss: 0.8787 - acc: 0.8382\n",
        "2. LSTM(128) - loss: 0.9170 - acc: 0.8500\n",
        "3. GRU - loss: 0.9265 - acc: 0.8436"
      ]
    },
    {
      "cell_type": "code",
      "metadata": {
        "id": "nyXNoBO9uu8-"
      },
      "source": [
        ""
      ],
      "execution_count": 36,
      "outputs": []
    }
  ]
}