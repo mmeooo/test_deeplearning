{
  "nbformat": 4,
  "nbformat_minor": 0,
  "metadata": {
    "colab": {
      "name": "reuters_LSTM.ipynb",
      "provenance": [],
      "collapsed_sections": [],
      "authorship_tag": "ABX9TyMl8smbv+wc/tLxYjOaT2iV"
    },
    "kernelspec": {
      "name": "python3",
      "display_name": "Python 3"
    },
    "language_info": {
      "name": "python"
    }
  },
  "cells": [
    {
      "cell_type": "code",
      "metadata": {
        "id": "sMOtYDNE3Zui"
      },
      "source": [
        "import tensorflow as tf"
      ],
      "execution_count": 1,
      "outputs": []
    },
    {
      "cell_type": "code",
      "metadata": {
        "colab": {
          "base_uri": "https://localhost:8080/"
        },
        "id": "SD1Z4Jnd4Jea",
        "outputId": "ff7cb8eb-9be2-4fd9-d231-1ac70f83cfb8"
      },
      "source": [
        "(x_train,y_train), (x_test,y_test) = tf.keras.datasets.reuters.load_data(num_words=10000)\n",
        "\n",
        "x_train.shape, y_train.shape, x_test.shape, y_test.shape"
      ],
      "execution_count": 2,
      "outputs": [
        {
          "output_type": "stream",
          "text": [
            "Downloading data from https://storage.googleapis.com/tensorflow/tf-keras-datasets/reuters.npz\n",
            "2113536/2110848 [==============================] - 0s 0us/step\n"
          ],
          "name": "stdout"
        },
        {
          "output_type": "stream",
          "text": [
            "/usr/local/lib/python3.7/dist-packages/tensorflow/python/keras/datasets/reuters.py:143: VisibleDeprecationWarning: Creating an ndarray from ragged nested sequences (which is a list-or-tuple of lists-or-tuples-or ndarrays with different lengths or shapes) is deprecated. If you meant to do this, you must specify 'dtype=object' when creating the ndarray\n",
            "  x_train, y_train = np.array(xs[:idx]), np.array(labels[:idx])\n",
            "/usr/local/lib/python3.7/dist-packages/tensorflow/python/keras/datasets/reuters.py:144: VisibleDeprecationWarning: Creating an ndarray from ragged nested sequences (which is a list-or-tuple of lists-or-tuples-or ndarrays with different lengths or shapes) is deprecated. If you meant to do this, you must specify 'dtype=object' when creating the ndarray\n",
            "  x_test, y_test = np.array(xs[idx:]), np.array(labels[idx:])\n"
          ],
          "name": "stderr"
        },
        {
          "output_type": "execute_result",
          "data": {
            "text/plain": [
              "((8982,), (8982,), (2246,), (2246,))"
            ]
          },
          "metadata": {
            "tags": []
          },
          "execution_count": 2
        }
      ]
    },
    {
      "cell_type": "code",
      "metadata": {
        "colab": {
          "base_uri": "https://localhost:8080/"
        },
        "id": "UF6kdLvT6ExG",
        "outputId": "db957a8f-8e6d-408e-b2fe-8e7e35ac7495"
      },
      "source": [
        "print( y_train[50], x_train[50])"
      ],
      "execution_count": 3,
      "outputs": [
        {
          "output_type": "stream",
          "text": [
            "4 [1, 1479, 1197, 71, 8, 25, 1479, 1197, 640, 71, 304, 471, 80, 9, 1379, 1901, 4530, 6797, 79, 5, 8144, 71, 175, 80, 58, 4, 1279, 5, 63, 32, 20, 5, 4, 326, 175, 80, 335, 7, 10, 845, 31, 4, 221, 9, 108, 259, 1479, 1197, 640, 8, 16, 600, 69, 68, 11, 15, 6, 8144, 21, 397, 321, 6, 438, 1761, 3072, 79, 5, 8144, 1040, 894, 1051, 617, 80, 4, 617, 80, 23, 1051, 172, 3814, 3206, 8144, 175, 79, 9, 1379, 6, 264, 395, 3814, 3206, 79, 1479, 1197, 9, 25, 323, 8, 4, 8144, 80, 23, 381, 43, 42, 205, 50, 77, 33, 909, 9, 3509, 22, 216, 6, 216, 17, 12]\n"
          ],
          "name": "stdout"
        }
      ]
    },
    {
      "cell_type": "code",
      "metadata": {
        "colab": {
          "base_uri": "https://localhost:8080/"
        },
        "id": "wtaeiXV-_YaR",
        "outputId": "91c996d5-ad46-45cd-ad32-9305f9997079"
      },
      "source": [
        "len(x_train[50]), len(x_train[400]), len(x_train[200])"
      ],
      "execution_count": 4,
      "outputs": [
        {
          "output_type": "execute_result",
          "data": {
            "text/plain": [
              "(118, 90, 212)"
            ]
          },
          "metadata": {
            "tags": []
          },
          "execution_count": 4
        }
      ]
    },
    {
      "cell_type": "markdown",
      "metadata": {
        "id": "EOih09EsBVw0"
      },
      "source": [
        "# Data preprocessing"
      ]
    },
    {
      "cell_type": "code",
      "metadata": {
        "id": "3OEX_yznW9Ej"
      },
      "source": [
        "def pad_make(x_data):\n",
        "  pad_x = tf.keras.preprocessing.sequence.pad_sequences(x_data, maxlen=500)\n",
        "  return pad_x"
      ],
      "execution_count": 5,
      "outputs": []
    },
    {
      "cell_type": "code",
      "metadata": {
        "id": "Wgq-hAA9BSIe"
      },
      "source": [
        "# pad_x_train = tf.keras.preprocessing.sequence.pad_sequences(x_train, maxlen=500)\n",
        "# len(pad_x_train[50])\n",
        "\n",
        "pad_x_train = pad_make(x_train)"
      ],
      "execution_count": 6,
      "outputs": []
    },
    {
      "cell_type": "code",
      "metadata": {
        "id": "WOLOjnkHUqaS"
      },
      "source": [
        "# pad_x_test = tf.keras.preprocessing.sequence.pad_sequences(x_test, maxlen=500)\n",
        "# len(pad_x_test[50])\n",
        "\n",
        "pad_x_test = pad_make(x_test)"
      ],
      "execution_count": 7,
      "outputs": []
    },
    {
      "cell_type": "code",
      "metadata": {
        "colab": {
          "base_uri": "https://localhost:8080/"
        },
        "id": "2ducq3iWBR7z",
        "outputId": "bb7f696a-b9cd-4f71-acfc-bdf53c7aded9"
      },
      "source": [
        "import numpy as np\n",
        "\n",
        "np.unique(y_train).shape, np.unique(y_train)\n",
        "# unique한 y값의 개수 -> Dense 수"
      ],
      "execution_count": 8,
      "outputs": [
        {
          "output_type": "execute_result",
          "data": {
            "text/plain": [
              "((46,),\n",
              " array([ 0,  1,  2,  3,  4,  5,  6,  7,  8,  9, 10, 11, 12, 13, 14, 15, 16,\n",
              "        17, 18, 19, 20, 21, 22, 23, 24, 25, 26, 27, 28, 29, 30, 31, 32, 33,\n",
              "        34, 35, 36, 37, 38, 39, 40, 41, 42, 43, 44, 45]))"
            ]
          },
          "metadata": {
            "tags": []
          },
          "execution_count": 8
        }
      ]
    },
    {
      "cell_type": "markdown",
      "metadata": {
        "id": "pe1rmBG37mms"
      },
      "source": [
        "# Make model"
      ]
    },
    {
      "cell_type": "code",
      "metadata": {
        "id": "W7jqN-t_6Rpq"
      },
      "source": [
        "model = tf.keras.models.Sequential()\n",
        "\n",
        "# Input Layer\n",
        "model.add(tf.keras.layers.Embedding(input_dim=10000, output_dim=24, input_length=500))\n",
        "\n",
        "# Hidden Layer\n",
        "model.add(tf.keras.layers.LSTM(24, return_sequences=True, activation='tanh'))\n",
        "model.add(tf.keras.layers.LSTM(12, activation='tanh'))\n",
        "\n",
        "# Output Layer\n",
        "model.add(tf.keras.layers.Dense(46, activation='softmax')) \n",
        "\n",
        "# Gadget\n",
        "model.compile(optimizer='adam', loss='sparse_categorical_crossentropy', metrics=['accuracy'])"
      ],
      "execution_count": 9,
      "outputs": []
    },
    {
      "cell_type": "code",
      "metadata": {
        "colab": {
          "base_uri": "https://localhost:8080/"
        },
        "id": "nXM-HTh4PxwA",
        "outputId": "4d086ac2-cacf-45db-fd7d-d2d71b196d73"
      },
      "source": [
        "# hist = model.fit( pad_x_train, y_train, epochs=5, validation_split=0.3, batch_size=128 )\n",
        "\n",
        "hist = model.fit( pad_x_train, y_train, epochs=100, validation_split=0.3, batch_size=256 )"
      ],
      "execution_count": 10,
      "outputs": [
        {
          "output_type": "stream",
          "text": [
            "Epoch 1/100\n",
            "25/25 [==============================] - 21s 683ms/step - loss: 3.7319 - accuracy: 0.3305 - val_loss: 3.4311 - val_accuracy: 0.3532\n",
            "Epoch 2/100\n",
            "25/25 [==============================] - 16s 653ms/step - loss: 3.0947 - accuracy: 0.3510 - val_loss: 2.8168 - val_accuracy: 0.3532\n",
            "Epoch 3/100\n",
            "25/25 [==============================] - 16s 651ms/step - loss: 2.6920 - accuracy: 0.3510 - val_loss: 2.5479 - val_accuracy: 0.3532\n",
            "Epoch 4/100\n",
            "25/25 [==============================] - 16s 651ms/step - loss: 2.5168 - accuracy: 0.3510 - val_loss: 2.4503 - val_accuracy: 0.3532\n",
            "Epoch 5/100\n",
            "25/25 [==============================] - 16s 654ms/step - loss: 2.4581 - accuracy: 0.3510 - val_loss: 2.4157 - val_accuracy: 0.3532\n",
            "Epoch 6/100\n",
            "25/25 [==============================] - 16s 654ms/step - loss: 2.4365 - accuracy: 0.3510 - val_loss: 2.4013 - val_accuracy: 0.3532\n",
            "Epoch 7/100\n",
            "25/25 [==============================] - 16s 661ms/step - loss: 2.4264 - accuracy: 0.3510 - val_loss: 2.3941 - val_accuracy: 0.3532\n",
            "Epoch 8/100\n",
            "25/25 [==============================] - 17s 669ms/step - loss: 2.4213 - accuracy: 0.3510 - val_loss: 2.3899 - val_accuracy: 0.3532\n",
            "Epoch 9/100\n",
            "25/25 [==============================] - 17s 667ms/step - loss: 2.4183 - accuracy: 0.3510 - val_loss: 2.3873 - val_accuracy: 0.3532\n",
            "Epoch 10/100\n",
            "25/25 [==============================] - 17s 667ms/step - loss: 2.4162 - accuracy: 0.3510 - val_loss: 2.3858 - val_accuracy: 0.3532\n",
            "Epoch 11/100\n",
            "25/25 [==============================] - 17s 665ms/step - loss: 2.4150 - accuracy: 0.3510 - val_loss: 2.3849 - val_accuracy: 0.3532\n",
            "Epoch 12/100\n",
            "25/25 [==============================] - 16s 662ms/step - loss: 2.4141 - accuracy: 0.3510 - val_loss: 2.3844 - val_accuracy: 0.3532\n",
            "Epoch 13/100\n",
            "25/25 [==============================] - 17s 666ms/step - loss: 2.4132 - accuracy: 0.3510 - val_loss: 2.3836 - val_accuracy: 0.3532\n",
            "Epoch 14/100\n",
            "25/25 [==============================] - 17s 667ms/step - loss: 2.4129 - accuracy: 0.3510 - val_loss: 2.3831 - val_accuracy: 0.3532\n",
            "Epoch 15/100\n",
            "25/25 [==============================] - 17s 666ms/step - loss: 2.4123 - accuracy: 0.3510 - val_loss: 2.3828 - val_accuracy: 0.3532\n",
            "Epoch 16/100\n",
            "25/25 [==============================] - 17s 669ms/step - loss: 2.4123 - accuracy: 0.3510 - val_loss: 2.3830 - val_accuracy: 0.3532\n",
            "Epoch 17/100\n",
            "25/25 [==============================] - 17s 664ms/step - loss: 2.4122 - accuracy: 0.3510 - val_loss: 2.3829 - val_accuracy: 0.3532\n",
            "Epoch 18/100\n",
            "25/25 [==============================] - 17s 665ms/step - loss: 2.4119 - accuracy: 0.3510 - val_loss: 2.3827 - val_accuracy: 0.3532\n",
            "Epoch 19/100\n",
            "25/25 [==============================] - 16s 662ms/step - loss: 2.4119 - accuracy: 0.3510 - val_loss: 2.3828 - val_accuracy: 0.3532\n",
            "Epoch 20/100\n",
            "25/25 [==============================] - 17s 667ms/step - loss: 2.4119 - accuracy: 0.3510 - val_loss: 2.3825 - val_accuracy: 0.3532\n",
            "Epoch 21/100\n",
            "25/25 [==============================] - 17s 670ms/step - loss: 2.4117 - accuracy: 0.3510 - val_loss: 2.3826 - val_accuracy: 0.3532\n",
            "Epoch 22/100\n",
            "25/25 [==============================] - 17s 664ms/step - loss: 2.4116 - accuracy: 0.3510 - val_loss: 2.3825 - val_accuracy: 0.3532\n",
            "Epoch 23/100\n",
            "25/25 [==============================] - 17s 665ms/step - loss: 2.4117 - accuracy: 0.3510 - val_loss: 2.3827 - val_accuracy: 0.3532\n",
            "Epoch 24/100\n",
            "25/25 [==============================] - 17s 667ms/step - loss: 2.4118 - accuracy: 0.3510 - val_loss: 2.3824 - val_accuracy: 0.3532\n",
            "Epoch 25/100\n",
            "25/25 [==============================] - 16s 659ms/step - loss: 2.4120 - accuracy: 0.3510 - val_loss: 2.3826 - val_accuracy: 0.3532\n",
            "Epoch 26/100\n",
            "25/25 [==============================] - 17s 663ms/step - loss: 2.4115 - accuracy: 0.3510 - val_loss: 2.3821 - val_accuracy: 0.3532\n",
            "Epoch 27/100\n",
            "25/25 [==============================] - 16s 662ms/step - loss: 2.4116 - accuracy: 0.3510 - val_loss: 2.3821 - val_accuracy: 0.3532\n",
            "Epoch 28/100\n",
            "25/25 [==============================] - 17s 664ms/step - loss: 2.4118 - accuracy: 0.3510 - val_loss: 2.3826 - val_accuracy: 0.3532\n",
            "Epoch 29/100\n",
            "25/25 [==============================] - 17s 666ms/step - loss: 2.4115 - accuracy: 0.3510 - val_loss: 2.3827 - val_accuracy: 0.3532\n",
            "Epoch 30/100\n",
            "25/25 [==============================] - 17s 665ms/step - loss: 2.4116 - accuracy: 0.3510 - val_loss: 2.3822 - val_accuracy: 0.3532\n",
            "Epoch 31/100\n",
            "25/25 [==============================] - 17s 670ms/step - loss: 2.4116 - accuracy: 0.3510 - val_loss: 2.3823 - val_accuracy: 0.3532\n",
            "Epoch 32/100\n",
            "25/25 [==============================] - 17s 670ms/step - loss: 2.4116 - accuracy: 0.3510 - val_loss: 2.3824 - val_accuracy: 0.3532\n",
            "Epoch 33/100\n",
            "25/25 [==============================] - 17s 666ms/step - loss: 2.4115 - accuracy: 0.3510 - val_loss: 2.3823 - val_accuracy: 0.3532\n",
            "Epoch 34/100\n",
            "25/25 [==============================] - 17s 667ms/step - loss: 2.4116 - accuracy: 0.3510 - val_loss: 2.3823 - val_accuracy: 0.3532\n",
            "Epoch 35/100\n",
            "25/25 [==============================] - 17s 663ms/step - loss: 2.4117 - accuracy: 0.3510 - val_loss: 2.3820 - val_accuracy: 0.3532\n",
            "Epoch 36/100\n",
            "25/25 [==============================] - 17s 667ms/step - loss: 2.4116 - accuracy: 0.3510 - val_loss: 2.3822 - val_accuracy: 0.3532\n",
            "Epoch 37/100\n",
            "25/25 [==============================] - 17s 664ms/step - loss: 2.4117 - accuracy: 0.3510 - val_loss: 2.3825 - val_accuracy: 0.3532\n",
            "Epoch 38/100\n",
            "25/25 [==============================] - 17s 671ms/step - loss: 2.4113 - accuracy: 0.3510 - val_loss: 2.3822 - val_accuracy: 0.3532\n",
            "Epoch 39/100\n",
            "25/25 [==============================] - 17s 665ms/step - loss: 2.4114 - accuracy: 0.3510 - val_loss: 2.3820 - val_accuracy: 0.3532\n",
            "Epoch 40/100\n",
            "25/25 [==============================] - 17s 665ms/step - loss: 2.4111 - accuracy: 0.3510 - val_loss: 2.3808 - val_accuracy: 0.3532\n",
            "Epoch 41/100\n",
            "25/25 [==============================] - 17s 666ms/step - loss: 2.4071 - accuracy: 0.3510 - val_loss: 2.3888 - val_accuracy: 0.3532\n",
            "Epoch 42/100\n",
            "25/25 [==============================] - 17s 670ms/step - loss: 2.4072 - accuracy: 0.3510 - val_loss: 2.3542 - val_accuracy: 0.3532\n",
            "Epoch 43/100\n",
            "25/25 [==============================] - 17s 671ms/step - loss: 2.2696 - accuracy: 0.3533 - val_loss: 2.1596 - val_accuracy: 0.3532\n",
            "Epoch 44/100\n",
            "25/25 [==============================] - 17s 665ms/step - loss: 2.0979 - accuracy: 0.3568 - val_loss: 2.0709 - val_accuracy: 0.3644\n",
            "Epoch 45/100\n",
            "25/25 [==============================] - 17s 668ms/step - loss: 1.9934 - accuracy: 0.3870 - val_loss: 2.0002 - val_accuracy: 0.3900\n",
            "Epoch 46/100\n",
            "25/25 [==============================] - 17s 664ms/step - loss: 1.8951 - accuracy: 0.4058 - val_loss: 1.9577 - val_accuracy: 0.3981\n",
            "Epoch 47/100\n",
            "25/25 [==============================] - 17s 665ms/step - loss: 1.8151 - accuracy: 0.4097 - val_loss: 1.9319 - val_accuracy: 0.4033\n",
            "Epoch 48/100\n",
            "25/25 [==============================] - 16s 662ms/step - loss: 1.7657 - accuracy: 0.4191 - val_loss: 1.9260 - val_accuracy: 0.4096\n",
            "Epoch 49/100\n",
            "25/25 [==============================] - 17s 666ms/step - loss: 1.7124 - accuracy: 0.4431 - val_loss: 1.8795 - val_accuracy: 0.4197\n",
            "Epoch 50/100\n",
            "25/25 [==============================] - 17s 666ms/step - loss: 1.6388 - accuracy: 0.4520 - val_loss: 1.8555 - val_accuracy: 0.4627\n",
            "Epoch 51/100\n",
            "25/25 [==============================] - 17s 668ms/step - loss: 1.5751 - accuracy: 0.5274 - val_loss: 1.8344 - val_accuracy: 0.4894\n",
            "Epoch 52/100\n",
            "25/25 [==============================] - 17s 667ms/step - loss: 1.5194 - accuracy: 0.5704 - val_loss: 1.7793 - val_accuracy: 0.5388\n",
            "Epoch 53/100\n",
            "25/25 [==============================] - 17s 666ms/step - loss: 1.4621 - accuracy: 0.6076 - val_loss: 1.7785 - val_accuracy: 0.5455\n",
            "Epoch 54/100\n",
            "25/25 [==============================] - 17s 667ms/step - loss: 1.4380 - accuracy: 0.6025 - val_loss: 1.7640 - val_accuracy: 0.5521\n",
            "Epoch 55/100\n",
            "25/25 [==============================] - 17s 666ms/step - loss: 1.3764 - accuracy: 0.6202 - val_loss: 1.7059 - val_accuracy: 0.5633\n",
            "Epoch 56/100\n",
            "25/25 [==============================] - 17s 665ms/step - loss: 1.3438 - accuracy: 0.6299 - val_loss: 1.8453 - val_accuracy: 0.5095\n",
            "Epoch 57/100\n",
            "25/25 [==============================] - 17s 669ms/step - loss: 1.4307 - accuracy: 0.5836 - val_loss: 1.7203 - val_accuracy: 0.5503\n",
            "Epoch 58/100\n",
            "25/25 [==============================] - 16s 662ms/step - loss: 1.2903 - accuracy: 0.6386 - val_loss: 1.6762 - val_accuracy: 0.5725\n",
            "Epoch 59/100\n",
            "25/25 [==============================] - 17s 669ms/step - loss: 1.2201 - accuracy: 0.6658 - val_loss: 1.6773 - val_accuracy: 0.5777\n",
            "Epoch 60/100\n",
            "25/25 [==============================] - 17s 669ms/step - loss: 1.1627 - accuracy: 0.6827 - val_loss: 1.6666 - val_accuracy: 0.5844\n",
            "Epoch 61/100\n",
            "25/25 [==============================] - 16s 662ms/step - loss: 1.1120 - accuracy: 0.7005 - val_loss: 1.6470 - val_accuracy: 0.5993\n",
            "Epoch 62/100\n",
            "25/25 [==============================] - 17s 671ms/step - loss: 1.0905 - accuracy: 0.7016 - val_loss: 1.6687 - val_accuracy: 0.5881\n",
            "Epoch 63/100\n",
            "25/25 [==============================] - 17s 664ms/step - loss: 1.0672 - accuracy: 0.7116 - val_loss: 1.6911 - val_accuracy: 0.5878\n",
            "Epoch 64/100\n",
            "25/25 [==============================] - 17s 668ms/step - loss: 1.0227 - accuracy: 0.7242 - val_loss: 1.6481 - val_accuracy: 0.6078\n",
            "Epoch 65/100\n",
            "25/25 [==============================] - 17s 663ms/step - loss: 0.9932 - accuracy: 0.7406 - val_loss: 1.6544 - val_accuracy: 0.6067\n",
            "Epoch 66/100\n",
            "25/25 [==============================] - 16s 661ms/step - loss: 0.9675 - accuracy: 0.7555 - val_loss: 1.6587 - val_accuracy: 0.6093\n",
            "Epoch 67/100\n",
            "25/25 [==============================] - 16s 662ms/step - loss: 0.9423 - accuracy: 0.7698 - val_loss: 1.6776 - val_accuracy: 0.6056\n",
            "Epoch 68/100\n",
            "25/25 [==============================] - 16s 652ms/step - loss: 0.9304 - accuracy: 0.7772 - val_loss: 1.7007 - val_accuracy: 0.5985\n",
            "Epoch 69/100\n",
            "25/25 [==============================] - 16s 652ms/step - loss: 0.9177 - accuracy: 0.7846 - val_loss: 1.6770 - val_accuracy: 0.6052\n",
            "Epoch 70/100\n",
            "25/25 [==============================] - 16s 646ms/step - loss: 0.8848 - accuracy: 0.7969 - val_loss: 1.6920 - val_accuracy: 0.6000\n",
            "Epoch 71/100\n",
            "25/25 [==============================] - 16s 649ms/step - loss: 0.8669 - accuracy: 0.8007 - val_loss: 1.7046 - val_accuracy: 0.6063\n",
            "Epoch 72/100\n",
            "25/25 [==============================] - 16s 653ms/step - loss: 0.8495 - accuracy: 0.8114 - val_loss: 1.7090 - val_accuracy: 0.6100\n",
            "Epoch 73/100\n",
            "25/25 [==============================] - 16s 653ms/step - loss: 0.8294 - accuracy: 0.8196 - val_loss: 1.7141 - val_accuracy: 0.6126\n",
            "Epoch 74/100\n",
            "25/25 [==============================] - 16s 653ms/step - loss: 0.8210 - accuracy: 0.8164 - val_loss: 1.7101 - val_accuracy: 0.6067\n",
            "Epoch 75/100\n",
            "25/25 [==============================] - 16s 655ms/step - loss: 0.8063 - accuracy: 0.8225 - val_loss: 1.7319 - val_accuracy: 0.6108\n",
            "Epoch 76/100\n",
            "25/25 [==============================] - 16s 650ms/step - loss: 0.7958 - accuracy: 0.8260 - val_loss: 1.7314 - val_accuracy: 0.6122\n",
            "Epoch 77/100\n",
            "25/25 [==============================] - 16s 648ms/step - loss: 0.7837 - accuracy: 0.8276 - val_loss: 1.7432 - val_accuracy: 0.6122\n",
            "Epoch 78/100\n",
            "25/25 [==============================] - 16s 650ms/step - loss: 0.7772 - accuracy: 0.8279 - val_loss: 1.7470 - val_accuracy: 0.6104\n",
            "Epoch 79/100\n",
            "25/25 [==============================] - 16s 648ms/step - loss: 0.7643 - accuracy: 0.8317 - val_loss: 1.7512 - val_accuracy: 0.6111\n",
            "Epoch 80/100\n",
            "25/25 [==============================] - 16s 651ms/step - loss: 0.7446 - accuracy: 0.8374 - val_loss: 1.7496 - val_accuracy: 0.6134\n",
            "Epoch 81/100\n",
            "25/25 [==============================] - 16s 648ms/step - loss: 0.7265 - accuracy: 0.8425 - val_loss: 1.7714 - val_accuracy: 0.6122\n",
            "Epoch 82/100\n",
            "25/25 [==============================] - 16s 653ms/step - loss: 0.7189 - accuracy: 0.8424 - val_loss: 1.7761 - val_accuracy: 0.6130\n",
            "Epoch 83/100\n",
            "25/25 [==============================] - 16s 649ms/step - loss: 0.7055 - accuracy: 0.8452 - val_loss: 1.7784 - val_accuracy: 0.6130\n",
            "Epoch 84/100\n",
            "25/25 [==============================] - 16s 645ms/step - loss: 0.6977 - accuracy: 0.8448 - val_loss: 1.7691 - val_accuracy: 0.6178\n",
            "Epoch 85/100\n",
            "25/25 [==============================] - 16s 649ms/step - loss: 0.6985 - accuracy: 0.8452 - val_loss: 1.7862 - val_accuracy: 0.6148\n",
            "Epoch 86/100\n",
            "25/25 [==============================] - 16s 651ms/step - loss: 0.6850 - accuracy: 0.8475 - val_loss: 1.8155 - val_accuracy: 0.6063\n",
            "Epoch 87/100\n",
            "25/25 [==============================] - 16s 649ms/step - loss: 0.6694 - accuracy: 0.8535 - val_loss: 1.7989 - val_accuracy: 0.6119\n",
            "Epoch 88/100\n",
            "25/25 [==============================] - 16s 648ms/step - loss: 0.6559 - accuracy: 0.8551 - val_loss: 1.8075 - val_accuracy: 0.6134\n",
            "Epoch 89/100\n",
            "25/25 [==============================] - 16s 648ms/step - loss: 0.6452 - accuracy: 0.8583 - val_loss: 1.8145 - val_accuracy: 0.6152\n",
            "Epoch 90/100\n",
            "25/25 [==============================] - 16s 649ms/step - loss: 0.6456 - accuracy: 0.8565 - val_loss: 1.8095 - val_accuracy: 0.6145\n",
            "Epoch 91/100\n",
            "25/25 [==============================] - 16s 651ms/step - loss: 0.6403 - accuracy: 0.8581 - val_loss: 1.8254 - val_accuracy: 0.6152\n",
            "Epoch 92/100\n",
            "25/25 [==============================] - 16s 649ms/step - loss: 0.6311 - accuracy: 0.8607 - val_loss: 1.8313 - val_accuracy: 0.6171\n",
            "Epoch 93/100\n",
            "25/25 [==============================] - 16s 648ms/step - loss: 0.6209 - accuracy: 0.8627 - val_loss: 1.8309 - val_accuracy: 0.6174\n",
            "Epoch 94/100\n",
            "25/25 [==============================] - 16s 651ms/step - loss: 0.6132 - accuracy: 0.8691 - val_loss: 1.8280 - val_accuracy: 0.6182\n",
            "Epoch 95/100\n",
            "25/25 [==============================] - 16s 653ms/step - loss: 0.6021 - accuracy: 0.8707 - val_loss: 1.8414 - val_accuracy: 0.6163\n",
            "Epoch 96/100\n",
            "25/25 [==============================] - 16s 648ms/step - loss: 0.6057 - accuracy: 0.8677 - val_loss: 1.8413 - val_accuracy: 0.6171\n",
            "Epoch 97/100\n",
            "25/25 [==============================] - 16s 654ms/step - loss: 0.6587 - accuracy: 0.8440 - val_loss: 1.8524 - val_accuracy: 0.6193\n",
            "Epoch 98/100\n",
            "25/25 [==============================] - 16s 652ms/step - loss: 0.6123 - accuracy: 0.8669 - val_loss: 1.8642 - val_accuracy: 0.6074\n",
            "Epoch 99/100\n",
            "25/25 [==============================] - 16s 648ms/step - loss: 0.5931 - accuracy: 0.8699 - val_loss: 1.8616 - val_accuracy: 0.6122\n",
            "Epoch 100/100\n",
            "25/25 [==============================] - 16s 651ms/step - loss: 0.5833 - accuracy: 0.8748 - val_loss: 1.8570 - val_accuracy: 0.6171\n"
          ],
          "name": "stdout"
        }
      ]
    },
    {
      "cell_type": "markdown",
      "metadata": {
        "id": "jcWpy0G4G3in"
      },
      "source": [
        "# Evaluation"
      ]
    },
    {
      "cell_type": "code",
      "metadata": {
        "colab": {
          "base_uri": "https://localhost:8080/"
        },
        "id": "uKf1xk38GxFc",
        "outputId": "f9f13637-818e-4615-c65b-8d78aa3bc190"
      },
      "source": [
        "model.evaluate(pad_x_train, y_train )"
      ],
      "execution_count": 11,
      "outputs": [
        {
          "output_type": "stream",
          "text": [
            "281/281 [==============================] - 16s 56ms/step - loss: 0.9555 - accuracy: 0.8023\n"
          ],
          "name": "stdout"
        },
        {
          "output_type": "execute_result",
          "data": {
            "text/plain": [
              "[0.9555161595344543, 0.8022711873054504]"
            ]
          },
          "metadata": {
            "tags": []
          },
          "execution_count": 11
        }
      ]
    },
    {
      "cell_type": "code",
      "metadata": {
        "colab": {
          "base_uri": "https://localhost:8080/"
        },
        "id": "wA_J3J5-Uiad",
        "outputId": "1a5e14b5-d4b9-42a2-d22b-1b64cf180b29"
      },
      "source": [
        "model.evaluate(pad_x_test, y_test)"
      ],
      "execution_count": 12,
      "outputs": [
        {
          "output_type": "stream",
          "text": [
            "71/71 [==============================] - 4s 56ms/step - loss: 2.0227 - accuracy: 0.5980\n"
          ],
          "name": "stdout"
        },
        {
          "output_type": "execute_result",
          "data": {
            "text/plain": [
              "[2.022657871246338, 0.5979518890380859]"
            ]
          },
          "metadata": {
            "tags": []
          },
          "execution_count": 12
        }
      ]
    },
    {
      "cell_type": "code",
      "metadata": {
        "id": "JVG3rgsbGxCr"
      },
      "source": [
        "import matplotlib.pyplot as plt"
      ],
      "execution_count": 13,
      "outputs": []
    },
    {
      "cell_type": "code",
      "metadata": {
        "colab": {
          "base_uri": "https://localhost:8080/",
          "height": 265
        },
        "id": "0TrXeHS9W4pU",
        "outputId": "2bf5bf67-bd88-421b-e46a-3897b683cb3e"
      },
      "source": [
        "plt.plot(hist.history['loss'])\n",
        "plt.plot(hist.history['val_loss'])\n",
        "plt.show()"
      ],
      "execution_count": 15,
      "outputs": [
        {
          "output_type": "display_data",
          "data": {
            "image/png": "[encoded data removed]",
            "text/plain": [
              "<Figure size 432x288 with 1 Axes>"
            ]
          },
          "metadata": {
            "tags": [],
            "needs_background": "light"
          }
        }
      ]
    },
    {
      "cell_type": "code",
      "metadata": {
        "colab": {
          "base_uri": "https://localhost:8080/",
          "height": 269
        },
        "id": "zE271nFsIZOX",
        "outputId": "2eb9b7bf-cdcc-4ca4-f7f5-803f33e26430"
      },
      "source": [
        "plt.plot(hist.history['accuracy'])\n",
        "plt.plot(hist.history['val_accuracy'])\n",
        "plt.show()"
      ],
      "execution_count": 18,
      "outputs": [
        {
          "output_type": "display_data",
          "data": {
            "image/png": "[encoded data removed]",
            "text/plain": [
              "<Figure size 432x288 with 1 Axes>"
            ]
          },
          "metadata": {
            "tags": [],
            "needs_background": "light"
          }
        }
      ]
    },
    {
      "cell_type": "code",
      "metadata": {
        "id": "Pgr72MiQtacv"
      },
      "source": [
        "from sklearn.metrics import classification_report"
      ],
      "execution_count": 29,
      "outputs": []
    },
    {
      "cell_type": "code",
      "metadata": {
        "id": "caV0RB_krgMr"
      },
      "source": [
        "y_train_pred = model.predict(pad_x_train)"
      ],
      "execution_count": 32,
      "outputs": []
    },
    {
      "cell_type": "code",
      "metadata": {
        "colab": {
          "base_uri": "https://localhost:8080/"
        },
        "id": "-GxIXDU1rgQ3",
        "outputId": "03738310-5ff9-4819-d4bc-0347f2f68b46"
      },
      "source": [
        "y_train_pred[0]"
      ],
      "execution_count": 33,
      "outputs": [
        {
          "output_type": "execute_result",
          "data": {
            "text/plain": [
              "array([1.1717847e-04, 2.4494540e-04, 4.4054381e-05, 9.6082956e-01,\n",
              "       2.1467853e-02, 2.1755155e-05, 8.4035695e-05, 1.8764717e-04,\n",
              "       3.3504486e-03, 4.6611265e-05, 4.8366048e-05, 5.6039047e-04,\n",
              "       1.9031139e-04, 5.7743833e-05, 1.7255951e-04, 5.7029090e-05,\n",
              "       2.8967122e-03, 1.3585994e-04, 2.6458692e-05, 2.4353536e-03,\n",
              "       2.1009836e-03, 1.0846626e-04, 6.4593158e-05, 2.1815738e-05,\n",
              "       2.2328313e-05, 6.0069883e-06, 1.4145520e-04, 9.8849261e-05,\n",
              "       1.3816878e-04, 4.5191107e-04, 4.7240511e-04, 4.3348470e-04,\n",
              "       7.8631427e-05, 1.8376135e-04, 9.9457696e-04, 2.4150022e-04,\n",
              "       4.0037517e-05, 5.9221242e-05, 2.0504733e-04, 4.6540931e-04,\n",
              "       4.8182861e-05, 2.9204227e-04, 1.3887897e-04, 8.5620690e-05,\n",
              "       7.8788231e-05, 5.2902375e-05], dtype=float32)"
            ]
          },
          "metadata": {
            "tags": []
          },
          "execution_count": 33
        }
      ]
    },
    {
      "cell_type": "code",
      "metadata": {
        "colab": {
          "base_uri": "https://localhost:8080/"
        },
        "id": "N8GTT14irWlr",
        "outputId": "2c392605-bed1-4a1d-f0c9-b0fccaa66062"
      },
      "source": [
        "import numpy as np\n",
        "\n",
        "y_pred = np.argmax(y_train_pred, axis=1)\n",
        "y_pred.shape"
      ],
      "execution_count": 34,
      "outputs": [
        {
          "output_type": "execute_result",
          "data": {
            "text/plain": [
              "(8982,)"
            ]
          },
          "metadata": {
            "tags": []
          },
          "execution_count": 34
        }
      ]
    },
    {
      "cell_type": "code",
      "metadata": {
        "colab": {
          "base_uri": "https://localhost:8080/"
        },
        "id": "SJ_o8_22rfaw",
        "outputId": "45d8562f-ebe4-410c-f5b7-d7acbd6b2869"
      },
      "source": [
        "len(y_train)"
      ],
      "execution_count": 35,
      "outputs": [
        {
          "output_type": "execute_result",
          "data": {
            "text/plain": [
              "8982"
            ]
          },
          "metadata": {
            "tags": []
          },
          "execution_count": 35
        }
      ]
    },
    {
      "cell_type": "code",
      "metadata": {
        "colab": {
          "base_uri": "https://localhost:8080/"
        },
        "id": "CksIp_nOrhsD",
        "outputId": "8afcf4ec-3a2d-4fff-e8c1-3d45e3ba9dfa"
      },
      "source": [
        "print(classification_report(y_train, y_pred))"
      ],
      "execution_count": 36,
      "outputs": [
        {
          "output_type": "stream",
          "text": [
            "              precision    recall  f1-score   support\n",
            "\n",
            "           0       0.38      0.55      0.45        55\n",
            "           1       0.68      0.81      0.74       432\n",
            "           2       0.60      0.65      0.62        74\n",
            "           3       0.94      0.96      0.95      3159\n",
            "           4       0.90      0.92      0.91      1949\n",
            "           5       0.00      0.00      0.00        17\n",
            "           6       0.23      0.75      0.35        48\n",
            "           7       0.00      0.00      0.00        16\n",
            "           8       0.73      0.68      0.70       139\n",
            "           9       0.45      0.66      0.53       101\n",
            "          10       0.72      0.69      0.71       124\n",
            "          11       0.80      0.76      0.78       390\n",
            "          12       0.75      0.37      0.49        49\n",
            "          13       0.83      0.40      0.54       172\n",
            "          14       0.00      0.00      0.00        26\n",
            "          15       0.00      0.00      0.00        20\n",
            "          16       0.66      0.73      0.70       444\n",
            "          17       0.70      0.54      0.61        39\n",
            "          18       0.31      0.73      0.43        66\n",
            "          19       0.83      0.78      0.80       549\n",
            "          20       0.70      0.70      0.70       269\n",
            "          21       0.50      0.73      0.59       100\n",
            "          22       0.00      0.00      0.00        15\n",
            "          23       0.33      0.02      0.05        41\n",
            "          24       0.56      0.55      0.55        62\n",
            "          25       0.67      0.65      0.66        92\n",
            "          26       0.00      0.00      0.00        24\n",
            "          27       0.00      0.00      0.00        15\n",
            "          28       0.25      0.50      0.34        48\n",
            "          29       0.00      0.00      0.00        19\n",
            "          30       0.55      0.24      0.34        45\n",
            "          31       0.22      0.51      0.30        39\n",
            "          32       0.00      0.00      0.00        32\n",
            "          33       0.00      0.00      0.00        11\n",
            "          34       0.49      0.76      0.59        50\n",
            "          35       0.00      0.00      0.00        10\n",
            "          36       0.00      0.00      0.00        49\n",
            "          37       0.00      0.00      0.00        19\n",
            "          38       0.00      0.00      0.00        19\n",
            "          39       0.00      0.00      0.00        24\n",
            "          40       0.00      0.00      0.00        36\n",
            "          41       0.64      0.47      0.54        30\n",
            "          42       0.00      0.00      0.00        13\n",
            "          43       0.00      0.00      0.00        21\n",
            "          44       0.00      0.00      0.00        12\n",
            "          45       0.00      0.00      0.00        18\n",
            "\n",
            "    accuracy                           0.80      8982\n",
            "   macro avg       0.33      0.35      0.33      8982\n",
            "weighted avg       0.79      0.80      0.79      8982\n",
            "\n"
          ],
          "name": "stdout"
        },
        {
          "output_type": "stream",
          "text": [
            "/usr/local/lib/python3.7/dist-packages/sklearn/metrics/_classification.py:1272: UndefinedMetricWarning: Precision and F-score are ill-defined and being set to 0.0 in labels with no predicted samples. Use `zero_division` parameter to control this behavior.\n",
            "  _warn_prf(average, modifier, msg_start, len(result))\n"
          ],
          "name": "stderr"
        }
      ]
    },
    {
      "cell_type": "code",
      "metadata": {
        "id": "6Q1x8aZEsiTc"
      },
      "source": [
        "y_test_pred = model.predict(pad_x_test)"
      ],
      "execution_count": 37,
      "outputs": []
    },
    {
      "cell_type": "code",
      "metadata": {
        "id": "Bi4f0gD_tH7i"
      },
      "source": [
        "y_pred = np.argmax(y_test_pred, axis=1)"
      ],
      "execution_count": 38,
      "outputs": []
    },
    {
      "cell_type": "code",
      "metadata": {
        "colab": {
          "base_uri": "https://localhost:8080/"
        },
        "id": "dYa_mmvxsl7B",
        "outputId": "562f0732-0827-41b7-c1a9-8f5186583419"
      },
      "source": [
        "print(classification_report(y_test, y_pred))"
      ],
      "execution_count": 40,
      "outputs": [
        {
          "output_type": "stream",
          "text": [
            "              precision    recall  f1-score   support\n",
            "\n",
            "           0       0.05      0.08      0.06        12\n",
            "           1       0.39      0.47      0.42       105\n",
            "           2       0.03      0.05      0.04        20\n",
            "           3       0.89      0.92      0.90       813\n",
            "           4       0.79      0.77      0.78       474\n",
            "           5       0.00      0.00      0.00         5\n",
            "           6       0.12      0.21      0.15        14\n",
            "           7       0.00      0.00      0.00         3\n",
            "           8       0.29      0.37      0.32        38\n",
            "           9       0.11      0.28      0.16        25\n",
            "          10       0.23      0.23      0.23        30\n",
            "          11       0.22      0.24      0.23        83\n",
            "          12       0.43      0.23      0.30        13\n",
            "          13       0.07      0.03      0.04        37\n",
            "          14       0.00      0.00      0.00         2\n",
            "          15       0.00      0.00      0.00         9\n",
            "          16       0.28      0.40      0.33        99\n",
            "          17       0.00      0.00      0.00        12\n",
            "          18       0.05      0.10      0.06        20\n",
            "          19       0.45      0.44      0.44       133\n",
            "          20       0.29      0.20      0.24        70\n",
            "          21       0.21      0.26      0.23        27\n",
            "          22       0.00      0.00      0.00         7\n",
            "          23       0.00      0.00      0.00        12\n",
            "          24       0.00      0.00      0.00        19\n",
            "          25       0.13      0.16      0.14        31\n",
            "          26       0.00      0.00      0.00         8\n",
            "          27       0.00      0.00      0.00         4\n",
            "          28       0.00      0.00      0.00        10\n",
            "          29       0.00      0.00      0.00         4\n",
            "          30       0.00      0.00      0.00        12\n",
            "          31       0.00      0.00      0.00        13\n",
            "          32       0.00      0.00      0.00        10\n",
            "          33       0.00      0.00      0.00         5\n",
            "          34       0.12      0.14      0.13         7\n",
            "          35       0.00      0.00      0.00         6\n",
            "          36       0.00      0.00      0.00        11\n",
            "          37       0.00      0.00      0.00         2\n",
            "          38       0.00      0.00      0.00         3\n",
            "          39       0.00      0.00      0.00         5\n",
            "          40       0.00      0.00      0.00        10\n",
            "          41       0.00      0.00      0.00         8\n",
            "          42       0.00      0.00      0.00         3\n",
            "          43       0.00      0.00      0.00         6\n",
            "          44       0.00      0.00      0.00         5\n",
            "          45       0.00      0.00      0.00         1\n",
            "\n",
            "    accuracy                           0.60      2246\n",
            "   macro avg       0.11      0.12      0.11      2246\n",
            "weighted avg       0.58      0.60      0.59      2246\n",
            "\n"
          ],
          "name": "stdout"
        },
        {
          "output_type": "stream",
          "text": [
            "/usr/local/lib/python3.7/dist-packages/sklearn/metrics/_classification.py:1272: UndefinedMetricWarning: Precision and F-score are ill-defined and being set to 0.0 in labels with no predicted samples. Use `zero_division` parameter to control this behavior.\n",
            "  _warn_prf(average, modifier, msg_start, len(result))\n"
          ],
          "name": "stderr"
        }
      ]
    },
    {
      "cell_type": "markdown",
      "metadata": {
        "id": "oDBUh8VmvUj-"
      },
      "source": [
        "# Service"
      ]
    },
    {
      "cell_type": "markdown",
      "metadata": {
        "id": "aWjvBfsJv4Dd"
      },
      "source": [
        "문장 입력 -> 사전 기준으로 숫자로 바꿔주기 -> 배열 형태 [  , , ,  ] -> pad_sequence\n"
      ]
    },
    {
      "cell_type": "code",
      "metadata": {
        "id": "OzqbFu6ivCfN"
      },
      "source": [
        "model.predict()"
      ],
      "execution_count": null,
      "outputs": []
    }
  ]
}