{
  "nbformat": 4,
  "nbformat_minor": 0,
  "metadata": {
    "colab": {
      "name": "mnist_classification.ipynb",
      "provenance": [],
      "collapsed_sections": []
    },
    "kernelspec": {
      "name": "python3",
      "display_name": "Python 3"
    },
    "language_info": {
      "name": "python"
    }
  },
  "cells": [
    {
      "cell_type": "markdown",
      "metadata": {
        "id": "zCDocuyseAuj"
      },
      "source": [
        "## Classification \n",
        "* 차원이 있는 데이터 처리\n",
        "* 데이터 셋: tensorflow.keras.datasets.mnist\n",
        "*  이미지는 구성이 픽셀(점)으로 이루어짐. mnist 흰색과 검은색으로 구성(검은 배경, 흰 숫자)"
      ]
    },
    {
      "cell_type": "code",
      "metadata": {
        "id": "DoAZATgKlv2k"
      },
      "source": [
        "from tensorflow.keras.datasets.mnist import load_data"
      ],
      "execution_count": 33,
      "outputs": []
    },
    {
      "cell_type": "code",
      "metadata": {
        "colab": {
          "base_uri": "https://localhost:8080/"
        },
        "id": "wJ_VeHJjmql0",
        "outputId": "3f7c14c9-9269-4ee9-9fc6-d1bb425cbc21"
      },
      "source": [
        "(x_train, y_train), (x_test, y_test) = load_data(path='mnist.npz')\n",
        "x_train.shape, y_train.shape, x_test.shape, y_test.shape"
      ],
      "execution_count": 34,
      "outputs": [
        {
          "output_type": "execute_result",
          "data": {
            "text/plain": [
              "((60000, 28, 28), (60000,), (10000, 28, 28), (10000,))"
            ]
          },
          "metadata": {
            "tags": []
          },
          "execution_count": 34
        }
      ]
    },
    {
      "cell_type": "markdown",
      "metadata": {
        "id": "QB7z4T2rezX-"
      },
      "source": [
        "* x_train (60000, 28, 28) 은 (행, 열, 깊이)\n",
        "* y_train (60000, ) 해당부분의 y의 값"
      ]
    },
    {
      "cell_type": "code",
      "metadata": {
        "id": "qEibJyVYsHaj",
        "colab": {
          "base_uri": "https://localhost:8080/"
        },
        "outputId": "a5a3f028-44f4-4f05-c64b-e7bf3bfbd063"
      },
      "source": [
        "y_train[4], x_train[4]\n",
        "\n",
        "# x_train 숫자 라는 것을 보여주기위한 작업( 4 번째 해당부분의 이미지)"
      ],
      "execution_count": 35,
      "outputs": [
        {
          "output_type": "execute_result",
          "data": {
            "text/plain": [
              "(9, array([[  0,   0,   0,   0,   0,   0,   0,   0,   0,   0,   0,   0,   0,\n",
              "           0,   0,   0,   0,   0,   0,   0,   0,   0,   0,   0,   0,   0,\n",
              "           0,   0],\n",
              "        [  0,   0,   0,   0,   0,   0,   0,   0,   0,   0,   0,   0,   0,\n",
              "           0,   0,   0,   0,   0,   0,   0,   0,   0,   0,   0,   0,   0,\n",
              "           0,   0],\n",
              "        [  0,   0,   0,   0,   0,   0,   0,   0,   0,   0,   0,   0,   0,\n",
              "           0,   0,   0,   0,   0,   0,   0,   0,   0,   0,   0,   0,   0,\n",
              "           0,   0],\n",
              "        [  0,   0,   0,   0,   0,   0,   0,   0,   0,   0,   0,   0,   0,\n",
              "           0,   0,   0,   0,   0,   0,   0,   0,   0,   0,   0,   0,   0,\n",
              "           0,   0],\n",
              "        [  0,   0,   0,   0,   0,   0,   0,   0,   0,   0,   0,   0,   0,\n",
              "           0,   0,   0,   0,   0,   0,   0,   0,   0,   0,   0,   0,   0,\n",
              "           0,   0],\n",
              "        [  0,   0,   0,   0,   0,   0,   0,   0,   0,   0,   0,   0,   0,\n",
              "           0,   0,   0,   0,   0,   0,   0,   0,   0,   0,   0,   0,   0,\n",
              "           0,   0],\n",
              "        [  0,   0,   0,   0,   0,   0,   0,   0,   0,   0,   0,   0,   0,\n",
              "           0,   0,   0,   0,   0,   0,   0,   0,   0,   0,   0,   0,   0,\n",
              "           0,   0],\n",
              "        [  0,   0,   0,   0,   0,   0,   0,   0,   0,   0,   0,   0,  55,\n",
              "         148, 210, 253, 253, 113,  87, 148,  55,   0,   0,   0,   0,   0,\n",
              "           0,   0],\n",
              "        [  0,   0,   0,   0,   0,   0,   0,   0,   0,   0,   0,  87, 232,\n",
              "         252, 253, 189, 210, 252, 252, 253, 168,   0,   0,   0,   0,   0,\n",
              "           0,   0],\n",
              "        [  0,   0,   0,   0,   0,   0,   0,   0,   0,   4,  57, 242, 252,\n",
              "         190,  65,   5,  12, 182, 252, 253, 116,   0,   0,   0,   0,   0,\n",
              "           0,   0],\n",
              "        [  0,   0,   0,   0,   0,   0,   0,   0,   0,  96, 252, 252, 183,\n",
              "          14,   0,   0,  92, 252, 252, 225,  21,   0,   0,   0,   0,   0,\n",
              "           0,   0],\n",
              "        [  0,   0,   0,   0,   0,   0,   0,   0, 132, 253, 252, 146,  14,\n",
              "           0,   0,   0, 215, 252, 252,  79,   0,   0,   0,   0,   0,   0,\n",
              "           0,   0],\n",
              "        [  0,   0,   0,   0,   0,   0,   0, 126, 253, 247, 176,   9,   0,\n",
              "           0,   8,  78, 245, 253, 129,   0,   0,   0,   0,   0,   0,   0,\n",
              "           0,   0],\n",
              "        [  0,   0,   0,   0,   0,   0,  16, 232, 252, 176,   0,   0,   0,\n",
              "          36, 201, 252, 252, 169,  11,   0,   0,   0,   0,   0,   0,   0,\n",
              "           0,   0],\n",
              "        [  0,   0,   0,   0,   0,   0,  22, 252, 252,  30,  22, 119, 197,\n",
              "         241, 253, 252, 251,  77,   0,   0,   0,   0,   0,   0,   0,   0,\n",
              "           0,   0],\n",
              "        [  0,   0,   0,   0,   0,   0,  16, 231, 252, 253, 252, 252, 252,\n",
              "         226, 227, 252, 231,   0,   0,   0,   0,   0,   0,   0,   0,   0,\n",
              "           0,   0],\n",
              "        [  0,   0,   0,   0,   0,   0,   0,  55, 235, 253, 217, 138,  42,\n",
              "          24, 192, 252, 143,   0,   0,   0,   0,   0,   0,   0,   0,   0,\n",
              "           0,   0],\n",
              "        [  0,   0,   0,   0,   0,   0,   0,   0,   0,   0,   0,   0,   0,\n",
              "          62, 255, 253, 109,   0,   0,   0,   0,   0,   0,   0,   0,   0,\n",
              "           0,   0],\n",
              "        [  0,   0,   0,   0,   0,   0,   0,   0,   0,   0,   0,   0,   0,\n",
              "          71, 253, 252,  21,   0,   0,   0,   0,   0,   0,   0,   0,   0,\n",
              "           0,   0],\n",
              "        [  0,   0,   0,   0,   0,   0,   0,   0,   0,   0,   0,   0,   0,\n",
              "           0, 253, 252,  21,   0,   0,   0,   0,   0,   0,   0,   0,   0,\n",
              "           0,   0],\n",
              "        [  0,   0,   0,   0,   0,   0,   0,   0,   0,   0,   0,   0,   0,\n",
              "          71, 253, 252,  21,   0,   0,   0,   0,   0,   0,   0,   0,   0,\n",
              "           0,   0],\n",
              "        [  0,   0,   0,   0,   0,   0,   0,   0,   0,   0,   0,   0,   0,\n",
              "         106, 253, 252,  21,   0,   0,   0,   0,   0,   0,   0,   0,   0,\n",
              "           0,   0],\n",
              "        [  0,   0,   0,   0,   0,   0,   0,   0,   0,   0,   0,   0,   0,\n",
              "          45, 255, 253,  21,   0,   0,   0,   0,   0,   0,   0,   0,   0,\n",
              "           0,   0],\n",
              "        [  0,   0,   0,   0,   0,   0,   0,   0,   0,   0,   0,   0,   0,\n",
              "           0, 218, 252,  56,   0,   0,   0,   0,   0,   0,   0,   0,   0,\n",
              "           0,   0],\n",
              "        [  0,   0,   0,   0,   0,   0,   0,   0,   0,   0,   0,   0,   0,\n",
              "           0,  96, 252, 189,  42,   0,   0,   0,   0,   0,   0,   0,   0,\n",
              "           0,   0],\n",
              "        [  0,   0,   0,   0,   0,   0,   0,   0,   0,   0,   0,   0,   0,\n",
              "           0,  14, 184, 252, 170,  11,   0,   0,   0,   0,   0,   0,   0,\n",
              "           0,   0],\n",
              "        [  0,   0,   0,   0,   0,   0,   0,   0,   0,   0,   0,   0,   0,\n",
              "           0,   0,  14, 147, 252,  42,   0,   0,   0,   0,   0,   0,   0,\n",
              "           0,   0],\n",
              "        [  0,   0,   0,   0,   0,   0,   0,   0,   0,   0,   0,   0,   0,\n",
              "           0,   0,   0,   0,   0,   0,   0,   0,   0,   0,   0,   0,   0,\n",
              "           0,   0]], dtype=uint8))"
            ]
          },
          "metadata": {
            "tags": []
          },
          "execution_count": 35
        }
      ]
    },
    {
      "cell_type": "code",
      "metadata": {
        "id": "W7sX8yJ_sqAL",
        "colab": {
          "base_uri": "https://localhost:8080/"
        },
        "outputId": "8fe17dee-7e06-498c-95a2-6314df99d863"
      },
      "source": [
        "y_train[50000], x_train[50000]"
      ],
      "execution_count": 36,
      "outputs": [
        {
          "output_type": "execute_result",
          "data": {
            "text/plain": [
              "(3, array([[  0,   0,   0,   0,   0,   0,   0,   0,   0,   0,   0,   0,   0,\n",
              "           0,   0,   0,   0,   0,   0,   0,   0,   0,   0,   0,   0,   0,\n",
              "           0,   0],\n",
              "        [  0,   0,   0,   0,   0,   0,   0,   0,   0,   0,   0,   0,   0,\n",
              "           0,   0,   0,   0,   0,   0,   0,   0,   0,   0,   0,   0,   0,\n",
              "           0,   0],\n",
              "        [  0,   0,   0,   0,   0,   0,   0,   0,   0,   0,   0,   0,   0,\n",
              "           0,   0,   0,   0,   0,   0,   0,   0,   0,   0,   0,   0,   0,\n",
              "           0,   0],\n",
              "        [  0,   0,   0,   0,   0,   0,   0,   0,   0,   0,   0,   0,   0,\n",
              "           0,   0,   0,   0,   0,   0,   0,   0,   0,   0,   0,   0,   0,\n",
              "           0,   0],\n",
              "        [  0,   0,   0,   0,   0,   0,   0,   0,   0,   0,  47, 160, 195,\n",
              "         205,  71,  86,  13,   0,   0,   0,   0,   0,   0,   0,   0,   0,\n",
              "           0,   0],\n",
              "        [  0,   0,   0,   0,   0,   0,   0,   0,   0,  12, 238, 254, 254,\n",
              "         254, 254, 254, 227,  84,   0,   0,   0,   0,   0,   0,   0,   0,\n",
              "           0,   0],\n",
              "        [  0,   0,   0,   0,   0,   0,   0,   0,   0,  13, 196, 176, 127,\n",
              "         176, 207, 236, 245, 222,  23,   0,   0,   0,   0,   0,   0,   0,\n",
              "           0,   0],\n",
              "        [  0,   0,   0,   0,   0,   0,   0,   0,   0,   0,   0,   0,   0,\n",
              "           0,   0,  20, 137, 254,  95,   0,   0,   0,   0,   0,   0,   0,\n",
              "           0,   0],\n",
              "        [  0,   0,   0,   0,   0,   0,   0,   0,   0,   0,   0,   0,   0,\n",
              "           0,   0,   0,  78, 254, 144,   0,   0,   0,   0,   0,   0,   0,\n",
              "           0,   0],\n",
              "        [  0,   0,   0,   0,   0,   0,   0,   0,   0,   0,   0,   0,   0,\n",
              "           0,   0,  17, 200, 254, 170,   0,   0,   0,   0,   0,   0,   0,\n",
              "           0,   0],\n",
              "        [  0,   0,   0,   0,   0,   0,   0,   0,   0,   0,   0,   0,   0,\n",
              "           0,  47, 218, 254, 216,  29,   0,   0,   0,   0,   0,   0,   0,\n",
              "           0,   0],\n",
              "        [  0,   0,   0,   0,   0,   0,   0,   0,   0,   0,   0,   0,   0,\n",
              "          95, 225, 254, 245,  65,   0,   0,   0,   0,   0,   0,   0,   0,\n",
              "           0,   0],\n",
              "        [  0,   0,   0,   0,   0,   0,   0,   0,   0,   0,   0,  12, 128,\n",
              "         252, 254, 236,  40,   0,   0,   0,   0,   0,   0,   0,   0,   0,\n",
              "           0,   0],\n",
              "        [  0,   0,   0,   0,   0,   0,   0,   0,   0,   0,   0, 172, 254,\n",
              "         254, 170,  58,   0,   0,   0,   0,   0,   0,   0,   0,   0,   0,\n",
              "           0,   0],\n",
              "        [  0,   0,   0,   0,   0,   0,   0,   0,   0,   0,   0, 207, 254,\n",
              "         254,  65,   0,   0,   0,   0,   0,   0,   0,   0,   0,   0,   0,\n",
              "           0,   0],\n",
              "        [  0,   0,   0,   0,   0,   0,   0,   0,   0,   0,   0, 137, 254,\n",
              "         254, 251, 146,  26,   0,   0,   0,   0,   0,   0,   0,   0,   0,\n",
              "           0,   0],\n",
              "        [  0,   0,   0,   0,   0,   0,   0,   0,   0,   0,   0,   9, 173,\n",
              "         224, 254, 254, 230,  71,   0,   0,   0,   0,   0,   0,   0,   0,\n",
              "           0,   0],\n",
              "        [  0,   0,   0,   0,   0,   0,   0,   0,   0,   0,   0,   0,   8,\n",
              "          12, 254, 254, 254, 246, 104,   0,   0,   0,   0,   0,   0,   0,\n",
              "           0,   0],\n",
              "        [  0,   0,   0,   0,   0,   0,   0,   0,   0,   0,   0,   0,   0,\n",
              "           0,  46, 189, 254, 254, 224,   0,   0,   0,   0,   0,   0,   0,\n",
              "           0,   0],\n",
              "        [  0,   0,   0,   0,   0,   0,   0,   0,   0,  10,   0,   0,   0,\n",
              "           0,   0,  17, 175, 254, 254,  25,   0,   0,   0,   0,   0,   0,\n",
              "           0,   0],\n",
              "        [  0,   0,   0,   0,   0,   0,   0,   0,  35, 231, 156, 112,  87,\n",
              "         186, 191, 218, 254, 254, 219,   0,   0,   0,   0,   0,   0,   0,\n",
              "           0,   0],\n",
              "        [  0,   0,   0,   0,   0,   0,   0,   0, 120, 255, 254, 254, 254,\n",
              "         254, 255, 254, 254, 242,  67,   0,   0,   0,   0,   0,   0,   0,\n",
              "           0,   0],\n",
              "        [  0,   0,   0,   0,   0,   0,   0,   0, 139, 255, 254, 254, 254,\n",
              "         254, 255, 171,  46,  24,   0,   0,   0,   0,   0,   0,   0,   0,\n",
              "           0,   0],\n",
              "        [  0,   0,   0,   0,   0,   0,   0,   0,   5,  71, 164, 189, 174,\n",
              "         174,  66,   4,   0,   0,   0,   0,   0,   0,   0,   0,   0,   0,\n",
              "           0,   0],\n",
              "        [  0,   0,   0,   0,   0,   0,   0,   0,   0,   0,   0,   0,   0,\n",
              "           0,   0,   0,   0,   0,   0,   0,   0,   0,   0,   0,   0,   0,\n",
              "           0,   0],\n",
              "        [  0,   0,   0,   0,   0,   0,   0,   0,   0,   0,   0,   0,   0,\n",
              "           0,   0,   0,   0,   0,   0,   0,   0,   0,   0,   0,   0,   0,\n",
              "           0,   0],\n",
              "        [  0,   0,   0,   0,   0,   0,   0,   0,   0,   0,   0,   0,   0,\n",
              "           0,   0,   0,   0,   0,   0,   0,   0,   0,   0,   0,   0,   0,\n",
              "           0,   0],\n",
              "        [  0,   0,   0,   0,   0,   0,   0,   0,   0,   0,   0,   0,   0,\n",
              "           0,   0,   0,   0,   0,   0,   0,   0,   0,   0,   0,   0,   0,\n",
              "           0,   0]], dtype=uint8))"
            ]
          },
          "metadata": {
            "tags": []
          },
          "execution_count": 36
        }
      ]
    },
    {
      "cell_type": "code",
      "metadata": {
        "colab": {
          "base_uri": "https://localhost:8080/",
          "height": 282
        },
        "id": "qz0Bng0oqgd2",
        "outputId": "df4cbed2-503d-4fc5-915f-3499c9ba7836"
      },
      "source": [
        "import matplotlib.pyplot as plt\n",
        "\n",
        "plt.imshow(x_train[4])\n",
        "print(y_train[4])"
      ],
      "execution_count": 37,
      "outputs": [
        {
          "output_type": "stream",
          "text": [
            "9\n"
          ],
          "name": "stdout"
        },
        {
          "output_type": "display_data",
          "data": {
            "image/png": "[encoded data removed]",
            "text/plain": [
              "<Figure size 432x288 with 1 Axes>"
            ]
          },
          "metadata": {
            "tags": [],
            "needs_background": "light"
          }
        }
      ]
    },
    {
      "cell_type": "code",
      "metadata": {
        "colab": {
          "base_uri": "https://localhost:8080/",
          "height": 282
        },
        "id": "NK9lDO22fJKv",
        "outputId": "5a3ebff5-a4f2-4653-e012-dfb367d95055"
      },
      "source": [
        "plt.imshow(x_train[50000])\n",
        "print(y_train[50000], type(y_train[50000]))"
      ],
      "execution_count": 38,
      "outputs": [
        {
          "output_type": "stream",
          "text": [
            "3 <class 'numpy.uint8'>\n"
          ],
          "name": "stdout"
        },
        {
          "output_type": "display_data",
          "data": {
            "image/png": "[encoded data removed]",
            "text/plain": [
              "<Figure size 432x288 with 1 Axes>"
            ]
          },
          "metadata": {
            "tags": [],
            "needs_background": "light"
          }
        }
      ]
    },
    {
      "cell_type": "markdown",
      "metadata": {
        "id": "TpSdiwlXfL29"
      },
      "source": [
        "* 1번째 단계 : 3차원(이미지 2차원데이터)를 2차원(이미지 1차원데이터)로 만든다\n",
        "\n",
        "* -1 은 한쪽 영역이 완료되면 나머지도 해준다"
      ]
    },
    {
      "cell_type": "code",
      "metadata": {
        "colab": {
          "base_uri": "https://localhost:8080/"
        },
        "id": "fTiNIr89tBSP",
        "outputId": "e9020582-bf62-49ba-8073-41a5405a642c"
      },
      "source": [
        "x_train = x_train.reshape(-1,28*28) / 255\n",
        "x_train.shape\n",
        "\n",
        "# 0~ 255: 색 분포표의 범위"
      ],
      "execution_count": 39,
      "outputs": [
        {
          "output_type": "execute_result",
          "data": {
            "text/plain": [
              "(60000, 784)"
            ]
          },
          "metadata": {
            "tags": []
          },
          "execution_count": 39
        }
      ]
    },
    {
      "cell_type": "code",
      "metadata": {
        "colab": {
          "base_uri": "https://localhost:8080/"
        },
        "id": "V1zyuGoluo4V",
        "outputId": "2fa08efb-e9a0-4880-e3e8-d59f5f41e00e"
      },
      "source": [
        "x_test = x_test.reshape(-1, 28*28) / 255\n",
        "x_test.shape"
      ],
      "execution_count": 40,
      "outputs": [
        {
          "output_type": "execute_result",
          "data": {
            "text/plain": [
              "(10000, 784)"
            ]
          },
          "metadata": {
            "tags": []
          },
          "execution_count": 40
        }
      ]
    },
    {
      "cell_type": "code",
      "metadata": {
        "colab": {
          "base_uri": "https://localhost:8080/"
        },
        "id": "Dc7yUgECvObX",
        "outputId": "b2736656-7e6c-4b70-d4ec-dbaf3889dbae"
      },
      "source": [
        "y_train[2:10], y_train.shape"
      ],
      "execution_count": 41,
      "outputs": [
        {
          "output_type": "execute_result",
          "data": {
            "text/plain": [
              "(array([4, 1, 9, 2, 1, 3, 1, 4], dtype=uint8), (60000,))"
            ]
          },
          "metadata": {
            "tags": []
          },
          "execution_count": 41
        }
      ]
    },
    {
      "cell_type": "markdown",
      "metadata": {
        "id": "-GTkyAfhfVvh"
      },
      "source": [
        "y_train의 유니크 값을 확인. 모델에서 아웃풋 dense에 10을 넣어줌을 확인"
      ]
    },
    {
      "cell_type": "code",
      "metadata": {
        "colab": {
          "base_uri": "https://localhost:8080/"
        },
        "id": "7YhhIDYRxZdt",
        "outputId": "160586cb-91dc-4f30-b564-635e9ff0df97"
      },
      "source": [
        "import numpy as np\n",
        "np.unique(y_train)"
      ],
      "execution_count": 42,
      "outputs": [
        {
          "output_type": "execute_result",
          "data": {
            "text/plain": [
              "array([0, 1, 2, 3, 4, 5, 6, 7, 8, 9], dtype=uint8)"
            ]
          },
          "metadata": {
            "tags": []
          },
          "execution_count": 42
        }
      ]
    },
    {
      "cell_type": "markdown",
      "metadata": {
        "id": "UlE9DQL-fffL"
      },
      "source": [
        ""
      ]
    },
    {
      "cell_type": "markdown",
      "metadata": {
        "id": "aQHnfCPrwB2U"
      },
      "source": [
        "# Apply model "
      ]
    },
    {
      "cell_type": "code",
      "metadata": {
        "id": "r6buyTC2vggM"
      },
      "source": [
        "import tensorflow as tf"
      ],
      "execution_count": 43,
      "outputs": []
    },
    {
      "cell_type": "code",
      "metadata": {
        "colab": {
          "base_uri": "https://localhost:8080/"
        },
        "id": "TgGwaCwawOFg",
        "outputId": "e9bf8c10-0ae7-4f29-fbdb-aec94a0f579c"
      },
      "source": [
        "model = tf.keras.models.Sequential()\n",
        "\n",
        "model.add(tf.keras.Input(shape=(784,))) # input layer\n",
        "model.add(tf.keras.layers.Dense(64, activation='relu')) # hidden layer\n",
        "model.add(tf.keras.layers.Dense(64, activation='relu')) # hidden layer\n",
        "# 3이상 --> softmax, binary --> sigmoid\n",
        "model.add(tf.keras.layers.Dense(10, activation='softmax')) # output layer \n",
        "\n",
        "# regression --> loss : mse\n",
        "# binary classification --> loss : binary crossentropy\n",
        "# over 3 classification --> loss : categorical crossentropy(sparse_categorical_crossentropy)\n",
        "model.compile(optimizer='adam', loss='sparse_categorical_crossentropy', metrics=['acc'])"
      ],
      "execution_count": 44,
      "outputs": [
        {
          "output_type": "stream",
          "text": [
            "WARNING:tensorflow:Please add `keras.layers.InputLayer` instead of `keras.Input` to Sequential model. `keras.Input` is intended to be used by Functional model.\n"
          ],
          "name": "stdout"
        }
      ]
    },
    {
      "cell_type": "markdown",
      "metadata": {
        "id": "0tRKVFUXflG2"
      },
      "source": [
        "* output layer 의 activation\n",
        "  * unique가 3개 이상 일때는 activation은 softmax를 쓴다\n",
        "\n",
        "  * 긍정과 부정 처럼 분류가 2개일(2진) 경우는 binary 라고 하는데 이때는 activation을 sigmoid를 쓴다\n",
        "\n",
        "---\n",
        "* loss 율\n",
        "  * 연속형 -> loss = mae (절대값) : mean(abs(y_true - y_pred), axis=-1)\n",
        "\n",
        "  * regression -> loss = mse (오차값) :  mean(square(y_true - y_pred), axis=-1)\n",
        "\n",
        "  * binary classification -> loss = binary_crossentropy : f.keras.metrics.binary_crossentropy( y_true, y_pred, from_logits=False, label_smoothing=0)\n",
        "\n",
        "  * over 3 classification -> loss = categorical_crossentropy (sparse_categorical_crossentropy) : tf.keras.metrics.categorical_crossentropy( y_true, y_pred, from_logits=False, label_smoothing=0 )\n",
        "\n",
        "  * one-hot encoding 하기 싫을 때 -> loss = sparse_categorical_crossentropy : tf.keras.metrics.sparse_categorical_crossentropy( y_true, y_pred, from_logits=False, axis=-1)\n",
        "\n",
        "  \n",
        "\n",
        "\n"
      ]
    },
    {
      "cell_type": "markdown",
      "metadata": {
        "id": "-gR9g41fglXR"
      },
      "source": [
        "# Training"
      ]
    },
    {
      "cell_type": "code",
      "metadata": {
        "id": "lELE_1_q-5q1",
        "colab": {
          "base_uri": "https://localhost:8080/"
        },
        "outputId": "d24ab78d-bcc6-4e0f-9c53-88fca43ad566"
      },
      "source": [
        "hist = model.fit(x_train, y_train, epochs=100, validation_split=0.3)"
      ],
      "execution_count": 45,
      "outputs": [
        {
          "output_type": "stream",
          "text": [
            "Epoch 1/100\n",
            "1313/1313 [==============================] - 4s 2ms/step - loss: 0.3208 - acc: 0.9069 - val_loss: 0.1893 - val_acc: 0.9443\n",
            "Epoch 2/100\n",
            "1313/1313 [==============================] - 3s 2ms/step - loss: 0.1389 - acc: 0.9582 - val_loss: 0.1310 - val_acc: 0.9601\n",
            "Epoch 3/100\n",
            "1313/1313 [==============================] - 3s 2ms/step - loss: 0.0986 - acc: 0.9695 - val_loss: 0.1266 - val_acc: 0.9621\n",
            "Epoch 4/100\n",
            "1313/1313 [==============================] - 3s 2ms/step - loss: 0.0760 - acc: 0.9759 - val_loss: 0.1230 - val_acc: 0.9642\n",
            "Epoch 5/100\n",
            "1313/1313 [==============================] - 3s 2ms/step - loss: 0.0589 - acc: 0.9810 - val_loss: 0.1147 - val_acc: 0.9681\n",
            "Epoch 6/100\n",
            "1313/1313 [==============================] - 3s 2ms/step - loss: 0.0507 - acc: 0.9833 - val_loss: 0.1078 - val_acc: 0.9702\n",
            "Epoch 7/100\n",
            "1313/1313 [==============================] - 3s 2ms/step - loss: 0.0412 - acc: 0.9867 - val_loss: 0.1133 - val_acc: 0.9700\n",
            "Epoch 8/100\n",
            "1313/1313 [==============================] - 3s 2ms/step - loss: 0.0345 - acc: 0.9885 - val_loss: 0.1181 - val_acc: 0.9692\n",
            "Epoch 9/100\n",
            "1313/1313 [==============================] - 3s 2ms/step - loss: 0.0307 - acc: 0.9897 - val_loss: 0.1202 - val_acc: 0.9698\n",
            "Epoch 10/100\n",
            "1313/1313 [==============================] - 3s 2ms/step - loss: 0.0273 - acc: 0.9916 - val_loss: 0.1217 - val_acc: 0.9701\n",
            "Epoch 11/100\n",
            "1313/1313 [==============================] - 3s 2ms/step - loss: 0.0246 - acc: 0.9915 - val_loss: 0.1348 - val_acc: 0.9702\n",
            "Epoch 12/100\n",
            "1313/1313 [==============================] - 3s 2ms/step - loss: 0.0191 - acc: 0.9932 - val_loss: 0.1368 - val_acc: 0.9669\n",
            "Epoch 13/100\n",
            "1313/1313 [==============================] - 3s 2ms/step - loss: 0.0197 - acc: 0.9928 - val_loss: 0.1309 - val_acc: 0.9703\n",
            "Epoch 14/100\n",
            "1313/1313 [==============================] - 3s 2ms/step - loss: 0.0147 - acc: 0.9951 - val_loss: 0.1472 - val_acc: 0.9707\n",
            "Epoch 15/100\n",
            "1313/1313 [==============================] - 3s 2ms/step - loss: 0.0176 - acc: 0.9940 - val_loss: 0.1496 - val_acc: 0.9696\n",
            "Epoch 16/100\n",
            "1313/1313 [==============================] - 3s 2ms/step - loss: 0.0168 - acc: 0.9946 - val_loss: 0.1415 - val_acc: 0.9709\n",
            "Epoch 17/100\n",
            "1313/1313 [==============================] - 3s 2ms/step - loss: 0.0117 - acc: 0.9959 - val_loss: 0.1712 - val_acc: 0.9680\n",
            "Epoch 18/100\n",
            "1313/1313 [==============================] - 3s 2ms/step - loss: 0.0133 - acc: 0.9957 - val_loss: 0.1572 - val_acc: 0.9719\n",
            "Epoch 19/100\n",
            "1313/1313 [==============================] - 3s 2ms/step - loss: 0.0142 - acc: 0.9953 - val_loss: 0.1575 - val_acc: 0.9702\n",
            "Epoch 20/100\n",
            "1313/1313 [==============================] - 3s 2ms/step - loss: 0.0106 - acc: 0.9963 - val_loss: 0.1834 - val_acc: 0.9672\n",
            "Epoch 21/100\n",
            "1313/1313 [==============================] - 3s 2ms/step - loss: 0.0104 - acc: 0.9967 - val_loss: 0.1725 - val_acc: 0.9717\n",
            "Epoch 22/100\n",
            "1313/1313 [==============================] - 3s 2ms/step - loss: 0.0126 - acc: 0.9955 - val_loss: 0.1630 - val_acc: 0.9716\n",
            "Epoch 23/100\n",
            "1313/1313 [==============================] - 3s 2ms/step - loss: 0.0094 - acc: 0.9971 - val_loss: 0.1920 - val_acc: 0.9669\n",
            "Epoch 24/100\n",
            "1313/1313 [==============================] - 3s 2ms/step - loss: 0.0123 - acc: 0.9957 - val_loss: 0.1730 - val_acc: 0.9722\n",
            "Epoch 25/100\n",
            "1313/1313 [==============================] - 3s 2ms/step - loss: 0.0089 - acc: 0.9970 - val_loss: 0.1997 - val_acc: 0.9665\n",
            "Epoch 26/100\n",
            "1313/1313 [==============================] - 3s 2ms/step - loss: 0.0099 - acc: 0.9966 - val_loss: 0.1940 - val_acc: 0.9708\n",
            "Epoch 27/100\n",
            "1313/1313 [==============================] - 3s 2ms/step - loss: 0.0074 - acc: 0.9977 - val_loss: 0.1986 - val_acc: 0.9701\n",
            "Epoch 28/100\n",
            "1313/1313 [==============================] - 3s 2ms/step - loss: 0.0108 - acc: 0.9967 - val_loss: 0.1912 - val_acc: 0.9726\n",
            "Epoch 29/100\n",
            "1313/1313 [==============================] - 3s 2ms/step - loss: 0.0083 - acc: 0.9971 - val_loss: 0.1992 - val_acc: 0.9704\n",
            "Epoch 30/100\n",
            "1313/1313 [==============================] - 3s 2ms/step - loss: 0.0084 - acc: 0.9973 - val_loss: 0.1850 - val_acc: 0.9721\n",
            "Epoch 31/100\n",
            "1313/1313 [==============================] - 3s 2ms/step - loss: 0.0075 - acc: 0.9975 - val_loss: 0.2039 - val_acc: 0.9711\n",
            "Epoch 32/100\n",
            "1313/1313 [==============================] - 3s 2ms/step - loss: 0.0099 - acc: 0.9964 - val_loss: 0.2099 - val_acc: 0.9726\n",
            "Epoch 33/100\n",
            "1313/1313 [==============================] - 3s 2ms/step - loss: 0.0072 - acc: 0.9980 - val_loss: 0.2357 - val_acc: 0.9686\n",
            "Epoch 34/100\n",
            "1313/1313 [==============================] - 3s 2ms/step - loss: 0.0079 - acc: 0.9975 - val_loss: 0.2022 - val_acc: 0.9732\n",
            "Epoch 35/100\n",
            "1313/1313 [==============================] - 3s 2ms/step - loss: 0.0074 - acc: 0.9975 - val_loss: 0.2391 - val_acc: 0.9691\n",
            "Epoch 36/100\n",
            "1313/1313 [==============================] - 3s 2ms/step - loss: 0.0074 - acc: 0.9976 - val_loss: 0.2303 - val_acc: 0.9708\n",
            "Epoch 37/100\n",
            "1313/1313 [==============================] - 3s 2ms/step - loss: 0.0084 - acc: 0.9974 - val_loss: 0.2128 - val_acc: 0.9713\n",
            "Epoch 38/100\n",
            "1313/1313 [==============================] - 3s 2ms/step - loss: 0.0072 - acc: 0.9974 - val_loss: 0.2187 - val_acc: 0.9726\n",
            "Epoch 39/100\n",
            "1313/1313 [==============================] - 3s 2ms/step - loss: 0.0077 - acc: 0.9976 - val_loss: 0.2200 - val_acc: 0.9721\n",
            "Epoch 40/100\n",
            "1313/1313 [==============================] - 3s 2ms/step - loss: 0.0055 - acc: 0.9980 - val_loss: 0.2241 - val_acc: 0.9731\n",
            "Epoch 41/100\n",
            "1313/1313 [==============================] - 3s 2ms/step - loss: 0.0102 - acc: 0.9972 - val_loss: 0.2214 - val_acc: 0.9731\n",
            "Epoch 42/100\n",
            "1313/1313 [==============================] - 3s 2ms/step - loss: 0.0066 - acc: 0.9980 - val_loss: 0.2270 - val_acc: 0.9726\n",
            "Epoch 43/100\n",
            "1313/1313 [==============================] - 3s 2ms/step - loss: 0.0083 - acc: 0.9970 - val_loss: 0.2555 - val_acc: 0.9716\n",
            "Epoch 44/100\n",
            "1313/1313 [==============================] - 3s 2ms/step - loss: 0.0057 - acc: 0.9980 - val_loss: 0.2572 - val_acc: 0.9712\n",
            "Epoch 45/100\n",
            "1313/1313 [==============================] - 3s 2ms/step - loss: 0.0068 - acc: 0.9981 - val_loss: 0.3241 - val_acc: 0.9631\n",
            "Epoch 46/100\n",
            "1313/1313 [==============================] - 3s 2ms/step - loss: 0.0068 - acc: 0.9978 - val_loss: 0.2566 - val_acc: 0.9724\n",
            "Epoch 47/100\n",
            "1313/1313 [==============================] - 3s 2ms/step - loss: 0.0070 - acc: 0.9980 - val_loss: 0.2455 - val_acc: 0.9727\n",
            "Epoch 48/100\n",
            "1313/1313 [==============================] - 3s 2ms/step - loss: 0.0067 - acc: 0.9981 - val_loss: 0.2435 - val_acc: 0.9723\n",
            "Epoch 49/100\n",
            "1313/1313 [==============================] - 3s 2ms/step - loss: 0.0065 - acc: 0.9980 - val_loss: 0.2531 - val_acc: 0.9723\n",
            "Epoch 50/100\n",
            "1313/1313 [==============================] - 3s 2ms/step - loss: 0.0082 - acc: 0.9978 - val_loss: 0.2436 - val_acc: 0.9728\n",
            "Epoch 51/100\n",
            "1313/1313 [==============================] - 3s 2ms/step - loss: 0.0085 - acc: 0.9975 - val_loss: 0.2572 - val_acc: 0.9726\n",
            "Epoch 52/100\n",
            "1313/1313 [==============================] - 3s 2ms/step - loss: 0.0057 - acc: 0.9981 - val_loss: 0.2747 - val_acc: 0.9721\n",
            "Epoch 53/100\n",
            "1313/1313 [==============================] - 3s 2ms/step - loss: 0.0073 - acc: 0.9979 - val_loss: 0.2756 - val_acc: 0.9716\n",
            "Epoch 54/100\n",
            "1313/1313 [==============================] - 3s 2ms/step - loss: 0.0066 - acc: 0.9983 - val_loss: 0.2424 - val_acc: 0.9731\n",
            "Epoch 55/100\n",
            "1313/1313 [==============================] - 3s 2ms/step - loss: 0.0096 - acc: 0.9972 - val_loss: 0.2768 - val_acc: 0.9707\n",
            "Epoch 56/100\n",
            "1313/1313 [==============================] - 3s 2ms/step - loss: 0.0037 - acc: 0.9988 - val_loss: 0.2522 - val_acc: 0.9737\n",
            "Epoch 57/100\n",
            "1313/1313 [==============================] - 3s 2ms/step - loss: 0.0039 - acc: 0.9989 - val_loss: 0.2673 - val_acc: 0.9725\n",
            "Epoch 58/100\n",
            "1313/1313 [==============================] - 3s 2ms/step - loss: 0.0080 - acc: 0.9976 - val_loss: 0.2731 - val_acc: 0.9726\n",
            "Epoch 59/100\n",
            "1313/1313 [==============================] - 3s 2ms/step - loss: 0.0044 - acc: 0.9986 - val_loss: 0.2935 - val_acc: 0.9709\n",
            "Epoch 60/100\n",
            "1313/1313 [==============================] - 3s 2ms/step - loss: 0.0080 - acc: 0.9978 - val_loss: 0.2990 - val_acc: 0.9713\n",
            "Epoch 61/100\n",
            "1313/1313 [==============================] - 3s 2ms/step - loss: 0.0048 - acc: 0.9985 - val_loss: 0.2613 - val_acc: 0.9733\n",
            "Epoch 62/100\n",
            "1313/1313 [==============================] - 3s 2ms/step - loss: 0.0023 - acc: 0.9994 - val_loss: 0.2803 - val_acc: 0.9731\n",
            "Epoch 63/100\n",
            "1313/1313 [==============================] - 3s 2ms/step - loss: 0.0088 - acc: 0.9980 - val_loss: 0.2856 - val_acc: 0.9723\n",
            "Epoch 64/100\n",
            "1313/1313 [==============================] - 3s 2ms/step - loss: 0.0053 - acc: 0.9985 - val_loss: 0.2800 - val_acc: 0.9726\n",
            "Epoch 65/100\n",
            "1313/1313 [==============================] - 3s 2ms/step - loss: 0.0063 - acc: 0.9982 - val_loss: 0.2726 - val_acc: 0.9738\n",
            "Epoch 66/100\n",
            "1313/1313 [==============================] - 3s 2ms/step - loss: 0.0078 - acc: 0.9981 - val_loss: 0.2900 - val_acc: 0.9733\n",
            "Epoch 67/100\n",
            "1313/1313 [==============================] - 3s 2ms/step - loss: 0.0035 - acc: 0.9989 - val_loss: 0.3258 - val_acc: 0.9719\n",
            "Epoch 68/100\n",
            "1313/1313 [==============================] - 3s 2ms/step - loss: 0.0087 - acc: 0.9979 - val_loss: 0.2861 - val_acc: 0.9734\n",
            "Epoch 69/100\n",
            "1313/1313 [==============================] - 3s 2ms/step - loss: 0.0012 - acc: 0.9997 - val_loss: 0.2789 - val_acc: 0.9742\n",
            "Epoch 70/100\n",
            "1313/1313 [==============================] - 3s 2ms/step - loss: 0.0090 - acc: 0.9980 - val_loss: 0.2917 - val_acc: 0.9733\n",
            "Epoch 71/100\n",
            "1313/1313 [==============================] - 3s 2ms/step - loss: 0.0062 - acc: 0.9983 - val_loss: 0.3325 - val_acc: 0.9694\n",
            "Epoch 72/100\n",
            "1313/1313 [==============================] - 3s 2ms/step - loss: 0.0066 - acc: 0.9985 - val_loss: 0.3154 - val_acc: 0.9726\n",
            "Epoch 73/100\n",
            "1313/1313 [==============================] - 3s 2ms/step - loss: 0.0065 - acc: 0.9980 - val_loss: 0.3078 - val_acc: 0.9713\n",
            "Epoch 74/100\n",
            "1313/1313 [==============================] - 3s 2ms/step - loss: 0.0058 - acc: 0.9986 - val_loss: 0.3226 - val_acc: 0.9722\n",
            "Epoch 75/100\n",
            "1313/1313 [==============================] - 3s 2ms/step - loss: 0.0039 - acc: 0.9989 - val_loss: 0.2946 - val_acc: 0.9744\n",
            "Epoch 76/100\n",
            "1313/1313 [==============================] - 3s 2ms/step - loss: 0.0052 - acc: 0.9984 - val_loss: 0.3231 - val_acc: 0.9708\n",
            "Epoch 77/100\n",
            "1313/1313 [==============================] - 3s 2ms/step - loss: 0.0075 - acc: 0.9980 - val_loss: 0.3024 - val_acc: 0.9740\n",
            "Epoch 78/100\n",
            "1313/1313 [==============================] - 3s 2ms/step - loss: 0.0046 - acc: 0.9985 - val_loss: 0.3271 - val_acc: 0.9716\n",
            "Epoch 79/100\n",
            "1313/1313 [==============================] - 3s 2ms/step - loss: 0.0058 - acc: 0.9983 - val_loss: 0.3252 - val_acc: 0.9716\n",
            "Epoch 80/100\n",
            "1313/1313 [==============================] - 3s 2ms/step - loss: 0.0049 - acc: 0.9988 - val_loss: 0.3279 - val_acc: 0.9737\n",
            "Epoch 81/100\n",
            "1313/1313 [==============================] - 3s 2ms/step - loss: 0.0082 - acc: 0.9977 - val_loss: 0.3215 - val_acc: 0.9727\n",
            "Epoch 82/100\n",
            "1313/1313 [==============================] - 3s 2ms/step - loss: 0.0053 - acc: 0.9986 - val_loss: 0.3757 - val_acc: 0.9692\n",
            "Epoch 83/100\n",
            "1313/1313 [==============================] - 3s 2ms/step - loss: 0.0038 - acc: 0.9991 - val_loss: 0.3351 - val_acc: 0.9716\n",
            "Epoch 84/100\n",
            "1313/1313 [==============================] - 3s 2ms/step - loss: 0.0031 - acc: 0.9992 - val_loss: 0.3545 - val_acc: 0.9701\n",
            "Epoch 85/100\n",
            "1313/1313 [==============================] - 3s 2ms/step - loss: 0.0097 - acc: 0.9977 - val_loss: 0.3818 - val_acc: 0.9710\n",
            "Epoch 86/100\n",
            "1313/1313 [==============================] - 3s 2ms/step - loss: 0.0023 - acc: 0.9991 - val_loss: 0.3153 - val_acc: 0.9737\n",
            "Epoch 87/100\n",
            "1313/1313 [==============================] - 3s 2ms/step - loss: 0.0043 - acc: 0.9986 - val_loss: 0.3771 - val_acc: 0.9733\n",
            "Epoch 88/100\n",
            "1313/1313 [==============================] - 3s 2ms/step - loss: 0.0053 - acc: 0.9985 - val_loss: 0.3434 - val_acc: 0.9737\n",
            "Epoch 89/100\n",
            "1313/1313 [==============================] - 3s 2ms/step - loss: 0.0055 - acc: 0.9985 - val_loss: 0.3269 - val_acc: 0.9743\n",
            "Epoch 90/100\n",
            "1313/1313 [==============================] - 3s 2ms/step - loss: 0.0047 - acc: 0.9987 - val_loss: 0.3496 - val_acc: 0.9747\n",
            "Epoch 91/100\n",
            "1313/1313 [==============================] - 3s 2ms/step - loss: 0.0055 - acc: 0.9987 - val_loss: 0.3523 - val_acc: 0.9734\n",
            "Epoch 92/100\n",
            "1313/1313 [==============================] - 3s 2ms/step - loss: 0.0066 - acc: 0.9982 - val_loss: 0.3585 - val_acc: 0.9725\n",
            "Epoch 93/100\n",
            "1313/1313 [==============================] - 3s 2ms/step - loss: 0.0045 - acc: 0.9988 - val_loss: 0.3749 - val_acc: 0.9721\n",
            "Epoch 94/100\n",
            "1313/1313 [==============================] - 3s 2ms/step - loss: 0.0032 - acc: 0.9991 - val_loss: 0.3775 - val_acc: 0.9731\n",
            "Epoch 95/100\n",
            "1313/1313 [==============================] - 3s 2ms/step - loss: 0.0058 - acc: 0.9984 - val_loss: 0.3776 - val_acc: 0.9718\n",
            "Epoch 96/100\n",
            "1313/1313 [==============================] - 3s 2ms/step - loss: 0.0055 - acc: 0.9987 - val_loss: 0.3689 - val_acc: 0.9732\n",
            "Epoch 97/100\n",
            "1313/1313 [==============================] - 3s 2ms/step - loss: 0.0051 - acc: 0.9987 - val_loss: 0.3675 - val_acc: 0.9739\n",
            "Epoch 98/100\n",
            "1313/1313 [==============================] - 3s 2ms/step - loss: 0.0061 - acc: 0.9986 - val_loss: 0.4086 - val_acc: 0.9707\n",
            "Epoch 99/100\n",
            "1313/1313 [==============================] - 3s 2ms/step - loss: 0.0072 - acc: 0.9983 - val_loss: 0.3812 - val_acc: 0.9724\n",
            "Epoch 100/100\n",
            "1313/1313 [==============================] - 3s 2ms/step - loss: 0.0038 - acc: 0.9991 - val_loss: 0.3577 - val_acc: 0.9736\n"
          ],
          "name": "stdout"
        }
      ]
    },
    {
      "cell_type": "markdown",
      "metadata": {
        "id": "A9W-MmBNKqyI"
      },
      "source": [
        "# Evaluation"
      ]
    },
    {
      "cell_type": "code",
      "metadata": {
        "colab": {
          "base_uri": "https://localhost:8080/"
        },
        "id": "H9QYcEYRK-Oy",
        "outputId": "1a12e703-f269-4a5f-bc7a-41a34f22c0c1"
      },
      "source": [
        "hist.history.keys()"
      ],
      "execution_count": 46,
      "outputs": [
        {
          "output_type": "execute_result",
          "data": {
            "text/plain": [
              "dict_keys(['loss', 'acc', 'val_loss', 'val_acc'])"
            ]
          },
          "metadata": {
            "tags": []
          },
          "execution_count": 46
        }
      ]
    },
    {
      "cell_type": "code",
      "metadata": {
        "colab": {
          "base_uri": "https://localhost:8080/",
          "height": 265
        },
        "id": "U1gxiOtD_XjD",
        "outputId": "3807c331-2b11-462c-9915-1db7e1905b48"
      },
      "source": [
        "import matplotlib.pyplot as plt\n",
        "\n",
        "plt.plot(hist.history['loss'])\n",
        "plt.plot(hist.history['val_loss'], 'b-')\n",
        "plt.show()"
      ],
      "execution_count": 47,
      "outputs": [
        {
          "output_type": "display_data",
          "data": {
            "image/png": "[encoded data removed]",
            "text/plain": [
              "<Figure size 432x288 with 1 Axes>"
            ]
          },
          "metadata": {
            "tags": [],
            "needs_background": "light"
          }
        }
      ]
    },
    {
      "cell_type": "code",
      "metadata": {
        "colab": {
          "base_uri": "https://localhost:8080/",
          "height": 265
        },
        "id": "E5izhgITLbLO",
        "outputId": "e651246e-0e06-4fa6-d085-f523aee75cf4"
      },
      "source": [
        "plt.plot(hist.history['acc'])\n",
        "plt.plot(hist.history['val_acc'], 'r-')\n",
        "plt.show()\n",
        "\n",
        "# accuracy 변화 체크, 가로는 epochs"
      ],
      "execution_count": 48,
      "outputs": [
        {
          "output_type": "display_data",
          "data": {
            "image/png": "[encoded data removed]",
            "text/plain": [
              "<Figure size 432x288 with 1 Axes>"
            ]
          },
          "metadata": {
            "tags": [],
            "needs_background": "light"
          }
        }
      ]
    },
    {
      "cell_type": "markdown",
      "metadata": {
        "id": "_KJqtus_Mlkm"
      },
      "source": [
        "# Service"
      ]
    },
    {
      "cell_type": "code",
      "metadata": {
        "colab": {
          "base_uri": "https://localhost:8080/"
        },
        "id": "QVi74E3pMVOL",
        "outputId": "8e4d8022-7442-4069-f03b-d09e59a846b3"
      },
      "source": [
        "y_test[30]"
      ],
      "execution_count": 49,
      "outputs": [
        {
          "output_type": "execute_result",
          "data": {
            "text/plain": [
              "3"
            ]
          },
          "metadata": {
            "tags": []
          },
          "execution_count": 49
        }
      ]
    },
    {
      "cell_type": "code",
      "metadata": {
        "id": "_ymhac0wMs-0",
        "colab": {
          "base_uri": "https://localhost:8080/"
        },
        "outputId": "3bfb72c7-2af2-402d-917b-38d6d9658940"
      },
      "source": [
        "pred = model.predict(x_test[30:31])\n",
        "pred\n",
        "\n",
        "# 30번째에 있는 것으로 테스트를 한다"
      ],
      "execution_count": 50,
      "outputs": [
        {
          "output_type": "execute_result",
          "data": {
            "text/plain": [
              "array([[0.0000000e+00, 0.0000000e+00, 0.0000000e+00, 1.0000000e+00,\n",
              "        0.0000000e+00, 1.4933514e-32, 0.0000000e+00, 3.5427437e-35,\n",
              "        0.0000000e+00, 8.0455234e-33]], dtype=float32)"
            ]
          },
          "metadata": {
            "tags": []
          },
          "execution_count": 50
        }
      ]
    },
    {
      "cell_type": "code",
      "metadata": {
        "id": "rXwfm43mM5yX"
      },
      "source": [
        "import numpy as np\n",
        "# np.set_printoptions(precision = 8) # 생략하지 않고 array 출력"
      ],
      "execution_count": 51,
      "outputs": []
    },
    {
      "cell_type": "code",
      "metadata": {
        "colab": {
          "base_uri": "https://localhost:8080/"
        },
        "id": "R4Llm54pnmXc",
        "outputId": "dcda4334-b895-456e-f74a-b6df3f9f53f3"
      },
      "source": [
        "np.argmax(pred, axis=1)"
      ],
      "execution_count": 52,
      "outputs": [
        {
          "output_type": "execute_result",
          "data": {
            "text/plain": [
              "array([3])"
            ]
          },
          "metadata": {
            "tags": []
          },
          "execution_count": 52
        }
      ]
    },
    {
      "cell_type": "code",
      "metadata": {
        "colab": {
          "base_uri": "https://localhost:8080/"
        },
        "id": "pxT0tKoAn4On",
        "outputId": "53d37279-800d-4a31-f5c5-b1c630bacb63"
      },
      "source": [
        "y_test[30]"
      ],
      "execution_count": 53,
      "outputs": [
        {
          "output_type": "execute_result",
          "data": {
            "text/plain": [
              "3"
            ]
          },
          "metadata": {
            "tags": []
          },
          "execution_count": 53
        }
      ]
    },
    {
      "cell_type": "code",
      "metadata": {
        "colab": {
          "base_uri": "https://localhost:8080/"
        },
        "id": "y9D5WsoQoHX_",
        "outputId": "38fa3023-5c08-42ce-bc6b-f0ffd313e002"
      },
      "source": [
        "model.save('./model_save')"
      ],
      "execution_count": 56,
      "outputs": [
        {
          "output_type": "stream",
          "text": [
            "INFO:tensorflow:Assets written to: ./model_save/assets\n"
          ],
          "name": "stdout"
        }
      ]
    },
    {
      "cell_type": "code",
      "metadata": {
        "id": "lS6Fu2_m6EET"
      },
      "source": [
        "model.save('./model_save01.h5')"
      ],
      "execution_count": 57,
      "outputs": []
    },
    {
      "cell_type": "code",
      "metadata": {
        "colab": {
          "base_uri": "https://localhost:8080/"
        },
        "id": "HaEjzp7H7E_0",
        "outputId": "209fecd3-3124-4058-edb5-2f01d9d737a9"
      },
      "source": [
        "# pickle로 세이브한 모델로 다시 교육 후 예측\n",
        "\n",
        "model_load = tf.keras.models.load_model('./model_save01.h5')\n",
        "model_load"
      ],
      "execution_count": 59,
      "outputs": [
        {
          "output_type": "execute_result",
          "data": {
            "text/plain": [
              "<tensorflow.python.keras.engine.sequential.Sequential at 0x7f0039ea2dd0>"
            ]
          },
          "metadata": {
            "tags": []
          },
          "execution_count": 59
        }
      ]
    },
    {
      "cell_type": "code",
      "metadata": {
        "colab": {
          "base_uri": "https://localhost:8080/"
        },
        "id": "IZ2H1ILI81D2",
        "outputId": "5504b2ec-0cdc-4627-dee5-df1484965739"
      },
      "source": [
        "load_pred = model_load.predict(x_test[30:31])\n",
        "load_pred, np.argmax(load_pred)"
      ],
      "execution_count": 60,
      "outputs": [
        {
          "output_type": "execute_result",
          "data": {
            "text/plain": [
              "(array([[0.0000000e+00, 0.0000000e+00, 0.0000000e+00, 1.0000000e+00,\n",
              "         0.0000000e+00, 1.4933514e-32, 0.0000000e+00, 3.5427437e-35,\n",
              "         0.0000000e+00, 8.0455234e-33]], dtype=float32), 3)"
            ]
          },
          "metadata": {
            "tags": []
          },
          "execution_count": 60
        }
      ]
    },
    {
      "cell_type": "code",
      "metadata": {
        "id": "TeNG1xyY8hla"
      },
      "source": [
        ""
      ],
      "execution_count": null,
      "outputs": []
    },
    {
      "cell_type": "markdown",
      "metadata": {
        "id": "qjl7TSefngPW"
      },
      "source": [
        "### argmax 연습"
      ]
    },
    {
      "cell_type": "code",
      "metadata": {
        "colab": {
          "base_uri": "https://localhost:8080/"
        },
        "id": "w2DxT-3xkSYk",
        "outputId": "f1772c47-87ea-4b06-ffaf-81cf261dc991"
      },
      "source": [
        "a = np.arange(6).reshape(2,3) + 10\n",
        "print(a)\n",
        "\n",
        "np.argmax(a) # 열 축에서 가장 큰 인덱스 값을 반환 (default)"
      ],
      "execution_count": 54,
      "outputs": [
        {
          "output_type": "stream",
          "text": [
            "[[10 11 12]\n",
            " [13 14 15]]\n"
          ],
          "name": "stdout"
        },
        {
          "output_type": "execute_result",
          "data": {
            "text/plain": [
              "5"
            ]
          },
          "metadata": {
            "tags": []
          },
          "execution_count": 54
        }
      ]
    },
    {
      "cell_type": "code",
      "metadata": {
        "colab": {
          "base_uri": "https://localhost:8080/"
        },
        "id": "gCTL_DTyltVr",
        "outputId": "f7c4c247-aa65-4557-de50-1fbdb13d766c"
      },
      "source": [
        "np.argmax(a, axis=1) # 행 축에서 가장 큰 인덱스 값을 반환"
      ],
      "execution_count": 55,
      "outputs": [
        {
          "output_type": "execute_result",
          "data": {
            "text/plain": [
              "array([2, 2])"
            ]
          },
          "metadata": {
            "tags": []
          },
          "execution_count": 55
        }
      ]
    }
  ]
}