{
  "nbformat": 4,
  "nbformat_minor": 0,
  "metadata": {
    "colab": {
      "name": "iris_classification.ipynb",
      "provenance": [],
      "collapsed_sections": [],
      "authorship_tag": "ABX9TyN7WDk30s/MOg4qD2dmo6ou"
    },
    "kernelspec": {
      "name": "python3",
      "display_name": "Python 3"
    },
    "language_info": {
      "name": "python"
    }
  },
  "cells": [
    {
      "cell_type": "code",
      "metadata": {
        "id": "TbxZTYSb-0SW"
      },
      "source": [
        "from sklearn import datasets\n",
        "import pandas as pd"
      ],
      "execution_count": 1,
      "outputs": []
    },
    {
      "cell_type": "code",
      "metadata": {
        "colab": {
          "base_uri": "https://localhost:8080/"
        },
        "id": "jpGZQoBP_qYt",
        "outputId": "327354d1-d453-4b8b-e773-63afd6057a42"
      },
      "source": [
        "iris = datasets.load_iris()\n",
        "df_iris = pd.DataFrame(iris.data)\n",
        "df_iris.info()"
      ],
      "execution_count": 2,
      "outputs": [
        {
          "output_type": "stream",
          "text": [
            "<class 'pandas.core.frame.DataFrame'>\n",
            "RangeIndex: 150 entries, 0 to 149\n",
            "Data columns (total 4 columns):\n",
            " #   Column  Non-Null Count  Dtype  \n",
            "---  ------  --------------  -----  \n",
            " 0   0       150 non-null    float64\n",
            " 1   1       150 non-null    float64\n",
            " 2   2       150 non-null    float64\n",
            " 3   3       150 non-null    float64\n",
            "dtypes: float64(4)\n",
            "memory usage: 4.8 KB\n"
          ],
          "name": "stdout"
        }
      ]
    },
    {
      "cell_type": "code",
      "metadata": {
        "id": "P-V8dYWrAa_y"
      },
      "source": [
        "import sqlite3\n",
        "connect = sqlite3.connect('./db.sqlite3') # 파일이 생성됐는지 확인\n",
        "df_iris.to_sql('iris_resource', connect,if_exists= 'append', index= False)"
      ],
      "execution_count": 3,
      "outputs": []
    },
    {
      "cell_type": "code",
      "metadata": {
        "colab": {
          "base_uri": "https://localhost:8080/",
          "height": 172
        },
        "id": "FiQKA59WCunY",
        "outputId": "016a5f85-e6b6-43a2-c856-fde315133ada"
      },
      "source": [
        "df_load = pd.read_sql_query('select * from iris_resource', connect)\n",
        "df_load.head(4)"
      ],
      "execution_count": 4,
      "outputs": [
        {
          "output_type": "execute_result",
          "data": {
            "text/html": [
              "<div>\n",
              "<style scoped>\n",
              "    .dataframe tbody tr th:only-of-type {\n",
              "        vertical-align: middle;\n",
              "    }\n",
              "\n",
              "    .dataframe tbody tr th {\n",
              "        vertical-align: top;\n",
              "    }\n",
              "\n",
              "    .dataframe thead th {\n",
              "        text-align: right;\n",
              "    }\n",
              "</style>\n",
              "<table border=\"1\" class=\"dataframe\">\n",
              "  <thead>\n",
              "    <tr style=\"text-align: right;\">\n",
              "      <th></th>\n",
              "      <th>0</th>\n",
              "      <th>1</th>\n",
              "      <th>2</th>\n",
              "      <th>3</th>\n",
              "    </tr>\n",
              "  </thead>\n",
              "  <tbody>\n",
              "    <tr>\n",
              "      <th>0</th>\n",
              "      <td>5.1</td>\n",
              "      <td>3.5</td>\n",
              "      <td>1.4</td>\n",
              "      <td>0.2</td>\n",
              "    </tr>\n",
              "    <tr>\n",
              "      <th>1</th>\n",
              "      <td>4.9</td>\n",
              "      <td>3.0</td>\n",
              "      <td>1.4</td>\n",
              "      <td>0.2</td>\n",
              "    </tr>\n",
              "    <tr>\n",
              "      <th>2</th>\n",
              "      <td>4.7</td>\n",
              "      <td>3.2</td>\n",
              "      <td>1.3</td>\n",
              "      <td>0.2</td>\n",
              "    </tr>\n",
              "    <tr>\n",
              "      <th>3</th>\n",
              "      <td>4.6</td>\n",
              "      <td>3.1</td>\n",
              "      <td>1.5</td>\n",
              "      <td>0.2</td>\n",
              "    </tr>\n",
              "  </tbody>\n",
              "</table>\n",
              "</div>"
            ],
            "text/plain": [
              "     0    1    2    3\n",
              "0  5.1  3.5  1.4  0.2\n",
              "1  4.9  3.0  1.4  0.2\n",
              "2  4.7  3.2  1.3  0.2\n",
              "3  4.6  3.1  1.5  0.2"
            ]
          },
          "metadata": {
            "tags": []
          },
          "execution_count": 4
        }
      ]
    },
    {
      "cell_type": "code",
      "metadata": {
        "colab": {
          "base_uri": "https://localhost:8080/"
        },
        "id": "aI1i89wVDDQk",
        "outputId": "d985b2fa-5467-4820-ead1-3e1e8d723395"
      },
      "source": [
        "x_data = df_load.to_numpy()\n",
        "x_data.shape"
      ],
      "execution_count": 5,
      "outputs": [
        {
          "output_type": "execute_result",
          "data": {
            "text/plain": [
              "(150, 4)"
            ]
          },
          "metadata": {
            "tags": []
          },
          "execution_count": 5
        }
      ]
    },
    {
      "cell_type": "code",
      "metadata": {
        "colab": {
          "base_uri": "https://localhost:8080/"
        },
        "id": "kpdPVx9GDotu",
        "outputId": "e6d66f4e-0732-4cca-eacb-5023a4d367fb"
      },
      "source": [
        "import numpy as np\n",
        "\n",
        "y_data= iris.target\n",
        "y_data, np.unique(y_data)\n",
        "\n",
        "# unique한 값 3개 -> output으로 의견을 내야하는 값 (dense 수)"
      ],
      "execution_count": 6,
      "outputs": [
        {
          "output_type": "execute_result",
          "data": {
            "text/plain": [
              "(array([0, 0, 0, 0, 0, 0, 0, 0, 0, 0, 0, 0, 0, 0, 0, 0, 0, 0, 0, 0, 0, 0,\n",
              "        0, 0, 0, 0, 0, 0, 0, 0, 0, 0, 0, 0, 0, 0, 0, 0, 0, 0, 0, 0, 0, 0,\n",
              "        0, 0, 0, 0, 0, 0, 1, 1, 1, 1, 1, 1, 1, 1, 1, 1, 1, 1, 1, 1, 1, 1,\n",
              "        1, 1, 1, 1, 1, 1, 1, 1, 1, 1, 1, 1, 1, 1, 1, 1, 1, 1, 1, 1, 1, 1,\n",
              "        1, 1, 1, 1, 1, 1, 1, 1, 1, 1, 1, 1, 2, 2, 2, 2, 2, 2, 2, 2, 2, 2,\n",
              "        2, 2, 2, 2, 2, 2, 2, 2, 2, 2, 2, 2, 2, 2, 2, 2, 2, 2, 2, 2, 2, 2,\n",
              "        2, 2, 2, 2, 2, 2, 2, 2, 2, 2, 2, 2, 2, 2, 2, 2, 2, 2]),\n",
              " array([0, 1, 2]))"
            ]
          },
          "metadata": {
            "tags": []
          },
          "execution_count": 6
        }
      ]
    },
    {
      "cell_type": "code",
      "metadata": {
        "id": "5Xk1qQDvEGvI"
      },
      "source": [
        "import tensorflow as tf"
      ],
      "execution_count": 7,
      "outputs": []
    },
    {
      "cell_type": "code",
      "metadata": {
        "colab": {
          "base_uri": "https://localhost:8080/"
        },
        "id": "dK3VrcS4EMDS",
        "outputId": "214409de-32d2-4ac3-9807-7ff381f5c16e"
      },
      "source": [
        "model = tf.keras.Sequential()\n",
        "\n",
        "model.add(tf.keras.Input(shape=(4, ))) # input layer\n",
        "\n",
        "model.add(tf.keras.layers.Dense(64, activation= 'relu')) # hidden layer\n",
        "model.add(tf.keras.layers.Dense(34, activation= 'relu')) \n",
        "\n",
        "model.add(tf.keras.layers.Dense(3, activation= 'softmax')) # output layer\n",
        "\n",
        "\n",
        "model.compile(optimizer= 'adam', loss= 'sparse_categorical_crossentropy', metrics= ['acc']) # gadget"
      ],
      "execution_count": 8,
      "outputs": [
        {
          "output_type": "stream",
          "text": [
            "WARNING:tensorflow:Please add `keras.layers.InputLayer` instead of `keras.Input` to Sequential model. `keras.Input` is intended to be used by Functional model.\n"
          ],
          "name": "stdout"
        }
      ]
    },
    {
      "cell_type": "code",
      "metadata": {
        "colab": {
          "base_uri": "https://localhost:8080/"
        },
        "id": "1ehnQTC9YimK",
        "outputId": "e029b3cf-e56d-4b46-ad37-8599b4a07711"
      },
      "source": [
        "model.summary()"
      ],
      "execution_count": 9,
      "outputs": [
        {
          "output_type": "stream",
          "text": [
            "Model: \"sequential\"\n",
            "_________________________________________________________________\n",
            "Layer (type)                 Output Shape              Param #   \n",
            "=================================================================\n",
            "dense (Dense)                (None, 64)                320       \n",
            "_________________________________________________________________\n",
            "dense_1 (Dense)              (None, 34)                2210      \n",
            "_________________________________________________________________\n",
            "dense_2 (Dense)              (None, 3)                 105       \n",
            "=================================================================\n",
            "Total params: 2,635\n",
            "Trainable params: 2,635\n",
            "Non-trainable params: 0\n",
            "_________________________________________________________________\n"
          ],
          "name": "stdout"
        }
      ]
    },
    {
      "cell_type": "code",
      "metadata": {
        "colab": {
          "base_uri": "https://localhost:8080/"
        },
        "id": "PMueY1C9Ea7a",
        "outputId": "f6a84c4d-938a-4a42-801e-6d48c575963e"
      },
      "source": [
        "model.fit(x_data, y_data, epochs= 50, validation_split= 0.3) # 학습\n",
        "\n",
        "# 전체 양 중에서 0.3만큼 쪼개서 검증"
      ],
      "execution_count": 10,
      "outputs": [
        {
          "output_type": "stream",
          "text": [
            "Epoch 1/50\n",
            "4/4 [==============================] - 1s 76ms/step - loss: 1.0917 - acc: 0.4762 - val_loss: 2.9475 - val_acc: 0.0000e+00\n",
            "Epoch 2/50\n",
            "4/4 [==============================] - 0s 13ms/step - loss: 0.9333 - acc: 0.4762 - val_loss: 2.9509 - val_acc: 0.0000e+00\n",
            "Epoch 3/50\n",
            "4/4 [==============================] - 0s 11ms/step - loss: 0.8249 - acc: 0.4952 - val_loss: 3.0203 - val_acc: 0.0000e+00\n",
            "Epoch 4/50\n",
            "4/4 [==============================] - 0s 17ms/step - loss: 0.7368 - acc: 0.9143 - val_loss: 3.0877 - val_acc: 0.0000e+00\n",
            "Epoch 5/50\n",
            "4/4 [==============================] - 0s 11ms/step - loss: 0.6641 - acc: 0.9524 - val_loss: 3.1529 - val_acc: 0.0000e+00\n",
            "Epoch 6/50\n",
            "4/4 [==============================] - 0s 12ms/step - loss: 0.6039 - acc: 0.9524 - val_loss: 3.1797 - val_acc: 0.0000e+00\n",
            "Epoch 7/50\n",
            "4/4 [==============================] - 0s 12ms/step - loss: 0.5505 - acc: 0.9524 - val_loss: 3.1270 - val_acc: 0.0000e+00\n",
            "Epoch 8/50\n",
            "4/4 [==============================] - 0s 10ms/step - loss: 0.5031 - acc: 0.9524 - val_loss: 3.1277 - val_acc: 0.0000e+00\n",
            "Epoch 9/50\n",
            "4/4 [==============================] - 0s 10ms/step - loss: 0.4625 - acc: 0.9524 - val_loss: 3.1359 - val_acc: 0.0000e+00\n",
            "Epoch 10/50\n",
            "4/4 [==============================] - 0s 12ms/step - loss: 0.4270 - acc: 0.9524 - val_loss: 3.0706 - val_acc: 0.0000e+00\n",
            "Epoch 11/50\n",
            "4/4 [==============================] - 0s 11ms/step - loss: 0.3964 - acc: 0.9524 - val_loss: 2.9307 - val_acc: 0.0000e+00\n",
            "Epoch 12/50\n",
            "4/4 [==============================] - 0s 12ms/step - loss: 0.3669 - acc: 0.9524 - val_loss: 2.8867 - val_acc: 0.0000e+00\n",
            "Epoch 13/50\n",
            "4/4 [==============================] - 0s 11ms/step - loss: 0.3433 - acc: 0.9524 - val_loss: 2.8544 - val_acc: 0.0000e+00\n",
            "Epoch 14/50\n",
            "4/4 [==============================] - 0s 12ms/step - loss: 0.3225 - acc: 0.9524 - val_loss: 2.7194 - val_acc: 0.0000e+00\n",
            "Epoch 15/50\n",
            "4/4 [==============================] - 0s 13ms/step - loss: 0.3036 - acc: 0.9524 - val_loss: 2.6777 - val_acc: 0.0000e+00\n",
            "Epoch 16/50\n",
            "4/4 [==============================] - 0s 11ms/step - loss: 0.2850 - acc: 0.9524 - val_loss: 2.6596 - val_acc: 0.0000e+00\n",
            "Epoch 17/50\n",
            "4/4 [==============================] - 0s 11ms/step - loss: 0.2699 - acc: 0.9524 - val_loss: 2.5881 - val_acc: 0.0000e+00\n",
            "Epoch 18/50\n",
            "4/4 [==============================] - 0s 11ms/step - loss: 0.2557 - acc: 0.9524 - val_loss: 2.5586 - val_acc: 0.0000e+00\n",
            "Epoch 19/50\n",
            "4/4 [==============================] - 0s 12ms/step - loss: 0.2433 - acc: 0.9524 - val_loss: 2.5447 - val_acc: 0.0000e+00\n",
            "Epoch 20/50\n",
            "4/4 [==============================] - 0s 11ms/step - loss: 0.2319 - acc: 0.9524 - val_loss: 2.5437 - val_acc: 0.0000e+00\n",
            "Epoch 21/50\n",
            "4/4 [==============================] - 0s 13ms/step - loss: 0.2218 - acc: 0.9524 - val_loss: 2.5067 - val_acc: 0.0000e+00\n",
            "Epoch 22/50\n",
            "4/4 [==============================] - 0s 20ms/step - loss: 0.2129 - acc: 0.9524 - val_loss: 2.3256 - val_acc: 0.0000e+00\n",
            "Epoch 23/50\n",
            "4/4 [==============================] - 0s 13ms/step - loss: 0.2047 - acc: 0.9524 - val_loss: 2.2329 - val_acc: 0.0000e+00\n",
            "Epoch 24/50\n",
            "4/4 [==============================] - 0s 11ms/step - loss: 0.1983 - acc: 0.9524 - val_loss: 2.1120 - val_acc: 0.0000e+00\n",
            "Epoch 25/50\n",
            "4/4 [==============================] - 0s 11ms/step - loss: 0.1913 - acc: 0.9524 - val_loss: 2.0702 - val_acc: 0.0000e+00\n",
            "Epoch 26/50\n",
            "4/4 [==============================] - 0s 10ms/step - loss: 0.1853 - acc: 0.9524 - val_loss: 1.9802 - val_acc: 0.0000e+00\n",
            "Epoch 27/50\n",
            "4/4 [==============================] - 0s 10ms/step - loss: 0.1796 - acc: 0.9524 - val_loss: 1.8108 - val_acc: 0.0000e+00\n",
            "Epoch 28/50\n",
            "4/4 [==============================] - 0s 10ms/step - loss: 0.1777 - acc: 0.9524 - val_loss: 1.7117 - val_acc: 0.0000e+00\n",
            "Epoch 29/50\n",
            "4/4 [==============================] - 0s 10ms/step - loss: 0.1729 - acc: 0.9524 - val_loss: 1.7909 - val_acc: 0.0000e+00\n",
            "Epoch 30/50\n",
            "4/4 [==============================] - 0s 10ms/step - loss: 0.1666 - acc: 0.9524 - val_loss: 1.9314 - val_acc: 0.0000e+00\n",
            "Epoch 31/50\n",
            "4/4 [==============================] - 0s 11ms/step - loss: 0.1624 - acc: 0.9524 - val_loss: 2.0221 - val_acc: 0.0000e+00\n",
            "Epoch 32/50\n",
            "4/4 [==============================] - 0s 10ms/step - loss: 0.1596 - acc: 0.9524 - val_loss: 1.9796 - val_acc: 0.0000e+00\n",
            "Epoch 33/50\n",
            "4/4 [==============================] - 0s 11ms/step - loss: 0.1553 - acc: 0.9524 - val_loss: 1.9460 - val_acc: 0.0000e+00\n",
            "Epoch 34/50\n",
            "4/4 [==============================] - 0s 11ms/step - loss: 0.1523 - acc: 0.9524 - val_loss: 1.9363 - val_acc: 0.0000e+00\n",
            "Epoch 35/50\n",
            "4/4 [==============================] - 0s 11ms/step - loss: 0.1486 - acc: 0.9524 - val_loss: 1.8170 - val_acc: 0.0000e+00\n",
            "Epoch 36/50\n",
            "4/4 [==============================] - 0s 12ms/step - loss: 0.1470 - acc: 0.9524 - val_loss: 1.6911 - val_acc: 0.0000e+00\n",
            "Epoch 37/50\n",
            "4/4 [==============================] - 0s 12ms/step - loss: 0.1431 - acc: 0.9524 - val_loss: 1.7136 - val_acc: 0.0000e+00\n",
            "Epoch 38/50\n",
            "4/4 [==============================] - 0s 12ms/step - loss: 0.1402 - acc: 0.9524 - val_loss: 1.7305 - val_acc: 0.0000e+00\n",
            "Epoch 39/50\n",
            "4/4 [==============================] - 0s 13ms/step - loss: 0.1370 - acc: 0.9524 - val_loss: 1.7412 - val_acc: 0.0000e+00\n",
            "Epoch 40/50\n",
            "4/4 [==============================] - 0s 11ms/step - loss: 0.1345 - acc: 0.9524 - val_loss: 1.7751 - val_acc: 0.0000e+00\n",
            "Epoch 41/50\n",
            "4/4 [==============================] - 0s 11ms/step - loss: 0.1317 - acc: 0.9524 - val_loss: 1.7414 - val_acc: 0.0000e+00\n",
            "Epoch 42/50\n",
            "4/4 [==============================] - 0s 11ms/step - loss: 0.1293 - acc: 0.9524 - val_loss: 1.7166 - val_acc: 0.0000e+00\n",
            "Epoch 43/50\n",
            "4/4 [==============================] - 0s 12ms/step - loss: 0.1270 - acc: 0.9524 - val_loss: 1.7414 - val_acc: 0.0000e+00\n",
            "Epoch 44/50\n",
            "4/4 [==============================] - 0s 15ms/step - loss: 0.1249 - acc: 0.9524 - val_loss: 1.7084 - val_acc: 0.0000e+00\n",
            "Epoch 45/50\n",
            "4/4 [==============================] - 0s 11ms/step - loss: 0.1235 - acc: 0.9524 - val_loss: 1.6006 - val_acc: 0.0000e+00\n",
            "Epoch 46/50\n",
            "4/4 [==============================] - 0s 11ms/step - loss: 0.1208 - acc: 0.9524 - val_loss: 1.6734 - val_acc: 0.0000e+00\n",
            "Epoch 47/50\n",
            "4/4 [==============================] - 0s 11ms/step - loss: 0.1178 - acc: 0.9524 - val_loss: 1.6611 - val_acc: 0.0000e+00\n",
            "Epoch 48/50\n",
            "4/4 [==============================] - 0s 11ms/step - loss: 0.1167 - acc: 0.9524 - val_loss: 1.5100 - val_acc: 0.0000e+00\n",
            "Epoch 49/50\n",
            "4/4 [==============================] - 0s 13ms/step - loss: 0.1134 - acc: 0.9524 - val_loss: 1.4663 - val_acc: 0.0000e+00\n",
            "Epoch 50/50\n",
            "4/4 [==============================] - 0s 14ms/step - loss: 0.1107 - acc: 0.9524 - val_loss: 1.5202 - val_acc: 0.0000e+00\n"
          ],
          "name": "stdout"
        },
        {
          "output_type": "execute_result",
          "data": {
            "text/plain": [
              "<tensorflow.python.keras.callbacks.History at 0x7f8d01a41cd0>"
            ]
          },
          "metadata": {
            "tags": []
          },
          "execution_count": 10
        }
      ]
    },
    {
      "cell_type": "markdown",
      "metadata": {
        "id": "j9Awtl8GZ6VT"
      },
      "source": [
        "# Evaluation"
      ]
    },
    {
      "cell_type": "code",
      "metadata": {
        "colab": {
          "base_uri": "https://localhost:8080/"
        },
        "id": "PeZ-aRnOZYpw",
        "outputId": "86f0037e-ce71-479a-da87-ebbc76e1666f"
      },
      "source": [
        "model.evaluate(x_data, y_data)\n",
        "\n",
        "# 2개(loss, accuracy)의 편차"
      ],
      "execution_count": 11,
      "outputs": [
        {
          "output_type": "stream",
          "text": [
            "5/5 [==============================] - 0s 3ms/step - loss: 0.5324 - acc: 0.6667\n"
          ],
          "name": "stdout"
        },
        {
          "output_type": "execute_result",
          "data": {
            "text/plain": [
              "[0.5323885083198547, 0.6666666865348816]"
            ]
          },
          "metadata": {
            "tags": []
          },
          "execution_count": 11
        }
      ]
    },
    {
      "cell_type": "markdown",
      "metadata": {
        "id": "WJlPXSPpaZQ8"
      },
      "source": [
        "# Service"
      ]
    },
    {
      "cell_type": "code",
      "metadata": {
        "colab": {
          "base_uri": "https://localhost:8080/"
        },
        "id": "cDKHDnLJZ-x1",
        "outputId": "31c2eaea-e185-4dd9-e27d-084b9198bfbb"
      },
      "source": [
        "x_data[25], y_data[25]"
      ],
      "execution_count": 12,
      "outputs": [
        {
          "output_type": "execute_result",
          "data": {
            "text/plain": [
              "(array([5. , 3. , 1.6, 0.2]), 0)"
            ]
          },
          "metadata": {
            "tags": []
          },
          "execution_count": 12
        }
      ]
    },
    {
      "cell_type": "code",
      "metadata": {
        "colab": {
          "base_uri": "https://localhost:8080/"
        },
        "id": "FvQ5CBzWadNp",
        "outputId": "573c87ea-0311-4064-88b1-8458afc5a3b5"
      },
      "source": [
        "pred = model.predict([[5. , 3. , 1.6, 0.2]])\n",
        "pred\n",
        "\n",
        "# 25번째 데이터를 보니, 1번째 분류일 가능성은 0.3302766, 2번째 분류 0.33684278 ~~"
      ],
      "execution_count": 13,
      "outputs": [
        {
          "output_type": "execute_result",
          "data": {
            "text/plain": [
              "array([[0.97954273, 0.01821433, 0.00224291]], dtype=float32)"
            ]
          },
          "metadata": {
            "tags": []
          },
          "execution_count": 13
        }
      ]
    },
    {
      "cell_type": "code",
      "metadata": {
        "colab": {
          "base_uri": "https://localhost:8080/"
        },
        "id": "-_-JNRFAalex",
        "outputId": "016c270a-8b26-4264-bee6-fa3699c73ecc"
      },
      "source": [
        "import numpy as np\n",
        "\n",
        "np.argmax(pred)"
      ],
      "execution_count": 14,
      "outputs": [
        {
          "output_type": "execute_result",
          "data": {
            "text/plain": [
              "0"
            ]
          },
          "metadata": {
            "tags": []
          },
          "execution_count": 14
        }
      ]
    }
  ]
}