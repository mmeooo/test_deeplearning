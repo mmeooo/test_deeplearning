{
  "nbformat": 4,
  "nbformat_minor": 0,
  "metadata": {
    "colab": {
      "name": "iris_classification.ipynb",
      "provenance": [],
      "collapsed_sections": [],
      "authorship_tag": "ABX9TyM/mA64i3d7MQMtj5oucH73"
    },
    "kernelspec": {
      "name": "python3",
      "display_name": "Python 3"
    },
    "language_info": {
      "name": "python"
    }
  },
  "cells": [
    {
      "cell_type": "code",
      "metadata": {
        "id": "TbxZTYSb-0SW"
      },
      "source": [
        "from sklearn import datasets\n",
        "import pandas as pd"
      ],
      "execution_count": 4,
      "outputs": []
    },
    {
      "cell_type": "code",
      "metadata": {
        "colab": {
          "base_uri": "https://localhost:8080/"
        },
        "id": "jpGZQoBP_qYt",
        "outputId": "e70dc6d7-9ed5-4038-80d3-79e3b4803b1d"
      },
      "source": [
        "iris = datasets.load_iris()\n",
        "df_iris = pd.DataFrame(iris.data)\n",
        "df_iris.info()"
      ],
      "execution_count": 5,
      "outputs": [
        {
          "output_type": "stream",
          "text": [
            "<class 'pandas.core.frame.DataFrame'>\n",
            "RangeIndex: 150 entries, 0 to 149\n",
            "Data columns (total 4 columns):\n",
            " #   Column  Non-Null Count  Dtype  \n",
            "---  ------  --------------  -----  \n",
            " 0   0       150 non-null    float64\n",
            " 1   1       150 non-null    float64\n",
            " 2   2       150 non-null    float64\n",
            " 3   3       150 non-null    float64\n",
            "dtypes: float64(4)\n",
            "memory usage: 4.8 KB\n"
          ],
          "name": "stdout"
        }
      ]
    },
    {
      "cell_type": "code",
      "metadata": {
        "id": "P-V8dYWrAa_y"
      },
      "source": [
        "import sqlite3\n",
        "connect = sqlite3.connect('./db.sqlite3') # 파일이 생성됐는지 확인\n",
        "df_iris.to_sql('iris_resource', connect,if_exists= 'append', index= False)"
      ],
      "execution_count": 6,
      "outputs": []
    },
    {
      "cell_type": "code",
      "metadata": {
        "colab": {
          "base_uri": "https://localhost:8080/",
          "height": 172
        },
        "id": "FiQKA59WCunY",
        "outputId": "cec070b5-cd74-492e-ebc4-4ed0c5450538"
      },
      "source": [
        "df_load = pd.read_sql_query('select * from iris_resource', connect)\n",
        "df_load.head(4)"
      ],
      "execution_count": 7,
      "outputs": [
        {
          "output_type": "execute_result",
          "data": {
            "text/html": [
              "<div>\n",
              "<style scoped>\n",
              "    .dataframe tbody tr th:only-of-type {\n",
              "        vertical-align: middle;\n",
              "    }\n",
              "\n",
              "    .dataframe tbody tr th {\n",
              "        vertical-align: top;\n",
              "    }\n",
              "\n",
              "    .dataframe thead th {\n",
              "        text-align: right;\n",
              "    }\n",
              "</style>\n",
              "<table border=\"1\" class=\"dataframe\">\n",
              "  <thead>\n",
              "    <tr style=\"text-align: right;\">\n",
              "      <th></th>\n",
              "      <th>0</th>\n",
              "      <th>1</th>\n",
              "      <th>2</th>\n",
              "      <th>3</th>\n",
              "    </tr>\n",
              "  </thead>\n",
              "  <tbody>\n",
              "    <tr>\n",
              "      <th>0</th>\n",
              "      <td>5.1</td>\n",
              "      <td>3.5</td>\n",
              "      <td>1.4</td>\n",
              "      <td>0.2</td>\n",
              "    </tr>\n",
              "    <tr>\n",
              "      <th>1</th>\n",
              "      <td>4.9</td>\n",
              "      <td>3.0</td>\n",
              "      <td>1.4</td>\n",
              "      <td>0.2</td>\n",
              "    </tr>\n",
              "    <tr>\n",
              "      <th>2</th>\n",
              "      <td>4.7</td>\n",
              "      <td>3.2</td>\n",
              "      <td>1.3</td>\n",
              "      <td>0.2</td>\n",
              "    </tr>\n",
              "    <tr>\n",
              "      <th>3</th>\n",
              "      <td>4.6</td>\n",
              "      <td>3.1</td>\n",
              "      <td>1.5</td>\n",
              "      <td>0.2</td>\n",
              "    </tr>\n",
              "  </tbody>\n",
              "</table>\n",
              "</div>"
            ],
            "text/plain": [
              "     0    1    2    3\n",
              "0  5.1  3.5  1.4  0.2\n",
              "1  4.9  3.0  1.4  0.2\n",
              "2  4.7  3.2  1.3  0.2\n",
              "3  4.6  3.1  1.5  0.2"
            ]
          },
          "metadata": {
            "tags": []
          },
          "execution_count": 7
        }
      ]
    },
    {
      "cell_type": "code",
      "metadata": {
        "colab": {
          "base_uri": "https://localhost:8080/"
        },
        "id": "aI1i89wVDDQk",
        "outputId": "bfcbcb5f-1c1a-4342-a822-3d5eb05f9f2e"
      },
      "source": [
        "x_data = df_load.to_numpy()\n",
        "x_data.shape"
      ],
      "execution_count": 8,
      "outputs": [
        {
          "output_type": "execute_result",
          "data": {
            "text/plain": [
              "(150, 4)"
            ]
          },
          "metadata": {
            "tags": []
          },
          "execution_count": 8
        }
      ]
    },
    {
      "cell_type": "code",
      "metadata": {
        "colab": {
          "base_uri": "https://localhost:8080/"
        },
        "id": "kpdPVx9GDotu",
        "outputId": "22a3ecb1-c4df-4a6b-b68a-144853f574df"
      },
      "source": [
        "import numpy as np\n",
        "\n",
        "y_data= iris.target\n",
        "y_data, np.unique(y_data)\n",
        "\n",
        "# unique한 값 3개 -> output으로 의견을 내야하는 값 (dense 수)"
      ],
      "execution_count": 10,
      "outputs": [
        {
          "output_type": "execute_result",
          "data": {
            "text/plain": [
              "(array([0, 0, 0, 0, 0, 0, 0, 0, 0, 0, 0, 0, 0, 0, 0, 0, 0, 0, 0, 0, 0, 0,\n",
              "        0, 0, 0, 0, 0, 0, 0, 0, 0, 0, 0, 0, 0, 0, 0, 0, 0, 0, 0, 0, 0, 0,\n",
              "        0, 0, 0, 0, 0, 0, 1, 1, 1, 1, 1, 1, 1, 1, 1, 1, 1, 1, 1, 1, 1, 1,\n",
              "        1, 1, 1, 1, 1, 1, 1, 1, 1, 1, 1, 1, 1, 1, 1, 1, 1, 1, 1, 1, 1, 1,\n",
              "        1, 1, 1, 1, 1, 1, 1, 1, 1, 1, 1, 1, 2, 2, 2, 2, 2, 2, 2, 2, 2, 2,\n",
              "        2, 2, 2, 2, 2, 2, 2, 2, 2, 2, 2, 2, 2, 2, 2, 2, 2, 2, 2, 2, 2, 2,\n",
              "        2, 2, 2, 2, 2, 2, 2, 2, 2, 2, 2, 2, 2, 2, 2, 2, 2, 2]),\n",
              " array([0, 1, 2]))"
            ]
          },
          "metadata": {
            "tags": []
          },
          "execution_count": 10
        }
      ]
    },
    {
      "cell_type": "code",
      "metadata": {
        "id": "5Xk1qQDvEGvI"
      },
      "source": [
        "import tensorflow as tf"
      ],
      "execution_count": 11,
      "outputs": []
    },
    {
      "cell_type": "code",
      "metadata": {
        "colab": {
          "base_uri": "https://localhost:8080/"
        },
        "id": "dK3VrcS4EMDS",
        "outputId": "83db24ce-45bb-45c1-a6c7-905c1b612bc6"
      },
      "source": [
        "model = tf.keras.Sequential()\n",
        "\n",
        "model.add(tf.keras.Input(shape=(4, ))) # input layer\n",
        "\n",
        "model.add(tf.keras.layers.Dense(64, activation= 'relu')) # hidden layer\n",
        "model.add(tf.keras.layers.Dense(34, activation= 'relu')) \n",
        "\n",
        "model.add(tf.keras.layers.Dense(3, activation= 'softmax')) # output layer\n",
        "\n",
        "\n",
        "model.compile(optimizer= 'adam', loss= 'mse', metrics= ['acc']) # gadget"
      ],
      "execution_count": 16,
      "outputs": [
        {
          "output_type": "stream",
          "text": [
            "WARNING:tensorflow:Please add `keras.layers.InputLayer` instead of `keras.Input` to Sequential model. `keras.Input` is intended to be used by Functional model.\n"
          ],
          "name": "stdout"
        }
      ]
    },
    {
      "cell_type": "code",
      "metadata": {
        "colab": {
          "base_uri": "https://localhost:8080/"
        },
        "id": "1ehnQTC9YimK",
        "outputId": "9426b9dd-73ce-4053-8e32-a7a0fb63c704"
      },
      "source": [
        "model.summary()"
      ],
      "execution_count": 17,
      "outputs": [
        {
          "output_type": "stream",
          "text": [
            "Model: \"sequential_2\"\n",
            "_________________________________________________________________\n",
            "Layer (type)                 Output Shape              Param #   \n",
            "=================================================================\n",
            "dense_3 (Dense)              (None, 64)                320       \n",
            "_________________________________________________________________\n",
            "dense_4 (Dense)              (None, 34)                2210      \n",
            "_________________________________________________________________\n",
            "dense_5 (Dense)              (None, 3)                 105       \n",
            "=================================================================\n",
            "Total params: 2,635\n",
            "Trainable params: 2,635\n",
            "Non-trainable params: 0\n",
            "_________________________________________________________________\n"
          ],
          "name": "stdout"
        }
      ]
    },
    {
      "cell_type": "code",
      "metadata": {
        "colab": {
          "base_uri": "https://localhost:8080/"
        },
        "id": "PMueY1C9Ea7a",
        "outputId": "3cff81a1-d2a4-4a70-ca39-b59e0a18808a"
      },
      "source": [
        "model.fit(x_data, y_data, epochs= 50, validation_split= 0.3) # 학습\n",
        "\n",
        "# 전체 양 중에서 0.3만큼 쪼개서 검증"
      ],
      "execution_count": 18,
      "outputs": [
        {
          "output_type": "stream",
          "text": [
            "Epoch 1/50\n",
            "4/4 [==============================] - 1s 48ms/step - loss: 0.4094 - acc: 0.4667 - val_loss: 2.7840 - val_acc: 0.0000e+00\n",
            "Epoch 2/50\n",
            "4/4 [==============================] - 0s 7ms/step - loss: 0.3992 - acc: 0.4762 - val_loss: 2.7791 - val_acc: 0.0000e+00\n",
            "Epoch 3/50\n",
            "4/4 [==============================] - 0s 9ms/step - loss: 0.3978 - acc: 0.3143 - val_loss: 2.7821 - val_acc: 0.0000e+00\n",
            "Epoch 4/50\n",
            "4/4 [==============================] - 0s 8ms/step - loss: 0.3988 - acc: 0.2952 - val_loss: 2.7812 - val_acc: 0.3333\n",
            "Epoch 5/50\n",
            "4/4 [==============================] - 0s 8ms/step - loss: 0.3979 - acc: 0.0476 - val_loss: 2.7787 - val_acc: 0.8444\n",
            "Epoch 6/50\n",
            "4/4 [==============================] - 0s 8ms/step - loss: 0.3969 - acc: 0.1905 - val_loss: 2.7779 - val_acc: 0.0667\n",
            "Epoch 7/50\n",
            "4/4 [==============================] - 0s 8ms/step - loss: 0.3972 - acc: 0.4667 - val_loss: 2.7782 - val_acc: 0.1111\n",
            "Epoch 8/50\n",
            "4/4 [==============================] - 0s 7ms/step - loss: 0.3972 - acc: 0.5048 - val_loss: 2.7783 - val_acc: 1.0000\n",
            "Epoch 9/50\n",
            "4/4 [==============================] - 0s 7ms/step - loss: 0.3970 - acc: 0.1429 - val_loss: 2.7782 - val_acc: 1.0000\n",
            "Epoch 10/50\n",
            "4/4 [==============================] - 0s 7ms/step - loss: 0.3969 - acc: 0.3143 - val_loss: 2.7782 - val_acc: 0.0889\n",
            "Epoch 11/50\n",
            "4/4 [==============================] - 0s 8ms/step - loss: 0.3970 - acc: 0.4762 - val_loss: 2.7781 - val_acc: 0.0000e+00\n",
            "Epoch 12/50\n",
            "4/4 [==============================] - 0s 7ms/step - loss: 0.3969 - acc: 0.3810 - val_loss: 2.7779 - val_acc: 0.7778\n",
            "Epoch 13/50\n",
            "4/4 [==============================] - 0s 7ms/step - loss: 0.3969 - acc: 0.2571 - val_loss: 2.7778 - val_acc: 0.5778\n",
            "Epoch 14/50\n",
            "4/4 [==============================] - 0s 7ms/step - loss: 0.3969 - acc: 0.4762 - val_loss: 2.7778 - val_acc: 0.0222\n",
            "Epoch 15/50\n",
            "4/4 [==============================] - 0s 7ms/step - loss: 0.3969 - acc: 0.5333 - val_loss: 2.7778 - val_acc: 0.0000e+00\n",
            "Epoch 16/50\n",
            "4/4 [==============================] - 0s 7ms/step - loss: 0.3968 - acc: 0.3238 - val_loss: 2.7779 - val_acc: 0.1111\n",
            "Epoch 17/50\n",
            "4/4 [==============================] - 0s 7ms/step - loss: 0.3968 - acc: 0.2476 - val_loss: 2.7779 - val_acc: 0.0444\n",
            "Epoch 18/50\n",
            "4/4 [==============================] - 0s 8ms/step - loss: 0.3968 - acc: 0.2952 - val_loss: 2.7778 - val_acc: 0.0444\n",
            "Epoch 19/50\n",
            "4/4 [==============================] - 0s 8ms/step - loss: 0.3968 - acc: 0.4190 - val_loss: 2.7778 - val_acc: 0.2222\n",
            "Epoch 20/50\n",
            "4/4 [==============================] - 0s 7ms/step - loss: 0.3968 - acc: 0.4762 - val_loss: 2.7778 - val_acc: 0.2000\n",
            "Epoch 21/50\n",
            "4/4 [==============================] - 0s 8ms/step - loss: 0.3968 - acc: 0.4286 - val_loss: 2.7778 - val_acc: 0.0889\n",
            "Epoch 22/50\n",
            "4/4 [==============================] - 0s 8ms/step - loss: 0.3968 - acc: 0.4095 - val_loss: 2.7778 - val_acc: 0.0444\n",
            "Epoch 23/50\n",
            "4/4 [==============================] - 0s 9ms/step - loss: 0.3968 - acc: 0.3238 - val_loss: 2.7778 - val_acc: 0.1333\n",
            "Epoch 24/50\n",
            "4/4 [==============================] - 0s 7ms/step - loss: 0.3968 - acc: 0.3143 - val_loss: 2.7778 - val_acc: 0.0889\n",
            "Epoch 25/50\n",
            "4/4 [==============================] - 0s 7ms/step - loss: 0.3968 - acc: 0.3905 - val_loss: 2.7778 - val_acc: 0.0444\n",
            "Epoch 26/50\n",
            "4/4 [==============================] - 0s 7ms/step - loss: 0.3968 - acc: 0.3905 - val_loss: 2.7778 - val_acc: 0.0889\n",
            "Epoch 27/50\n",
            "4/4 [==============================] - 0s 8ms/step - loss: 0.3968 - acc: 0.3238 - val_loss: 2.7778 - val_acc: 0.0667\n",
            "Epoch 28/50\n",
            "4/4 [==============================] - 0s 8ms/step - loss: 0.3968 - acc: 0.3238 - val_loss: 2.7778 - val_acc: 0.0444\n",
            "Epoch 29/50\n",
            "4/4 [==============================] - 0s 9ms/step - loss: 0.3968 - acc: 0.3238 - val_loss: 2.7778 - val_acc: 0.0667\n",
            "Epoch 30/50\n",
            "4/4 [==============================] - 0s 8ms/step - loss: 0.3968 - acc: 0.3429 - val_loss: 2.7778 - val_acc: 0.2444\n",
            "Epoch 31/50\n",
            "4/4 [==============================] - 0s 7ms/step - loss: 0.3968 - acc: 0.3524 - val_loss: 2.7778 - val_acc: 0.0889\n",
            "Epoch 32/50\n",
            "4/4 [==============================] - 0s 9ms/step - loss: 0.3968 - acc: 0.3619 - val_loss: 2.7778 - val_acc: 0.0444\n",
            "Epoch 33/50\n",
            "4/4 [==============================] - 0s 8ms/step - loss: 0.3968 - acc: 0.3429 - val_loss: 2.7778 - val_acc: 0.2000\n",
            "Epoch 34/50\n",
            "4/4 [==============================] - 0s 8ms/step - loss: 0.3968 - acc: 0.3905 - val_loss: 2.7778 - val_acc: 0.2444\n",
            "Epoch 35/50\n",
            "4/4 [==============================] - 0s 8ms/step - loss: 0.3968 - acc: 0.4190 - val_loss: 2.7778 - val_acc: 0.2222\n",
            "Epoch 36/50\n",
            "4/4 [==============================] - 0s 7ms/step - loss: 0.3968 - acc: 0.3905 - val_loss: 2.7778 - val_acc: 0.2000\n",
            "Epoch 37/50\n",
            "4/4 [==============================] - 0s 7ms/step - loss: 0.3968 - acc: 0.3429 - val_loss: 2.7778 - val_acc: 0.2000\n",
            "Epoch 38/50\n",
            "4/4 [==============================] - 0s 8ms/step - loss: 0.3968 - acc: 0.3333 - val_loss: 2.7778 - val_acc: 0.2000\n",
            "Epoch 39/50\n",
            "4/4 [==============================] - 0s 7ms/step - loss: 0.3968 - acc: 0.3619 - val_loss: 2.7778 - val_acc: 0.2444\n",
            "Epoch 40/50\n",
            "4/4 [==============================] - 0s 7ms/step - loss: 0.3968 - acc: 0.3524 - val_loss: 2.7778 - val_acc: 0.2444\n",
            "Epoch 41/50\n",
            "4/4 [==============================] - 0s 7ms/step - loss: 0.3968 - acc: 0.3714 - val_loss: 2.7778 - val_acc: 0.2222\n",
            "Epoch 42/50\n",
            "4/4 [==============================] - 0s 9ms/step - loss: 0.3968 - acc: 0.4095 - val_loss: 2.7778 - val_acc: 0.2667\n",
            "Epoch 43/50\n",
            "4/4 [==============================] - 0s 7ms/step - loss: 0.3968 - acc: 0.3619 - val_loss: 2.7778 - val_acc: 0.2667\n",
            "Epoch 44/50\n",
            "4/4 [==============================] - 0s 7ms/step - loss: 0.3968 - acc: 0.3714 - val_loss: 2.7778 - val_acc: 0.1778\n",
            "Epoch 45/50\n",
            "4/4 [==============================] - 0s 7ms/step - loss: 0.3968 - acc: 0.4190 - val_loss: 2.7778 - val_acc: 0.2444\n",
            "Epoch 46/50\n",
            "4/4 [==============================] - 0s 6ms/step - loss: 0.3968 - acc: 0.3524 - val_loss: 2.7778 - val_acc: 0.2889\n",
            "Epoch 47/50\n",
            "4/4 [==============================] - 0s 9ms/step - loss: 0.3968 - acc: 0.3619 - val_loss: 2.7778 - val_acc: 0.2000\n",
            "Epoch 48/50\n",
            "4/4 [==============================] - 0s 8ms/step - loss: 0.3968 - acc: 0.3810 - val_loss: 2.7778 - val_acc: 0.2222\n",
            "Epoch 49/50\n",
            "4/4 [==============================] - 0s 8ms/step - loss: 0.3968 - acc: 0.3429 - val_loss: 2.7778 - val_acc: 0.2889\n",
            "Epoch 50/50\n",
            "4/4 [==============================] - 0s 7ms/step - loss: 0.3968 - acc: 0.3619 - val_loss: 2.7778 - val_acc: 0.2667\n"
          ],
          "name": "stdout"
        },
        {
          "output_type": "execute_result",
          "data": {
            "text/plain": [
              "<tensorflow.python.keras.callbacks.History at 0x7f7df8e51dd0>"
            ]
          },
          "metadata": {
            "tags": []
          },
          "execution_count": 18
        }
      ]
    },
    {
      "cell_type": "markdown",
      "metadata": {
        "id": "j9Awtl8GZ6VT"
      },
      "source": [
        "# Evaluation"
      ]
    },
    {
      "cell_type": "code",
      "metadata": {
        "colab": {
          "base_uri": "https://localhost:8080/"
        },
        "id": "PeZ-aRnOZYpw",
        "outputId": "fa802d25-3c7f-48a7-ac33-4ff9012eaac9"
      },
      "source": [
        "model.evaluate(x_data, y_data)\n",
        "\n",
        "# 2개(loss, accuracy)의 편차"
      ],
      "execution_count": 19,
      "outputs": [
        {
          "output_type": "stream",
          "text": [
            "5/5 [==============================] - 0s 2ms/step - loss: 1.1111 - acc: 0.3467\n"
          ],
          "name": "stdout"
        },
        {
          "output_type": "execute_result",
          "data": {
            "text/plain": [
              "[1.1111235618591309, 0.3466666638851166]"
            ]
          },
          "metadata": {
            "tags": []
          },
          "execution_count": 19
        }
      ]
    },
    {
      "cell_type": "markdown",
      "metadata": {
        "id": "WJlPXSPpaZQ8"
      },
      "source": [
        "# Service"
      ]
    },
    {
      "cell_type": "code",
      "metadata": {
        "colab": {
          "base_uri": "https://localhost:8080/"
        },
        "id": "cDKHDnLJZ-x1",
        "outputId": "59ea2255-dde5-475d-847f-1d07fe40eee7"
      },
      "source": [
        "x_data[25], y_data[25]"
      ],
      "execution_count": 20,
      "outputs": [
        {
          "output_type": "execute_result",
          "data": {
            "text/plain": [
              "(array([5. , 3. , 1.6, 0.2]), 0)"
            ]
          },
          "metadata": {
            "tags": []
          },
          "execution_count": 20
        }
      ]
    },
    {
      "cell_type": "code",
      "metadata": {
        "colab": {
          "base_uri": "https://localhost:8080/"
        },
        "id": "FvQ5CBzWadNp",
        "outputId": "db3f37f5-c7ff-4516-8bb3-39d8b8b79f77"
      },
      "source": [
        "pred = model.predict([[5. , 3. , 1.6, 0.2]])\n",
        "pred\n",
        "\n",
        "# 25번째 데이터를 보니, 1번째 분류일 가능성은 0.3302766, 2번째 분류 0.33684278 ~~"
      ],
      "execution_count": 23,
      "outputs": [
        {
          "output_type": "execute_result",
          "data": {
            "text/plain": [
              "array([[0.3302766 , 0.33684278, 0.33288065]], dtype=float32)"
            ]
          },
          "metadata": {
            "tags": []
          },
          "execution_count": 23
        }
      ]
    },
    {
      "cell_type": "code",
      "metadata": {
        "colab": {
          "base_uri": "https://localhost:8080/"
        },
        "id": "-_-JNRFAalex",
        "outputId": "328aaa30-1683-48a1-ffb2-5938758dcb23"
      },
      "source": [
        "import numpy as np\n",
        "\n",
        "np.argmax(pred)"
      ],
      "execution_count": 24,
      "outputs": [
        {
          "output_type": "execute_result",
          "data": {
            "text/plain": [
              "1"
            ]
          },
          "metadata": {
            "tags": []
          },
          "execution_count": 24
        }
      ]
    }
  ]
}