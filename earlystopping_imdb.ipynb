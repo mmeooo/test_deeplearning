{
  "nbformat": 4,
  "nbformat_minor": 0,
  "metadata": {
    "colab": {
      "name": "earlystopping_imdb.ipynb",
      "provenance": [],
      "collapsed_sections": [],
      "authorship_tag": "ABX9TyNiHUV4OM+aasVonrYAwHf3"
    },
    "kernelspec": {
      "name": "python3",
      "display_name": "Python 3"
    },
    "language_info": {
      "name": "python"
    }
  },
  "cells": [
    {
      "cell_type": "code",
      "metadata": {
        "id": "Vr129ZDu8U7v"
      },
      "source": [
        "from tensorflow.keras.datasets import imdb"
      ],
      "execution_count": 2,
      "outputs": []
    },
    {
      "cell_type": "code",
      "metadata": {
        "colab": {
          "base_uri": "https://localhost:8080/"
        },
        "id": "9xIjLAkP9IEn",
        "outputId": "a44bc08c-728c-4cad-e8ae-8963f15ab197"
      },
      "source": [
        "vocab_size = 2000\n",
        "(x_train, y_train), (x_test, y_test) = imdb.load_data(num_words=vocab_size)\n",
        "x_train.shape, y_train.shape, x_test.shape, y_test.shape"
      ],
      "execution_count": 4,
      "outputs": [
        {
          "output_type": "execute_result",
          "data": {
            "text/plain": [
              "((25000,), (25000,), (25000,), (25000,))"
            ]
          },
          "metadata": {},
          "execution_count": 4
        }
      ]
    },
    {
      "cell_type": "code",
      "metadata": {
        "colab": {
          "base_uri": "https://localhost:8080/"
        },
        "id": "c_U4ihq39c3p",
        "outputId": "7a6ff4bb-bd3d-473b-80f4-50ac9ea54208"
      },
      "source": [
        "print(x_train[1])  # 이미 tokenize가 되어있음"
      ],
      "execution_count": 5,
      "outputs": [
        {
          "output_type": "stream",
          "text": [
            "[1, 194, 1153, 194, 2, 78, 228, 5, 6, 1463, 2, 2, 134, 26, 4, 715, 8, 118, 1634, 14, 394, 20, 13, 119, 954, 189, 102, 5, 207, 110, 2, 21, 14, 69, 188, 8, 30, 23, 7, 4, 249, 126, 93, 4, 114, 9, 2, 1523, 5, 647, 4, 116, 9, 35, 2, 4, 229, 9, 340, 1322, 4, 118, 9, 4, 130, 2, 19, 4, 1002, 5, 89, 29, 952, 46, 37, 4, 455, 9, 45, 43, 38, 1543, 1905, 398, 4, 1649, 26, 2, 5, 163, 11, 2, 2, 4, 1153, 9, 194, 775, 7, 2, 2, 349, 2, 148, 605, 2, 2, 15, 123, 125, 68, 2, 2, 15, 349, 165, 2, 98, 5, 4, 228, 9, 43, 2, 1157, 15, 299, 120, 5, 120, 174, 11, 220, 175, 136, 50, 9, 2, 228, 2, 5, 2, 656, 245, 2, 5, 4, 2, 131, 152, 491, 18, 2, 32, 2, 1212, 14, 9, 6, 371, 78, 22, 625, 64, 1382, 9, 8, 168, 145, 23, 4, 1690, 15, 16, 4, 1355, 5, 28, 6, 52, 154, 462, 33, 89, 78, 285, 16, 145, 95]\n"
          ],
          "name": "stdout"
        }
      ]
    },
    {
      "cell_type": "code",
      "metadata": {
        "colab": {
          "base_uri": "https://localhost:8080/"
        },
        "id": "UwZj034S-Nox",
        "outputId": "92411609-01c8-423e-d32b-f326424026e1"
      },
      "source": [
        "len(x_train[1]), len(x_train[200])"
      ],
      "execution_count": 6,
      "outputs": [
        {
          "output_type": "execute_result",
          "data": {
            "text/plain": [
              "(189, 160)"
            ]
          },
          "metadata": {},
          "execution_count": 6
        }
      ]
    },
    {
      "cell_type": "code",
      "metadata": {
        "id": "qtwmla3U9zJI"
      },
      "source": [
        "# 사이즈를 똑같이 만들기\n",
        "\n",
        "from tensorflow.keras.preprocessing.sequence import pad_sequences"
      ],
      "execution_count": 7,
      "outputs": []
    },
    {
      "cell_type": "code",
      "metadata": {
        "id": "72JEKBCf-cfM"
      },
      "source": [
        "X_train = pad_sequences(x_train, maxlen=300)"
      ],
      "execution_count": 8,
      "outputs": []
    },
    {
      "cell_type": "code",
      "metadata": {
        "colab": {
          "base_uri": "https://localhost:8080/"
        },
        "id": "05EHg2t9__jj",
        "outputId": "877b6e3e-8590-4a18-f5e4-adb39be9a02c"
      },
      "source": [
        "import numpy as np\n",
        "\n",
        "np.unique(y_train)  # 분류형"
      ],
      "execution_count": 12,
      "outputs": [
        {
          "output_type": "execute_result",
          "data": {
            "text/plain": [
              "array([0, 1])"
            ]
          },
          "metadata": {},
          "execution_count": 12
        }
      ]
    },
    {
      "cell_type": "code",
      "metadata": {
        "id": "jXXETJyV-xSH"
      },
      "source": [
        "import tensorflow as tf"
      ],
      "execution_count": 9,
      "outputs": []
    },
    {
      "cell_type": "code",
      "metadata": {
        "id": "z5JWoygp-40X"
      },
      "source": [
        "model = tf.keras.models.Sequential()\n",
        "\n",
        "# Input Layer\n",
        "model.add(tf.keras.layers.Embedding(input_dim=vocab_size, output_dim=50, input_length=300))\n",
        "\n",
        "# Hidden Layer\n",
        "model.add(tf.keras.layers.GlobalAveragePooling1D())\n",
        "\n",
        "# Output Layer\n",
        "model.add(tf.keras.layers.Dense(1, activation='sigmoid'))\n",
        "\n",
        "# Gadget\n",
        "model.compile(optimizer='adam', loss='binary_crossentropy')"
      ],
      "execution_count": 13,
      "outputs": []
    },
    {
      "cell_type": "code",
      "metadata": {
        "colab": {
          "base_uri": "https://localhost:8080/"
        },
        "id": "G0vS4uugA9J8",
        "outputId": "12bc029c-c0b8-482d-a942-d7ac48cdf536"
      },
      "source": [
        "model.fit(X_train, y_train, epochs=10, batch_size=128, validation_split=0.2)"
      ],
      "execution_count": 15,
      "outputs": [
        {
          "output_type": "stream",
          "text": [
            "Epoch 1/10\n",
            "157/157 [==============================] - 2s 11ms/step - loss: 0.2479 - val_loss: 0.2517\n",
            "Epoch 2/10\n",
            "157/157 [==============================] - 2s 11ms/step - loss: 0.2470 - val_loss: 0.2536\n",
            "Epoch 3/10\n",
            "157/157 [==============================] - 2s 11ms/step - loss: 0.2463 - val_loss: 0.2558\n",
            "Epoch 4/10\n",
            "157/157 [==============================] - 2s 11ms/step - loss: 0.2456 - val_loss: 0.2559\n",
            "Epoch 5/10\n",
            "157/157 [==============================] - 2s 10ms/step - loss: 0.2441 - val_loss: 0.2582\n",
            "Epoch 6/10\n",
            "157/157 [==============================] - 2s 10ms/step - loss: 0.2435 - val_loss: 0.2603\n",
            "Epoch 7/10\n",
            "157/157 [==============================] - 2s 11ms/step - loss: 0.2425 - val_loss: 0.2614\n",
            "Epoch 8/10\n",
            "157/157 [==============================] - 2s 11ms/step - loss: 0.2413 - val_loss: 0.2637\n",
            "Epoch 9/10\n",
            "157/157 [==============================] - 2s 11ms/step - loss: 0.2405 - val_loss: 0.2668\n",
            "Epoch 10/10\n",
            "157/157 [==============================] - 2s 11ms/step - loss: 0.2400 - val_loss: 0.2669\n"
          ],
          "name": "stdout"
        },
        {
          "output_type": "execute_result",
          "data": {
            "text/plain": [
              "<keras.callbacks.History at 0x7f69859de8d0>"
            ]
          },
          "metadata": {},
          "execution_count": 15
        }
      ]
    },
    {
      "cell_type": "code",
      "metadata": {
        "colab": {
          "base_uri": "https://localhost:8080/"
        },
        "id": "kmeU5H_qBBcZ",
        "outputId": "d02cd514-f9b7-44b2-a200-dca38cfb3ad6"
      },
      "source": [
        "model.predict(X_train[5:6])"
      ],
      "execution_count": 16,
      "outputs": [
        {
          "output_type": "execute_result",
          "data": {
            "text/plain": [
              "array([[0.37419096]], dtype=float32)"
            ]
          },
          "metadata": {},
          "execution_count": 16
        }
      ]
    },
    {
      "cell_type": "markdown",
      "metadata": {
        "id": "zJwgwrr2DB4C"
      },
      "source": [
        "## Callback EarlyStopping\n",
        "\n",
        "너무 많은 Epoch 은 overfitting 을 일으킴. 너무 적은 Epoch 은 underfitting 을 일으킴 \n",
        "\n",
        "->  Epoch 을 많이 돌린 후, 특정 시점에서 멈추자\n",
        "\n",
        "- monitor : 어떤 성능을 monitoring 할 것 인가\n",
        "- patience : 성능이 증가하지 않는다고, 그 순간 바로 멈추는 것은 효과적이지 않다.성능이 증가하지 않는 상황에서 epoch 을 몇 번이나 허용할 것 인가\n",
        "- mode : performance measure를 최대화? 최소화?\n",
        "- verbose :  training 을 언제 멈췄는지 화면에 출력\n",
        "-  callbacks : 어떤 모델을 저장할건가\n"
      ]
    },
    {
      "cell_type": "code",
      "metadata": {
        "colab": {
          "base_uri": "https://localhost:8080/"
        },
        "id": "g6vV_CDQBjcd",
        "outputId": "d9b59bc6-1dea-4552-c56b-887bdef6fc24"
      },
      "source": [
        "es = tf.keras.callbacks.EarlyStopping(monitor='val_loss', patience=4, mode='min', verbose=1)\n",
        "es"
      ],
      "execution_count": 18,
      "outputs": [
        {
          "output_type": "execute_result",
          "data": {
            "text/plain": [
              "<keras.callbacks.EarlyStopping at 0x7f697f2d8dd0>"
            ]
          },
          "metadata": {},
          "execution_count": 18
        }
      ]
    },
    {
      "cell_type": "code",
      "metadata": {
        "colab": {
          "base_uri": "https://localhost:8080/"
        },
        "id": "srvY2NZtEItu",
        "outputId": "4425209b-a0a2-4985-b2c6-87a5b57dd13e"
      },
      "source": [
        "hist = model.fit(X_train, y_train, epochs=20, batch_size=128, validation_split=0.2, callbacks=[es])"
      ],
      "execution_count": 19,
      "outputs": [
        {
          "output_type": "stream",
          "text": [
            "Epoch 1/20\n",
            "157/157 [==============================] - 2s 11ms/step - loss: 0.2387 - val_loss: 0.2729\n",
            "Epoch 2/20\n",
            "157/157 [==============================] - 2s 10ms/step - loss: 0.2381 - val_loss: 0.2712\n",
            "Epoch 3/20\n",
            "157/157 [==============================] - 2s 11ms/step - loss: 0.2367 - val_loss: 0.2737\n",
            "Epoch 4/20\n",
            "157/157 [==============================] - 2s 10ms/step - loss: 0.2361 - val_loss: 0.2759\n",
            "Epoch 5/20\n",
            "157/157 [==============================] - 2s 10ms/step - loss: 0.2354 - val_loss: 0.2783\n",
            "Epoch 6/20\n",
            "157/157 [==============================] - 2s 10ms/step - loss: 0.2348 - val_loss: 0.2802\n",
            "Epoch 00006: early stopping\n"
          ],
          "name": "stdout"
        }
      ]
    },
    {
      "cell_type": "code",
      "metadata": {
        "id": "mxen1-AIEpsx"
      },
      "source": [
        ""
      ],
      "execution_count": null,
      "outputs": []
    }
  ]
}