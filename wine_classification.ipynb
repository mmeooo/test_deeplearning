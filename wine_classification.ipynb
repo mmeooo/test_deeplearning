{
  "nbformat": 4,
  "nbformat_minor": 0,
  "metadata": {
    "colab": {
      "name": "wine_classification.ipynb",
      "provenance": [],
      "collapsed_sections": [],
      "authorship_tag": "ABX9TyM2+3RVzRaGxAB6CAR1QTEe"
    },
    "kernelspec": {
      "name": "python3",
      "display_name": "Python 3"
    },
    "language_info": {
      "name": "python"
    }
  },
  "cells": [
    {
      "cell_type": "code",
      "metadata": {
        "colab": {
          "base_uri": "https://localhost:8080/"
        },
        "id": "1GOXXodDb1-2",
        "outputId": "be4eb04b-a99c-42ef-b53f-73e205628c51"
      },
      "source": [
        "from sklearn import datasets\n",
        "\n",
        "wine = datasets.load_wine()\n",
        "wine.keys()\n",
        "\n",
        "# wine데이터의 키값 출력: 'data' -> x 데이터, 'target' -> y 데이터"
      ],
      "execution_count": 1,
      "outputs": [
        {
          "output_type": "execute_result",
          "data": {
            "text/plain": [
              "dict_keys(['data', 'target', 'target_names', 'DESCR', 'feature_names'])"
            ]
          },
          "metadata": {
            "tags": []
          },
          "execution_count": 1
        }
      ]
    },
    {
      "cell_type": "code",
      "metadata": {
        "colab": {
          "base_uri": "https://localhost:8080/"
        },
        "id": "Wo97ygExc6GV",
        "outputId": "cfb231d8-3bc8-43e9-80f3-058e685c26a5"
      },
      "source": [
        "x_data = wine['data']\n",
        "x_data.shape"
      ],
      "execution_count": 2,
      "outputs": [
        {
          "output_type": "execute_result",
          "data": {
            "text/plain": [
              "(178, 13)"
            ]
          },
          "metadata": {
            "tags": []
          },
          "execution_count": 2
        }
      ]
    },
    {
      "cell_type": "code",
      "metadata": {
        "colab": {
          "base_uri": "https://localhost:8080/"
        },
        "id": "YpF0pf77b39z",
        "outputId": "bb84122c-4cb9-41cb-8927-5540bc75d69d"
      },
      "source": [
        "y_data = wine['target']\n",
        "y_data.shape"
      ],
      "execution_count": 3,
      "outputs": [
        {
          "output_type": "execute_result",
          "data": {
            "text/plain": [
              "(178,)"
            ]
          },
          "metadata": {
            "tags": []
          },
          "execution_count": 3
        }
      ]
    },
    {
      "cell_type": "code",
      "metadata": {
        "colab": {
          "base_uri": "https://localhost:8080/"
        },
        "id": "zVyHJsPvjOMZ",
        "outputId": "49fbc307-2b9c-4f00-d048-9ede9a315405"
      },
      "source": [
        "import pandas as pd\n",
        "\n",
        "df_wine = pd.DataFrame(wine.data)\n",
        "df_wine.info()"
      ],
      "execution_count": 4,
      "outputs": [
        {
          "output_type": "stream",
          "text": [
            "<class 'pandas.core.frame.DataFrame'>\n",
            "RangeIndex: 178 entries, 0 to 177\n",
            "Data columns (total 13 columns):\n",
            " #   Column  Non-Null Count  Dtype  \n",
            "---  ------  --------------  -----  \n",
            " 0   0       178 non-null    float64\n",
            " 1   1       178 non-null    float64\n",
            " 2   2       178 non-null    float64\n",
            " 3   3       178 non-null    float64\n",
            " 4   4       178 non-null    float64\n",
            " 5   5       178 non-null    float64\n",
            " 6   6       178 non-null    float64\n",
            " 7   7       178 non-null    float64\n",
            " 8   8       178 non-null    float64\n",
            " 9   9       178 non-null    float64\n",
            " 10  10      178 non-null    float64\n",
            " 11  11      178 non-null    float64\n",
            " 12  12      178 non-null    float64\n",
            "dtypes: float64(13)\n",
            "memory usage: 18.2 KB\n"
          ],
          "name": "stdout"
        }
      ]
    },
    {
      "cell_type": "code",
      "metadata": {
        "id": "kOw_Nh-0dI0R"
      },
      "source": [
        "import sqlite3\n",
        "\n",
        "connect = sqlite3.connect('./db.sqlite3')\n",
        "df_wine.to_sql('wine_resource', connect,if_exists= 'append', index= False)"
      ],
      "execution_count": 5,
      "outputs": []
    },
    {
      "cell_type": "code",
      "metadata": {
        "colab": {
          "base_uri": "https://localhost:8080/",
          "height": 172
        },
        "id": "7RP-hNdLjc5k",
        "outputId": "99afb4dd-ab81-4070-dadf-eae0552c6580"
      },
      "source": [
        "df_load = pd.read_sql_query('select * from wine_resource', connect)\n",
        "df_load.head(4)"
      ],
      "execution_count": 6,
      "outputs": [
        {
          "output_type": "execute_result",
          "data": {
            "text/html": [
              "<div>\n",
              "<style scoped>\n",
              "    .dataframe tbody tr th:only-of-type {\n",
              "        vertical-align: middle;\n",
              "    }\n",
              "\n",
              "    .dataframe tbody tr th {\n",
              "        vertical-align: top;\n",
              "    }\n",
              "\n",
              "    .dataframe thead th {\n",
              "        text-align: right;\n",
              "    }\n",
              "</style>\n",
              "<table border=\"1\" class=\"dataframe\">\n",
              "  <thead>\n",
              "    <tr style=\"text-align: right;\">\n",
              "      <th></th>\n",
              "      <th>0</th>\n",
              "      <th>1</th>\n",
              "      <th>2</th>\n",
              "      <th>3</th>\n",
              "      <th>4</th>\n",
              "      <th>5</th>\n",
              "      <th>6</th>\n",
              "      <th>7</th>\n",
              "      <th>8</th>\n",
              "      <th>9</th>\n",
              "      <th>10</th>\n",
              "      <th>11</th>\n",
              "      <th>12</th>\n",
              "    </tr>\n",
              "  </thead>\n",
              "  <tbody>\n",
              "    <tr>\n",
              "      <th>0</th>\n",
              "      <td>14.23</td>\n",
              "      <td>1.71</td>\n",
              "      <td>2.43</td>\n",
              "      <td>15.6</td>\n",
              "      <td>127.0</td>\n",
              "      <td>2.80</td>\n",
              "      <td>3.06</td>\n",
              "      <td>0.28</td>\n",
              "      <td>2.29</td>\n",
              "      <td>5.64</td>\n",
              "      <td>1.04</td>\n",
              "      <td>3.92</td>\n",
              "      <td>1065.0</td>\n",
              "    </tr>\n",
              "    <tr>\n",
              "      <th>1</th>\n",
              "      <td>13.20</td>\n",
              "      <td>1.78</td>\n",
              "      <td>2.14</td>\n",
              "      <td>11.2</td>\n",
              "      <td>100.0</td>\n",
              "      <td>2.65</td>\n",
              "      <td>2.76</td>\n",
              "      <td>0.26</td>\n",
              "      <td>1.28</td>\n",
              "      <td>4.38</td>\n",
              "      <td>1.05</td>\n",
              "      <td>3.40</td>\n",
              "      <td>1050.0</td>\n",
              "    </tr>\n",
              "    <tr>\n",
              "      <th>2</th>\n",
              "      <td>13.16</td>\n",
              "      <td>2.36</td>\n",
              "      <td>2.67</td>\n",
              "      <td>18.6</td>\n",
              "      <td>101.0</td>\n",
              "      <td>2.80</td>\n",
              "      <td>3.24</td>\n",
              "      <td>0.30</td>\n",
              "      <td>2.81</td>\n",
              "      <td>5.68</td>\n",
              "      <td>1.03</td>\n",
              "      <td>3.17</td>\n",
              "      <td>1185.0</td>\n",
              "    </tr>\n",
              "    <tr>\n",
              "      <th>3</th>\n",
              "      <td>14.37</td>\n",
              "      <td>1.95</td>\n",
              "      <td>2.50</td>\n",
              "      <td>16.8</td>\n",
              "      <td>113.0</td>\n",
              "      <td>3.85</td>\n",
              "      <td>3.49</td>\n",
              "      <td>0.24</td>\n",
              "      <td>2.18</td>\n",
              "      <td>7.80</td>\n",
              "      <td>0.86</td>\n",
              "      <td>3.45</td>\n",
              "      <td>1480.0</td>\n",
              "    </tr>\n",
              "  </tbody>\n",
              "</table>\n",
              "</div>"
            ],
            "text/plain": [
              "       0     1     2     3      4     5  ...     7     8     9    10    11      12\n",
              "0  14.23  1.71  2.43  15.6  127.0  2.80  ...  0.28  2.29  5.64  1.04  3.92  1065.0\n",
              "1  13.20  1.78  2.14  11.2  100.0  2.65  ...  0.26  1.28  4.38  1.05  3.40  1050.0\n",
              "2  13.16  2.36  2.67  18.6  101.0  2.80  ...  0.30  2.81  5.68  1.03  3.17  1185.0\n",
              "3  14.37  1.95  2.50  16.8  113.0  3.85  ...  0.24  2.18  7.80  0.86  3.45  1480.0\n",
              "\n",
              "[4 rows x 13 columns]"
            ]
          },
          "metadata": {
            "tags": []
          },
          "execution_count": 6
        }
      ]
    },
    {
      "cell_type": "code",
      "metadata": {
        "colab": {
          "base_uri": "https://localhost:8080/"
        },
        "id": "f09xkbJPjf0c",
        "outputId": "9c5dd05b-32db-47fe-c5f8-74af82c0f227"
      },
      "source": [
        "x_data = df_load.to_numpy()\n",
        "x_data.shape"
      ],
      "execution_count": 7,
      "outputs": [
        {
          "output_type": "execute_result",
          "data": {
            "text/plain": [
              "(178, 13)"
            ]
          },
          "metadata": {
            "tags": []
          },
          "execution_count": 7
        }
      ]
    },
    {
      "cell_type": "code",
      "metadata": {
        "colab": {
          "base_uri": "https://localhost:8080/"
        },
        "id": "6kVX0MZfjiO3",
        "outputId": "a32baf30-b8ce-437e-d364-f4cdc97f9c00"
      },
      "source": [
        "import numpy as np\n",
        "\n",
        "y_data= wine.target\n",
        "y_data, np.unique(y_data)"
      ],
      "execution_count": 8,
      "outputs": [
        {
          "output_type": "execute_result",
          "data": {
            "text/plain": [
              "(array([0, 0, 0, 0, 0, 0, 0, 0, 0, 0, 0, 0, 0, 0, 0, 0, 0, 0, 0, 0, 0, 0,\n",
              "        0, 0, 0, 0, 0, 0, 0, 0, 0, 0, 0, 0, 0, 0, 0, 0, 0, 0, 0, 0, 0, 0,\n",
              "        0, 0, 0, 0, 0, 0, 0, 0, 0, 0, 0, 0, 0, 0, 0, 1, 1, 1, 1, 1, 1, 1,\n",
              "        1, 1, 1, 1, 1, 1, 1, 1, 1, 1, 1, 1, 1, 1, 1, 1, 1, 1, 1, 1, 1, 1,\n",
              "        1, 1, 1, 1, 1, 1, 1, 1, 1, 1, 1, 1, 1, 1, 1, 1, 1, 1, 1, 1, 1, 1,\n",
              "        1, 1, 1, 1, 1, 1, 1, 1, 1, 1, 1, 1, 1, 1, 1, 1, 1, 1, 1, 1, 2, 2,\n",
              "        2, 2, 2, 2, 2, 2, 2, 2, 2, 2, 2, 2, 2, 2, 2, 2, 2, 2, 2, 2, 2, 2,\n",
              "        2, 2, 2, 2, 2, 2, 2, 2, 2, 2, 2, 2, 2, 2, 2, 2, 2, 2, 2, 2, 2, 2,\n",
              "        2, 2]), array([0, 1, 2]))"
            ]
          },
          "metadata": {
            "tags": []
          },
          "execution_count": 8
        }
      ]
    },
    {
      "cell_type": "code",
      "metadata": {
        "colab": {
          "base_uri": "https://localhost:8080/"
        },
        "id": "XwipClXPjlKA",
        "outputId": "a3691779-24d2-4f86-b0ba-6273c7b722ec"
      },
      "source": [
        "import tensorflow as tf\n",
        "\n",
        "model = tf.keras.Sequential()\n",
        "\n",
        "model.add(tf.keras.Input(shape=(13, ))) # input layer\n",
        "\n",
        "model.add(tf.keras.layers.Dense(64, activation= 'relu')) # hidden layer\n",
        "model.add(tf.keras.layers.Dense(34, activation= 'relu')) \n",
        "\n",
        "model.add(tf.keras.layers.Dense(13, activation= 'softmax')) # output layer\n",
        "\n",
        "\n",
        "model.compile(optimizer= 'adam', loss= 'sparse_categorical_crossentropy', metrics= ['acc']) # gadget"
      ],
      "execution_count": 9,
      "outputs": [
        {
          "output_type": "stream",
          "text": [
            "WARNING:tensorflow:Please add `keras.layers.InputLayer` instead of `keras.Input` to Sequential model. `keras.Input` is intended to be used by Functional model.\n"
          ],
          "name": "stdout"
        }
      ]
    },
    {
      "cell_type": "code",
      "metadata": {
        "colab": {
          "base_uri": "https://localhost:8080/"
        },
        "id": "Ne32So89jqzt",
        "outputId": "7686afa4-d606-40f6-d264-3e5633175c8d"
      },
      "source": [
        "model.summary()"
      ],
      "execution_count": 10,
      "outputs": [
        {
          "output_type": "stream",
          "text": [
            "Model: \"sequential\"\n",
            "_________________________________________________________________\n",
            "Layer (type)                 Output Shape              Param #   \n",
            "=================================================================\n",
            "dense (Dense)                (None, 64)                896       \n",
            "_________________________________________________________________\n",
            "dense_1 (Dense)              (None, 34)                2210      \n",
            "_________________________________________________________________\n",
            "dense_2 (Dense)              (None, 13)                455       \n",
            "=================================================================\n",
            "Total params: 3,561\n",
            "Trainable params: 3,561\n",
            "Non-trainable params: 0\n",
            "_________________________________________________________________\n"
          ],
          "name": "stdout"
        }
      ]
    },
    {
      "cell_type": "markdown",
      "metadata": {
        "id": "hLkIc9JHkzEf"
      },
      "source": [
        "# Training"
      ]
    },
    {
      "cell_type": "code",
      "metadata": {
        "colab": {
          "base_uri": "https://localhost:8080/"
        },
        "id": "bs7cyw6djsCh",
        "outputId": "9e6c9e3e-2fbf-4b1a-b8cb-0a9dde5cc3ea"
      },
      "source": [
        "model.fit(x_data, y_data, epochs= 50, validation_split= 0.3)"
      ],
      "execution_count": 11,
      "outputs": [
        {
          "output_type": "stream",
          "text": [
            "Epoch 1/50\n",
            "4/4 [==============================] - 1s 61ms/step - loss: 187.8489 - acc: 0.0000e+00 - val_loss: 79.6541 - val_acc: 0.0000e+00\n",
            "Epoch 2/50\n",
            "4/4 [==============================] - 0s 8ms/step - loss: 103.6071 - acc: 0.0000e+00 - val_loss: 52.8413 - val_acc: 0.0000e+00\n",
            "Epoch 3/50\n",
            "4/4 [==============================] - 0s 8ms/step - loss: 38.4694 - acc: 0.0323 - val_loss: 47.9590 - val_acc: 0.0000e+00\n",
            "Epoch 4/50\n",
            "4/4 [==============================] - 0s 8ms/step - loss: 11.2578 - acc: 0.4435 - val_loss: 59.2932 - val_acc: 0.0000e+00\n",
            "Epoch 5/50\n",
            "4/4 [==============================] - 0s 8ms/step - loss: 11.2262 - acc: 0.1371 - val_loss: 67.7191 - val_acc: 0.0000e+00\n",
            "Epoch 6/50\n",
            "4/4 [==============================] - 0s 9ms/step - loss: 10.4958 - acc: 0.2581 - val_loss: 81.0860 - val_acc: 0.0000e+00\n",
            "Epoch 7/50\n",
            "4/4 [==============================] - 0s 8ms/step - loss: 9.4065 - acc: 0.3871 - val_loss: 80.2390 - val_acc: 0.0000e+00\n",
            "Epoch 8/50\n",
            "4/4 [==============================] - 0s 9ms/step - loss: 8.3128 - acc: 0.1210 - val_loss: 83.4695 - val_acc: 0.0000e+00\n",
            "Epoch 9/50\n",
            "4/4 [==============================] - 0s 11ms/step - loss: 6.8257 - acc: 0.3065 - val_loss: 86.6589 - val_acc: 0.0000e+00\n",
            "Epoch 10/50\n",
            "4/4 [==============================] - 0s 9ms/step - loss: 5.6796 - acc: 0.2984 - val_loss: 84.8092 - val_acc: 0.0000e+00\n",
            "Epoch 11/50\n",
            "4/4 [==============================] - 0s 10ms/step - loss: 4.7022 - acc: 0.2097 - val_loss: 86.1862 - val_acc: 0.0000e+00\n",
            "Epoch 12/50\n",
            "4/4 [==============================] - 0s 9ms/step - loss: 3.5400 - acc: 0.2097 - val_loss: 85.9222 - val_acc: 0.0000e+00\n",
            "Epoch 13/50\n",
            "4/4 [==============================] - 0s 9ms/step - loss: 2.3589 - acc: 0.2984 - val_loss: 84.7075 - val_acc: 0.0000e+00\n",
            "Epoch 14/50\n",
            "4/4 [==============================] - 0s 9ms/step - loss: 1.3187 - acc: 0.3306 - val_loss: 84.1312 - val_acc: 0.1111\n",
            "Epoch 15/50\n",
            "4/4 [==============================] - 0s 10ms/step - loss: 0.6171 - acc: 0.6935 - val_loss: 84.4679 - val_acc: 0.1111\n",
            "Epoch 16/50\n",
            "4/4 [==============================] - 0s 8ms/step - loss: 0.3382 - acc: 0.8468 - val_loss: 84.8933 - val_acc: 0.0926\n",
            "Epoch 17/50\n",
            "4/4 [==============================] - 0s 9ms/step - loss: 0.2922 - acc: 0.8629 - val_loss: 84.9553 - val_acc: 0.1111\n",
            "Epoch 18/50\n",
            "4/4 [==============================] - 0s 9ms/step - loss: 0.2541 - acc: 0.9032 - val_loss: 85.0100 - val_acc: 0.1111\n",
            "Epoch 19/50\n",
            "4/4 [==============================] - 0s 10ms/step - loss: 0.2429 - acc: 0.8952 - val_loss: 85.1109 - val_acc: 0.1111\n",
            "Epoch 20/50\n",
            "4/4 [==============================] - 0s 9ms/step - loss: 0.2581 - acc: 0.9113 - val_loss: 85.1603 - val_acc: 0.1111\n",
            "Epoch 21/50\n",
            "4/4 [==============================] - 0s 9ms/step - loss: 0.2587 - acc: 0.8710 - val_loss: 85.2129 - val_acc: 0.1111\n",
            "Epoch 22/50\n",
            "4/4 [==============================] - 0s 9ms/step - loss: 0.2494 - acc: 0.9032 - val_loss: 85.2242 - val_acc: 0.1111\n",
            "Epoch 23/50\n",
            "4/4 [==============================] - 0s 9ms/step - loss: 0.2333 - acc: 0.8952 - val_loss: 85.2936 - val_acc: 0.1111\n",
            "Epoch 24/50\n",
            "4/4 [==============================] - 0s 10ms/step - loss: 0.2406 - acc: 0.9032 - val_loss: 85.2686 - val_acc: 0.1111\n",
            "Epoch 25/50\n",
            "4/4 [==============================] - 0s 9ms/step - loss: 0.2594 - acc: 0.8871 - val_loss: 85.2778 - val_acc: 0.1111\n",
            "Epoch 26/50\n",
            "4/4 [==============================] - 0s 8ms/step - loss: 0.2802 - acc: 0.8871 - val_loss: 85.2615 - val_acc: 0.1111\n",
            "Epoch 27/50\n",
            "4/4 [==============================] - 0s 9ms/step - loss: 0.2732 - acc: 0.8790 - val_loss: 85.2610 - val_acc: 0.1111\n",
            "Epoch 28/50\n",
            "4/4 [==============================] - 0s 9ms/step - loss: 0.3175 - acc: 0.8871 - val_loss: 85.2607 - val_acc: 0.1111\n",
            "Epoch 29/50\n",
            "4/4 [==============================] - 0s 13ms/step - loss: 0.3396 - acc: 0.8548 - val_loss: 85.2888 - val_acc: 0.1111\n",
            "Epoch 30/50\n",
            "4/4 [==============================] - 0s 9ms/step - loss: 0.3503 - acc: 0.8952 - val_loss: 85.2845 - val_acc: 0.0926\n",
            "Epoch 31/50\n",
            "4/4 [==============================] - 0s 10ms/step - loss: 0.3767 - acc: 0.8548 - val_loss: 85.3539 - val_acc: 0.1111\n",
            "Epoch 32/50\n",
            "4/4 [==============================] - 0s 11ms/step - loss: 0.3308 - acc: 0.9032 - val_loss: 85.3112 - val_acc: 0.0926\n",
            "Epoch 33/50\n",
            "4/4 [==============================] - 0s 9ms/step - loss: 0.3390 - acc: 0.8548 - val_loss: 85.2755 - val_acc: 0.1111\n",
            "Epoch 34/50\n",
            "4/4 [==============================] - 0s 10ms/step - loss: 0.2402 - acc: 0.9032 - val_loss: 85.2429 - val_acc: 0.1111\n",
            "Epoch 35/50\n",
            "4/4 [==============================] - 0s 11ms/step - loss: 0.2315 - acc: 0.9032 - val_loss: 85.2327 - val_acc: 0.1111\n",
            "Epoch 36/50\n",
            "4/4 [==============================] - 0s 10ms/step - loss: 0.2150 - acc: 0.9032 - val_loss: 85.2302 - val_acc: 0.1111\n",
            "Epoch 37/50\n",
            "4/4 [==============================] - 0s 10ms/step - loss: 0.2163 - acc: 0.9032 - val_loss: 85.2398 - val_acc: 0.1111\n",
            "Epoch 38/50\n",
            "4/4 [==============================] - 0s 10ms/step - loss: 0.2147 - acc: 0.9194 - val_loss: 85.2333 - val_acc: 0.1111\n",
            "Epoch 39/50\n",
            "4/4 [==============================] - 0s 12ms/step - loss: 0.2144 - acc: 0.9194 - val_loss: 85.2159 - val_acc: 0.1111\n",
            "Epoch 40/50\n",
            "4/4 [==============================] - 0s 9ms/step - loss: 0.2102 - acc: 0.9032 - val_loss: 85.2586 - val_acc: 0.1111\n",
            "Epoch 41/50\n",
            "4/4 [==============================] - 0s 14ms/step - loss: 0.2522 - acc: 0.9032 - val_loss: 85.2341 - val_acc: 0.1111\n",
            "Epoch 42/50\n",
            "4/4 [==============================] - 0s 9ms/step - loss: 0.2769 - acc: 0.8952 - val_loss: 85.2138 - val_acc: 0.1111\n",
            "Epoch 43/50\n",
            "4/4 [==============================] - 0s 9ms/step - loss: 0.2953 - acc: 0.8629 - val_loss: 85.2929 - val_acc: 0.1111\n",
            "Epoch 44/50\n",
            "4/4 [==============================] - 0s 10ms/step - loss: 0.2455 - acc: 0.9113 - val_loss: 85.2324 - val_acc: 0.1111\n",
            "Epoch 45/50\n",
            "4/4 [==============================] - 0s 9ms/step - loss: 0.2553 - acc: 0.8952 - val_loss: 85.3395 - val_acc: 0.1111\n",
            "Epoch 46/50\n",
            "4/4 [==============================] - 0s 13ms/step - loss: 0.2718 - acc: 0.9032 - val_loss: 85.2272 - val_acc: 0.1111\n",
            "Epoch 47/50\n",
            "4/4 [==============================] - 0s 11ms/step - loss: 0.2202 - acc: 0.9032 - val_loss: 85.2929 - val_acc: 0.1111\n",
            "Epoch 48/50\n",
            "4/4 [==============================] - 0s 12ms/step - loss: 0.2507 - acc: 0.8871 - val_loss: 85.3058 - val_acc: 0.0926\n",
            "Epoch 49/50\n",
            "4/4 [==============================] - 0s 11ms/step - loss: 0.2605 - acc: 0.8952 - val_loss: 85.3099 - val_acc: 0.1111\n",
            "Epoch 50/50\n",
            "4/4 [==============================] - 0s 11ms/step - loss: 0.2033 - acc: 0.8952 - val_loss: 85.2963 - val_acc: 0.0926\n"
          ],
          "name": "stdout"
        },
        {
          "output_type": "execute_result",
          "data": {
            "text/plain": [
              "<tensorflow.python.keras.callbacks.History at 0x7f659119f7d0>"
            ]
          },
          "metadata": {
            "tags": []
          },
          "execution_count": 11
        }
      ]
    },
    {
      "cell_type": "markdown",
      "metadata": {
        "id": "hGEV7G15kcBS"
      },
      "source": [
        "# Evaluation"
      ]
    },
    {
      "cell_type": "code",
      "metadata": {
        "colab": {
          "base_uri": "https://localhost:8080/"
        },
        "id": "heMw5D0bjt26",
        "outputId": "d3822115-d8af-4cd8-815e-5b350fe37556"
      },
      "source": [
        "model.evaluate(x_data, y_data)"
      ],
      "execution_count": 12,
      "outputs": [
        {
          "output_type": "stream",
          "text": [
            "6/6 [==============================] - 0s 3ms/step - loss: 26.0794 - acc: 0.6348\n"
          ],
          "name": "stdout"
        },
        {
          "output_type": "execute_result",
          "data": {
            "text/plain": [
              "[26.079370498657227, 0.6348314881324768]"
            ]
          },
          "metadata": {
            "tags": []
          },
          "execution_count": 12
        }
      ]
    },
    {
      "cell_type": "markdown",
      "metadata": {
        "id": "-Qvd7xyckfL-"
      },
      "source": [
        "# Service"
      ]
    },
    {
      "cell_type": "code",
      "metadata": {
        "colab": {
          "base_uri": "https://localhost:8080/"
        },
        "id": "YNF9lpGGjvch",
        "outputId": "f6c0d434-ffba-4a85-aa6c-d9e9c211f553"
      },
      "source": [
        "x_data[25], y_data[25]"
      ],
      "execution_count": 13,
      "outputs": [
        {
          "output_type": "execute_result",
          "data": {
            "text/plain": [
              "(array([1.305e+01, 2.050e+00, 3.220e+00, 2.500e+01, 1.240e+02, 2.630e+00,\n",
              "        2.680e+00, 4.700e-01, 1.920e+00, 3.580e+00, 1.130e+00, 3.200e+00,\n",
              "        8.300e+02]), 0)"
            ]
          },
          "metadata": {
            "tags": []
          },
          "execution_count": 13
        }
      ]
    },
    {
      "cell_type": "code",
      "metadata": {
        "colab": {
          "base_uri": "https://localhost:8080/"
        },
        "id": "36ahbtI0jxbn",
        "outputId": "f80356b9-efc7-4dde-ccc5-f7361bd76cac"
      },
      "source": [
        "pred = model.predict([[1.305e+01, 2.050e+00, 3.220e+00, 2.500e+01, 1.240e+02, 2.630e+00,\n",
        "        2.680e+00, 4.700e-01, 1.920e+00, 3.580e+00, 1.130e+00, 3.200e+00,\n",
        "        8.300e+02]])\n",
        "pred"
      ],
      "execution_count": 14,
      "outputs": [
        {
          "output_type": "execute_result",
          "data": {
            "text/plain": [
              "array([[5.725734e-01, 4.274266e-01, 0.000000e+00, 0.000000e+00,\n",
              "        0.000000e+00, 0.000000e+00, 0.000000e+00, 0.000000e+00,\n",
              "        0.000000e+00, 0.000000e+00, 0.000000e+00, 0.000000e+00,\n",
              "        1.517721e-35]], dtype=float32)"
            ]
          },
          "metadata": {
            "tags": []
          },
          "execution_count": 14
        }
      ]
    },
    {
      "cell_type": "code",
      "metadata": {
        "colab": {
          "base_uri": "https://localhost:8080/"
        },
        "id": "UoC8SpKpjx94",
        "outputId": "0f3953f6-beae-4438-db7d-d46a853d48f2"
      },
      "source": [
        "import numpy as np\n",
        "\n",
        "np.argmax(pred)"
      ],
      "execution_count": 15,
      "outputs": [
        {
          "output_type": "execute_result",
          "data": {
            "text/plain": [
              "0"
            ]
          },
          "metadata": {
            "tags": []
          },
          "execution_count": 15
        }
      ]
    },
    {
      "cell_type": "code",
      "metadata": {
        "id": "XX3JUQgUlU-j"
      },
      "source": [
        ""
      ],
      "execution_count": 15,
      "outputs": []
    },
    {
      "cell_type": "code",
      "metadata": {
        "id": "f_mAFQk3kHiR"
      },
      "source": [
        ""
      ],
      "execution_count": 15,
      "outputs": []
    }
  ]
}