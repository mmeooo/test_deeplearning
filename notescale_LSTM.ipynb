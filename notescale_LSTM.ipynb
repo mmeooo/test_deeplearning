{
  "nbformat": 4,
  "nbformat_minor": 0,
  "metadata": {
    "colab": {
      "name": "notescale_LSTM.ipynb",
      "provenance": [],
      "collapsed_sections": [],
      "authorship_tag": "ABX9TyM8OWtuMJ8txDC/hBxZ+DZa"
    },
    "kernelspec": {
      "name": "python3",
      "display_name": "Python 3"
    },
    "language_info": {
      "name": "python"
    }
  },
  "cells": [
    {
      "cell_type": "code",
      "metadata": {
        "id": "g8ioMgqylGzR"
      },
      "source": [
        "# '나비야' 악보 계명\n",
        "\n",
        "note_seq = ['g8', 'e8', 'e4', 'f8', 'd8', 'd4', 'c8', 'd8', 'e8', 'f8', 'g8', 'g8', 'g4',\n",
        "       'g8', 'e8', 'e8', 'e8', 'f8', 'd8', 'd4', 'c8', 'e8', 'g8', 'g8', 'e8', 'e8', 'e4',\n",
        "       'd8', 'd8', 'd8', 'd8', 'd8', 'e8', 'f4', 'e8', 'e8', 'e8', 'e8', 'e8', 'f8', 'g4',\n",
        "       'g8', 'e8', 'e4', 'f8', 'd8', 'd4', 'c8', 'e8', 'g8', 'g8', 'e8', 'e8', 'e4']"
      ],
      "execution_count": 1,
      "outputs": []
    },
    {
      "cell_type": "code",
      "metadata": {
        "id": "mnz-5UpelUI0"
      },
      "source": [
        "# 악보 사전 (딕셔너리)\n",
        "\n",
        "code2idx = {'c4':0, 'd4':1, 'e4':2, 'f4':3, 'g4':4, 'a4':5, 'b4':6,\n",
        "            'c8':7, 'd8':8, 'e8':9, 'f8':10, 'g8':11, 'a8':12, 'b8':13}"
      ],
      "execution_count": 2,
      "outputs": []
    },
    {
      "cell_type": "code",
      "metadata": {
        "colab": {
          "base_uri": "https://localhost:8080/"
        },
        "id": "8s_gIQF8oYL7",
        "outputId": "33872906-59ee-48ba-c789-d6fbbbef0789"
      },
      "source": [
        "note_seq[0:4], note_seq[1:5], note_seq[2:6]"
      ],
      "execution_count": 3,
      "outputs": [
        {
          "output_type": "execute_result",
          "data": {
            "text/plain": [
              "(['g8', 'e8', 'e4', 'f8'], ['e8', 'e4', 'f8', 'd8'], ['e4', 'f8', 'd8', 'd4'])"
            ]
          },
          "metadata": {
            "tags": []
          },
          "execution_count": 3
        }
      ]
    },
    {
      "cell_type": "markdown",
      "metadata": {
        "id": "R-RktZCqXjj-"
      },
      "source": [
        "# Data preprocessing"
      ]
    },
    {
      "cell_type": "code",
      "metadata": {
        "colab": {
          "base_uri": "https://localhost:8080/"
        },
        "id": "QIa6bV5ulic7",
        "outputId": "6ef5bad0-7015-4eb8-e36f-50d3ce22940d"
      },
      "source": [
        "range(len(note_seq)-4)  # 4개씩 묶기 위해 50까지 출력"
      ],
      "execution_count": 4,
      "outputs": [
        {
          "output_type": "execute_result",
          "data": {
            "text/plain": [
              "range(0, 50)"
            ]
          },
          "metadata": {
            "tags": []
          },
          "execution_count": 4
        }
      ]
    },
    {
      "cell_type": "code",
      "metadata": {
        "id": "301EX2-dngs6",
        "colab": {
          "base_uri": "https://localhost:8080/"
        },
        "outputId": "34becb5a-92b4-4074-f61d-27084e4b0957"
      },
      "source": [
        "dataset = list()\n",
        "for i in range(len(note_seq)-4):\n",
        "  subset = note_seq[i:i+4]  # [g8, e8,,,]\n",
        "  items  = list()\n",
        "\n",
        "  for item in subset:\n",
        "    items.append(code2idx[item])  # item은 key값, code2index[item]는 value값(숫자)\n",
        "  \n",
        "  dataset.append(items)\n",
        "print(dataset)"
      ],
      "execution_count": 5,
      "outputs": [
        {
          "output_type": "stream",
          "text": [
            "[[11, 9, 2, 10], [9, 2, 10, 8], [2, 10, 8, 1], [10, 8, 1, 7], [8, 1, 7, 8], [1, 7, 8, 9], [7, 8, 9, 10], [8, 9, 10, 11], [9, 10, 11, 11], [10, 11, 11, 4], [11, 11, 4, 11], [11, 4, 11, 9], [4, 11, 9, 9], [11, 9, 9, 9], [9, 9, 9, 10], [9, 9, 10, 8], [9, 10, 8, 1], [10, 8, 1, 7], [8, 1, 7, 9], [1, 7, 9, 11], [7, 9, 11, 11], [9, 11, 11, 9], [11, 11, 9, 9], [11, 9, 9, 2], [9, 9, 2, 8], [9, 2, 8, 8], [2, 8, 8, 8], [8, 8, 8, 8], [8, 8, 8, 8], [8, 8, 8, 9], [8, 8, 9, 3], [8, 9, 3, 9], [9, 3, 9, 9], [3, 9, 9, 9], [9, 9, 9, 9], [9, 9, 9, 9], [9, 9, 9, 10], [9, 9, 10, 4], [9, 10, 4, 11], [10, 4, 11, 9], [4, 11, 9, 2], [11, 9, 2, 10], [9, 2, 10, 8], [2, 10, 8, 1], [10, 8, 1, 7], [8, 1, 7, 9], [1, 7, 9, 11], [7, 9, 11, 11], [9, 11, 11, 9], [11, 11, 9, 9]]\n"
          ],
          "name": "stdout"
        }
      ]
    },
    {
      "cell_type": "code",
      "metadata": {
        "id": "ofqcM056V0VH"
      },
      "source": [
        "import numpy as np\n",
        "\n",
        "datasets = np.array(dataset)"
      ],
      "execution_count": 6,
      "outputs": []
    },
    {
      "cell_type": "code",
      "metadata": {
        "id": "52sAFfguqLZ_",
        "colab": {
          "base_uri": "https://localhost:8080/"
        },
        "outputId": "7f5b97b0-2261-445f-8e73-747e3967254f"
      },
      "source": [
        "x_train = datasets[:, 0:3] # 1행에 3열씩 데이터 나눔\n",
        "x_train.shape"
      ],
      "execution_count": 7,
      "outputs": [
        {
          "output_type": "execute_result",
          "data": {
            "text/plain": [
              "(50, 3)"
            ]
          },
          "metadata": {
            "tags": []
          },
          "execution_count": 7
        }
      ]
    },
    {
      "cell_type": "code",
      "metadata": {
        "colab": {
          "base_uri": "https://localhost:8080/"
        },
        "id": "Vr3qfJ57WArX",
        "outputId": "fe76be43-277f-4ddf-9bff-181c7b026e61"
      },
      "source": [
        "y_train =  datasets[:,3] # dataset의 인덱스3 값만 뽑음\n",
        "y_train.shape"
      ],
      "execution_count": 8,
      "outputs": [
        {
          "output_type": "execute_result",
          "data": {
            "text/plain": [
              "(50,)"
            ]
          },
          "metadata": {
            "tags": []
          },
          "execution_count": 8
        }
      ]
    },
    {
      "cell_type": "code",
      "metadata": {
        "colab": {
          "base_uri": "https://localhost:8080/"
        },
        "id": "zh-4WGnFWUyV",
        "outputId": "c24fdd48-f697-4f80-8783-4f4bc7736482"
      },
      "source": [
        "# 정규화: code2idx의 max값으로 나눔\n",
        "\n",
        "x_train = x_train / 13\n",
        "x_train[3]"
      ],
      "execution_count": 9,
      "outputs": [
        {
          "output_type": "execute_result",
          "data": {
            "text/plain": [
              "array([0.76923077, 0.61538462, 0.07692308])"
            ]
          },
          "metadata": {
            "tags": []
          },
          "execution_count": 9
        }
      ]
    },
    {
      "cell_type": "markdown",
      "metadata": {
        "id": "Fd3wGSIbXmuB"
      },
      "source": [
        "# Make model"
      ]
    },
    {
      "cell_type": "code",
      "metadata": {
        "id": "ln6humQrXaOo"
      },
      "source": [
        "import tensorflow as tf"
      ],
      "execution_count": 10,
      "outputs": []
    },
    {
      "cell_type": "code",
      "metadata": {
        "colab": {
          "base_uri": "https://localhost:8080/"
        },
        "id": "YBGTxFQ3Y_4H",
        "outputId": "60093396-baa6-49dc-8a28-e8d993d576a8"
      },
      "source": [
        "x_train.shape  # Input size= 3 (컬럼 개수)\n",
        "x_train[2]"
      ],
      "execution_count": 11,
      "outputs": [
        {
          "output_type": "execute_result",
          "data": {
            "text/plain": [
              "array([0.15384615, 0.76923077, 0.61538462])"
            ]
          },
          "metadata": {
            "tags": []
          },
          "execution_count": 11
        }
      ]
    },
    {
      "cell_type": "code",
      "metadata": {
        "colab": {
          "base_uri": "https://localhost:8080/"
        },
        "id": "VOIubet-d5z7",
        "outputId": "1e019e8c-b6e9-4eb5-e3c0-21d1f2fb4c20"
      },
      "source": [
        "# numpy 배열(1차원 scaler) -> tensorflow type(matrix) 으로 바꾸기\n",
        "\n",
        "x_train = np.reshape(x_train, (50, 3, 1))\n",
        "x_train.shape, x_train[2]"
      ],
      "execution_count": 12,
      "outputs": [
        {
          "output_type": "execute_result",
          "data": {
            "text/plain": [
              "((50, 3, 1), array([[0.15384615],\n",
              "        [0.76923077],\n",
              "        [0.61538462]]))"
            ]
          },
          "metadata": {
            "tags": []
          },
          "execution_count": 12
        }
      ]
    },
    {
      "cell_type": "code",
      "metadata": {
        "colab": {
          "base_uri": "https://localhost:8080/"
        },
        "id": "6_V_UPTmglJv",
        "outputId": "3e5cdd80-9632-438f-a44f-062e914e533b"
      },
      "source": [
        "np.unique(y_train)  # y_train은 9개지만 code2idx는 총 13개임"
      ],
      "execution_count": 13,
      "outputs": [
        {
          "output_type": "execute_result",
          "data": {
            "text/plain": [
              "array([ 1,  2,  3,  4,  7,  8,  9, 10, 11])"
            ]
          },
          "metadata": {
            "tags": []
          },
          "execution_count": 13
        }
      ]
    },
    {
      "cell_type": "code",
      "metadata": {
        "colab": {
          "base_uri": "https://localhost:8080/"
        },
        "id": "9A3jzvFCX1AE",
        "outputId": "af8113f1-6657-43ca-9dbe-ad7c4f652c37"
      },
      "source": [
        "model = tf.keras.Sequential()\n",
        "\n",
        "# Input Layer \n",
        "model.add(tf.keras.layers.Input(shape=(3,1)))\n",
        "# 값을 그대로 쓰는거라 embedding 할 필요 없음\n",
        "# (batch_size, timesteps, input_dim) -> (rows, cols, 1)\n",
        "# **kwargs-> dict, *kwargs-> list\n",
        "\n",
        "# Hidden Layer\n",
        "model.add(tf.keras.layers.LSTM(128))\n",
        "\n",
        "# Output Layer\n",
        "model.add(tf.keras.layers.Dense(13, activation='softmax'))\n",
        "\n",
        "# Gadget\n",
        "model.compile(optimizer='adam', loss='sparse_categorical_crossentropy', metrics=['accuracy'])\n",
        "# onehot-encoding 안 함 -> sparse_categorical_crossentropy\n",
        "# onehot-encoding 함 -> categorical_crossentropy"
      ],
      "execution_count": 21,
      "outputs": [
        {
          "output_type": "stream",
          "text": [
            "WARNING:tensorflow:Please add `keras.layers.InputLayer` instead of `keras.Input` to Sequential model. `keras.Input` is intended to be used by Functional model.\n"
          ],
          "name": "stdout"
        }
      ]
    },
    {
      "cell_type": "code",
      "metadata": {
        "colab": {
          "base_uri": "https://localhost:8080/"
        },
        "id": "v6Yabi9mhiPc",
        "outputId": "b675abc5-c684-41c2-8616-1510f67b4b6f"
      },
      "source": [
        "hist = model.fit(x_train, y_train, epochs=2, batch_size=5)\n",
        "\n",
        "# batch_size= 5 -> step size= 50/5= 10 "
      ],
      "execution_count": 23,
      "outputs": [
        {
          "output_type": "stream",
          "text": [
            "Epoch 1/2\n",
            "10/10 [==============================] - 1s 5ms/step - loss: 1.9545 - accuracy: 0.3400\n",
            "Epoch 2/2\n",
            "10/10 [==============================] - 0s 4ms/step - loss: 1.9350 - accuracy: 0.3400\n"
          ],
          "name": "stdout"
        }
      ]
    },
    {
      "cell_type": "code",
      "metadata": {
        "colab": {
          "base_uri": "https://localhost:8080/"
        },
        "id": "yuw6Z2ioj1i1",
        "outputId": "922ecc2f-588e-4378-d5ce-2c9c266091db"
      },
      "source": [
        "model.evaluate(x_train, y_train)"
      ],
      "execution_count": 24,
      "outputs": [
        {
          "output_type": "stream",
          "text": [
            "2/2 [==============================] - 0s 8ms/step - loss: 1.9245 - accuracy: 0.3400\n"
          ],
          "name": "stdout"
        },
        {
          "output_type": "execute_result",
          "data": {
            "text/plain": [
              "[1.9244716167449951, 0.3400000035762787]"
            ]
          },
          "metadata": {
            "tags": []
          },
          "execution_count": 24
        }
      ]
    },
    {
      "cell_type": "code",
      "metadata": {
        "colab": {
          "base_uri": "https://localhost:8080/"
        },
        "id": "AHm3WiBSixl6",
        "outputId": "29aba534-e5ae-4589-facb-558dbe592b3a"
      },
      "source": [
        "model.predict(x_train[4:5])"
      ],
      "execution_count": 25,
      "outputs": [
        {
          "output_type": "execute_result",
          "data": {
            "text/plain": [
              "array([[0.01444732, 0.06480119, 0.04733744, 0.03719016, 0.05983469,\n",
              "        0.01568867, 0.01231526, 0.07001479, 0.15300915, 0.2642447 ,\n",
              "        0.09617189, 0.14931981, 0.01562486]], dtype=float32)"
            ]
          },
          "metadata": {
            "tags": []
          },
          "execution_count": 25
        }
      ]
    },
    {
      "cell_type": "code",
      "metadata": {
        "id": "GgnqvnyjmdId"
      },
      "source": [
        ""
      ],
      "execution_count": null,
      "outputs": []
    }
  ]
}