{
  "nbformat": 4,
  "nbformat_minor": 0,
  "metadata": {
    "colab": {
      "name": "wordcloud_TFIDF.ipynb",
      "provenance": [],
      "collapsed_sections": [],
      "authorship_tag": "ABX9TyOP92ulfeK1jWeRr1bpuBJw"
    },
    "kernelspec": {
      "name": "python3",
      "display_name": "Python 3"
    },
    "language_info": {
      "name": "python"
    }
  },
  "cells": [
    {
      "cell_type": "markdown",
      "metadata": {
        "id": "tXsgiMGnq4yv"
      },
      "source": [
        "## Data load"
      ]
    },
    {
      "cell_type": "code",
      "metadata": {
        "id": "LBr4cmJcBWO0"
      },
      "source": [
        "import pandas as pd"
      ],
      "execution_count": null,
      "outputs": []
    },
    {
      "cell_type": "code",
      "metadata": {
        "id": "yfCUCHZrBkdV"
      },
      "source": [
        "df = pd.read_csv('smtph_total.csv')\n",
        "df.head(5)"
      ],
      "execution_count": null,
      "outputs": []
    },
    {
      "cell_type": "code",
      "metadata": {
        "colab": {
          "base_uri": "https://localhost:8080/"
        },
        "id": "U3b_ItpPCPs6",
        "outputId": "ac40eb02-652b-4363-bc70-e076e47d56e9"
      },
      "source": [
        "df.columns"
      ],
      "execution_count": null,
      "outputs": [
        {
          "output_type": "execute_result",
          "data": {
            "text/plain": [
              "Index(['Title', 'Link', 'Description', 'Blogger Name', 'Blogger Link',\n",
              "       'Post Date', 'Post Contents'],\n",
              "      dtype='object')"
            ]
          },
          "metadata": {},
          "execution_count": 3
        }
      ]
    },
    {
      "cell_type": "code",
      "metadata": {
        "colab": {
          "base_uri": "https://localhost:8080/"
        },
        "id": "ojYaO3WCCRI2",
        "outputId": "e2c37270-1f7c-4129-dcb0-65af67064262"
      },
      "source": [
        "posts = df['Title']+['Description']\n",
        "type(posts)"
      ],
      "execution_count": null,
      "outputs": [
        {
          "output_type": "execute_result",
          "data": {
            "text/plain": [
              "pandas.core.series.Series"
            ]
          },
          "metadata": {},
          "execution_count": 4
        }
      ]
    },
    {
      "cell_type": "markdown",
      "metadata": {
        "id": "uwo2vXbUq7CY"
      },
      "source": [
        "## 단어 쪼개기"
      ]
    },
    {
      "cell_type": "code",
      "metadata": {
        "colab": {
          "base_uri": "https://localhost:8080/"
        },
        "id": "E0_76jrlCWsR",
        "outputId": "c96261cc-e2b9-442d-d982-d95fa736fa42"
      },
      "source": [
        "!python3 -m pip install konlpy"
      ],
      "execution_count": null,
      "outputs": [
        {
          "output_type": "stream",
          "text": [
            "Collecting konlpy\n",
            "  Downloading konlpy-0.5.2-py2.py3-none-any.whl (19.4 MB)\n",
            "\u001b[K     |████████████████████████████████| 19.4 MB 124 kB/s \n",
            "\u001b[?25hRequirement already satisfied: numpy>=1.6 in /usr/local/lib/python3.7/dist-packages (from konlpy) (1.19.5)\n",
            "Collecting beautifulsoup4==4.6.0\n",
            "  Downloading beautifulsoup4-4.6.0-py3-none-any.whl (86 kB)\n",
            "\u001b[K     |████████████████████████████████| 86 kB 6.7 MB/s \n",
            "\u001b[?25hCollecting JPype1>=0.7.0\n",
            "  Downloading JPype1-1.3.0-cp37-cp37m-manylinux_2_5_x86_64.manylinux1_x86_64.whl (448 kB)\n",
            "\u001b[K     |████████████████████████████████| 448 kB 62.4 MB/s \n",
            "\u001b[?25hCollecting colorama\n",
            "  Downloading colorama-0.4.4-py2.py3-none-any.whl (16 kB)\n",
            "Requirement already satisfied: tweepy>=3.7.0 in /usr/local/lib/python3.7/dist-packages (from konlpy) (3.10.0)\n",
            "Requirement already satisfied: lxml>=4.1.0 in /usr/local/lib/python3.7/dist-packages (from konlpy) (4.2.6)\n",
            "Requirement already satisfied: typing-extensions in /usr/local/lib/python3.7/dist-packages (from JPype1>=0.7.0->konlpy) (3.7.4.3)\n",
            "Requirement already satisfied: requests-oauthlib>=0.7.0 in /usr/local/lib/python3.7/dist-packages (from tweepy>=3.7.0->konlpy) (1.3.0)\n",
            "Requirement already satisfied: requests[socks]>=2.11.1 in /usr/local/lib/python3.7/dist-packages (from tweepy>=3.7.0->konlpy) (2.23.0)\n",
            "Requirement already satisfied: six>=1.10.0 in /usr/local/lib/python3.7/dist-packages (from tweepy>=3.7.0->konlpy) (1.15.0)\n",
            "Requirement already satisfied: oauthlib>=3.0.0 in /usr/local/lib/python3.7/dist-packages (from requests-oauthlib>=0.7.0->tweepy>=3.7.0->konlpy) (3.1.1)\n",
            "Requirement already satisfied: certifi>=2017.4.17 in /usr/local/lib/python3.7/dist-packages (from requests[socks]>=2.11.1->tweepy>=3.7.0->konlpy) (2021.5.30)\n",
            "Requirement already satisfied: urllib3!=1.25.0,!=1.25.1,<1.26,>=1.21.1 in /usr/local/lib/python3.7/dist-packages (from requests[socks]>=2.11.1->tweepy>=3.7.0->konlpy) (1.24.3)\n",
            "Requirement already satisfied: idna<3,>=2.5 in /usr/local/lib/python3.7/dist-packages (from requests[socks]>=2.11.1->tweepy>=3.7.0->konlpy) (2.10)\n",
            "Requirement already satisfied: chardet<4,>=3.0.2 in /usr/local/lib/python3.7/dist-packages (from requests[socks]>=2.11.1->tweepy>=3.7.0->konlpy) (3.0.4)\n",
            "Requirement already satisfied: PySocks!=1.5.7,>=1.5.6 in /usr/local/lib/python3.7/dist-packages (from requests[socks]>=2.11.1->tweepy>=3.7.0->konlpy) (1.7.1)\n",
            "Installing collected packages: JPype1, colorama, beautifulsoup4, konlpy\n",
            "  Attempting uninstall: beautifulsoup4\n",
            "    Found existing installation: beautifulsoup4 4.6.3\n",
            "    Uninstalling beautifulsoup4-4.6.3:\n",
            "      Successfully uninstalled beautifulsoup4-4.6.3\n",
            "Successfully installed JPype1-1.3.0 beautifulsoup4-4.6.0 colorama-0.4.4 konlpy-0.5.2\n"
          ],
          "name": "stdout"
        }
      ]
    },
    {
      "cell_type": "code",
      "metadata": {
        "id": "Cgt08-qyCwFa"
      },
      "source": [
        "from konlpy.tag import Okt\n",
        "tagger = Okt()"
      ],
      "execution_count": null,
      "outputs": []
    },
    {
      "cell_type": "code",
      "metadata": {
        "id": "nuM7jLPtETHs"
      },
      "source": [
        "stop_words = ['강,', '글,', '애', '미', '번', '은', '이', '것', '등', '더', '를', '좀', '즉', '인', '옹', '때', '만', '원', '이때', '개']"
      ],
      "execution_count": null,
      "outputs": []
    },
    {
      "cell_type": "code",
      "metadata": {
        "colab": {
          "base_uri": "https://localhost:8080/"
        },
        "id": "KcN2jcckDW0V",
        "outputId": "1910a532-97e4-4000-e5f2-1422c93df7d4"
      },
      "source": [
        "posts_noun = []\n",
        "for post in posts:\n",
        "  # print(tagger.nouns(post))  # 명사 단위로 출력\n",
        "  for noun in tagger.nouns(post):\n",
        "    posts_noun.append(noun)\n",
        "\n",
        "len(posts_noun)"
      ],
      "execution_count": null,
      "outputs": [
        {
          "output_type": "execute_result",
          "data": {
            "text/plain": [
              "6083"
            ]
          },
          "metadata": {},
          "execution_count": 15
        }
      ]
    },
    {
      "cell_type": "code",
      "metadata": {
        "id": "o-mLs9byD5m_"
      },
      "source": [
        "from collections import Counter"
      ],
      "execution_count": null,
      "outputs": []
    },
    {
      "cell_type": "code",
      "metadata": {
        "colab": {
          "base_uri": "https://localhost:8080/"
        },
        "id": "tA5ucdduWOEh",
        "outputId": "a25e5206-9853-4bb2-99bd-f8cfd62e7d16"
      },
      "source": [
        "noun_counter = Counter(posts_noun)\n",
        "print(noun_counter)"
      ],
      "execution_count": null,
      "outputs": [
        {
          "output_type": "stream",
          "text": [
            "Counter({'스마트폰': 1021, '갤럭시': 104, '삼성': 80, '스펙': 73, '사용': 71, '강의': 71, '강': 70, '동영상': 67, '제작': 66, '카메라': 61, '방법': 60, '유튜브': 60, '위': 55, '출시': 46, '사진': 42, '가격': 38, '앱': 37, '삼각대': 35, '폰': 34, '안드로이드': 34, '보급': 34, '샤오미': 32, '거치': 31, '활용': 29, '후기': 27, '용': 26, '중독': 24, '법': 23, '촬영': 22, '게이': 22, '밍': 22, '비': 21, '정리': 20, '의': 20, '추천': 19, '디자인': 19, '전자': 19, '가성': 19, '센터': 18, '중': 18, '짐벌': 17, '구글': 17, '시장': 17, '키': 16, '로': 16, '마케팅': 16, '콘텐츠': 16, '화웨이': 16, '아이': 15, '기': 15, '보기': 15, '탑재': 14, '안': 14, '애플': 14, '최고': 14, '플러스': 14, '전략': 14, '무선': 13, '확인': 13, '연결': 13, '수': 13, '내': 13, '프로': 13, '벨벳': 13, '모바일': 13, '핸드폰': 12, '이유': 12, '충전': 12, '배터리': 12, '손': 12, '보드': 12, '디스플레이': 12, '첫': 12, '발표': 12, '개봉': 11, '컨셉': 11, '예방': 11, '세계': 11, '편집': 11, '사용자': 11, '상품': 11, '아이폰': 10, '휴대폰': 10, '용량': 10, '관리': 10, '수명': 10, '우리': 10, '태블릿': 10, '페이': 10, '블랙베리': 10, '공개': 10, '하반기': 10, '특징': 10, '걱정': 9, '스몸비': 9, '격': 9, '블': 9, '과': 9, '스마트': 9, '컴퓨터': 9, '인터넷': 9, '교육': 9, '정보': 9, '구매': 9, '중국': 9, '윙': 9, '스': 9, '보장': 9, '프리미엄': 9, '에너자이저': 9, '중고': 9, '리뷰': 8, '케이스': 8, '노트': 8, '모두': 8, '롤러': 8, '의존': 8, '레드': 8, '서비스': 8, '파일': 8, '및': 8, '공유': 8, '링': 8, '인': 8, '문자': 8, '게임': 8, '케어': 8, '파손': 8, '홀': 8, '비밀번호': 8, '레이저': 8, '노치': 8, '형': 8, '주요': 8, '비교': 7, '기능': 7, '셀카': 7, '봉': 7, '셔터': 7, '설치': 7, '차량': 7, '해킹': 7, '국내': 7, '렌즈': 7, '노키아': 7, '안전': 7, '라이트': 7, '보안': 7, '노트북': 7, '미러리스': 7, '초': 7, '만들기': 7, '전송': 7, '영화': 7, '야경': 7, '배경화면': 7, '에이수스': 7, '오즈': 7, '모': 7, '페어': 7, '큐': 7, '블랙': 7, '공부': 6, '다음': 6, '폴': 6, '더블': 6, '너': 6, '울트라': 6, '스탠드': 6, '미러링': 6, '용기': 6, '좀비': 6, '충전기': 6, '가방': 6, '나': 6, '화면': 6, '점유': 6, '율': 6, '오포': 6, '와이파이': 6, '홍': 6, '비보': 6, '최초': 6, '때': 6, '구입': 6, '인치': 6, '스위치': 6, '모드': 6, '데이터': 6, '이용': 6, '무료': 6, '제어': 6, '미래': 6, '저가': 6, '바닥': 6, '신호등': 6, '왜': 6, '학습': 6, '를': 6, '기술': 6, '그': 6, '화상회의': 6, '심리상담': 6, '리스트': 6, '대박': 6, '순위': 6, '접속': 6, '보상': 6, '시도': 6, '출시일': 6, '패스': 5, '연동': 5, '설정': 5, '기본': 5, '관련': 5, '성능': 5, '윈도우': 5, '블루투스': 5, '온라인': 5, '방수': 5, '팩': 5, '땐': 5, '자녀': 5, '신청': 5, '올해': 5, '청소년': 5, '웹캠': 5, '라이카': 5, '아동': 5, '개발': 5, '미니': 5, '교체': 5, '장': 5, '캠': 5, '혜택': 5, '화': 5, '소니': 5, '뭐': 5, '색상': 5, '실속': 5, '인류': 5, '통화': 5, '녹음': 5, '인기': 5, '검색': 5, '파인드': 5, '가지': 5, '방탄소년단': 5, '베젤': 5, '리스': 5, '운전': 5, '직구': 5, '퓨어': 5, '뷰': 5, '샌드': 5, '애니': 5, '웨어': 5, '조례': 5, '난관': 5, '플립': 4, '다이소': 4, '시간': 4, '톡': 4, '무엇': 4, '시동': 4, '브이': 4, '로그': 4, '핀': 4, '마이크': 4, '여행': 4, '다른': 4, '어르신': 4, '클리': 4, '온': 4, '집': 4, '제': 4, '이': 4, '케이블': 4, '구형': 4, '치유': 4, '북한': 4, '굿': 4, '카툭': 4, '간단': 4, '영상': 4, '모토로라': 4, '션': 4, '특강': 4, '습관': 4, '특허': 4, '탭': 4, '살균': 4, '팁': 4, '칙': 4, '유리': 4, '개월': 4, '요': 4, '쿨러': 4, '하드': 4, '접이식': 4, '속': 4, '나들이': 4, '문제점': 4, '사양': 4, '제품': 4, '고민': 4, '변신': 4, '아이콘': 4, '글': 4, '피닉스': 4, '엑스페리아': 4, '앨리스': 4, '웹브라우저': 4, '엑스박스': 4, '클라우드': 4, '이름': 4, '과거': 4, '선정': 4, '터': 4, '학생용': 4, '천태만상': 4, '랜더링': 4, '먼저': 4, '이후': 4, '계속': 4, '위기': 4, '글씨': 4, '안드로이': 4, '트': 4, '워치': 4, '예정': 4, '대가': 4, '순간': 4, '일본': 4, '도전': 4, '종': 4, '트리플': 4, '채소': 4, '수험생': 4, '특화': 4, '준수': 4, '줄': 4, '도산': 4, '사태': 4, '역성': 4, '수익': 4, '덫': 4, '포럼': 4, '돈': 3, '산': 3, '카카오': 3, '주': 3, '일상': 3, '프리': 3, '카': 3, '증상': 3, '완성': 3, '맞춤': 3, '하나로': 3, '화상': 3, '세상': 3, '등장': 3, '고속': 3, '주파': 3, '예약': 3, '분석': 3, '기사': 3, '아이패드': 3, '생각': 3, '준비': 3, '과열': 3, '가장': 3, '점프': 3, '더': 3, '변경': 3, '지윤': 3, '지도': 3, '영상편집': 3, '프로그램': 3, '결정': 3, '스크린': 3, '사업': 3, '철수': 3, '비트': 3, '이미지': 3, '센서': 3, '지원': 3, '개발자': 3, '주년': 3, '기념': 3, '폴드': 3, '마지막': 3, '네이버': 3, '코드': 3, '증정': 3, '하루': 3, '단축': 3, '진단': 3, '그때': 3, '시절': 3, '이노': 3, '픽스': 3, '판매량': 3, '시장점유율': 3, '포': 3, '노사': 3, '피': 3, '메타': 3, '가상': 3, '화폐': 3, '채굴': 3, '면': 3, '인스타그램': 3, '사진작가': 3, '강연': 3, '공지': 3, '대구': 3, '현대': 3, '백화점': 3, '모토': 3, '인공': 3, '지능': 3, '매트': 3, '저작권': 3, '문제': 3, '배경음악': 3, '구': 3, '상단': 3, '바': 3, '세이버': 3, '남양주': 3, '오레오': 3, '빔': 3, '프로젝터': 3, '아이리버': 3, '위젯': 3, '모양': 3, '출하': 3, '대수': 3, '김천': 3, '성새': 3, '출고': 3, '만해': 3, '미디어': 3, '사용설명서': 3, '편': 3, '소상': 3, '공인': 3, '버팀목': 3, '자금': 3, '스위블': 3, '창의': 3, '풀프': 3, '초청장': 3, '살': 3, '부분': 3, '체크': 3, '변색': 3, '제대로': 3, '초대장': 3, '패션쇼': 3, '강북': 3, '횡단보도': 3, '잠시': 3, '닌텐도': 3, '이콘': 3, '태그': 3, '목록': 3, '에디': 3, '먹통': 3, '긴급': 3, '재난': 3, '알림': 3, '디딤돌': 3, '프로모션': 3, '내용': 3, '샤크': 3, '수냉식': 3, '핵심': 3, '최악': 3, '꽤': 3, '기록': 3, '제주': 3, '신화': 3, '워터파크': 3, '얼굴': 3, '새': 3, '결합': 3, '공기': 3, '효도': 3, '부산': 3, '전혀': 3, '단풍': 3, '극복': 3, '혁신': 3, '광주': 3, '오픈': 3, '이벤트': 3, '대화면': 3, '메이트': 3, '문서': 3, '최': 3, '우선': 3, '약': 3, '퀵': 3, '헬프': 3, '리': 3, '워드': 3, '마일리지': 3, '아이디어': 3, '글로벌': 3, '롬': 3, '씨츄': 3, '쿼드': 3, '어플': 2, '대전': 2, '복구': 2, '삭제': 2, '고장': 2, '언박싱': 2, '방해': 2, '매립': 2, '현상': 2, '원인': 2, '셀': 2, '루미': 2, '베스트': 2, '로딩': 2, '끝': 2, '만화': 2, '시계': 2, '영향': 2, '보정': 2, '꿀팁': 2, '완료': 2, '스킨': 2, '해결': 2, '내장': 2, '번역': 2, '시': 2, '사랑': 2, '고릴라': 2, '포드': 2, '금지': 2, '드론': 2, '판매': 2, '민': 2, '업데이트': 2, '컵홀더': 2, '믹스': 2, '크로스': 2, '회': 2, '이제': 2, '픽셀': 2, '위해': 2, '진행': 2, '차': 2, '실': 2, '자동차': 2, '내비': 2, '여름방학': 2, '캠프': 2, '린다': 2, '전': 2, '블루': 2, '휴대': 2, '소형': 2, '주가': 2, '도어': 2, '벨': 2, '비소': 2, '밴드': 2, '모니터': 2, '필수': 2, '템': 2, '한번': 2, '익산시': 2, '부터': 2, '부업': 2, '하나': 2, '수중': 2, '초등학생': 2, '공짜': 2, '서울시': 2, '성남': 2, '송파구': 2, '강사': 2, '마스터': 2, '가능': 2, '자료': 2, '개인': 2, '쓰기': 2, '일기': 2, '교실': 2, '결과': 2, '찍기': 2, '맥북': 2, '베트남': 2, '디지털프라자': 2, '방지': 2, '녹화': 2, '금쪽': 2, '새끼': 2, '규칙': 2, '해': 2, '기초': 2, '지현': 2, '버킷': 2, '아들': 2, '테스트': 2, '눈': 2, '엑스키퍼': 2, '결제': 2, '놀이': 2, '탁상': 2, '쿨': 2, '체인지': 2, '탑': 2, '튜브': 2, '봄': 2, '위치': 2, '생활': 2, '디지털': 2, '실적': 2, '전문가': 2, '트롬': 2, '건조기': 2, '자가': 2, '수어': 2, '상세': 2, '뉴스': 2, '유감': 2, '조사': 2, '옵션': 2, '드로이드': 2, '잡고': 2, '전면': 2, '언제': 2, '빰친': 2, '대비': 2, '덱스': 2, '폼팩터': 2, '날개': 2, '파': 2, '교통': 2, '민원': 2, '포항': 2, '심리치료': 2, '별로': 2, '볼륨': 2, '핫': 2, '플레이': 2, '탈': 2, '부착': 2, '미국': 2, '고객': 2, '만족': 2, '지수': 2, '반응': 2, '직접': 2, '실행': 2, '안동': 2, '대학교': 2, '화소': 2, '때문': 2, '디카': 2, '과연': 2, '히든': 2, '스마트워치': 2, '듀얼': 2, '무상': 2, '주목': 2, '혹시': 2, '대처': 2, '명령어': 2, '필요': 2, '구미': 2, '텍': 2, '런칭': 2, '세미나': 2, '최재붕': 2, '나우': 2, '시한': 2, '폭탄': 2, '위협': 2, '종일': 2, '초대': 2, '서브': 2, '아펙스': 2, '월마트': 2, '직원': 2, '제공': 2, '모델': 2, '방탄': 2, '업그레이드': 2, '경고': 2, '오버클럭': 2, '파워': 2, '맥스': 2, '장난감': 2, '로봇': 2, '로봇청소기': 2, '달': 1, '가치': 1, '베스': 1, '틴': 1, '아이파크': 1, '공동': 1, '현관문': 1, '앱코': 1, '완전': 1, '매력': 1, '시네마': 1, '해상도': 1, '선택': 1, '가이드': 1, '바이러스': 1, '검사': 1, '저장': 1, '공간': 1, '포르쉐': 1, '카레라': 1, '언닌': 1, '또': 1, '곳': 1, '손가락': 1, '염좌': 1, '솜': 1, '윈드': 1, '쉴드': 1, '집게': 1, '걸': 1, '정착': 1, '함': 1, '다기': 1, '능': 1, '자꾸': 1, '상회': 1, '초소': 1, '인테리어': 1, '필터': 1, '일회용': 1, '멀티': 1, '몸': 1, '역광': 1, '안정감': 1, '포토': 1, '부담': 1, '제로': 1, '밤새': 1, '창원': 1, '진해': 1, '양산': 1, '단': 1, '비슷': 1, '슬라이드': 1, '독': 1, '경보기': 1, '거세': 1, '플로우': 1, '구축': 1, '재미': 1, '엘란': 1, '작가': 1, '기보': 1, '발명품': 1, '현미경': 1, '애견': 1, '산책': 1, '동안': 1, '자체': 1, '파이크': 1, '브롬': 1, '톤': 1, '심플': 1, '마운트': 1, '등': 1, '이면': 1, '팀뷰어': 1, '황금기': 1, '제노': 1, '발뮤': 1, '다가': 1, '펜': 1, '아시안': 1, '에버그린': 1, '시니어': 1, '워크샵': 1, '퀄': 1, '간담': 1, '개최': 1, '코로나': 1, '백신': 1, '페이스타임': 1, '바지오': 1, '해변': 1, '절경': 1, '돌발': 1, '추락': 1, '코닝': 1, '고릴라글래스': 1, '크기': 1, '퀄컴': 1, '팬': 1, '바로': 1, '액손': 1, '나초': 1, '자급': 1, '실화': 1, '놀란': 1, '적': 1, '오르다': 1, '리노': 1, '카버샵': 1, '더컵': 1, '슬릭': 1, '티비': 1, '인권': 1, '침해': 1, '논란': 1, '의심': 1, '마음': 1, '자전거': 1, '길': 1, '의정부시': 1, '귀가': 1, '맵': 1, '넣기': 1, '자기': 1, '위험성': 1, '시력': 1, '바보': 1, '상자': 1, '틈': 1, '사람': 1, '남한': 1, '우주': 1, '사과': 1, '아리랑': 1, '인터': 1, '플렉스': 1, '주식': 1, '택시': 1, '영업': 1, '장거리': 1, '운행': 1, '발열': 1, '치후': 1, '안심': 1, '세종': 1, '슬림': 1, '살짝': 1, '런': 1, '타이': 1, '스폰지밥': 1, '뚱': 1, '프리뷰': 1, '직삼': 1, '각대': 1, '삼각': 1, '빨': 1, '비브캠': 1, '명가': 1, '다이스': 1, '서로': 1, '다이렉트': 1, '국민': 1, '강좌': 1, '운영': 1, '박막': 1, '네오': 1, '국민카드': 1, '분실': 1, '신고': 1, '재발': 1, '한자': 1, '변환': 1, '역사': 1, '남녀': 1, '노소': 1, '자판': 1, '파워포인트': 1, '배경': 1, '네온': 1, '다이빙': 1, '짐': 1, '조치': 1, '미노트': 1, '대청호': 1, '리길': 1, '공모전': 1, '조비': 1, '실용': 1, '꿀템': 1, '최근': 1, '잠실': 1, '쌤': 1, '리얼': 1, '재택근무': 1, '좀': 1, '안똑': 1, '손전등': 1, '플래시': 1, '만': 1, '부': 1, '화이트': 1, '감성': 1, '유튜버': 1, '조언': 1, '디파이': 1, '전문': 1, '찍': 1, '도서': 1, '권': 1, '광고': 1, '제거': 1, '현관': 1, '락': 1, '해제': 1, '자단': 1, '입문': 1, '와콤': 1, '타블렛': 1, '인튜': 1, '어스': 1, '나흘': 1, '실험': 1, '도우': 1, '팩토리': 1, '컨트리': 1, '맨': 1, '송파': 1, '에쿠스': 1, '티맵': 1, '스틱': 1, '백업': 1, '복원': 1, '이란': 1, '제목': 1, '메일': 1, '자동': 1, '전기': 1, '스타인': 1, '확대': 1, '캡처': 1, '아빠': 1, '아기': 1, '여권': 1, '셀프': 1, '여': 1, '예비': 1, '취업': 1, '동래': 1, '여성': 1, '인력': 1, '레플': 1, '리카': 1, '극도': 1, '폐쇄감': 1, '잠실대교': 1, '경쟁': 1, '시작': 1, '피쳐폰': 1, '포기': 1, '디툴즈': 1, '맥미니': 1, '수직': 1, '닥': 1, '다리': 1, '부활': 1, '베이비': 1, '스냅': 1, '시드': 1, '빈': 1, '그룹': 1, '올인': 1, '전구': 1, '액정': 1, '휴대전화': 1, '전쟁': 1, '라운드': 1, '스터디': 1, '동아리': 1, '회원': 1, '대상': 1, '포켓': 1, '수납': 1, '컴팩트': 1, '스톱': 1, '중단': 1, '최종': 1, '못': 1, '노출': 1, '롤랜드': 1, '품질': 1, '라이브': 1, '믹서': 1, '소재': 1, '수요': 1, '본격': 1, '시즌': 1, '다시': 1, '원가': 1, '얼마': 1, '오늘': 1, '화장실': 1, '경량': 1, '디케이': 1, '스토어': 1, '체형': 1, '서창': 1, '마을': 1, '어울림': 1, '비트코인': 1, '바이': 1, '요청': 1, '패밀리': 1, '링크': 1, '퀄리티': 1, '강화': 1, '른': 1, '휴일': 1, '주말': 1, '통신': 1, '비용': 1, '단상': 1, '안정': 1, '맘': 1, '쏙': 1, '사후': 1, '관': 1, '수준': 1, '차원': 1, '액세서리': 1, '생후': 1, '판': 1, '연인': 1, '보행자': 1, '랜': 1, '포트': 1, '지난': 1, '승혜': 1, '변호사': 1, '성폭력': 1, '성범죄': 1, '유형': 1, '루이트': 1, '자가진단': 1, '날': 1, '펜스': 1, '체험': 1, '후': 1, '유료': 1, '매각': 1, '개': 1, '미러': 1, '이드': 1, '공산당': 1, '한정판': 1, '세': 1, '미만': 1, '유아': 1, '시청': 1, '조이': 1, '트론': 1, '플라이': 1, '소감': 1, '장단점': 1, '쿨링': 1, '이건': 1, '껄': 1, '교구': 1, '메신저': 1, '소통': 1, '상반': 1, '차지': 1, '에이': 1, '렉신': 1, '채수창': 1, '라미': 1, '보호': 1, '엄마': 1, '불안': 1, '줌': 1, '미팅': 1, '스포츠': 1, '브랜드': 1, '지샥': 1, '무관': 1, '느낌': 1, '차단': 1, '안경': 1, '차이나': 1, '수행': 1, '받침': 1, '홀더': 1, '요소': 1, '꿀픽': 1, '만능': 1, '샷': 1, '농협': 1, '문화': 1, '환경설정': 1, '단편영화': 1, '무영': 1, '인간': 1, '쿠키런': 1, '게임패드': 1, '컨': 1, '수상작': 1, '기아': 1, '글래스': 1, '공식': 1, '유출': 1, '도보': 1, '네비게이션': 1, '간': 1, '달력': 1, '인도': 1, '정확도': 1, '상담': 1, '보아': 1, '쿼티키보드': 1, '몰락': 1, '피아노': 1, '바이올린': 1, '운동': 1, '령': 1, '강남': 1, '부모': 1, '카드': 1, '리더': 1, '대신': 1, '사전예약': 1, '폐': 1, '플라스틱': 1, '스피커': 1, '식사': 1, '쉬': 1, '하자': 1, '속도': 1, '향상': 1, '대로': 1, '반대': 1, '도입': 1, '것': 1, '폴더': 1, '터치': 1, '장갑': 1, '알리': 1, '익스': 1, '프레': 1, '트레이드': 1, '로또': 1, '치료': 1, '어려움': 1, '일상생활': 1, '블로그': 1, '카카오스토리': 1, '구로구': 1, '정보화': 1, '내시경': 1, '젠폰': 1, '유숙': 1, '양육': 1, '생명': 1, '온택트': 1, '무': 1, '질환': 1, '보험': 1, '캠페인': 1, '실시': 1, '머리': 1, '정신건강': 1, '직영': 1, '대리점': 1, '소득': 1, '각성': 1, '조절': 1, '능력': 1, '카를': 1, '킥': 1, '블랙박스': 1, '전부': 1, '시리즈': 1, '가형': 1, '휴식': 1, '번호': 1, '지정': 1, '발생': 1, '목': 1, '통증': 1, '직': 1, '지도사': 1, '급': 1, '자격증': 1, '전국': 1, '통역': 1, '계': 1, '빛고을': 1, '누리': 1, '이야기': 1, '파트론': 1, '전망': 1, '혜주': 1, '침대': 1, '라이프': 1, '독서': 1, '스튜디오': 1, '돔': 1, '턴테이블': 1, '헬로플래닛': 1, '스스로': 1, '떡': 1, '화질': 1, '휴가': 1, '치매': 1, '두뇌': 1, '잠식': 1, '단독': 1, '진': 1})\n"
          ],
          "name": "stdout"
        }
      ]
    },
    {
      "cell_type": "code",
      "metadata": {
        "colab": {
          "base_uri": "https://localhost:8080/"
        },
        "id": "T5hO9cP3WzEz",
        "outputId": "071f77f4-9f3e-4445-bc47-4f5d24fceae1"
      },
      "source": [
        "top_30_nouns = noun_counter.most_common(30)\n",
        "type(top_30_nouns), print(top_30_nouns)"
      ],
      "execution_count": null,
      "outputs": [
        {
          "output_type": "stream",
          "text": [
            "[('스마트폰', 1021), ('갤럭시', 104), ('삼성', 80), ('스펙', 73), ('사용', 71), ('강의', 71), ('강', 70), ('동영상', 67), ('제작', 66), ('카메라', 61), ('방법', 60), ('유튜브', 60), ('위', 55), ('출시', 46), ('사진', 42), ('가격', 38), ('앱', 37), ('삼각대', 35), ('폰', 34), ('안드로이드', 34), ('보급', 34), ('샤오미', 32), ('거치', 31), ('활용', 29), ('후기', 27), ('용', 26), ('중독', 24), ('법', 23), ('촬영', 22), ('게이', 22)]\n"
          ],
          "name": "stdout"
        },
        {
          "output_type": "execute_result",
          "data": {
            "text/plain": [
              "(list, None)"
            ]
          },
          "metadata": {},
          "execution_count": 19
        }
      ]
    },
    {
      "cell_type": "code",
      "metadata": {
        "id": "wHee7-sSY7E7"
      },
      "source": [
        "top_nouns_dict = dict(top_30_nouns)  # 리스트를 딕셔너리로 변환"
      ],
      "execution_count": null,
      "outputs": []
    },
    {
      "cell_type": "markdown",
      "metadata": {
        "id": "6de4sc2YqWka"
      },
      "source": [
        "## WordCloud"
      ]
    },
    {
      "cell_type": "code",
      "metadata": {
        "id": "HiYxGDRNY9ua"
      },
      "source": [
        "from wordcloud import WordCloud"
      ],
      "execution_count": null,
      "outputs": []
    },
    {
      "cell_type": "code",
      "metadata": {
        "colab": {
          "base_uri": "https://localhost:8080/"
        },
        "id": "xvYa_ylPZQzg",
        "outputId": "8e780471-ca6e-4868-e48c-8de4d581839b"
      },
      "source": [
        "nouns_wordcloud = WordCloud()\n",
        "nouns_wordcloud.generate_from_frequencies(top_nouns_dict)"
      ],
      "execution_count": null,
      "outputs": [
        {
          "output_type": "execute_result",
          "data": {
            "text/plain": [
              "<wordcloud.wordcloud.WordCloud at 0x7fd03b3a0b90>"
            ]
          },
          "metadata": {},
          "execution_count": 23
        }
      ]
    },
    {
      "cell_type": "code",
      "metadata": {
        "id": "3OI1PcaRZzdK"
      },
      "source": [
        "import matplotlib.pyplot as plt"
      ],
      "execution_count": null,
      "outputs": []
    },
    {
      "cell_type": "code",
      "metadata": {
        "colab": {
          "base_uri": "https://localhost:8080/",
          "height": 237
        },
        "id": "Oe6yJPvuaOl7",
        "outputId": "fbae2071-9b7a-480f-9cee-bf2629ba94b6"
      },
      "source": [
        "plt.imshow(nouns_wordcloud)"
      ],
      "execution_count": null,
      "outputs": [
        {
          "output_type": "execute_result",
          "data": {
            "text/plain": [
              "<matplotlib.image.AxesImage at 0x7fd03ad7ca50>"
            ]
          },
          "metadata": {},
          "execution_count": 25
        },
        {
          "output_type": "display_data",
          "data": {
            "image/png": "[encoded data removed]",
            "text/plain": [
              "<Figure size 432x288 with 1 Axes>"
            ]
          },
          "metadata": {
            "needs_background": "light"
          }
        }
      ]
    },
    {
      "cell_type": "markdown",
      "metadata": {
        "id": "jJ-rVP77dwLy"
      },
      "source": [
        "## CountVectorizer\n",
        "\n",
        "**TF-IDF 역빈도**  : 빈도수가 희박한 단어가 이 문장을 대표할 수 있지 않을까?\n"
      ]
    },
    {
      "cell_type": "code",
      "metadata": {
        "id": "BLbn60QyffCR"
      },
      "source": [
        "from sklearn.feature_extraction.text import CountVectorizer"
      ],
      "execution_count": null,
      "outputs": []
    },
    {
      "cell_type": "code",
      "metadata": {
        "id": "-k3KvIOKaRW5"
      },
      "source": [
        "corpus = [\n",
        "    'you know I want your love',\n",
        "    'I like you',\n",
        "    'what should I do ',    \n",
        "]"
      ],
      "execution_count": null,
      "outputs": []
    },
    {
      "cell_type": "code",
      "metadata": {
        "colab": {
          "base_uri": "https://localhost:8080/"
        },
        "id": "DoQzkUWWfju0",
        "outputId": "0002133b-1754-4fc5-cb48-d44d235b6fea"
      },
      "source": [
        "countervectorizer = CountVectorizer()\n",
        "countervectorizer.fit_transform(corpus).toarray()  # toarray(): 배열 형태로 출력"
      ],
      "execution_count": null,
      "outputs": [
        {
          "output_type": "execute_result",
          "data": {
            "text/plain": [
              "array([[0, 1, 0, 1, 0, 1, 0, 1, 1],\n",
              "       [0, 0, 1, 0, 0, 0, 0, 1, 0],\n",
              "       [1, 0, 0, 0, 1, 0, 1, 0, 0]])"
            ]
          },
          "metadata": {},
          "execution_count": 30
        }
      ]
    },
    {
      "cell_type": "code",
      "metadata": {
        "colab": {
          "base_uri": "https://localhost:8080/"
        },
        "id": "NixrzA9Yfnwr",
        "outputId": "312fd985-e1ce-4123-fc22-17202b8e990a"
      },
      "source": [
        "print(countervectorizer.vocabulary_)"
      ],
      "execution_count": null,
      "outputs": [
        {
          "output_type": "stream",
          "text": [
            "{'you': 7, 'know': 1, 'want': 5, 'your': 8, 'love': 3, 'like': 2, 'what': 6, 'should': 4, 'do': 0}\n"
          ],
          "name": "stdout"
        }
      ]
    },
    {
      "cell_type": "code",
      "metadata": {
        "id": "t8jNA3ErfnCu"
      },
      "source": [
        "from sklearn.feature_extraction.text import TfidfVectorizer"
      ],
      "execution_count": null,
      "outputs": []
    },
    {
      "cell_type": "code",
      "metadata": {
        "colab": {
          "base_uri": "https://localhost:8080/"
        },
        "id": "HLdoYtUYjkoA",
        "outputId": "834af0a7-4c3f-406b-b41c-4cdb73ab6f36"
      },
      "source": [
        "tfidf = TfidfVectorizer()\n",
        "tfidf.fit_transform(corpus).toarray()\n",
        "\n",
        "# 숫자가 큼-> 전체 문장에서 대표하는 단어임"
      ],
      "execution_count": null,
      "outputs": [
        {
          "output_type": "execute_result",
          "data": {
            "text/plain": [
              "array([[0.        , 0.46735098, 0.        , 0.46735098, 0.        ,\n",
              "        0.46735098, 0.        , 0.35543247, 0.46735098],\n",
              "       [0.        , 0.        , 0.79596054, 0.        , 0.        ,\n",
              "        0.        , 0.        , 0.60534851, 0.        ],\n",
              "       [0.57735027, 0.        , 0.        , 0.        , 0.57735027,\n",
              "        0.        , 0.57735027, 0.        , 0.        ]])"
            ]
          },
          "metadata": {},
          "execution_count": 34
        }
      ]
    },
    {
      "cell_type": "code",
      "metadata": {
        "colab": {
          "base_uri": "https://localhost:8080/"
        },
        "id": "vEhASIQsj1RE",
        "outputId": "d3f268b5-963a-4826-cec7-33582f68d5ea"
      },
      "source": [
        "print(tfidf.vocabulary_)"
      ],
      "execution_count": null,
      "outputs": [
        {
          "output_type": "stream",
          "text": [
            "{'you': 7, 'know': 1, 'want': 5, 'your': 8, 'love': 3, 'like': 2, 'what': 6, 'should': 4, 'do': 0}\n"
          ],
          "name": "stdout"
        }
      ]
    },
    {
      "cell_type": "code",
      "metadata": {
        "id": "b8kMRD8rkAhR"
      },
      "source": [
        ""
      ],
      "execution_count": null,
      "outputs": []
    }
  ]
}