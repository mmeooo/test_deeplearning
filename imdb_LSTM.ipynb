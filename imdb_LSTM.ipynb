{
  "nbformat": 4,
  "nbformat_minor": 0,
  "metadata": {
    "colab": {
      "name": "imdb_LSTM.ipynb",
      "provenance": [],
      "collapsed_sections": [],
      "authorship_tag": "ABX9TyPAAevkhOSH6D1aN3MOujae"
    },
    "kernelspec": {
      "name": "python3",
      "display_name": "Python 3"
    },
    "language_info": {
      "name": "python"
    }
  },
  "cells": [
    {
      "cell_type": "code",
      "metadata": {
        "id": "nbxDR_ijzSvW"
      },
      "source": [
        "import tensorflow as tf"
      ],
      "execution_count": 1,
      "outputs": []
    },
    {
      "cell_type": "code",
      "metadata": {
        "colab": {
          "base_uri": "https://localhost:8080/"
        },
        "id": "DtsckxNIzVW1",
        "outputId": "38355611-d81f-46e9-d9b6-94c5d99506a0"
      },
      "source": [
        "(x_train, y_train), (x_test, y_test) = tf.keras.datasets.imdb.load_data(num_words=10000)\n",
        "\n",
        "x_train.shape, y_train.shape, x_test.shape, y_test.shape"
      ],
      "execution_count": 2,
      "outputs": [
        {
          "output_type": "stream",
          "text": [
            "Downloading data from https://storage.googleapis.com/tensorflow/tf-keras-datasets/imdb.npz\n",
            "17465344/17464789 [==============================] - 0s 0us/step\n"
          ],
          "name": "stdout"
        },
        {
          "output_type": "stream",
          "text": [
            "<string>:6: VisibleDeprecationWarning: Creating an ndarray from ragged nested sequences (which is a list-or-tuple of lists-or-tuples-or ndarrays with different lengths or shapes) is deprecated. If you meant to do this, you must specify 'dtype=object' when creating the ndarray\n",
            "/usr/local/lib/python3.7/dist-packages/tensorflow/python/keras/datasets/imdb.py:155: VisibleDeprecationWarning: Creating an ndarray from ragged nested sequences (which is a list-or-tuple of lists-or-tuples-or ndarrays with different lengths or shapes) is deprecated. If you meant to do this, you must specify 'dtype=object' when creating the ndarray\n",
            "  x_train, y_train = np.array(xs[:idx]), np.array(labels[:idx])\n",
            "/usr/local/lib/python3.7/dist-packages/tensorflow/python/keras/datasets/imdb.py:156: VisibleDeprecationWarning: Creating an ndarray from ragged nested sequences (which is a list-or-tuple of lists-or-tuples-or ndarrays with different lengths or shapes) is deprecated. If you meant to do this, you must specify 'dtype=object' when creating the ndarray\n",
            "  x_test, y_test = np.array(xs[idx:]), np.array(labels[idx:])\n"
          ],
          "name": "stderr"
        },
        {
          "output_type": "execute_result",
          "data": {
            "text/plain": [
              "((25000,), (25000,), (25000,), (25000,))"
            ]
          },
          "metadata": {
            "tags": []
          },
          "execution_count": 2
        }
      ]
    },
    {
      "cell_type": "code",
      "metadata": {
        "colab": {
          "base_uri": "https://localhost:8080/"
        },
        "id": "VklG0ukszuTp",
        "outputId": "59ae84d3-1ac9-42fe-e1d8-d124d9d30141"
      },
      "source": [
        "print( y_train[50], x_train[50])"
      ],
      "execution_count": 3,
      "outputs": [
        {
          "output_type": "stream",
          "text": [
            "0 [1, 13, 165, 219, 14, 20, 33, 6, 750, 17, 515, 17, 13, 2675, 4, 2, 61, 278, 59, 301, 107, 715, 13, 69, 115, 557, 33, 6, 750, 159, 42, 237, 57, 2, 17, 515, 17, 13, 557, 148, 715, 13, 144, 28, 43, 2, 5458, 5458, 8, 61, 2208, 5, 825, 344, 21, 57, 2, 13, 435, 11, 5, 296, 4, 20, 14, 20, 161, 97, 259, 11, 4, 750, 462, 24, 60, 280, 24, 60, 2, 669, 75, 1829, 50, 11, 5023, 3542, 175, 747, 234, 42, 38, 294, 62, 7799, 14, 20, 1870, 4, 311, 62, 6144, 2, 95, 870, 50, 11, 5023, 1100, 3542, 18, 160, 747, 234]\n"
          ],
          "name": "stdout"
        }
      ]
    },
    {
      "cell_type": "code",
      "metadata": {
        "colab": {
          "base_uri": "https://localhost:8080/"
        },
        "id": "rBF-Ifnz67v4",
        "outputId": "789074de-4425-488b-97ab-3826f476fce8"
      },
      "source": [
        "len(x_train[50]), len(x_train[400]), len(x_train[200])"
      ],
      "execution_count": 4,
      "outputs": [
        {
          "output_type": "execute_result",
          "data": {
            "text/plain": [
              "(113, 486, 160)"
            ]
          },
          "metadata": {
            "tags": []
          },
          "execution_count": 4
        }
      ]
    },
    {
      "cell_type": "markdown",
      "metadata": {
        "id": "4VpyvqCEDzQD"
      },
      "source": [
        "# Data preprocessing"
      ]
    },
    {
      "cell_type": "code",
      "metadata": {
        "id": "uPAKpuxECvrH"
      },
      "source": [
        "def pad_make(x_data):\n",
        "  pad_x = tf.keras.preprocessing.sequence.pad_sequences(x_data, maxlen=500)\n",
        "  return pad_x"
      ],
      "execution_count": 5,
      "outputs": []
    },
    {
      "cell_type": "code",
      "metadata": {
        "id": "z-AgAQ-axWSm"
      },
      "source": [
        "pad_x_train = pad_make(x_train)"
      ],
      "execution_count": 6,
      "outputs": []
    },
    {
      "cell_type": "code",
      "metadata": {
        "id": "7kNKRsbjFVPv"
      },
      "source": [
        "pad_x_test = pad_make(x_test)"
      ],
      "execution_count": 7,
      "outputs": []
    },
    {
      "cell_type": "code",
      "metadata": {
        "colab": {
          "base_uri": "https://localhost:8080/"
        },
        "id": "nvURjSKqPAXg",
        "outputId": "44bd3114-05d1-435c-df58-a373735f8e68"
      },
      "source": [
        "import numpy as np\n",
        "\n",
        "np.unique(y_train).shape, np.unique(y_train)"
      ],
      "execution_count": 8,
      "outputs": [
        {
          "output_type": "execute_result",
          "data": {
            "text/plain": [
              "((2,), array([0, 1]))"
            ]
          },
          "metadata": {
            "tags": []
          },
          "execution_count": 8
        }
      ]
    },
    {
      "cell_type": "markdown",
      "metadata": {
        "id": "ykf_KpRcJYGD"
      },
      "source": [
        "# Make model"
      ]
    },
    {
      "cell_type": "code",
      "metadata": {
        "id": "yfHHfkobIyA7"
      },
      "source": [
        "model = tf.keras.models.Sequential()\n",
        "\n",
        "# Input Layer\n",
        "model.add(tf.keras.layers.Embedding(input_dim=10000, output_dim=24, input_length=500))\n",
        "\n",
        "# Hidden Layer\n",
        "model.add(tf.keras.layers.LSTM(24, return_sequences=True, activation='tanh'))\n",
        "model.add(tf.keras.layers.LSTM(12, activation='tanh'))\n",
        "\n",
        "# Output Layer\n",
        "model.add(tf.keras.layers.Dense(1, activation='sigmoid')) \n",
        "\n",
        "\n",
        "# Gadget\n",
        "model.compile(optimizer='adam', loss='binary_crossentropy', metrics=['acc']) "
      ],
      "execution_count": 12,
      "outputs": []
    },
    {
      "cell_type": "code",
      "metadata": {
        "colab": {
          "base_uri": "https://localhost:8080/"
        },
        "id": "Ji4Mxy-NRgrD",
        "outputId": "b5b54377-7dfc-494d-9b84-c57fc11cbec0"
      },
      "source": [
        "hist = model.fit(pad_x_train, y_train, epochs=50, validation_split=0.3, batch_size=256)"
      ],
      "execution_count": 33,
      "outputs": [
        {
          "output_type": "stream",
          "text": [
            "Epoch 1/50\n",
            "69/69 [==============================] - 50s 732ms/step - loss: 0.0578 - acc: 0.9865 - val_loss: 0.4911 - val_acc: 0.8653\n",
            "Epoch 2/50\n",
            "69/69 [==============================] - 50s 724ms/step - loss: 0.0806 - acc: 0.9774 - val_loss: 0.4523 - val_acc: 0.8705\n",
            "Epoch 3/50\n",
            "69/69 [==============================] - 50s 727ms/step - loss: 0.0653 - acc: 0.9839 - val_loss: 0.4845 - val_acc: 0.8697\n",
            "Epoch 4/50\n",
            "69/69 [==============================] - 50s 728ms/step - loss: 0.0494 - acc: 0.9894 - val_loss: 0.4990 - val_acc: 0.8685\n",
            "Epoch 5/50\n",
            "69/69 [==============================] - 50s 732ms/step - loss: 0.0399 - acc: 0.9930 - val_loss: 0.5316 - val_acc: 0.8641\n",
            "Epoch 6/50\n",
            "69/69 [==============================] - 51s 735ms/step - loss: 0.0375 - acc: 0.9936 - val_loss: 0.5459 - val_acc: 0.8656\n",
            "Epoch 7/50\n",
            "69/69 [==============================] - 50s 724ms/step - loss: 0.0397 - acc: 0.9926 - val_loss: 0.5650 - val_acc: 0.8664\n",
            "Epoch 8/50\n",
            "69/69 [==============================] - 50s 724ms/step - loss: 0.0490 - acc: 0.9886 - val_loss: 0.5433 - val_acc: 0.8683\n",
            "Epoch 9/50\n",
            "69/69 [==============================] - 50s 724ms/step - loss: 0.0518 - acc: 0.9875 - val_loss: 0.5221 - val_acc: 0.8712\n",
            "Epoch 10/50\n",
            "69/69 [==============================] - 50s 724ms/step - loss: 0.0399 - acc: 0.9921 - val_loss: 0.5549 - val_acc: 0.8652\n",
            "Epoch 11/50\n",
            "69/69 [==============================] - 50s 726ms/step - loss: 0.0414 - acc: 0.9906 - val_loss: 0.5902 - val_acc: 0.8556\n",
            "Epoch 12/50\n",
            "69/69 [==============================] - 50s 729ms/step - loss: 0.0583 - acc: 0.9833 - val_loss: 0.5879 - val_acc: 0.8489\n",
            "Epoch 13/50\n",
            "69/69 [==============================] - 50s 730ms/step - loss: 0.0530 - acc: 0.9863 - val_loss: 0.5415 - val_acc: 0.8652\n",
            "Epoch 14/50\n",
            "69/69 [==============================] - 50s 724ms/step - loss: 0.0487 - acc: 0.9883 - val_loss: 0.5463 - val_acc: 0.8595\n",
            "Epoch 15/50\n",
            "69/69 [==============================] - 50s 726ms/step - loss: 0.0346 - acc: 0.9930 - val_loss: 0.5860 - val_acc: 0.8605\n",
            "Epoch 16/50\n",
            "69/69 [==============================] - 50s 726ms/step - loss: 0.0268 - acc: 0.9957 - val_loss: 0.6102 - val_acc: 0.8604\n",
            "Epoch 17/50\n",
            "69/69 [==============================] - 50s 726ms/step - loss: 0.0316 - acc: 0.9935 - val_loss: 0.6138 - val_acc: 0.8573\n",
            "Epoch 18/50\n",
            "69/69 [==============================] - 50s 723ms/step - loss: 0.0281 - acc: 0.9949 - val_loss: 0.6078 - val_acc: 0.8583\n",
            "Epoch 19/50\n",
            "69/69 [==============================] - 50s 729ms/step - loss: 0.0258 - acc: 0.9956 - val_loss: 0.6139 - val_acc: 0.8601\n",
            "Epoch 20/50\n",
            "69/69 [==============================] - 50s 730ms/step - loss: 0.0244 - acc: 0.9956 - val_loss: 0.6215 - val_acc: 0.8603\n",
            "Epoch 21/50\n",
            "69/69 [==============================] - 50s 732ms/step - loss: 0.0368 - acc: 0.9911 - val_loss: 0.6212 - val_acc: 0.8577\n",
            "Epoch 22/50\n",
            "69/69 [==============================] - 50s 725ms/step - loss: 0.0291 - acc: 0.9938 - val_loss: 0.6567 - val_acc: 0.8599\n",
            "Epoch 23/50\n",
            "69/69 [==============================] - 50s 731ms/step - loss: 0.0359 - acc: 0.9914 - val_loss: 0.6107 - val_acc: 0.8607\n",
            "Epoch 24/50\n",
            "69/69 [==============================] - 50s 729ms/step - loss: 0.0246 - acc: 0.9955 - val_loss: 0.6842 - val_acc: 0.8597\n",
            "Epoch 25/50\n",
            "69/69 [==============================] - 51s 734ms/step - loss: 0.0213 - acc: 0.9965 - val_loss: 0.6443 - val_acc: 0.8591\n",
            "Epoch 26/50\n",
            "69/69 [==============================] - 51s 737ms/step - loss: 0.0186 - acc: 0.9973 - val_loss: 0.6630 - val_acc: 0.8593\n",
            "Epoch 27/50\n",
            "69/69 [==============================] - 51s 735ms/step - loss: 0.0221 - acc: 0.9958 - val_loss: 0.6723 - val_acc: 0.8619\n",
            "Epoch 28/50\n",
            "69/69 [==============================] - 50s 724ms/step - loss: 0.0229 - acc: 0.9955 - val_loss: 0.6791 - val_acc: 0.8560\n",
            "Epoch 29/50\n",
            "69/69 [==============================] - 50s 724ms/step - loss: 0.0196 - acc: 0.9966 - val_loss: 0.6784 - val_acc: 0.8571\n",
            "Epoch 30/50\n",
            "69/69 [==============================] - 50s 725ms/step - loss: 0.0215 - acc: 0.9958 - val_loss: 0.6776 - val_acc: 0.8556\n",
            "Epoch 31/50\n",
            "69/69 [==============================] - 50s 723ms/step - loss: 0.0182 - acc: 0.9969 - val_loss: 0.6897 - val_acc: 0.8580\n",
            "Epoch 32/50\n",
            "69/69 [==============================] - 50s 724ms/step - loss: 0.0174 - acc: 0.9970 - val_loss: 0.7093 - val_acc: 0.8572\n",
            "Epoch 33/50\n",
            "69/69 [==============================] - 50s 720ms/step - loss: 0.0173 - acc: 0.9971 - val_loss: 0.7230 - val_acc: 0.8573\n",
            "Epoch 34/50\n",
            "69/69 [==============================] - 50s 724ms/step - loss: 0.0613 - acc: 0.9825 - val_loss: 0.5888 - val_acc: 0.8633\n",
            "Epoch 35/50\n",
            "69/69 [==============================] - 51s 739ms/step - loss: 0.0221 - acc: 0.9955 - val_loss: 0.6436 - val_acc: 0.8612\n",
            "Epoch 36/50\n",
            "69/69 [==============================] - 50s 731ms/step - loss: 0.0153 - acc: 0.9975 - val_loss: 0.6882 - val_acc: 0.8580\n",
            "Epoch 37/50\n",
            "69/69 [==============================] - 50s 724ms/step - loss: 0.0130 - acc: 0.9983 - val_loss: 0.7013 - val_acc: 0.8620\n",
            "Epoch 38/50\n",
            "69/69 [==============================] - 50s 729ms/step - loss: 0.0125 - acc: 0.9983 - val_loss: 0.7201 - val_acc: 0.8612\n",
            "Epoch 39/50\n",
            "69/69 [==============================] - 50s 726ms/step - loss: 0.0123 - acc: 0.9983 - val_loss: 0.7292 - val_acc: 0.8603\n",
            "Epoch 40/50\n",
            "69/69 [==============================] - 50s 722ms/step - loss: 0.0122 - acc: 0.9983 - val_loss: 0.7391 - val_acc: 0.8607\n",
            "Epoch 41/50\n",
            "69/69 [==============================] - 50s 726ms/step - loss: 0.0117 - acc: 0.9983 - val_loss: 0.7433 - val_acc: 0.8587\n",
            "Epoch 42/50\n",
            "69/69 [==============================] - 50s 719ms/step - loss: 0.0113 - acc: 0.9985 - val_loss: 0.7607 - val_acc: 0.8595\n",
            "Epoch 43/50\n",
            "69/69 [==============================] - 50s 728ms/step - loss: 0.0155 - acc: 0.9970 - val_loss: 0.7320 - val_acc: 0.8585\n",
            "Epoch 44/50\n",
            "69/69 [==============================] - 50s 728ms/step - loss: 0.0310 - acc: 0.9918 - val_loss: 0.6742 - val_acc: 0.8581\n",
            "Epoch 45/50\n",
            "69/69 [==============================] - 50s 721ms/step - loss: 0.0317 - acc: 0.9920 - val_loss: 0.6611 - val_acc: 0.8600\n",
            "Epoch 46/50\n",
            "69/69 [==============================] - 50s 722ms/step - loss: 0.0231 - acc: 0.9945 - val_loss: 0.6728 - val_acc: 0.8503\n",
            "Epoch 47/50\n",
            "69/69 [==============================] - 50s 724ms/step - loss: 0.0189 - acc: 0.9958 - val_loss: 0.7195 - val_acc: 0.8544\n",
            "Epoch 48/50\n",
            "69/69 [==============================] - 50s 724ms/step - loss: 0.0188 - acc: 0.9960 - val_loss: 0.7154 - val_acc: 0.8533\n",
            "Epoch 49/50\n",
            "69/69 [==============================] - 50s 724ms/step - loss: 0.0148 - acc: 0.9969 - val_loss: 0.7619 - val_acc: 0.8548\n",
            "Epoch 50/50\n",
            "69/69 [==============================] - 50s 719ms/step - loss: 0.0123 - acc: 0.9979 - val_loss: 0.7532 - val_acc: 0.8511\n"
          ],
          "name": "stdout"
        }
      ]
    },
    {
      "cell_type": "markdown",
      "metadata": {
        "id": "Stsz1c9cVSOD"
      },
      "source": [
        "# Evaluation"
      ]
    },
    {
      "cell_type": "code",
      "metadata": {
        "colab": {
          "base_uri": "https://localhost:8080/"
        },
        "id": "-OgBXZV6RuB0",
        "outputId": "31138c57-35f1-4435-d0e9-89c2a80e80f5"
      },
      "source": [
        "model.evaluate(pad_x_train, y_train)"
      ],
      "execution_count": 34,
      "outputs": [
        {
          "output_type": "stream",
          "text": [
            "782/782 [==============================] - 50s 63ms/step - loss: 0.2334 - acc: 0.9543\n"
          ],
          "name": "stdout"
        },
        {
          "output_type": "execute_result",
          "data": {
            "text/plain": [
              "[0.23338240385055542, 0.9542800188064575]"
            ]
          },
          "metadata": {
            "tags": []
          },
          "execution_count": 34
        }
      ]
    },
    {
      "cell_type": "code",
      "metadata": {
        "colab": {
          "base_uri": "https://localhost:8080/"
        },
        "id": "q2nwWZHRVkWE",
        "outputId": "309aeff1-228c-48aa-b5a1-93deb4a3a8da"
      },
      "source": [
        "model.evaluate(pad_x_test, y_test)"
      ],
      "execution_count": 35,
      "outputs": [
        {
          "output_type": "stream",
          "text": [
            "782/782 [==============================] - 50s 63ms/step - loss: 0.8257 - acc: 0.8374\n"
          ],
          "name": "stdout"
        },
        {
          "output_type": "execute_result",
          "data": {
            "text/plain": [
              "[0.8256600499153137, 0.837440013885498]"
            ]
          },
          "metadata": {
            "tags": []
          },
          "execution_count": 35
        }
      ]
    },
    {
      "cell_type": "code",
      "metadata": {
        "id": "I70HK7PmV1lC"
      },
      "source": [
        "import matplotlib.pyplot as plt"
      ],
      "execution_count": 36,
      "outputs": []
    },
    {
      "cell_type": "code",
      "metadata": {
        "colab": {
          "base_uri": "https://localhost:8080/",
          "height": 265
        },
        "id": "euRr-hfzWgAh",
        "outputId": "62877258-bd1b-4f18-f3ae-a16c9de9ebaa"
      },
      "source": [
        "plt.plot(hist.history['loss'])\n",
        "plt.plot(hist.history['val_loss'])\n",
        "plt.show()"
      ],
      "execution_count": 37,
      "outputs": [
        {
          "output_type": "display_data",
          "data": {
            "image/png": "[encoded data removed]",
            "text/plain": [
              "<Figure size 432x288 with 1 Axes>"
            ]
          },
          "metadata": {
            "tags": [],
            "needs_background": "light"
          }
        }
      ]
    },
    {
      "cell_type": "code",
      "metadata": {
        "id": "bmrPoaQyWrfM",
        "colab": {
          "base_uri": "https://localhost:8080/",
          "height": 265
        },
        "outputId": "8046c7c1-f41f-42e2-bd9b-3cad7307fb19"
      },
      "source": [
        "plt.plot(hist.history['acc'])\n",
        "plt.plot(hist.history['val_acc'])\n",
        "plt.show()"
      ],
      "execution_count": 38,
      "outputs": [
        {
          "output_type": "display_data",
          "data": {
            "image/png": "[encoded data removed]",
            "text/plain": [
              "<Figure size 432x288 with 1 Axes>"
            ]
          },
          "metadata": {
            "tags": [],
            "needs_background": "light"
          }
        }
      ]
    },
    {
      "cell_type": "code",
      "metadata": {
        "id": "rbii_DQjyQua"
      },
      "source": [
        "from sklearn.metrics import classification_report"
      ],
      "execution_count": 39,
      "outputs": []
    },
    {
      "cell_type": "code",
      "metadata": {
        "id": "pUvz4F7vyR8G"
      },
      "source": [
        "y_train_pred = model.predict(pad_x_train)"
      ],
      "execution_count": 40,
      "outputs": []
    },
    {
      "cell_type": "code",
      "metadata": {
        "colab": {
          "base_uri": "https://localhost:8080/"
        },
        "id": "cUMM_rjKyTxt",
        "outputId": "6cdec1f4-83d6-48ae-c87a-f558e83cb58b"
      },
      "source": [
        "y_pred = np.argmax(y_train_pred, axis=1)\n",
        "y_pred.shape"
      ],
      "execution_count": 41,
      "outputs": [
        {
          "output_type": "execute_result",
          "data": {
            "text/plain": [
              "(25000,)"
            ]
          },
          "metadata": {
            "tags": []
          },
          "execution_count": 41
        }
      ]
    },
    {
      "cell_type": "code",
      "metadata": {
        "colab": {
          "base_uri": "https://localhost:8080/"
        },
        "id": "j0PhzEGDyU2B",
        "outputId": "52629eb7-0b06-4c8a-979c-dd164a13f1be"
      },
      "source": [
        "len(y_train)"
      ],
      "execution_count": 42,
      "outputs": [
        {
          "output_type": "execute_result",
          "data": {
            "text/plain": [
              "25000"
            ]
          },
          "metadata": {
            "tags": []
          },
          "execution_count": 42
        }
      ]
    },
    {
      "cell_type": "code",
      "metadata": {
        "colab": {
          "base_uri": "https://localhost:8080/"
        },
        "id": "41Nw_mI-yQrp",
        "outputId": "89fd6ada-3737-452d-f77b-e94f86c665d9"
      },
      "source": [
        "print(classification_report(y_train, y_pred))"
      ],
      "execution_count": 43,
      "outputs": [
        {
          "output_type": "stream",
          "text": [
            "              precision    recall  f1-score   support\n",
            "\n",
            "           0       0.50      1.00      0.67     12500\n",
            "           1       0.00      0.00      0.00     12500\n",
            "\n",
            "    accuracy                           0.50     25000\n",
            "   macro avg       0.25      0.50      0.33     25000\n",
            "weighted avg       0.25      0.50      0.33     25000\n",
            "\n"
          ],
          "name": "stdout"
        },
        {
          "output_type": "stream",
          "text": [
            "/usr/local/lib/python3.7/dist-packages/sklearn/metrics/_classification.py:1272: UndefinedMetricWarning: Precision and F-score are ill-defined and being set to 0.0 in labels with no predicted samples. Use `zero_division` parameter to control this behavior.\n",
            "  _warn_prf(average, modifier, msg_start, len(result))\n"
          ],
          "name": "stderr"
        }
      ]
    },
    {
      "cell_type": "code",
      "metadata": {
        "id": "56Y-Thr_yQpD"
      },
      "source": [
        "y_test_pred = model.predict(pad_x_test)"
      ],
      "execution_count": 44,
      "outputs": []
    },
    {
      "cell_type": "code",
      "metadata": {
        "id": "rUl7Oc-IyaPC"
      },
      "source": [
        "y_pred = np.argmax(y_test_pred, axis=1)"
      ],
      "execution_count": 45,
      "outputs": []
    },
    {
      "cell_type": "code",
      "metadata": {
        "colab": {
          "base_uri": "https://localhost:8080/"
        },
        "id": "U_Pwy_8byblO",
        "outputId": "03e56499-06d7-43ac-c572-03a2ee61681b"
      },
      "source": [
        "print(classification_report(y_test, y_pred))"
      ],
      "execution_count": 46,
      "outputs": [
        {
          "output_type": "stream",
          "text": [
            "              precision    recall  f1-score   support\n",
            "\n",
            "           0       0.50      1.00      0.67     12500\n",
            "           1       0.00      0.00      0.00     12500\n",
            "\n",
            "    accuracy                           0.50     25000\n",
            "   macro avg       0.25      0.50      0.33     25000\n",
            "weighted avg       0.25      0.50      0.33     25000\n",
            "\n"
          ],
          "name": "stdout"
        },
        {
          "output_type": "stream",
          "text": [
            "/usr/local/lib/python3.7/dist-packages/sklearn/metrics/_classification.py:1272: UndefinedMetricWarning: Precision and F-score are ill-defined and being set to 0.0 in labels with no predicted samples. Use `zero_division` parameter to control this behavior.\n",
            "  _warn_prf(average, modifier, msg_start, len(result))\n"
          ],
          "name": "stderr"
        }
      ]
    }
  ]
}