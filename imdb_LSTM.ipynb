{
  "nbformat": 4,
  "nbformat_minor": 0,
  "metadata": {
    "colab": {
      "name": "imdb_LSTM.ipynb",
      "provenance": [],
      "collapsed_sections": [],
      "authorship_tag": "ABX9TyOe5DGkRFz3FmdRO44JYxUx"
    },
    "kernelspec": {
      "name": "python3",
      "display_name": "Python 3"
    },
    "language_info": {
      "name": "python"
    }
  },
  "cells": [
    {
      "cell_type": "code",
      "metadata": {
        "id": "nbxDR_ijzSvW"
      },
      "source": [
        "import tensorflow as tf"
      ],
      "execution_count": 1,
      "outputs": []
    },
    {
      "cell_type": "code",
      "metadata": {
        "colab": {
          "base_uri": "https://localhost:8080/"
        },
        "id": "DtsckxNIzVW1",
        "outputId": "38355611-d81f-46e9-d9b6-94c5d99506a0"
      },
      "source": [
        "(x_train, y_train), (x_test, y_test) = tf.keras.datasets.imdb.load_data(num_words=10000)\n",
        "\n",
        "x_train.shape, y_train.shape, x_test.shape, y_test.shape"
      ],
      "execution_count": 2,
      "outputs": [
        {
          "output_type": "stream",
          "text": [
            "Downloading data from https://storage.googleapis.com/tensorflow/tf-keras-datasets/imdb.npz\n",
            "17465344/17464789 [==============================] - 0s 0us/step\n"
          ],
          "name": "stdout"
        },
        {
          "output_type": "stream",
          "text": [
            "<string>:6: VisibleDeprecationWarning: Creating an ndarray from ragged nested sequences (which is a list-or-tuple of lists-or-tuples-or ndarrays with different lengths or shapes) is deprecated. If you meant to do this, you must specify 'dtype=object' when creating the ndarray\n",
            "/usr/local/lib/python3.7/dist-packages/tensorflow/python/keras/datasets/imdb.py:155: VisibleDeprecationWarning: Creating an ndarray from ragged nested sequences (which is a list-or-tuple of lists-or-tuples-or ndarrays with different lengths or shapes) is deprecated. If you meant to do this, you must specify 'dtype=object' when creating the ndarray\n",
            "  x_train, y_train = np.array(xs[:idx]), np.array(labels[:idx])\n",
            "/usr/local/lib/python3.7/dist-packages/tensorflow/python/keras/datasets/imdb.py:156: VisibleDeprecationWarning: Creating an ndarray from ragged nested sequences (which is a list-or-tuple of lists-or-tuples-or ndarrays with different lengths or shapes) is deprecated. If you meant to do this, you must specify 'dtype=object' when creating the ndarray\n",
            "  x_test, y_test = np.array(xs[idx:]), np.array(labels[idx:])\n"
          ],
          "name": "stderr"
        },
        {
          "output_type": "execute_result",
          "data": {
            "text/plain": [
              "((25000,), (25000,), (25000,), (25000,))"
            ]
          },
          "metadata": {
            "tags": []
          },
          "execution_count": 2
        }
      ]
    },
    {
      "cell_type": "code",
      "metadata": {
        "colab": {
          "base_uri": "https://localhost:8080/"
        },
        "id": "VklG0ukszuTp",
        "outputId": "59ae84d3-1ac9-42fe-e1d8-d124d9d30141"
      },
      "source": [
        "print( y_train[50], x_train[50])"
      ],
      "execution_count": 3,
      "outputs": [
        {
          "output_type": "stream",
          "text": [
            "0 [1, 13, 165, 219, 14, 20, 33, 6, 750, 17, 515, 17, 13, 2675, 4, 2, 61, 278, 59, 301, 107, 715, 13, 69, 115, 557, 33, 6, 750, 159, 42, 237, 57, 2, 17, 515, 17, 13, 557, 148, 715, 13, 144, 28, 43, 2, 5458, 5458, 8, 61, 2208, 5, 825, 344, 21, 57, 2, 13, 435, 11, 5, 296, 4, 20, 14, 20, 161, 97, 259, 11, 4, 750, 462, 24, 60, 280, 24, 60, 2, 669, 75, 1829, 50, 11, 5023, 3542, 175, 747, 234, 42, 38, 294, 62, 7799, 14, 20, 1870, 4, 311, 62, 6144, 2, 95, 870, 50, 11, 5023, 1100, 3542, 18, 160, 747, 234]\n"
          ],
          "name": "stdout"
        }
      ]
    },
    {
      "cell_type": "code",
      "metadata": {
        "colab": {
          "base_uri": "https://localhost:8080/"
        },
        "id": "rBF-Ifnz67v4",
        "outputId": "789074de-4425-488b-97ab-3826f476fce8"
      },
      "source": [
        "len(x_train[50]), len(x_train[400]), len(x_train[200])"
      ],
      "execution_count": 4,
      "outputs": [
        {
          "output_type": "execute_result",
          "data": {
            "text/plain": [
              "(113, 486, 160)"
            ]
          },
          "metadata": {
            "tags": []
          },
          "execution_count": 4
        }
      ]
    },
    {
      "cell_type": "markdown",
      "metadata": {
        "id": "4VpyvqCEDzQD"
      },
      "source": [
        "# Data preprocessing"
      ]
    },
    {
      "cell_type": "code",
      "metadata": {
        "id": "uPAKpuxECvrH"
      },
      "source": [
        "def pad_make(x_data):\n",
        "  pad_x = tf.keras.preprocessing.sequence.pad_sequences(x_data, maxlen=500)\n",
        "  return pad_x"
      ],
      "execution_count": 5,
      "outputs": []
    },
    {
      "cell_type": "code",
      "metadata": {
        "id": "z-AgAQ-axWSm"
      },
      "source": [
        "pad_x_train = pad_make(x_train)"
      ],
      "execution_count": 6,
      "outputs": []
    },
    {
      "cell_type": "code",
      "metadata": {
        "id": "7kNKRsbjFVPv"
      },
      "source": [
        "pad_x_test = pad_make(x_test)"
      ],
      "execution_count": 7,
      "outputs": []
    },
    {
      "cell_type": "code",
      "metadata": {
        "colab": {
          "base_uri": "https://localhost:8080/"
        },
        "id": "nvURjSKqPAXg",
        "outputId": "44bd3114-05d1-435c-df58-a373735f8e68"
      },
      "source": [
        "import numpy as np\n",
        "\n",
        "np.unique(y_train).shape, np.unique(y_train)"
      ],
      "execution_count": 8,
      "outputs": [
        {
          "output_type": "execute_result",
          "data": {
            "text/plain": [
              "((2,), array([0, 1]))"
            ]
          },
          "metadata": {
            "tags": []
          },
          "execution_count": 8
        }
      ]
    },
    {
      "cell_type": "markdown",
      "metadata": {
        "id": "ykf_KpRcJYGD"
      },
      "source": [
        "# Make model"
      ]
    },
    {
      "cell_type": "code",
      "metadata": {
        "id": "yfHHfkobIyA7"
      },
      "source": [
        "model = tf.keras.models.Sequential()\n",
        "\n",
        "# Input Layer\n",
        "model.add(tf.keras.layers.Embedding(input_dim=10000, output_dim=24, input_length=500))\n",
        "\n",
        "# Hidden Layer\n",
        "model.add(tf.keras.layers.LSTM(24, return_sequences=True, activation='tanh'))\n",
        "model.add(tf.keras.layers.LSTM(12, activation='tanh'))\n",
        "\n",
        "# Output Layer\n",
        "model.add(tf.keras.layers.Dense(1, activation='sigmoid')) \n",
        "\n",
        "\n",
        "# Gadget\n",
        "model.compile(optimizer='adam', loss='binary_crossentropy', metrics=['acc']) "
      ],
      "execution_count": 12,
      "outputs": []
    },
    {
      "cell_type": "code",
      "metadata": {
        "colab": {
          "base_uri": "https://localhost:8080/"
        },
        "id": "Ji4Mxy-NRgrD",
        "outputId": "c04b0810-d1a1-4fe2-874a-0cebb1a33c13"
      },
      "source": [
        "hist = model.fit(pad_x_train, y_train, epochs=5, validation_split=0.3, batch_size=256)"
      ],
      "execution_count": 17,
      "outputs": [
        {
          "output_type": "stream",
          "text": [
            "Epoch 1/5\n",
            "69/69 [==============================] - 52s 748ms/step - loss: 0.0930 - acc: 0.9754 - val_loss: 0.4120 - val_acc: 0.8653\n",
            "Epoch 2/5\n",
            "69/69 [==============================] - 52s 755ms/step - loss: 0.0831 - acc: 0.9790 - val_loss: 0.4403 - val_acc: 0.8715\n",
            "Epoch 3/5\n",
            "69/69 [==============================] - 52s 756ms/step - loss: 0.0713 - acc: 0.9827 - val_loss: 0.4776 - val_acc: 0.8711\n",
            "Epoch 4/5\n",
            "69/69 [==============================] - 52s 748ms/step - loss: 0.0706 - acc: 0.9823 - val_loss: 0.4712 - val_acc: 0.8679\n",
            "Epoch 5/5\n",
            "69/69 [==============================] - 51s 741ms/step - loss: 0.0617 - acc: 0.9858 - val_loss: 0.5061 - val_acc: 0.8688\n"
          ],
          "name": "stdout"
        }
      ]
    },
    {
      "cell_type": "markdown",
      "metadata": {
        "id": "Stsz1c9cVSOD"
      },
      "source": [
        "# Evaluation"
      ]
    },
    {
      "cell_type": "code",
      "metadata": {
        "colab": {
          "base_uri": "https://localhost:8080/"
        },
        "id": "-OgBXZV6RuB0",
        "outputId": "e7dee70f-d5bd-484a-c677-1cc9a6da9804"
      },
      "source": [
        "model.evaluate(pad_x_train, y_train)"
      ],
      "execution_count": 18,
      "outputs": [
        {
          "output_type": "stream",
          "text": [
            "782/782 [==============================] - 49s 62ms/step - loss: 0.1875 - acc: 0.9535\n"
          ],
          "name": "stdout"
        },
        {
          "output_type": "execute_result",
          "data": {
            "text/plain": [
              "[0.18754808604717255, 0.9534800052642822]"
            ]
          },
          "metadata": {
            "tags": []
          },
          "execution_count": 18
        }
      ]
    },
    {
      "cell_type": "code",
      "metadata": {
        "colab": {
          "base_uri": "https://localhost:8080/"
        },
        "id": "q2nwWZHRVkWE",
        "outputId": "a60b72f1-4d80-4ed9-86b8-2307d35557ae"
      },
      "source": [
        "model.evaluate(pad_x_test, y_test)"
      ],
      "execution_count": 19,
      "outputs": [
        {
          "output_type": "stream",
          "text": [
            "782/782 [==============================] - 48s 62ms/step - loss: 0.5762 - acc: 0.8491\n"
          ],
          "name": "stdout"
        },
        {
          "output_type": "execute_result",
          "data": {
            "text/plain": [
              "[0.5762094259262085, 0.849120020866394]"
            ]
          },
          "metadata": {
            "tags": []
          },
          "execution_count": 19
        }
      ]
    },
    {
      "cell_type": "code",
      "metadata": {
        "id": "I70HK7PmV1lC"
      },
      "source": [
        "import matplotlib.pyplot as plt"
      ],
      "execution_count": 20,
      "outputs": []
    },
    {
      "cell_type": "code",
      "metadata": {
        "colab": {
          "base_uri": "https://localhost:8080/",
          "height": 265
        },
        "id": "euRr-hfzWgAh",
        "outputId": "21788219-4171-49d9-f1fb-947eb67c4588"
      },
      "source": [
        "plt.plot(hist.history['loss'])\n",
        "plt.plot(hist.history['val_loss'])\n",
        "plt.show()"
      ],
      "execution_count": 21,
      "outputs": [
        {
          "output_type": "display_data",
          "data": {
            "image/png": "[encoded data removed]",
            "text/plain": [
              "<Figure size 432x288 with 1 Axes>"
            ]
          },
          "metadata": {
            "tags": [],
            "needs_background": "light"
          }
        }
      ]
    },
    {
      "cell_type": "code",
      "metadata": {
        "id": "bmrPoaQyWrfM",
        "colab": {
          "base_uri": "https://localhost:8080/",
          "height": 265
        },
        "outputId": "053303bd-14ce-43c3-a90b-43d27d5058b1"
      },
      "source": [
        "plt.plot(hist.history['acc'])\n",
        "plt.plot(hist.history['val_acc'])\n",
        "plt.show()"
      ],
      "execution_count": 22,
      "outputs": [
        {
          "output_type": "display_data",
          "data": {
            "image/png": "[encoded data removed]",
            "text/plain": [
              "<Figure size 432x288 with 1 Axes>"
            ]
          },
          "metadata": {
            "tags": [],
            "needs_background": "light"
          }
        }
      ]
    },
    {
      "cell_type": "code",
      "metadata": {
        "id": "rbii_DQjyQua"
      },
      "source": [
        "from sklearn.metrics import classification_report"
      ],
      "execution_count": 23,
      "outputs": []
    },
    {
      "cell_type": "code",
      "metadata": {
        "id": "pUvz4F7vyR8G"
      },
      "source": [
        "y_train_pred = model.predict(pad_x_train)"
      ],
      "execution_count": 24,
      "outputs": []
    },
    {
      "cell_type": "code",
      "metadata": {
        "colab": {
          "base_uri": "https://localhost:8080/"
        },
        "id": "cUMM_rjKyTxt",
        "outputId": "c271c357-b788-4433-d663-b7bd3aa2eabb"
      },
      "source": [
        "y_pred = np.argmax(y_train_pred, axis=1)\n",
        "y_pred.shape"
      ],
      "execution_count": 25,
      "outputs": [
        {
          "output_type": "execute_result",
          "data": {
            "text/plain": [
              "(25000,)"
            ]
          },
          "metadata": {
            "tags": []
          },
          "execution_count": 25
        }
      ]
    },
    {
      "cell_type": "code",
      "metadata": {
        "colab": {
          "base_uri": "https://localhost:8080/"
        },
        "id": "j0PhzEGDyU2B",
        "outputId": "6beada74-b451-409f-e0b1-f3c1ddbd1157"
      },
      "source": [
        "len(y_train)"
      ],
      "execution_count": 26,
      "outputs": [
        {
          "output_type": "execute_result",
          "data": {
            "text/plain": [
              "25000"
            ]
          },
          "metadata": {
            "tags": []
          },
          "execution_count": 26
        }
      ]
    },
    {
      "cell_type": "code",
      "metadata": {
        "colab": {
          "base_uri": "https://localhost:8080/"
        },
        "id": "41Nw_mI-yQrp",
        "outputId": "db7429d8-374f-4363-b7b4-91d37f12bb10"
      },
      "source": [
        "print(classification_report(y_train, y_pred))"
      ],
      "execution_count": 29,
      "outputs": [
        {
          "output_type": "stream",
          "text": [
            "              precision    recall  f1-score   support\n",
            "\n",
            "           0       0.50      1.00      0.67     12500\n",
            "           1       0.00      0.00      0.00     12500\n",
            "\n",
            "    accuracy                           0.50     25000\n",
            "   macro avg       0.25      0.50      0.33     25000\n",
            "weighted avg       0.25      0.50      0.33     25000\n",
            "\n"
          ],
          "name": "stdout"
        },
        {
          "output_type": "stream",
          "text": [
            "/usr/local/lib/python3.7/dist-packages/sklearn/metrics/_classification.py:1272: UndefinedMetricWarning: Precision and F-score are ill-defined and being set to 0.0 in labels with no predicted samples. Use `zero_division` parameter to control this behavior.\n",
            "  _warn_prf(average, modifier, msg_start, len(result))\n"
          ],
          "name": "stderr"
        }
      ]
    },
    {
      "cell_type": "code",
      "metadata": {
        "id": "56Y-Thr_yQpD"
      },
      "source": [
        "y_test_pred = model.predict(pad_x_test)"
      ],
      "execution_count": 30,
      "outputs": []
    },
    {
      "cell_type": "code",
      "metadata": {
        "id": "rUl7Oc-IyaPC"
      },
      "source": [
        "y_pred = np.argmax(y_test_pred, axis=1)"
      ],
      "execution_count": 31,
      "outputs": []
    },
    {
      "cell_type": "code",
      "metadata": {
        "colab": {
          "base_uri": "https://localhost:8080/"
        },
        "id": "U_Pwy_8byblO",
        "outputId": "9d1bad90-03ef-464c-d40c-8f259a758354"
      },
      "source": [
        "print(classification_report(y_test, y_pred))"
      ],
      "execution_count": 32,
      "outputs": [
        {
          "output_type": "stream",
          "text": [
            "              precision    recall  f1-score   support\n",
            "\n",
            "           0       0.50      1.00      0.67     12500\n",
            "           1       0.00      0.00      0.00     12500\n",
            "\n",
            "    accuracy                           0.50     25000\n",
            "   macro avg       0.25      0.50      0.33     25000\n",
            "weighted avg       0.25      0.50      0.33     25000\n",
            "\n"
          ],
          "name": "stdout"
        },
        {
          "output_type": "stream",
          "text": [
            "/usr/local/lib/python3.7/dist-packages/sklearn/metrics/_classification.py:1272: UndefinedMetricWarning: Precision and F-score are ill-defined and being set to 0.0 in labels with no predicted samples. Use `zero_division` parameter to control this behavior.\n",
            "  _warn_prf(average, modifier, msg_start, len(result))\n"
          ],
          "name": "stderr"
        }
      ]
    },
    {
      "cell_type": "code",
      "metadata": {
        "id": "xO4n7T1y4RQY"
      },
      "source": [
        ""
      ],
      "execution_count": null,
      "outputs": []
    }
  ]
}