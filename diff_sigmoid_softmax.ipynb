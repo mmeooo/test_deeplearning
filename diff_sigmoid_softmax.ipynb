{
  "nbformat": 4,
  "nbformat_minor": 0,
  "metadata": {
    "colab": {
      "name": "diff_sigmoid_softmax.ipynb",
      "provenance": [],
      "collapsed_sections": [],
      "authorship_tag": "ABX9TyMIuBynYcZJkWRmG7airFnk"
    },
    "kernelspec": {
      "name": "python3",
      "display_name": "Python 3"
    },
    "language_info": {
      "name": "python"
    }
  },
  "cells": [
    {
      "cell_type": "markdown",
      "metadata": {
        "id": "_-AlU7ty_Khw"
      },
      "source": [
        "# sigmoid"
      ]
    },
    {
      "cell_type": "code",
      "metadata": {
        "id": "jp8G1weZ_Ek2"
      },
      "source": [
        "import tensorflow as tf"
      ],
      "execution_count": null,
      "outputs": []
    },
    {
      "cell_type": "code",
      "metadata": {
        "colab": {
          "base_uri": "https://localhost:8080/"
        },
        "id": "1KlHpJia_O9Y",
        "outputId": "157cb972-ef87-4b11-ea1d-1ff2f2c89928"
      },
      "source": [
        "a = tf.constant([4.0, 1.0, 3.0], dtype = tf.float32) # constant: 상수 선언\n",
        "a, type(a)"
      ],
      "execution_count": null,
      "outputs": [
        {
          "output_type": "execute_result",
          "data": {
            "text/plain": [
              "(<tf.Tensor: shape=(3,), dtype=float32, numpy=array([4., 1., 3.], dtype=float32)>,\n",
              " tensorflow.python.framework.ops.EagerTensor)"
            ]
          },
          "metadata": {
            "tags": []
          },
          "execution_count": 2
        }
      ]
    },
    {
      "cell_type": "code",
      "metadata": {
        "colab": {
          "base_uri": "https://localhost:8080/"
        },
        "id": "pFIabgeL_TVE",
        "outputId": "f64e460f-2e39-4ff0-af1d-1785abf0aba6"
      },
      "source": [
        "b = tf.keras.activations.sigmoid(a)\n",
        "b"
      ],
      "execution_count": null,
      "outputs": [
        {
          "output_type": "execute_result",
          "data": {
            "text/plain": [
              "<tf.Tensor: shape=(3,), dtype=float32, numpy=array([0.98201376, 0.7310586 , 0.95257413], dtype=float32)>"
            ]
          },
          "metadata": {
            "tags": []
          },
          "execution_count": 3
        }
      ]
    },
    {
      "cell_type": "code",
      "metadata": {
        "colab": {
          "base_uri": "https://localhost:8080/"
        },
        "id": "sEOJIaFN_TRs",
        "outputId": "c052b477-fcd8-4b0c-b8b5-8a4970ca2426"
      },
      "source": [
        "b.numpy()"
      ],
      "execution_count": null,
      "outputs": [
        {
          "output_type": "execute_result",
          "data": {
            "text/plain": [
              "array([0.98201376, 0.7310586 , 0.95257413], dtype=float32)"
            ]
          },
          "metadata": {
            "tags": []
          },
          "execution_count": 4
        }
      ]
    },
    {
      "cell_type": "markdown",
      "metadata": {
        "id": "wgScVBAn_Wkf"
      },
      "source": [
        "# softmax"
      ]
    },
    {
      "cell_type": "code",
      "metadata": {
        "colab": {
          "base_uri": "https://localhost:8080/"
        },
        "id": "-1Nuh6E9_TPW",
        "outputId": "5c9b805a-d309-46be-82c8-61392f244a10"
      },
      "source": [
        "inputs = tf.random.normal(shape=(1, 3))\n",
        "inputs"
      ],
      "execution_count": null,
      "outputs": [
        {
          "output_type": "execute_result",
          "data": {
            "text/plain": [
              "<tf.Tensor: shape=(1, 3), dtype=float32, numpy=array([[0.31372932, 0.23889558, 0.82990205]], dtype=float32)>"
            ]
          },
          "metadata": {
            "tags": []
          },
          "execution_count": 5
        }
      ]
    },
    {
      "cell_type": "code",
      "metadata": {
        "id": "s9VwpwYM_TNE"
      },
      "source": [
        "outputs = tf.keras.activations.softmax(inputs)\n",
        "# outputs"
      ],
      "execution_count": null,
      "outputs": []
    },
    {
      "cell_type": "code",
      "metadata": {
        "colab": {
          "base_uri": "https://localhost:8080/"
        },
        "id": "Bg1_yZjq_TKp",
        "outputId": "6e98b8be-0a56-4c3c-d674-2e5f38becb1d"
      },
      "source": [
        "outputs.numpy()"
      ],
      "execution_count": null,
      "outputs": [
        {
          "output_type": "execute_result",
          "data": {
            "text/plain": [
              "array([[0.27750796, 0.25749904, 0.46499303]], dtype=float32)"
            ]
          },
          "metadata": {
            "tags": []
          },
          "execution_count": 7
        }
      ]
    },
    {
      "cell_type": "markdown",
      "metadata": {
        "id": "6TfattQ__mJX"
      },
      "source": [
        "*  분류형의 공식 (hidden layer)\n",
        "\n",
        "  * 유니크가 3개 이상일때는 activation은 softmax를 쓴다\n",
        "\n",
        "  * 긍정과 부정처럼 분류가 2개(Binary)인 경우. 이때는 activation을 sigmoid를 쓴다\n",
        "\n",
        "\n",
        "---\n",
        "\n",
        "\n",
        "* softmax: node에서 의견을 내서 맨 마지막 output에 들어감. 해당 부분이 아무리 많은 의견이 들어와도 0과 1안으로 수렴시킴. 1에 가까운 결과 값을 찾으면 됨"
      ]
    },
    {
      "cell_type": "code",
      "metadata": {
        "id": "7o0AxF90_TIL"
      },
      "source": [
        ""
      ],
      "execution_count": null,
      "outputs": []
    }
  ]
}