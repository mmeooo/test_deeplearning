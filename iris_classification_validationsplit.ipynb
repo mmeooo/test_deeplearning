{
  "nbformat": 4,
  "nbformat_minor": 0,
  "metadata": {
    "colab": {
      "name": "iris_classification_validationsplit.ipynb",
      "provenance": [],
      "collapsed_sections": [],
      "authorship_tag": "ABX9TyMF/JZMCVW3xTaHg3F1zxtG"
    },
    "kernelspec": {
      "name": "python3",
      "display_name": "Python 3"
    },
    "language_info": {
      "name": "python"
    }
  },
  "cells": [
    {
      "cell_type": "code",
      "metadata": {
        "id": "TbxZTYSb-0SW"
      },
      "source": [
        "from sklearn import datasets\n",
        "import pandas as pd"
      ],
      "execution_count": 1,
      "outputs": []
    },
    {
      "cell_type": "code",
      "metadata": {
        "colab": {
          "base_uri": "https://localhost:8080/"
        },
        "id": "jpGZQoBP_qYt",
        "outputId": "bfefdfd9-269b-4b86-a152-1a2aabbaf15a"
      },
      "source": [
        "iris = datasets.load_iris()\n",
        "df_iris = pd.DataFrame(iris.data)\n",
        "df_iris.info()"
      ],
      "execution_count": 2,
      "outputs": [
        {
          "output_type": "stream",
          "text": [
            "<class 'pandas.core.frame.DataFrame'>\n",
            "RangeIndex: 150 entries, 0 to 149\n",
            "Data columns (total 4 columns):\n",
            " #   Column  Non-Null Count  Dtype  \n",
            "---  ------  --------------  -----  \n",
            " 0   0       150 non-null    float64\n",
            " 1   1       150 non-null    float64\n",
            " 2   2       150 non-null    float64\n",
            " 3   3       150 non-null    float64\n",
            "dtypes: float64(4)\n",
            "memory usage: 4.8 KB\n"
          ],
          "name": "stdout"
        }
      ]
    },
    {
      "cell_type": "code",
      "metadata": {
        "id": "P-V8dYWrAa_y"
      },
      "source": [
        "import sqlite3\n",
        "connect = sqlite3.connect('./db.sqlite3') # 파일이 생성됐는지 확인\n",
        "df_iris.to_sql('iris_resource', connect,if_exists= 'append', index= False)"
      ],
      "execution_count": 3,
      "outputs": []
    },
    {
      "cell_type": "code",
      "metadata": {
        "colab": {
          "base_uri": "https://localhost:8080/",
          "height": 172
        },
        "id": "FiQKA59WCunY",
        "outputId": "799a2255-fcb3-4e0a-f4b2-92f93dfc1331"
      },
      "source": [
        "df_load = pd.read_sql_query('select * from iris_resource', connect)\n",
        "df_load.head(4)"
      ],
      "execution_count": 4,
      "outputs": [
        {
          "output_type": "execute_result",
          "data": {
            "text/html": [
              "<div>\n",
              "<style scoped>\n",
              "    .dataframe tbody tr th:only-of-type {\n",
              "        vertical-align: middle;\n",
              "    }\n",
              "\n",
              "    .dataframe tbody tr th {\n",
              "        vertical-align: top;\n",
              "    }\n",
              "\n",
              "    .dataframe thead th {\n",
              "        text-align: right;\n",
              "    }\n",
              "</style>\n",
              "<table border=\"1\" class=\"dataframe\">\n",
              "  <thead>\n",
              "    <tr style=\"text-align: right;\">\n",
              "      <th></th>\n",
              "      <th>0</th>\n",
              "      <th>1</th>\n",
              "      <th>2</th>\n",
              "      <th>3</th>\n",
              "    </tr>\n",
              "  </thead>\n",
              "  <tbody>\n",
              "    <tr>\n",
              "      <th>0</th>\n",
              "      <td>5.1</td>\n",
              "      <td>3.5</td>\n",
              "      <td>1.4</td>\n",
              "      <td>0.2</td>\n",
              "    </tr>\n",
              "    <tr>\n",
              "      <th>1</th>\n",
              "      <td>4.9</td>\n",
              "      <td>3.0</td>\n",
              "      <td>1.4</td>\n",
              "      <td>0.2</td>\n",
              "    </tr>\n",
              "    <tr>\n",
              "      <th>2</th>\n",
              "      <td>4.7</td>\n",
              "      <td>3.2</td>\n",
              "      <td>1.3</td>\n",
              "      <td>0.2</td>\n",
              "    </tr>\n",
              "    <tr>\n",
              "      <th>3</th>\n",
              "      <td>4.6</td>\n",
              "      <td>3.1</td>\n",
              "      <td>1.5</td>\n",
              "      <td>0.2</td>\n",
              "    </tr>\n",
              "  </tbody>\n",
              "</table>\n",
              "</div>"
            ],
            "text/plain": [
              "     0    1    2    3\n",
              "0  5.1  3.5  1.4  0.2\n",
              "1  4.9  3.0  1.4  0.2\n",
              "2  4.7  3.2  1.3  0.2\n",
              "3  4.6  3.1  1.5  0.2"
            ]
          },
          "metadata": {
            "tags": []
          },
          "execution_count": 4
        }
      ]
    },
    {
      "cell_type": "code",
      "metadata": {
        "colab": {
          "base_uri": "https://localhost:8080/"
        },
        "id": "aI1i89wVDDQk",
        "outputId": "48d71e0c-c88e-42e2-ed31-63b87bf4fda0"
      },
      "source": [
        "x_data = df_load.to_numpy()\n",
        "x_data.shape"
      ],
      "execution_count": 5,
      "outputs": [
        {
          "output_type": "execute_result",
          "data": {
            "text/plain": [
              "(150, 4)"
            ]
          },
          "metadata": {
            "tags": []
          },
          "execution_count": 5
        }
      ]
    },
    {
      "cell_type": "code",
      "metadata": {
        "colab": {
          "base_uri": "https://localhost:8080/"
        },
        "id": "kpdPVx9GDotu",
        "outputId": "68f7f11e-60e4-46c1-aaf3-8165c4ba4cdd"
      },
      "source": [
        "import numpy as np\n",
        "\n",
        "y_data= iris.target\n",
        "y_data, np.unique(y_data)\n",
        "\n",
        "# unique한 값 3개 -> output으로 의견을 내야하는 값 (dense 수)"
      ],
      "execution_count": 6,
      "outputs": [
        {
          "output_type": "execute_result",
          "data": {
            "text/plain": [
              "(array([0, 0, 0, 0, 0, 0, 0, 0, 0, 0, 0, 0, 0, 0, 0, 0, 0, 0, 0, 0, 0, 0,\n",
              "        0, 0, 0, 0, 0, 0, 0, 0, 0, 0, 0, 0, 0, 0, 0, 0, 0, 0, 0, 0, 0, 0,\n",
              "        0, 0, 0, 0, 0, 0, 1, 1, 1, 1, 1, 1, 1, 1, 1, 1, 1, 1, 1, 1, 1, 1,\n",
              "        1, 1, 1, 1, 1, 1, 1, 1, 1, 1, 1, 1, 1, 1, 1, 1, 1, 1, 1, 1, 1, 1,\n",
              "        1, 1, 1, 1, 1, 1, 1, 1, 1, 1, 1, 1, 2, 2, 2, 2, 2, 2, 2, 2, 2, 2,\n",
              "        2, 2, 2, 2, 2, 2, 2, 2, 2, 2, 2, 2, 2, 2, 2, 2, 2, 2, 2, 2, 2, 2,\n",
              "        2, 2, 2, 2, 2, 2, 2, 2, 2, 2, 2, 2, 2, 2, 2, 2, 2, 2]),\n",
              " array([0, 1, 2]))"
            ]
          },
          "metadata": {
            "tags": []
          },
          "execution_count": 6
        }
      ]
    },
    {
      "cell_type": "code",
      "metadata": {
        "id": "cly7AKJSJExP"
      },
      "source": [
        "from sklearn.model_selection import train_test_split\n",
        "\n",
        "x_train, x_val, y_train, y_val = train_test_split(x_data, y_data)"
      ],
      "execution_count": 7,
      "outputs": []
    },
    {
      "cell_type": "code",
      "metadata": {
        "colab": {
          "base_uri": "https://localhost:8080/"
        },
        "id": "dK3VrcS4EMDS",
        "outputId": "fcb97089-26ec-41ce-a43e-b7f5de06533e"
      },
      "source": [
        "import tensorflow as tf\n",
        "\n",
        "model = tf.keras.Sequential()\n",
        "\n",
        "model.add(tf.keras.Input(shape=(4, ))) # input layer\n",
        "\n",
        "model.add(tf.keras.layers.Dense(64, activation= 'relu')) # hidden layer\n",
        "model.add(tf.keras.layers.Dense(34, activation= 'relu')) \n",
        "\n",
        "model.add(tf.keras.layers.Dense(3, activation= 'softmax')) # output layer\n",
        "\n",
        "\n",
        "model.compile(optimizer= 'adam', loss= 'sparse_categorical_crossentropy', metrics= ['acc']) # gadget"
      ],
      "execution_count": 8,
      "outputs": [
        {
          "output_type": "stream",
          "text": [
            "WARNING:tensorflow:Please add `keras.layers.InputLayer` instead of `keras.Input` to Sequential model. `keras.Input` is intended to be used by Functional model.\n"
          ],
          "name": "stdout"
        }
      ]
    },
    {
      "cell_type": "code",
      "metadata": {
        "colab": {
          "base_uri": "https://localhost:8080/"
        },
        "id": "1ehnQTC9YimK",
        "outputId": "060746c3-8612-4269-a649-e83519879950"
      },
      "source": [
        "model.summary()"
      ],
      "execution_count": 9,
      "outputs": [
        {
          "output_type": "stream",
          "text": [
            "Model: \"sequential\"\n",
            "_________________________________________________________________\n",
            "Layer (type)                 Output Shape              Param #   \n",
            "=================================================================\n",
            "dense (Dense)                (None, 64)                320       \n",
            "_________________________________________________________________\n",
            "dense_1 (Dense)              (None, 34)                2210      \n",
            "_________________________________________________________________\n",
            "dense_2 (Dense)              (None, 3)                 105       \n",
            "=================================================================\n",
            "Total params: 2,635\n",
            "Trainable params: 2,635\n",
            "Non-trainable params: 0\n",
            "_________________________________________________________________\n"
          ],
          "name": "stdout"
        }
      ]
    },
    {
      "cell_type": "code",
      "metadata": {
        "colab": {
          "base_uri": "https://localhost:8080/"
        },
        "id": "PMueY1C9Ea7a",
        "outputId": "620ac728-6fdd-4c90-833b-941b65f6b5c6"
      },
      "source": [
        "model.fit(x_train, y_train, epochs= 50, validation_data= (x_val, y_val)) # 학습\n",
        "\n",
        "# model.fit(x_data, y_data, epochs= 50, validation_split= 0.3) \n",
        "# 전체 양 중에서 0.3만큼 쪼개서 검증"
      ],
      "execution_count": 10,
      "outputs": [
        {
          "output_type": "stream",
          "text": [
            "Epoch 1/50\n",
            "4/4 [==============================] - 1s 61ms/step - loss: 1.1990 - acc: 0.5089 - val_loss: 1.1627 - val_acc: 0.3421\n",
            "Epoch 2/50\n",
            "4/4 [==============================] - 0s 9ms/step - loss: 1.0618 - acc: 0.3661 - val_loss: 1.0438 - val_acc: 0.2895\n",
            "Epoch 3/50\n",
            "4/4 [==============================] - 0s 9ms/step - loss: 0.9846 - acc: 0.3482 - val_loss: 0.9562 - val_acc: 0.2895\n",
            "Epoch 4/50\n",
            "4/4 [==============================] - 0s 14ms/step - loss: 0.9241 - acc: 0.5536 - val_loss: 0.8911 - val_acc: 0.6579\n",
            "Epoch 5/50\n",
            "4/4 [==============================] - 0s 9ms/step - loss: 0.8679 - acc: 0.6696 - val_loss: 0.8344 - val_acc: 0.6579\n",
            "Epoch 6/50\n",
            "4/4 [==============================] - 0s 9ms/step - loss: 0.8229 - acc: 0.6696 - val_loss: 0.7902 - val_acc: 0.6579\n",
            "Epoch 7/50\n",
            "4/4 [==============================] - 0s 9ms/step - loss: 0.7808 - acc: 0.6696 - val_loss: 0.7484 - val_acc: 0.6579\n",
            "Epoch 8/50\n",
            "4/4 [==============================] - 0s 9ms/step - loss: 0.7410 - acc: 0.6696 - val_loss: 0.7046 - val_acc: 0.6579\n",
            "Epoch 9/50\n",
            "4/4 [==============================] - 0s 9ms/step - loss: 0.7014 - acc: 0.6696 - val_loss: 0.6634 - val_acc: 0.6842\n",
            "Epoch 10/50\n",
            "4/4 [==============================] - 0s 9ms/step - loss: 0.6660 - acc: 0.6786 - val_loss: 0.6279 - val_acc: 0.7105\n",
            "Epoch 11/50\n",
            "4/4 [==============================] - 0s 9ms/step - loss: 0.6337 - acc: 0.7500 - val_loss: 0.5938 - val_acc: 0.8684\n",
            "Epoch 12/50\n",
            "4/4 [==============================] - 0s 10ms/step - loss: 0.6039 - acc: 0.8750 - val_loss: 0.5633 - val_acc: 0.9211\n",
            "Epoch 13/50\n",
            "4/4 [==============================] - 0s 8ms/step - loss: 0.5789 - acc: 0.8482 - val_loss: 0.5426 - val_acc: 0.8158\n",
            "Epoch 14/50\n",
            "4/4 [==============================] - 0s 9ms/step - loss: 0.5533 - acc: 0.8214 - val_loss: 0.5182 - val_acc: 0.8684\n",
            "Epoch 15/50\n",
            "4/4 [==============================] - 0s 10ms/step - loss: 0.5333 - acc: 0.8571 - val_loss: 0.4984 - val_acc: 0.9211\n",
            "Epoch 16/50\n",
            "4/4 [==============================] - 0s 10ms/step - loss: 0.5127 - acc: 0.8571 - val_loss: 0.4803 - val_acc: 0.8684\n",
            "Epoch 17/50\n",
            "4/4 [==============================] - 0s 10ms/step - loss: 0.4955 - acc: 0.8571 - val_loss: 0.4625 - val_acc: 0.8947\n",
            "Epoch 18/50\n",
            "4/4 [==============================] - 0s 10ms/step - loss: 0.4767 - acc: 0.8839 - val_loss: 0.4472 - val_acc: 0.8947\n",
            "Epoch 19/50\n",
            "4/4 [==============================] - 0s 9ms/step - loss: 0.4632 - acc: 0.8661 - val_loss: 0.4332 - val_acc: 0.8947\n",
            "Epoch 20/50\n",
            "4/4 [==============================] - 0s 8ms/step - loss: 0.4474 - acc: 0.9107 - val_loss: 0.4170 - val_acc: 0.9474\n",
            "Epoch 21/50\n",
            "4/4 [==============================] - 0s 10ms/step - loss: 0.4341 - acc: 0.9464 - val_loss: 0.4041 - val_acc: 0.9474\n",
            "Epoch 22/50\n",
            "4/4 [==============================] - 0s 10ms/step - loss: 0.4204 - acc: 0.9643 - val_loss: 0.3915 - val_acc: 0.9474\n",
            "Epoch 23/50\n",
            "4/4 [==============================] - 0s 9ms/step - loss: 0.4073 - acc: 0.9732 - val_loss: 0.3800 - val_acc: 0.9474\n",
            "Epoch 24/50\n",
            "4/4 [==============================] - 0s 9ms/step - loss: 0.3957 - acc: 0.9464 - val_loss: 0.3708 - val_acc: 0.9211\n",
            "Epoch 25/50\n",
            "4/4 [==============================] - 0s 10ms/step - loss: 0.3849 - acc: 0.9375 - val_loss: 0.3610 - val_acc: 0.9211\n",
            "Epoch 26/50\n",
            "4/4 [==============================] - 0s 12ms/step - loss: 0.3707 - acc: 0.9464 - val_loss: 0.3481 - val_acc: 0.9474\n",
            "Epoch 27/50\n",
            "4/4 [==============================] - 0s 10ms/step - loss: 0.3632 - acc: 0.9821 - val_loss: 0.3367 - val_acc: 0.9474\n",
            "Epoch 28/50\n",
            "4/4 [==============================] - 0s 9ms/step - loss: 0.3525 - acc: 0.9732 - val_loss: 0.3279 - val_acc: 0.9474\n",
            "Epoch 29/50\n",
            "4/4 [==============================] - 0s 9ms/step - loss: 0.3445 - acc: 0.9375 - val_loss: 0.3194 - val_acc: 0.9474\n",
            "Epoch 30/50\n",
            "4/4 [==============================] - 0s 8ms/step - loss: 0.3274 - acc: 0.9732 - val_loss: 0.3061 - val_acc: 0.9474\n",
            "Epoch 31/50\n",
            "4/4 [==============================] - 0s 8ms/step - loss: 0.3189 - acc: 0.9821 - val_loss: 0.2962 - val_acc: 0.9474\n",
            "Epoch 32/50\n",
            "4/4 [==============================] - 0s 8ms/step - loss: 0.3075 - acc: 0.9821 - val_loss: 0.2865 - val_acc: 0.9474\n",
            "Epoch 33/50\n",
            "4/4 [==============================] - 0s 8ms/step - loss: 0.2965 - acc: 0.9732 - val_loss: 0.2777 - val_acc: 0.9474\n",
            "Epoch 34/50\n",
            "4/4 [==============================] - 0s 10ms/step - loss: 0.2890 - acc: 0.9732 - val_loss: 0.2692 - val_acc: 0.9474\n",
            "Epoch 35/50\n",
            "4/4 [==============================] - 0s 10ms/step - loss: 0.2770 - acc: 0.9821 - val_loss: 0.2579 - val_acc: 0.9474\n",
            "Epoch 36/50\n",
            "4/4 [==============================] - 0s 10ms/step - loss: 0.2682 - acc: 0.9821 - val_loss: 0.2493 - val_acc: 0.9474\n",
            "Epoch 37/50\n",
            "4/4 [==============================] - 0s 10ms/step - loss: 0.2577 - acc: 0.9821 - val_loss: 0.2393 - val_acc: 0.9474\n",
            "Epoch 38/50\n",
            "4/4 [==============================] - 0s 9ms/step - loss: 0.2515 - acc: 0.9732 - val_loss: 0.2300 - val_acc: 0.9474\n",
            "Epoch 39/50\n",
            "4/4 [==============================] - 0s 10ms/step - loss: 0.2342 - acc: 0.9732 - val_loss: 0.2143 - val_acc: 0.9737\n",
            "Epoch 40/50\n",
            "4/4 [==============================] - 0s 10ms/step - loss: 0.2288 - acc: 0.9911 - val_loss: 0.2057 - val_acc: 0.9737\n",
            "Epoch 41/50\n",
            "4/4 [==============================] - 0s 9ms/step - loss: 0.2176 - acc: 0.9821 - val_loss: 0.2020 - val_acc: 0.9474\n",
            "Epoch 42/50\n",
            "4/4 [==============================] - 0s 11ms/step - loss: 0.2097 - acc: 0.9732 - val_loss: 0.1942 - val_acc: 0.9474\n",
            "Epoch 43/50\n",
            "4/4 [==============================] - 0s 10ms/step - loss: 0.2007 - acc: 0.9732 - val_loss: 0.1838 - val_acc: 0.9737\n",
            "Epoch 44/50\n",
            "4/4 [==============================] - 0s 9ms/step - loss: 0.1932 - acc: 0.9821 - val_loss: 0.1768 - val_acc: 0.9737\n",
            "Epoch 45/50\n",
            "4/4 [==============================] - 0s 8ms/step - loss: 0.1903 - acc: 0.9821 - val_loss: 0.1716 - val_acc: 0.9737\n",
            "Epoch 46/50\n",
            "4/4 [==============================] - 0s 9ms/step - loss: 0.1796 - acc: 0.9821 - val_loss: 0.1651 - val_acc: 0.9737\n",
            "Epoch 47/50\n",
            "4/4 [==============================] - 0s 9ms/step - loss: 0.1740 - acc: 0.9821 - val_loss: 0.1603 - val_acc: 0.9737\n",
            "Epoch 48/50\n",
            "4/4 [==============================] - 0s 10ms/step - loss: 0.1681 - acc: 0.9821 - val_loss: 0.1569 - val_acc: 0.9474\n",
            "Epoch 49/50\n",
            "4/4 [==============================] - 0s 11ms/step - loss: 0.1628 - acc: 0.9821 - val_loss: 0.1525 - val_acc: 0.9474\n",
            "Epoch 50/50\n",
            "4/4 [==============================] - 0s 10ms/step - loss: 0.1596 - acc: 0.9821 - val_loss: 0.1459 - val_acc: 0.9737\n"
          ],
          "name": "stdout"
        },
        {
          "output_type": "execute_result",
          "data": {
            "text/plain": [
              "<tensorflow.python.keras.callbacks.History at 0x7f09a7670890>"
            ]
          },
          "metadata": {
            "tags": []
          },
          "execution_count": 10
        }
      ]
    },
    {
      "cell_type": "markdown",
      "metadata": {
        "id": "j9Awtl8GZ6VT"
      },
      "source": [
        "# Evaluation"
      ]
    },
    {
      "cell_type": "code",
      "metadata": {
        "colab": {
          "base_uri": "https://localhost:8080/"
        },
        "id": "PeZ-aRnOZYpw",
        "outputId": "5b6eca93-c5cc-4154-eaa4-86e96769bb89"
      },
      "source": [
        "model.evaluate(x_data, y_data)\n",
        "\n",
        "# 2개(loss, accuracy)의 편차"
      ],
      "execution_count": 11,
      "outputs": [
        {
          "output_type": "stream",
          "text": [
            "5/5 [==============================] - 0s 2ms/step - loss: 0.1522 - acc: 0.9800\n"
          ],
          "name": "stdout"
        },
        {
          "output_type": "execute_result",
          "data": {
            "text/plain": [
              "[0.1521822214126587, 0.9800000190734863]"
            ]
          },
          "metadata": {
            "tags": []
          },
          "execution_count": 11
        }
      ]
    },
    {
      "cell_type": "code",
      "metadata": {
        "id": "6XIdd5w15drZ"
      },
      "source": [
        "from sklearn.metrics import classification_report, confusion_matrix"
      ],
      "execution_count": 12,
      "outputs": []
    },
    {
      "cell_type": "code",
      "metadata": {
        "colab": {
          "base_uri": "https://localhost:8080/"
        },
        "id": "WD4UhswtEuXf",
        "outputId": "5badb457-1d6d-4369-edbb-84566cdc45ef"
      },
      "source": [
        "y_pred = model.predict(x_data)\n",
        "y_pred.shape, y_pred[4]"
      ],
      "execution_count": 13,
      "outputs": [
        {
          "output_type": "execute_result",
          "data": {
            "text/plain": [
              "((150, 3), array([9.8836088e-01, 1.1530638e-02, 1.0851201e-04], dtype=float32))"
            ]
          },
          "metadata": {
            "tags": []
          },
          "execution_count": 13
        }
      ]
    },
    {
      "cell_type": "code",
      "metadata": {
        "colab": {
          "base_uri": "https://localhost:8080/"
        },
        "id": "2EJI-tpJE2Xm",
        "outputId": "f9324f16-8b2c-458c-c14b-a2d18e15f158"
      },
      "source": [
        "y_data.shape, y_data[4]"
      ],
      "execution_count": 14,
      "outputs": [
        {
          "output_type": "execute_result",
          "data": {
            "text/plain": [
              "((150,), 0)"
            ]
          },
          "metadata": {
            "tags": []
          },
          "execution_count": 14
        }
      ]
    },
    {
      "cell_type": "code",
      "metadata": {
        "colab": {
          "base_uri": "https://localhost:8080/"
        },
        "id": "VO6ruM_VFPr4",
        "outputId": "eec87074-1b6c-4f4a-be31-d1a84b1fe31f"
      },
      "source": [
        "import numpy as np\n",
        "y_pred_argmax = np.argmax(y_pred, axis= 1) # 행 기준\n",
        "y_pred_argmax.shape, y_pred_argmax[4]\n",
        "\n",
        "# 사이즈를 맞춤. classification 실행"
      ],
      "execution_count": 15,
      "outputs": [
        {
          "output_type": "execute_result",
          "data": {
            "text/plain": [
              "((150,), 0)"
            ]
          },
          "metadata": {
            "tags": []
          },
          "execution_count": 15
        }
      ]
    },
    {
      "cell_type": "code",
      "metadata": {
        "colab": {
          "base_uri": "https://localhost:8080/"
        },
        "id": "Dla9xNmKFkLT",
        "outputId": "25f90503-f4a0-45e4-9885-61f894d2be24"
      },
      "source": [
        "print(classification_report(y_data, y_pred_argmax))\n",
        "\n",
        "# f1-score: 1에 가까울수록 좋음\n",
        "# accuracy:0.5는 넘어야 함"
      ],
      "execution_count": 16,
      "outputs": [
        {
          "output_type": "stream",
          "text": [
            "              precision    recall  f1-score   support\n",
            "\n",
            "           0       1.00      1.00      1.00        50\n",
            "           1       1.00      0.94      0.97        50\n",
            "           2       0.94      1.00      0.97        50\n",
            "\n",
            "    accuracy                           0.98       150\n",
            "   macro avg       0.98      0.98      0.98       150\n",
            "weighted avg       0.98      0.98      0.98       150\n",
            "\n"
          ],
          "name": "stdout"
        }
      ]
    },
    {
      "cell_type": "code",
      "metadata": {
        "colab": {
          "base_uri": "https://localhost:8080/"
        },
        "id": "TkZ9ruaKH7kk",
        "outputId": "15c5511e-0f7c-4244-f97a-ccfe407fe484"
      },
      "source": [
        "confusion_matrix(y_data, y_pred_argmax)"
      ],
      "execution_count": 17,
      "outputs": [
        {
          "output_type": "execute_result",
          "data": {
            "text/plain": [
              "array([[50,  0,  0],\n",
              "       [ 0, 47,  3],\n",
              "       [ 0,  0, 50]])"
            ]
          },
          "metadata": {
            "tags": []
          },
          "execution_count": 17
        }
      ]
    },
    {
      "cell_type": "code",
      "metadata": {
        "colab": {
          "base_uri": "https://localhost:8080/",
          "height": 286
        },
        "id": "h7urjs-xILsb",
        "outputId": "ee9b526e-c424-4f84-9cba-e10476eab9c3"
      },
      "source": [
        "import seaborn as sns\n",
        "\n",
        "sns.heatmap( confusion_matrix(y_data, y_pred_argmax), annot= True )\n",
        "# 대각선 라인에 색이 들어와야 정상"
      ],
      "execution_count": 18,
      "outputs": [
        {
          "output_type": "execute_result",
          "data": {
            "text/plain": [
              "<matplotlib.axes._subplots.AxesSubplot at 0x7f09ea249d90>"
            ]
          },
          "metadata": {
            "tags": []
          },
          "execution_count": 18
        },
        {
          "output_type": "display_data",
          "data": {
            "image/png": "[encoded data removed]",
            "text/plain": [
              "<Figure size 432x288 with 2 Axes>"
            ]
          },
          "metadata": {
            "tags": [],
            "needs_background": "light"
          }
        }
      ]
    },
    {
      "cell_type": "markdown",
      "metadata": {
        "id": "WJlPXSPpaZQ8"
      },
      "source": [
        "# Service"
      ]
    },
    {
      "cell_type": "code",
      "metadata": {
        "colab": {
          "base_uri": "https://localhost:8080/"
        },
        "id": "cDKHDnLJZ-x1",
        "outputId": "0e17ac01-6dd3-4a4b-ddfa-c2874bb16396"
      },
      "source": [
        "x_data[25], y_data[25]"
      ],
      "execution_count": 19,
      "outputs": [
        {
          "output_type": "execute_result",
          "data": {
            "text/plain": [
              "(array([5. , 3. , 1.6, 0.2]), 0)"
            ]
          },
          "metadata": {
            "tags": []
          },
          "execution_count": 19
        }
      ]
    },
    {
      "cell_type": "code",
      "metadata": {
        "colab": {
          "base_uri": "https://localhost:8080/"
        },
        "id": "FvQ5CBzWadNp",
        "outputId": "608e4f04-be01-464d-ef32-b4169a557a76"
      },
      "source": [
        "pred = model.predict([[5. , 3. , 1.6, 0.2]])\n",
        "pred\n",
        "\n",
        "# 25번째 데이터를 보니, 1번째 분류일 가능성은 0.3302766, 2번째 분류 0.33684278 ~~"
      ],
      "execution_count": 20,
      "outputs": [
        {
          "output_type": "execute_result",
          "data": {
            "text/plain": [
              "array([[9.6770924e-01, 3.1885408e-02, 4.0540379e-04]], dtype=float32)"
            ]
          },
          "metadata": {
            "tags": []
          },
          "execution_count": 20
        }
      ]
    },
    {
      "cell_type": "code",
      "metadata": {
        "colab": {
          "base_uri": "https://localhost:8080/"
        },
        "id": "-_-JNRFAalex",
        "outputId": "7466dbfd-40a1-4441-daf3-7a6707e98cee"
      },
      "source": [
        "import numpy as np\n",
        "\n",
        "np.argmax(pred)"
      ],
      "execution_count": 21,
      "outputs": [
        {
          "output_type": "execute_result",
          "data": {
            "text/plain": [
              "0"
            ]
          },
          "metadata": {
            "tags": []
          },
          "execution_count": 21
        }
      ]
    },
    {
      "cell_type": "code",
      "metadata": {
        "id": "Y3p3-uPKD8F4"
      },
      "source": [
        "from sklearn.metrics import roc_curve, auc"
      ],
      "execution_count": 22,
      "outputs": []
    }
  ]
}