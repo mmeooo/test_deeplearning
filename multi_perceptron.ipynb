{
  "nbformat": 4,
  "nbformat_minor": 0,
  "metadata": {
    "colab": {
      "name": "single_perceptron2.ipynb",
      "provenance": [],
      "authorship_tag": "ABX9TyNG9czvLOnhE70i2eAVuzg1"
    },
    "kernelspec": {
      "name": "python3",
      "display_name": "Python 3"
    },
    "language_info": {
      "name": "python"
    }
  },
  "cells": [
    {
      "cell_type": "code",
      "metadata": {
        "id": "pcUy9yYoxSNa"
      },
      "source": [
        "import tensorflow as tf"
      ],
      "execution_count": 1,
      "outputs": []
    },
    {
      "cell_type": "code",
      "metadata": {
        "colab": {
          "base_uri": "https://localhost:8080/"
        },
        "id": "K_OWdgQDx8QJ",
        "outputId": "c3dd2bbe-23bc-47e6-a7bc-70172f7fe9ad"
      },
      "source": [
        "x_data = [[0,0],\n",
        "          [1,0],\n",
        "          [0,1],\n",
        "          [1,1]]\n",
        "\n",
        "y_data = [[0],\n",
        "          [1],\n",
        "          [1],\n",
        "          [1]]\n",
        "\n",
        "type(x_data),type(y_data)"
      ],
      "execution_count": 2,
      "outputs": [
        {
          "output_type": "execute_result",
          "data": {
            "text/plain": [
              "(list, list)"
            ]
          },
          "metadata": {
            "tags": []
          },
          "execution_count": 2
        }
      ]
    },
    {
      "cell_type": "code",
      "metadata": {
        "colab": {
          "base_uri": "https://localhost:8080/"
        },
        "id": "CcZRTPoGyAoH",
        "outputId": "c80a94e2-c7ba-4ea3-d61f-6b9561b1331d"
      },
      "source": [
        "import numpy as np\n",
        "x_train= np.array(x_data)\n",
        "y_train= np.array(y_data)\n",
        "x_train.shape, y_train.shape"
      ],
      "execution_count": 3,
      "outputs": [
        {
          "output_type": "execute_result",
          "data": {
            "text/plain": [
              "((4, 2), (4, 1))"
            ]
          },
          "metadata": {
            "tags": []
          },
          "execution_count": 3
        }
      ]
    },
    {
      "cell_type": "markdown",
      "metadata": {
        "id": "9dwiUsrT02Qb"
      },
      "source": [
        "# create model"
      ]
    },
    {
      "cell_type": "code",
      "metadata": {
        "colab": {
          "base_uri": "https://localhost:8080/"
        },
        "id": "GueIO_I1yE1-",
        "outputId": "ac5c8ef2-ef9c-4d8b-cfd8-996f7229faf0"
      },
      "source": [
        "model = tf.keras.models.Sequential()\n",
        "\n",
        "# solve XOR model. 음식을 접시에 담음\n",
        "# model에 layer 쌓기: Input, 기능, Output layer\n",
        "model.add(tf.keras.Input(shape=(2))) # shape: 열의 개수\n",
        "\n",
        "model.add(tf.keras.layers.Dense(128, activation= 'sigmoid')) # dense: output 개수 + 시그모이드를 쓰겠다고 선언\n",
        "model.add(tf.keras.layers.Dense(128, activation= 'sigmoid')) \n",
        "\n",
        "model.add(tf.keras.layers.Dense(1, activation= 'sigmoid')) \n",
        "\n",
        "# 음식 먹을 도구를 정함..포크\n",
        "model.compile(optimizer='sgd', loss='mse', metrics=['acc' ]) # stochastic-gradient-descent, mean-sqare-error, [accuracy,, ]"
      ],
      "execution_count": 19,
      "outputs": [
        {
          "output_type": "stream",
          "text": [
            "WARNING:tensorflow:Please add `keras.layers.InputLayer` instead of `keras.Input` to Sequential model. `keras.Input` is intended to be used by Functional model.\n"
          ],
          "name": "stdout"
        }
      ]
    },
    {
      "cell_type": "code",
      "metadata": {
        "colab": {
          "base_uri": "https://localhost:8080/",
          "height": 422
        },
        "id": "IiboNE_x857a",
        "outputId": "272829b9-85af-4526-8918-8def3bfeba65"
      },
      "source": [
        "tf.keras.utils.plot_model(model, show_shapes=True)"
      ],
      "execution_count": 20,
      "outputs": [
        {
          "output_type": "execute_result",
          "data": {
            "image/png": "[encoded data removed]",
            "text/plain": [
              "<IPython.core.display.Image object>"
            ]
          },
          "metadata": {
            "tags": []
          },
          "execution_count": 20
        }
      ]
    },
    {
      "cell_type": "code",
      "metadata": {
        "id": "hAtabHeK8Wws"
      },
      "source": [
        "model.fit(x_train, y_train, epochs=100) # epochs: 전체 데이터를 사용해서 학습을 거치는 횟수"
      ],
      "execution_count": null,
      "outputs": []
    },
    {
      "cell_type": "code",
      "metadata": {
        "colab": {
          "base_uri": "https://localhost:8080/"
        },
        "id": "NtIz6sjl9bNp",
        "outputId": "5bf3970a-b343-4a46-b42d-24ac0c32ac5c"
      },
      "source": [
        "model.predict([[0,1]])"
      ],
      "execution_count": 22,
      "outputs": [
        {
          "output_type": "execute_result",
          "data": {
            "text/plain": [
              "array([[0.7461197]], dtype=float32)"
            ]
          },
          "metadata": {
            "tags": []
          },
          "execution_count": 22
        }
      ]
    },
    {
      "cell_type": "markdown",
      "metadata": {
        "id": "nAxy4Nk5_G9P"
      },
      "source": [
        "* Deep Learning 성능 좋게 하는 법\n",
        "  * epochs 횟수 증가\n",
        "  * Dense Output 개수 증가\n",
        "  * 기능 layer 추가 (layer 쌓으면 시간, 자원 낭비 있음. loss율이 얼마나 떨어지는 지 확인하고 추가해야 함)\n",
        "\n",
        "---\n",
        "\n",
        "* Dense= 2, epochs= 50 -> loss: 0.2549, predict: array([[0.5429848]], dtype=float32)\n",
        "\n",
        "* Dense= 128, epochs= 100 -> loss: 0.1830. predict: array([[0.742463]], dtype=float32)\n",
        "\n",
        "* Dense= 128, Dense= 128, epochs= 100 -> loss: 0.1866, array([[0.744326]], dtype=float32)"
      ]
    },
    {
      "cell_type": "code",
      "metadata": {
        "colab": {
          "base_uri": "https://localhost:8080/"
        },
        "id": "eYhoL1aW-4tF",
        "outputId": "4cb4501a-b685-49c1-d521-1b5bd527b51a"
      },
      "source": [
        "model.evaluate(x_train, y_train) # loss율, 정확도 판단"
      ],
      "execution_count": 23,
      "outputs": [
        {
          "output_type": "stream",
          "text": [
            "1/1 [==============================] - 0s 120ms/step - loss: 0.1878 - acc: 0.7500\n"
          ],
          "name": "stdout"
        },
        {
          "output_type": "execute_result",
          "data": {
            "text/plain": [
              "[0.18775908648967743, 0.75]"
            ]
          },
          "metadata": {
            "tags": []
          },
          "execution_count": 23
        }
      ]
    },
    {
      "cell_type": "code",
      "metadata": {
        "id": "V6b27q_7CXBw"
      },
      "source": [
        ""
      ],
      "execution_count": null,
      "outputs": []
    }
  ]
}
