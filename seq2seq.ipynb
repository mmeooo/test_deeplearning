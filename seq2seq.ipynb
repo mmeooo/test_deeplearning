{
  "nbformat": 4,
  "nbformat_minor": 0,
  "metadata": {
    "colab": {
      "name": "seq2seq.ipynb",
      "provenance": [],
      "collapsed_sections": [],
      "authorship_tag": "ABX9TyPmpgKn6p1aPou6041zxqer"
    },
    "kernelspec": {
      "name": "python3",
      "display_name": "Python 3"
    },
    "language_info": {
      "name": "python"
    }
  },
  "cells": [
    {
      "cell_type": "code",
      "metadata": {
        "id": "sNZei6fEXKVt"
      },
      "source": [
        "import numpy as np"
      ],
      "execution_count": 1,
      "outputs": []
    },
    {
      "cell_type": "code",
      "metadata": {
        "colab": {
          "base_uri": "https://localhost:8080/"
        },
        "id": "Nia7vdyCXarI",
        "outputId": "ca418151-6670-471c-9b6f-de54948a5e28"
      },
      "source": [
        "index_inputs = np.load(open('./train_inputs.npy', 'rb'))\n",
        "index_outputs = np.load(open('./train_outputs.npy', 'rb'))\n",
        "index_targets = np.load(open('./train_targets.npy', 'rb'))\n",
        "type(index_inputs)"
      ],
      "execution_count": 27,
      "outputs": [
        {
          "output_type": "execute_result",
          "data": {
            "text/plain": [
              "numpy.ndarray"
            ]
          },
          "metadata": {},
          "execution_count": 27
        }
      ]
    },
    {
      "cell_type": "code",
      "metadata": {
        "colab": {
          "base_uri": "https://localhost:8080/"
        },
        "id": "4yKPGw4MXpEW",
        "outputId": "30f8db17-b644-4f3c-86ca-07f099adb0ee"
      },
      "source": [
        "index_inputs[3:5]"
      ],
      "execution_count": 3,
      "outputs": [
        {
          "output_type": "execute_result",
          "data": {
            "text/plain": [
              "array([[ 20,  30, 107,   0,   0,   0,   0,   0,   0,   0,   0,   0,   0,\n",
              "          0,   0,   0,   0,   0,   0,   0,   0,   0,   0,   0,   0],\n",
              "       [ 93,   7,  79,   0,   0,   0,   0,   0,   0,   0,   0,   0,   0,\n",
              "          0,   0,   0,   0,   0,   0,   0,   0,   0,   0,   0,   0]])"
            ]
          },
          "metadata": {},
          "execution_count": 3
        }
      ]
    },
    {
      "cell_type": "code",
      "metadata": {
        "colab": {
          "base_uri": "https://localhost:8080/"
        },
        "id": "2woWKOTdXtYY",
        "outputId": "3edbd900-a805-4095-90cf-692d77475260"
      },
      "source": [
        "!python -m pip install konlpy"
      ],
      "execution_count": 4,
      "outputs": [
        {
          "output_type": "stream",
          "text": [
            "Collecting konlpy\n",
            "  Downloading konlpy-0.5.2-py2.py3-none-any.whl (19.4 MB)\n",
            "\u001b[K     |████████████████████████████████| 19.4 MB 1.3 MB/s \n",
            "\u001b[?25hRequirement already satisfied: tweepy>=3.7.0 in /usr/local/lib/python3.7/dist-packages (from konlpy) (3.10.0)\n",
            "Requirement already satisfied: lxml>=4.1.0 in /usr/local/lib/python3.7/dist-packages (from konlpy) (4.2.6)\n",
            "Collecting beautifulsoup4==4.6.0\n",
            "  Downloading beautifulsoup4-4.6.0-py3-none-any.whl (86 kB)\n",
            "\u001b[K     |████████████████████████████████| 86 kB 5.3 MB/s \n",
            "\u001b[?25hCollecting colorama\n",
            "  Downloading colorama-0.4.4-py2.py3-none-any.whl (16 kB)\n",
            "Requirement already satisfied: numpy>=1.6 in /usr/local/lib/python3.7/dist-packages (from konlpy) (1.19.5)\n",
            "Collecting JPype1>=0.7.0\n",
            "  Downloading JPype1-1.3.0-cp37-cp37m-manylinux_2_5_x86_64.manylinux1_x86_64.whl (448 kB)\n",
            "\u001b[K     |████████████████████████████████| 448 kB 57.1 MB/s \n",
            "\u001b[?25hRequirement already satisfied: typing-extensions in /usr/local/lib/python3.7/dist-packages (from JPype1>=0.7.0->konlpy) (3.7.4.3)\n",
            "Requirement already satisfied: requests[socks]>=2.11.1 in /usr/local/lib/python3.7/dist-packages (from tweepy>=3.7.0->konlpy) (2.23.0)\n",
            "Requirement already satisfied: six>=1.10.0 in /usr/local/lib/python3.7/dist-packages (from tweepy>=3.7.0->konlpy) (1.15.0)\n",
            "Requirement already satisfied: requests-oauthlib>=0.7.0 in /usr/local/lib/python3.7/dist-packages (from tweepy>=3.7.0->konlpy) (1.3.0)\n",
            "Requirement already satisfied: oauthlib>=3.0.0 in /usr/local/lib/python3.7/dist-packages (from requests-oauthlib>=0.7.0->tweepy>=3.7.0->konlpy) (3.1.1)\n",
            "Requirement already satisfied: certifi>=2017.4.17 in /usr/local/lib/python3.7/dist-packages (from requests[socks]>=2.11.1->tweepy>=3.7.0->konlpy) (2021.5.30)\n",
            "Requirement already satisfied: chardet<4,>=3.0.2 in /usr/local/lib/python3.7/dist-packages (from requests[socks]>=2.11.1->tweepy>=3.7.0->konlpy) (3.0.4)\n",
            "Requirement already satisfied: idna<3,>=2.5 in /usr/local/lib/python3.7/dist-packages (from requests[socks]>=2.11.1->tweepy>=3.7.0->konlpy) (2.10)\n",
            "Requirement already satisfied: urllib3!=1.25.0,!=1.25.1,<1.26,>=1.21.1 in /usr/local/lib/python3.7/dist-packages (from requests[socks]>=2.11.1->tweepy>=3.7.0->konlpy) (1.24.3)\n",
            "Requirement already satisfied: PySocks!=1.5.7,>=1.5.6 in /usr/local/lib/python3.7/dist-packages (from requests[socks]>=2.11.1->tweepy>=3.7.0->konlpy) (1.7.1)\n",
            "Installing collected packages: JPype1, colorama, beautifulsoup4, konlpy\n",
            "  Attempting uninstall: beautifulsoup4\n",
            "    Found existing installation: beautifulsoup4 4.6.3\n",
            "    Uninstalling beautifulsoup4-4.6.3:\n",
            "      Successfully uninstalled beautifulsoup4-4.6.3\n",
            "Successfully installed JPype1-1.3.0 beautifulsoup4-4.6.0 colorama-0.4.4 konlpy-0.5.2\n"
          ],
          "name": "stdout"
        }
      ]
    },
    {
      "cell_type": "code",
      "metadata": {
        "id": "dNIpr_14qK9j"
      },
      "source": [
        "# preprocess.py 파일 로드\n",
        "import preprocess as pp"
      ],
      "execution_count": 8,
      "outputs": []
    },
    {
      "cell_type": "code",
      "metadata": {
        "colab": {
          "base_uri": "https://localhost:8080/"
        },
        "id": "3NJi7xYUqNNj",
        "outputId": "dc84bbb5-54af-47ee-89b8-a50c8ca72628"
      },
      "source": [
        "prepro_configs = pp.json.load(open('./data_configs.json', 'r'))\n",
        "type(prepro_configs)"
      ],
      "execution_count": 11,
      "outputs": [
        {
          "output_type": "execute_result",
          "data": {
            "text/plain": [
              "dict"
            ]
          },
          "metadata": {},
          "execution_count": 11
        }
      ]
    },
    {
      "cell_type": "code",
      "metadata": {
        "colab": {
          "base_uri": "https://localhost:8080/"
        },
        "id": "QbiPRFiSqu8b",
        "outputId": "cf7fa950-9c29-4011-ec4b-ab08e0e446b2"
      },
      "source": [
        "prepro_configs.keys()"
      ],
      "execution_count": 12,
      "outputs": [
        {
          "output_type": "execute_result",
          "data": {
            "text/plain": [
              "dict_keys(['char2idx', 'idx2char', 'vocab_size', 'pad_symbol', 'std_symbol', 'end_symbol', 'unk_symbol'])"
            ]
          },
          "metadata": {},
          "execution_count": 12
        }
      ]
    },
    {
      "cell_type": "markdown",
      "metadata": {
        "id": "pDdtNUiiq4im"
      },
      "source": [
        "## Make model\n",
        "```\n",
        "Encoder -> context -> Decoder\n",
        "input                 input\n",
        "Embedding             Embedding\n",
        "LSTM                  LSTM\n",
        "```"
      ]
    },
    {
      "cell_type": "code",
      "metadata": {
        "id": "k1ftBDtqq352"
      },
      "source": [
        "import tensorflow as tf"
      ],
      "execution_count": 13,
      "outputs": []
    },
    {
      "cell_type": "markdown",
      "metadata": {
        "id": "1tH8fOantu8h"
      },
      "source": [
        "### encode model"
      ]
    },
    {
      "cell_type": "code",
      "metadata": {
        "id": "41XhLTQcuPYW"
      },
      "source": [
        "vocab_size = prepro_configs['vocab_size']\n",
        "latent_dim = 60"
      ],
      "execution_count": 17,
      "outputs": []
    },
    {
      "cell_type": "code",
      "metadata": {
        "id": "w3VLc4asttQh"
      },
      "source": [
        "encode_input = tf.keras.Input(shape=(None, ))\n",
        "encode_hidden = tf.keras.layers.Embedding(input_dim=vocab_size, output_dim=latent_dim)(encode_input)\n",
        "encode_output, state_h, state_c = tf.keras.layers.LSTM(50, return_state=True)(encode_hidden)\n",
        "encode_states = [state_h, state_c]\n",
        "\n",
        "# return_state=True 해주면 parameter(자기 상태 값)가 3개 날라옴."
      ],
      "execution_count": 22,
      "outputs": []
    },
    {
      "cell_type": "markdown",
      "metadata": {
        "id": "OwkUtiM1v7aj"
      },
      "source": [
        "### decode model"
      ]
    },
    {
      "cell_type": "code",
      "metadata": {
        "id": "UDFfqWZgutOp"
      },
      "source": [
        "decode_input = tf.keras.Input(shape=(None,))\n",
        "decode_hidden = tf.keras.layers.Embedding(input_dim=vocab_size, output_dim=latent_dim)(decode_input)\n",
        "decode_lstm, _, _ = tf.keras.layers.LSTM(50, return_state=True, return_sequences=True)(decode_hidden, initial_state=encode_states)\n",
        "decode_output = tf.keras.layers.Dense(vocab_size, activation='softmax')(decode_lstm)"
      ],
      "execution_count": 23,
      "outputs": []
    },
    {
      "cell_type": "code",
      "metadata": {
        "id": "LkfxcZMDzNzQ"
      },
      "source": [
        "model = tf.keras.models.Model(inputs=[encode_input, decode_input] , outputs=decode_output )"
      ],
      "execution_count": 24,
      "outputs": []
    },
    {
      "cell_type": "code",
      "metadata": {
        "colab": {
          "base_uri": "https://localhost:8080/",
          "height": 466
        },
        "id": "8ZTfh1Cg0Sw1",
        "outputId": "2af87a5f-2974-4cd9-e5fb-a8921b54277b"
      },
      "source": [
        "tf.keras.utils.plot_model(model)"
      ],
      "execution_count": 25,
      "outputs": [
        {
          "output_type": "execute_result",
          "data": {
            "image/png": "[encoded data removed]",
            "text/plain": [
              "<IPython.core.display.Image object>"
            ]
          },
          "metadata": {},
          "execution_count": 25
        }
      ]
    },
    {
      "cell_type": "code",
      "metadata": {
        "id": "nBPy5HC20TZA"
      },
      "source": [
        "model.compile(optimizer='adam', loss='sparse_categorical_crossentropy', metrics=['acc'])"
      ],
      "execution_count": 26,
      "outputs": []
    },
    {
      "cell_type": "markdown",
      "metadata": {
        "id": "dqmJ602W40KU"
      },
      "source": [
        "## fit"
      ]
    },
    {
      "cell_type": "code",
      "metadata": {
        "colab": {
          "base_uri": "https://localhost:8080/"
        },
        "id": "vDd-AKpt4nFu",
        "outputId": "df41133c-c9eb-4cfa-b950-a98b24a7cfe5"
      },
      "source": [
        "model.fit(x=[index_inputs, index_outputs], y=index_targets, batch_size=128, epochs=50)"
      ],
      "execution_count": 28,
      "outputs": [
        {
          "output_type": "stream",
          "text": [
            "Epoch 1/50\n",
            "1/1 [==============================] - 4s 4s/step - loss: 4.7080 - acc: 0.0000e+00\n",
            "Epoch 2/50\n",
            "1/1 [==============================] - 0s 33ms/step - loss: 4.6927 - acc: 0.0240\n",
            "Epoch 3/50\n",
            "1/1 [==============================] - 0s 33ms/step - loss: 4.6770 - acc: 0.8220\n",
            "Epoch 4/50\n",
            "1/1 [==============================] - 0s 32ms/step - loss: 4.6605 - acc: 0.8180\n",
            "Epoch 5/50\n",
            "1/1 [==============================] - 0s 33ms/step - loss: 4.6428 - acc: 0.8180\n",
            "Epoch 6/50\n",
            "1/1 [==============================] - 0s 34ms/step - loss: 4.6233 - acc: 0.8180\n",
            "Epoch 7/50\n",
            "1/1 [==============================] - 0s 43ms/step - loss: 4.6016 - acc: 0.8180\n",
            "Epoch 8/50\n",
            "1/1 [==============================] - 0s 35ms/step - loss: 4.5768 - acc: 0.8180\n",
            "Epoch 9/50\n",
            "1/1 [==============================] - 0s 36ms/step - loss: 4.5481 - acc: 0.8180\n",
            "Epoch 10/50\n",
            "1/1 [==============================] - 0s 40ms/step - loss: 4.5143 - acc: 0.8180\n",
            "Epoch 11/50\n",
            "1/1 [==============================] - 0s 41ms/step - loss: 4.4740 - acc: 0.8180\n",
            "Epoch 12/50\n",
            "1/1 [==============================] - 0s 53ms/step - loss: 4.4250 - acc: 0.8180\n",
            "Epoch 13/50\n",
            "1/1 [==============================] - 0s 43ms/step - loss: 4.3646 - acc: 0.8180\n",
            "Epoch 14/50\n",
            "1/1 [==============================] - 0s 39ms/step - loss: 4.2889 - acc: 0.8180\n",
            "Epoch 15/50\n",
            "1/1 [==============================] - 0s 39ms/step - loss: 4.1928 - acc: 0.8180\n",
            "Epoch 16/50\n",
            "1/1 [==============================] - 0s 38ms/step - loss: 4.0702 - acc: 0.8180\n",
            "Epoch 17/50\n",
            "1/1 [==============================] - 0s 41ms/step - loss: 3.9150 - acc: 0.8180\n",
            "Epoch 18/50\n",
            "1/1 [==============================] - 0s 38ms/step - loss: 3.7247 - acc: 0.8180\n",
            "Epoch 19/50\n",
            "1/1 [==============================] - 0s 36ms/step - loss: 3.5043 - acc: 0.8180\n",
            "Epoch 20/50\n",
            "1/1 [==============================] - 0s 36ms/step - loss: 3.2679 - acc: 0.8180\n",
            "Epoch 21/50\n",
            "1/1 [==============================] - 0s 43ms/step - loss: 3.0340 - acc: 0.8180\n",
            "Epoch 22/50\n",
            "1/1 [==============================] - 0s 40ms/step - loss: 2.8171 - acc: 0.8180\n",
            "Epoch 23/50\n",
            "1/1 [==============================] - 0s 35ms/step - loss: 2.6243 - acc: 0.8180\n",
            "Epoch 24/50\n",
            "1/1 [==============================] - 0s 38ms/step - loss: 2.4559 - acc: 0.8180\n",
            "Epoch 25/50\n",
            "1/1 [==============================] - 0s 36ms/step - loss: 2.3082 - acc: 0.8180\n",
            "Epoch 26/50\n",
            "1/1 [==============================] - 0s 37ms/step - loss: 2.1768 - acc: 0.8180\n",
            "Epoch 27/50\n",
            "1/1 [==============================] - 0s 41ms/step - loss: 2.0578 - acc: 0.8180\n",
            "Epoch 28/50\n",
            "1/1 [==============================] - 0s 37ms/step - loss: 1.9483 - acc: 0.8180\n",
            "Epoch 29/50\n",
            "1/1 [==============================] - 0s 42ms/step - loss: 1.8470 - acc: 0.8180\n",
            "Epoch 30/50\n",
            "1/1 [==============================] - 0s 44ms/step - loss: 1.7529 - acc: 0.8180\n",
            "Epoch 31/50\n",
            "1/1 [==============================] - 0s 38ms/step - loss: 1.6659 - acc: 0.8180\n",
            "Epoch 32/50\n",
            "1/1 [==============================] - 0s 43ms/step - loss: 1.5857 - acc: 0.8180\n",
            "Epoch 33/50\n",
            "1/1 [==============================] - 0s 41ms/step - loss: 1.5123 - acc: 0.8180\n",
            "Epoch 34/50\n",
            "1/1 [==============================] - 0s 46ms/step - loss: 1.4455 - acc: 0.8180\n",
            "Epoch 35/50\n",
            "1/1 [==============================] - 0s 38ms/step - loss: 1.3851 - acc: 0.8180\n",
            "Epoch 36/50\n",
            "1/1 [==============================] - 0s 42ms/step - loss: 1.3308 - acc: 0.8180\n",
            "Epoch 37/50\n",
            "1/1 [==============================] - 0s 32ms/step - loss: 1.2821 - acc: 0.8180\n",
            "Epoch 38/50\n",
            "1/1 [==============================] - 0s 42ms/step - loss: 1.2385 - acc: 0.8180\n",
            "Epoch 39/50\n",
            "1/1 [==============================] - 0s 39ms/step - loss: 1.1994 - acc: 0.8180\n",
            "Epoch 40/50\n",
            "1/1 [==============================] - 0s 37ms/step - loss: 1.1642 - acc: 0.8180\n",
            "Epoch 41/50\n",
            "1/1 [==============================] - 0s 41ms/step - loss: 1.1323 - acc: 0.8180\n",
            "Epoch 42/50\n",
            "1/1 [==============================] - 0s 40ms/step - loss: 1.1033 - acc: 0.8180\n",
            "Epoch 43/50\n",
            "1/1 [==============================] - 0s 35ms/step - loss: 1.0766 - acc: 0.8180\n",
            "Epoch 44/50\n",
            "1/1 [==============================] - 0s 38ms/step - loss: 1.0521 - acc: 0.8180\n",
            "Epoch 45/50\n",
            "1/1 [==============================] - 0s 36ms/step - loss: 1.0297 - acc: 0.8180\n",
            "Epoch 46/50\n",
            "1/1 [==============================] - 0s 38ms/step - loss: 1.0094 - acc: 0.8180\n",
            "Epoch 47/50\n",
            "1/1 [==============================] - 0s 41ms/step - loss: 0.9914 - acc: 0.8180\n",
            "Epoch 48/50\n",
            "1/1 [==============================] - 0s 38ms/step - loss: 0.9757 - acc: 0.8180\n",
            "Epoch 49/50\n",
            "1/1 [==============================] - 0s 36ms/step - loss: 0.9622 - acc: 0.8180\n",
            "Epoch 50/50\n",
            "1/1 [==============================] - 0s 36ms/step - loss: 0.9508 - acc: 0.8180\n"
          ],
          "name": "stdout"
        },
        {
          "output_type": "execute_result",
          "data": {
            "text/plain": [
              "<keras.callbacks.History at 0x7fe9fe462650>"
            ]
          },
          "metadata": {},
          "execution_count": 28
        }
      ]
    },
    {
      "cell_type": "markdown",
      "metadata": {
        "id": "jy0r8Xlv5fyb"
      },
      "source": [
        "reference : https://github.com/NLP-kr/tensorflow-ml-nlp-tf2/blob/master/6.CHATBOT/6.4.seq2seq.ipynb"
      ]
    },
    {
      "cell_type": "code",
      "metadata": {
        "id": "VxOOMWGv49or"
      },
      "source": [
        ""
      ],
      "execution_count": null,
      "outputs": []
    }
  ]
}