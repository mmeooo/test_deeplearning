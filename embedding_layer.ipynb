{
  "nbformat": 4,
  "nbformat_minor": 0,
  "metadata": {
    "colab": {
      "name": "embedding_layer.ipynb",
      "provenance": [],
      "collapsed_sections": [],
      "authorship_tag": "ABX9TyMnWMUFd7TkicMeMCmWxUtf"
    },
    "kernelspec": {
      "name": "python3",
      "display_name": "Python 3"
    },
    "language_info": {
      "name": "python"
    }
  },
  "cells": [
    {
      "cell_type": "markdown",
      "metadata": {
        "id": "0g_KwbBvv0Pb"
      },
      "source": [
        "    여자는 여왕이 될 수 있다\n",
        "    남자는 국왕이 된다\n",
        "    남자와 여자는 결혼을 한다\n",
        "\n",
        "    여자- 4 : 여왕 > 결혼\n",
        "    여왕- 5 : 여자 > 결혼\n",
        "    남자- 10 : 국왕 > 결혼\n",
        "    국왕- 20 : 남자 > 결혼\n",
        "    결혼- 25 : 남자 = 여자"
      ]
    },
    {
      "cell_type": "code",
      "metadata": {
        "id": "Ihc5HmGFonfI"
      },
      "source": [
        "import tensorflow as tf"
      ],
      "execution_count": 1,
      "outputs": []
    },
    {
      "cell_type": "code",
      "metadata": {
        "colab": {
          "base_uri": "https://localhost:8080/"
        },
        "id": "lS-5OOnXvU3g",
        "outputId": "29654cbd-6c2b-44a9-d53c-50efdce2c737"
      },
      "source": [
        "import numpy as np\n",
        "\n",
        "x_data =  np.array([[4], [20]]) # 4:여자, 20:국왕\n",
        "x_data, x_data.shape"
      ],
      "execution_count": 5,
      "outputs": [
        {
          "output_type": "execute_result",
          "data": {
            "text/plain": [
              "(array([[ 4],\n",
              "        [20]]), (2, 1))"
            ]
          },
          "metadata": {
            "tags": []
          },
          "execution_count": 5
        }
      ]
    },
    {
      "cell_type": "code",
      "metadata": {
        "id": "1hfxFGZGvawx"
      },
      "source": [
        "model = tf.keras.Sequential()\n",
        "\n",
        "#Input Layer\n",
        "model.add(tf.keras.layers.Embedding(50, 2, input_length=1)) # input 50차원, output 2차원\n",
        "\n",
        "# # Hidden Layer\n",
        "# model.add()\n",
        "\n",
        "# # Output Layer\n",
        "# model.add()\n",
        "\n",
        "model.compile(optimizer='adam', loss='mse')"
      ],
      "execution_count": 6,
      "outputs": []
    },
    {
      "cell_type": "code",
      "metadata": {
        "colab": {
          "base_uri": "https://localhost:8080/"
        },
        "id": "kTI_wjeUxq3q",
        "outputId": "d32b40fd-a11d-476e-ff96-08f653b841b8"
      },
      "source": [
        "model.predict(x_data)"
      ],
      "execution_count": 7,
      "outputs": [
        {
          "output_type": "execute_result",
          "data": {
            "text/plain": [
              "array([[[-0.03700086,  0.03667081]],\n",
              "\n",
              "       [[ 0.00792015,  0.01649712]]], dtype=float32)"
            ]
          },
          "metadata": {
            "tags": []
          },
          "execution_count": 7
        }
      ]
    },
    {
      "cell_type": "code",
      "metadata": {
        "id": "8fjswTKixt7l"
      },
      "source": [
        ""
      ],
      "execution_count": null,
      "outputs": []
    }
  ]
}